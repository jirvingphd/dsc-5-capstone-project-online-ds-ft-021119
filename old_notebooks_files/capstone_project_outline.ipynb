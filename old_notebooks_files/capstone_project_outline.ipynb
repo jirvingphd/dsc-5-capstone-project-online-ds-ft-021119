{
 "cells": [
  {
   "cell_type": "markdown",
   "metadata": {
    "toc": true
   },
   "source": [
    "<h1>Table of Contents<span class=\"tocSkip\"></span></h1>\n",
    "<div class=\"toc\"><ul class=\"toc-item\"><li><span><a href=\"#MOD-5-FINAL-PROJECT---WIP\" data-toc-modified-id=\"MOD-5-FINAL-PROJECT---WIP-1\"><span class=\"toc-item-num\">1&nbsp;&nbsp;</span>MOD 5 FINAL PROJECT - WIP</a></span><ul class=\"toc-item\"><li><span><a href=\"#PROJECT-PLANNING-RESOURCES:\" data-toc-modified-id=\"PROJECT-PLANNING-RESOURCES:-1.1\"><span class=\"toc-item-num\">1.1&nbsp;&nbsp;</span>PROJECT PLANNING RESOURCES:</a></span></li></ul></li><li><span><a href=\"#PROJECT-OUTLINE:\" data-toc-modified-id=\"PROJECT-OUTLINE:-2\"><span class=\"toc-item-num\">2&nbsp;&nbsp;</span>PROJECT OUTLINE:</a></span><ul class=\"toc-item\"><li><span><a href=\"#Data-to-Use:\" data-toc-modified-id=\"Data-to-Use:-2.1\"><span class=\"toc-item-num\">2.1&nbsp;&nbsp;</span>Data to Use:</a></span></li><li><span><a href=\"#MAJOR-REFERENCES-/-INSPIRATION-/-PRIOR-WORK-IN-FIELD:\" data-toc-modified-id=\"MAJOR-REFERENCES-/-INSPIRATION-/-PRIOR-WORK-IN-FIELD:-2.2\"><span class=\"toc-item-num\">2.2&nbsp;&nbsp;</span>MAJOR REFERENCES / INSPIRATION / PRIOR WORK IN FIELD:</a></span></li><li><span><a href=\"#OUTLINE-FOR-DATA-TO-PRODUCE-&amp;-MODEL-FOR-FINAL-PROJECT:\" data-toc-modified-id=\"OUTLINE-FOR-DATA-TO-PRODUCE-&amp;-MODEL-FOR-FINAL-PROJECT:-2.3\"><span class=\"toc-item-num\">2.3&nbsp;&nbsp;</span>OUTLINE FOR DATA TO PRODUCE &amp; MODEL FOR FINAL PROJECT:</a></span><ul class=\"toc-item\"><li><span><a href=\"#TWITTER-DATA:\" data-toc-modified-id=\"TWITTER-DATA:-2.3.1\"><span class=\"toc-item-num\">2.3.1&nbsp;&nbsp;</span>TWITTER DATA:</a></span></li><li><span><a href=\"#STOCK-MARKET-DATA-(S&amp;P-500):\" data-toc-modified-id=\"STOCK-MARKET-DATA-(S&amp;P-500):-2.3.2\"><span class=\"toc-item-num\">2.3.2&nbsp;&nbsp;</span>STOCK MARKET DATA (S&amp;P 500):</a></span></li><li><span><a href=\"#FINAL-MODEL---FEED-ALL-ABOVE-FEATURES-INTO:\" data-toc-modified-id=\"FINAL-MODEL---FEED-ALL-ABOVE-FEATURES-INTO:-2.3.3\"><span class=\"toc-item-num\">2.3.3&nbsp;&nbsp;</span>FINAL MODEL - FEED ALL ABOVE FEATURES INTO:</a></span></li></ul></li></ul></li><li><span><a href=\"#Analysis-Details-and-Functions\" data-toc-modified-id=\"Analysis-Details-and-Functions-3\"><span class=\"toc-item-num\">3&nbsp;&nbsp;</span>Analysis Details and Functions</a></span></li></ul></div>"
   ]
  },
  {
   "cell_type": "markdown",
   "metadata": {},
   "source": [
    "# MOD 5 FINAL PROJECT - WIP\n",
    "- James M. Irving, Ph.D.\n",
    "- 06/20/19\n",
    "\n",
    "## PROJECT PLANNING RESOURCES:\n",
    "- **Evernote Workspace**\n",
    "    - [Share Link](https://www.evernote.com/l/AApWewNhyUtJBoqBwXnLLFqPLjaKJyMsicc/)\n",
    "    - [Evernote App Link](https://www.evernote.com/shard/s10/nl/1266241/567b0361-c94b-4906-8a81-c179cb2c5a8f)\n",
    "    \n",
    "- [Model Details Note On Evernote](https://www.evernote.com/l/AAoXpBInfeRBNYowdyzvcgBa0oQM-RCRMIw/)"
   ]
  },
  {
   "cell_type": "markdown",
   "metadata": {},
   "source": [
    "\n",
    "# PROJECT OUTLINE:\n",
    "\n",
    "* **Use President Trump's tweets (NLP and other features) to predict fluctuations in the stock market (using S&P 500 as index).**\n",
    "\n",
    "    \n",
    "## Data to Use:\n",
    "\n",
    "* All Donald Trump tweets from inaugaration day 2017 to today (for now) - 06/20/19\n",
    "\n",
    "    *          Extracted from http://www.trumptwitterarchive.com/\n",
    "*     Minute-resolution data for the S&P500 covering the same time period.\n",
    "\n",
    "    *         IVE S&P500 Index from - http://www.kibot.com/free_historical_data.aspx\n",
    "    \n",
    "## MAJOR REFERENCES / INSPIRATION / PRIOR WORK IN FIELD:\n",
    "\n",
    "1. **Stanford Scientific Poster Using NLP ALONE to predict if stock prices increase or decrease 5 mins after Trump tweets.**  [Poster PDF LINK](http://cs229.stanford.edu/proj2017/final-posters/5140843.pdf)\n",
    "    - [Evernote Summary Notes Link](https://www.evernote.com/l/AAoL1CyhPV1GoIzSgq59GO10x6xfEeVDo5s/)\n",
    "\n",
    "2. **TowardsDataScience Blog Plost on \"Using the latest advancements in deep learning to predict stock price movements.\"** [Blog Post link](https://towardsdatascience.com/aifortrading-2edd6fac689d)\n",
    "    - [Evernote Summary](https://www.evernote.com/l/AApvQ8Xh8b9GBLhrD0m8w4H1ih1oVM8wkEw/)\n",
    "\n",
    "\n",
    "## OUTLINE FOR DATA TO PRODUCE & MODEL FOR FINAL PROJECT:\n",
    "\n",
    "### TWITTER DATA:\n",
    "\n",
    "* [ENGINEER FEATURES] **Extract features from Trump's tweets: perform the NLP analysis to generate the features about his tweets to use in final model**\n",
    "\n",
    "    * [ ] Tweet sentiment score\n",
    "    * [ ] Tweet frequency per timebin\n",
    "    * [ ] upper-to-lowercase-ratio\n",
    "    * [ ] retweet-count\n",
    "    * [ ] favorite-count\n",
    "    \n",
    "* [PREDICTIVE MODEL] **Generate Binary Stock Market Predictions based on Trump's Tweets.**\n",
    "\n",
    "    * [ ] Create a neural network model like the Stanford guys, where my model JUST uses the content of trump's tweets with word embeddings and a binary label (-1, 0,1) for direction of stock market change at a fixed time delta (they did 5 mins, I will do 1 hour) [ See reference #1 - stanford poster]\n",
    "  \n",
    "\n",
    "\n",
    "\n",
    "### STOCK MARKET DATA (S&P 500):\n",
    "\n",
    "* [ENGINEER FEATURES] **Extract features about the stock data -calculate the technical indices for the S&P 500 discussed in his article.**  [ see reference #2 - blog post ]\n",
    "\n",
    "    * [ ] 7 days moving average \n",
    "    * [ ]  21 days moving average\n",
    "    * [ ] exponential moving average\n",
    "    * [ ] momentum\n",
    "    * [ ] Bollinger bands\n",
    "    * [ ] MACD\n",
    "    * (Maybe) FFT / time series decomp for trend lines\n",
    "    \n",
    "* [PREDICTIVE MODEL] **Generate stock price predictions based only historical data using....**\n",
    "\n",
    "    * [ ] an ARIMA model[?]\n",
    "    * [ ] a FB Prophet model[?] \n",
    "    * [ ] an LSTM neural network like other blog post?  [!!!] Predicting the Stock Market Using Machine Learning and Deep Learning\n",
    "    \n",
    "### FINAL MODEL - FEED ALL ABOVE FEATURES INTO:\n",
    "\n",
    "- **Plan A: NEURAL NETWORK *REGRESSION* MODEL TO PREDICT *ACTUAL S&P 500 PRICE* AT 1 HOUR-1 DAY FOLLOWING TWEETS**\n",
    "    - Final Model Target is based more on blog post's construction (ref#2), but takes output of model like ref#1\n",
    "    \n",
    "    <img src=\"https://raw.githubusercontent.com/jirvingphd/dsc-5-capstone-project-online-ds-ft-021119/master/figures/annotated_GAN_for_stock_market.jpeg\" width=1000>\n",
    "    \n",
    "- **PLAN B: NEURAL NETWORK *BINARY CLASSIFICATION*  MODEL TO PREDICT THE *DIRECTION OF CHANGE FOR S&P 500 PRICE* AT 1 HOUR - 1 DAY FOLLOWING TWEETS**\n",
    "    - Final Model Target is based on stanford poster's methods/goal. (ref #1)\n",
    "\n",
    "\n"
   ]
  },
  {
   "cell_type": "markdown",
   "metadata": {},
   "source": [
    "___"
   ]
  },
  {
   "cell_type": "markdown",
   "metadata": {},
   "source": [
    "# Analysis Details and Functions"
   ]
  },
  {
   "cell_type": "markdown",
   "metadata": {},
   "source": [
    "\n",
    "\t1. []Technical Indicators\n",
    "\n",
    "\t\t* \n",
    "[]7 and 21 day moving averages \n",
    "\n",
    "\t\t\t* \n",
    "Use pandas  df['ma7'] df['price'].rolling(window = 7 ).mean() #if it is daily dataframe, otherwise window is different\n",
    "\t\t\t* \n",
    "Use pandas  df['ma21'] df['price'].rolling(window = 21).mean() #if it is daily dataframe otherwise window is different\n",
    "\t\t* \n",
    "[]MACD(Moving Average Convergence Divergence)\n",
    "\n",
    "\t\t\t* \n",
    "Moving Average Convergence Divergence (MACD) is a trend-following momentumindicator that shows the relationship between two moving averages of a security’s price. The MACD is calculated by subtracting the 26-period Exponential Moving Average (EMA) from the 12-period EMA. The result of that calculation is the MACD line. A nine-day EMA of the MACD, called the \"signal line,\" is then plotted on top of the MACD line, which can function as a trigger for buy and sell signals. Traders may buy the security when the MACD crosses above its signal line and sell - or short - the security when the MACD crosses below the signal line. Moving Average Convergence Divergence (MACD) indicators can be interpreted in several ways, but the more common methods are crossovers, divergences, and rapid rises/falls.\n",
    "\t\t\t* \n",
    "[]Use pandas df['ewma26'] = pd.ewma(df['price'], span=26); df['ewma12'] = pd.ewma(df['price'], span=12)\n",
    "\t\t* \n",
    "[] exponentially weighted moving average \n",
    "\n",
    "\t\t\t* \n",
    "dataset['ema'] = dataset['price'].ewm(com=0.5).mean()\n",
    "\t\t* \n",
    "[]Bollinger bands\n",
    "\n",
    "\t\t\t* \n",
    "\"Bollinger Bands® are a popular technical indicators used by traders in all markets, including stocks, futures and currencies. There are a number of uses for Bollinger Bands®, including determining overbought and oversold levels, as a trend following tool, and monitoring for breakouts. There are also some pitfalls of the indicators. In this article, we will address all these areas.\"\n",
    "\t\t\t* \n",
    "Bollinger bands are composed of three lines. One of the more common calculations of Bollinger Bands uses a 20-day simple moving average (SMA) for the middle band. The upper band is calculated by taking the middle band and adding twice the daily standard deviation, the lower band is the same but subtracts twice the daily std. \n",
    "\n",
    "\t\t\t\t* \n",
    "\n",
    "\t\t* \n",
    "[]Momentum\n",
    "\n",
    "\t\t\t* \n",
    "\"Momentum is the rate of acceleration of a security's price or volume – that is, the speed at which the price is changing. Simply put, it refers to the rate of change on price movements for a particular asset and is usually defined as a rate. In technical analysis, momentum is considered an oscillator and is used to help identify trend lines.\"\n",
    "\t\t\t* \n",
    "\n",
    "\n"
   ]
  },
  {
   "cell_type": "code",
   "execution_count": null,
   "metadata": {},
   "outputs": [],
   "source": [
    "#"
   ]
  }
 ],
 "metadata": {
  "kernelspec": {
   "display_name": "learn-env-ext",
   "language": "python",
   "name": "learn-env-ext"
  },
  "language_info": {
   "codemirror_mode": {
    "name": "ipython",
    "version": 3
   },
   "file_extension": ".py",
   "mimetype": "text/x-python",
   "name": "python",
   "nbconvert_exporter": "python",
   "pygments_lexer": "ipython3",
   "version": "3.6.8"
  },
  "toc": {
   "base_numbering": 1,
   "nav_menu": {},
   "number_sections": true,
   "sideBar": true,
   "skip_h1_title": false,
   "title_cell": "Table of Contents",
   "title_sidebar": "Contents",
   "toc_cell": true,
   "toc_position": {},
   "toc_section_display": true,
   "toc_window_display": true
  }
 },
 "nbformat": 4,
 "nbformat_minor": 2
}
