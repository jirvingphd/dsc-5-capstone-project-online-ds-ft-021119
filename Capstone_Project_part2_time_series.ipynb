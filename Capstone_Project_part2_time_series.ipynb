{
 "cells": [
  {
   "cell_type": "markdown",
   "metadata": {
    "colab_type": "text",
    "id": "mHDiTjr5lm_U"
   },
   "source": [
    "# PROJECT OVERVIEW\n",
    "\n",
    "James M. Irving\n",
    "\n",
    "Flatiron Full Time Data Science 021119 Cohort\n"
   ]
  },
  {
   "cell_type": "markdown",
   "metadata": {},
   "source": [
    ">- **Note: this notebook (`Capstone_Project_part1_time_series.ipynb`) is one of 3 project notebooks..** \n",
    "    1. **Tweet Preprocessing and NLP Classifications**\n",
    "    2. Time Series Modeling of S&P 500\n",
    "    3. Combined NLP + Time Series Modeling with S&P500 and Trump's Tweets"
   ]
  },
  {
   "cell_type": "markdown",
   "metadata": {},
   "source": [
    "# 📚 ABSTRACT:\n",
    "\n",
    "> Stock Market prices are notoriously difficult to model, but advances in machine learning algorithms in recent years provide renewed possibilities in accurately modeling market performance. One notable addition in modern machine learning is that of Natural Language Processing (NLP). For those modeling a specific stock, performing NLP feature extraction and analysis on the collection of news headlines, shareholder documents, or social media postings that mention the company can provide additional information about the human/social elements to predicting market behaviors. These insights could not be captured by historical price data and technical indicators alone.\n",
    "\n",
    "> President Donald J. Trump is one of the most prolific users of social media, specifically Twitter, using it as a direct messaging channel to his followers, avoiding the traditional filtering and restriction that normally controls the public influence of the President of the United States. An additional element of the presidency that Trump has avoided is that of financial transparency and divesting of assets. Historically, this is done in order to avoid conflicts of interest, apparent or actual. The president is also known to target companies directly with his Tweets, advocating for specific changes/decisions by the company, or simply airing his greivances. This leads to the natural question, how much influence *does* President Trump exert over the financial markets? \n",
    "\n",
    "> To explore this question, we built multiple types of models attempting to answer this question, using the S&P500 as our market index. First, we built a classification model to predict the change in stock price 60 mins after the tweet. We trained Word2Vec embeddings on President Trump's tweets since his election, which we used as the embedding layer for LSTM and GRU neural networks. \n",
    "\n",
    "> We next build a baseline time series regression model, using historical price data alone to predict price by trading-hour. We then built upon this, adding several technical indicators of market performance as additional features. \n",
    "Finally, we combined the predicitons of our classification model, as well as several other metrics about the tweets (sentiment scores, # of retweets/favorites, upper-to-lowercase ratio,etc.) to see if combining all of these sources of information could explain even more of the variance in stock market prices. \n",
    "\n"
   ]
  },
  {
   "cell_type": "markdown",
   "metadata": {},
   "source": [
    "## Table of Contents Legend"
   ]
  },
  {
   "cell_type": "markdown",
   "metadata": {},
   "source": [
    "- 📚: Info sections\n",
    "- 🕹: Coding sections\n",
    "    - 🎛: **yperparameters to tune**\n",
    "    - 🏋️: fitting models\n",
    "    - 🤔: New Things to Potentially Try \n",
    "- Use the Table of Contents view on the left sidebar to find the relevant sections (button looks like a bulleted list)"
   ]
  },
  {
   "cell_type": "markdown",
   "metadata": {
    "toc": true
   },
   "source": [
    "<h1>Table of Contents<span class=\"tocSkip\"></span></h1>\n",
    "<div class=\"toc\"><ul class=\"toc-item\"><li><span><a href=\"#PROJECT-OVERVIEW\" data-toc-modified-id=\"PROJECT-OVERVIEW-1\">PROJECT OVERVIEW</a></span></li><li><span><a href=\"#📚-ABSTRACT:\" data-toc-modified-id=\"📚-ABSTRACT:-2\">📚 ABSTRACT:</a></span><ul class=\"toc-item\"><li><span><a href=\"#Table-of-Contents-Legend\" data-toc-modified-id=\"Table-of-Contents-Legend-2.1\">Table of Contents Legend</a></span></li><li><span><a href=\"#📚-MAIN-QUESTION:\" data-toc-modified-id=\"📚-MAIN-QUESTION:-2.2\">📚 MAIN QUESTION:</a></span><ul class=\"toc-item\"><li><span><a href=\"#REFERENCES-/-INSPIRATION:\" data-toc-modified-id=\"REFERENCES-/-INSPIRATION:-2.2.1\">REFERENCES / INSPIRATION:</a></span></li></ul></li><li><span><a href=\"#OVERVIEW-OF-DATA/FEATURES-USED-PER-MODEL\" data-toc-modified-id=\"OVERVIEW-OF-DATA/FEATURES-USED-PER-MODEL-2.3\">OVERVIEW OF DATA/FEATURES USED PER MODEL</a></span><ul class=\"toc-item\"><li><span><a href=\"#FINAL-MODEL:-COMBINING-STOCK-MARKET-DATA,--NLP-CLASSIFICATION,-AND-OTHER-TWEET-METRICS\" data-toc-modified-id=\"FINAL-MODEL:-COMBINING-STOCK-MARKET-DATA,--NLP-CLASSIFICATION,-AND-OTHER-TWEET-METRICS-2.3.1\">FINAL MODEL: COMBINING STOCK MARKET DATA,  NLP CLASSIFICATION, AND OTHER TWEET METRICS</a></span></li></ul></li><li><span><a href=\"#OSEMN-FRAMEWORK\" data-toc-modified-id=\"OSEMN-FRAMEWORK-2.4\">OSEMN FRAMEWORK</a></span><ul class=\"toc-item\"><li><span><a href=\"#OBTAIN\" data-toc-modified-id=\"OBTAIN-2.4.1\"><a href=\"#OBTAIN\">OBTAIN</a></a></span></li><li><span><a href=\"#SCRUB\" data-toc-modified-id=\"SCRUB-2.4.2\"><a href=\"#SCRUB\">SCRUB</a></a></span></li><li><span><a href=\"#EXPLORE-/-VISUALIZE\" data-toc-modified-id=\"EXPLORE-/-VISUALIZE-2.4.3\"><a href=\"#EXPLORE/VISUALIZE\">EXPLORE / VISUALIZE</a></a></span></li><li><span><a href=\"#MODELING-(Initial)\" data-toc-modified-id=\"MODELING-(Initial)-2.4.4\"><a href=\"#INITIAL-MODELING\">MODELING (Initial)</a></a></span></li><li><span><a href=\"#iNTERPRETATION\" data-toc-modified-id=\"iNTERPRETATION-2.4.5\">iNTERPRETATION</a></span></li></ul></li></ul></li><li><span><a href=\"#OBTAIN\" data-toc-modified-id=\"OBTAIN-3\">OBTAIN</a></span><ul class=\"toc-item\"><li><ul class=\"toc-item\"><li><span><a href=\"#📚-DATA-SOURCES:\" data-toc-modified-id=\"📚-DATA-SOURCES:-3.0.1\">📚 DATA SOURCES:</a></span></li></ul></li></ul></li><li><span><a href=\"#SCRUB\" data-toc-modified-id=\"SCRUB-4\">SCRUB</a></span><ul class=\"toc-item\"><li><ul class=\"toc-item\"><li><span><a href=\"#Importing-Functions\" data-toc-modified-id=\"Importing-Functions-4.0.1\">Importing Functions</a></span></li></ul></li></ul></li><li><span><a href=\"#FORECASTING-STOCK-MARKET-PRICE\" data-toc-modified-id=\"FORECASTING-STOCK-MARKET-PRICE-5\">FORECASTING STOCK MARKET PRICE</a></span><ul class=\"toc-item\"><li><span><a href=\"#Loading-&amp;-Processing-Stock-Data-(SCRUB)\" data-toc-modified-id=\"Loading-&amp;-Processing-Stock-Data-(SCRUB)-5.1\">Loading &amp; Processing Stock Data (SCRUB)</a></span></li><li><span><a href=\"#Load-in-raw-text-file-with-minute-resolutin-S&amp;P-500-prices\" data-toc-modified-id=\"Load-in-raw-text-file-with-minute-resolutin-S&amp;P-500-prices-5.2\">Load in raw text file with minute-resolutin S&amp;P 500 prices</a></span></li></ul></li><li><span><a href=\"#BOOKMARK-06/18\" data-toc-modified-id=\"BOOKMARK-06/18-6\">BOOKMARK 06/18</a></span><ul class=\"toc-item\"><li><span><a href=\"#Model-1:-Using-Price-as-only-feature\" data-toc-modified-id=\"Model-1:-Using-Price-as-only-feature-6.1\">Model 1: Using Price as only feature</a></span><ul class=\"toc-item\"><li><span><a href=\"#Model-1-Summary\" data-toc-modified-id=\"Model-1-Summary-6.1.1\">Model 1 Summary</a></span></li></ul></li><li><span><a href=\"#Model-2:-Stock-Price-+-Technical-Indicators\" data-toc-modified-id=\"Model-2:-Stock-Price-+-Technical-Indicators-6.2\">Model 2: Stock Price + Technical Indicators</a></span><ul class=\"toc-item\"><li><span><a href=\"#Technical-Indicator-Details\" data-toc-modified-id=\"Technical-Indicator-Details-6.2.1\">Technical Indicator Details</a></span></li><li><span><a href=\"#Model-2:-Summary\" data-toc-modified-id=\"Model-2:-Summary-6.2.2\">Model 2: Summary</a></span></li></ul></li></ul></li><li><span><a href=\"#COMBINING-TWEET-STATS,-NLP-CLASSIFICATION,-AND-MARKET-DATA\" data-toc-modified-id=\"COMBINING-TWEET-STATS,-NLP-CLASSIFICATION,-AND-MARKET-DATA-7\">COMBINING TWEET STATS, NLP CLASSIFICATION, AND MARKET DATA</a></span><ul class=\"toc-item\"><li><ul class=\"toc-item\"><li><span><a href=\"#Loading-in-NLP-Model-for-Predictions\" data-toc-modified-id=\"Loading-in-NLP-Model-for-Predictions-7.0.1\">Loading in NLP Model for Predictions</a></span></li><li><span><a href=\"#Get-Predictions-for-Hour-Binned-Tweets\" data-toc-modified-id=\"Get-Predictions-for-Hour-Binned-Tweets-7.0.2\">Get Predictions for Hour-Binned Tweets</a></span></li></ul></li><li><span><a href=\"#Model-3:-Stock-Price-+-Indicators-+-NLP-Preds-&amp;-Tweet-Features\" data-toc-modified-id=\"Model-3:-Stock-Price-+-Indicators-+-NLP-Preds-&amp;-Tweet-Features-7.1\">Model 3: Stock Price + Indicators + NLP Preds &amp; Tweet Features</a></span><ul class=\"toc-item\"><li><span><a href=\"#Finalize-colums-for-final-model\" data-toc-modified-id=\"Finalize-colums-for-final-model-7.1.1\">Finalize colums for final model</a></span></li><li><span><a href=\"#Model-3-Summary\" data-toc-modified-id=\"Model-3-Summary-7.1.2\">Model 3 Summary</a></span></li></ul></li><li><span><a href=\"#Model-X:-XGB-Regression-+-Feature-Importance\" data-toc-modified-id=\"Model-X:-XGB-Regression-+-Feature-Importance-7.2\">Model X: XGB Regression + Feature Importance</a></span><ul class=\"toc-item\"><li><span><a href=\"#Model-Interpretation\" data-toc-modified-id=\"Model-Interpretation-7.2.1\">Model Interpretation</a></span></li><li><span><a href=\"#Model-X-Summary\" data-toc-modified-id=\"Model-X-Summary-7.2.2\">Model X Summary</a></span></li></ul></li></ul></li><li><span><a href=\"#Summary\" data-toc-modified-id=\"Summary-8\">Summary</a></span></li></ul></div>"
   ]
  },
  {
   "cell_type": "markdown",
   "metadata": {},
   "source": [
    "## 📚 MAIN QUESTION:"
   ]
  },
  {
   "cell_type": "markdown",
   "metadata": {},
   "source": [
    "> #### **Can the Twitter activity of Donald Trump explain fluctuations in the stock market?**\n",
    "\n",
    "**We will use a combination of traditional stock market forecasting combined with Natural Language Processing and word embeddings from President Trump's tweets to predict fluctuations in the stock market (using S&P 500 as index).**\n",
    "\n",
    "- Question 1: Can we predict if stock prices will go up or down at a fixed time point, based on the language in Trump's tweets?\n",
    "    - [NLP Model 0](#Model-0)<br><br>\n",
    "    \n",
    ">- **Question 2: How well can explain stock market fluctuations using only historical price data?**\n",
    "    - [Stock Market Model 1](#Model-1:-Using-Price-as-only-feature)<br><br>\n",
    "    - **Question 3: Does adding technical market indicators to our model improve its ability to predict stock prices?**\n",
    "    - [Stock Market Model 2](#Model-2:-Stock-Price-+-Technical-Indicators)<br><br>\n",
    "- Question 4: Can the NLP predictions from Question 1, combined with all of the features from Question 3, as well as additional information regarding Trump's Tweets explain even more of the stock market fluctuations?\n",
    "    - Stock Market Model 3\n",
    "    - Stock Market Model X<br><br>\n",
    "\n",
    "    "
   ]
  },
  {
   "cell_type": "markdown",
   "metadata": {},
   "source": [
    "### REFERENCES / INSPIRATION:\n",
    "\n",
    "1. **Stanford Scientific Poster Using NLP ALONE to predict if stock prices increase or decrease 5 mins after Trump tweets.**  \n",
    "    - [Poster PDF LINK](http://cs229.stanford.edu/proj2017/final-posters/5140843.pdf)\n",
    "    - Best accuracy was X, goal 1 is to create a classifier on a longer timescale with superior results.\n",
    "    \n",
    "\n",
    "2. **TowardsDataScience Blog Plost on \"Using the latest advancements in deep learning to predict stock price movements.\"** \n",
    "     - [Blog Post link](https://towardsdatascience.com/aifortrading-2edd6fac689d)"
   ]
  },
  {
   "cell_type": "markdown",
   "metadata": {
    "colab_type": "text",
    "id": "wofiIIk6hQtc"
   },
   "source": [
    "## OVERVIEW OF DATA/FEATURES USED PER MODEL"
   ]
  },
  {
   "cell_type": "markdown",
   "metadata": {
    "colab_type": "text",
    "id": "wofiIIk6hQtc"
   },
   "source": [
    "\n",
    "#### TWITTER DATA - CLASSIFICATION MODEL\n",
    "**Trained Word2Vec embeddings on collection of Donal Trump's Tweets.**\n",
    "- Used negative skip-gram method and negative sampling to best represent infrequently used words.\n",
    "    \n",
    "**Classified tweets based on change in stock price (delta_price)**\n",
    "- Calculated price change from time of tweet to 60 mins later.\n",
    "    - \"No Change\" if the delta price was < \\\\$0.05 \n",
    "    - \"Increase\" if delta price was >+\\\\$0.05\n",
    "    - \"Decrease if delta price was >-\\\\$0.05\n",
    "    \n",
    "*NOTE: This model's predictions will become a feature in our final model.*\n"
   ]
  },
  {
   "cell_type": "markdown",
   "metadata": {
    "colab_type": "text",
    "id": "wofiIIk6hQtc"
   },
   "source": [
    "#### STOCK MARKET (S&P 500) DATA :\n",
    "##### TIME SERIES FORECASTING USING MARKET DATA\n",
    "**Model 1: Use price alone to forecast hourly price.**\n",
    "- Train model using time sequences of 7-trading-hours (1 day) to predict the following hour. \n",
    "    * [x] ~~SARIMAX model~~\n",
    "    * [x] LSTM neural network \n",
    "\n",
    "**Model 2: Use price combined with technical indicators.**\n",
    "    * LSTM neural network\n",
    "- **Calculate 7 technical indicators from S&P 500 hourly closing price.**\n",
    "    * [x] 7 days moving average \n",
    "    * [x] 21 days moving average\n",
    "    * [x] exponential moving average\n",
    "    * [x] momentum\n",
    "    * [x] Bollinger bands\n",
    "    * [x] MACD\n",
    "    \n",
    "  "
   ]
  },
  {
   "cell_type": "markdown",
   "metadata": {
    "colab_type": "text",
    "id": "wofiIIk6hQtc"
   },
   "source": [
    "### FINAL MODEL: COMBINING STOCK MARKET DATA,  NLP CLASSIFICATION, AND OTHER TWEET METRICS"
   ]
  },
  {
   "cell_type": "markdown",
   "metadata": {
    "colab_type": "text",
    "id": "wofiIIk6hQtc"
   },
   "source": [
    "- **FEATURES FOR FINAL MODEL:**<br><br>\n",
    "    - **Stock Data:**\n",
    "        * [x] 7 days moving average \n",
    "        * [x] 21 days moving average\n",
    "        * [x] exponential moving average\n",
    "        * [x] momentum\n",
    "        * [x] Bollinger bands\n",
    "        * [x] MACD<br><br>\n",
    "    - **Tweet Data:**\n",
    "        * [x] 'delta_price' prediction classification for body of tweets from prior hour (model 0)\n",
    "        * [x] Number of tweets in hour\n",
    "        * [x] Ratio of uppercase:lowercase ratio (case_ratio)\n",
    "        * [x] Total # of favorites for the tweets\n",
    "        * [x] Total # of retweets for the tweets\n",
    "        * [x] Sentiment Scores:\n",
    "            - [x] Individual negative, neutral, and positive sentiment scores\n",
    "            - [x] Compound Sentiment Score (combines all 3)\n",
    "            - [x] sentiment class (+/- compound score)    "
   ]
  },
  {
   "cell_type": "markdown",
   "metadata": {},
   "source": [
    "## OSEMN FRAMEWORK"
   ]
  },
  {
   "cell_type": "markdown",
   "metadata": {},
   "source": [
    "### [OBTAIN](#OBTAIN)\n",
    "- Obtaining 1-min resolution stock market data (S&P 500 Index)\n",
    "- Obtain batch of historical tweets by President Trump \n",
    "\n",
    "### [SCRUB](#SCRUB)\n",
    "1. **[Tweets](#TRUMP'S-TWEETS)**\n",
    "    - Preprocessing for Natural Language Processing<br><br>\n",
    "2. **[Stock Market](#Loading-&-Processing-Stock-Data-(SCRUB))**\n",
    "    - Time frequency conversion\n",
    "    - Technical Indicator Calculation\n",
    "\n",
    "### [EXPLORE / VISUALIZE](#EXPLORE/VISUALIZE)\n",
    "- [Tweet Delta Price Classes](#Delta-Price-Classes) \n",
    "- [NLP Figures / Example Tweets](#Natural-Language-Processing)\n",
    "- [S&P 500 Price](#Model-1:-Using-Price-as-only-feature)\n",
    "- [S&P 500 Technical Indicators](#Technical-Indicator-Details)\n",
    "\n",
    "### [MODELING (Initial)](#INITIAL-MODELING)\n",
    "- [Delta-Stock-Price NLP Classifier](#TWEET-DELTA-PRICE-CLASSIFICATON)\n",
    "- [S&P 500 Neural Network (price only)] ( )\n",
    "\n",
    "### iNTERPRETATION \n",
    "- Delta-Stock-Price NLP Models\n",
    "    - Model 0A Summary\n",
    "    - Model 0B Summary\n",
    "    \n",
    "- Stock-Market-Forecasting\n",
    "    - Model 1 Summary\n",
    "    - Model 2 Summary\n",
    "    - Model 3 Summary\n",
    "    - Model 4 Summary\n",
    "- Final Summary"
   ]
  },
  {
   "cell_type": "markdown",
   "metadata": {},
   "source": [
    "# OBTAIN"
   ]
  },
  {
   "cell_type": "markdown",
   "metadata": {
    "colab_type": "text",
    "id": "wofiIIk6hQtc"
   },
   "source": [
    "### 📚 DATA SOURCES:\n",
    "\n",
    "* **All Donald Trump tweets from 12/01/2016 (pre-inaugaration day) to end of 08/23/2018**\n",
    "    *          Extracted from http://www.trumptwitterarchive.com/\n",
    "\n",
    "* **Minute-resolution data for the S&P500 covering the same time period.**\n",
    "    *         IVE S&P500 Index from - http://www.kibot.com/free_historical_data.aspx\n",
    "    \n",
    "    \n",
    "* NOTE: Both sources required manual extraction and both 1-min historical stock data and batch-historical-tweet data are difficult to obtain without paying \\\\$150-\\\\$2000 monthly developer memberships. "
   ]
  },
  {
   "cell_type": "markdown",
   "metadata": {},
   "source": [
    "# SCRUB"
   ]
  },
  {
   "cell_type": "markdown",
   "metadata": {},
   "source": [
    "### Importing Functions"
   ]
  },
  {
   "cell_type": "code",
   "execution_count": null,
   "metadata": {
    "ExecuteTime": {
     "end_time": "2021-06-18T22:48:28.070736Z",
     "start_time": "2021-06-18T22:48:26.614905Z"
    }
   },
   "outputs": [],
   "source": [
    "## Personal Functions \n",
    "# Note: the bs_ds package on pip is not compatible with python 3.8+\n",
    "# Therefore I am importing it locally instead\n",
    "\n",
    "## IMPORT CUSTOM CAPSTONE FUNCTIONS\n",
    "%load_ext autoreload\n",
    "%autoreload 2 \n",
    "import bsds as bs\n",
    "from bsds import ihelp,ihelp_menu,reload, inspect_variables\n",
    "from bsds import functions_combined_BEST as ji\n",
    "from bsds import functions_io as io\n",
    "# from bsds.imports import *\n",
    "\n",
    "\n",
    "## The Basics \n",
    "import matplotlib.pyplot as plt\n",
    "import seaborn as sns\n",
    "import pandas as pd\n",
    "import numpy as np\n",
    "import glob,sys,os,time\n",
    "#Set pd.set_options for tweet visibility\n",
    "pd.set_option('display.max_colwidth',200)\n",
    "pd.set_option('display.max_columns',50)\n",
    "\n",
    "\n",
    "print(f\"Pandas v: \\t {pd.__version__:>5}\")\n",
    "print(f\"Numpy v: \\t{np.__version__:>5}\")\n",
    "print(f\"Seaborn v:\\t {sns.__version__:>5}\")"
   ]
  },
  {
   "cell_type": "code",
   "execution_count": null,
   "metadata": {
    "ExecuteTime": {
     "end_time": "2021-06-18T22:48:28.594411Z",
     "start_time": "2021-06-18T22:48:28.072907Z"
    }
   },
   "outputs": [],
   "source": [
    "## NLP TOOLS\n",
    "import nltk\n",
    "nltk.download('vader_lexicon')"
   ]
  },
  {
   "cell_type": "code",
   "execution_count": null,
   "metadata": {
    "ExecuteTime": {
     "end_time": "2021-06-18T22:48:29.482614Z",
     "start_time": "2021-06-18T22:48:28.599392Z"
    }
   },
   "outputs": [],
   "source": [
    "# Import plotly and cufflinks for iplots\n",
    "import plotly.express as px\n",
    "import cufflinks as cf\n",
    "from plotly import graph_objs as go\n",
    "from plotly.offline import iplot\n",
    "cf.go_offline()\n",
    "\n",
    "# Suppress warnings\n",
    "import warnings\n",
    "warnings.filterwarnings('ignore')"
   ]
  },
  {
   "cell_type": "code",
   "execution_count": null,
   "metadata": {
    "ExecuteTime": {
     "end_time": "2021-06-18T22:48:29.533474Z",
     "start_time": "2021-06-18T22:48:29.484504Z"
    }
   },
   "outputs": [],
   "source": [
    "## IMPORT CONVENIENCE FUNCTIONS\n",
    "from pprint import pprint\n",
    "# import qgrid\n",
    "import json"
   ]
  },
  {
   "cell_type": "code",
   "execution_count": null,
   "metadata": {
    "ExecuteTime": {
     "end_time": "2021-06-18T22:48:29.634207Z",
     "start_time": "2021-06-18T22:48:29.535333Z"
    }
   },
   "outputs": [],
   "source": [
    "file_dict = io.def_filename_dictionary(load_prior=False, save_directory=True)\n",
    "# file_dict = ji.load_filename_directory()"
   ]
  },
  {
   "cell_type": "markdown",
   "metadata": {},
   "source": [
    "# FORECASTING STOCK MARKET PRICE"
   ]
  },
  {
   "cell_type": "code",
   "execution_count": null,
   "metadata": {
    "ExecuteTime": {
     "end_time": "2021-06-18T22:48:29.681714Z",
     "start_time": "2021-06-18T22:48:29.635843Z"
    }
   },
   "outputs": [],
   "source": [
    "DOWNLOAD_STOCK_DATA = False\n"
   ]
  },
  {
   "cell_type": "code",
   "execution_count": null,
   "metadata": {
    "ExecuteTime": {
     "end_time": "2021-06-18T22:48:31.415148Z",
     "start_time": "2021-06-18T22:48:29.686375Z"
    }
   },
   "outputs": [],
   "source": [
    "## DOWNLOAD THE DATA IF REQUESTED\n",
    "if DOWNLOAD_STOCK_DATA:\n",
    "    print('[i] Downoading data sets...')\n",
    "    stock_df = bs.data.download_stock_data()\n",
    "    \n",
    "else: \n",
    "    ## Or Load in Most Recent Files\n",
    "    print('[i] Loading most recent data sets...')\n",
    "    \n",
    "    ## Check for prx-existing files\n",
    "    files_glob = glob.glob('data/*.csv.gz')\n",
    "    stock_files = list(filter(lambda x: 'ive_minute' in x, files_glob))\n",
    "\n",
    "\n",
    "    ## Get Time Files Modified \n",
    "    STOCK_FILES = {f:pd.to_datetime(time.ctime(os.path.getmtime(f))) for f in stock_files}\n",
    "\n",
    "    ## Get most recent files using idxmin\n",
    "    recent_stocks = pd.Series(STOCK_FILES).idxmax()\n",
    "    \n",
    "    ## Load in the csvs with datetime indices\n",
    "    stock_df = pd.read_csv(recent_stocks,parse_dates=['datetime'],index_col='datetime')\n",
    "    \n",
    "    ## Sort timeseries\n",
    "    stock_df.sort_index(inplace=True)\n",
    "    \n",
    "    \n",
    "## Display Preview of DFs\n",
    "stock_df"
   ]
  },
  {
   "cell_type": "code",
   "execution_count": null,
   "metadata": {
    "ExecuteTime": {
     "end_time": "2021-06-18T22:48:31.467633Z",
     "start_time": "2021-06-18T22:48:31.418024Z"
    }
   },
   "outputs": [],
   "source": [
    "# ts = stock_df[['BidClose']].sort_index()#.reset_index()#.asfreq('T')\n",
    "# px.line(ts)"
   ]
  },
  {
   "cell_type": "code",
   "execution_count": null,
   "metadata": {
    "ExecuteTime": {
     "end_time": "2021-06-18T22:48:31.532690Z",
     "start_time": "2021-06-18T22:48:31.470077Z"
    }
   },
   "outputs": [],
   "source": [
    "stock_df.tail()"
   ]
  },
  {
   "cell_type": "markdown",
   "metadata": {},
   "source": [
    "## Loading & Processing Stock Data (SCRUB)"
   ]
  },
  {
   "cell_type": "code",
   "execution_count": null,
   "metadata": {
    "ExecuteTime": {
     "end_time": "2021-06-18T22:48:31.584072Z",
     "start_time": "2021-06-18T22:48:31.534827Z"
    }
   },
   "outputs": [],
   "source": [
    "# # DISPLAY CODE TO BE USED BELOW TO LOAD AND PROCESS STOCK DATA\n",
    "# functions_used=['ji.load_processed_stock_data', # This script combines the oriignal 4 used:\n",
    "#                 'ji.load_raw_stock_data_from_txt',\n",
    "#                 'ji.set_timeindex_freq','ji.custom_BH_freq',\n",
    "#                'ji.get_technical_indicators']\n",
    "\n",
    "# ji.ihelp_menu(functions_used)"
   ]
  },
  {
   "cell_type": "markdown",
   "metadata": {},
   "source": [
    "## Load in raw text file with minute-resolutin S&P 500 prices"
   ]
  },
  {
   "cell_type": "code",
   "execution_count": null,
   "metadata": {
    "ExecuteTime": {
     "end_time": "2021-06-18T22:48:31.635670Z",
     "start_time": "2021-06-18T22:48:31.585883Z"
    }
   },
   "outputs": [],
   "source": [
    "try:\n",
    "    stock_df\n",
    "except: \n",
    "    print('loading')\n",
    "    stock_df = ji.load_processed_stock_data()"
   ]
  },
  {
   "cell_type": "code",
   "execution_count": null,
   "metadata": {
    "ExecuteTime": {
     "end_time": "2021-06-18T22:48:31.703489Z",
     "start_time": "2021-06-18T22:48:31.637494Z"
    }
   },
   "outputs": [],
   "source": [
    "stock_df"
   ]
  },
  {
   "cell_type": "code",
   "execution_count": null,
   "metadata": {
    "ExecuteTime": {
     "end_time": "2021-06-18T22:49:47.130281Z",
     "start_time": "2021-06-18T22:48:31.705474Z"
    }
   },
   "outputs": [],
   "source": [
    "reload(ji)\n",
    "# fname = file_dict['stock_df']['raw_csv_file']\n",
    "raw_stock_df = ji.load_raw_stock_data_from_txt(filename = 'data/ive_minute_tick_bidask_API_2021_06-18-21.csv.gz',#fname,\n",
    "                                               verbose=2)\n"
   ]
  },
  {
   "cell_type": "code",
   "execution_count": null,
   "metadata": {
    "ExecuteTime": {
     "end_time": "2021-06-18T22:50:33.537083Z",
     "start_time": "2021-06-18T22:50:33.450355Z"
    }
   },
   "outputs": [],
   "source": [
    "stock_df = ji.get_technical_indicators(raw_stock_df,make_price_from='BidClose')\n",
    "stock_df"
   ]
  },
  {
   "cell_type": "code",
   "execution_count": null,
   "metadata": {
    "ExecuteTime": {
     "end_time": "2021-06-18T22:49:47.264585Z",
     "start_time": "2021-06-18T22:49:47.218828Z"
    }
   },
   "outputs": [],
   "source": [
    "stock_df.index"
   ]
  },
  {
   "cell_type": "code",
   "execution_count": null,
   "metadata": {
    "ExecuteTime": {
     "end_time": "2021-06-18T22:49:47.312865Z",
     "start_time": "2021-06-18T22:49:47.266377Z"
    }
   },
   "outputs": [],
   "source": [
    "# # ## Plot TIme Series and Calcualte Technical INdicators \n",
    "# # fig = ji.plotly_time_series(raw_stock_df,x_col='Date', y_col='BidClose',as_figure=True)\n",
    "# def custom_BH_freq():\n",
    "#     CBH = pd.tseries.offsets.CustomBusinessHour(start='09:30',end='16:30')\n",
    "#     return CBH\n",
    "\n",
    "# stock_df.resample(custom_BH_freq()).first()"
   ]
  },
  {
   "cell_type": "code",
   "execution_count": null,
   "metadata": {
    "ExecuteTime": {
     "end_time": "2021-06-18T22:49:47.365114Z",
     "start_time": "2021-06-18T22:49:47.314850Z"
    }
   },
   "outputs": [],
   "source": [
    "# def get_technical_indicators(dataset,make_price_from='BidClose'):\n",
    "\n",
    "#     dataset['price'] = dataset[make_price_from].copy()\n",
    "#     if dataset.index.freq == custom_BH_freq():\n",
    "#         days = get_day_window_size_from_freq(dataset)#,freq='CBH')\n",
    "#     else:\n",
    "#         days = get_day_window_size_from_freq(dataset)\n",
    "        \n",
    "#     # Create 7 and 21 days Moving Average\n",
    "#     dataset['ma7'] = dataset['price'].rolling(window=7*days).mean()\n",
    "#     dataset['ma21'] = dataset['price'].rolling(window=21*days).mean()\n",
    "    \n",
    "#     # Create MACD\n",
    "#     dataset['26ema'] = dataset['price'].ewm(span=26*days).mean()\n",
    "# #     dataset['12ema'] = pd.ewma(dataset['price'], span=12)\n",
    "#     dataset['12ema'] = dataset['price'].ewm(span=12*days).mean()\n",
    "\n",
    "#     dataset['MACD'] = (dataset['12ema']-dataset['26ema'])\n",
    "\n",
    "#     # Create Bollinger Bands\n",
    "# #     dataset['20sd'] = pd.stats.moments.rolling_std(dataset['price'],20)\n",
    "#     dataset['20sd'] = dataset['price'].rolling(20*days).std()\n",
    "#     dataset['upper_band'] = dataset['ma21'] + (dataset['20sd']*2)\n",
    "#     dataset['lower_band'] = dataset['ma21'] - (dataset['20sd']*2)\n",
    "    \n",
    "#     # Create Exponential moving average\n",
    "#     dataset['ema'] = dataset['price'].ewm(com=0.5).mean()\n",
    "    \n",
    "#     # Create Momentum\n",
    "#     dataset['momentum'] = dataset['price']-days*1\n",
    "    \n",
    "#     return dataset\n",
    "\n",
    "# # del raw_stock_df\n",
    "# # stock_df"
   ]
  },
  {
   "cell_type": "code",
   "execution_count": null,
   "metadata": {
    "ExecuteTime": {
     "end_time": "2021-06-18T22:50:56.991432Z",
     "start_time": "2021-06-18T22:50:56.928937Z"
    }
   },
   "outputs": [],
   "source": [
    "# SELECT DESIRED COLUMNS\n",
    "stock_df = stock_df[[\n",
    "    'price','ma7','ma21','26ema','12ema','MACD','20sd',\n",
    "    'upper_band','lower_band','ema','momentum']]\n",
    "\n",
    "# Make stock_price for twitter functions\n",
    "stock_df.dropna(inplace=True)\n",
    "ji.index_report(stock_df)\n",
    "display(stock_df.head(3))"
   ]
  },
  {
   "cell_type": "code",
   "execution_count": null,
   "metadata": {
    "ExecuteTime": {
     "end_time": "2021-06-18T22:50:59.015011Z",
     "start_time": "2021-06-18T22:50:58.967795Z"
    },
    "scrolled": true
   },
   "outputs": [],
   "source": [
    "# ihelp_menu([ji.train_test_split_by_last_days,\n",
    "#            ji.make_scaler_library,\n",
    "#            ji.transform_cols_from_library,\n",
    "#            ji.make_train_test_series_gens])"
   ]
  },
  {
   "cell_type": "markdown",
   "metadata": {},
   "source": [
    "# BOOKMARK 06/18"
   ]
  },
  {
   "cell_type": "code",
   "execution_count": null,
   "metadata": {
    "ExecuteTime": {
     "end_time": "2021-06-18T22:51:00.111023Z",
     "start_time": "2021-06-18T22:50:59.983314Z"
    },
    "code_folding": []
   },
   "outputs": [],
   "source": [
    "## SPECIFY # OF TRAINING TEST DAYS \n",
    "num_test_days=5\n",
    "num_train_adays= 260\n",
    "### SPECIFY Number of days included in each X_sequence (each prediction)\n",
    "days_for_x_window=1\n",
    "\n",
    "# Calculate number of rows to bin for x_windows\n",
    "periods_per_day = ji.get_day_window_size_from_freq( stock_df, ji.custom_BH_freq() )\n",
    "\n",
    "\n",
    "## Get the number of rows for x_window \n",
    "x_window = periods_per_day * days_for_x_window#data_params['days_for_x_window'] \n",
    "print(f'X_window size = {x_window} -- ({days_for_x_window} day(s) * {periods_per_day} rows/day)\\n')\n",
    "\n",
    "## Train-test-split by the # of days\n",
    "df_train, df_test = ji.train_test_split_by_last_days(stock_df,\n",
    "                                                     periods_per_day =periods_per_day, \n",
    "                                                     num_test_days   = num_test_days,\n",
    "                                                     num_train_days  = num_train_days,\n",
    "                                                     verbose=1, iplot=True)\n",
    "\n"
   ]
  },
  {
   "cell_type": "markdown",
   "metadata": {},
   "source": [
    "## Model 1: Using Price as only feature"
   ]
  },
  {
   "cell_type": "code",
   "execution_count": null,
   "metadata": {
    "ExecuteTime": {
     "end_time": "2021-06-18T22:49:48.072454Z",
     "start_time": "2021-06-18T22:48:26.745Z"
    }
   },
   "outputs": [],
   "source": [
    "###### RESCALE DATA USING MinMaxScalers FIT ON TRAINING DATA's COLUMNS ######\n",
    "display(df_train.head(2).style.set_caption('df_train - pre-scaling'))\n",
    "\n",
    "scaler_library, df_train = ji.make_scaler_library(df_train, transform=True, verbose=1)\n",
    "\n",
    "df_test = ji.transform_cols_from_library(df_test, col_list=None,\n",
    "                                         scaler_library=scaler_library,\n",
    "                                         inverse=False)\n",
    "display(df_train.head(2).style.set_caption('df_train - post-scaling'))\n",
    "\n",
    "# Show transformed dataset\n",
    "# display( df_train.head(2).round(3).style.set_caption('training data - scaled'))\n",
    "\n",
    "# Create timeseries generators\n",
    "train_generator, test_generator = ji.make_train_test_series_gens( \n",
    "    df_train['price'], df_test['price'], \n",
    "    x_window=x_window,n_features=1,batch_size=1, verbose=0)"
   ]
  },
  {
   "cell_type": "code",
   "execution_count": null,
   "metadata": {
    "ExecuteTime": {
     "end_time": "2021-06-18T22:49:48.073577Z",
     "start_time": "2021-06-18T22:48:26.750Z"
    }
   },
   "outputs": [],
   "source": [
    "from tensorflow.keras.models import Sequential\n",
    "from tensorflow.keras import optimizers\n",
    "from tensorflow.keras.layers import Bidirectional, Dense, LSTM, Dropout\n",
    "from tensorflow.keras.regularizers import l2\n",
    "\n",
    "# Specifying input shape (size of samples, rank of samples?)\n",
    "n_input = x_window\n",
    "n_features = 1 # just stock Price\n",
    "\n",
    "print(f'input shape: ({n_input},{n_features})')\n",
    "input_shape=(n_input, n_features)\n",
    "\n",
    "# Create model architecture\n",
    "model1 = Sequential()\n",
    "model1.add(LSTM(units=50, input_shape =input_shape,return_sequences=True))#,  kernel_regularizer=l2(0.01),recurrent_regularizer=l2(0.01),\n",
    "#     model.add(Dropout(0.2))\n",
    "model1.add(LSTM(units=50, activation='relu'))\n",
    "model1.add(Dense(1))\n",
    "\n",
    "model1.compile(loss=ji.my_rmse, metrics=['acc'],\n",
    "              optimizer=optimizers.Nadam())\n",
    "\n",
    "display(model1.summary())\n"
   ]
  },
  {
   "cell_type": "code",
   "execution_count": null,
   "metadata": {
    "ExecuteTime": {
     "end_time": "2021-06-18T22:49:48.074629Z",
     "start_time": "2021-06-18T22:48:26.755Z"
    }
   },
   "outputs": [],
   "source": [
    "## FIT MODEL\n",
    "dashes = '---'*20\n",
    "print(f\"{dashes}\\n\\tFITTING MODEL:\\n{dashes}\")\n",
    "\n",
    "## set params\n",
    "epochs=5\n",
    "\n",
    "# override keras warnings\n",
    "ji.quiet_mode(True,True,True)\n",
    "\n",
    "# Instantiating clock timer\n",
    "clock = bs.Clock()\n",
    "clock.tic('')\n",
    "\n",
    "# Fit the model\n",
    "history = model1.fit_generator(train_generator,\n",
    "                               epochs=epochs,\n",
    "                               verbose=2, \n",
    "                               use_multiprocessing=True,\n",
    "                               workers=3)\n",
    "\n",
    "\n",
    "clock.toc('')\n",
    "\n",
    "\n",
    "model_key = \"model_1\"\n",
    "hist_fname = file_dict[model_key]['fig_keras_history.ext']\n",
    "summary_fname = file_dict[model_key]['model_summary']\n",
    "\n",
    "# eval_results = ji.evaluate_model_plot_history(model1, train_generator, test_generator)\n",
    "ji.evaluate_regression_model(model1,history,\n",
    "                             train_generator=train_generator,\n",
    "                             test_generator=test_generator,\n",
    "                            true_test_series=df_test['price'],\n",
    "                            true_train_series =df_train['price'],\n",
    "                             save_history=True,history_filename=hist_fname,\n",
    "                             save_summary=True, summary_filename=summary_fname)"
   ]
  },
  {
   "cell_type": "code",
   "execution_count": null,
   "metadata": {
    "ExecuteTime": {
     "end_time": "2021-06-18T22:49:48.075654Z",
     "start_time": "2021-06-18T22:48:26.760Z"
    }
   },
   "outputs": [],
   "source": [
    "### PREFER NEW WAY - GET DF_MODEL FIRST THEN GET EVALUATE_REGRESSION INFORMATION?\n",
    "## Get true vs pred data as a dataframe and iplot\n",
    "df_model1 = ji.get_model_preds_df(model1, \n",
    "                                  test_generator = test_generator,\n",
    "                                  true_train_series = df_train['price'],\n",
    "                                  true_test_series = df_test['price'],\n",
    "                                  include_train_data=True,\n",
    "                                  inverse_tf = True, \n",
    "                                  scaler = scaler_library['price'],\n",
    "                                  preds_from_gen = True, \n",
    "                                  preds_from_train_preds = True, \n",
    "                                  preds_from_test_preds = True,\n",
    "                                  iplot = True,\n",
    "                                  verbose=0)\n",
    "#                                   subplot_mode='lines+markers')\n",
    "    \n",
    "# Get evaluation metrics\n",
    "df_results1, dfs_results1, df_shifted1 =\\\n",
    "ji.compare_eval_metrics_for_shifts(df_model1['true_test_price'],\n",
    "                                   df_model1['pred_from_gen'],\n",
    "                                   shift_list=np.arange(-4,4,1),\n",
    "                                   true_train_series_to_add=df_model1['true_train_price'],\n",
    "                                   display_results=True,\n",
    "                                   display_U_info=True,\n",
    "                                   return_results=True,\n",
    "                                   return_styled_df=True,\n",
    "                                   return_shifted_df=True)"
   ]
  },
  {
   "cell_type": "code",
   "execution_count": null,
   "metadata": {
    "ExecuteTime": {
     "end_time": "2021-06-18T22:49:48.076734Z",
     "start_time": "2021-06-18T22:48:26.766Z"
    }
   },
   "outputs": [],
   "source": [
    "ji.dict_dropdown(file_dict)"
   ]
  },
  {
   "cell_type": "code",
   "execution_count": null,
   "metadata": {
    "ExecuteTime": {
     "end_time": "2021-06-18T22:49:48.077944Z",
     "start_time": "2021-06-18T22:48:26.772Z"
    }
   },
   "outputs": [],
   "source": [
    "reload(ji)\n",
    "save_model=True\n",
    "ji.save_model_dfs(file_dict, 'model_1',df_model1,dfs_results1,df_shifted1)\n",
    "\n",
    "filename_prefix = file_dict['model_1']['base_filename']\n",
    "if save_model ==True:\n",
    "    model_1_output_files = ji.save_model_weights_params(model1,\n",
    "                                 filename_prefix=filename_prefix,\n",
    "                                 auto_increment_name=True,\n",
    "                                 auto_filename_suffix=True, \n",
    "                                 suffix_time_format='%m-%d-%y_%I%M%p',\n",
    "                                 save_model_layer_config_xlsx=True)"
   ]
  },
  {
   "cell_type": "markdown",
   "metadata": {},
   "source": [
    "### Model 1 Summary"
   ]
  },
  {
   "cell_type": "markdown",
   "metadata": {},
   "source": []
  },
  {
   "cell_type": "markdown",
   "metadata": {},
   "source": [
    "## Model 2: Stock Price + Technical Indicators"
   ]
  },
  {
   "cell_type": "markdown",
   "metadata": {
    "colab_type": "text",
    "id": "FXUD8NkFm5r8"
   },
   "source": [
    "### Technical Indicator Details"
   ]
  },
  {
   "cell_type": "code",
   "execution_count": null,
   "metadata": {
    "ExecuteTime": {
     "end_time": "2021-06-18T22:49:48.079201Z",
     "start_time": "2021-06-18T22:48:26.780Z"
    }
   },
   "outputs": [],
   "source": [
    "# SELECT DESIRED COLUMNS\n",
    "stock_df = stock_df[[\n",
    "    'price','ma7','ma21','26ema','12ema','MACD','20sd',\n",
    "    'upper_band','lower_band','ema','momentum']]\n",
    "\n",
    "# Make stock_price for twitter functions\n",
    "stock_df.dropna(inplace=True)\n",
    "ji.index_report(stock_df)\n",
    "display(stock_df.head(3))"
   ]
  },
  {
   "cell_type": "code",
   "execution_count": null,
   "metadata": {
    "ExecuteTime": {
     "end_time": "2021-06-18T22:49:48.080246Z",
     "start_time": "2021-06-18T22:48:26.786Z"
    }
   },
   "outputs": [],
   "source": [
    "fig =ji.plotly_technical_indicators(stock_df)"
   ]
  },
  {
   "cell_type": "markdown",
   "metadata": {
    "colab_type": "text",
    "id": "FXUD8NkFm5r8"
   },
   "source": [
    "1. **7 and 21 day moving averages**\n",
    "```python\n",
    "df['ma7'] df['price'].rolling(window = 7 ).mean() #window of 7 if daily data\n",
    "df['ma21'] df['price'].rolling(window = 21).mean() #window of 21 if daily data\n",
    "```    \n",
    "2. **MACD(Moving Average Convergence Divergence)**\n",
    "\n",
    "> Moving Average Convergence Divergence (MACD) is a trend-following momentumindicator that shows the relationship between two moving averages of a security’s price. The MACD is calculated by subtracting the 26-period Exponential Moving Average (EMA) from the 12-period EMA.\n",
    "\n",
    ">The result of that calculation is the MACD line. A nine-day EMA of the MACD, called the \"signal line,\" is then plotted on top of the MACD line, which can function as a trigger for buy and sell signals. \n",
    "\n",
    "> Traders may buy the security when the MACD crosses above its signal line and sell - or short - the security when the MACD crosses below the signal line. Moving Average Convergence Divergence (MACD) indicators can be interpreted in several ways, but the more common methods are crossovers, divergences, and rapid rises/falls.  - _[from Investopedia](https://www.investopedia.com/terms/m/macd.asp)_\n",
    "\n",
    "```python\n",
    "df['ewma26'] = pd.ewma(df['price'], span=26)\n",
    "df['ewma12'] = pd.ewma(df['price'], span=12)\n",
    "df['MACD'] = (df['12ema']-df['26ema'])\n",
    "```\n",
    "3. **Exponentially weighted moving average**\n",
    "```python\n",
    "dataset['ema'] = dataset['price'].ewm(com=0.5).mean()\n",
    "```\n",
    "\n",
    "4. **Bollinger bands**\n",
    "    > \"Bollinger Bands® are a popular technical indicators used by traders in all markets, including stocks, futures and currencies. There are a number of uses for Bollinger Bands®, including determining overbought and oversold levels, as a trend following tool, and monitoring for breakouts. There are also some pitfalls of the indicators. In this article, we will address all these areas.\"\n",
    "> Bollinger bands are composed of three lines. One of the more common calculations of Bollinger Bands uses a 20-day simple moving average (SMA) for the middle band. The upper band is calculated by taking the middle band and adding twice the daily standard deviation, the lower band is the same but subtracts twice the daily std. - _[from Investopedia](https://www.investopedia.com/trading/using-bollinger-bands-to-gauge-trends/)_\n",
    "\n",
    "    - Boilinger Upper Band:<br>\n",
    "    $BOLU = MA(TP, n) + m * \\sigma[TP, n ]$<br><br>\n",
    "    - Boilinger Lower Band<br>\n",
    "    $ BOLD = MA(TP,n) - m * \\sigma[TP, n ]$\n",
    "    - Where:\n",
    "        - $MA$  = moving average\n",
    "        - $TP$ (typical price) = $(High + Low+Close)/ 3$\n",
    "        - $n$ is number of days in smoothing period\n",
    "        - $m$ is the number of standard deviations\n",
    "        - $\\sigma[TP, n]$ = Standard Deviations over last $n$ periods of $TP$\n",
    "\n",
    "```python\n",
    "# Create Bollinger Bands\n",
    "dataset['20sd'] = pd.stats.moments.rolling_std(dataset['price'],20)\n",
    "dataset['upper_band'] = dataset['ma21'] + (dataset['20sd']*2)\n",
    "dataset['lower_band'] = dataset['ma21'] - (dataset['20sd']*2)\n",
    "```\n",
    "\n",
    "\n",
    "5. **Momentum**\n",
    "> \"Momentum is the rate of acceleration of a security's price or volume – that is, the speed at which the price is changing. Simply put, it refers to the rate of change on price movements for a particular asset and is usually defined as a rate. In technical analysis, momentum is considered an oscillator and is used to help identify trend lines.\" - _[from Investopedia](https://www.investopedia.com/articles/technical/081501.asp)_\n",
    "\n",
    "    - $ Momentum = V - V_x$\n",
    "    - Where:\n",
    "        - $ V $ = Latest Price\n",
    "        - $ V_x $ = Closing Price\n",
    "        - $ x $ = number of days ago\n",
    "\n",
    "```python\n",
    "# Create Momentum\n",
    "dataset['momentum'] = dataset['price']-1\n",
    "```"
   ]
  },
  {
   "cell_type": "code",
   "execution_count": null,
   "metadata": {
    "ExecuteTime": {
     "end_time": "2021-06-18T22:49:48.081416Z",
     "start_time": "2021-06-18T22:48:26.792Z"
    }
   },
   "outputs": [],
   "source": [
    "## SPECIFY # OF TRAINING TEST DAYS \n",
    "reload(ji)\n",
    "num_test_days=10\n",
    "num_train_days=260\n",
    "### SPECIFY Number of days included in each X_sequence (each prediction)\n",
    "days_for_x_window=5\n",
    "\n",
    "# Calculate number of rows to bin for x_windows\n",
    "periods_per_day = ji.get_day_window_size_from_freq( stock_df, ji.custom_BH_freq() )\n",
    "\n",
    "\n",
    "## Get the number of rows for x_window \n",
    "x_window = periods_per_day * days_for_x_window#data_params['days_for_x_window'] \n",
    "print(f'X_window size = {x_window} -- ({days_for_x_window} day(s) * {periods_per_day} rows/day)\\n')\n",
    "\n",
    "## Train-test-split by the # of days\n",
    "df_train, df_test = ji.train_test_split_by_last_days(stock_df,\n",
    "                                                     periods_per_day =periods_per_day, \n",
    "                                                     num_test_days   = num_test_days,\n",
    "                                                     num_train_days  = num_train_days,\n",
    "                                                     verbose=1, iplot=True)\n",
    "\n"
   ]
  },
  {
   "cell_type": "code",
   "execution_count": null,
   "metadata": {
    "ExecuteTime": {
     "end_time": "2021-06-18T22:49:48.082491Z",
     "start_time": "2021-06-18T22:48:26.798Z"
    }
   },
   "outputs": [],
   "source": [
    "###### RESCALE DATA USING MinMaxScalers FIT ON TRAINING DATA's COLUMNS ######\n",
    "display(df_train.head(2).style.set_caption('df_train - pre-scaling'))\n",
    "\n",
    "scaler_library, df_train = ji.make_scaler_library(df_train, transform=True, verbose=1)\n",
    "\n",
    "df_test = ji.transform_cols_from_library(df_test, col_list=None,\n",
    "                                         scaler_library=scaler_library,\n",
    "                                         inverse=False)\n",
    "display(df_train.head(2).style.set_caption('df_train - post-scaling'))\n",
    "\n",
    "# Show transformed dataset\n",
    "# display( df_train.head(2).round(3).style.set_caption('training data - scaled'))\n",
    "\n",
    "# Create timeseries generators\n",
    "train_generator, test_generator = ji.make_train_test_series_gens( \n",
    "    df_train['price'], df_test['price'], \n",
    "    x_window=x_window,n_features=1,batch_size=1, verbose=0)"
   ]
  },
  {
   "cell_type": "code",
   "execution_count": null,
   "metadata": {
    "ExecuteTime": {
     "end_time": "2021-06-18T22:49:48.083695Z",
     "start_time": "2021-06-18T22:48:26.805Z"
    }
   },
   "outputs": [],
   "source": [
    "## Make new time series generators with all stock_indicators for X_sequences\n",
    "train_generator, test_generator = ji.make_train_test_series_gens(\n",
    "    train_data_series=df_train,\n",
    "    test_data_series=df_test,\n",
    "    y_cols='price',\n",
    "    x_window=x_window,\n",
    "    n_features=len(df_train.columns),\n",
    "    batch_size=1, verbose=1)"
   ]
  },
  {
   "cell_type": "code",
   "execution_count": null,
   "metadata": {
    "ExecuteTime": {
     "end_time": "2021-06-18T22:49:48.084991Z",
     "start_time": "2021-06-18T22:48:26.812Z"
    }
   },
   "outputs": [],
   "source": [
    "# Create keras model from model_params\n",
    "# import functions_combined_BEST as ji\n",
    "from tensorflow.keras.models import Sequential\n",
    "from tensorflow.keras.layers import Bidirectional, Dense, LSTM, Dropout\n",
    "from IPython.display import display\n",
    "from tensorflow.keras.regularizers import l2\n",
    "\n",
    "# Specifying input shape (size of samples, rank of samples?)\n",
    "n_input = x_window #model_params['input_params']['n_input']\n",
    "n_features = len(df_train.columns) # model_params['input_params']['n_features']\n",
    "\n",
    "print(f'input shape: ({n_input},{n_features}')\n",
    "input_shape=(n_input, n_features)\n",
    "\n",
    "# Create model architecture\n",
    "model2 = Sequential()\n",
    "model2.add(LSTM(units=50, input_shape =input_shape,return_sequences=True))#,  kernel_regularizer=l2(0.01),recurrent_regularizer=l2(0.01),\n",
    "# model2.add(Dropout(0.2))\n",
    "model2.add(LSTM(units=50, activation='relu'))\n",
    "model2.add(Dense(1))\n",
    "\n",
    "model2.compile(loss=ji.my_rmse, metrics=['acc',ji.my_rmse],\n",
    "              optimizer=optimizers.Nadam())\n",
    "\n",
    "display(model2.summary())"
   ]
  },
  {
   "cell_type": "code",
   "execution_count": null,
   "metadata": {
    "ExecuteTime": {
     "end_time": "2021-06-18T22:49:48.086295Z",
     "start_time": "2021-06-18T22:48:26.819Z"
    }
   },
   "outputs": [],
   "source": [
    "epochs=5\n",
    "\n",
    "clock = bs.Clock()\n",
    "print('---'*20)\n",
    "print('\\tFITTING MODEL:')\n",
    "print('---'*20,'\\n')     \n",
    "\n",
    "# start the timer\n",
    "clock.tic('')\n",
    "\n",
    "# Fit the model\n",
    "history = model2.fit_generator(train_generator,epochs=epochs) \n",
    "clock.toc('')\n",
    "\n",
    "model_key = \"model_2\"\n",
    "hist_fname = file_dict[model_key]['fig_keras_history.ext']\n",
    "summary_fname = file_dict[model_key]['model_summary']\n",
    "\n",
    "# eval_results = ji.evaluate_model_plot_history(model1, train_generator, test_generator)\n",
    "ji.evaluate_regression_model(model2,history,\n",
    "                             train_generator=train_generator,\n",
    "                             test_generator=test_generator,\n",
    "                            true_test_series=df_test['price'],\n",
    "                            true_train_series =df_train['price'],\n",
    "                             save_history=True,history_filename=hist_fname,\n",
    "                             save_summary=True, summary_filename=summary_fname)"
   ]
  },
  {
   "cell_type": "code",
   "execution_count": null,
   "metadata": {
    "ExecuteTime": {
     "end_time": "2021-06-18T22:49:48.087325Z",
     "start_time": "2021-06-18T22:48:26.825Z"
    }
   },
   "outputs": [],
   "source": [
    "### PREFER NEW WAY - GET DF_MODEL FIRST THEN GET EVALUATE_REGRESSION INFORMATION?\n",
    "## Get true vs pred data as a dataframe and iplot\n",
    "df_model2 = ji.get_model_preds_df(model2, \n",
    "                                  test_generator=test_generator,\n",
    "                                  true_train_series = df_train['price'],\n",
    "                                  true_test_series = df_test['price'],\n",
    "                                  x_window=x_window,\n",
    "                                  n_features=len(df_train.columns),\n",
    "                                  scaler=scaler_library['price'],\n",
    "                                  preds_from_gen=True, \n",
    "                                  inverse_tf=True,\n",
    "                                  iplot=True)\n",
    "\n",
    "# Compare predictions if predictions timebins shifted\n",
    "df_results2, dfs_results2, df_shifted2 =\\\n",
    "ji.compare_eval_metrics_for_shifts(df_model2['true_test_price'],\n",
    "                                   df_model2['pred_from_gen'],\n",
    "                                   shift_list=np.arange(-4,5,1),\n",
    "                                   true_train_series_to_add=df_model2['true_train_price'],\n",
    "                                   display_results=True,\n",
    "                                   return_styled_df=True,\n",
    "                                   display_U_info=False,\n",
    "                                   return_shifted_df=True,\n",
    "                                   return_results=True)"
   ]
  },
  {
   "cell_type": "code",
   "execution_count": null,
   "metadata": {
    "ExecuteTime": {
     "end_time": "2021-06-18T22:49:48.088374Z",
     "start_time": "2021-06-18T22:48:26.831Z"
    }
   },
   "outputs": [],
   "source": [
    "##SAVING DFS\n",
    "ji.save_model_dfs(file_dict,'model_2',\n",
    "               df_model=df_model2,\n",
    "              df_results=dfs_results2,\n",
    "              df_shifted=df_shifted2)"
   ]
  },
  {
   "cell_type": "code",
   "execution_count": null,
   "metadata": {
    "ExecuteTime": {
     "end_time": "2021-06-18T22:49:48.089738Z",
     "start_time": "2021-06-18T22:48:26.838Z"
    },
    "scrolled": false
   },
   "outputs": [],
   "source": [
    "df_results2, dfs_results2, df_shifted2 =\\\n",
    "ji.compare_eval_metrics_for_shifts(df_model2['true_test_price'],\n",
    "                                   df_model2['pred_from_gen'],\n",
    "                                   shift_list=np.arange(-4,5,1),\n",
    "                                   true_train_series_to_add=df_model2['true_train_price'],\n",
    "                                   display_results=True,\n",
    "                                   return_styled_df=True,\n",
    "                                   display_U_info=False,\n",
    "                                   return_shifted_df=True,\n",
    "                                   return_results=True)"
   ]
  },
  {
   "cell_type": "markdown",
   "metadata": {},
   "source": [
    "### Model 2: Summary"
   ]
  },
  {
   "cell_type": "code",
   "execution_count": null,
   "metadata": {},
   "outputs": [],
   "source": []
  },
  {
   "cell_type": "markdown",
   "metadata": {},
   "source": [
    "# COMBINING TWEET STATS, NLP CLASSIFICATION, AND MARKET DATA"
   ]
  },
  {
   "cell_type": "markdown",
   "metadata": {},
   "source": []
  },
  {
   "cell_type": "markdown",
   "metadata": {},
   "source": [
    "1. Load up stock data in CBH form\n",
    "2. Load up twitter data without NLP\n",
    "3. Create time_interval_bins ...\n",
    "    - from *stock CBH* time index\n",
    "4. Check twitter_df for any tweets from 1_hour prior\n",
    "5. Extract the 'content' column and retweet/fav counts \n",
    "\n",
    "\n",
    "    "
   ]
  },
  {
   "cell_type": "code",
   "execution_count": null,
   "metadata": {
    "ExecuteTime": {
     "end_time": "2021-06-18T22:49:48.090976Z",
     "start_time": "2021-06-18T22:48:26.850Z"
    }
   },
   "outputs": [],
   "source": [
    "file_dict=ji.def_filename_dictionary(load_prior=False,save_directory=True)"
   ]
  },
  {
   "cell_type": "code",
   "execution_count": null,
   "metadata": {
    "ExecuteTime": {
     "end_time": "2021-06-18T22:49:48.092044Z",
     "start_time": "2021-06-18T22:48:26.857Z"
    }
   },
   "outputs": [],
   "source": [
    "# LOAD IN FULL STOCK DATASET using ClosingBig S&P500 WITH INDEX.FREQ=CBH\n",
    "fname = file_dict['stock_df']['stock_df_with_indicators']\n",
    "full_df = ji.load_processed_stock_data(processed_data_filename=fname)\n",
    "\n",
    "# SELECT DESIRED COLUMNS\n",
    "stock_df = full_df[[\n",
    "    'price','ma7','ma21','26ema','12ema','MACD',\n",
    "    '20sd','upper_band','lower_band','ema','momentum'\n",
    "]]\n",
    "\n",
    "stock_df.head()\n",
    "\n",
    "stock_df['date_time'] = stock_df.index.to_series()\n",
    "ji.index_report(stock_df)\n",
    "\n",
    "stock_df.sort_index(inplace=True)\n",
    "display(stock_df.head(2),stock_df.tail(2))\n",
    "del full_df"
   ]
  },
  {
   "cell_type": "code",
   "execution_count": null,
   "metadata": {
    "ExecuteTime": {
     "end_time": "2021-06-18T22:49:48.093132Z",
     "start_time": "2021-06-18T22:48:26.863Z"
    }
   },
   "outputs": [],
   "source": [
    "## LOAD IN RAW TWITTER DATA, NO PROCESSING\n",
    "twitter_df= ji.load_raw_twitter_file(filename='data/trumptwitterarchive_export_iphone_only__08_23_2019.csv',\n",
    "                                     date_as_index=True,\n",
    "                                     rename_map={'text': 'content', 'created_at': 'date'})\n",
    "twitter_df = ji.check_twitter_df(twitter_df,text_col='content',remove_duplicates=True, remove_long_strings=True)\n"
   ]
  },
  {
   "cell_type": "code",
   "execution_count": null,
   "metadata": {
    "ExecuteTime": {
     "end_time": "2021-06-18T22:49:48.094343Z",
     "start_time": "2021-06-18T22:48:26.869Z"
    }
   },
   "outputs": [],
   "source": [
    "# MAKE TIME INTERVALS BASED ON BUSINESS HOUR START (09:30-10:30)\n",
    "clock = bs.Clock(verbose=1)\n",
    "clock.tic()\n",
    "\n",
    "time_intervals= \\\n",
    "ji.make_time_index_intervals(stock_df,\n",
    "                             col='date_time', \n",
    "                             closed='right',\n",
    "                             return_interval_dicts=False) \n",
    "clock.lap('time_intervals created.')\n",
    "\n",
    "\n",
    "## USE THE TIME INDEX TO FILTER OUT TWEETS FROM THE HOUR PRIOR\n",
    "twitter_df, bin_codes = ji.bin_df_by_date_intervals(twitter_df ,time_intervals)\n",
    "stock_df, bin_codes_stock = ji.bin_df_by_date_intervals(stock_df, time_intervals, column='date_time')\n",
    "\n",
    "clock.lap('bins added to dataframes')\n",
    "# display(twitter_df.head(2), stock_df.head(2))\n",
    "\n",
    "## COLLAPSE DFs BY CODED BINS\n",
    "twitter_grouped = ji.collapse_df_by_group_index_col(twitter_df,\n",
    "                                                    group_index_col='int_bins',\n",
    "                                                    drop_orig=True,\n",
    "                                                    verbose=0)\n",
    "\n",
    "stocks_grouped = ji.collapse_df_by_group_index_col(stock_df,\n",
    "                                                    drop_orig=True,\n",
    "                                                    group_index_col='int_bins', \n",
    "                                                  verbose=0)\n",
    "\n",
    "clock.toc('collapsed dfs to _grouped')\n",
    "display(twitter_grouped.head(3),stocks_grouped.head(3))"
   ]
  },
  {
   "cell_type": "code",
   "execution_count": null,
   "metadata": {
    "ExecuteTime": {
     "end_time": "2021-06-18T22:49:48.095548Z",
     "start_time": "2021-06-18T22:48:26.875Z"
    }
   },
   "outputs": [],
   "source": [
    "ihelp_menu(ji.merge_stocks_and_tweets)"
   ]
  },
  {
   "cell_type": "code",
   "execution_count": null,
   "metadata": {
    "ExecuteTime": {
     "end_time": "2021-06-18T22:49:48.096475Z",
     "start_time": "2021-06-18T22:48:26.882Z"
    }
   },
   "outputs": [],
   "source": [
    "## STOCKS AND TWEETS \n",
    "df_combined = ji.merge_stocks_and_tweets(stocks_grouped, \n",
    "                                      twitter_grouped,\n",
    "                                      on='int_bins',how='left',\n",
    "                                      show_summary=True)"
   ]
  },
  {
   "cell_type": "code",
   "execution_count": null,
   "metadata": {
    "ExecuteTime": {
     "end_time": "2021-06-18T22:49:48.097621Z",
     "start_time": "2021-06-18T22:48:26.888Z"
    }
   },
   "outputs": [],
   "source": [
    "ji.column_report(df_combined)"
   ]
  },
  {
   "cell_type": "code",
   "execution_count": null,
   "metadata": {
    "ExecuteTime": {
     "end_time": "2021-06-18T22:49:48.098647Z",
     "start_time": "2021-06-18T22:48:26.895Z"
    }
   },
   "outputs": [],
   "source": [
    "## Check for and address new null values\n",
    "ji.check_null_small(df_combined);\n",
    "cols_to_fill_zeros = ['num_tweets','total_retweet_count','total_favorite_count']\n",
    "for col in cols_to_fill_zeros:\n",
    "    idx_null = ji.find_null_idx(df_combined, column=col)\n",
    "    df_combined.loc[idx_null,col] = 0\n",
    "\n",
    "cols_to_fill_blank_str = ['group_content','source','tweet_times','is_retweet']\n",
    "for col in cols_to_fill_blank_str:\n",
    "    idx_null = ji.find_null_idx(df_combined, column=col)\n",
    "    df_combined.loc[idx_null, col] = \"\"\n",
    "ji.check_null_small(df_combined);"
   ]
  },
  {
   "cell_type": "code",
   "execution_count": null,
   "metadata": {
    "ExecuteTime": {
     "end_time": "2021-06-18T22:49:48.099831Z",
     "start_time": "2021-06-18T22:48:26.901Z"
    }
   },
   "outputs": [],
   "source": [
    "ji.dict_dropdown(file_dict)\n",
    "\n",
    "fname = file_dict['df_combined']['pre_nlp']\n",
    "df_combined.to_csv(fname)\n",
    "print(fname)"
   ]
  },
  {
   "cell_type": "code",
   "execution_count": null,
   "metadata": {
    "ExecuteTime": {
     "end_time": "2021-06-18T22:49:48.101306Z",
     "start_time": "2021-06-18T22:48:26.907Z"
    }
   },
   "outputs": [],
   "source": [
    "## Add nlp\n",
    "df_nlp = ji.full_twitter_df_processing(df_combined,'group_content',force=True)\n",
    "ji.column_report(df_nlp, as_qgrid=True)"
   ]
  },
  {
   "cell_type": "code",
   "execution_count": null,
   "metadata": {
    "ExecuteTime": {
     "end_time": "2021-06-18T22:49:48.102234Z",
     "start_time": "2021-06-18T22:48:26.913Z"
    }
   },
   "outputs": [],
   "source": [
    "df_nlp.head()"
   ]
  },
  {
   "cell_type": "code",
   "execution_count": null,
   "metadata": {
    "ExecuteTime": {
     "end_time": "2021-06-18T22:49:48.103209Z",
     "start_time": "2021-06-18T22:48:26.920Z"
    }
   },
   "outputs": [],
   "source": [
    "## Use case ratio null values as index to replace values\n",
    "idx_null= ji.check_null_small(df_nlp,null_index_column='case_ratio')\n",
    "df_nlp.loc[idx_null,'case_ratio'] = 0.0\n",
    "ji.check_null_small(df_nlp)\n",
    "\n",
    "## replace sentiment_class, set =-1\n",
    "cols_to_replace_misleading_values = ['sentiment_class']\n",
    "for col in cols_to_replace_misleading_values:\n",
    "    df_nlp.loc[idx_null,col] = -1\n",
    "\n",
    "## remap sentiment class\n",
    "sent_class_mapper = {'neg':0,\n",
    "                     -1:1,\n",
    "                    'pos':2}\n",
    "df_nlp['sentiment_class'] = df_nlp['sentiment_class'].apply(lambda x: sent_class_mapper[x])\n",
    "\n",
    "bool_cols_to_ints = ['has_tweets']\n",
    "for col in bool_cols_to_ints:\n",
    "    df_nlp[col] = df_nlp[col].apply(lambda x: 1 if x==True else 0)\n",
    "    "
   ]
  },
  {
   "cell_type": "code",
   "execution_count": null,
   "metadata": {
    "ExecuteTime": {
     "end_time": "2021-06-18T22:49:48.104392Z",
     "start_time": "2021-06-18T22:48:26.927Z"
    }
   },
   "outputs": [],
   "source": [
    "df_nlp.head()"
   ]
  },
  {
   "cell_type": "code",
   "execution_count": null,
   "metadata": {
    "ExecuteTime": {
     "end_time": "2021-06-18T22:49:48.105797Z",
     "start_time": "2021-06-18T22:48:26.933Z"
    }
   },
   "outputs": [],
   "source": [
    "ji.display_same_tweet_diff_cols(df_nlp.groupby('has_tweets').get_group(True),\n",
    "                                columns=['group_content','content_min_clean','cleaned_stopped_lemmas'],as_md=True)"
   ]
  },
  {
   "cell_type": "code",
   "execution_count": null,
   "metadata": {
    "ExecuteTime": {
     "end_time": "2021-06-18T22:49:48.107013Z",
     "start_time": "2021-06-18T22:48:26.939Z"
    }
   },
   "outputs": [],
   "source": [
    "ji.check_twitter_df(df_nlp,char_limit=61*350)\n",
    "# get_floats = df_nlp['content_min_clean'].apply(lambda x: isinstance(x,float))\n"
   ]
  },
  {
   "cell_type": "code",
   "execution_count": null,
   "metadata": {
    "ExecuteTime": {
     "end_time": "2021-06-18T22:49:48.108058Z",
     "start_time": "2021-06-18T22:48:26.946Z"
    }
   },
   "outputs": [],
   "source": [
    "fname =file_dict['df_combined']['post_nlp']\n",
    "df_nlp.to_csv(fname)\n",
    "print(f'saved to {fname}')"
   ]
  },
  {
   "cell_type": "markdown",
   "metadata": {},
   "source": [
    "### Loading in NLP Model for Predictions"
   ]
  },
  {
   "cell_type": "code",
   "execution_count": null,
   "metadata": {
    "ExecuteTime": {
     "end_time": "2021-06-18T22:49:48.109408Z",
     "start_time": "2021-06-18T22:48:26.953Z"
    }
   },
   "outputs": [],
   "source": [
    "ji.dict_dropdown(file_dict)"
   ]
  },
  {
   "cell_type": "code",
   "execution_count": null,
   "metadata": {
    "ExecuteTime": {
     "end_time": "2021-06-18T22:49:48.110498Z",
     "start_time": "2021-06-18T22:48:26.960Z"
    }
   },
   "outputs": [],
   "source": [
    "def get_most_recent_filenames(full_filename,str_to_find=None):\n",
    "    import os\n",
    "    import time\n",
    "    fparts = full_filename.split('/')\n",
    "    folder = '/'.join(fparts[0:-1])\n",
    "    name = fparts[-1]\n",
    "    \n",
    "    filelist = os.listdir(folder)\n",
    "\n",
    "    mtimes = [['file','date modified']]\n",
    "    for file in filelist:\n",
    "        if str_to_find is None:\n",
    "            mtimes.append([file, time.ctime(os.path.getmtime(folder+'/'+file))])\n",
    "        elif str_to_find in file:\n",
    "            mtimes.append([file, time.ctime(os.path.getmtime(folder+'/'+file))])\n",
    "    res = bs.list2df(mtimes)\n",
    "    res['date modified'] = pd.to_datetime(res['date modified'])\n",
    "    res.set_index('date modified',inplace=True)\n",
    "    res.sort_index(ascending=False, inplace=True)\n",
    "    \n",
    "    most_recent = res.iloc[0]\n",
    "    import re\n",
    "    re.compile(r'()')\n",
    "    \n",
    "    return    res"
   ]
  },
  {
   "cell_type": "code",
   "execution_count": null,
   "metadata": {
    "ExecuteTime": {
     "end_time": "2021-06-18T22:49:48.111399Z",
     "start_time": "2021-06-18T22:48:26.967Z"
    }
   },
   "outputs": [],
   "source": [
    "res = get_most_recent_filenames(file_dict['model_0A']['base_filename'])\n",
    "res.iloc[0:10]"
   ]
  },
  {
   "cell_type": "code",
   "execution_count": null,
   "metadata": {
    "ExecuteTime": {
     "end_time": "2021-06-18T22:49:48.112419Z",
     "start_time": "2021-06-18T22:48:26.973Z"
    }
   },
   "outputs": [],
   "source": [
    "reload(ji)"
   ]
  },
  {
   "cell_type": "code",
   "execution_count": null,
   "metadata": {
    "ExecuteTime": {
     "end_time": "2021-06-18T22:49:48.113450Z",
     "start_time": "2021-06-18T22:48:26.980Z"
    }
   },
   "outputs": [],
   "source": [
    "## Load the nlp model and weights with layers set trainable=False\n",
    "base_fname = file_dict['nlp_model_for_predictions']['base_filename']\n",
    "nlp_model,df_model_layers =  ji.load_model_weights_params(base_filename= base_fname,#'models/NLP/nlp_model0B__09-02-2019_0121pm',\n",
    "                                        load_model_params=False,\n",
    "                                        load_model_layers_excel=True,\n",
    "                                        trainable=False)\n",
    "## Load in Word2Vec model from earlier\n",
    "w2v_model = io.load_word2vec(file_dict=file_dict)"
   ]
  },
  {
   "cell_type": "markdown",
   "metadata": {},
   "source": [
    "### Get Predictions for Hour-Binned Tweets"
   ]
  },
  {
   "cell_type": "code",
   "execution_count": null,
   "metadata": {
    "ExecuteTime": {
     "end_time": "2021-06-18T22:49:48.114601Z",
     "start_time": "2021-06-18T22:48:26.987Z"
    }
   },
   "outputs": [],
   "source": [
    "ihelp_menu([ji.get_tokenizer_and_text_sequences,\n",
    "           ji.replace_embedding_layer])"
   ]
  },
  {
   "cell_type": "code",
   "execution_count": null,
   "metadata": {
    "ExecuteTime": {
     "end_time": "2021-06-18T22:49:48.115772Z",
     "start_time": "2021-06-18T22:48:26.994Z"
    }
   },
   "outputs": [],
   "source": [
    "ji.column_report(df_nlp)"
   ]
  },
  {
   "cell_type": "code",
   "execution_count": null,
   "metadata": {
    "ExecuteTime": {
     "end_time": "2021-06-18T22:49:48.116971Z",
     "start_time": "2021-06-18T22:48:27.001Z"
    }
   },
   "outputs": [],
   "source": [
    "## GET X_SEQUENES FOR BINNED TWEETS AND CREATE NEW EMBEDDING LAYER FOR THEIR SIZE\n",
    "reload(ji)\n",
    "text_data=df_nlp['cleaned_stopped_lemmas']\n",
    "tokenizer, X_sequences = ji.get_tokenizer_and_text_sequences(w2v_model,text_data)\n",
    "\n",
    "new_nlp_model = ji.replace_embedding_layer(nlp_model,w2v_model,text_data,verbose=2)\n",
    "new_nlp_model.summary()"
   ]
  },
  {
   "cell_type": "code",
   "execution_count": null,
   "metadata": {
    "ExecuteTime": {
     "end_time": "2021-06-18T22:49:48.117999Z",
     "start_time": "2021-06-18T22:48:27.008Z"
    }
   },
   "outputs": [],
   "source": [
    "## GET PREDICTIONS FROM NEW MODEL\n",
    "preds = new_nlp_model.predict_classes(X_sequences)\n",
    "print(type(preds), preds.shape)\n",
    "ji.check_y_class_balance(preds)"
   ]
  },
  {
   "cell_type": "code",
   "execution_count": null,
   "metadata": {
    "ExecuteTime": {
     "end_time": "2021-06-18T22:49:48.119298Z",
     "start_time": "2021-06-18T22:48:27.015Z"
    }
   },
   "outputs": [],
   "source": [
    "## add to df\n",
    "df_nlp['pred_classes_int'] = preds\n",
    "mapper= {0:'neg',\n",
    "        1:'no_change',\n",
    "        2:'pos'}\n",
    "df_nlp['pred_classes'] = df_nlp['pred_classes_int'].apply(lambda x: mapper[x])\n",
    "display(df_nlp.head())"
   ]
  },
  {
   "cell_type": "code",
   "execution_count": null,
   "metadata": {
    "ExecuteTime": {
     "end_time": "2021-06-18T22:49:48.120524Z",
     "start_time": "2021-06-18T22:48:27.022Z"
    }
   },
   "outputs": [],
   "source": [
    "ji.dict_dropdown(file_dict)"
   ]
  },
  {
   "cell_type": "code",
   "execution_count": null,
   "metadata": {
    "ExecuteTime": {
     "end_time": "2021-06-18T22:49:48.121584Z",
     "start_time": "2021-06-18T22:48:27.029Z"
    }
   },
   "outputs": [],
   "source": [
    "# fname = file_dict['df_combined']['with_preds']\n",
    "\n",
    "# df_nlp.to_csv(fname)\n",
    "# print(fname)"
   ]
  },
  {
   "cell_type": "markdown",
   "metadata": {},
   "source": [
    "## Model 3: Stock Price + Indicators + NLP Preds & Tweet Features"
   ]
  },
  {
   "cell_type": "code",
   "execution_count": null,
   "metadata": {
    "ExecuteTime": {
     "end_time": "2021-06-18T22:49:48.122652Z",
     "start_time": "2021-06-18T22:48:27.036Z"
    }
   },
   "outputs": [],
   "source": [
    "## IMPORT CUSTOM CAPSTONE FUNCTIONS\n",
    "import functions_combined_BEST as ji\n",
    "import functions_io as io\n",
    "\n",
    "from functions_combined_BEST import ihelp, ihelp_menu,\\\n",
    "reload, inspect_variables\n",
    "\n",
    "## IMPORT MY PUBLISHED PYPI PACKAGE \n",
    "import bs_ds as  bs\n",
    "from bs_ds.imports import *\n",
    "\n",
    "## IMPORT CONVENIENCE FUNCTIONS\n",
    "from pprint import pprint\n",
    "import qgrid\n",
    "import json\n",
    "\n",
    "# Import plotly and cufflinks for iplots\n",
    "import plotly\n",
    "import cufflinks as cf\n",
    "from plotly import graph_objs as go\n",
    "from plotly.offline import iplot\n",
    "cf.go_offline()\n",
    "\n",
    "# Suppress warnings\n",
    "import warnings\n",
    "warnings.filterwarnings('ignore')\n",
    "\n",
    "#Set pd.set_options for tweet visibility\n",
    "pd.set_option('display.max_colwidth',100)\n",
    "pd.set_option('display.max_columns',50)\n",
    "\n",
    "file_dict = io.def_filename_dictionary(load_prior=False, save_directory=True)\n",
    "# file_dict = ji.load_filename_directory()"
   ]
  },
  {
   "cell_type": "code",
   "execution_count": null,
   "metadata": {
    "ExecuteTime": {
     "end_time": "2021-06-18T22:49:48.124053Z",
     "start_time": "2021-06-18T22:48:27.043Z"
    }
   },
   "outputs": [],
   "source": [
    "df_combined = pd.read_csv('data/__combined_stock_data_with_tweet_preds.csv', index_col=0,parse_dates=True)\n",
    "df_combined.head()"
   ]
  },
  {
   "cell_type": "markdown",
   "metadata": {},
   "source": [
    "### Finalize colums for final model"
   ]
  },
  {
   "cell_type": "code",
   "execution_count": null,
   "metadata": {
    "ExecuteTime": {
     "end_time": "2021-06-18T22:49:48.125256Z",
     "start_time": "2021-06-18T22:48:27.050Z"
    }
   },
   "outputs": [],
   "source": [
    "model_col_list = ['price', 'ma7', 'ma21', '26ema', '12ema', 'MACD', '20sd', 'upper_band','lower_band', 'ema', 'momentum',\n",
    "                  'has_tweets','num_tweets','case_ratio', 'compound_score','pos','neu','neg','sentiment_class',\n",
    "                  'pred_classes','pred_classes_int','total_favorite_count','total_retweet_count']\n",
    "\n",
    "df_combined = ji.set_timeindex_freq(df_combined,fill_nulls=False)\n",
    "\n",
    "df_to_model = df_combined[model_col_list].copy()#df_nlp[model_col_list].copy()\n",
    "# df_to_model.to_csv('data/_df_to_model_final_model.csv')\n",
    "df_to_model.head()"
   ]
  },
  {
   "cell_type": "code",
   "execution_count": null,
   "metadata": {
    "ExecuteTime": {
     "end_time": "2021-06-18T22:49:48.126336Z",
     "start_time": "2021-06-18T22:48:27.056Z"
    }
   },
   "outputs": [],
   "source": [
    "# del_me= ['X_sequences','df_nlp','twitter_grouped','bin_codes_stock','bin_codes']#list of variable names\n",
    "# for me in del_me:    \n",
    "#     try: \n",
    "#         exec(f'del {me}')\n",
    "#         print(f'del {me} succeeded')\n",
    "#     except:\n",
    "#         print(f'del {me} succeeded')\n",
    "#         continue\n",
    "# ji.inspect_variables(locals())\n"
   ]
  },
  {
   "cell_type": "code",
   "execution_count": null,
   "metadata": {
    "ExecuteTime": {
     "end_time": "2021-06-18T22:49:48.127695Z",
     "start_time": "2021-06-18T22:48:27.063Z"
    }
   },
   "outputs": [],
   "source": [
    "## SPECIFY # OF TRAINING TEST DAYS \n",
    "reload(ji)\n",
    "num_test_days=5\n",
    "num_train_days=260\n",
    "### SPECIFY Number of days included in each X_sequence (each prediction)\n",
    "days_for_x_window=1\n",
    "\n",
    "cols_to_exclude = ['pred_classes','has_tweets']\n",
    "# Calculate number of rows to bin for x_windows\n",
    "periods_per_day = ji.get_day_window_size_from_freq(df_to_model.drop(cols_to_exclude,axis=1), ji.custom_BH_freq() )\n",
    "\n",
    "\n",
    "## Get the number of rows for x_window \n",
    "x_window = periods_per_day * days_for_x_window#data_params['days_for_x_window'] \n",
    "print(f'X_window size = {x_window} -- ({days_for_x_window} day(s) * {periods_per_day} rows/day)\\n')\n",
    "\n",
    "## Train-test-split by the # of days\n",
    "df_train, df_test = ji.train_test_split_by_last_days(df_to_model.drop(cols_to_exclude,axis=1),\n",
    "                                                     periods_per_day =periods_per_day, \n",
    "                                                     num_test_days   = num_test_days,\n",
    "                                                     num_train_days  = num_train_days,\n",
    "                                                     verbose=1, iplot=True)\n",
    "\n"
   ]
  },
  {
   "cell_type": "code",
   "execution_count": null,
   "metadata": {
    "ExecuteTime": {
     "end_time": "2021-06-18T22:49:48.128867Z",
     "start_time": "2021-06-18T22:48:27.070Z"
    },
    "scrolled": false
   },
   "outputs": [],
   "source": [
    "###### RESCALE DATA USING MinMaxScalers FIT ON TRAINING DATA's COLUMNS ######\n",
    "display(df_train.head(2).style.set_caption('df_train - pre-scaling'))\n",
    "\n",
    "scaler_library, df_train = ji.make_scaler_library(df_train, transform=True, verbose=1)\n",
    "\n",
    "df_test = ji.transform_cols_from_library(df_test, col_list=None,\n",
    "                                         scaler_library=scaler_library,\n",
    "                                         inverse=False)\n",
    "display(df_train.head(2).style.set_caption('df_train - post-scaling'))\n",
    "\n",
    "# Show transformed dataset\n",
    "# display( df_train.head(2).round(3).style.set_caption('training data - scaled'))\n",
    "\n",
    "# Create timeseries generators\n",
    "train_generator, test_generator = ji.make_train_test_series_gens(\n",
    "    train_data_series=df_train,\n",
    "    test_data_series=df_test,\n",
    "    y_cols='price',\n",
    "    x_window=x_window,\n",
    "    n_features=len(df_train.columns),\n",
    "    batch_size=1, verbose=1)"
   ]
  },
  {
   "cell_type": "code",
   "execution_count": null,
   "metadata": {
    "ExecuteTime": {
     "end_time": "2021-06-18T22:49:48.131038Z",
     "start_time": "2021-06-18T22:48:27.076Z"
    }
   },
   "outputs": [],
   "source": [
    "from tensorflow.keras.models import Sequential\n",
    "from tensorflow.keras import optimizers\n",
    "from tensorflow.keras.layers import Bidirectional, Dense, LSTM, Dropout\n",
    "from IPython.display import display\n",
    "from tensorflow.keras.regularizers import l2\n",
    "\n",
    "# Specifying input shape (size of samples, rank of samples?)\n",
    "n_input =x_window\n",
    "n_features = len(df_train.columns)\n",
    "print(f'input shape: ({n_input},{n_features})')\n",
    "input_shape=(n_input, n_features)\n",
    "\n",
    "# Create model architecture\n",
    "model3 = Sequential()\n",
    "model3.add(LSTM(units=100, input_shape =input_shape,return_sequences=True,dropout=0.3,recurrent_dropout=0.3))#,  kernel_regularizer=l2(0.01),recurrent_regularizer=l2(0.01),\n",
    "model3.add(LSTM(units=100, activation='relu', return_sequences=False,dropout=0.3,recurrent_dropout=0.3))\n",
    "#     model.add(Dense(units=10, activation='relu'))\n",
    "model3.add(Dense(1))#,activation='relu'))\n",
    "\n",
    "\n",
    "model3.compile(loss=ji.my_rmse, metrics=['acc'],optimizer=optimizers.Nadam())\n",
    "    \n",
    "model3.summary()"
   ]
  },
  {
   "cell_type": "code",
   "execution_count": null,
   "metadata": {
    "ExecuteTime": {
     "end_time": "2021-06-18T22:49:48.132674Z",
     "start_time": "2021-06-18T22:48:27.082Z"
    }
   },
   "outputs": [],
   "source": [
    "## FIT MODEL\n",
    "dashes = '---'*20\n",
    "print(f\"{dashes}\\n\\tFITTING MODEL:\\n{dashes}\")\n",
    "\n",
    "## set params\n",
    "epochs=5\n",
    "\n",
    "# override keras warnings\n",
    "ji.quiet_mode(True,True,True)\n",
    "\n",
    "# Instantiating clock timer\n",
    "clock = bs.Clock()\n",
    "clock.tic('')\n",
    "\n",
    "# Fit the model\n",
    "history = model3.fit_generator(train_generator,\n",
    "                               epochs=epochs,\n",
    "                               verbose=2, \n",
    "                               use_multiprocessing=True,\n",
    "                               workers=3)\n",
    "clock.toc('')\n",
    "\n",
    "model_key = \"model_3\"\n",
    "hist_fname = file_dict[model_key]['fig_keras_history.ext']\n",
    "summary_fname = file_dict[model_key]['model_summary']\n",
    "\n",
    "# eval_results = ji.evaluate_model_plot_history(model1, train_generator, test_generator)\n",
    "ji.evaluate_regression_model(model3,history,\n",
    "                             train_generator=train_generator,\n",
    "                             test_generator=test_generator,\n",
    "                            true_test_series=df_test['price'],\n",
    "                            true_train_series =df_train['price'],\n",
    "                             save_history=True,history_filename=hist_fname,\n",
    "                             save_summary=True, summary_filename=summary_fname)"
   ]
  },
  {
   "cell_type": "code",
   "execution_count": null,
   "metadata": {
    "ExecuteTime": {
     "end_time": "2021-06-18T22:49:48.133744Z",
     "start_time": "2021-06-18T22:48:27.089Z"
    }
   },
   "outputs": [],
   "source": [
    "### PREFER NEW WAY - GET DF_MODEL FIRST THEN GET EVALUATE_REGRESSION INFORMATION?\n",
    "## Get true vs pred data as a dataframe and iplot\n",
    "df_model3 = ji.get_model_preds_df(model3, \n",
    "                                  test_generator = test_generator,\n",
    "                                  true_train_series = df_train['price'],\n",
    "                                  true_test_series = df_test['price'],\n",
    "                                  include_train_data=True,\n",
    "                                  inverse_tf = True, \n",
    "                                  scaler = scaler_library['price'],\n",
    "                                  preds_from_gen = True, \n",
    "                                  iplot = False,\n",
    "                                  verbose=1)\n",
    "#                                   subplot_mode='lines+markers')\n",
    "ji.plotly_true_vs_preds_subplots(df_model3)\n",
    "    \n",
    "# Get evaluation metrics\n",
    "df_results3, dfs_results3, df_shifted3 =\\\n",
    "ji.compare_eval_metrics_for_shifts(df_model3['true_test_price'],\n",
    "                                   df_model3['pred_from_gen'],\n",
    "                                   shift_list=np.arange(-4,4,1),\n",
    "                                   true_train_series_to_add=df_model3['true_train_price'],\n",
    "                                   display_results=True,\n",
    "                                   display_U_info=True,\n",
    "                                   return_results=True,\n",
    "                                   return_styled_df=True,\n",
    "                                   return_shifted_df=True)\n",
    "\n",
    "\n",
    "save_model=True\n",
    "ji.save_model_dfs(file_dict, 'model_3',df_model3,dfs_results3,df_shifted3)"
   ]
  },
  {
   "cell_type": "code",
   "execution_count": null,
   "metadata": {
    "ExecuteTime": {
     "end_time": "2021-06-18T22:49:48.134937Z",
     "start_time": "2021-06-18T22:48:27.096Z"
    }
   },
   "outputs": [],
   "source": [
    "reload(ji)\n",
    "filename_prefix = file_dict['model_3']['base_filename']\n",
    "if save_model ==True:\n",
    "    model_3_output_files = bs.save_model_weights_params(model3,\n",
    "                                 filename_prefix=filename_prefix,\n",
    "                                 auto_increment_name=True,\n",
    "                                 auto_filename_suffix=True, \n",
    "                                 suffix_time_format='%m-%d-%y_%I%M%p',\n",
    "                                 save_model_layer_config_xlsx=True)"
   ]
  },
  {
   "cell_type": "markdown",
   "metadata": {},
   "source": [
    "### Model 3 Summary"
   ]
  },
  {
   "cell_type": "code",
   "execution_count": null,
   "metadata": {},
   "outputs": [],
   "source": []
  },
  {
   "cell_type": "markdown",
   "metadata": {},
   "source": [
    "## Model X: XGB Regression + Feature Importance\n"
   ]
  },
  {
   "cell_type": "code",
   "execution_count": null,
   "metadata": {
    "ExecuteTime": {
     "end_time": "2021-06-18T22:49:48.136213Z",
     "start_time": "2021-06-18T22:48:27.107Z"
    }
   },
   "outputs": [],
   "source": [
    "## SPECIFY # OF TRAINING TEST DAYS \n",
    "reload(ji)\n",
    "num_test_days=20\n",
    "num_train_days=2*52*5\n",
    "### SPECIFY Number of days included in each X_sequence (each prediction)\n",
    "days_for_x_window=1\n",
    "\n",
    "cols_to_exclude = ['pred_classes','has_tweets']\n",
    "# Calculate number of rows to bin for x_windows\n",
    "periods_per_day = ji.get_day_window_size_from_freq(df_to_model.drop(cols_to_exclude,axis=1), ji.custom_BH_freq() )\n",
    "\n",
    "\n",
    "## Get the number of rows for x_window \n",
    "x_window = periods_per_day * days_for_x_window#data_params['days_for_x_window'] \n",
    "print(f'X_window size = {x_window} -- ({days_for_x_window} day(s) * {periods_per_day} rows/day)\\n')\n",
    "\n",
    "## Train-test-split by the # of days\n",
    "df_train, df_test = ji.train_test_split_by_last_days(df_to_model.drop(cols_to_exclude,axis=1),\n",
    "                                                     periods_per_day =periods_per_day, \n",
    "                                                     num_test_days   = num_test_days,\n",
    "                                                     num_train_days  = num_train_days,\n",
    "                                                     verbose=1, iplot=True)\n",
    "\n",
    "###### RESCALE DATA USING MinMaxScalers FIT ON TRAINING DATA's COLUMNS ######\n",
    "display(df_train.head(2).style.set_caption('df_train - pre-scaling'))\n",
    "\n",
    "scaler_library, df_train = ji.make_scaler_library(df_train, transform=True, verbose=1)\n",
    "\n",
    "df_test = ji.transform_cols_from_library(df_test, col_list=None,\n",
    "                                         scaler_library=scaler_library,\n",
    "                                         inverse=False)\n",
    "display(df_train.head(2).style.set_caption('df_train - post-scaling'))\n"
   ]
  },
  {
   "cell_type": "code",
   "execution_count": null,
   "metadata": {
    "ExecuteTime": {
     "end_time": "2021-06-18T22:49:48.137468Z",
     "start_time": "2021-06-18T22:48:27.114Z"
    }
   },
   "outputs": [],
   "source": [
    "## Shift price values such that the y-value being predicted is the following hour's Closing Price\n",
    "df_train['price_shifted'] = df_train['price'].shift(-1)\n",
    "df_test['price_shifted'] = df_test['price'].shift(-1)\n",
    "\n",
    "display(df_train[['price','price_shifted','momentum','ema','num_tweets',]].head(10))\n",
    "\n",
    "# Drop the couple of null values created by the shift\n",
    "df_train.dropna(subset=['price_shifted'], inplace=True)\n",
    "df_test.dropna(subset=['price_shifted'], inplace=True)\n",
    "\n",
    "## Drop columns and make train-test-X and y\n",
    "target_col = 'price_shifted'\n",
    "drop_cols = ['price_shifted','price']\n",
    "\n",
    "X_train = df_train.drop(drop_cols,axis=1)\n",
    "y_train = df_train[target_col]\n",
    "X_test = df_test.drop(drop_cols,axis=1)\n",
    "y_test = df_test[target_col]"
   ]
  },
  {
   "cell_type": "code",
   "execution_count": null,
   "metadata": {
    "ExecuteTime": {
     "end_time": "2021-06-18T22:49:48.138801Z",
     "start_time": "2021-06-18T22:48:27.121Z"
    },
    "scrolled": false
   },
   "outputs": [],
   "source": [
    "import xgboost as xgb\n",
    "from xgboost import plot_importance, plot_tree\n",
    "from sklearn.metrics import mean_squared_error, mean_absolute_error\n",
    "\n",
    "reg = xgb.XGBRegressor(n_estimators=1000,silent=False,max_depth=4)\n",
    "\n",
    "reg.fit(X_train, y_train,\n",
    "        eval_set=[(X_train, y_train), (X_test, y_test)],\n",
    "        early_stopping_rounds=50,\n",
    "       verbose=False)\n",
    "\n",
    "\n",
    "## Get Predictions\n",
    "pred_price = reg.predict(X_test)\n",
    "pred_price_series = pd.Series(pred_price,index=df_test.index,name='pred_test_price')#.plot()\n",
    "df_xgb = pd.concat([df_train['price'].rename('true_train_price'), pred_price_series,df_test['price'].rename('true_test_price')],axis=1)\n",
    "\n",
    "\n",
    "df_results = ji.evaluate_regression(df_test['price'], pred_price_series,show_results=True);\n",
    "\n",
    "\n",
    "fig = ji.plotly_true_vs_preds_subplots(df_xgb,true_train_col='true_train_price',\n",
    "                                true_test_col='true_test_price',\n",
    "                                pred_test_columns='pred_test_price')\n",
    "\n",
    "\n",
    "## PLOT FEATURE IMPORTANCE\n",
    "feature_importance={}\n",
    "for import_type in ['weight','gain','cover']:\n",
    "    reg.importance_type = import_type\n",
    "    cur_importances = reg.feature_importances_\n",
    "    feature_importance[import_type] = pd.Series(data = cur_importances,\n",
    "                                               index=df_train.drop(drop_cols,axis=1).columns,\n",
    "                                               name=import_type)\n",
    "\n",
    "df_importance = pd.DataFrame(feature_importance)\n",
    "    \n",
    "importance_fig = df_importance.sort_values(by='weight', ascending=True).iplot(kind='barh',theme='solar',\n",
    "                                                                    title='Feature Importance',\n",
    "                                                                    xTitle='Relative Importance<br>(sum=1.0)',\n",
    "                                                                    asFigure=True)\n",
    "\n",
    "iplot(importance_fig)"
   ]
  },
  {
   "cell_type": "code",
   "execution_count": null,
   "metadata": {
    "ExecuteTime": {
     "end_time": "2021-06-18T22:49:48.140217Z",
     "start_time": "2021-06-18T22:48:27.127Z"
    }
   },
   "outputs": [],
   "source": [
    "# from plotly.offline import plot,iplot\n",
    "# html_fig = plot(importance_fig,output_type='div')\n",
    "\n",
    "# with open ('html_importance_fig.html','w') as f:\n",
    "#     f.write(html_fig)"
   ]
  },
  {
   "cell_type": "code",
   "execution_count": null,
   "metadata": {
    "ExecuteTime": {
     "end_time": "2021-06-18T22:49:48.141417Z",
     "start_time": "2021-06-18T22:48:27.133Z"
    }
   },
   "outputs": [],
   "source": [
    "# Compare predictions if predictions timebins shifted\n",
    "df_resultsX, dfs_resultsX, df_shiftedX =\\\n",
    "ji.compare_eval_metrics_for_shifts(df_xgb['true_test_price'],\n",
    "                                   df_xgb['pred_test_price'],\n",
    "                                   shift_list=np.arange(-4,5,1),\n",
    "                                   true_train_series_to_add=df_xgb['true_train_price'],\n",
    "                                   display_results=True,\n",
    "                                   return_styled_df=True,\n",
    "                                   display_U_info=False,\n",
    "                                   return_shifted_df=True,\n",
    "                                   return_results=True)\n",
    "df_importance.to_csv('results/modelxgb/df_importance.csv')\n",
    "\n",
    "ji.save_model_dfs(file_dict, 'model_xgb',df_xgb,dfs_resultsX,df_shiftedX)"
   ]
  },
  {
   "cell_type": "code",
   "execution_count": null,
   "metadata": {
    "ExecuteTime": {
     "end_time": "2021-06-18T22:49:48.142828Z",
     "start_time": "2021-06-18T22:48:27.140Z"
    }
   },
   "outputs": [],
   "source": [
    "tree_vis = xgb.to_graphviz(reg)#,**{'format':'svg'})\n",
    "\n",
    "tree_vis.render(\"xgb_full_model_\",format=\"pdf\",)"
   ]
  },
  {
   "cell_type": "markdown",
   "metadata": {},
   "source": [
    "### Model Interpretation"
   ]
  },
  {
   "cell_type": "code",
   "execution_count": null,
   "metadata": {
    "ExecuteTime": {
     "end_time": "2021-06-18T22:49:48.144557Z",
     "start_time": "2021-06-18T22:48:27.146Z"
    }
   },
   "outputs": [],
   "source": [
    "import shap\n",
    "shap.initjs()\n",
    "explainer = shap.TreeExplainer(reg)\n",
    "shap_values = explainer.shap_values(X_train)\n",
    "shap_interaction_values = explainer.shap_interaction_values(X_train)"
   ]
  },
  {
   "cell_type": "code",
   "execution_count": null,
   "metadata": {
    "ExecuteTime": {
     "end_time": "2021-06-18T22:49:48.146029Z",
     "start_time": "2021-06-18T22:48:27.153Z"
    }
   },
   "outputs": [],
   "source": [
    "shap.summary_plot(shap_interaction_values,X_train)"
   ]
  },
  {
   "cell_type": "code",
   "execution_count": null,
   "metadata": {
    "ExecuteTime": {
     "end_time": "2021-06-18T22:49:48.147322Z",
     "start_time": "2021-06-18T22:48:27.159Z"
    }
   },
   "outputs": [],
   "source": [
    "shap.summary_plot(shap_values, features=X_train)"
   ]
  },
  {
   "cell_type": "markdown",
   "metadata": {},
   "source": [
    "### Model X Summary"
   ]
  },
  {
   "cell_type": "code",
   "execution_count": null,
   "metadata": {
    "ExecuteTime": {
     "end_time": "2021-06-18T22:49:48.148736Z",
     "start_time": "2021-06-18T22:48:27.166Z"
    }
   },
   "outputs": [],
   "source": [
    "# importance_fig = df_importance.sort_values(by='weight', ascending=True).iplot(kind='barh',theme='solar',\n",
    "#                                                                     title='Feature Importance',\n",
    "#                                                                     xTitle='Relative Importance<br>(sum=1.0)',\n",
    "#                                                                     asFigure=True)\n",
    "\n",
    "# iplot(importance_fig)"
   ]
  },
  {
   "cell_type": "code",
   "execution_count": null,
   "metadata": {},
   "outputs": [],
   "source": []
  },
  {
   "cell_type": "markdown",
   "metadata": {},
   "source": [
    "# Summary"
   ]
  },
  {
   "cell_type": "code",
   "execution_count": null,
   "metadata": {
    "ExecuteTime": {
     "end_time": "2021-06-18T22:49:48.149914Z",
     "start_time": "2021-06-18T22:48:27.177Z"
    }
   },
   "outputs": [],
   "source": [
    "dfs_list = {'Model 1':dfs_results1,\n",
    "            'Model 2':dfs_results2,\n",
    "            'Model 3':dfs_results3,\n",
    "            'XGB Regressor':dfs_resultsX}\n",
    "for k,v in dfs_list.items():\n",
    "    new_cap = f'Evaluation Metrics for {k}'\n",
    "    display(v.set_caption(new_cap))\n",
    "#     [display(x.set_cat) for x in dfs_list]"
   ]
  },
  {
   "cell_type": "code",
   "execution_count": null,
   "metadata": {},
   "outputs": [],
   "source": []
  }
 ],
 "metadata": {
  "colab": {
   "collapsed_sections": [
    "xNf73gC9daS-",
    "eE3D-Avztybj"
   ],
   "name": "Capstone Project Outline + Analysis.ipynb",
   "provenance": [],
   "toc_visible": true,
   "version": "0.3.2"
  },
  "kernelspec": {
   "display_name": "learn-env-new",
   "language": "python",
   "name": "learn-env-new"
  },
  "language_info": {
   "codemirror_mode": {
    "name": "ipython",
    "version": 3
   },
   "file_extension": ".py",
   "mimetype": "text/x-python",
   "name": "python",
   "nbconvert_exporter": "python",
   "pygments_lexer": "ipython3",
   "version": "3.8.5"
  },
  "toc": {
   "base_numbering": 1,
   "nav_menu": {},
   "number_sections": false,
   "sideBar": true,
   "skip_h1_title": false,
   "title_cell": "Table of Contents",
   "title_sidebar": "Contents",
   "toc_cell": true,
   "toc_position": {
    "height": "calc(100% - 180px)",
    "left": "10px",
    "top": "150px",
    "width": "226.5px"
   },
   "toc_section_display": true,
   "toc_window_display": true
  },
  "varInspector": {
   "cols": {
    "lenName": 16,
    "lenType": 16,
    "lenVar": "25"
   },
   "kernels_config": {
    "python": {
     "delete_cmd_postfix": "",
     "delete_cmd_prefix": "del ",
     "library": "var_list.py",
     "varRefreshCmd": "print(var_dic_list())"
    },
    "r": {
     "delete_cmd_postfix": ") ",
     "delete_cmd_prefix": "rm(",
     "library": "var_list.r",
     "varRefreshCmd": "cat(var_dic_list()) "
    }
   },
   "oldHeight": 265.340454,
   "position": {
    "height": "40px",
    "left": "751.591px",
    "right": "20px",
    "top": "49px",
    "width": "607.773px"
   },
   "types_to_exclude": [
    "module",
    "function",
    "builtin_function_or_method",
    "instance",
    "_Feature"
   ],
   "varInspector_section_display": "none",
   "window_display": false
  }
 },
 "nbformat": 4,
 "nbformat_minor": 1
}
