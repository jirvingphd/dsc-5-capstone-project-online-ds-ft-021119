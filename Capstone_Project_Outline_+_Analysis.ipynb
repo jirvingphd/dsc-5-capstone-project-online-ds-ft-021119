{
 "cells": [
  {
   "cell_type": "markdown",
   "metadata": {
    "colab_type": "text",
    "heading_collapsed": true,
    "id": "mHDiTjr5lm_U"
   },
   "source": [
    "# Project Overview"
   ]
  },
  {
   "cell_type": "markdown",
   "metadata": {
    "colab_type": "text",
    "hidden": true,
    "id": "wofiIIk6hQtc"
   },
   "source": [
    "## PROJECT GOAL:\n",
    "\n",
    "* **Use President Trump's tweets (NLP and other features) to predict fluctuations in the stock market (using S&P 500 as index).**\n",
    "\n",
    "    \n",
    "### Data to Use:\n",
    "\n",
    "* All Donald Trump tweets from inaugaration day 2017 to today (for now) - 06/20/19\n",
    "\n",
    "    *          Extracted from http://www.trumptwitterarchive.com/\n",
    "*     Minute-resolution data for the S&P500 covering the same time period.\n",
    "\n",
    "    *         IVE S&P500 Index from - http://www.kibot.com/free_historical_data.aspx\n",
    "    \n",
    "## MAJOR REFERENCES / INSPIRATION / PRIOR WORK IN FIELD:\n",
    "\n",
    "1. **Stanford Scientific Poster Using NLP ALONE to predict if stock prices increase or decrease 5 mins after Trump tweets.**  [Poster PDF LINK](http://cs229.stanford.edu/proj2017/final-posters/5140843.pdf)\n",
    "    - [Evernote Summary Notes Link](https://www.evernote.com/l/AAoL1CyhPV1GoIzSgq59GO10x6xfEeVDo5s/)\n",
    "\n",
    "2. **TowardsDataScience Blog Plost on \"Using the latest advancements in deep learning to predict stock price movements.\"** [Blog Post link](https://towardsdatascience.com/aifortrading-2edd6fac689d)\n",
    "    - [Evernote Summary](https://www.evernote.com/l/AApvQ8Xh8b9GBLhrD0m8w4H1ih1oVM8wkEw/)\n",
    "\n",
    "\n",
    "## OUTLINE FOR DATA TO PRODUCE & MODEL FOR FINAL PROJECT:\n",
    "\n",
    "### TWITTER DATA:\n",
    "\n",
    "* [ENGINEER FEATURES] **Extract features from Trump's tweets: perform the NLP analysis to generate the features about his tweets to use in final model**\n",
    "\n",
    "    * [x] Tweet sentiment score\n",
    "    * [ ] Tweet frequency per timebin\n",
    "    * [x] upper-to-lowercase-ratio\n",
    "    * [x] retweet-count\n",
    "    * [x] favorite-count\n",
    "    \n",
    "* [PREDICTIVE MODEL] **Generate Binary Stock Market Predictions based on Trump's Tweets.**\n",
    "\n",
    "    * [ ] Create a neural network model like the Stanford guys, where my model JUST uses the content of trump's tweets with word embeddings and a binary label (-1, 0,1) for direction of stock market change at a fixed time delta (they did 5 mins, I will do 1 hour) [ See reference #1 - stanford poster]\n",
    "  \n",
    "\n",
    "\n",
    "\n",
    "### STOCK MARKET DATA (S&P 500):\n",
    "\n",
    "* [ENGINEER FEATURES] **Extract features about the stock data -calculate the technical indices for the S&P 500 discussed in his article.**  [ see reference #2 - blog post ]\n",
    "\n",
    "    * [x] 7 days moving average \n",
    "    * [x]  21 days moving average\n",
    "    * [x] exponential moving average\n",
    "    * [x] momentum\n",
    "    * [x] Bollinger bands\n",
    "    * [x] MACD\n",
    "    * (Maybe) FFT / time series decomp for trend lines\n",
    "    \n",
    "* [PREDICTIVE MODEL] **Generate stock price predictions based only historical data using....**\n",
    "\n",
    "    * [ ] an ARIMA model[?]\n",
    "    * [ ] a FB Prophet model[?] \n",
    "    * [ ] an LSTM neural network like other blog post?  [!!!] [Predicting the Stock Market Using Machine Learning and Deep Learning](https://www.evernote.com/l/AAq1azRmt2dANq_Oye-MBZQr-OU5lA5APl8/)\n",
    "    \n",
    "### FINAL MODEL - FEED ALL ABOVE FEATURES INTO:\n",
    "\n",
    "- **Plan A: NEURAL NETWORK *REGRESSION* MODEL TO PREDICT *ACTUAL S&P 500 PRICE* AT 1 HOUR-1 DAY FOLLOWING TWEETS**\n",
    "    - Final Model Target is based more on blog post's construction (ref#2), but takes output of model like ref#1\n",
    "    \n",
    "    <img src=\"https://raw.githubusercontent.com/jirvingphd/dsc-5-capstone-project-online-ds-ft-021119/master/figures/annotated_GAN_for_stock_market.jpeg\" width=1000>\n",
    "    \n",
    "- **PLAN B: NEURAL NETWORK *BINARY CLASSIFICATION*  MODEL TO PREDICT THE *DIRECTION OF CHANGE FOR S&P 500 PRICE* AT 1 HOUR - 1 DAY FOLLOWING TWEETS**\n",
    "    - Final Model Target is based on stanford poster's methods/goal. (ref #1)\n",
    "\n",
    "\n"
   ]
  },
  {
   "cell_type": "markdown",
   "metadata": {
    "colab_type": "text",
    "hidden": true,
    "id": "FXUD8NkFm5r8"
   },
   "source": [
    "## DATA ANALYSIS DETAILS AND Equations/Code "
   ]
  },
  {
   "cell_type": "markdown",
   "metadata": {
    "colab_type": "text",
    "hidden": true,
    "id": "s_ogprIz6TZ-"
   },
   "source": [
    "### Technical Indicators - Explanation & Equations\n"
   ]
  },
  {
   "cell_type": "markdown",
   "metadata": {
    "colab_type": "text",
    "hidden": true,
    "id": "0B4Jeml3m8zQ"
   },
   "source": [
    "\n",
    "\n",
    "\n",
    "\n",
    "* 7 and 21 day moving averages \n",
    "```python\n",
    "df['ma7'] df['price'].rolling(window = 7 ).mean() #window of 7 if daily data\n",
    "df['ma21'] df['price'].rolling(window = 21).mean() #window of 21 if daily data\n",
    "```    \n",
    "* MACD(Moving Average Convergence Divergence)\n",
    "\n",
    "> Moving Average Convergence Divergence (MACD) is a trend-following momentumindicator that shows the relationship between two moving averages of a security’s price. The MACD is calculated by subtracting the 26-period Exponential Moving Average (EMA) from the 12-period EMA.\n",
    "\n",
    ">The result of that calculation is the MACD line. A nine-day EMA of the MACD, called the \"signal line,\" is then plotted on top of the MACD line, which can function as a trigger for buy and sell signals. \n",
    "\n",
    "> Traders may buy the security when the MACD crosses above its signal line and sell - or short - the security when the MACD crosses below the signal line. Moving Average Convergence Divergence (MACD) indicators can be interpreted in several ways, but the more common methods are crossovers, divergences, and rapid rises/falls.  - _[from Investopedia](https://www.investopedia.com/terms/m/macd.asp)_\n",
    "\n",
    "```python\n",
    "df['ewma26'] = pd.ewma(df['price'], span=26)\n",
    "df['ewma12'] = pd.ewma(df['price'], span=12)\n",
    "df['MACD'] = (df['12ema']-df['26ema'])\n",
    "```\n",
    "- **Exponentially weighted moving average**\n",
    "```python\n",
    "dataset['ema'] = dataset['price'].ewm(com=0.5).mean()\n",
    "```\n",
    "\n",
    "- **Bollinger bands**\n",
    "    > \"Bollinger Bands® are a popular technical indicators used by traders in all markets, including stocks, futures and currencies. There are a number of uses for Bollinger Bands®, including determining overbought and oversold levels, as a trend following tool, and monitoring for breakouts. There are also some pitfalls of the indicators. In this article, we will address all these areas.\"\n",
    "> Bollinger bands are composed of three lines. One of the more common calculations of Bollinger Bands uses a 20-day simple moving average (SMA) for the middle band. The upper band is calculated by taking the middle band and adding twice the daily standard deviation, the lower band is the same but subtracts twice the daily std. - _[from Investopedia](https://www.investopedia.com/trading/using-bollinger-bands-to-gauge-trends/)_\n",
    "\n",
    "    - Boilinger Upper Band:<br>\n",
    "    $BOLU = MA(TP, n) + m * \\sigma[TP, n ]$<br><br>\n",
    "    - Boilinger Lower Band<br>\n",
    "    $ BOLD = MA(TP,n) - m * \\sigma[TP, n ]$\n",
    "    - Where:\n",
    "        - $MA$  = moving average\n",
    "        - $TP$ (typical price) = $(High + Low+Close)/ 3$\n",
    "        - $n$ is number of days in smoothing period\n",
    "        - $m$ is the number of standard deviations\n",
    "        - $\\sigma[TP, n]$ = Standard Deviations over last $n$ periods of $TP$\n",
    "\n",
    "```python\n",
    "# Create Bollinger Bands\n",
    "dataset['20sd'] = pd.stats.moments.rolling_std(dataset['price'],20)\n",
    "dataset['upper_band'] = dataset['ma21'] + (dataset['20sd']*2)\n",
    "dataset['lower_band'] = dataset['ma21'] - (dataset['20sd']*2)\n",
    "```\n",
    "\n",
    "\n",
    "- **Momentum**\n",
    "> \"Momentum is the rate of acceleration of a security's price or volume – that is, the speed at which the price is changing. Simply put, it refers to the rate of change on price movements for a particular asset and is usually defined as a rate. In technical analysis, momentum is considered an oscillator and is used to help identify trend lines.\" - _[from Investopedia](https://www.investopedia.com/articles/technical/081501.asp)_\n",
    "\n",
    "    - $ Momentum = V - V_x$\n",
    "    - Where:\n",
    "        - $V$ = Latest Price\n",
    "        - $V_x$ = Closing Price\n",
    "        - $x$ = number of days ago\n",
    "\n",
    "```python\n",
    "# Create Momentum\n",
    "dataset['momentum'] = dataset['price']-1\n",
    "```\n",
    "\n"
   ]
  },
  {
   "cell_type": "markdown",
   "metadata": {
    "colab_type": "text",
    "hidden": true,
    "id": "u5DvoInw7Pha"
   },
   "source": [
    "###  STOCK DATA INFO - S&P500"
   ]
  },
  {
   "cell_type": "markdown",
   "metadata": {
    "colab_type": "text",
    "hidden": true,
    "id": "ZlLWKYf9oDOf"
   },
   "source": [
    "- Q: What is the format of your aggregate bid/ask data?\n",
    "    - **The order of the fields in our aggregate bid/ask files is: <br>Date, Time, BidOpen, BidHigh, BidLow, BidClose, AskOpen, AskHigh, AskLow, AskClose**\n",
    "\n",
    "    - The format is very similar to our standard one minute and higher interval files which are constructed by aggregating the execution price and volume. The difference here is that instead of using execution price we use \"national best bid and offer\" (NBBO) prices to get their open, high, low and close prices for any given time interval. Bids and asks in our files are from multiple markets and they represent the best prices or the highest bid and the lowest ask.\n",
    "\n",
    "    - We record best bid/ask values whenever there is trade activity. Like with our regular tick data, current best bid/ask values are recorded for every trade.\n",
    "\n",
    "    - A potential usage scenario may include using this data in your analysis to try to simulate the execution price for market orders and to estimate the potential slippage that may occur.\n",
    "\n",
    "You can download sample aggregate bid/ask data for free from the free historical data section on our Buy web page."
   ]
  },
  {
   "cell_type": "markdown",
   "metadata": {
    "colab_type": "text",
    "hidden": true,
    "id": "GIu3htoroCi1"
   },
   "source": [
    "**HELPFUL RESOURCES**\n",
    "- **Dateime Guide Article:**\n",
    "    - https://medium.com/jbennetcodes/dealing-with-datetimes-like-a-pro-in-pandas-b80d3d808a7f\n",
    "- **Getting business day MINUTE resolution**\n",
    "    - Create minute index, then limit it to business times\n",
    "        - https://stackoverflow.com/questions/19373759/python-pandas-business-day-range-bdate-range-doesnt-take-1min-freq\n",
    "    - Try !pip install pandas_market_calendars too"
   ]
  },
  {
   "cell_type": "markdown",
   "metadata": {
    "colab_type": "text",
    "id": "7kjKQFXdZfYx"
   },
   "source": [
    "# DEF FUNCTIONS"
   ]
  },
  {
   "cell_type": "code",
   "execution_count": 1,
   "metadata": {},
   "outputs": [],
   "source": [
    "import pandas as pd \n",
    "import numpy as np\n",
    "import matplotlib.pyplot as plt\n",
    "\n",
    "import warnings\n",
    "warnings.filterwarnings('ignore')"
   ]
  },
  {
   "cell_type": "markdown",
   "metadata": {
    "colab_type": "text",
    "id": "BLuuWg7nE7aE"
   },
   "source": [
    "## DEF PRIOR FUNCTIONS"
   ]
  },
  {
   "cell_type": "code",
   "execution_count": 2,
   "metadata": {
    "colab": {},
    "colab_type": "code",
    "id": "cSusLRSFE6oL"
   },
   "outputs": [],
   "source": [
    "def quick_table(tuples, col_names=None, caption =None,display_df=True):\n",
    "    \"\"\"Accepts a bigram output tuple of tuples and makes captioned table.\"\"\"\n",
    "    import pandas as pd\n",
    "    from IPython.display import display\n",
    "    if col_names == None:\n",
    "    \n",
    "        df = pd.DataFrame.from_records(tuples)\n",
    "        \n",
    "    else:\n",
    "        \n",
    "        df = pd.DataFrame.from_records(tuples,columns=col_names)\n",
    "        dfs = df.style.set_caption(caption)\n",
    "        \n",
    "        if display_df == True:\n",
    "            display(dfs)\n",
    "            \n",
    "    return df\n",
    "\n",
    "def compare_word_cloud(text1,label1,text2,label2):\n",
    "    \"\"\"Compares the wordclouds from 2 sets of texts\"\"\"\n",
    "    from wordcloud import WordCloud\n",
    "    import matplotlib.pyplot as plt\n",
    "\n",
    "    wordcloud1 = WordCloud(max_font_size=80, max_words=200, background_color='white').generate(' '.join(text1))\n",
    "    wordcloud2 = WordCloud(max_font_size=80, max_words=200, background_color='white').generate(' '.join(text2))\n",
    "\n",
    "\n",
    "    fig,ax = plt.subplots(nrows=1,ncols=2,figsize=(20,15))\n",
    "    ax[0].imshow(wordcloud1, interpolation='bilinear')\n",
    "    ax[0].set_aspect(1.5)\n",
    "    ax[0].axis(\"off\")\n",
    "    ax[0].set_title(label1, fontsize=20)\n",
    "\n",
    "    ax[1].imshow(wordcloud2, interpolation='bilinear')\n",
    "    ax[1].set_aspect(1.5)\n",
    "    ax[1].axis(\"off\")\n",
    "    ax[1].set_title(label2, fontsize=20)\n",
    "\n",
    "    fig.tight_layout()\n",
    "    return fig,ax\n",
    "\n",
    "# Define get_tags_ats to accept a list of text entries and return all found tags and ats as 2 series/lists\n",
    "def get_tags_ats(text_to_search,exp_tag = r'(#\\w*)',exp_at = r'(@\\w*)', output='series',show_counts=False):\n",
    "    \"\"\"Accepts a list of text entries to search, and a regex for tags, and a regex for @'s.\n",
    "    Joins all entries in the list of text and then re.findsall() for both expressions.\n",
    "    Returns a series of found_tags and a series of found_ats.'\"\"\"\n",
    "    import re\n",
    "    import pandas as pd\n",
    "    # Create a single long joined-list of strings\n",
    "    text_to_search_combined = ' '.join(text_to_search)\n",
    "        \n",
    "    # print(len(text_to_search_combined), len(text_to_search_list))\n",
    "    found_tags = re.findall(exp_tag, text_to_search_combined)\n",
    "    found_ats = re.findall(exp_at, text_to_search_combined)\n",
    "    \n",
    "    if output.lower() == 'series':\n",
    "        found_tags = pd.Series(found_tags, name='tags')\n",
    "        found_ats = pd.Series(found_ats, name='ats')\n",
    "        \n",
    "        if show_counts==True:\n",
    "            print(f'\\t{found_tags.name}:\\n{found_tags.value_counts()} \\n\\n\\t{found_ats.name}:\\n{found_ats.value_counts()}')\n",
    "                \n",
    "    if (output.lower() != 'series') & (show_counts==True):\n",
    "        raise Exception('output must be set to \"series\" in order to show_counts')\n",
    "                       \n",
    "    return found_tags, found_ats\n",
    "\n",
    "\n",
    "def clean_text(series,is_tokens=False,return_tokens=False, urls=True, hashtags=True, mentions=True, remove_stopwords=True, verbose=False):\n",
    "    \"\"\"Accepts a series/df['column'] and tokenizes, removes urls, hasthtags, and @s using regex before tokenizing and removing stopwrods\"\"\"\n",
    "    import pandas as pd\n",
    "    import re, nltk\n",
    "    from nltk.corpus import stopwords\n",
    "    \n",
    "    series_cleaned=series.copy()\n",
    "    \n",
    "    # Remove URLS\n",
    "    if urls==True:\n",
    "        urls = re.compile(r\"(http[s]?://\\w*\\.\\w*/+\\w+)\")\n",
    "        series_cleaned = series_cleaned.apply(lambda x: urls.sub(' ', x))\n",
    "            \n",
    "        if verbose==True:\n",
    "            print('URLs removed...')\n",
    "            \n",
    "    # Remove hashtags\n",
    "    if hashtags==True:\n",
    "        hashtags = re.compile(r'(\\#\\w*)')\n",
    "        series_cleaned = series_cleaned.apply(lambda x: hashtags.sub(' ', x))\n",
    "        \n",
    "        if verbose==True:\n",
    "            print('Hashtags removed...')\n",
    "    \n",
    "    # Remove mentions\n",
    "    if mentions==True:\n",
    "        mentions = re.compile(r'(\\@\\w*)')\n",
    "        series_cleaned = series_cleaned.apply(lambda x: mentions.sub(' ',x))\n",
    "\n",
    "        if verbose==True:\n",
    "            print('Mentions removed...')\n",
    "    \n",
    "    \n",
    "    # Regexp_tokenize stopped words (to keep contractions)\n",
    "    if is_tokens==False:\n",
    "        pattern = \"([a-zA-Z]+(?:'[a-z]+)?)\"\n",
    "        series_cleaned = series_cleaned.apply(lambda x: nltk.regexp_tokenize(x,pattern))\n",
    "        if verbose==True:\n",
    "            print('Text regexp_tokenized...\\n')\n",
    "    \n",
    "    \n",
    "    # Filter Out Stopwords\n",
    "    stopwords_list = []\n",
    "    from nltk.corpus import stopwords\n",
    "    import string\n",
    "    \n",
    "    # Generate Stopwords List\n",
    "    stopwords_list = stopwords.words('english')\n",
    "    stopwords_list += list(string.punctuation)\n",
    "    stopwords_list += ['http','https','...','``','co','“','’','‘','”',\n",
    "                       'rt',\"n't\",\"''\",\"RT\",'u','s',\"'s\",'?']#,'@','#']\n",
    "    stopwords_list += [0,1,2,3,4,5,6,7,8,9]\n",
    "    stopwords_list +=['RT','rt',';']\n",
    "     \n",
    "    if remove_stopwords==True:\n",
    "        series_cleaned = series_cleaned.apply(lambda x: [w.lower() for w in x if w.lower() not in stopwords_list])\n",
    "        # for s in range(len(series_cleaned)):\n",
    "        #     text =[]\n",
    "        #     text_stopped = []\n",
    "        #     text = series_cleaned[s]\n",
    "        #     text_stopped = [x.lower() for x in text if x.lower() not in stopwords_list]\n",
    "        #     series_cleaned[s]= text_stopped\n",
    "        \n",
    "        if verbose==True:\n",
    "            print('Stopwords removed...')\n",
    "       \n",
    "    if return_tokens==False:\n",
    "        series_cleaned = series_cleaned.apply(lambda x: ' '.join(x))\n",
    "    \n",
    "    print('\\n')\n",
    "    return series_cleaned\n",
    "\n",
    "def train_test_val_split(X,y,test_size=0.20,val_size=0.1):\n",
    "    \"\"\"Performs 2 successive train_test_splits to produce a training, testing, and validation dataset\"\"\"\n",
    "    from sklearn.model_selection import train_test_split\n",
    "\n",
    "    first_split_size = test_size + val_size\n",
    "    second_split_size = val_size/(test_size + val_size)\n",
    "\n",
    "    X_train, X_test_val, y_train, y_test_val = train_test_split(X, y, test_size=first_split_size)\n",
    "\n",
    "    X_test, X_val, y_test, y_val = train_test_split(X_test_val, y_test_val, test_size=second_split_size)\n",
    "\n",
    "    return X_train, X_test, X_val, y_train, y_test, y_val\n",
    "\n",
    "\n",
    "def plot_keras_history(history):\n",
    "    \"\"\"Plots the history['acc','val','val_acc','val_loss']\"\"\"\n",
    "    import matplotlib.pyplot as plt\n",
    "    acc = history.history['acc']\n",
    "    loss = history.history['loss']\n",
    "    val_acc = history.history['val_acc']\n",
    "    val_loss = history.history['val_loss']\n",
    "    x = range(1,len(acc)+1)\n",
    "    \n",
    "    fig,ax = plt.subplots(nrows=2, ncols=1, figsize=(6,8))\n",
    "    ax[0].plot(x, acc,'b',label='Training Acc')\n",
    "    ax[0].plot(x, val_acc,'r',label='Validation Acc')\n",
    "    ax[0].legend()\n",
    "    ax[1].plot(x, loss,'b',label='Training Loss')\n",
    "    ax[1].plot(x, val_loss, 'r', label='Validation Loss')\n",
    "    ax[1].legend()\n",
    "    plt.show()\n",
    "    return fig, ax\n",
    "\n",
    "\n",
    "def plot_auc_roc_curve(y_test, y_test_pred):\n",
    "    \"\"\" Takes y_test and y_test_pred from a ML model and plots the AUC-ROC curve.\"\"\"\n",
    "    from sklearn.metrics import confusion_matrix\n",
    "    from sklearn.metrics import roc_auc_score, roc_curve\n",
    "    import matplotlib.pyplot as plt\n",
    "    auc = roc_auc_score(y_test, y_test_pred[:,1])\n",
    "\n",
    "    FPr, TPr, _  = roc_curve(y_test, y_test_pred[:,1])\n",
    "    plt.plot(FPr, TPr,label=f\"AUC for CatboostClassifier:\\n{round(auc,2)}\" )\n",
    "\n",
    "    plt.plot([0, 1], [0, 1],  lw=2,linestyle='--')\n",
    "    plt.xlim([-0.01, 1.0])\n",
    "    plt.ylim([0.0, 1.05])\n",
    "\n",
    "    plt.xlabel('False Positive Rate')\n",
    "    plt.ylabel('True Positive Rate')\n",
    "    plt.title('Receiver operating characteristic (ROC) Curve')\n",
    "    plt.legend(loc=\"lower right\")\n",
    "    plt.show()\n",
    "\n",
    "\n",
    "\n",
    "def display_random_tweets(df_tokenize,n=5 ,display_cols=['content','text_for_vectors','tokens'], group_labels=[],verbose=True):\n",
    "    \"\"\"Takes df_tokenize['text_for_vectors']\"\"\"\n",
    "    import numpy as np\n",
    "    import pandas as pd \n",
    "    from IPython.display import display\n",
    "    if len(group_labels)==0:\n",
    "\n",
    "        group_labels = display_cols\n",
    "\n",
    "    \n",
    "    random_tweets={}\n",
    "    # Randomly pick n indices to display from specified col\n",
    "    idx = np.random.choice(range(len(df_tokenize)), n)\n",
    "    \n",
    "    for i in range(len(display_cols)):\n",
    "        \n",
    "        group_name = str(group_labels[i])\n",
    "        random_tweets[group_name] ={}\n",
    "\n",
    "        # Select column data\n",
    "        df_col = df_tokenize[display_cols[i]]\n",
    "        \n",
    "\n",
    "        tweet_group = {}\n",
    "        tweet_group['index'] = idx\n",
    "        \n",
    "        chosen_tweets = df_col[idx]\n",
    "        tweet_group['text'] = chosen_tweets\n",
    "\n",
    "        # print(chosen_tweets)\n",
    "        if verbose>0:\n",
    "            with pd.option_context('max_colwidth',300):\n",
    "                df_display = pd.DataFrame.from_dict(tweet_group)\n",
    "                display(df_display.style.set_caption(f'Group: {group_name}'))\n",
    "\n",
    "\n",
    "        random_tweets[group_name] = tweet_group\n",
    "        \n",
    "        # if verbose>0:\n",
    "              \n",
    "        #     for group,data in random_tweets.items():\n",
    "        #         print(f'\\n\\nRandom Tweet for {group:>.{300}}:\\n{\"---\"*20}')\n",
    "\n",
    "        #         df = random_tweets[group]\n",
    "        #         display(df)\n",
    "    if verbose==0:\n",
    "        return random_tweets\n",
    "    else:\n",
    "        return\n",
    "\n",
    "\n",
    "def reload(mod):\n",
    "    \"\"\"Reloads the module from file.\"\"\"\n",
    "    from importlib import reload\n",
    "    import sys\n",
    "    print(f'Reloading...')\n",
    "    return  reload(mod)\n",
    "\n",
    "\n",
    "def process_df_full(df_full, raw_col='content_raw', fill_content_col='content',force=False):\n",
    "    \"\"\"Accepts df_full, which contains the raw tweets to process, the raw_col name, the column to fill.\n",
    "    If force=False, returns error if the fill_content_col already exists.\n",
    "    Processing Workflow:1) Create has_RT, starts_RT columns. 2) Creates [fill_content_col,`content_min_clean`] cols after removing 'RT @mention:' and urls.\n",
    "    3) Removes hashtags from fill_content_col and saves hashtags in new col. 4) Removes mentions from fill_content_col and saves to new column.\"\"\"\n",
    "    import re\n",
    "    import pandas as pd\n",
    "    \n",
    "    if force==False:\n",
    "        if fill_content_col in df_full.columns:\n",
    "            raise Exception(f'{fill_content_col} already exists. To overwrite, set force=True.')\n",
    "\n",
    "\n",
    "    # # create 'content_raw' column from 'content'\n",
    "    # df_full[fill_content_col] = df_full['content'].copy()\n",
    "\n",
    "\n",
    "    # Add has_RT and starts_RT columns\n",
    "    # Creating columns for tweets that `has_RT` or `starts_RT`\n",
    "    df_full['has_RT']=df_full[raw_col].str.contains('RT')\n",
    "    df_full['starts_RT']=df_full[raw_col].str.contains('^RT')\n",
    "\n",
    "\n",
    "    ## FIRST REMOVE THE RT HEADERS\n",
    "\n",
    "    # Remove `RT @Mentions` FIRST:\n",
    "    re_RT = re.compile(r'RT [@]?\\w*:')\n",
    "\n",
    "    # raw_col =  'content_raw'\n",
    "    check_content_col =raw_col\n",
    "    fill_content_col = fill_content_col\n",
    "\n",
    "    df_full['content_starts_RT'] = df_full[check_content_col].apply(lambda x: re_RT.findall(x))\n",
    "    df_full[fill_content_col] =  df_full[check_content_col].apply(lambda x: re_RT.sub(' ',x))\n",
    "\n",
    "\n",
    "    ## SECOND REMOVE URLS\n",
    "    # Remove urls with regex\n",
    "    urls = re.compile(r\"(http[s]?://\\w*\\.\\w*/+\\w+)\")\n",
    "\n",
    "    check_content_col = fill_content_col\n",
    "    fill_content_col = fill_content_col\n",
    "\n",
    "    # df_full['content_urls'] = df_full[check_content_col].apply(lambda x: urls.findall(x))\n",
    "    df_full[fill_content_col] =  df_full[check_content_col].apply(lambda x: urls.sub(' ',x))\n",
    "\n",
    "    ## SAVE THIS MINIMALLY CLEANED CONTENT AS 'content_min_clean'\n",
    "    df_full['content_min_clean'] =  df_full[fill_content_col]\n",
    "\n",
    "\n",
    "\n",
    "\n",
    "    ## REMOVE AND SAVE HASHTAGS, MENTIONS\n",
    "    # Remove and save Hashtags\n",
    "    hashtags = re.compile(r'\\#\\w*')\n",
    "\n",
    "    check_content_col = fill_content_col\n",
    "    fill_content_col = fill_content_col\n",
    "\n",
    "    df_full['content_hashtags'] =  df_full[check_content_col].apply(lambda x: hashtags.findall(x))\n",
    "    df_full[fill_content_col] =  df_full[check_content_col].apply(lambda x: hashtags.sub(' ',x))\n",
    "\n",
    "\n",
    "    # Remove and save mentions (@)'s\n",
    "    mentions = re.compile(r'\\@\\w*')\n",
    "\n",
    "    check_content_col = fill_content_col\n",
    "    fill_content_col = fill_content_col\n",
    "\n",
    "    df_full['content_mentions'] =  df_full[check_content_col].apply(lambda x: mentions.findall(x))\n",
    "    df_full[fill_content_col] =  df_full[check_content_col].apply(lambda x: mentions.sub(' ',x))\n",
    "\n",
    "    return df_full\n",
    "\n",
    "\n",
    "\n",
    "def load_orig_dataset(root_dir = 'russian-troll-tweets/', ext='.csv'):\n",
    "    \"\"\"Accepts a root_dir, finds all files that end with ext and loads into a dataframe.\"\"\"\n",
    "    import os\n",
    "    import pandas as pd\n",
    "    # root_dir = 'russian-troll-tweets/'\n",
    "    # os.listdir('russian-troll-tweets/')\n",
    "    filelist = [os.path.join(root_dir,file) for file in os.listdir(root_dir) if file.endswith(ext)]\n",
    "    print(f'Loading {len(filelist)} files into dataframe...')\n",
    "        # Vertically concatenate \n",
    "    df = pd.DataFrame()\n",
    "    for file in filelist:\n",
    "        df_new = pd.read_csv(file)\n",
    "        df = pd.concat([df,df_new], axis=0)\n",
    "    # df.info()\n",
    "\n",
    "    return df\n",
    "\n",
    "def ask_user_to_save(df, filename=None,encoding=None, ask=True, skip_saving=False, overwrite=False):\n",
    "    \"\"\"Asks user to save df as filename. If no filename specified: filename ='saved_df.csv'\n",
    "    Set ask=False to save without asking.\"\"\"\n",
    "    import os, warnings\n",
    "\n",
    "    if type(df)=='string':\n",
    "        raise Exception('First input must be the dataframe to be saved.')\n",
    "    if skip_saving==True:\n",
    "        return print(f'Since skip_loading=True, no file was save.')\n",
    "\n",
    "    if filename==None:\n",
    "        filename='saved_df.csv'\n",
    "    \n",
    "    if ask==True:\n",
    "        ans = input('Would you like to save the df to a .csv?(y/n):')\n",
    "    else:\n",
    "        ans = 'y'\n",
    "    \n",
    "    # If ans to save =='y'\n",
    "    if ans.lower()=='y':\n",
    "\n",
    "        # Check if the file already exists\n",
    "        if filename in os.listdir():\n",
    "        \n",
    "            if overwrite==False:\n",
    "                # raise Exception(f\"{filename} already exists.\")\n",
    "                return warnings.warn(f\"{filename} already exists.\")\n",
    "\n",
    "            if overwrite==True:\n",
    "                warnings.warn(f\"Overwriting {filename}.\")\n",
    "\n",
    "        df.to_csv(filename)\n",
    "        print(f'{filename} successfully saved.')\n",
    "    else:\n",
    "        print('Ok. No file was saved. ')\n",
    "        \n",
    "\n",
    "def ask_user_to_load(filename, load_as_global = True ,ask=True, skip_loading=False, index_col=0, encoding=None):\n",
    "    \"\"\"Asks user to save df as filename. If no filename specified: filename ='saved_df.csv'\n",
    "    Set ask=False to save without asking.\"\"\"\n",
    "    import os\n",
    "    import pandas as pd\n",
    "\n",
    "    \n",
    "    if skip_loading==True:\n",
    "        return print(f'Since skip_loading=True, no file was loaded.')\n",
    "        \n",
    "\n",
    "    if ask==True:\n",
    "        ans = input('Would you like to load {filename} to a datafrane?(y/n):')\n",
    "\n",
    "    else:\n",
    "        ans = 'y'\n",
    "        \n",
    "\n",
    "    # If ans to load =='y'\n",
    "    if ans.lower()=='y':\n",
    "        \n",
    "        if load_as_global == True:\n",
    "            global df_\n",
    "            df_ = pd.read_csv(filename, encoding=encoding,index_col=index_col) \n",
    "            print(f'{filename} loaded as global variable: \"df_\"')\n",
    "            pass\n",
    "        else:\n",
    "            df_ = pd.read_csv(filename, encoding=encoding,index_col=index_col) \n",
    "            return df_\n",
    "    else:\n",
    "        return print('Ok. No file was loaded.')\n",
    "        \n",
    "\n",
    "def run_all_checkpoint(skip=False):\n",
    "    ans = input('Continue running all?(y/n):')\n",
    "    if ans.lower()=='y':\n",
    "        return print('OK. Continuing to run...')\n",
    "    else:\n",
    "        raise Exception('User requested to stop running.')\n",
    "\n",
    "\n",
    "## TO CHECK FOR STRINGS IN BOTH DATASETS:\n",
    "def check_dfs_for_exp_list(df_controls, df_trolls, list_of_exp_to_check):\n",
    "    df_resample = df_trolls\n",
    "    for exp in list_of_exp_to_check:\n",
    "    #     exp = '[Pp]eggy'\n",
    "        print(f'For {exp}:')\n",
    "        print(f\"\\tControl tweets: {len(df_controls.loc[df_controls['content_min_clean'].str.contains(exp)])}\")\n",
    "        print(f\"\\tTroll tweets: {len(df_resample.loc[df_resample['content_min_clean'].str.contains(exp)])}\\n\")\n",
    "              \n",
    "# list_of_exp_to_check = ['[Pp]eggy','[Mm]exico','nasty','impeachment','[mM]ueller']\n",
    "# check_dfs_for_exp_list(df_controls, df_resample, list_of_exp_to_check=list_of_exp_to_check)\n",
    "\n",
    "\n",
    "def get_group_texts_tokens(df_small, groupby_col='troll_tweet', group_dict={0:'controls',1:'trolls'}, column='content_stopped'):\n",
    "    from nltk import regexp_tokenize\n",
    "    pattern = \"([a-zA-Z]+(?:'[a-z]+)?)\"\n",
    "    text_dict = {}\n",
    "    for k,v in group_dict.items():\n",
    "        group_text_temp = df_small.groupby(groupby_col).get_group(k)[column]\n",
    "        group_text_temp = ' '.join(group_text_temp)\n",
    "        group_tokens = regexp_tokenize(group_text_temp, pattern)\n",
    "        text_dict[v] = {}\n",
    "        text_dict[v]['tokens'] = group_tokens\n",
    "        text_dict[v]['text'] =  ' '.join(group_tokens)\n",
    "            \n",
    "    print(f\"{text_dict.keys()}:['tokens']|['text']\")\n",
    "    return text_dict\n",
    "\n",
    "\n",
    "\n",
    "def check_df_groups_for_exp(df_full, list_of_exp_to_check, check_col='content_min_clean', groupby_col='troll_tweet', group_dict={0:'Control',1:'Troll'}):      \n",
    "    \"\"\"Checks `check_col` column of input dataframe for expressions in list_of_exp_to_check and \n",
    "    counts the # present for each group, defined by the groupby_col and groupdict. \n",
    "    Returns a dataframe of counts.\"\"\"\n",
    "    \n",
    "    list_of_results = []      \n",
    "\n",
    "    header_list= ['Term']\n",
    "    [header_list.append(x) for x in group_dict.values()]\n",
    "    list_of_results.append(header_list)\n",
    "    \n",
    "    for exp in list_of_exp_to_check:\n",
    "        curr_exp_list = [exp]\n",
    "        \n",
    "        for k,v in group_dict.items():\n",
    "            df_group = df_full.groupby(groupby_col).get_group(k)\n",
    "            curr_group_count = len(df_group.loc[df_group[check_col].str.contains(exp)])\n",
    "            curr_exp_list.append(curr_group_count)\n",
    "        \n",
    "        list_of_results.append(curr_exp_list)\n",
    "        \n",
    "    df_results = bs.list2df(list_of_results, index_col='Term')\n",
    "    return df_results\n",
    "\n",
    "\n",
    "###########################################################################\n",
    "\n",
    "def plot_fit_cloud(troll_cloud,contr_cloud,label1='Troll',label2='Control'):\n",
    "    import matplotlib.pyplot as plt\n",
    "    fig,ax = plt.subplots(nrows=1,ncols=2,figsize=(18,18))\n",
    "\n",
    "    ax[0].imshow(troll_cloud, interpolation='gaussian')\n",
    "    # ax[0].set_aspect(1.5)\n",
    "    ax[0].axis(\"off\")\n",
    "    ax[0].set_title(label1, fontsize=40)\n",
    "\n",
    "    ax[1].imshow(contr_cloud, interpolation='bilinear',)\n",
    "    # ax[1].set_aspect(1.5)\n",
    "    ax[1].axis(\"off\")\n",
    "    ax[1].set_title(label2, fontsize=40)\n",
    "    plt.tight_layout()\n",
    "    return fig, ax"
   ]
  },
  {
   "cell_type": "code",
   "execution_count": 3,
   "metadata": {
    "colab": {},
    "colab_type": "code",
    "id": "C1nT-GyA9K7k"
   },
   "outputs": [],
   "source": [
    "# !pip install pandas_market_calendars\n",
    "# # Install GraphViz with apt\n",
    "# !apt-get install graphviz -y\n",
    "\n",
    "# import pandas_market_calendars as pmc"
   ]
  },
  {
   "cell_type": "markdown",
   "metadata": {
    "colab_type": "text",
    "id": "N-OwQ7yVcssI"
   },
   "source": [
    "## DEF - FILE & VAR MANAGEMENT FUNCTIONS\n"
   ]
  },
  {
   "cell_type": "code",
   "execution_count": 4,
   "metadata": {
    "colab": {},
    "colab_type": "code",
    "id": "7DermDXOhSkh"
   },
   "outputs": [],
   "source": [
    "##################### FILE & VAR MANAGEMENT FUNCTIONS #####################\n",
    "\n",
    "# def mount_google_drive(force_remount=True):\n",
    "#     from google.colab import drive\n",
    "#     print('drive_filepath=\"drive/My Drive/\"')\n",
    "#     return drive.mount('/content/drive', force_remount=force_remount)\n",
    "\n",
    "\n",
    "# def check_for_google_drive(mount_if_not=True):\n",
    "#     import os\n",
    "#     # Check if google drive is already mounted\n",
    "#     x=[]\n",
    "#     try: os.listdir('drive/My Drive/')\n",
    "#     except FileNotFoundError: x=None\n",
    "\n",
    "#     # if GDrive not mounted, mount it\n",
    "#     if x==None:\n",
    "#         print('Drive not mounted.')\n",
    "#         if mount_if_not==False:\n",
    "#             return False\n",
    "#         else:\n",
    "#             print('Mounting google drive...')\n",
    "#             return mount_google_drive()\n",
    "#     else:\n",
    "#         return True\n",
    "\n",
    "# def cd_project_folder(folder_path ='/content/drive/My Drive/Colab Notebooks/Mod 5 Project/data/'):\n",
    "#     import os\n",
    "#     return os.chdir(folder_path),print('Cur Dir:', os.getcwd())\n",
    "#     # print('Dir Contents:\\n',os.listdir())\n",
    "    \n",
    "    \n",
    "#################### GENERAL HELPER FUNCTIONS #####################\n",
    "def is_var(name):\n",
    "    x=[]\n",
    "    try: eval(name)\n",
    "    except NameError: x = None\n",
    "        \n",
    "    if x is None:\n",
    "        return False\n",
    "    else:\n",
    "        return True    "
   ]
  },
  {
   "cell_type": "code",
   "execution_count": 5,
   "metadata": {
    "colab": {
     "base_uri": "https://localhost:8080/",
     "height": 50
    },
    "colab_type": "code",
    "id": "Ytha_MADqMm0",
    "outputId": "1110a1fa-a814-4488-edd1-e5edd775d06b"
   },
   "outputs": [],
   "source": [
    "## SAVE AND LOAD STOCK MARKET MINUTE DATA\n",
    "import pandas as pd\n",
    "import numpy as np\n",
    "import matplotlib.pyplot as plt\n",
    "import matplotlib as mpl\n",
    "\n",
    "# mount_google_drive()\n",
    "\n",
    "# cd_project_folder()\n",
    "# import os \n",
    "# os.getcwd()"
   ]
  },
  {
   "cell_type": "markdown",
   "metadata": {
    "colab_type": "text",
    "id": "dKz4bVhpdPFd"
   },
   "source": [
    "## DEF TIMESERIES TESTS AND VISUALS"
   ]
  },
  {
   "cell_type": "code",
   "execution_count": 6,
   "metadata": {
    "colab": {},
    "colab_type": "code",
    "id": "W8xmTbaXt-Dj"
   },
   "outputs": [],
   "source": [
    "\n",
    "############### TIMESERIES TESTS AND VISUALS ###############\n",
    "\n",
    "def plot_time_series(stocks_df, freq=None, fill_method='ffill',figsize=(12,4)):\n",
    "    \n",
    "    df = stocks_df.copy()\n",
    "    df.fillna(method=fill_method, inplace=True)\n",
    "    df.dropna(inplace=True)\n",
    "    \n",
    "    if (df.index.freq==None) & (freq == None):\n",
    "        xlabels=f'Time'\n",
    "    \n",
    "    elif (df.index.freq==None) & (freq != None):\n",
    "        df = df.asfreq(freq)\n",
    "        df.fillna(method=fill_method, inplace=True)\n",
    "        df.dropna(inplace=True)\n",
    "        xlabels=f'Time - Frequency = {freq}'\n",
    "\n",
    "    else:\n",
    "        xlabels=f'Time - Frequency = {df.index.freq}'\n",
    "        \n",
    "    ylabels=\"Price\"\n",
    "\n",
    "    raw_plot = df.plot(figsize=figsize)\n",
    "    raw_plot.set_title('Stock Bid Closing Price ')\n",
    "    raw_plot.set_ylabel(ylabels)\n",
    "    raw_plot.set_xlabel(xlabels)\n",
    "    \n",
    "    \n"
   ]
  },
  {
   "cell_type": "markdown",
   "metadata": {
    "colab_type": "text",
    "id": "ydfKaYnic8u2"
   },
   "source": [
    "## DEF TIMEINDEX FUNCTIONS"
   ]
  },
  {
   "cell_type": "code",
   "execution_count": 7,
   "metadata": {
    "colab": {},
    "colab_type": "code",
    "id": "OD2xRcdx7Rdh"
   },
   "outputs": [],
   "source": [
    "#################### TIMEINDEX FUNCTIONS #####################\n",
    "def get_day_window_size_from_freq(dataset):#, freq='CBH'):\n",
    "    \n",
    "    if dataset.index.freq == custom_BH_freq():\n",
    "        return 7\n",
    "    \n",
    "    if dataset.index.freq=='T':\n",
    "        day_window_size = 1440\n",
    "    elif dataset.index.freq=='BH':\n",
    "        day_window_size = 8\n",
    "    elif dataset.index.freq=='CBH':\n",
    "        day_window_size = 7\n",
    "    elif dataset.index.freq=='B':\n",
    "        day_window_size=1\n",
    "    elif dataset.index.freq=='D':\n",
    "        day_window_size=1\n",
    "        \n",
    "    else:\n",
    "        raise Exception('dataset freq=None')\n",
    "        \n",
    "    return day_window_size\n",
    "    \n",
    "\n",
    "def custom_BH_freq():\n",
    "    import pandas as pd\n",
    "    CBH = pd.tseries.offsets.CustomBusinessHour(start='09:30',end='16:30')\n",
    "    return CBH\n",
    "    \n",
    "    \n",
    "def  set_timeindex_freq(ive_df, col_to_fill=None, freq='CBH',fill_method='ffill',\n",
    "                        verbose=3): #set_tz=True,\n",
    "    \n",
    "    import pandas as pd\n",
    "    import numpy as np\n",
    "    \n",
    "    \n",
    "    if verbose>1:\n",
    "        # print(f\"{'Index When:':>{10}}\\t{'Freq:':>{20}}\\t{'Index Start:':>{40}}\\t{'Index End:':>{40}}\")\n",
    "        print(f\"{'Index When:'}\\t{'Freq:'}\\t{'Index Start'}\\t\\t{'Index End:'}\")\n",
    "        print(f\"Pre-Change\\t{ive_df.index.freq}\\t{ive_df.index[0]}\\t{ive_df.index[-1]}\")\n",
    "        \n",
    "    \n",
    "    if freq=='CBH':\n",
    "        freq=custom_BH_freq()\n",
    "#         start_idx = \n",
    "        \n",
    "    # Change frequency to freq\n",
    "    ive_df = ive_df.asfreq(freq,)#'min')\n",
    "    \n",
    "    #     # Set timezone\n",
    "    #     if set_tz==True:\n",
    "    #         ive_df.tz_localize()\n",
    "    #         ive_df.index = ive_df.index.tz_convert('America/New_York')\n",
    "    \n",
    "    # Report Success / Details\n",
    "    if verbose>1:\n",
    "        print(f\"Post-Change\\t{ive_df.index.freq}\\t{ive_df.index[0]}\\t{ive_df.index[-1]}\")\n",
    "\n",
    "\n",
    "    ## FILL AND TRACK TIMEPOINTS WITH MISSING DATA    \n",
    "    \n",
    "    # Helper Function for adding column to track the datapoints that were filled\n",
    "    def check_null_times(x):\n",
    "        import numpy as np\n",
    "        if np.isnan(x):\n",
    "            return True\n",
    "        else:\n",
    "            return False\n",
    "\n",
    "    ## CREATE A COLUMN TO TRACK ROWS TO BE FILLED\n",
    "    # If col_to_fill provided, use that column to create/judge ive_df['filled_timebin'] \n",
    "    if col_to_fill!=None:\n",
    "        ive_df['filled_timebin'] = ive_df[col_to_fill].apply(lambda x: check_null_times(x))#True if ive_df.isna().any()\n",
    "        \n",
    "    # if not provided, use all columns and sum results\n",
    "    elif col_to_fill == None:\n",
    "        # Prefill fol with 0's\n",
    "        ive_df['filled_timebin']=0\n",
    "        \n",
    "        # loop through all columns and add results of check_null_times from each loop\n",
    "    for col in ive_df.columns:\n",
    "        if ive_df[col].dtypes=='float64':\n",
    "            #ive_df['filled_timebin'] = ive_df[target_col].apply(lambda x: check_null_times(x))#True if ive_df.isna().any()\n",
    "            curr_filled_timebin_col = ive_df[col].apply(lambda x: check_null_times(x))#True if ive_df.isna().any() \n",
    "\n",
    "            # add results\n",
    "            ive_df['filled_timebin'] +=  curr_filled_timebin_col\n",
    "            \n",
    "    ive_df['filled_timebin'] = ive_df['filled_timebin'] >0\n",
    "            \n",
    "    ## FILL IN NULL VALUES\n",
    "    ive_df.fillna(method=fill_method, inplace=True)\n",
    "\n",
    "    # Report # filled\n",
    "    if verbose>0:\n",
    "        check_fill = ive_df.loc[ive_df['filled_timebin']>0]\n",
    "        print(f'\\nFilled {len(check_fill==True)}# of rows using method {fill_method}')\n",
    "    \n",
    "    # Report any remaning null values\n",
    "    if verbose>0:\n",
    "        res = ive_df.isna().sum()\n",
    "        if res.any():\n",
    "            print(f'Cols with Nulls:')\n",
    "            print(res[res>0])\n",
    "        else:\n",
    "            print('No Remaining Null Values')   \n",
    "            \n",
    "    # display header\n",
    "    if verbose>2:\n",
    "        display(ive_df.head())\n",
    "    \n",
    "    return ive_df\n",
    "\n",
    "\n",
    "# Helper Function for adding column to track the datapoints that were filled\n",
    "def check_null_times(x):\n",
    "    import numpy as np\n",
    "    if np.isnan(x):\n",
    "        return True\n",
    "    else:\n",
    "        return False"
   ]
  },
  {
   "cell_type": "markdown",
   "metadata": {
    "colab_type": "text",
    "id": "xNf73gC9daS-"
   },
   "source": [
    "## DEF SEASONAL DECOMPOSITION"
   ]
  },
  {
   "cell_type": "code",
   "execution_count": 8,
   "metadata": {
    "code_folding": [],
    "colab": {},
    "colab_type": "code",
    "id": "8uj8wd7Y5CJG"
   },
   "outputs": [],
   "source": [
    "######## SEASONAL DECOMPOSITION    \n",
    "def plot_decomposition(TS, decomposition, figsize=(12,8),window_used=None):\n",
    "    \"\"\" Plot the original data and output decomposed components\"\"\"\n",
    "    \n",
    "    # Gather the trend, seasonality and noise of decomposed object\n",
    "    trend = decomposition.trend\n",
    "    seasonal = decomposition.seasonal\n",
    "    residual = decomposition.resid\n",
    "\n",
    "    fontdict_axlabels = {'fontsize':12}#,'fontweight':'bold'}\n",
    "    \n",
    "    # Plot gathered statistics\n",
    "    fig, ax = plt.subplots(nrows=4, ncols=1,figsize=figsize)\n",
    "    \n",
    "    ylabel = 'Original'\n",
    "    ax[0].plot(np.log(TS), color=\"blue\")\n",
    "    ax[0].set_ylabel(ylabel, fontdict=fontdict_axlabels)\n",
    "    \n",
    "    ylabel = label='Trend'\n",
    "    ax[1].plot(trend, color=\"blue\")\n",
    "    ax[1].set_ylabel(ylabel, fontdict=fontdict_axlabels)\n",
    "    \n",
    "    ylabel='Seasonality'\n",
    "    ax[2].plot(seasonal, color=\"blue\")\n",
    "    ax[2].set_ylabel(ylabel, fontdict=fontdict_axlabels)\n",
    "    \n",
    "    ylabel='Residuals'\n",
    "    ax[3].plot(residual, color=\"blue\")\n",
    "    ax[3].set_ylabel(ylabel, fontdict=fontdict_axlabels)\n",
    "    ax[3].set_xlabel('Time', fontdict=fontdict_axlabels)\n",
    "    \n",
    "    # Add title with window \n",
    "    if window_used == None:\n",
    "        plt.suptitle('Seasonal Decomposition', y=1.02)\n",
    "    else:\n",
    "        plt.suptitle(f'Seasonal Decomposition - Window={window_used}', y=1.02)\n",
    "    \n",
    "    # Adjust aesthetics\n",
    "    plt.tight_layout()\n",
    "    \n",
    "    return ax\n",
    "    \n",
    "    \n",
    "def seasonal_decompose_and_plot(ive_df,col='BidClose',freq='H',\n",
    "                          fill_method='ffill',window=144,\n",
    "                         model='multiplicative', two_sided=False,\n",
    "                               plot_components=True):##WIP:\n",
    "    \"\"\"Perform seasonal_decompose from statsmodels.tsa.seasonal.\n",
    "    Plot Output Decomposed Components\"\"\"\n",
    "    import pandas as pd\n",
    "    import numpy as np\n",
    "    from statsmodels.tsa.seasonal import seasonal_decompose\n",
    "\n",
    "\n",
    "    # TS = ive_df['BidClose'].asfreq('BH')\n",
    "    TS = pd.DataFrame(ive_df[col])\n",
    "    TS = TS.asfreq(freq)\n",
    "    TS[TS==0]=np.nan\n",
    "    TS.fillna(method='ffill',inplace=True)\n",
    "\n",
    "    # Perform decomposition\n",
    "    decomposition = seasonal_decompose(np.log(TS),freq=window, model=model, two_sided=two_sided)\n",
    "    \n",
    "    if plot_components==True:\n",
    "        ax = plot_decomposition(TS, decomposition, window_used=window)\n",
    "    \n",
    "    return decomposition\n",
    "\n",
    "\n",
    "\n",
    "def stationarity_check(df, col='BidClose',freq=None, day_window_size='infer',\n",
    "                       days_in_rolling_window=5):\n",
    "    \"\"\"From learn.co lesson: use ADFuller Test for Stationary and Plot\"\"\"\n",
    "    \n",
    "    import matplotlib.pyplot as plt\n",
    "    TS = df[col].copy()\n",
    "    \n",
    "    if freq==None:\n",
    "        freq=df.index.freq\n",
    "        \n",
    "    else:        \n",
    "        TS = TS.asfreq(freq)\n",
    "        TS.fillna(method='ffill',inplace=True)\n",
    "        TS.dropna(inplace=True)\n",
    "    \n",
    "    \n",
    "    # Import adfuller\n",
    "    from statsmodels.tsa.stattools import adfuller\n",
    "    import pandas as pd\n",
    "    import numpy as np\n",
    "    \n",
    "    # Calculate rolling statistics\n",
    "    if day_window_size=='infer':\n",
    "        day_window_size = get_day_window_size_from_freq(TS)\n",
    "        \n",
    "    window = day_window_size*days_in_rolling_window\n",
    "    rolmean = TS.rolling(window = window, center = False).mean()\n",
    "    rolstd = TS.rolling(window = window, center = False).std()\n",
    "    \n",
    "    # Perform the Dickey Fuller Test\n",
    "    dftest = adfuller(TS) # change the passengers column as required \n",
    "    \n",
    "    #Plot rolling statistics:\n",
    "    fig, ax = plt.subplots(nrows=2, ncols=1, figsize=(8,4))\n",
    "    ax[0].set_title('Rolling Mean & Standard Deviation')\n",
    "\n",
    "    ax[0].plot(TS, color='blue',label='Original')\n",
    "    ax[0].plot(rolmean, color='red', label='Rolling Mean',alpha =0.6)\n",
    "    ax[1].plot(rolstd, color='black', label = 'Rolling Std')\n",
    "    ax[0].legend()\n",
    "    ax[1].legend()\n",
    "#     plt.show(block=False)\n",
    "    plt.tight_layout()\n",
    "    \n",
    "    # Print Dickey-Fuller test results\n",
    "    print ('Results of Dickey-Fuller Test:')\n",
    "    print('\\tIf p<.05 then timeseries IS stationary.')\n",
    "\n",
    "    dfoutput = pd.Series(dftest[0:4], index=['Test Statistic','p-value','#Lags Used','Number of Observations Used'])\n",
    "    for key,value in dftest[4].items():\n",
    "        dfoutput['Critical Value (%s)'%key] = value\n",
    "    print (dfoutput)\n",
    "    \n",
    "    return None"
   ]
  },
  {
   "cell_type": "markdown",
   "metadata": {
    "colab_type": "text",
    "id": "HfbLM0yXdU1Q"
   },
   "source": [
    "## DEF DATASET LOADING FUNCTIONS"
   ]
  },
  {
   "cell_type": "code",
   "execution_count": 9,
   "metadata": {
    "colab": {},
    "colab_type": "code",
    "id": "Jt3Guu3KuEq7"
   },
   "outputs": [],
   "source": [
    "##################### DATASET LOADING FUNCTIONS #####################   \n",
    "def load_raw_stock_data_from_txt(filename='IVE_bidask1min.txt', \n",
    "                               folderpath='data/',\n",
    "                               start_index = '2017-01-23',\n",
    "                                 clean=False,fill_method='ffill',\n",
    "                                 freq='CBH',verbose=2):\n",
    "    import pandas as pd\n",
    "    \n",
    "    # Load in the text file and set headers\n",
    "    fullfilename= folderpath+filename\n",
    "    headers = ['Date','Time','BidOpen','BidHigh','BidLow','BidClose','AskOpen','AskHigh','AskLow','AskClose']\n",
    "    stock_df = pd.read_csv(fullfilename, names=headers,parse_dates=True)\n",
    "    \n",
    "    # Create datetime index\n",
    "    date_time_index = stock_df['Date']+' '+stock_df['Time']\n",
    "    date_time_index = pd.to_datetime(date_time_index)\n",
    "    stock_df.index=date_time_index\n",
    "    \n",
    "    # Select only the days after start_index\n",
    "    stock_df = stock_df[start_index:]\n",
    "    \n",
    "    # Remove 0's from BidClose\n",
    "    if clean==True:\n",
    "        \n",
    "        stock_df.loc[stock_df['BidClose']==0] = np.nan\n",
    "        stock_df['BidClose'].fillna(method=fill_method, inplace=True)\n",
    "        \n",
    "        if verbose>0:\n",
    "            print(f\"Number of 0 values:\\n{len(stock_df.loc[stock_df['BidClose']==0])}\")\n",
    "            print(f\"Filling 0 values using method = {fill_method}\")\n",
    "            \n",
    "\n",
    "\n",
    "                  \n",
    "    # call set_timeindex_freq to specify proper frequency\n",
    "    if freq!=None:\n",
    "        # Set the time index .\n",
    "        stock_df = set_timeindex_freq(stock_df, freq=freq, fill_method = fill_method, verbose=verbose)\n",
    "                  \n",
    "    # Display feedback\n",
    "    if verbose>0:\n",
    "        display(stock_df.head())\n",
    "    if verbose>1:\n",
    "        print(stock_df.index)\n",
    "\n",
    "    return stock_df\n",
    "\n",
    "\n",
    "\n",
    "# def load_stock_df_from_csv(filename='ive_sp500_min_data_match_twitter_ts.csv',\n",
    "#                            folderpath='data/',\n",
    "#                           start_index = '2017-01-23', clean=False,freq='CBH',\n",
    "#                            fill_method='ffill',verbose=2):\n",
    "#     import os\n",
    "#     import pandas as pd\n",
    "\n",
    "#     #         check_for_google_drive()\n",
    "        \n",
    "#     # Check if user provided folderpath to append to filename\n",
    "#     if len(folderpath)>0:\n",
    "#         fullfilename = folderpath+filename\n",
    "#     else:\n",
    "#         fullfilename=filename\n",
    "        \n",
    "#     # load in csv by fullfilename\n",
    "#     stock_df = pd.read_csv(fullfilename,index_col=0, parse_dates=True)\n",
    "#     stock_df = stock_df[start_index:]\n",
    "# #     stock_df = set_timeindex_freq(stock_df,['BidClose'],freq=freq, fill_method=fill_method)\n",
    "    \n",
    "#     if clean==True:\n",
    "        \n",
    "#         if verbose>0:\n",
    "#             print(f\"Number of 0 values:\\n{len(stock_df.loc[stock_df['BidClose']==0])}\")\n",
    "#             print(f\"Filling 0 values using method = {fill_method}\")\n",
    "            \n",
    "#         stock_df.loc[stock_df['BidClose']==0] = np.nan\n",
    "#         stock_df['BidClose'].fillna(method=fill_method, inplace=True)\n",
    "        \n",
    "#     if freq!=None:\n",
    "#         # Set the time index .\n",
    "#         stock_df = set_timeindex_freq(stock_df, freq=freq, fill_method = fill_method, verbose=verbose)\n",
    "        \n",
    "\n",
    "#     # Display info depending on verbose level\n",
    "#     if verbose>0:\n",
    "#         display(stock_df.head())\n",
    "    \n",
    "#     if verbose>1:\n",
    "#         print(stock_df.index)\n",
    "        \n",
    "#     return stock_df   "
   ]
  },
  {
   "cell_type": "markdown",
   "metadata": {
    "colab_type": "text",
    "id": "2KxjZKQSOdsV"
   },
   "source": [
    "## CALCULATING TECHNICAL INDICATORS"
   ]
  },
  {
   "cell_type": "code",
   "execution_count": 10,
   "metadata": {
    "colab": {},
    "colab_type": "code",
    "id": "al9rjon-SWFg"
   },
   "outputs": [],
   "source": [
    "def get_technical_indicators(dataset,make_price_from='BidClose'):\n",
    "    \n",
    "\n",
    "    dataset['price'] = dataset[make_price_from].copy()\n",
    "    if dataset.index.freq == custom_BH_freq():\n",
    "        days = get_day_window_size_from_freq(dataset)#,freq='CBH')\n",
    "    else:\n",
    "        days = get_day_window_size_from_freq(dataset)\n",
    "        \n",
    "    # Create 7 and 21 days Moving Average\n",
    "    dataset['ma7'] = dataset['price'].rolling(window=7*days).mean()\n",
    "    dataset['ma21'] = dataset['price'].rolling(window=21*days).mean()\n",
    "    \n",
    "    # Create MACD\n",
    "    dataset['26ema'] = dataset['price'].ewm(span=26*days).mean()\n",
    "#     dataset['12ema'] = pd.ewma(dataset['price'], span=12)\n",
    "    dataset['12ema'] = dataset['price'].ewm(span=12*days).mean()\n",
    "\n",
    "    dataset['MACD'] = (dataset['12ema']-dataset['26ema'])\n",
    "\n",
    "    # Create Bollinger Bands\n",
    "#     dataset['20sd'] = pd.stats.moments.rolling_std(dataset['price'],20)\n",
    "    dataset['20sd'] = dataset['price'].rolling(20*days).std()\n",
    "    dataset['upper_band'] = dataset['ma21'] + (dataset['20sd']*2)\n",
    "    dataset['lower_band'] = dataset['ma21'] - (dataset['20sd']*2)\n",
    "    \n",
    "    # Create Exponential moving average\n",
    "    dataset['ema'] = dataset['price'].ewm(com=0.5).mean()\n",
    "    \n",
    "    # Create Momentum\n",
    "    dataset['momentum'] = dataset['price']-days*1\n",
    "    \n",
    "    return dataset\n"
   ]
  },
  {
   "cell_type": "markdown",
   "metadata": {
    "colab_type": "text",
    "id": "I8bJUtYqaCh_"
   },
   "source": [
    "# LOAD DATASET"
   ]
  },
  {
   "cell_type": "code",
   "execution_count": 11,
   "metadata": {},
   "outputs": [],
   "source": [
    "# pause"
   ]
  },
  {
   "cell_type": "code",
   "execution_count": 12,
   "metadata": {},
   "outputs": [
    {
     "name": "stdout",
     "output_type": "stream",
     "text": [
      "\n",
      "Filled 520# of rows using method ffill\n",
      "No Remaining Null Values\n"
     ]
    },
    {
     "data": {
      "text/html": [
       "<div>\n",
       "<style scoped>\n",
       "    .dataframe tbody tr th:only-of-type {\n",
       "        vertical-align: middle;\n",
       "    }\n",
       "\n",
       "    .dataframe tbody tr th {\n",
       "        vertical-align: top;\n",
       "    }\n",
       "\n",
       "    .dataframe thead th {\n",
       "        text-align: right;\n",
       "    }\n",
       "</style>\n",
       "<table border=\"1\" class=\"dataframe\">\n",
       "  <thead>\n",
       "    <tr style=\"text-align: right;\">\n",
       "      <th></th>\n",
       "      <th>Date</th>\n",
       "      <th>Time</th>\n",
       "      <th>BidOpen</th>\n",
       "      <th>BidHigh</th>\n",
       "      <th>BidLow</th>\n",
       "      <th>BidClose</th>\n",
       "      <th>AskOpen</th>\n",
       "      <th>AskHigh</th>\n",
       "      <th>AskLow</th>\n",
       "      <th>AskClose</th>\n",
       "      <th>filled_timebin</th>\n",
       "    </tr>\n",
       "  </thead>\n",
       "  <tbody>\n",
       "    <tr>\n",
       "      <th>2017-01-23 09:30:00</th>\n",
       "      <td>01/23/2017</td>\n",
       "      <td>09:30</td>\n",
       "      <td>96.15</td>\n",
       "      <td>96.23</td>\n",
       "      <td>96.15</td>\n",
       "      <td>96.23</td>\n",
       "      <td>96.36</td>\n",
       "      <td>96.36</td>\n",
       "      <td>96.30</td>\n",
       "      <td>96.30</td>\n",
       "      <td>False</td>\n",
       "    </tr>\n",
       "    <tr>\n",
       "      <th>2017-01-23 10:30:00</th>\n",
       "      <td>01/23/2017</td>\n",
       "      <td>10:30</td>\n",
       "      <td>95.98</td>\n",
       "      <td>96.00</td>\n",
       "      <td>95.98</td>\n",
       "      <td>96.00</td>\n",
       "      <td>95.99</td>\n",
       "      <td>96.01</td>\n",
       "      <td>95.99</td>\n",
       "      <td>96.01</td>\n",
       "      <td>False</td>\n",
       "    </tr>\n",
       "    <tr>\n",
       "      <th>2017-01-23 11:30:00</th>\n",
       "      <td>01/23/2017</td>\n",
       "      <td>11:30</td>\n",
       "      <td>95.91</td>\n",
       "      <td>95.95</td>\n",
       "      <td>95.91</td>\n",
       "      <td>95.94</td>\n",
       "      <td>95.92</td>\n",
       "      <td>95.96</td>\n",
       "      <td>95.92</td>\n",
       "      <td>95.95</td>\n",
       "      <td>False</td>\n",
       "    </tr>\n",
       "    <tr>\n",
       "      <th>2017-01-23 12:30:00</th>\n",
       "      <td>01/23/2017</td>\n",
       "      <td>12:30</td>\n",
       "      <td>95.84</td>\n",
       "      <td>95.84</td>\n",
       "      <td>95.84</td>\n",
       "      <td>95.84</td>\n",
       "      <td>95.85</td>\n",
       "      <td>95.85</td>\n",
       "      <td>95.85</td>\n",
       "      <td>95.85</td>\n",
       "      <td>False</td>\n",
       "    </tr>\n",
       "    <tr>\n",
       "      <th>2017-01-23 13:30:00</th>\n",
       "      <td>01/23/2017</td>\n",
       "      <td>13:30</td>\n",
       "      <td>95.88</td>\n",
       "      <td>95.88</td>\n",
       "      <td>95.88</td>\n",
       "      <td>95.88</td>\n",
       "      <td>95.89</td>\n",
       "      <td>95.89</td>\n",
       "      <td>95.89</td>\n",
       "      <td>95.89</td>\n",
       "      <td>False</td>\n",
       "    </tr>\n",
       "  </tbody>\n",
       "</table>\n",
       "</div>"
      ],
      "text/plain": [
       "                           Date   Time  BidOpen  BidHigh  BidLow  BidClose  \\\n",
       "2017-01-23 09:30:00  01/23/2017  09:30    96.15    96.23   96.15     96.23   \n",
       "2017-01-23 10:30:00  01/23/2017  10:30    95.98    96.00   95.98     96.00   \n",
       "2017-01-23 11:30:00  01/23/2017  11:30    95.91    95.95   95.91     95.94   \n",
       "2017-01-23 12:30:00  01/23/2017  12:30    95.84    95.84   95.84     95.84   \n",
       "2017-01-23 13:30:00  01/23/2017  13:30    95.88    95.88   95.88     95.88   \n",
       "\n",
       "                     AskOpen  AskHigh  AskLow  AskClose  filled_timebin  \n",
       "2017-01-23 09:30:00    96.36    96.36   96.30     96.30           False  \n",
       "2017-01-23 10:30:00    95.99    96.01   95.99     96.01           False  \n",
       "2017-01-23 11:30:00    95.92    95.96   95.92     95.95           False  \n",
       "2017-01-23 12:30:00    95.85    95.85   95.85     95.85           False  \n",
       "2017-01-23 13:30:00    95.89    95.89   95.89     95.89           False  "
      ]
     },
     "metadata": {},
     "output_type": "display_data"
    },
    {
     "data": {
      "image/png": "[encoded data removed]",
      "text/plain": [
       "<Figure size 864x288 with 1 Axes>"
      ]
     },
     "metadata": {
      "needs_background": "light"
     },
     "output_type": "display_data"
    }
   ],
   "source": [
    "stock_df = load_raw_stock_data_from_txt(verbose=1)\n",
    "plot_time_series(stock_df['BidClose'])"
   ]
  },
  {
   "cell_type": "code",
   "execution_count": 13,
   "metadata": {},
   "outputs": [
    {
     "data": {
      "text/html": [
       "<div>\n",
       "<style scoped>\n",
       "    .dataframe tbody tr th:only-of-type {\n",
       "        vertical-align: middle;\n",
       "    }\n",
       "\n",
       "    .dataframe tbody tr th {\n",
       "        vertical-align: top;\n",
       "    }\n",
       "\n",
       "    .dataframe thead th {\n",
       "        text-align: right;\n",
       "    }\n",
       "</style>\n",
       "<table border=\"1\" class=\"dataframe\">\n",
       "  <thead>\n",
       "    <tr style=\"text-align: right;\">\n",
       "      <th></th>\n",
       "      <th>Date</th>\n",
       "      <th>Time</th>\n",
       "      <th>BidOpen</th>\n",
       "      <th>BidHigh</th>\n",
       "      <th>BidLow</th>\n",
       "      <th>BidClose</th>\n",
       "      <th>AskOpen</th>\n",
       "      <th>AskHigh</th>\n",
       "      <th>AskLow</th>\n",
       "      <th>AskClose</th>\n",
       "      <th>...</th>\n",
       "      <th>ma7</th>\n",
       "      <th>ma21</th>\n",
       "      <th>26ema</th>\n",
       "      <th>12ema</th>\n",
       "      <th>MACD</th>\n",
       "      <th>20sd</th>\n",
       "      <th>upper_band</th>\n",
       "      <th>lower_band</th>\n",
       "      <th>ema</th>\n",
       "      <th>momentum</th>\n",
       "    </tr>\n",
       "  </thead>\n",
       "  <tbody>\n",
       "    <tr>\n",
       "      <th>2017-01-23 09:30:00</th>\n",
       "      <td>01/23/2017</td>\n",
       "      <td>09:30</td>\n",
       "      <td>96.15</td>\n",
       "      <td>96.23</td>\n",
       "      <td>96.15</td>\n",
       "      <td>96.23</td>\n",
       "      <td>96.36</td>\n",
       "      <td>96.36</td>\n",
       "      <td>96.30</td>\n",
       "      <td>96.30</td>\n",
       "      <td>...</td>\n",
       "      <td>NaN</td>\n",
       "      <td>NaN</td>\n",
       "      <td>96.230000</td>\n",
       "      <td>96.230000</td>\n",
       "      <td>0.000000</td>\n",
       "      <td>NaN</td>\n",
       "      <td>NaN</td>\n",
       "      <td>NaN</td>\n",
       "      <td>96.230000</td>\n",
       "      <td>89.23</td>\n",
       "    </tr>\n",
       "    <tr>\n",
       "      <th>2017-01-23 10:30:00</th>\n",
       "      <td>01/23/2017</td>\n",
       "      <td>10:30</td>\n",
       "      <td>95.98</td>\n",
       "      <td>96.00</td>\n",
       "      <td>95.98</td>\n",
       "      <td>96.00</td>\n",
       "      <td>95.99</td>\n",
       "      <td>96.01</td>\n",
       "      <td>95.99</td>\n",
       "      <td>96.01</td>\n",
       "      <td>...</td>\n",
       "      <td>NaN</td>\n",
       "      <td>NaN</td>\n",
       "      <td>96.114368</td>\n",
       "      <td>96.113631</td>\n",
       "      <td>-0.000737</td>\n",
       "      <td>NaN</td>\n",
       "      <td>NaN</td>\n",
       "      <td>NaN</td>\n",
       "      <td>96.057500</td>\n",
       "      <td>89.00</td>\n",
       "    </tr>\n",
       "    <tr>\n",
       "      <th>2017-01-23 11:30:00</th>\n",
       "      <td>01/23/2017</td>\n",
       "      <td>11:30</td>\n",
       "      <td>95.91</td>\n",
       "      <td>95.95</td>\n",
       "      <td>95.91</td>\n",
       "      <td>95.94</td>\n",
       "      <td>95.92</td>\n",
       "      <td>95.96</td>\n",
       "      <td>95.92</td>\n",
       "      <td>95.95</td>\n",
       "      <td>...</td>\n",
       "      <td>NaN</td>\n",
       "      <td>NaN</td>\n",
       "      <td>96.055606</td>\n",
       "      <td>96.054371</td>\n",
       "      <td>-0.001235</td>\n",
       "      <td>NaN</td>\n",
       "      <td>NaN</td>\n",
       "      <td>NaN</td>\n",
       "      <td>95.976154</td>\n",
       "      <td>88.94</td>\n",
       "    </tr>\n",
       "    <tr>\n",
       "      <th>2017-01-23 12:30:00</th>\n",
       "      <td>01/23/2017</td>\n",
       "      <td>12:30</td>\n",
       "      <td>95.84</td>\n",
       "      <td>95.84</td>\n",
       "      <td>95.84</td>\n",
       "      <td>95.84</td>\n",
       "      <td>95.85</td>\n",
       "      <td>95.85</td>\n",
       "      <td>95.85</td>\n",
       "      <td>95.85</td>\n",
       "      <td>...</td>\n",
       "      <td>NaN</td>\n",
       "      <td>NaN</td>\n",
       "      <td>96.000812</td>\n",
       "      <td>95.998849</td>\n",
       "      <td>-0.001964</td>\n",
       "      <td>NaN</td>\n",
       "      <td>NaN</td>\n",
       "      <td>NaN</td>\n",
       "      <td>95.884250</td>\n",
       "      <td>88.84</td>\n",
       "    </tr>\n",
       "    <tr>\n",
       "      <th>2017-01-23 13:30:00</th>\n",
       "      <td>01/23/2017</td>\n",
       "      <td>13:30</td>\n",
       "      <td>95.88</td>\n",
       "      <td>95.88</td>\n",
       "      <td>95.88</td>\n",
       "      <td>95.88</td>\n",
       "      <td>95.89</td>\n",
       "      <td>95.89</td>\n",
       "      <td>95.89</td>\n",
       "      <td>95.89</td>\n",
       "      <td>...</td>\n",
       "      <td>NaN</td>\n",
       "      <td>NaN</td>\n",
       "      <td>95.976116</td>\n",
       "      <td>95.973934</td>\n",
       "      <td>-0.002182</td>\n",
       "      <td>NaN</td>\n",
       "      <td>NaN</td>\n",
       "      <td>NaN</td>\n",
       "      <td>95.881405</td>\n",
       "      <td>88.88</td>\n",
       "    </tr>\n",
       "  </tbody>\n",
       "</table>\n",
       "<p>5 rows × 22 columns</p>\n",
       "</div>"
      ],
      "text/plain": [
       "                           Date   Time  BidOpen  BidHigh  BidLow  BidClose  \\\n",
       "2017-01-23 09:30:00  01/23/2017  09:30    96.15    96.23   96.15     96.23   \n",
       "2017-01-23 10:30:00  01/23/2017  10:30    95.98    96.00   95.98     96.00   \n",
       "2017-01-23 11:30:00  01/23/2017  11:30    95.91    95.95   95.91     95.94   \n",
       "2017-01-23 12:30:00  01/23/2017  12:30    95.84    95.84   95.84     95.84   \n",
       "2017-01-23 13:30:00  01/23/2017  13:30    95.88    95.88   95.88     95.88   \n",
       "\n",
       "                     AskOpen  AskHigh  AskLow  AskClose  ...  ma7  ma21  \\\n",
       "2017-01-23 09:30:00    96.36    96.36   96.30     96.30  ...  NaN   NaN   \n",
       "2017-01-23 10:30:00    95.99    96.01   95.99     96.01  ...  NaN   NaN   \n",
       "2017-01-23 11:30:00    95.92    95.96   95.92     95.95  ...  NaN   NaN   \n",
       "2017-01-23 12:30:00    95.85    95.85   95.85     95.85  ...  NaN   NaN   \n",
       "2017-01-23 13:30:00    95.89    95.89   95.89     95.89  ...  NaN   NaN   \n",
       "\n",
       "                         26ema      12ema      MACD  20sd  upper_band  \\\n",
       "2017-01-23 09:30:00  96.230000  96.230000  0.000000   NaN         NaN   \n",
       "2017-01-23 10:30:00  96.114368  96.113631 -0.000737   NaN         NaN   \n",
       "2017-01-23 11:30:00  96.055606  96.054371 -0.001235   NaN         NaN   \n",
       "2017-01-23 12:30:00  96.000812  95.998849 -0.001964   NaN         NaN   \n",
       "2017-01-23 13:30:00  95.976116  95.973934 -0.002182   NaN         NaN   \n",
       "\n",
       "                     lower_band        ema  momentum  \n",
       "2017-01-23 09:30:00         NaN  96.230000     89.23  \n",
       "2017-01-23 10:30:00         NaN  96.057500     89.00  \n",
       "2017-01-23 11:30:00         NaN  95.976154     88.94  \n",
       "2017-01-23 12:30:00         NaN  95.884250     88.84  \n",
       "2017-01-23 13:30:00         NaN  95.881405     88.88  \n",
       "\n",
       "[5 rows x 22 columns]"
      ]
     },
     "execution_count": 13,
     "metadata": {},
     "output_type": "execute_result"
    }
   ],
   "source": [
    "stock_df = get_technical_indicators(stock_df)\n",
    "stock_df.head()"
   ]
  },
  {
   "cell_type": "code",
   "execution_count": 14,
   "metadata": {},
   "outputs": [
    {
     "name": "stdout",
     "output_type": "stream",
     "text": [
      "DatetimeIndex(['2017-02-20 15:30:00', '2017-02-21 09:30:00',\n",
      "               '2017-02-21 10:30:00', '2017-02-21 11:30:00',\n",
      "               '2017-02-21 12:30:00', '2017-02-21 13:30:00',\n",
      "               '2017-02-21 14:30:00', '2017-02-21 15:30:00',\n",
      "               '2017-02-22 09:30:00', '2017-02-22 10:30:00',\n",
      "               ...\n",
      "               '2019-06-20 13:30:00', '2019-06-20 14:30:00',\n",
      "               '2019-06-20 15:30:00', '2019-06-21 09:30:00',\n",
      "               '2019-06-21 10:30:00', '2019-06-21 11:30:00',\n",
      "               '2019-06-21 12:30:00', '2019-06-21 13:30:00',\n",
      "               '2019-06-21 14:30:00', '2019-06-21 15:30:00'],\n",
      "              dtype='datetime64[ns]', length=4264, freq='CBH')\n"
     ]
    },
    {
     "data": {
      "text/plain": [
       "Series([], dtype: int64)"
      ]
     },
     "execution_count": 14,
     "metadata": {},
     "output_type": "execute_result"
    }
   ],
   "source": [
    "# Remove timepoints without enough time periods for all indicators\n",
    "na_idx = stock_df.loc[stock_df['upper_band'].isna() == True].index\n",
    "stock_df = stock_df.loc[na_idx[-1]+1*na_idx.freq:]\n",
    "\n",
    "\n",
    "print(stock_df.index)\n",
    "\n",
    "# Check for null values\n",
    "res = stock_df.isna().sum()\n",
    "res[res>0]"
   ]
  },
  {
   "cell_type": "code",
   "execution_count": 15,
   "metadata": {},
   "outputs": [],
   "source": [
    "save=False\n",
    "if save==True:\n",
    "    stock_df.to_csv('data/stock_df_with_tech_indicators.csv')"
   ]
  },
  {
   "cell_type": "code",
   "execution_count": 16,
   "metadata": {
    "colab": {
     "base_uri": "https://localhost:8080/",
     "height": 673
    },
    "colab_type": "code",
    "id": "ShSNcABizv4j",
    "outputId": "f6d0e745-6db5-4f53-b8e6-52adbeda9faf"
   },
   "outputs": [],
   "source": [
    "# # LOAD IN DATASET\n",
    "# ive_df = load_stock_df_from_csv(freq='CBH',verbose=0)\n",
    "# print(ive_df.index)\n",
    "\n",
    "# # ive_df=ive_df['2019':]\n",
    "# # display(ive_df.head())\n",
    "# plot_time_series(ive_df.filter(regex='Bid'))"
   ]
  },
  {
   "cell_type": "code",
   "execution_count": 17,
   "metadata": {
    "colab": {
     "base_uri": "https://localhost:8080/",
     "height": 235
    },
    "colab_type": "code",
    "id": "GpyXxzsbhT-J",
    "outputId": "66e741fb-355d-4046-dd59-8af1fc87853b"
   },
   "outputs": [],
   "source": [
    "# # # Calculate technical indicators \n",
    "# # stock_df = get_technical_indicators(ive_df)\n",
    "\n",
    "# # Remove timepoints without enough time periods for all indicators\n",
    "# na_idx = stock_df.loc[stock_df['upper_band'].isna() == True].index\n",
    "# stock_df = stock_df.loc[na_idx[-1]+1*na_idx.freq:]\n",
    "\n",
    "# print(stock_df.index)\n",
    "\n",
    "# # Check for null values\n",
    "# res = stock_df.isna().sum()\n",
    "# res[res>0]"
   ]
  },
  {
   "cell_type": "code",
   "execution_count": 18,
   "metadata": {
    "colab": {
     "base_uri": "https://localhost:8080/",
     "height": 491
    },
    "colab_type": "code",
    "id": "hdp5MwIrSnnn",
    "outputId": "e54172ff-dc34-447b-d766-7990cb35f2bf",
    "scrolled": false
   },
   "outputs": [],
   "source": [
    "def plot_technical_indicators(dataset, last_days=90):\n",
    "   \n",
    "    days = get_day_window_size_from_freq(dataset)\n",
    "    \n",
    "    fig, ax = plt.subplots(nrows=2, ncols=1,figsize=(10, 6), dpi=100)\n",
    "#     shape_0 = dataset.shape[0]\n",
    "#     xmacd_ = shape_0-(days*last_days)\n",
    "    \n",
    "    dataset = dataset.iloc[-(days*last_days):, :]\n",
    "    x_ = range(3, dataset.shape[0])\n",
    "    x_ =list(dataset.index)\n",
    "    \n",
    "    # Plot first subplot\n",
    "    ax[0].plot(dataset['ma7'],label='MA 7', color='g',linestyle='--')\n",
    "    ax[0].plot(dataset['price'],label='Closing Price', color='b')\n",
    "    ax[0].plot(dataset['ma21'],label='MA 21', color='r',linestyle='--')\n",
    "    ax[0].plot(dataset['upper_band'],label='Upper Band', color='c')\n",
    "    ax[0].plot(dataset['lower_band'],label='Lower Band', color='c')\n",
    "    ax[0].fill_between(x_, dataset['lower_band'], dataset['upper_band'], alpha=0.35)\n",
    "    ax[0].set_title('Technical indicators for Goldman Sachs - last {} days.'.format(last_days))\n",
    "    ax[0].set_ylabel('USD')\n",
    "    ax[0].legend()\n",
    "\n",
    "#     shape_0 = dataset.shape[0]\n",
    "#     xmacd_ = shape_0-(days*last_days)\n",
    "#     # Plot second subplot\n",
    "#     ax[1].set_title('MACD')\n",
    "#     ax[1].plot(dataset['MACD'],label='MACD', linestyle='-.')\n",
    "#     ax[1].hlines(15, xmacd_, shape_0, colors='g', linestyles='--')\n",
    "#     ax[1].hlines(-15, xmacd_, shape_0, colors='g', linestyles='--')\n",
    "#     ax[1].plot(dataset['momentum'],label='Momentum', color='b',linestyle='-')\n",
    "\n",
    "#     ax[1].legend()\n",
    "    plt.delaxes(ax[1])\n",
    "    plt.show()\n",
    "    \n",
    "# plot_technical_indicators(stock_df)#.filter(regex='Bid'))  \n"
   ]
  },
  {
   "cell_type": "markdown",
   "metadata": {
    "colab_type": "text",
    "id": "eE3D-Avztybj"
   },
   "source": [
    "## Checking for Stationarity and Trends"
   ]
  },
  {
   "cell_type": "code",
   "execution_count": 19,
   "metadata": {
    "colab": {
     "base_uri": "https://localhost:8080/",
     "height": 465
    },
    "colab_type": "code",
    "id": "mVw0kD3VpbiD",
    "outputId": "4301830b-220e-4829-952a-fdbec70bbfd0"
   },
   "outputs": [
    {
     "name": "stdout",
     "output_type": "stream",
     "text": [
      "Results of Dickey-Fuller Test:\n",
      "\tIf p<.05 then timeseries IS stationary.\n",
      "Test Statistic                   -1.689761\n",
      "p-value                           0.436395\n",
      "#Lags Used                        0.000000\n",
      "Number of Observations Used    4263.000000\n",
      "Critical Value (1%)              -3.431885\n",
      "Critical Value (5%)              -2.862218\n",
      "Critical Value (10%)             -2.567131\n",
      "dtype: float64\n"
     ]
    },
    {
     "data": {
      "image/png": "[encoded data removed]",
      "text/plain": [
       "<Figure size 576x288 with 2 Axes>"
      ]
     },
     "metadata": {
      "needs_background": "light"
     },
     "output_type": "display_data"
    }
   ],
   "source": [
    "# Check if stationary\n",
    "stationarity_check(stock_df, freq=custom_BH_freq())\n",
    "# pause"
   ]
  },
  {
   "cell_type": "code",
   "execution_count": 20,
   "metadata": {
    "code_folding": [
     0
    ]
   },
   "outputs": [],
   "source": [
    "# UDEMY COURSE ALTERNATIVE TO STATIONARITY CHECK\n",
    "def adf_test(series,title=''):\n",
    "    \"\"\"\n",
    "    Pass in a time series and an optional title, returns an ADF report\n",
    "    \"\"\"\n",
    "    from statsmodels.tsa.stattools import adfuller\n",
    "    import pandas as pd \n",
    "    print(f'Augmented Dickey-Fuller Test: {title}')\n",
    "    result = adfuller(series.dropna(),autolag='AIC') # .dropna() handles differenced data\n",
    "    \n",
    "    labels = ['ADF test statistic','p-value','# lags used','# observations']\n",
    "    out = pd.Series(result[0:4],index=labels)\n",
    "\n",
    "    for key,val in result[4].items():\n",
    "        out[f'critical value ({key})']=val\n",
    "        \n",
    "    print(out.to_string())          # .to_string() removes the line \"dtype: float64\"\n",
    "    \n",
    "    if result[1] <= 0.05:\n",
    "        print(\"Strong evidence against the null hypothesis\")\n",
    "        print(\"Reject the null hypothesis\")\n",
    "        print(\"Data has no unit root and is stationary\")\n",
    "    else:\n",
    "        print(\"Weak evidence against the null hypothesis\")\n",
    "        print(\"Fail to reject the null hypothesis\")\n",
    "        print(\"Data has a unit root and is non-stationary\")"
   ]
  },
  {
   "cell_type": "code",
   "execution_count": 21,
   "metadata": {},
   "outputs": [
    {
     "name": "stdout",
     "output_type": "stream",
     "text": [
      "Augmented Dickey-Fuller Test: Price\n",
      "ADF test statistic        -1.689761\n",
      "p-value                    0.436395\n",
      "# lags used                0.000000\n",
      "# observations          4263.000000\n",
      "critical value (1%)       -3.431885\n",
      "critical value (5%)       -2.862218\n",
      "critical value (10%)      -2.567131\n",
      "Weak evidence against the null hypothesis\n",
      "Fail to reject the null hypothesis\n",
      "Data has a unit root and is non-stationary\n"
     ]
    }
   ],
   "source": [
    "adf_test(stock_df['price'], title='Price')"
   ]
  },
  {
   "cell_type": "code",
   "execution_count": 22,
   "metadata": {
    "code_folding": [
     0
    ]
   },
   "outputs": [
    {
     "data": {
      "image/png": "[encoded data removed]",
      "text/plain": [
       "<Figure size 720x432 with 4 Axes>"
      ]
     },
     "metadata": {
      "needs_background": "light"
     },
     "output_type": "display_data"
    }
   ],
   "source": [
    "# Adding a seasonal decomposition\n",
    "from statsmodels.tsa.seasonal import seasonal_decompose\n",
    "result = seasonal_decompose(stock_df['price'], freq=35)#, freq=custom_BH_freq())\n",
    "\n",
    "mpl.rcParams['figure.figsize'] = (10,6)\n",
    "result.plot();"
   ]
  },
  {
   "cell_type": "code",
   "execution_count": 23,
   "metadata": {},
   "outputs": [],
   "source": [
    "# fig = result.seasonal.plot()\n",
    "# curr_lim = plt.xlim()\n",
    "# plt.xlim(curr_lim[0],curr_lim[1]*.75)"
   ]
  },
  {
   "cell_type": "code",
   "execution_count": 24,
   "metadata": {
    "scrolled": false
   },
   "outputs": [
    {
     "data": {
      "image/png": "[encoded data removed]",
      "text/plain": [
       "<Figure size 720x432 with 3 Axes>"
      ]
     },
     "metadata": {
      "needs_background": "light"
     },
     "output_type": "display_data"
    }
   ],
   "source": [
    "from statsmodels.graphics.tsaplots import plot_acf,plot_pacf\n",
    "test_df = stock_df['price']\n",
    "\n",
    "fig,ax = plt.subplots(nrows=3,ncols=1,figsize=(10,6))\n",
    "\n",
    "test_df.plot(ax=ax[0])\n",
    "# df2.plot(ax=ax[0,1])\n",
    "\n",
    "num_lags = 70\n",
    "plot_acf(test_df,ax=ax[1] , lags=num_lags);\n",
    "# plot_acf(df2,ax=ax[1,1],lags=40);\n",
    "\n",
    "plot_pacf(test_df,ax=ax[2],lags=num_lags);\n",
    "# plot_pacf(df2,ax=ax[2,1],lags=40);\n",
    "\n",
    "plt.tight_layout()"
   ]
  },
  {
   "cell_type": "markdown",
   "metadata": {},
   "source": [
    "### Trying Pyramind ARIMA"
   ]
  },
  {
   "cell_type": "markdown",
   "metadata": {},
   "source": [
    "## **Using `pmdarima` to grid search for best ARIMA model type and orders**\n",
    "\n",
    "- Using `auto_arima` from `pmdarima`\n",
    "\n",
    "- SARIMA involves multiple sets of hyperparameters:\n",
    "    - For base model: a set of p,d,q parameters\n",
    "    - For seasonal model:a set of P,D,Q for the seasonal components.\n",
    "    - m = the number of time periods to include in the season \n",
    "    \n",
    "- Set start and max values for each parameter\n",
    "    - i.e. `start_p=0, max_p = 10`\n",
    "- For seasonal data, setting `m` indicates how many periods should be considered part of the season.\n",
    "\n",
    "\n",
    "- **Below is from [\"Predicitng the Sotck Market Using Machine Learning and Deep Learning.\"](https://www.analyticsvidhya.com/blog/2018/10/predicting-stock-price-machine-learningnd-deep-learning-techniques-python/):**\n",
    "> Below are the steps you should follow for implementing auto ARIMA:\n",
    "    1. Load the data: This step will be the same. Load the data into your notebook\n",
    "    2. Preprocessing data: The input should be univariate, hence drop the other columns\n",
    "    3. Fit Auto ARIMA: Fit the model on the univariate series\n",
    "    4. Predict values on validation set: Make predictions on the validation set\n",
    "    5. Calculate RMSE: Check the performance of the model using the predicted values against the actual values"
   ]
  },
  {
   "cell_type": "code",
   "execution_count": 25,
   "metadata": {},
   "outputs": [],
   "source": [
    "import warnings\n",
    "warnings.filterwarnings('ignore')"
   ]
  },
  {
   "cell_type": "code",
   "execution_count": 26,
   "metadata": {},
   "outputs": [],
   "source": [
    "# stock_df = stock_df.asfreq('B')"
   ]
  },
  {
   "cell_type": "code",
   "execution_count": 27,
   "metadata": {},
   "outputs": [
    {
     "name": "stdout",
     "output_type": "stream",
     "text": [
      "Dates for Train Data:2018-10-12 15:30:00 : 2019-02-15 15:30:00.\n",
      "Dates for Test Data:2019-02-15 15:30:00 : 2019-06-21 15:30:00.\n",
      "Data split on index:2019-02-15 15:30:00.\n",
      "train_data.shape:(631, 22)\n",
      "test_data.shape:(631, 22)\n"
     ]
    },
    {
     "data": {
      "image/png": "[encoded data removed]",
      "text/plain": [
       "<Figure size 720x432 with 1 Axes>"
      ]
     },
     "metadata": {
      "needs_background": "light"
     },
     "output_type": "display_data"
    }
   ],
   "source": [
    "def train_test_split_by_last_days(stock_df, periods_per_day=7,num_test_days = 90, num_train_days=180, plot=True):\n",
    "    \"\"\"Takes the last num_test_days of the time index to use as testing data, and take shte num_Trian_days prior to that date\n",
    "    as the training data.\"\"\"\n",
    "    # DETERMINING DAY TO USE TO SPLIT DATA INTO TRAIN AND TEST\n",
    "    day_freq = periods_per_day\n",
    "    start_train_day = stock_df.index[-1] - num_train_days*day_freq\n",
    "    last_day = stock_df.index[-1] - num_test_days*day_freq\n",
    "    print(f'Dates for Train Data:{start_train_day} : {last_day}.')\n",
    "    print(f'Dates for Test Data:{last_day} : {stock_df.index[-1]}.')\n",
    "    train_data = stock_df.loc[start_train_day:last_day]#,'price']\n",
    "    test_data = stock_df.loc[last_day:]#,'price']\n",
    "    print(f'Data split on index:{last_day}.')\n",
    "    print(f'train_data.shape:{train_data.shape}')\n",
    "    print(f'test_data.shape:{test_data.shape}')\n",
    "\n",
    "\n",
    "    if plot==True:\n",
    "        if 'price' in stock_df.columns:\n",
    "            plot_col ='price'\n",
    "        elif 'price_labels' in stock_df.columns:\n",
    "            plot_col = 'price_labels'\n",
    "        \n",
    "        train_data[plot_col].plot(label='Training')\n",
    "        test_data[plot_col].plot(label='Test')\n",
    "        plt.title('Training and Test Data for S&P500')\n",
    "        plt.ylabel('Price')\n",
    "        plt.xlabel('Trading Date/Hour')\n",
    "        plt.legend();\n",
    "    \n",
    "    return train_data, test_data\n",
    "\n",
    "train_data, test_data = train_test_split_by_last_days(stock_df)"
   ]
  },
  {
   "cell_type": "code",
   "execution_count": 28,
   "metadata": {
    "code_folding": [
     0
    ],
    "scrolled": false
   },
   "outputs": [],
   "source": [
    "# # DETERMINING DAY TO USE TO SPLIT DATA INTO TRAIN AND TEST\n",
    "# day_freq = 7\n",
    "# start_train_day = stock_df.index[-1] - 180*day_freq\n",
    "# last_day = stock_df.index[-1] - 90*day_freq\n",
    "# print(f'Data split on index:{last_day}.')\n",
    "\n",
    "\n",
    "# train_data = stock_df.loc[start_train_day:last_day]#,'price']\n",
    "# test_data = stock_df.loc[last_day:]#,'price']\n",
    "\n",
    "# train_data['price'].plot(label='Training')\n",
    "# test_data['price'].plot(label='Test')\n",
    "# plt.title('Training and Test Data for S&P500')\n",
    "# plt.ylabel('Price')\n",
    "# plt.xlabel('Trading Date/Hour')\n",
    "# plt.legend();"
   ]
  },
  {
   "cell_type": "code",
   "execution_count": 29,
   "metadata": {
    "scrolled": false
   },
   "outputs": [],
   "source": [
    "skip=True\n",
    "if skip==False:\n",
    "    from pmdarima.arima import auto_arima\n",
    "\n",
    "    model = auto_arima(train_data['price'], start_p=1, start_q=1, D=1, max_p=4,max_q=4,trace=True,seasonal=True,m=35)\n",
    "    model.summary()"
   ]
  },
  {
   "cell_type": "markdown",
   "metadata": {},
   "source": [
    "___\n",
    "**Results of the Auto-Arima searching with training data set:**\n",
    "- Training Set= all data less the last 90 days:\n",
    "\n",
    "`Model:\t\tSARIMAX(0, 1, 0)x(1, 0, 1, 35)\t`\n",
    "- So what is this really saying?\n",
    "    - p,d,q = (0,1,0)\n",
    "        - AR (p) = 0\n",
    "        - Difference=1\n",
    "        - MA order(q)=0 \n",
    "        \n",
    "    - P,D,Q,m = (1,0,1,35)\n",
    "        - Seasonal AR(P) = 1\n",
    "        - Seasonal Differencing =0\n",
    "        - Seasonal MA(Q)\n",
    "        - Steps per season (m) = 35 (set by user)\n",
    "\n",
    "`statsmodels` version of SARIMA called SARIMAX adds an eXogenous variable to the regression.\n",
    "- Read this: https://www.analyticsvidhya.com/blog/2018/08/auto-arima-time-series-modeling-python-r/\n",
    "\n",
    "\n",
    "- WHEN I SWITCH TO DAILY DATA:\n",
    "`Model:\tSARIMAX(1, 1, 1)x(1, 0, 1, 5)`\n",
    "\n",
    "#### First try a SARIMA model before SARIMAX\n",
    "\n",
    "-"
   ]
  },
  {
   "cell_type": "code",
   "execution_count": 30,
   "metadata": {},
   "outputs": [],
   "source": [
    "# from statsmodels.tsa.arima_model import ARIMA\n",
    "# model = ARIMA(train_data['price'], order=(1,1,1),freq='B')\n",
    "# results = model.fit()\n",
    "# results.summary()"
   ]
  },
  {
   "cell_type": "code",
   "execution_count": 31,
   "metadata": {},
   "outputs": [],
   "source": [
    "# # evaluate model\n",
    "# start = len(train_data)\n",
    "# end = len(train_data) + len(test_data) - 1\n",
    "# predictions = results.predict(start=start,end=end).rename('ARIMA Model')\n",
    "\n",
    "# train_data['price'].iloc[-120*day_freq:].plot()\n",
    "# test_data['price'].plot()\n",
    "# predictions.plot()"
   ]
  },
  {
   "cell_type": "code",
   "execution_count": 32,
   "metadata": {},
   "outputs": [
    {
     "data": {
      "text/html": [
       "<table class=\"simpletable\">\n",
       "<caption>Statespace Model Results</caption>\n",
       "<tr>\n",
       "  <th>Dep. Variable:</th>                <td>price</td>             <th>  No. Observations:  </th>    <td>631</td>  \n",
       "</tr>\n",
       "<tr>\n",
       "  <th>Model:</th>           <td>SARIMAX(1, 1, 0)x(0, 1, 1, 35)</td> <th>  Log Likelihood     </th> <td>-393.024</td>\n",
       "</tr>\n",
       "<tr>\n",
       "  <th>Date:</th>                   <td>Tue, 02 Jul 2019</td>        <th>  AIC                </th>  <td>792.049</td>\n",
       "</tr>\n",
       "<tr>\n",
       "  <th>Time:</th>                       <td>18:11:27</td>            <th>  BIC                </th>  <td>805.215</td>\n",
       "</tr>\n",
       "<tr>\n",
       "  <th>Sample:</th>                    <td>10-12-2018</td>           <th>  HQIC               </th>  <td>797.176</td>\n",
       "</tr>\n",
       "<tr>\n",
       "  <th></th>                          <td>- 02-15-2019</td>          <th>                     </th>     <td> </td>   \n",
       "</tr>\n",
       "<tr>\n",
       "  <th>Covariance Type:</th>               <td>opg</td>              <th>                     </th>     <td> </td>   \n",
       "</tr>\n",
       "</table>\n",
       "<table class=\"simpletable\">\n",
       "<tr>\n",
       "      <td></td>        <th>coef</th>     <th>std err</th>      <th>z</th>      <th>P>|z|</th>  <th>[0.025</th>    <th>0.975]</th>  \n",
       "</tr>\n",
       "<tr>\n",
       "  <th>ar.L1</th>    <td>    0.0348</td> <td>    0.029</td> <td>    1.205</td> <td> 0.228</td> <td>   -0.022</td> <td>    0.091</td>\n",
       "</tr>\n",
       "<tr>\n",
       "  <th>ma.S.L35</th> <td>   -0.9999</td> <td>   61.734</td> <td>   -0.016</td> <td> 0.987</td> <td> -121.997</td> <td>  119.997</td>\n",
       "</tr>\n",
       "<tr>\n",
       "  <th>sigma2</th>   <td>    0.1851</td> <td>   11.424</td> <td>    0.016</td> <td> 0.987</td> <td>  -22.206</td> <td>   22.577</td>\n",
       "</tr>\n",
       "</table>\n",
       "<table class=\"simpletable\">\n",
       "<tr>\n",
       "  <th>Ljung-Box (Q):</th>          <td>53.93</td> <th>  Jarque-Bera (JB):  </th> <td>122.65</td>\n",
       "</tr>\n",
       "<tr>\n",
       "  <th>Prob(Q):</th>                <td>0.07</td>  <th>  Prob(JB):          </th>  <td>0.00</td> \n",
       "</tr>\n",
       "<tr>\n",
       "  <th>Heteroskedasticity (H):</th> <td>0.50</td>  <th>  Skew:              </th>  <td>0.07</td> \n",
       "</tr>\n",
       "<tr>\n",
       "  <th>Prob(H) (two-sided):</th>    <td>0.00</td>  <th>  Kurtosis:          </th>  <td>5.22</td> \n",
       "</tr>\n",
       "</table><br/><br/>Warnings:<br/>[1] Covariance matrix calculated using the outer product of gradients (complex-step)."
      ],
      "text/plain": [
       "<class 'statsmodels.iolib.summary.Summary'>\n",
       "\"\"\"\n",
       "                                 Statespace Model Results                                 \n",
       "==========================================================================================\n",
       "Dep. Variable:                              price   No. Observations:                  631\n",
       "Model:             SARIMAX(1, 1, 0)x(0, 1, 1, 35)   Log Likelihood                -393.024\n",
       "Date:                            Tue, 02 Jul 2019   AIC                            792.049\n",
       "Time:                                    18:11:27   BIC                            805.215\n",
       "Sample:                                10-12-2018   HQIC                           797.176\n",
       "                                     - 02-15-2019                                         \n",
       "Covariance Type:                              opg                                         \n",
       "==============================================================================\n",
       "                 coef    std err          z      P>|z|      [0.025      0.975]\n",
       "------------------------------------------------------------------------------\n",
       "ar.L1          0.0348      0.029      1.205      0.228      -0.022       0.091\n",
       "ma.S.L35      -0.9999     61.734     -0.016      0.987    -121.997     119.997\n",
       "sigma2         0.1851     11.424      0.016      0.987     -22.206      22.577\n",
       "===================================================================================\n",
       "Ljung-Box (Q):                       53.93   Jarque-Bera (JB):               122.65\n",
       "Prob(Q):                              0.07   Prob(JB):                         0.00\n",
       "Heteroskedasticity (H):               0.50   Skew:                             0.07\n",
       "Prob(H) (two-sided):                  0.00   Kurtosis:                         5.22\n",
       "===================================================================================\n",
       "\n",
       "Warnings:\n",
       "[1] Covariance matrix calculated using the outer product of gradients (complex-step).\n",
       "\"\"\""
      ]
     },
     "execution_count": 32,
     "metadata": {},
     "output_type": "execute_result"
    }
   ],
   "source": [
    "from statsmodels.tsa.statespace.sarimax import SARIMAX\n",
    "# SARIMAX(0, 1, 0)x(1, 0, 1, 35)\t\n",
    "# Fit ARIMA: order=(1, 0, 0) seasonal_order=(1, 1, 0, 35); AIC=2881.238, BIC=2905.991, Fit time=52.449 seconds\n",
    "model = SARIMAX(train_data['price'], order= (1,1,0),seasonal_order=(0,1,1,35), enforce_invertibility=False ) \n",
    "results=model.fit()\n",
    "results.summary()"
   ]
  },
  {
   "cell_type": "code",
   "execution_count": 34,
   "metadata": {},
   "outputs": [
    {
     "data": {
      "text/html": [
       "<div>\n",
       "<style scoped>\n",
       "    .dataframe tbody tr th:only-of-type {\n",
       "        vertical-align: middle;\n",
       "    }\n",
       "\n",
       "    .dataframe tbody tr th {\n",
       "        vertical-align: top;\n",
       "    }\n",
       "\n",
       "    .dataframe thead th {\n",
       "        text-align: right;\n",
       "    }\n",
       "</style>\n",
       "<table border=\"1\" class=\"dataframe\">\n",
       "  <thead>\n",
       "    <tr style=\"text-align: right;\">\n",
       "      <th></th>\n",
       "      <th>price</th>\n",
       "      <th>predicted_price</th>\n",
       "    </tr>\n",
       "  </thead>\n",
       "  <tbody>\n",
       "    <tr>\n",
       "      <th>2019-02-18 09:30:00</th>\n",
       "      <td>110.99</td>\n",
       "      <td>111.049932</td>\n",
       "    </tr>\n",
       "    <tr>\n",
       "      <th>2019-02-18 10:30:00</th>\n",
       "      <td>110.99</td>\n",
       "      <td>110.993973</td>\n",
       "    </tr>\n",
       "    <tr>\n",
       "      <th>2019-02-18 11:30:00</th>\n",
       "      <td>110.99</td>\n",
       "      <td>110.903979</td>\n",
       "    </tr>\n",
       "    <tr>\n",
       "      <th>2019-02-18 12:30:00</th>\n",
       "      <td>110.99</td>\n",
       "      <td>110.888979</td>\n",
       "    </tr>\n",
       "    <tr>\n",
       "      <th>2019-02-18 13:30:00</th>\n",
       "      <td>110.99</td>\n",
       "      <td>110.954534</td>\n",
       "    </tr>\n",
       "  </tbody>\n",
       "</table>\n",
       "</div>"
      ],
      "text/plain": [
       "                      price  predicted_price\n",
       "2019-02-18 09:30:00  110.99       111.049932\n",
       "2019-02-18 10:30:00  110.99       110.993973\n",
       "2019-02-18 11:30:00  110.99       110.903979\n",
       "2019-02-18 12:30:00  110.99       110.888979\n",
       "2019-02-18 13:30:00  110.99       110.954534"
      ]
     },
     "metadata": {},
     "output_type": "display_data"
    },
    {
     "name": "stdout",
     "output_type": "stream",
     "text": [
      "RMSE: 2.398\n"
     ]
    }
   ],
   "source": [
    "# evaluate model\n",
    "from sklearn.metrics import mean_absolute_error, mean_squared_error\n",
    "start = len(train_data)\n",
    "end = len(train_data) + len(test_data) - 1\n",
    "predictions = results.predict(start=start,end=end).rename('SARIMA Model')\n",
    "days_per_period=7\n",
    "\n",
    "# Combine preds and true into one df\n",
    "df_predictions_sarima = pd.concat([test_data['price'],pd.Series(predictions, index=test_data.index,name='predicted_price')],axis=1)\n",
    "df_predictions_sarima.dropna(inplace=True)\n",
    "display(df_predictions_sarima.head())\n",
    "\n",
    "# calculate rmse\n",
    "rmse_sarima = np.sqrt(mean_squared_error(df_predictions_sarima['price'],df_predictions_sarima['predicted_price']))\n",
    "print(f\"RMSE: {rmse_sarima.round(3)}\")"
   ]
  },
  {
   "cell_type": "code",
   "execution_count": 35,
   "metadata": {},
   "outputs": [],
   "source": [
    "\n",
    "# df_predictions_sarima.head()"
   ]
  },
  {
   "cell_type": "code",
   "execution_count": 36,
   "metadata": {},
   "outputs": [
    {
     "data": {
      "text/plain": [
       "Text(2018-11-15, 116, 'RMSE: 2.398')"
      ]
     },
     "execution_count": 36,
     "metadata": {},
     "output_type": "execute_result"
    },
    {
     "data": {
      "image/png": "[encoded data removed]",
      "text/plain": [
       "<Figure size 720x432 with 1 Axes>"
      ]
     },
     "metadata": {
      "needs_background": "light"
     },
     "output_type": "display_data"
    }
   ],
   "source": [
    "# Plot results\n",
    "plt.plot(train_data['price'].iloc[-120*days_per_period:], label='Training Price')#.plot(label='price - train')\n",
    "plt.plot(df_predictions_sarima['price'], label='True Price')\n",
    "plt.plot(df_predictions_sarima['predicted_price'], label='Predicted Price')\n",
    "plt.ylabel('Stock Price')\n",
    "plt.xlabel('Business Day - Hour Resolution')\n",
    "plt.title('SARIMA Model')\n",
    "plt.legend()\n",
    "plt.tight_layout()\n",
    "plt.text('2018-11-15',116,f\"RMSE: {rmse_sarima.round(3)}\", fontdict={'fontsize':10, 'fontweight':'medium'})"
   ]
  },
  {
   "cell_type": "markdown",
   "metadata": {
    "colab_type": "text",
    "id": "Ksn-EM_wDxIl"
   },
   "source": [
    "# Data Prep/Split Forecasting Stock Market Data\n",
    "- https://www.evernote.com/l/AApgV1EaL9lEYpujWnwHq62W9QyEKkH4hwA/"
   ]
  },
  {
   "cell_type": "code",
   "execution_count": 37,
   "metadata": {},
   "outputs": [],
   "source": [
    "def make_scaler_library(df,transform=False,columns=[]):\n",
    "    from sklearn.preprocessing import MinMaxScaler\n",
    "    scaler_dict = {}\n",
    "    scaler_dict['index'] = df.index\n",
    "    if len(columns)==0:\n",
    "        user_cols = []\n",
    "        columns = df.columns\n",
    "    for col in columns:\n",
    "        user_cols=columns\n",
    "        scaler = MinMaxScaler()\n",
    "        scaler.fit(df[col].values.reshape(-1,1))\n",
    "        scaler_dict[col] = scaler \n",
    "        \n",
    "    if transform==False:\n",
    "        return scaler_dict\n",
    "    \n",
    "    elif transform==True:\n",
    "        df_out = transform_cols_from_library(df, scaler_dict,columns=user_cols)\n",
    "        return df_out, scaler_dict\n",
    "    \n",
    "def transform_cols_from_library(df,scaler_library,inverse=False,columns=[]):\n",
    "    \n",
    "    df_out = df.copy()\n",
    "    \n",
    "    if len(columns)==0:\n",
    "        columns = df.columns\n",
    "    for col in columns:\n",
    "        scaler = scaler_library[col]\n",
    "        if inverse==False:\n",
    "            scaled_col = scaler.transform(df[col].values.reshape(-1,1))\n",
    "        elif inverse==True:\n",
    "            scaled_col = scaler.inverse_transform(df[col].values.reshape(-1,1))\n",
    "        df_out[col] = scaled_col.ravel()\n",
    "    return df_out\n",
    "\n",
    "def inverse_transform_series(series, scaler):\n",
    "    series_tf = scaler.inverse_transform(series.values.reshape(-1,1))\n",
    "    series_tf = pd.Series(series_tf.ravel(), index = series.index, name=series.name)\n",
    "    return series_tf"
   ]
  },
  {
   "cell_type": "code",
   "execution_count": 38,
   "metadata": {
    "code_folding": [
     0
    ],
    "colab": {},
    "colab_type": "code",
    "id": "yoNjM_2MjD21"
   },
   "outputs": [],
   "source": [
    "# def scale_timeseries_data(data, as_series=True, return_scaler = True, verbose=2):\n",
    "    \n",
    "#     from sklearn.preprocessing import MinMaxScaler\n",
    "#     scaler = MinMaxScaler(feature_range=(0,1))\n",
    "    \n",
    "#     if verbose>0:\n",
    "#         print(f'Input Range: {np.min(data)} - {np.max(data)}')\n",
    "#         print(f'Input Shape: {np.shape(data)}')\n",
    "\n",
    "#     index = data.index\n",
    "#     data = scaler.fit_transform(data.values.reshape(-1,1))\n",
    "#     if verbose>0:\n",
    "#         print(f'Shape of Transformed Data = {data.shape}')\n",
    "\n",
    "#     data = data.flatten() #.reshape(-1,1)\n",
    "    \n",
    "#     if as_series==True:\n",
    "#         data = pd.Series(data)\n",
    "#         data.index = index\n",
    "\n",
    "#     if verbose>0:\n",
    "#         print(f'\\nOutput Range: {np.min(data)} - {np.max(data)}')\n",
    "#         print(f'Output Shape: {np.shape(data)}')\n",
    "    \n",
    "#     if return_scaler==True:\n",
    "#         return data, scaler\n",
    "#     else:\n",
    "#         return data\n",
    "    \n",
    "    \n",
    "# def inverse_transform_timeseries_data(data, scaler, as_series=True,verbose=2):\n",
    "    \n",
    "#     if verbose>0:\n",
    "#         print(f'Input Range: {np.min(data)} - {np.max(data)}')\n",
    "#         print(f'Input Shape: {np.shape(data)}')\n",
    "    \n",
    "#     data_back = scaler.inverse_transform(data.values.reshape(-1,1))\n",
    "    \n",
    "#     if as_series==True:\n",
    "#         index = data.index\n",
    "#         data_back = pd.Series(data_back.flatten())\n",
    "#         data_back.index=index\n",
    "#         if verbose>0:\n",
    "#             print(f'Output Index: {index[0]} - {index[-1]}')\n",
    "\n",
    "#     if verbose>0:\n",
    "#         print(f'\\nOutput Range: {np.min(data_back)} - {np.max(data_back)}')\n",
    "#         print(f'Output Shape: {np.shape(data_back)}')\n",
    "        \n",
    "#     return data_back"
   ]
  },
  {
   "cell_type": "code",
   "execution_count": 39,
   "metadata": {
    "code_folding": []
   },
   "outputs": [],
   "source": [
    "def make_X_y_timeseries_data(data,x_window = 35, verbose=2,as_array=True):\n",
    "    \"\"\"Takes a Series and creates X_train, y_train where each element of X contains x_window # of timepoints\n",
    "    and y_train contains one single timepoint following X_train's timepoint\"\"\"\n",
    "    import numpy as np\n",
    "    import pandas as pd\n",
    "                          \n",
    "    \n",
    "    if any(data.isna()):\n",
    "        raise Exception('Function does not accept null values')\n",
    "        \n",
    "    # Display info on data\n",
    "    if verbose>0:\n",
    "        print(f'Input Range: {np.min(data)} - {np.max(data)}')\n",
    "        print(f'Input Shape: {np.shape(data)}\\n')\n",
    "\n",
    "    time_index_in = data.index\n",
    "    time_index = data.index[x_window:]\n",
    "    \n",
    "    X_train, y_train = [], []\n",
    "    check_time_index = []\n",
    "#     headers = data.columns\n",
    "    # for every possible x_window:\n",
    "    for i in range(x_window, data.shape[0]):\n",
    "        check_time_index.append([data.index[i-x_window], data.index[i]])\n",
    "        # Append a list of the past x_window # of timepoints\n",
    "        X_train.append(data.iloc[i-x_window:i])#.values)\n",
    "        \n",
    "        # Append the next single timepoint's data\n",
    "        y_train.append(data.iloc[i])#.values)\n",
    "    \n",
    "    if as_array == True:\n",
    "        # Make X_train, y_train into arrays\n",
    "        X_train, y_train = np.array(X_train), np.array(y_train)\n",
    "    \n",
    "\n",
    "    if verbose>0:\n",
    "        print(f'\\nOutput Shape - X: {X_train.shape}')\n",
    "        print(f'Output Shape - y: {y_train.shape}')\n",
    "        print(f'\\nTimeindex Shape: {np.shape(time_index)}\\n\\tRange: {time_index[0]}-{time_index[-1]}')\n",
    "        print(f'\\tFrequency:',time_index.freq)\n",
    "#     print(time_index)\n",
    "#     print(check_time_index)\n",
    "    return X_train, y_train, time_index\n",
    "\n",
    "\n",
    "def make_df_timeseries_bins_by_column(df, x_window = 35, verbose=2,one_or_two_dfs = 1): #target_col='price',\n",
    "    \"\"\" Function will take each column from the dataframe and create a train_data dataset  (with X and Y data), with\n",
    "    each row in X containing x_window number of observations and y containing the next following observation\"\"\"\n",
    "\n",
    "    col_data  = {}\n",
    "    time_index_for_df = []\n",
    "    for col in df.columns:\n",
    "        \n",
    "        col_data[col] = {}\n",
    "        col_bins, col_labels, col_idx =  make_X_y_timeseries_data(df[col], verbose=0, as_array=True)#,axis=0)\n",
    "#         print(f'col_bins dtype={type(col_bins)}')\n",
    "#         print(f'col_labels dtype={type(col_labels)}')\n",
    "        \n",
    "        ## ALTERNATIVE IS TO PLACE DF COLUMNS CREATION ABOVE HERE\n",
    "        col_data[col]['bins']=col_bins\n",
    "        col_data[col]['labels'] = col_labels\n",
    "#         col_data[col]['index'] = col_idx\n",
    "        time_index_for_df = col_idx\n",
    "    \n",
    "    # Convert the dictionaries into a dataframe\n",
    "    df_timeseries_bins = pd.DataFrame(index=time_index_for_df)\n",
    "#     df_timeseries_bins.index=time_index_for_df\n",
    "#     print(time_index_for_df)\n",
    "    # for each original column\n",
    "    for colname,data_dict in col_data.items():\n",
    "        \n",
    "        #for column's new data bins,labels\n",
    "        for data_col, X in col_data[colname].items():\n",
    "            \n",
    "            # new column title\n",
    "            new_colname = colname+'_'+data_col\n",
    "#             print(new_colname)\n",
    "            make_col = []\n",
    "            if data_col=='labels':\n",
    "                df_timeseries_bins[new_colname] = col_data[colname][data_col]\n",
    "            else:\n",
    "                # turn array of lists into list of arrays\n",
    "                for x in range(X.shape[0]):\n",
    "                    x_data = np.array(X[x])\n",
    "#                     x_data = X[x]\n",
    "                    make_col.append(x_data)\n",
    "                # fill in column's data\n",
    "                df_timeseries_bins[new_colname] = make_col\n",
    "                \n",
    "#     print(df_timeseries_bins.index)\n",
    "#     print(time_index_for_df)\n",
    "        \n",
    "    \n",
    "    if one_or_two_dfs==1:\n",
    "        return df_timeseries_bins\n",
    "    \n",
    "    elif one_or_two_dfs==2:\n",
    "        df_bins = df_timeseries_bins.filter(regex=('bins'))\n",
    "        df_labels = df_timeseries_bins.filter(regex=('labels'))\n",
    "        \n",
    "    return df_bins, df_labels"
   ]
  },
  {
   "cell_type": "markdown",
   "metadata": {},
   "source": [
    "### TRAIN TEST SPLIT\n",
    "- use prior split `train_data` and `test_data`\n",
    "- use `make_X_y_timeseries_data` to format data for LSTM"
   ]
  },
  {
   "cell_type": "code",
   "execution_count": 40,
   "metadata": {},
   "outputs": [
    {
     "data": {
      "text/html": [
       "<style  type=\"text/css\" >\n",
       "</style><table id=\"T_6a12c8ba_9d16_11e9_9563_f48e38b6371f\" ><caption>Raw Data</caption><thead>    <tr>        <th class=\"blank level0\" ></th>        <th class=\"col_heading level0 col0\" >price</th>        <th class=\"col_heading level0 col1\" >ma7</th>        <th class=\"col_heading level0 col2\" >ma21</th>        <th class=\"col_heading level0 col3\" >26ema</th>        <th class=\"col_heading level0 col4\" >12ema</th>        <th class=\"col_heading level0 col5\" >MACD</th>        <th class=\"col_heading level0 col6\" >20sd</th>        <th class=\"col_heading level0 col7\" >upper_band</th>        <th class=\"col_heading level0 col8\" >lower_band</th>        <th class=\"col_heading level0 col9\" >ema</th>        <th class=\"col_heading level0 col10\" >momentum</th>    </tr></thead><tbody>\n",
       "                <tr>\n",
       "                        <th id=\"T_6a12c8ba_9d16_11e9_9563_f48e38b6371flevel0_row0\" class=\"row_heading level0 row0\" >2017-02-20 15:30:00</th>\n",
       "                        <td id=\"T_6a12c8ba_9d16_11e9_9563_f48e38b6371frow0_col0\" class=\"data row0 col0\" >99.64</td>\n",
       "                        <td id=\"T_6a12c8ba_9d16_11e9_9563_f48e38b6371frow0_col1\" class=\"data row0 col1\" >99.0808</td>\n",
       "                        <td id=\"T_6a12c8ba_9d16_11e9_9563_f48e38b6371frow0_col2\" class=\"data row0 col2\" >97.6303</td>\n",
       "                        <td id=\"T_6a12c8ba_9d16_11e9_9563_f48e38b6371frow0_col3\" class=\"data row0 col3\" >98.1047</td>\n",
       "                        <td id=\"T_6a12c8ba_9d16_11e9_9563_f48e38b6371frow0_col4\" class=\"data row0 col4\" >98.6017</td>\n",
       "                        <td id=\"T_6a12c8ba_9d16_11e9_9563_f48e38b6371frow0_col5\" class=\"data row0 col5\" >0.496972</td>\n",
       "                        <td id=\"T_6a12c8ba_9d16_11e9_9563_f48e38b6371frow0_col6\" class=\"data row0 col6\" >1.13258</td>\n",
       "                        <td id=\"T_6a12c8ba_9d16_11e9_9563_f48e38b6371frow0_col7\" class=\"data row0 col7\" >99.8954</td>\n",
       "                        <td id=\"T_6a12c8ba_9d16_11e9_9563_f48e38b6371frow0_col8\" class=\"data row0 col8\" >95.3651</td>\n",
       "                        <td id=\"T_6a12c8ba_9d16_11e9_9563_f48e38b6371frow0_col9\" class=\"data row0 col9\" >99.64</td>\n",
       "                        <td id=\"T_6a12c8ba_9d16_11e9_9563_f48e38b6371frow0_col10\" class=\"data row0 col10\" >92.64</td>\n",
       "            </tr>\n",
       "            <tr>\n",
       "                        <th id=\"T_6a12c8ba_9d16_11e9_9563_f48e38b6371flevel0_row1\" class=\"row_heading level0 row1\" >2017-02-21 09:30:00</th>\n",
       "                        <td id=\"T_6a12c8ba_9d16_11e9_9563_f48e38b6371frow1_col0\" class=\"data row1 col0\" >99.88</td>\n",
       "                        <td id=\"T_6a12c8ba_9d16_11e9_9563_f48e38b6371frow1_col1\" class=\"data row1 col1\" >99.1218</td>\n",
       "                        <td id=\"T_6a12c8ba_9d16_11e9_9563_f48e38b6371frow1_col2\" class=\"data row1 col2\" >97.6551</td>\n",
       "                        <td id=\"T_6a12c8ba_9d16_11e9_9563_f48e38b6371frow1_col3\" class=\"data row1 col3\" >98.1289</td>\n",
       "                        <td id=\"T_6a12c8ba_9d16_11e9_9563_f48e38b6371frow1_col4\" class=\"data row1 col4\" >98.6327</td>\n",
       "                        <td id=\"T_6a12c8ba_9d16_11e9_9563_f48e38b6371frow1_col5\" class=\"data row1 col5\" >0.503812</td>\n",
       "                        <td id=\"T_6a12c8ba_9d16_11e9_9563_f48e38b6371frow1_col6\" class=\"data row1 col6\" >1.14007</td>\n",
       "                        <td id=\"T_6a12c8ba_9d16_11e9_9563_f48e38b6371frow1_col7\" class=\"data row1 col7\" >99.9353</td>\n",
       "                        <td id=\"T_6a12c8ba_9d16_11e9_9563_f48e38b6371frow1_col8\" class=\"data row1 col8\" >95.375</td>\n",
       "                        <td id=\"T_6a12c8ba_9d16_11e9_9563_f48e38b6371frow1_col9\" class=\"data row1 col9\" >99.8</td>\n",
       "                        <td id=\"T_6a12c8ba_9d16_11e9_9563_f48e38b6371frow1_col10\" class=\"data row1 col10\" >92.88</td>\n",
       "            </tr>\n",
       "            <tr>\n",
       "                        <th id=\"T_6a12c8ba_9d16_11e9_9563_f48e38b6371flevel0_row2\" class=\"row_heading level0 row2\" >2017-02-21 10:30:00</th>\n",
       "                        <td id=\"T_6a12c8ba_9d16_11e9_9563_f48e38b6371frow2_col0\" class=\"data row2 col0\" >100.37</td>\n",
       "                        <td id=\"T_6a12c8ba_9d16_11e9_9563_f48e38b6371frow2_col1\" class=\"data row2 col1\" >99.172</td>\n",
       "                        <td id=\"T_6a12c8ba_9d16_11e9_9563_f48e38b6371frow2_col2\" class=\"data row2 col2\" >97.6848</td>\n",
       "                        <td id=\"T_6a12c8ba_9d16_11e9_9563_f48e38b6371frow2_col3\" class=\"data row2 col3\" >98.1593</td>\n",
       "                        <td id=\"T_6a12c8ba_9d16_11e9_9563_f48e38b6371frow2_col4\" class=\"data row2 col4\" >98.6748</td>\n",
       "                        <td id=\"T_6a12c8ba_9d16_11e9_9563_f48e38b6371frow2_col5\" class=\"data row2 col5\" >0.515495</td>\n",
       "                        <td id=\"T_6a12c8ba_9d16_11e9_9563_f48e38b6371frow2_col6\" class=\"data row2 col6\" >1.15543</td>\n",
       "                        <td id=\"T_6a12c8ba_9d16_11e9_9563_f48e38b6371frow2_col7\" class=\"data row2 col7\" >99.9957</td>\n",
       "                        <td id=\"T_6a12c8ba_9d16_11e9_9563_f48e38b6371frow2_col8\" class=\"data row2 col8\" >95.374</td>\n",
       "                        <td id=\"T_6a12c8ba_9d16_11e9_9563_f48e38b6371frow2_col9\" class=\"data row2 col9\" >100.18</td>\n",
       "                        <td id=\"T_6a12c8ba_9d16_11e9_9563_f48e38b6371frow2_col10\" class=\"data row2 col10\" >93.37</td>\n",
       "            </tr>\n",
       "            <tr>\n",
       "                        <th id=\"T_6a12c8ba_9d16_11e9_9563_f48e38b6371flevel0_row3\" class=\"row_heading level0 row3\" >2017-02-21 11:30:00</th>\n",
       "                        <td id=\"T_6a12c8ba_9d16_11e9_9563_f48e38b6371frow3_col0\" class=\"data row3 col0\" >100.15</td>\n",
       "                        <td id=\"T_6a12c8ba_9d16_11e9_9563_f48e38b6371frow3_col1\" class=\"data row3 col1\" >99.2171</td>\n",
       "                        <td id=\"T_6a12c8ba_9d16_11e9_9563_f48e38b6371frow3_col2\" class=\"data row3 col2\" >97.7135</td>\n",
       "                        <td id=\"T_6a12c8ba_9d16_11e9_9563_f48e38b6371frow3_col3\" class=\"data row3 col3\" >98.1862</td>\n",
       "                        <td id=\"T_6a12c8ba_9d16_11e9_9563_f48e38b6371frow3_col4\" class=\"data row3 col4\" >98.7105</td>\n",
       "                        <td id=\"T_6a12c8ba_9d16_11e9_9563_f48e38b6371frow3_col5\" class=\"data row3 col5\" >0.524271</td>\n",
       "                        <td id=\"T_6a12c8ba_9d16_11e9_9563_f48e38b6371frow3_col6\" class=\"data row3 col6\" >1.16772</td>\n",
       "                        <td id=\"T_6a12c8ba_9d16_11e9_9563_f48e38b6371frow3_col7\" class=\"data row3 col7\" >100.049</td>\n",
       "                        <td id=\"T_6a12c8ba_9d16_11e9_9563_f48e38b6371frow3_col8\" class=\"data row3 col8\" >95.378</td>\n",
       "                        <td id=\"T_6a12c8ba_9d16_11e9_9563_f48e38b6371frow3_col9\" class=\"data row3 col9\" >100.16</td>\n",
       "                        <td id=\"T_6a12c8ba_9d16_11e9_9563_f48e38b6371frow3_col10\" class=\"data row3 col10\" >93.15</td>\n",
       "            </tr>\n",
       "            <tr>\n",
       "                        <th id=\"T_6a12c8ba_9d16_11e9_9563_f48e38b6371flevel0_row4\" class=\"row_heading level0 row4\" >2017-02-21 12:30:00</th>\n",
       "                        <td id=\"T_6a12c8ba_9d16_11e9_9563_f48e38b6371frow4_col0\" class=\"data row4 col0\" >100.3</td>\n",
       "                        <td id=\"T_6a12c8ba_9d16_11e9_9563_f48e38b6371frow4_col1\" class=\"data row4 col1\" >99.2627</td>\n",
       "                        <td id=\"T_6a12c8ba_9d16_11e9_9563_f48e38b6371frow4_col2\" class=\"data row4 col2\" >97.7438</td>\n",
       "                        <td id=\"T_6a12c8ba_9d16_11e9_9563_f48e38b6371frow4_col3\" class=\"data row4 col3\" >98.2148</td>\n",
       "                        <td id=\"T_6a12c8ba_9d16_11e9_9563_f48e38b6371frow4_col4\" class=\"data row4 col4\" >98.749</td>\n",
       "                        <td id=\"T_6a12c8ba_9d16_11e9_9563_f48e38b6371frow4_col5\" class=\"data row4 col5\" >0.534197</td>\n",
       "                        <td id=\"T_6a12c8ba_9d16_11e9_9563_f48e38b6371frow4_col6\" class=\"data row4 col6\" >1.1815</td>\n",
       "                        <td id=\"T_6a12c8ba_9d16_11e9_9563_f48e38b6371frow4_col7\" class=\"data row4 col7\" >100.107</td>\n",
       "                        <td id=\"T_6a12c8ba_9d16_11e9_9563_f48e38b6371frow4_col8\" class=\"data row4 col8\" >95.3808</td>\n",
       "                        <td id=\"T_6a12c8ba_9d16_11e9_9563_f48e38b6371frow4_col9\" class=\"data row4 col9\" >100.253</td>\n",
       "                        <td id=\"T_6a12c8ba_9d16_11e9_9563_f48e38b6371frow4_col10\" class=\"data row4 col10\" >93.3</td>\n",
       "            </tr>\n",
       "    </tbody></table>"
      ],
      "text/plain": [
       "<pandas.io.formats.style.Styler at 0x2732f1cb128>"
      ]
     },
     "metadata": {},
     "output_type": "display_data"
    },
    {
     "data": {
      "image/png": "[encoded data removed]",
      "text/plain": [
       "<Figure size 864x288 with 1 Axes>"
      ]
     },
     "metadata": {
      "needs_background": "light"
     },
     "output_type": "display_data"
    }
   ],
   "source": [
    "import pandas as pd\n",
    "import numpy as np\n",
    "import matplotlib.pyplot as plt\n",
    "import matplotlib as mpl\n",
    "\n",
    "stock_df = pd.read_csv('data/stock_df_with_tech_indicators.csv', index_col=0, parse_dates=True)\n",
    "stock_df = set_timeindex_freq(stock_df,verbose=0)\n",
    "stock_df = stock_df.iloc[:,11:]\n",
    "\n",
    "# DIsply input stock data\n",
    "display(stock_df.head().style.set_caption('Raw Data'))\n",
    "plot_time_series(stock_df['price'])"
   ]
  },
  {
   "cell_type": "code",
   "execution_count": 41,
   "metadata": {},
   "outputs": [
    {
     "data": {
      "text/html": [
       "<style  type=\"text/css\" >\n",
       "</style><table id=\"T_6a3347ba_9d16_11e9_9ed3_f48e38b6371f\" ><caption>MinMaxScaled</caption><thead>    <tr>        <th class=\"blank level0\" ></th>        <th class=\"col_heading level0 col0\" >price</th>        <th class=\"col_heading level0 col1\" >ma7</th>        <th class=\"col_heading level0 col2\" >ma21</th>        <th class=\"col_heading level0 col3\" >26ema</th>        <th class=\"col_heading level0 col4\" >12ema</th>        <th class=\"col_heading level0 col5\" >MACD</th>        <th class=\"col_heading level0 col6\" >20sd</th>        <th class=\"col_heading level0 col7\" >upper_band</th>        <th class=\"col_heading level0 col8\" >lower_band</th>        <th class=\"col_heading level0 col9\" >ema</th>        <th class=\"col_heading level0 col10\" >momentum</th>    </tr></thead><tbody>\n",
       "                <tr>\n",
       "                        <th id=\"T_6a3347ba_9d16_11e9_9ed3_f48e38b6371flevel0_row0\" class=\"row_heading level0 row0\" >2017-02-20 15:30:00</th>\n",
       "                        <td id=\"T_6a3347ba_9d16_11e9_9ed3_f48e38b6371frow0_col0\" class=\"data row0 col0\" >0.239601</td>\n",
       "                        <td id=\"T_6a3347ba_9d16_11e9_9ed3_f48e38b6371frow0_col1\" class=\"data row0 col1\" >0.103854</td>\n",
       "                        <td id=\"T_6a3347ba_9d16_11e9_9ed3_f48e38b6371frow0_col2\" class=\"data row0 col2\" >0</td>\n",
       "                        <td id=\"T_6a3347ba_9d16_11e9_9ed3_f48e38b6371frow0_col3\" class=\"data row0 col3\" >0</td>\n",
       "                        <td id=\"T_6a3347ba_9d16_11e9_9ed3_f48e38b6371frow0_col4\" class=\"data row0 col4\" >0.0133655</td>\n",
       "                        <td id=\"T_6a3347ba_9d16_11e9_9ed3_f48e38b6371frow0_col5\" class=\"data row0 col5\" >0.753925</td>\n",
       "                        <td id=\"T_6a3347ba_9d16_11e9_9ed3_f48e38b6371frow0_col6\" class=\"data row0 col6\" >0.169668</td>\n",
       "                        <td id=\"T_6a3347ba_9d16_11e9_9ed3_f48e38b6371frow0_col7\" class=\"data row0 col7\" >0.0107456</td>\n",
       "                        <td id=\"T_6a3347ba_9d16_11e9_9ed3_f48e38b6371frow0_col8\" class=\"data row0 col8\" >0.0936182</td>\n",
       "                        <td id=\"T_6a3347ba_9d16_11e9_9ed3_f48e38b6371frow0_col9\" class=\"data row0 col9\" >0.230517</td>\n",
       "                        <td id=\"T_6a3347ba_9d16_11e9_9ed3_f48e38b6371frow0_col10\" class=\"data row0 col10\" >0.239601</td>\n",
       "            </tr>\n",
       "            <tr>\n",
       "                        <th id=\"T_6a3347ba_9d16_11e9_9ed3_f48e38b6371flevel0_row1\" class=\"row_heading level0 row1\" >2017-02-21 09:30:00</th>\n",
       "                        <td id=\"T_6a3347ba_9d16_11e9_9ed3_f48e38b6371frow1_col0\" class=\"data row1 col0\" >0.25</td>\n",
       "                        <td id=\"T_6a3347ba_9d16_11e9_9ed3_f48e38b6371frow1_col1\" class=\"data row1 col1\" >0.105984</td>\n",
       "                        <td id=\"T_6a3347ba_9d16_11e9_9ed3_f48e38b6371frow1_col2\" class=\"data row1 col2\" >0.00136882</td>\n",
       "                        <td id=\"T_6a3347ba_9d16_11e9_9ed3_f48e38b6371frow1_col3\" class=\"data row1 col3\" >0.00141256</td>\n",
       "                        <td id=\"T_6a3347ba_9d16_11e9_9ed3_f48e38b6371frow1_col4\" class=\"data row1 col4\" >0.0151125</td>\n",
       "                        <td id=\"T_6a3347ba_9d16_11e9_9ed3_f48e38b6371frow1_col5\" class=\"data row1 col5\" >0.75528</td>\n",
       "                        <td id=\"T_6a3347ba_9d16_11e9_9ed3_f48e38b6371frow1_col6\" class=\"data row1 col6\" >0.171286</td>\n",
       "                        <td id=\"T_6a3347ba_9d16_11e9_9ed3_f48e38b6371frow1_col7\" class=\"data row1 col7\" >0.0127008</td>\n",
       "                        <td id=\"T_6a3347ba_9d16_11e9_9ed3_f48e38b6371frow1_col8\" class=\"data row1 col8\" >0.0940857</td>\n",
       "                        <td id=\"T_6a3347ba_9d16_11e9_9ed3_f48e38b6371frow1_col9\" class=\"data row1 col9\" >0.237541</td>\n",
       "                        <td id=\"T_6a3347ba_9d16_11e9_9ed3_f48e38b6371frow1_col10\" class=\"data row1 col10\" >0.25</td>\n",
       "            </tr>\n",
       "    </tbody></table>"
      ],
      "text/plain": [
       "<pandas.io.formats.style.Styler at 0x273471fc438>"
      ]
     },
     "metadata": {},
     "output_type": "display_data"
    }
   ],
   "source": [
    "# scale the data using MinMaxScaler\n",
    "if is_var('stock_df_orig')==False:\n",
    "    stock_df_orig = stock_df.copy()\n",
    "    \n",
    "stock_df, scaler_library = make_scaler_library(stock_df_orig,transform=True)\n",
    "display(stock_df.head(2).style.set_caption('MinMaxScaled'))"
   ]
  },
  {
   "cell_type": "code",
   "execution_count": 42,
   "metadata": {},
   "outputs": [
    {
     "data": {
      "text/plain": [
       "{'feature_range': (0, 1),\n",
       " 'copy': True,\n",
       " 'n_samples_seen_': 4264,\n",
       " 'scale_': array([0.04332756]),\n",
       " 'min_': array([-4.07755633]),\n",
       " 'data_min_': array([94.11]),\n",
       " 'data_max_': array([117.19]),\n",
       " 'data_range_': array([23.08]),\n",
       " '_sklearn_version': '0.20.2'}"
      ]
     },
     "execution_count": 42,
     "metadata": {},
     "output_type": "execute_result"
    }
   ],
   "source": [
    "scaler_library['price'].__getstate__()"
   ]
  },
  {
   "cell_type": "code",
   "execution_count": 43,
   "metadata": {},
   "outputs": [
    {
     "name": "stdout",
     "output_type": "stream",
     "text": [
      "Dates for Train Data:2018-06-08 15:30:00 : 2019-02-15 15:30:00.\n",
      "Dates for Test Data:2019-02-15 15:30:00 : 2019-06-21 15:30:00.\n",
      "Data split on index:2019-02-15 15:30:00.\n",
      "train_data.shape:(1261, 22)\n",
      "test_data.shape:(631, 22)\n"
     ]
    },
    {
     "data": {
      "text/html": [
       "<style  type=\"text/css\" >\n",
       "</style><table id=\"T_76636686_9d16_11e9_b83d_f48e38b6371f\" ><caption>Training Data Binned for Neural Network</caption><thead>    <tr>        <th class=\"blank level0\" ></th>        <th class=\"col_heading level0 col0\" >price_bins</th>        <th class=\"col_heading level0 col1\" >price_labels</th>        <th class=\"col_heading level0 col2\" >ma7_bins</th>        <th class=\"col_heading level0 col3\" >ma7_labels</th>        <th class=\"col_heading level0 col4\" >ma21_bins</th>        <th class=\"col_heading level0 col5\" >ma21_labels</th>        <th class=\"col_heading level0 col6\" >26ema_bins</th>        <th class=\"col_heading level0 col7\" >26ema_labels</th>        <th class=\"col_heading level0 col8\" >12ema_bins</th>        <th class=\"col_heading level0 col9\" >12ema_labels</th>        <th class=\"col_heading level0 col10\" >MACD_bins</th>        <th class=\"col_heading level0 col11\" >MACD_labels</th>        <th class=\"col_heading level0 col12\" >20sd_bins</th>        <th class=\"col_heading level0 col13\" >20sd_labels</th>        <th class=\"col_heading level0 col14\" >upper_band_bins</th>        <th class=\"col_heading level0 col15\" >upper_band_labels</th>        <th class=\"col_heading level0 col16\" >lower_band_bins</th>        <th class=\"col_heading level0 col17\" >lower_band_labels</th>        <th class=\"col_heading level0 col18\" >ema_bins</th>        <th class=\"col_heading level0 col19\" >ema_labels</th>        <th class=\"col_heading level0 col20\" >momentum_bins</th>        <th class=\"col_heading level0 col21\" >momentum_labels</th>    </tr></thead><tbody>\n",
       "                <tr>\n",
       "                        <th id=\"T_76636686_9d16_11e9_b83d_f48e38b6371flevel0_row0\" class=\"row_heading level0 row0\" >2018-06-08 15:30:00</th>\n",
       "                        <td id=\"T_76636686_9d16_11e9_b83d_f48e38b6371frow0_col0\" class=\"data row0 col0\" >[0.58102253 0.60181976 0.59835355 0.59358752 0.59358752 0.59358752\n",
       " 0.59358752 0.5957539  0.58752166 0.5940208  0.5940208  0.58318891\n",
       " 0.59098787 0.59315425 0.58752166 0.60008666 0.59835355 0.60875217\n",
       " 0.61438475 0.61828423 0.61958406 0.62608319 0.64211438 0.6542461\n",
       " 0.65641248 0.65987868 0.64991334 0.652513   0.65337955 0.64904679\n",
       " 0.65164645 0.6507799  0.66377816 0.66334489 0.66334489]</td>\n",
       "                        <td id=\"T_76636686_9d16_11e9_b83d_f48e38b6371frow0_col1\" class=\"data row0 col1\" >0.665511</td>\n",
       "                        <td id=\"T_76636686_9d16_11e9_b83d_f48e38b6371frow0_col2\" class=\"data row0 col2\" >[0.53596413 0.53576274 0.53603833 0.53591113 0.53563555 0.53535996\n",
       " 0.53494658 0.5345756  0.5344484  0.5344908  0.5345332  0.5345438\n",
       " 0.53488298 0.53514797 0.53517977 0.53551895 0.53581574 0.53636691\n",
       " 0.53705588 0.53784024 0.53865641 0.53963156 0.54192105 0.54436954\n",
       " 0.54724201 0.55019927 0.55358051 0.55713135 0.56083058 0.56322607\n",
       " 0.56568515 0.56763546 0.56990376 0.57156788 0.5732002 ]</td>\n",
       "                        <td id=\"T_76636686_9d16_11e9_b83d_f48e38b6371frow0_col3\" class=\"data row0 col3\" >0.575034</td>\n",
       "                        <td id=\"T_76636686_9d16_11e9_b83d_f48e38b6371frow0_col4\" class=\"data row0 col4\" >[0.55177703 0.5531796  0.55424841 0.5550997  0.55595099 0.55666353\n",
       " 0.55725606 0.55789734 0.55847862 0.5590374  0.55959618 0.56004995\n",
       " 0.56056748 0.56110376 0.56173379 0.56252133 0.56329387 0.56411891\n",
       " 0.56507896 0.56603151 0.56701781 0.56801536 0.56899416 0.56999171\n",
       " 0.57100801 0.57196431 0.5727031  0.57349814 0.57432693 0.57498322\n",
       " 0.57561325 0.57614953 0.57666705 0.57723333 0.57776211]</td>\n",
       "                        <td id=\"T_76636686_9d16_11e9_b83d_f48e38b6371frow0_col5\" class=\"data row0 col5\" >0.578377</td>\n",
       "                        <td id=\"T_76636686_9d16_11e9_b83d_f48e38b6371frow0_col6\" class=\"data row0 col6\" >[0.55087335 0.55117822 0.55142861 0.55160596 0.55178136 0.55195485\n",
       " 0.55212644 0.55232812 0.55240614 0.5525792  0.55275036 0.55275984\n",
       " 0.55288428 0.55303933 0.55310957 0.55336443 0.55359093 0.55396838\n",
       " 0.55442479 0.55493375 0.55545633 0.55606907 0.55691164 0.55792398\n",
       " 0.55895722 0.56003031 0.56094464 0.56188734 0.56283251 0.56370344\n",
       " 0.5646032  0.56548034 0.56653967 0.56758102 0.568611  ]</td>\n",
       "                        <td id=\"T_76636686_9d16_11e9_b83d_f48e38b6371frow0_col7\" class=\"data row0 col7\" >0.569662</td>\n",
       "                        <td id=\"T_76636686_9d16_11e9_b83d_f48e38b6371frow0_col8\" class=\"data row0 col8\" >[0.51997403 0.52051976 0.52094654 0.52121738 0.52148184 0.52174008\n",
       " 0.52199225 0.5223048  0.52235798 0.52260887 0.52285385 0.52276147\n",
       " 0.52291002 0.52312139 0.52315536 0.52357318 0.52392812 0.52459304\n",
       " 0.52541475 0.52633651 0.52727636 0.52839306 0.52997426 0.53188965\n",
       " 0.53382629 0.53582347 0.53746859 0.53915458 0.54082743 0.54232828\n",
       " 0.5438734  0.54535563 0.54720091 0.54898951 0.55073603]</td>\n",
       "                        <td id=\"T_76636686_9d16_11e9_b83d_f48e38b6371frow0_col9\" class=\"data row0 col9\" >0.552508</td>\n",
       "                        <td id=\"T_76636686_9d16_11e9_b83d_f48e38b6371frow0_col10\" class=\"data row0 col10\" >[0.66843148 0.66931688 0.6699687  0.67031987 0.67065521 0.67097517\n",
       " 0.67128019 0.67169555 0.67161816 0.67191376 0.67219502 0.67183819\n",
       " 0.67193875 0.67215647 0.67203788 0.6726431  0.67312334 0.6741818\n",
       " 0.67552381 0.67703945 0.67857261 0.68042188 0.68312523 0.68642806\n",
       " 0.6897348  0.69311936 0.69580425 0.69853674 0.70121463 0.7035395\n",
       " 0.70592229 0.70816068 0.71105795 0.71381686 0.7164664 ]</td>\n",
       "                        <td id=\"T_76636686_9d16_11e9_b83d_f48e38b6371frow0_col11\" class=\"data row0 col11\" >0.719134</td>\n",
       "                        <td id=\"T_76636686_9d16_11e9_b83d_f48e38b6371frow0_col12\" class=\"data row0 col12\" >[0.12247473 0.12025317 0.11849945 0.11668182 0.11489576 0.11309155\n",
       " 0.11124317 0.10821046 0.10464198 0.10092615 0.09745738 0.0930278\n",
       " 0.08881826 0.08416405 0.07989977 0.07708683 0.07495499 0.07281057\n",
       " 0.07138356 0.07079464 0.07002236 0.06922848 0.06973519 0.07106186\n",
       " 0.07269636 0.07462826 0.07588655 0.07727609 0.07862499 0.07975414\n",
       " 0.0809068  0.08200903 0.08385252 0.08562998 0.08742277]</td>\n",
       "                        <td id=\"T_76636686_9d16_11e9_b83d_f48e38b6371frow0_col13\" class=\"data row0 col13\" >0.0893033</td>\n",
       "                        <td id=\"T_76636686_9d16_11e9_b83d_f48e38b6371frow0_col14\" class=\"data row0 col14\" >[0.48075631 0.48099482 0.4811489  0.48108016 0.48102579 0.48083956\n",
       " 0.48052634 0.47971769 0.47861181 0.47741885 0.4763383  0.47472706\n",
       " 0.47327272 0.47163276 0.47025373 0.46967534 0.46939349 0.46915268\n",
       " 0.46935854 0.46993905 0.47046619 0.47099353 0.47209592 0.4735881\n",
       " 0.47523703 0.47696784 0.47819841 0.47953881 0.48089078 0.48198911\n",
       " 0.48307475 0.48405393 0.48535369 0.48666682 0.48795353]</td>\n",
       "                        <td id=\"T_76636686_9d16_11e9_b83d_f48e38b6371frow0_col15\" class=\"data row0 col15\" >0.489357</td>\n",
       "                        <td id=\"T_76636686_9d16_11e9_b83d_f48e38b6371frow0_col16\" class=\"data row0 col16\" >[0.58989906 0.5920857  0.59377875 0.5953125  0.59683235 0.59824061\n",
       " 0.59956491 0.60145255 0.60352434 0.6056416  0.6076501  0.60999106\n",
       " 0.6122901  0.61480105 0.61722114 0.61913809 0.62074229 0.62239726\n",
       " 0.62385278 0.62493291 0.62612283 0.62733196 0.62795241 0.62822807\n",
       " 0.62838438 0.62835806 0.62844082 0.62851429 0.62863473 0.62870324\n",
       " 0.62873878 0.62871573 0.62835021 0.62805577 0.62772226]</td>\n",
       "                        <td id=\"T_76636686_9d16_11e9_b83d_f48e38b6371frow0_col17\" class=\"data row0 col17\" >0.627424</td>\n",
       "                        <td id=\"T_76636686_9d16_11e9_b83d_f48e38b6371frow0_col18\" class=\"data row0 col18\" >[0.57824682 0.59104024 0.59296393 0.59038657 0.58952746 0.58924108\n",
       " 0.58914563 0.5905768  0.58549449 0.58818936 0.58908765 0.58207212\n",
       " 0.58500038 0.58743946 0.58444871 0.59193714 0.59326289 0.60072717\n",
       " 0.60701904 0.61174971 0.6142044  0.6194116  0.63197348 0.64435352\n",
       " 0.64994319 0.6541472  0.64881878 0.64879823 0.64937657 0.64664337\n",
       " 0.64748789 0.64718421 0.65586092 0.65846057 0.65932711]</td>\n",
       "                        <td id=\"T_76636686_9d16_11e9_b83d_f48e38b6371frow0_col19\" class=\"data row0 col19\" >0.661079</td>\n",
       "                        <td id=\"T_76636686_9d16_11e9_b83d_f48e38b6371frow0_col20\" class=\"data row0 col20\" >[0.58102253 0.60181976 0.59835355 0.59358752 0.59358752 0.59358752\n",
       " 0.59358752 0.5957539  0.58752166 0.5940208  0.5940208  0.58318891\n",
       " 0.59098787 0.59315425 0.58752166 0.60008666 0.59835355 0.60875217\n",
       " 0.61438475 0.61828423 0.61958406 0.62608319 0.64211438 0.6542461\n",
       " 0.65641248 0.65987868 0.64991334 0.652513   0.65337955 0.64904679\n",
       " 0.65164645 0.6507799  0.66377816 0.66334489 0.66334489]</td>\n",
       "                        <td id=\"T_76636686_9d16_11e9_b83d_f48e38b6371frow0_col21\" class=\"data row0 col21\" >0.665511</td>\n",
       "            </tr>\n",
       "    </tbody></table>"
      ],
      "text/plain": [
       "<pandas.io.formats.style.Styler at 0x2734721ee10>"
      ]
     },
     "metadata": {},
     "output_type": "display_data"
    }
   ],
   "source": [
    "# Create binned columns with x_window # of sequential values, label column with next value in sequence\n",
    "stock_df_binned = make_df_timeseries_bins_by_column(stock_df, x_window=35, verbose=0)#.iloc[:,11:])\n",
    "# display(stock_df_binned.head(2).style.set_caption('Binned for Neural Network'))\n",
    "\n",
    "# Split the training and test data by number of days\n",
    "df_train_bins, df_test_bins = train_test_split_by_last_days(stock_df_binned,periods_per_day=7,\n",
    "                                                            num_test_days=90,num_train_days=270,\n",
    "                                                            plot=False)\n",
    "display(df_train_bins.head(1).style.set_caption('Training Data Binned for Neural Network'))\n",
    "# display(df_test_bins.head(2))"
   ]
  },
  {
   "cell_type": "code",
   "execution_count": 44,
   "metadata": {},
   "outputs": [],
   "source": [
    "# def inverse_tf_series(series, scaler):\n",
    "#     series_tf = scaler.inverse_transform(series.values.reshape(-1,1))\n",
    "#     series_tf = pd.Series(series_tf.ravel(), index = series.index, name=(series.name+'_tf'))\n",
    "#     return series_tf"
   ]
  },
  {
   "cell_type": "code",
   "execution_count": 45,
   "metadata": {},
   "outputs": [],
   "source": [
    "# price_inv_tf = inverse_transform_series(stock_df['price'],scaler_library['price'])\n",
    "# price_inv_tf.plot()\n",
    "# plt.legend()"
   ]
  },
  {
   "cell_type": "code",
   "execution_count": 46,
   "metadata": {
    "scrolled": false
   },
   "outputs": [],
   "source": [
    "# price_orig = stock_df_orig['price']\n",
    "# price_tf = stock_df['price']\n",
    "# price_inv_tf = inverse_transform_series(stock_df['price'],scaler_library['price'])\n",
    "\n",
    "# price_compare = pd.concat([price_orig, price_tf, price_inv_tf], axis=1)\n",
    "# price_compare.head()\n",
    "# # plt.plot(price_orig, color='b')\n",
    "# # plt.plot(price_inv_tf)\n",
    "# # plt.plot(price_orig)\n",
    "# price_compare.plot(subplots=True)"
   ]
  },
  {
   "cell_type": "code",
   "execution_count": 47,
   "metadata": {},
   "outputs": [
    {
     "data": {
      "text/html": [
       "<div>\n",
       "<style scoped>\n",
       "    .dataframe tbody tr th:only-of-type {\n",
       "        vertical-align: middle;\n",
       "    }\n",
       "\n",
       "    .dataframe tbody tr th {\n",
       "        vertical-align: top;\n",
       "    }\n",
       "\n",
       "    .dataframe thead th {\n",
       "        text-align: right;\n",
       "    }\n",
       "</style>\n",
       "<table border=\"1\" class=\"dataframe\">\n",
       "  <thead>\n",
       "    <tr style=\"text-align: right;\">\n",
       "      <th></th>\n",
       "      <th>price_labels</th>\n",
       "      <th>ma7_labels</th>\n",
       "      <th>ma21_labels</th>\n",
       "      <th>26ema_labels</th>\n",
       "      <th>12ema_labels</th>\n",
       "      <th>MACD_labels</th>\n",
       "      <th>20sd_labels</th>\n",
       "      <th>upper_band_labels</th>\n",
       "      <th>lower_band_labels</th>\n",
       "      <th>ema_labels</th>\n",
       "      <th>momentum_labels</th>\n",
       "    </tr>\n",
       "  </thead>\n",
       "  <tbody>\n",
       "    <tr>\n",
       "      <th>count</th>\n",
       "      <td>1261.000000</td>\n",
       "      <td>1261.000000</td>\n",
       "      <td>1261.000000</td>\n",
       "      <td>1261.000000</td>\n",
       "      <td>1261.000000</td>\n",
       "      <td>1261.000000</td>\n",
       "      <td>1261.000000</td>\n",
       "      <td>1261.000000</td>\n",
       "      <td>1261.000000</td>\n",
       "      <td>1261.000000</td>\n",
       "      <td>1261.000000</td>\n",
       "    </tr>\n",
       "    <tr>\n",
       "      <th>mean</th>\n",
       "      <td>0.638957</td>\n",
       "      <td>0.610169</td>\n",
       "      <td>0.616366</td>\n",
       "      <td>0.630493</td>\n",
       "      <td>0.589751</td>\n",
       "      <td>0.643968</td>\n",
       "      <td>0.277988</td>\n",
       "      <td>0.609045</td>\n",
       "      <td>0.577103</td>\n",
       "      <td>0.635029</td>\n",
       "      <td>0.638957</td>\n",
       "    </tr>\n",
       "    <tr>\n",
       "      <th>std</th>\n",
       "      <td>0.184707</td>\n",
       "      <td>0.213895</td>\n",
       "      <td>0.208521</td>\n",
       "      <td>0.198772</td>\n",
       "      <td>0.217809</td>\n",
       "      <td>0.212907</td>\n",
       "      <td>0.214784</td>\n",
       "      <td>0.138056</td>\n",
       "      <td>0.254206</td>\n",
       "      <td>0.186857</td>\n",
       "      <td>0.184707</td>\n",
       "    </tr>\n",
       "    <tr>\n",
       "      <th>min</th>\n",
       "      <td>0.000000</td>\n",
       "      <td>0.000000</td>\n",
       "      <td>0.132524</td>\n",
       "      <td>0.204492</td>\n",
       "      <td>0.059925</td>\n",
       "      <td>0.000000</td>\n",
       "      <td>0.010537</td>\n",
       "      <td>0.275796</td>\n",
       "      <td>0.000000</td>\n",
       "      <td>0.000000</td>\n",
       "      <td>0.000000</td>\n",
       "    </tr>\n",
       "    <tr>\n",
       "      <th>25%</th>\n",
       "      <td>0.564125</td>\n",
       "      <td>0.542387</td>\n",
       "      <td>0.558332</td>\n",
       "      <td>0.550583</td>\n",
       "      <td>0.532460</td>\n",
       "      <td>0.525096</td>\n",
       "      <td>0.113844</td>\n",
       "      <td>0.516130</td>\n",
       "      <td>0.516696</td>\n",
       "      <td>0.558769</td>\n",
       "      <td>0.564125</td>\n",
       "    </tr>\n",
       "    <tr>\n",
       "      <th>50%</th>\n",
       "      <td>0.665511</td>\n",
       "      <td>0.625615</td>\n",
       "      <td>0.614533</td>\n",
       "      <td>0.644893</td>\n",
       "      <td>0.589951</td>\n",
       "      <td>0.718091</td>\n",
       "      <td>0.214089</td>\n",
       "      <td>0.602450</td>\n",
       "      <td>0.619513</td>\n",
       "      <td>0.662221</td>\n",
       "      <td>0.665511</td>\n",
       "    </tr>\n",
       "    <tr>\n",
       "      <th>75%</th>\n",
       "      <td>0.766898</td>\n",
       "      <td>0.766397</td>\n",
       "      <td>0.784394</td>\n",
       "      <td>0.780971</td>\n",
       "      <td>0.747382</td>\n",
       "      <td>0.791750</td>\n",
       "      <td>0.394851</td>\n",
       "      <td>0.713870</td>\n",
       "      <td>0.759023</td>\n",
       "      <td>0.762352</td>\n",
       "      <td>0.766898</td>\n",
       "    </tr>\n",
       "    <tr>\n",
       "      <th>max</th>\n",
       "      <td>0.942808</td>\n",
       "      <td>0.929640</td>\n",
       "      <td>0.924846</td>\n",
       "      <td>0.933956</td>\n",
       "      <td>0.910363</td>\n",
       "      <td>0.985774</td>\n",
       "      <td>1.000000</td>\n",
       "      <td>0.886772</td>\n",
       "      <td>0.944517</td>\n",
       "      <td>0.940623</td>\n",
       "      <td>0.942808</td>\n",
       "    </tr>\n",
       "  </tbody>\n",
       "</table>\n",
       "</div>"
      ],
      "text/plain": [
       "       price_labels   ma7_labels  ma21_labels  26ema_labels  12ema_labels  \\\n",
       "count   1261.000000  1261.000000  1261.000000   1261.000000   1261.000000   \n",
       "mean       0.638957     0.610169     0.616366      0.630493      0.589751   \n",
       "std        0.184707     0.213895     0.208521      0.198772      0.217809   \n",
       "min        0.000000     0.000000     0.132524      0.204492      0.059925   \n",
       "25%        0.564125     0.542387     0.558332      0.550583      0.532460   \n",
       "50%        0.665511     0.625615     0.614533      0.644893      0.589951   \n",
       "75%        0.766898     0.766397     0.784394      0.780971      0.747382   \n",
       "max        0.942808     0.929640     0.924846      0.933956      0.910363   \n",
       "\n",
       "       MACD_labels  20sd_labels  upper_band_labels  lower_band_labels  \\\n",
       "count  1261.000000  1261.000000        1261.000000        1261.000000   \n",
       "mean      0.643968     0.277988           0.609045           0.577103   \n",
       "std       0.212907     0.214784           0.138056           0.254206   \n",
       "min       0.000000     0.010537           0.275796           0.000000   \n",
       "25%       0.525096     0.113844           0.516130           0.516696   \n",
       "50%       0.718091     0.214089           0.602450           0.619513   \n",
       "75%       0.791750     0.394851           0.713870           0.759023   \n",
       "max       0.985774     1.000000           0.886772           0.944517   \n",
       "\n",
       "        ema_labels  momentum_labels  \n",
       "count  1261.000000      1261.000000  \n",
       "mean      0.635029         0.638957  \n",
       "std       0.186857         0.184707  \n",
       "min       0.000000         0.000000  \n",
       "25%       0.558769         0.564125  \n",
       "50%       0.662221         0.665511  \n",
       "75%       0.762352         0.766898  \n",
       "max       0.940623         0.942808  "
      ]
     },
     "metadata": {},
     "output_type": "display_data"
    },
    {
     "data": {
      "text/html": [
       "<div>\n",
       "<style scoped>\n",
       "    .dataframe tbody tr th:only-of-type {\n",
       "        vertical-align: middle;\n",
       "    }\n",
       "\n",
       "    .dataframe tbody tr th {\n",
       "        vertical-align: top;\n",
       "    }\n",
       "\n",
       "    .dataframe thead th {\n",
       "        text-align: right;\n",
       "    }\n",
       "</style>\n",
       "<table border=\"1\" class=\"dataframe\">\n",
       "  <thead>\n",
       "    <tr style=\"text-align: right;\">\n",
       "      <th></th>\n",
       "      <th>price_labels</th>\n",
       "      <th>ma7_labels</th>\n",
       "      <th>ma21_labels</th>\n",
       "      <th>26ema_labels</th>\n",
       "      <th>12ema_labels</th>\n",
       "      <th>MACD_labels</th>\n",
       "      <th>20sd_labels</th>\n",
       "      <th>upper_band_labels</th>\n",
       "      <th>lower_band_labels</th>\n",
       "      <th>ema_labels</th>\n",
       "      <th>momentum_labels</th>\n",
       "    </tr>\n",
       "  </thead>\n",
       "  <tbody>\n",
       "    <tr>\n",
       "      <th>count</th>\n",
       "      <td>631.000000</td>\n",
       "      <td>631.000000</td>\n",
       "      <td>631.000000</td>\n",
       "      <td>631.000000</td>\n",
       "      <td>631.000000</td>\n",
       "      <td>631.000000</td>\n",
       "      <td>631.000000</td>\n",
       "      <td>631.000000</td>\n",
       "      <td>631.000000</td>\n",
       "      <td>631.000000</td>\n",
       "      <td>631.000000</td>\n",
       "    </tr>\n",
       "    <tr>\n",
       "      <th>mean</th>\n",
       "      <td>0.819686</td>\n",
       "      <td>0.817136</td>\n",
       "      <td>0.817341</td>\n",
       "      <td>0.821622</td>\n",
       "      <td>0.806771</td>\n",
       "      <td>0.759289</td>\n",
       "      <td>0.233347</td>\n",
       "      <td>0.767748</td>\n",
       "      <td>0.769949</td>\n",
       "      <td>0.817939</td>\n",
       "      <td>0.819686</td>\n",
       "    </tr>\n",
       "    <tr>\n",
       "      <th>std</th>\n",
       "      <td>0.094316</td>\n",
       "      <td>0.103498</td>\n",
       "      <td>0.107801</td>\n",
       "      <td>0.115474</td>\n",
       "      <td>0.103717</td>\n",
       "      <td>0.165314</td>\n",
       "      <td>0.086991</td>\n",
       "      <td>0.097388</td>\n",
       "      <td>0.106376</td>\n",
       "      <td>0.095059</td>\n",
       "      <td>0.094316</td>\n",
       "    </tr>\n",
       "    <tr>\n",
       "      <th>min</th>\n",
       "      <td>0.597920</td>\n",
       "      <td>0.640401</td>\n",
       "      <td>0.572321</td>\n",
       "      <td>0.546439</td>\n",
       "      <td>0.603443</td>\n",
       "      <td>0.369591</td>\n",
       "      <td>0.068014</td>\n",
       "      <td>0.570403</td>\n",
       "      <td>0.538575</td>\n",
       "      <td>0.594936</td>\n",
       "      <td>0.597920</td>\n",
       "    </tr>\n",
       "    <tr>\n",
       "      <th>25%</th>\n",
       "      <td>0.749350</td>\n",
       "      <td>0.741870</td>\n",
       "      <td>0.755786</td>\n",
       "      <td>0.743531</td>\n",
       "      <td>0.716542</td>\n",
       "      <td>0.648570</td>\n",
       "      <td>0.174134</td>\n",
       "      <td>0.685192</td>\n",
       "      <td>0.703558</td>\n",
       "      <td>0.745552</td>\n",
       "      <td>0.749350</td>\n",
       "    </tr>\n",
       "    <tr>\n",
       "      <th>50%</th>\n",
       "      <td>0.809359</td>\n",
       "      <td>0.796638</td>\n",
       "      <td>0.788995</td>\n",
       "      <td>0.832913</td>\n",
       "      <td>0.789833</td>\n",
       "      <td>0.802686</td>\n",
       "      <td>0.232146</td>\n",
       "      <td>0.772870</td>\n",
       "      <td>0.750449</td>\n",
       "      <td>0.808093</td>\n",
       "      <td>0.809359</td>\n",
       "    </tr>\n",
       "    <tr>\n",
       "      <th>75%</th>\n",
       "      <td>0.899263</td>\n",
       "      <td>0.907514</td>\n",
       "      <td>0.908615</td>\n",
       "      <td>0.919715</td>\n",
       "      <td>0.887466</td>\n",
       "      <td>0.872441</td>\n",
       "      <td>0.302066</td>\n",
       "      <td>0.855564</td>\n",
       "      <td>0.818077</td>\n",
       "      <td>0.897738</td>\n",
       "      <td>0.899263</td>\n",
       "    </tr>\n",
       "    <tr>\n",
       "      <th>max</th>\n",
       "      <td>1.000000</td>\n",
       "      <td>1.000000</td>\n",
       "      <td>1.000000</td>\n",
       "      <td>1.000000</td>\n",
       "      <td>1.000000</td>\n",
       "      <td>1.000000</td>\n",
       "      <td>0.466579</td>\n",
       "      <td>0.921802</td>\n",
       "      <td>1.000000</td>\n",
       "      <td>1.000000</td>\n",
       "      <td>1.000000</td>\n",
       "    </tr>\n",
       "  </tbody>\n",
       "</table>\n",
       "</div>"
      ],
      "text/plain": [
       "       price_labels  ma7_labels  ma21_labels  26ema_labels  12ema_labels  \\\n",
       "count    631.000000  631.000000   631.000000    631.000000    631.000000   \n",
       "mean       0.819686    0.817136     0.817341      0.821622      0.806771   \n",
       "std        0.094316    0.103498     0.107801      0.115474      0.103717   \n",
       "min        0.597920    0.640401     0.572321      0.546439      0.603443   \n",
       "25%        0.749350    0.741870     0.755786      0.743531      0.716542   \n",
       "50%        0.809359    0.796638     0.788995      0.832913      0.789833   \n",
       "75%        0.899263    0.907514     0.908615      0.919715      0.887466   \n",
       "max        1.000000    1.000000     1.000000      1.000000      1.000000   \n",
       "\n",
       "       MACD_labels  20sd_labels  upper_band_labels  lower_band_labels  \\\n",
       "count   631.000000   631.000000         631.000000         631.000000   \n",
       "mean      0.759289     0.233347           0.767748           0.769949   \n",
       "std       0.165314     0.086991           0.097388           0.106376   \n",
       "min       0.369591     0.068014           0.570403           0.538575   \n",
       "25%       0.648570     0.174134           0.685192           0.703558   \n",
       "50%       0.802686     0.232146           0.772870           0.750449   \n",
       "75%       0.872441     0.302066           0.855564           0.818077   \n",
       "max       1.000000     0.466579           0.921802           1.000000   \n",
       "\n",
       "       ema_labels  momentum_labels  \n",
       "count  631.000000       631.000000  \n",
       "mean     0.817939         0.819686  \n",
       "std      0.095059         0.094316  \n",
       "min      0.594936         0.597920  \n",
       "25%      0.745552         0.749350  \n",
       "50%      0.808093         0.809359  \n",
       "75%      0.897738         0.899263  \n",
       "max      1.000000         1.000000  "
      ]
     },
     "metadata": {},
     "output_type": "display_data"
    }
   ],
   "source": [
    "display(df_train_bins.describe())\n",
    "display(df_test_bins.describe())"
   ]
  },
  {
   "cell_type": "markdown",
   "metadata": {},
   "source": [
    "## Predicting Price with Keras LSTM - Using ONLY Price"
   ]
  },
  {
   "cell_type": "markdown",
   "metadata": {},
   "source": [
    "### def predict_model_make_results_dict & def plot_price_vs_preds"
   ]
  },
  {
   "cell_type": "code",
   "execution_count": 55,
   "metadata": {
    "code_folding": []
   },
   "outputs": [],
   "source": [
    "def predict_model_make_results_dict(model, X_test_in, y_test,test_index, X_train_in, y_train,train_index,  scaler = scaler_library['price'],\n",
    "                                   return_as_dfs = False):# Get predictions and combine with true price\n",
    "    \n",
    "    \"\"\"Accepts a fit keras model, X_test, y_test, and y_train data. Uses provided fit-scaler that transformed\n",
    "    original data. \n",
    "    By default (return_as_dfs=False): returns the results as a panel (dictioanry of dataframes), with panel['train'],panl['test']\n",
    "    Setting return_as_dfs=True will return df_train, df_test\"\"\"\n",
    "    \n",
    "    # Get predictions from model\n",
    "    predictions = model.predict(X_test_in)\n",
    "    \n",
    "    # Get predicted price series (scaled and inverse_transformed)\n",
    "    pred_price_scaled = pd.Series(predictions.ravel(),name='scaled_pred_price',index=test_index)\n",
    "    pred_price = inverse_transform_series(pred_price_scaled, scaler).rename('pred_price')\n",
    "\n",
    "    # Get true price series (scaled and inverse_transformed)\n",
    "    true_price_scaled =  pd.Series(y_test,name='scaled_test_price',index=test_index)\n",
    "    true_price = inverse_transform_series(true_price_scaled,scaler).rename('test_price')\n",
    "\n",
    "    # combine all test data series into 1 dataframe\n",
    "    df_test_data = pd.concat([true_price, pred_price,  true_price_scaled, pred_price_scaled],axis=1)#, columns=['predicted_price','true_price'], index=index_test)\n",
    "    \n",
    "    \n",
    "    \n",
    "    # Get predictions from model\n",
    "    train_predictions = model.predict(X_train_in)\n",
    "\n",
    "    # Get predicted price series (scaled and inverse_transformed)\n",
    "    train_pred_price_scaled = pd.Series(train_predictions.ravel(),name='scaled_pred_train_price',index=train_index)\n",
    "    train_pred_price = inverse_transform_series(train_pred_price_scaled, scaler).rename('pred_train_price')\n",
    "        \n",
    "    # Get training data scaled and inverse transformed into its own dataframe \n",
    "    train_price_scaled = pd.Series(y_train,name='scaled_train_price',index= train_index) \n",
    "    train_price =inverse_transform_series(train_price_scaled,scaler).rename('train_price')\n",
    "    \n",
    "    df_train_data = pd.concat([train_price, train_pred_price, train_price_scaled, train_pred_price_scaled],axis=1)\n",
    "    \n",
    "    \n",
    "    # Return results as Panel or 2 dataframes\n",
    "    if return_as_dfs==False:\n",
    "        results = {'train':df_train_data,'test':df_test_data}\n",
    "        return results\n",
    "   \n",
    "    else:\n",
    "\n",
    "        return df_train_data, df_test_data\n",
    "\n",
    "    \n",
    "    \n",
    "def plot_price_vs_preds(train_price, test_price, pred_price,figsize=(12,6)):\n",
    "    # Plot outcome\n",
    "    \n",
    "    fig, ax = plt.subplots()\n",
    "\n",
    "    if len(train_price)>0:\n",
    "        ax.plot(train_price, label='price-training')\n",
    "\n",
    "    ax.plot(test_price, label='true test price')\n",
    "    ax.plot(pred_price, label='predicted price')#, label=['true_price','predicted_price'])#, label='price-predictions')\n",
    "    leg = ax.legend()\n",
    "    plt.title('LSTM Stock S&P500 Predictions')\n",
    "    plt.xlabel('Business Day-Hour')\n",
    "    plt.ylabel('Stock Price')\n",
    "    \n",
    "    \n",
    "    # ANNOTATING RMSE\n",
    "    RMSE = np.sqrt(mean_squared_error(test_price,pred_price))\n",
    "    bbox_props = dict(boxstyle=\"square,pad=0.5\", fc=\"white\", ec=\"k\", lw=0.5)\n",
    "    \n",
    "    plt.annotate(f\"RMSE: {RMSE.round(3)}\",xycoords='figure fraction', xy=(0.5,0.9),bbox=bbox_props)\n",
    "\n",
    "    return fig, ax\n",
    "\n",
    "# fig, ax = plot_price_vs_preds(df_train_price['train_price'],df_test_price['test_price'],df_test_price['pred_price'])\n",
    "\n",
    "def print_array_inf(arr, name='Array'):\n",
    "    \"\"\"Test function for verifying shapes and data ranges of input arrays\"\"\"\n",
    "    shape = np.shape(arr)\n",
    "    arr_min = np.min(arr).round(3)\n",
    "    arr_max = np.max(arr).round(3)\n",
    "    print(f\"For {name}:\\t\\tShape: {str(shape):15} \\tMin, Max: ({arr_min}, {arr_max})\")    \n"
   ]
  },
  {
   "cell_type": "markdown",
   "metadata": {},
   "source": [
    "### def plot_keras_history_custom"
   ]
  },
  {
   "cell_type": "code",
   "execution_count": 49,
   "metadata": {},
   "outputs": [],
   "source": [
    "# plot training history\n",
    "def plot_keras_history_custom(history,metrics=[('acc','val_acc'),('loss','val_loss')], figsize=(6,4)):\n",
    "    \"\"\"Plots the history['acc','val','val_acc','val_loss']\"\"\"\n",
    "    plot_dict = {}\n",
    "    \n",
    "    import matplotlib.pyplot as plt\n",
    "    for i,metric_tuple in enumerate(metrics):\n",
    "         \n",
    "        plot_dict[i] = {}\n",
    "        \n",
    "        for metric in metric_tuple:\n",
    "            plot_dict[i][metric]= history.history[metric]\n",
    "                       \n",
    "\n",
    "    x_len = len(history.history[metrics[0][0]])\n",
    "    x = list(range(0,x_len))\n",
    "    \n",
    "    fig,ax = plt.subplots(nrows=len(metrics), ncols=1, figsize=figsize)\n",
    "    \n",
    "    for p in plot_dict.keys():\n",
    "        \n",
    "        for k,v in plot_dict[p].items():\n",
    "            ax[p].plot(x, plot_dict[p][k], label=k)\n",
    "            ax[p].legend()\n",
    "                    \n",
    "    plt.tight_layout()\n",
    "    plt.show()\n",
    "\n",
    "    return fig, ax\n",
    "# plot_keras_history_custom(history)\n"
   ]
  },
  {
   "cell_type": "markdown",
   "metadata": {},
   "source": [
    "## KERAS MODEL 1"
   ]
  },
  {
   "cell_type": "code",
   "execution_count": 50,
   "metadata": {},
   "outputs": [],
   "source": [
    "# Creating X,y and index for training data and test data\n",
    "train_index =df_train_bins.index\n",
    "test_index = df_test_bins.index\n",
    "\n",
    "X_train = df_train_bins['price_bins'].values\n",
    "y_train = df_train_bins['price_labels'].values\n",
    "\n",
    "X_test = df_test_bins['price_bins'].values\n",
    "y_test = df_test_bins['price_labels'].values\n",
    "\n",
    "\n",
    "# Converting all X and y into 2D arrays\n",
    "X_train_stack =  np.vstack(X_train)\n",
    "X_train_in = np.reshape(X_train_stack,(X_train_stack.shape[0],X_train_stack.shape[1],1))\n",
    "\n",
    "X_test_stack =  np.vstack(X_test)\n",
    "X_test_in = np.reshape(X_test_stack,(X_test_stack.shape[0],X_test_stack.shape[1],1))\n",
    "\n",
    "\n",
    "# Set True to display array details\n",
    "show_array_details = False\n",
    "\n",
    "# Display details of array data, if desired\n",
    "if show_array_details==True:\n",
    "    var_dict = {'X_train':X_train_in, 'y_train':y_train,'X_test':X_test_in,'y_test':y_test}\n",
    "    for name, arr in var_dict.items():\n",
    "        print_array_inf(arr,name)"
   ]
  },
  {
   "cell_type": "code",
   "execution_count": 51,
   "metadata": {},
   "outputs": [
    {
     "name": "stdout",
     "output_type": "stream",
     "text": [
      "bs_ds v. 0.7.4 ... read the docs at https://bs-ds.readthedocs.io/en/latest/index.html\n",
      "For convenient loading of standard modules :\n",
      ">> from bs_ds.imports import *\n",
      "\n"
     ]
    },
    {
     "name": "stderr",
     "output_type": "stream",
     "text": [
      "[nltk_data] Downloading package stopwords to\n",
      "[nltk_data]     C:\\Users\\james\\AppData\\Roaming\\nltk_data...\n",
      "[nltk_data]   Package stopwords is already up-to-date!\n"
     ]
    },
    {
     "data": {
      "text/plain": [
       "[['Test #',\n",
       "  'Defining difference',\n",
       "  'RunTime',\n",
       "  'Test_RMSE_keras',\n",
       "  'Test_RMSE_price',\n",
       "  'acc',\n",
       "  'Train_RMSE_keras',\n",
       "  'Train_RMSE_price']]"
      ]
     },
     "execution_count": 51,
     "metadata": {},
     "output_type": "execute_result"
    }
   ],
   "source": [
    "# Instantiating clock timer\n",
    "import bs_ds as bs\n",
    "clock = bs.Clock(verbose=0)\n",
    "\n",
    "# defining loss function to use\n",
    "def my_rmse(y_true,y_pred):\n",
    "    \"\"\"RMSE calculation using keras.backend\"\"\"\n",
    "    from keras import backend as kb\n",
    "    sq_err = kb.square(y_pred - y_true)\n",
    "    mse = kb.mean(sq_err,axis=-1)\n",
    "    rmse =kb.sqrt(mse)\n",
    "    return rmse\n",
    "\n",
    "# creating LOG list for forthcoming results\n",
    "LOG = [['Test #','Defining difference','RunTime','Test_RMSE_keras','Test_RMSE_price','acc','Train_RMSE_keras','Train_RMSE_price']]\n",
    "LOG"
   ]
  },
  {
   "cell_type": "code",
   "execution_count": 52,
   "metadata": {},
   "outputs": [
    {
     "name": "stderr",
     "output_type": "stream",
     "text": [
      "Using TensorFlow backend.\n"
     ]
    },
    {
     "name": "stdout",
     "output_type": "stream",
     "text": [
      "WARNING:tensorflow:From C:\\Users\\james\\Anaconda3\\envs\\learn-env-ext\\lib\\site-packages\\tensorflow\\python\\framework\\op_def_library.py:263: colocate_with (from tensorflow.python.framework.ops) is deprecated and will be removed in a future version.\n",
      "Instructions for updating:\n",
      "Colocations handled automatically by placer.\n",
      "_________________________________________________________________\n",
      "Layer (type)                 Output Shape              Param #   \n",
      "=================================================================\n",
      "bidirectional_1 (Bidirection (None, 35, 100)           20800     \n",
      "_________________________________________________________________\n",
      "lstm_2 (LSTM)                (None, 50)                30200     \n",
      "_________________________________________________________________\n",
      "dense_1 (Dense)              (None, 1)                 51        \n",
      "=================================================================\n",
      "Total params: 51,051\n",
      "Trainable params: 51,051\n",
      "Non-trainable params: 0\n",
      "_________________________________________________________________\n"
     ]
    },
    {
     "data": {
      "text/plain": [
       "None"
      ]
     },
     "metadata": {},
     "output_type": "display_data"
    },
    {
     "name": "stdout",
     "output_type": "stream",
     "text": [
      "Clock started at 07/02/19 - 06:12:26 PM\n",
      "WARNING:tensorflow:From C:\\Users\\james\\Anaconda3\\envs\\learn-env-ext\\lib\\site-packages\\tensorflow\\python\\ops\\math_ops.py:3066: to_int32 (from tensorflow.python.ops.math_ops) is deprecated and will be removed in a future version.\n",
      "Instructions for updating:\n",
      "Use tf.cast instead.\n",
      "\tLap #1 done @ 07/02/19 - 06:12:45 PM\tlabel:                     \tduration: 19.539008 sec)\n",
      "Total Time: 0:00:19.539008.\n",
      "0:00:19.539008\n"
     ]
    },
    {
     "data": {
      "image/png": "[encoded data removed]",
      "text/plain": [
       "<Figure size 432x576 with 2 Axes>"
      ]
     },
     "metadata": {
      "needs_background": "light"
     },
     "output_type": "display_data"
    }
   ],
   "source": [
    "from keras.models import Sequential\n",
    "from keras.layers import Bidirectional, Dense, LSTM\n",
    "\n",
    "# Specifying input shape (size of samples, rank of samples?)\n",
    "input_shape =  (X_train_in.shape[1],1)\n",
    "\n",
    "# Create model architecture\n",
    "model = Sequential()\n",
    "\n",
    "model.add(Bidirectional(LSTM(units=50, return_sequences=True, \n",
    "                             input_shape =input_shape),input_shape=input_shape))\n",
    "model.add(LSTM(units=50))\n",
    "\n",
    "model.add(Dense(1))\n",
    "\n",
    "model.compile(loss=my_rmse, optimizer='adam', metrics=['acc'])#,my_rmse])#,metrics=['acc'])\n",
    "display(model.summary())\n",
    "\n",
    "# start the timer\n",
    "clock.tic('')\n",
    "\n",
    "# Fit the model\n",
    "history = model.fit(X_train_in, y_train, epochs=10, verbose=0, validation_split=(0.05))\n",
    "\n",
    "# stop clock\n",
    "clock.toc('')\n",
    "duration = print(clock._lap_duration_)\n",
    "\n",
    "from mod4functions_JMI import plot_keras_history\n",
    "plot_keras_history(history);"
   ]
  },
  {
   "cell_type": "code",
   "execution_count": 53,
   "metadata": {
    "scrolled": true
   },
   "outputs": [
    {
     "name": "stdout",
     "output_type": "stream",
     "text": [
      "[['Test #', 'Defining difference', 'RunTime', 'Test_RMSE_keras', 'Test_RMSE_price', 'acc', 'Train_RMSE_keras', 'Train_RMSE_price']]\n"
     ]
    }
   ],
   "source": [
    "print(LOG)"
   ]
  },
  {
   "cell_type": "code",
   "execution_count": 56,
   "metadata": {},
   "outputs": [
    {
     "name": "stdout",
     "output_type": "stream",
     "text": [
      "Test data:\trmse=0.016328095245911563, acc=0.003169572107765452\n",
      "Train data:\trmse=0.016375834128947178, acc=0.0007930214115781126\n"
     ]
    },
    {
     "data": {
      "text/html": [
       "<style  type=\"text/css\" >\n",
       "</style><table id=\"T_c60e2612_9d16_11e9_8c95_f48e38b6371f\" ><caption>df_train_price</caption><thead>    <tr>        <th class=\"blank level0\" ></th>        <th class=\"col_heading level0 col0\" >train_price</th>        <th class=\"col_heading level0 col1\" >pred_train_price</th>        <th class=\"col_heading level0 col2\" >scaled_train_price</th>        <th class=\"col_heading level0 col3\" >scaled_pred_train_price</th>    </tr></thead><tbody>\n",
       "                <tr>\n",
       "                        <th id=\"T_c60e2612_9d16_11e9_8c95_f48e38b6371flevel0_row0\" class=\"row_heading level0 row0\" >2018-06-08 15:30:00</th>\n",
       "                        <td id=\"T_c60e2612_9d16_11e9_8c95_f48e38b6371frow0_col0\" class=\"data row0 col0\" >109.47</td>\n",
       "                        <td id=\"T_c60e2612_9d16_11e9_8c95_f48e38b6371frow0_col1\" class=\"data row0 col1\" >109.252</td>\n",
       "                        <td id=\"T_c60e2612_9d16_11e9_8c95_f48e38b6371frow0_col2\" class=\"data row0 col2\" >0.665511</td>\n",
       "                        <td id=\"T_c60e2612_9d16_11e9_8c95_f48e38b6371frow0_col3\" class=\"data row0 col3\" >0.656065</td>\n",
       "            </tr>\n",
       "            <tr>\n",
       "                        <th id=\"T_c60e2612_9d16_11e9_8c95_f48e38b6371flevel0_row1\" class=\"row_heading level0 row1\" >2018-06-11 09:30:00</th>\n",
       "                        <td id=\"T_c60e2612_9d16_11e9_8c95_f48e38b6371frow1_col0\" class=\"data row1 col0\" >109.69</td>\n",
       "                        <td id=\"T_c60e2612_9d16_11e9_8c95_f48e38b6371frow1_col1\" class=\"data row1 col1\" >109.291</td>\n",
       "                        <td id=\"T_c60e2612_9d16_11e9_8c95_f48e38b6371frow1_col2\" class=\"data row1 col2\" >0.675043</td>\n",
       "                        <td id=\"T_c60e2612_9d16_11e9_8c95_f48e38b6371frow1_col3\" class=\"data row1 col3\" >0.657747</td>\n",
       "            </tr>\n",
       "            <tr>\n",
       "                        <th id=\"T_c60e2612_9d16_11e9_8c95_f48e38b6371flevel0_row2\" class=\"row_heading level0 row2\" >2018-06-11 10:30:00</th>\n",
       "                        <td id=\"T_c60e2612_9d16_11e9_8c95_f48e38b6371frow2_col0\" class=\"data row2 col0\" >109.94</td>\n",
       "                        <td id=\"T_c60e2612_9d16_11e9_8c95_f48e38b6371frow2_col1\" class=\"data row2 col1\" >109.375</td>\n",
       "                        <td id=\"T_c60e2612_9d16_11e9_8c95_f48e38b6371frow2_col2\" class=\"data row2 col2\" >0.685875</td>\n",
       "                        <td id=\"T_c60e2612_9d16_11e9_8c95_f48e38b6371frow2_col3\" class=\"data row2 col3\" >0.661409</td>\n",
       "            </tr>\n",
       "            <tr>\n",
       "                        <th id=\"T_c60e2612_9d16_11e9_8c95_f48e38b6371flevel0_row3\" class=\"row_heading level0 row3\" >2018-06-11 11:30:00</th>\n",
       "                        <td id=\"T_c60e2612_9d16_11e9_8c95_f48e38b6371frow3_col0\" class=\"data row3 col0\" >109.81</td>\n",
       "                        <td id=\"T_c60e2612_9d16_11e9_8c95_f48e38b6371frow3_col1\" class=\"data row3 col1\" >109.508</td>\n",
       "                        <td id=\"T_c60e2612_9d16_11e9_8c95_f48e38b6371frow3_col2\" class=\"data row3 col2\" >0.680243</td>\n",
       "                        <td id=\"T_c60e2612_9d16_11e9_8c95_f48e38b6371frow3_col3\" class=\"data row3 col3\" >0.667146</td>\n",
       "            </tr>\n",
       "            <tr>\n",
       "                        <th id=\"T_c60e2612_9d16_11e9_8c95_f48e38b6371flevel0_row4\" class=\"row_heading level0 row4\" >2018-06-11 12:30:00</th>\n",
       "                        <td id=\"T_c60e2612_9d16_11e9_8c95_f48e38b6371frow4_col0\" class=\"data row4 col0\" >110.02</td>\n",
       "                        <td id=\"T_c60e2612_9d16_11e9_8c95_f48e38b6371frow4_col1\" class=\"data row4 col1\" >109.585</td>\n",
       "                        <td id=\"T_c60e2612_9d16_11e9_8c95_f48e38b6371frow4_col2\" class=\"data row4 col2\" >0.689341</td>\n",
       "                        <td id=\"T_c60e2612_9d16_11e9_8c95_f48e38b6371frow4_col3\" class=\"data row4 col3\" >0.670495</td>\n",
       "            </tr>\n",
       "    </tbody></table>"
      ],
      "text/plain": [
       "<pandas.io.formats.style.Styler at 0x2735448fba8>"
      ]
     },
     "metadata": {},
     "output_type": "display_data"
    },
    {
     "data": {
      "text/html": [
       "<style  type=\"text/css\" >\n",
       "</style><table id=\"T_c60e9b3e_9d16_11e9_85a8_f48e38b6371f\" ><caption>df_test_price</caption><thead>    <tr>        <th class=\"blank level0\" ></th>        <th class=\"col_heading level0 col0\" >test_price</th>        <th class=\"col_heading level0 col1\" >pred_price</th>        <th class=\"col_heading level0 col2\" >scaled_test_price</th>        <th class=\"col_heading level0 col3\" >scaled_pred_price</th>    </tr></thead><tbody>\n",
       "                <tr>\n",
       "                        <th id=\"T_c60e9b3e_9d16_11e9_85a8_f48e38b6371flevel0_row0\" class=\"row_heading level0 row0\" >2019-02-15 15:30:00</th>\n",
       "                        <td id=\"T_c60e9b3e_9d16_11e9_85a8_f48e38b6371frow0_col0\" class=\"data row0 col0\" >110.99</td>\n",
       "                        <td id=\"T_c60e9b3e_9d16_11e9_85a8_f48e38b6371frow0_col1\" class=\"data row0 col1\" >110.811</td>\n",
       "                        <td id=\"T_c60e9b3e_9d16_11e9_85a8_f48e38b6371frow0_col2\" class=\"data row0 col2\" >0.731369</td>\n",
       "                        <td id=\"T_c60e9b3e_9d16_11e9_85a8_f48e38b6371frow0_col3\" class=\"data row0 col3\" >0.723627</td>\n",
       "            </tr>\n",
       "            <tr>\n",
       "                        <th id=\"T_c60e9b3e_9d16_11e9_85a8_f48e38b6371flevel0_row1\" class=\"row_heading level0 row1\" >2019-02-18 09:30:00</th>\n",
       "                        <td id=\"T_c60e9b3e_9d16_11e9_85a8_f48e38b6371frow1_col0\" class=\"data row1 col0\" >110.99</td>\n",
       "                        <td id=\"T_c60e9b3e_9d16_11e9_85a8_f48e38b6371frow1_col1\" class=\"data row1 col1\" >110.86</td>\n",
       "                        <td id=\"T_c60e9b3e_9d16_11e9_85a8_f48e38b6371frow1_col2\" class=\"data row1 col2\" >0.731369</td>\n",
       "                        <td id=\"T_c60e9b3e_9d16_11e9_85a8_f48e38b6371frow1_col3\" class=\"data row1 col3\" >0.725721</td>\n",
       "            </tr>\n",
       "            <tr>\n",
       "                        <th id=\"T_c60e9b3e_9d16_11e9_85a8_f48e38b6371flevel0_row2\" class=\"row_heading level0 row2\" >2019-02-18 10:30:00</th>\n",
       "                        <td id=\"T_c60e9b3e_9d16_11e9_85a8_f48e38b6371frow2_col0\" class=\"data row2 col0\" >110.99</td>\n",
       "                        <td id=\"T_c60e9b3e_9d16_11e9_85a8_f48e38b6371frow2_col1\" class=\"data row2 col1\" >110.889</td>\n",
       "                        <td id=\"T_c60e9b3e_9d16_11e9_85a8_f48e38b6371frow2_col2\" class=\"data row2 col2\" >0.731369</td>\n",
       "                        <td id=\"T_c60e9b3e_9d16_11e9_85a8_f48e38b6371frow2_col3\" class=\"data row2 col3\" >0.727008</td>\n",
       "            </tr>\n",
       "            <tr>\n",
       "                        <th id=\"T_c60e9b3e_9d16_11e9_85a8_f48e38b6371flevel0_row3\" class=\"row_heading level0 row3\" >2019-02-18 11:30:00</th>\n",
       "                        <td id=\"T_c60e9b3e_9d16_11e9_85a8_f48e38b6371frow3_col0\" class=\"data row3 col0\" >110.99</td>\n",
       "                        <td id=\"T_c60e9b3e_9d16_11e9_85a8_f48e38b6371frow3_col1\" class=\"data row3 col1\" >110.905</td>\n",
       "                        <td id=\"T_c60e9b3e_9d16_11e9_85a8_f48e38b6371frow3_col2\" class=\"data row3 col2\" >0.731369</td>\n",
       "                        <td id=\"T_c60e9b3e_9d16_11e9_85a8_f48e38b6371frow3_col3\" class=\"data row3 col3\" >0.727686</td>\n",
       "            </tr>\n",
       "            <tr>\n",
       "                        <th id=\"T_c60e9b3e_9d16_11e9_85a8_f48e38b6371flevel0_row4\" class=\"row_heading level0 row4\" >2019-02-18 12:30:00</th>\n",
       "                        <td id=\"T_c60e9b3e_9d16_11e9_85a8_f48e38b6371frow4_col0\" class=\"data row4 col0\" >110.99</td>\n",
       "                        <td id=\"T_c60e9b3e_9d16_11e9_85a8_f48e38b6371frow4_col1\" class=\"data row4 col1\" >110.91</td>\n",
       "                        <td id=\"T_c60e9b3e_9d16_11e9_85a8_f48e38b6371frow4_col2\" class=\"data row4 col2\" >0.731369</td>\n",
       "                        <td id=\"T_c60e9b3e_9d16_11e9_85a8_f48e38b6371frow4_col3\" class=\"data row4 col3\" >0.72792</td>\n",
       "            </tr>\n",
       "    </tbody></table>"
      ],
      "text/plain": [
       "<pandas.io.formats.style.Styler at 0x2735448f278>"
      ]
     },
     "metadata": {},
     "output_type": "display_data"
    }
   ],
   "source": [
    "# EVALUATE AND PLOT MODEL PREDICTIONS - TEST DATA\n",
    "test_keras_rmse, test_acc = model.evaluate(X_test_in, y_test, verbose=0)\n",
    "print(f'Test data:\\trmse={test_keras_rmse}, acc={test_acc}')\n",
    "\n",
    "# EVALUATE AND PLOT MODEL PREDICTIONS - TRAIN DATA\n",
    "train_keras_rmse, train_acc = model.evaluate(X_train_in, y_train, verbose=0)\n",
    "print(f'Train data:\\trmse={train_keras_rmse}, acc={train_acc}')\n",
    "\n",
    "\n",
    "\n",
    "# Get dfs with prices converted back to original units\n",
    "df_train_price, df_test_price = predict_model_make_results_dict(model, X_test_in, y_test,test_index,\n",
    "                                                                X_train_in, y_train,train_index, return_as_dfs=True)\n",
    "\n",
    "display(df_train_price.head().style.set_caption('df_train_price'), df_test_price.head().style.set_caption('df_test_price'))"
   ]
  },
  {
   "cell_type": "code",
   "execution_count": 57,
   "metadata": {},
   "outputs": [
    {
     "data": {
      "text/html": [
       "<div>\n",
       "<style scoped>\n",
       "    .dataframe tbody tr th:only-of-type {\n",
       "        vertical-align: middle;\n",
       "    }\n",
       "\n",
       "    .dataframe tbody tr th {\n",
       "        vertical-align: top;\n",
       "    }\n",
       "\n",
       "    .dataframe thead th {\n",
       "        text-align: right;\n",
       "    }\n",
       "</style>\n",
       "<table border=\"1\" class=\"dataframe\">\n",
       "  <thead>\n",
       "    <tr style=\"text-align: right;\">\n",
       "      <th></th>\n",
       "      <th>Defining difference</th>\n",
       "      <th>RunTime</th>\n",
       "      <th>Test_RMSE_keras</th>\n",
       "      <th>Test_RMSE_price</th>\n",
       "      <th>acc</th>\n",
       "      <th>Train_RMSE_keras</th>\n",
       "      <th>Train_RMSE_price</th>\n",
       "    </tr>\n",
       "    <tr>\n",
       "      <th>Test #</th>\n",
       "      <th></th>\n",
       "      <th></th>\n",
       "      <th></th>\n",
       "      <th></th>\n",
       "      <th></th>\n",
       "      <th></th>\n",
       "      <th></th>\n",
       "    </tr>\n",
       "  </thead>\n",
       "  <tbody>\n",
       "    <tr>\n",
       "      <th>1</th>\n",
       "      <td>Initial Model- Using my RMSE with val_split</td>\n",
       "      <td>None</td>\n",
       "      <td>0.016328</td>\n",
       "      <td>0.4885</td>\n",
       "      <td>0.00317</td>\n",
       "      <td>0.016376</td>\n",
       "      <td>0.512981</td>\n",
       "    </tr>\n",
       "  </tbody>\n",
       "</table>\n",
       "</div>"
      ],
      "text/plain": [
       "                                Defining difference RunTime  Test_RMSE_keras  \\\n",
       "Test #                                                                         \n",
       "1       Initial Model- Using my RMSE with val_split    None         0.016328   \n",
       "\n",
       "        Test_RMSE_price      acc  Train_RMSE_keras  Train_RMSE_price  \n",
       "Test #                                                                \n",
       "1                0.4885  0.00317          0.016376          0.512981  "
      ]
     },
     "metadata": {},
     "output_type": "display_data"
    }
   ],
   "source": [
    "# Calculate RMSE using actual prics\n",
    "test_price_rmse = np.sqrt(mean_squared_error(df_test_price['test_price'],df_test_price['pred_price']))\n",
    "train_price_rmse = np.sqrt(mean_squared_error(df_train_price['train_price'],df_train_price['pred_train_price']))\n",
    "\n",
    "\n",
    "# Append log\n",
    "LOG.append([1,'Initial Model- Using my RMSE with val_split',duration, \n",
    "            test_keras_rmse, test_price_rmse, test_acc, train_keras_rmse,train_price_rmse ])\n",
    "\n",
    "display(bs.list2df(LOG, index_col='Test #'))"
   ]
  },
  {
   "cell_type": "code",
   "execution_count": 58,
   "metadata": {},
   "outputs": [
    {
     "data": {
      "text/plain": [
       "(<Figure size 720x432 with 1 Axes>,\n",
       " <matplotlib.axes._subplots.AxesSubplot at 0x2735448ff60>)"
      ]
     },
     "execution_count": 58,
     "metadata": {},
     "output_type": "execute_result"
    },
    {
     "data": {
      "image/png": "[encoded data removed]",
      "text/plain": [
       "<Figure size 720x432 with 1 Axes>"
      ]
     },
     "metadata": {
      "needs_background": "light"
     },
     "output_type": "display_data"
    }
   ],
   "source": [
    "df_train_price, df_test_price = predict_model_make_results_dict(model, X_test_in, y_test,test_index,\n",
    "                                                                X_train_in, y_train, train_index, return_as_dfs=True)\n",
    "plot_price_vs_preds(df_train_price['train_price'],df_test_price['test_price'],df_test_price['pred_price'])"
   ]
  },
  {
   "cell_type": "code",
   "execution_count": 59,
   "metadata": {},
   "outputs": [
    {
     "data": {
      "text/plain": [
       "(<Figure size 720x432 with 1 Axes>,\n",
       " <matplotlib.axes._subplots.AxesSubplot at 0x2732daf0128>)"
      ]
     },
     "execution_count": 59,
     "metadata": {},
     "output_type": "execute_result"
    },
    {
     "data": {
      "image/png": "[encoded data removed]",
      "text/plain": [
       "<Figure size 720x432 with 1 Axes>"
      ]
     },
     "metadata": {
      "needs_background": "light"
     },
     "output_type": "display_data"
    }
   ],
   "source": [
    "plot_price_vs_preds([], df_test_price['test_price'], df_test_price['pred_price'])"
   ]
  },
  {
   "cell_type": "code",
   "execution_count": 60,
   "metadata": {},
   "outputs": [
    {
     "data": {
      "text/html": [
       "<div>\n",
       "<style scoped>\n",
       "    .dataframe tbody tr th:only-of-type {\n",
       "        vertical-align: middle;\n",
       "    }\n",
       "\n",
       "    .dataframe tbody tr th {\n",
       "        vertical-align: top;\n",
       "    }\n",
       "\n",
       "    .dataframe thead th {\n",
       "        text-align: right;\n",
       "    }\n",
       "</style>\n",
       "<table border=\"1\" class=\"dataframe\">\n",
       "  <thead>\n",
       "    <tr style=\"text-align: right;\">\n",
       "      <th></th>\n",
       "      <th>Test #</th>\n",
       "      <th>Defining difference</th>\n",
       "      <th>RunTime</th>\n",
       "      <th>Test_RMSE_keras</th>\n",
       "      <th>Test_RMSE_price</th>\n",
       "      <th>acc</th>\n",
       "      <th>Train_RMSE_keras</th>\n",
       "      <th>Train_RMSE_price</th>\n",
       "    </tr>\n",
       "  </thead>\n",
       "  <tbody>\n",
       "    <tr>\n",
       "      <th>0</th>\n",
       "      <td>1</td>\n",
       "      <td>Initial Model- Using my RMSE with val_split</td>\n",
       "      <td>None</td>\n",
       "      <td>0.016328</td>\n",
       "      <td>0.4885</td>\n",
       "      <td>0.00317</td>\n",
       "      <td>0.016376</td>\n",
       "      <td>0.512981</td>\n",
       "    </tr>\n",
       "  </tbody>\n",
       "</table>\n",
       "</div>"
      ],
      "text/plain": [
       "   Test #                          Defining difference RunTime  \\\n",
       "0       1  Initial Model- Using my RMSE with val_split    None   \n",
       "\n",
       "   Test_RMSE_keras  Test_RMSE_price      acc  Train_RMSE_keras  \\\n",
       "0         0.016328           0.4885  0.00317          0.016376   \n",
       "\n",
       "   Train_RMSE_price  \n",
       "0          0.512981  "
      ]
     },
     "execution_count": 60,
     "metadata": {},
     "output_type": "execute_result"
    }
   ],
   "source": [
    "bs.list2df(LOG)"
   ]
  },
  {
   "cell_type": "markdown",
   "metadata": {},
   "source": [
    "## KERAS MODEL 2\n"
   ]
  },
  {
   "cell_type": "code",
   "execution_count": 84,
   "metadata": {},
   "outputs": [
    {
     "name": "stdout",
     "output_type": "stream",
     "text": [
      "_________________________________________________________________\n",
      "Layer (type)                 Output Shape              Param #   \n",
      "=================================================================\n",
      "bidirectional_11 (Bidirectio (None, 35, 100)           20800     \n",
      "_________________________________________________________________\n",
      "lstm_24 (LSTM)               (None, 50)                30200     \n",
      "_________________________________________________________________\n",
      "dense_17 (Dense)             (None, 1)                 51        \n",
      "=================================================================\n",
      "Total params: 51,051\n",
      "Trainable params: 51,051\n",
      "Non-trainable params: 0\n",
      "_________________________________________________________________\n"
     ]
    },
    {
     "data": {
      "text/plain": [
       "None"
      ]
     },
     "metadata": {},
     "output_type": "display_data"
    },
    {
     "name": "stdout",
     "output_type": "stream",
     "text": [
      "Clock started at 07/02/19 - 06:31:39 PM\n",
      "\tLap #1 done @ 07/02/19 - 06:32:03 PM\tlabel:                     \tduration: 24.164349 sec)\n",
      "Total Time: 0:00:24.164349.\n",
      "0:00:24.164349\n",
      "Test data:\trmse=0.018895195522559614, acc=0.003169572107765452\n",
      "Train data:\trmse=0.017802471519520982, acc=0.0007930214115781126\n"
     ]
    },
    {
     "data": {
      "text/html": [
       "<div>\n",
       "<style scoped>\n",
       "    .dataframe tbody tr th:only-of-type {\n",
       "        vertical-align: middle;\n",
       "    }\n",
       "\n",
       "    .dataframe tbody tr th {\n",
       "        vertical-align: top;\n",
       "    }\n",
       "\n",
       "    .dataframe thead th {\n",
       "        text-align: right;\n",
       "    }\n",
       "</style>\n",
       "<table border=\"1\" class=\"dataframe\">\n",
       "  <thead>\n",
       "    <tr style=\"text-align: right;\">\n",
       "      <th></th>\n",
       "      <th>Defining difference</th>\n",
       "      <th>RunTime</th>\n",
       "      <th>Test_RMSE_keras</th>\n",
       "      <th>Test_RMSE_price</th>\n",
       "      <th>acc</th>\n",
       "      <th>Train_RMSE_keras</th>\n",
       "      <th>Train_RMSE_price</th>\n",
       "    </tr>\n",
       "    <tr>\n",
       "      <th>Test #</th>\n",
       "      <th></th>\n",
       "      <th></th>\n",
       "      <th></th>\n",
       "      <th></th>\n",
       "      <th></th>\n",
       "      <th></th>\n",
       "      <th></th>\n",
       "    </tr>\n",
       "  </thead>\n",
       "  <tbody>\n",
       "    <tr>\n",
       "      <th>1</th>\n",
       "      <td>Initial Model- Using my RMSE with val_split</td>\n",
       "      <td>None</td>\n",
       "      <td>0.016328</td>\n",
       "      <td>0.488500</td>\n",
       "      <td>0.00317</td>\n",
       "      <td>0.016376</td>\n",
       "      <td>0.512981</td>\n",
       "    </tr>\n",
       "    <tr>\n",
       "      <th>1</th>\n",
       "      <td>Initial Model- Using my RMSE with val_split</td>\n",
       "      <td>None</td>\n",
       "      <td>0.020918</td>\n",
       "      <td>0.610985</td>\n",
       "      <td>0.00317</td>\n",
       "      <td>0.020639</td>\n",
       "      <td>0.635315</td>\n",
       "    </tr>\n",
       "    <tr>\n",
       "      <th>1</th>\n",
       "      <td>Initial Model- Using my RMSE with val_split</td>\n",
       "      <td>None</td>\n",
       "      <td>0.019182</td>\n",
       "      <td>0.574137</td>\n",
       "      <td>0.00317</td>\n",
       "      <td>0.020116</td>\n",
       "      <td>0.620174</td>\n",
       "    </tr>\n",
       "    <tr>\n",
       "      <th>1</th>\n",
       "      <td>Initial Model- Using my RMSE with val_split</td>\n",
       "      <td>None</td>\n",
       "      <td>0.018044</td>\n",
       "      <td>0.548045</td>\n",
       "      <td>0.00317</td>\n",
       "      <td>0.018899</td>\n",
       "      <td>0.602856</td>\n",
       "    </tr>\n",
       "    <tr>\n",
       "      <th>1</th>\n",
       "      <td>Initial Model- Using my RMSE with val_split</td>\n",
       "      <td>None</td>\n",
       "      <td>0.016305</td>\n",
       "      <td>0.516333</td>\n",
       "      <td>0.00317</td>\n",
       "      <td>0.017719</td>\n",
       "      <td>0.581221</td>\n",
       "    </tr>\n",
       "    <tr>\n",
       "      <th>1</th>\n",
       "      <td>Initial Model- Using my RMSE with val_split</td>\n",
       "      <td>None</td>\n",
       "      <td>0.016166</td>\n",
       "      <td>0.494798</td>\n",
       "      <td>0.00317</td>\n",
       "      <td>0.016749</td>\n",
       "      <td>0.533179</td>\n",
       "    </tr>\n",
       "    <tr>\n",
       "      <th>1</th>\n",
       "      <td>Initial Model- Using my RMSE with val_split</td>\n",
       "      <td>None</td>\n",
       "      <td>0.024064</td>\n",
       "      <td>0.726057</td>\n",
       "      <td>0.00317</td>\n",
       "      <td>0.028598</td>\n",
       "      <td>0.823435</td>\n",
       "    </tr>\n",
       "    <tr>\n",
       "      <th>1</th>\n",
       "      <td>Initial Model- Using my RMSE with val_split</td>\n",
       "      <td>None</td>\n",
       "      <td>0.018389</td>\n",
       "      <td>0.550583</td>\n",
       "      <td>0.00317</td>\n",
       "      <td>0.018471</td>\n",
       "      <td>0.573179</td>\n",
       "    </tr>\n",
       "    <tr>\n",
       "      <th>1</th>\n",
       "      <td>Initial Model- Using my RMSE with val_split</td>\n",
       "      <td>None</td>\n",
       "      <td>0.015387</td>\n",
       "      <td>0.491221</td>\n",
       "      <td>0.00317</td>\n",
       "      <td>0.016848</td>\n",
       "      <td>0.547463</td>\n",
       "    </tr>\n",
       "    <tr>\n",
       "      <th>1</th>\n",
       "      <td>Initial Model- Using my RMSE with val_split</td>\n",
       "      <td>None</td>\n",
       "      <td>0.017929</td>\n",
       "      <td>0.517610</td>\n",
       "      <td>0.00317</td>\n",
       "      <td>0.017316</td>\n",
       "      <td>0.524506</td>\n",
       "    </tr>\n",
       "    <tr>\n",
       "      <th>1</th>\n",
       "      <td>Initial Model- Using my RMSE with val_split</td>\n",
       "      <td>None</td>\n",
       "      <td>0.030838</td>\n",
       "      <td>0.805230</td>\n",
       "      <td>0.00317</td>\n",
       "      <td>0.026259</td>\n",
       "      <td>0.712841</td>\n",
       "    </tr>\n",
       "    <tr>\n",
       "      <th>1</th>\n",
       "      <td>Initial Model- Using my RMSE with val_split</td>\n",
       "      <td>None</td>\n",
       "      <td>0.018895</td>\n",
       "      <td>0.540106</td>\n",
       "      <td>0.00317</td>\n",
       "      <td>0.017802</td>\n",
       "      <td>0.543679</td>\n",
       "    </tr>\n",
       "  </tbody>\n",
       "</table>\n",
       "</div>"
      ],
      "text/plain": [
       "                                Defining difference RunTime  Test_RMSE_keras  \\\n",
       "Test #                                                                         \n",
       "1       Initial Model- Using my RMSE with val_split    None         0.016328   \n",
       "1       Initial Model- Using my RMSE with val_split    None         0.020918   \n",
       "1       Initial Model- Using my RMSE with val_split    None         0.019182   \n",
       "1       Initial Model- Using my RMSE with val_split    None         0.018044   \n",
       "1       Initial Model- Using my RMSE with val_split    None         0.016305   \n",
       "1       Initial Model- Using my RMSE with val_split    None         0.016166   \n",
       "1       Initial Model- Using my RMSE with val_split    None         0.024064   \n",
       "1       Initial Model- Using my RMSE with val_split    None         0.018389   \n",
       "1       Initial Model- Using my RMSE with val_split    None         0.015387   \n",
       "1       Initial Model- Using my RMSE with val_split    None         0.017929   \n",
       "1       Initial Model- Using my RMSE with val_split    None         0.030838   \n",
       "1       Initial Model- Using my RMSE with val_split    None         0.018895   \n",
       "\n",
       "        Test_RMSE_price      acc  Train_RMSE_keras  Train_RMSE_price  \n",
       "Test #                                                                \n",
       "1              0.488500  0.00317          0.016376          0.512981  \n",
       "1              0.610985  0.00317          0.020639          0.635315  \n",
       "1              0.574137  0.00317          0.020116          0.620174  \n",
       "1              0.548045  0.00317          0.018899          0.602856  \n",
       "1              0.516333  0.00317          0.017719          0.581221  \n",
       "1              0.494798  0.00317          0.016749          0.533179  \n",
       "1              0.726057  0.00317          0.028598          0.823435  \n",
       "1              0.550583  0.00317          0.018471          0.573179  \n",
       "1              0.491221  0.00317          0.016848          0.547463  \n",
       "1              0.517610  0.00317          0.017316          0.524506  \n",
       "1              0.805230  0.00317          0.026259          0.712841  \n",
       "1              0.540106  0.00317          0.017802          0.543679  "
      ]
     },
     "metadata": {},
     "output_type": "display_data"
    },
    {
     "data": {
      "text/plain": [
       "(<Figure size 720x432 with 1 Axes>,\n",
       " <matplotlib.axes._subplots.AxesSubplot at 0x27382a3a5f8>)"
      ]
     },
     "execution_count": 84,
     "metadata": {},
     "output_type": "execute_result"
    },
    {
     "data": {
      "image/png": "[encoded data removed]",
      "text/plain": [
       "<Figure size 720x432 with 1 Axes>"
      ]
     },
     "metadata": {
      "needs_background": "light"
     },
     "output_type": "display_data"
    }
   ],
   "source": [
    "from keras.models import Sequential\n",
    "from keras.layers import Bidirectional, Dense, LSTM\n",
    "\n",
    "log_message = 'Document changes here'\n",
    "# Specifying input shape (size of samples, rank of samples?)\n",
    "input_shape =  (X_train_in.shape[1],1)\n",
    "\n",
    "# Create model architecture\n",
    "model = Sequential()\n",
    "\n",
    "\n",
    "model.add(Bidirectional(LSTM(units=50, return_sequences=True, input_shape =input_shape), input_shape = input_shape))\n",
    "model.add(LSTM(units=50))\n",
    "# model.add(Dense(50))\n",
    "model.add(Dense(1))\n",
    "\n",
    "model.compile(loss=my_rmse, optimizer='adam', metrics=['acc'])#,my_rmse])#,metrics=['acc'])\n",
    "display(model.summary())\n",
    "\n",
    "# start the timer\n",
    "clock.tic('')\n",
    "\n",
    "# Fit the model\n",
    "history = model.fit(X_train_in, y_train, epochs=10, verbose=0, validation_split=(0.05))\n",
    "\n",
    "# stop clock\n",
    "clock.toc('')\n",
    "duration = print(clock._lap_duration_)\n",
    "\n",
    "# from mod4functions_JMI import plot_keras_history\n",
    "# plot_keras_history(history);\n",
    "\n",
    "\n",
    "# EVALUATE AND PLOT MODEL PREDICTIONS - TEST DATA\n",
    "test_keras_rmse, test_acc = model.evaluate(X_test_in, y_test, verbose=0)\n",
    "print(f'Test data:\\trmse={test_keras_rmse}, acc={test_acc}')\n",
    "\n",
    "# EVALUATE AND PLOT MODEL PREDICTIONS - TRAIN DATA\n",
    "train_keras_rmse, train_acc = model.evaluate(X_train_in, y_train, verbose=0)\n",
    "print(f'Train data:\\trmse={train_keras_rmse}, acc={train_acc}')\n",
    "\n",
    "\n",
    "\n",
    "# Get dfs with prices converted back to original units\n",
    "df_train_price, df_test_price = predict_model_make_results_dict(model, X_test_in, y_test,test_index,\n",
    "                                                                X_train_in, y_train,train_index, return_as_dfs=True)\n",
    "\n",
    "# display(df_train_price.head().style.set_caption('df_train_price'), df_test_price.head().style.set_caption('df_test_price'))\n",
    "\n",
    "# Calculate RMSE using actual prics\n",
    "test_price_rmse = np.sqrt(mean_squared_error(df_test_price['test_price'],df_test_price['pred_price']))\n",
    "train_price_rmse = np.sqrt(mean_squared_error(df_train_price['train_price'],df_train_price['pred_train_price']))\n",
    "\n",
    "\n",
    "# Append log\n",
    "LOG.append([1,'Initial Model- Using my RMSE with val_split',duration, \n",
    "            test_keras_rmse, test_price_rmse, test_acc, train_keras_rmse,train_price_rmse ])\n",
    "\n",
    "display(bs.list2df(LOG, index_col='Test #'))\n",
    "\n",
    "df_train_price, df_test_price = predict_model_make_results_dict(model, X_test_in, y_test,test_index,\n",
    "                                                                X_train_in, y_train, train_index, return_as_dfs=True)\n",
    "plot_price_vs_preds(df_train_price['train_price'],df_test_price['test_price'],df_test_price['pred_price'])"
   ]
  },
  {
   "cell_type": "markdown",
   "metadata": {},
   "source": [
    "## KERAS MODEL 3 - ADDING IN OTHER X_DATA"
   ]
  },
  {
   "cell_type": "code",
   "execution_count": 108,
   "metadata": {},
   "outputs": [],
   "source": [
    "# Creating X,y and index for training data and test data\n",
    "train_index =df_train_bins.index\n",
    "test_index = df_test_bins.index\n",
    "\n",
    "X_train = df_train_bins['price_bins'].values\n",
    "y_train = df_train_bins['price_labels'].values\n",
    "\n",
    "X_test = df_test_bins['price_bins'].values\n",
    "y_test = df_test_bins['price_labels'].values"
   ]
  },
  {
   "cell_type": "code",
   "execution_count": 119,
   "metadata": {},
   "outputs": [
    {
     "name": "stdout",
     "output_type": "stream",
     "text": [
      "price_bins (1261, 35, 1)\n",
      "ma7_bins (1261, 35, 1)\n",
      "ma21_bins (1261, 35, 1)\n",
      "26ema_bins (1261, 35, 1)\n",
      "12ema_bins (1261, 35, 1)\n",
      "MACD_bins (1261, 35, 1)\n",
      "20sd_bins (1261, 35, 1)\n",
      "upper_band_bins (1261, 35, 1)\n",
      "lower_band_bins (1261, 35, 1)\n",
      "ema_bins (1261, 35, 1)\n",
      "momentum_bins (1261, 35, 1)\n"
     ]
    }
   ],
   "source": [
    "X_dict = {}\n",
    "for col in df_train_bins.filter(regex=('bins')).columns:\n",
    "    \n",
    "    X_train_col = df_train_bins[col].values\n",
    "    X_train_stack =  np.vstack(X_train)\n",
    "    X_train_in = np.reshape(X_train_stack,(X_train_stack.shape[0],X_train_stack.shape[1],1))\n",
    "    X_dict[col] = X_train_in\n",
    "#     print(col)\n",
    "\n",
    "shape_list  = []\n",
    "for k,v in X_dict.items():\n",
    "    shape_list.append([x for x in v.shape])\n",
    "    print(k,v.shape)\n",
    "    \n",
    "    "
   ]
  },
  {
   "cell_type": "code",
   "execution_count": 123,
   "metadata": {},
   "outputs": [
    {
     "data": {
      "text/plain": [
       "11"
      ]
     },
     "execution_count": 123,
     "metadata": {},
     "output_type": "execute_result"
    }
   ],
   "source": [
    "len(shape_list)\n"
   ]
  },
  {
   "cell_type": "code",
   "execution_count": 129,
   "metadata": {},
   "outputs": [
    {
     "data": {
      "text/plain": [
       "array([[[0.58102253],\n",
       "        [0.60181976],\n",
       "        [0.59835355],\n",
       "        ...,\n",
       "        [0.66377816],\n",
       "        [0.66334489],\n",
       "        [0.66334489]],\n",
       "\n",
       "       [[0.60181976],\n",
       "        [0.59835355],\n",
       "        [0.59358752],\n",
       "        ...,\n",
       "        [0.66334489],\n",
       "        [0.66334489],\n",
       "        [0.66551127]],\n",
       "\n",
       "       [[0.59835355],\n",
       "        [0.59358752],\n",
       "        [0.59358752],\n",
       "        ...,\n",
       "        [0.66334489],\n",
       "        [0.66551127],\n",
       "        [0.67504333]],\n",
       "\n",
       "       ...,\n",
       "\n",
       "       [[0.60008666],\n",
       "        [0.61048527],\n",
       "        [0.61048527],\n",
       "        ...,\n",
       "        [0.73353553],\n",
       "        [0.7322357 ],\n",
       "        [0.7322357 ]],\n",
       "\n",
       "       [[0.61048527],\n",
       "        [0.61048527],\n",
       "        [0.63041594],\n",
       "        ...,\n",
       "        [0.7322357 ],\n",
       "        [0.7322357 ],\n",
       "        [0.72920277]],\n",
       "\n",
       "       [[0.61048527],\n",
       "        [0.63041594],\n",
       "        [0.61568458],\n",
       "        ...,\n",
       "        [0.7322357 ],\n",
       "        [0.72920277],\n",
       "        [0.72920277]]])"
      ]
     },
     "execution_count": 129,
     "metadata": {},
     "output_type": "execute_result"
    }
   ],
   "source": [
    "# Converting all X and y into 2D arrays\n",
    "X_train_stack =  np.vstack(X_train)\n",
    "X_train_in = np.reshape(X_train_stack,(X_train_stack.shape[0],X_train_stack.shape[1],1))\n",
    "\n",
    "X_test_stack =  np.vstack(X_test)\n",
    "X_test_in = np.reshape(X_test_stack,(X_test_stack.shape[0],X_test_stack.shape[1],1))\n",
    "X_train_in\n",
    "\n",
    "# Set True to display array details\n",
    "# show_array_details = True\n",
    "\n",
    "# Display details of array data, if desired\n",
    "# if show_array_details==True:\n",
    "#     var_dict = {'X_train':X_train_in, 'y_train':y_train,'X_test':X_test_in,'y_test':y_test}\n",
    "#     for name, arr in var_dict.items():\n",
    "#         print_array_inf(arr,name)"
   ]
  },
  {
   "cell_type": "code",
   "execution_count": 104,
   "metadata": {},
   "outputs": [
    {
     "data": {
      "text/plain": [
       "(1261, 22)"
      ]
     },
     "execution_count": 104,
     "metadata": {},
     "output_type": "execute_result"
    }
   ],
   "source": [
    "df_train_bins.shape"
   ]
  },
  {
   "cell_type": "code",
   "execution_count": 124,
   "metadata": {},
   "outputs": [
    {
     "ename": "ValueError",
     "evalue": "cannot reshape array of size 13882 into shape (631,22,11)",
     "output_type": "error",
     "traceback": [
      "\u001b[1;31m---------------------------------------------------------------------------\u001b[0m",
      "\u001b[1;31mValueError\u001b[0m                                Traceback (most recent call last)",
      "\u001b[1;32m<ipython-input-124-8b60e97b53cb>\u001b[0m in \u001b[0;36m<module>\u001b[1;34m\u001b[0m\n\u001b[1;32m----> 1\u001b[1;33m \u001b[0mX_test_in\u001b[0m \u001b[1;33m=\u001b[0m \u001b[0mnp\u001b[0m\u001b[1;33m.\u001b[0m\u001b[0mreshape\u001b[0m\u001b[1;33m(\u001b[0m\u001b[0mX_test_stack\u001b[0m\u001b[1;33m,\u001b[0m\u001b[1;33m(\u001b[0m\u001b[0mX_test_stack\u001b[0m\u001b[1;33m.\u001b[0m\u001b[0mshape\u001b[0m\u001b[1;33m[\u001b[0m\u001b[1;36m0\u001b[0m\u001b[1;33m]\u001b[0m\u001b[1;33m,\u001b[0m\u001b[0mX_test_stack\u001b[0m\u001b[1;33m.\u001b[0m\u001b[0mshape\u001b[0m\u001b[1;33m[\u001b[0m\u001b[1;36m1\u001b[0m\u001b[1;33m]\u001b[0m\u001b[1;33m,\u001b[0m\u001b[1;36m11\u001b[0m\u001b[1;33m)\u001b[0m\u001b[1;33m)\u001b[0m\u001b[1;33m\u001b[0m\u001b[1;33m\u001b[0m\u001b[0m\n\u001b[0m\u001b[0;32m      2\u001b[0m \u001b[1;33m\u001b[0m\u001b[0m\n\u001b[0;32m      3\u001b[0m \u001b[0mprint\u001b[0m\u001b[1;33m(\u001b[0m\u001b[0mX_train_in\u001b[0m\u001b[1;33m.\u001b[0m\u001b[0mshape\u001b[0m\u001b[1;33m)\u001b[0m\u001b[1;33m\u001b[0m\u001b[1;33m\u001b[0m\u001b[0m\n",
      "\u001b[1;32m~\\Anaconda3\\envs\\learn-env-ext\\lib\\site-packages\\numpy\\core\\fromnumeric.py\u001b[0m in \u001b[0;36mreshape\u001b[1;34m(a, newshape, order)\u001b[0m\n\u001b[0;32m    290\u001b[0m            [5, 6]])\n\u001b[0;32m    291\u001b[0m     \"\"\"\n\u001b[1;32m--> 292\u001b[1;33m     \u001b[1;32mreturn\u001b[0m \u001b[0m_wrapfunc\u001b[0m\u001b[1;33m(\u001b[0m\u001b[0ma\u001b[0m\u001b[1;33m,\u001b[0m \u001b[1;34m'reshape'\u001b[0m\u001b[1;33m,\u001b[0m \u001b[0mnewshape\u001b[0m\u001b[1;33m,\u001b[0m \u001b[0morder\u001b[0m\u001b[1;33m=\u001b[0m\u001b[0morder\u001b[0m\u001b[1;33m)\u001b[0m\u001b[1;33m\u001b[0m\u001b[1;33m\u001b[0m\u001b[0m\n\u001b[0m\u001b[0;32m    293\u001b[0m \u001b[1;33m\u001b[0m\u001b[0m\n\u001b[0;32m    294\u001b[0m \u001b[1;33m\u001b[0m\u001b[0m\n",
      "\u001b[1;32m~\\Anaconda3\\envs\\learn-env-ext\\lib\\site-packages\\numpy\\core\\fromnumeric.py\u001b[0m in \u001b[0;36m_wrapfunc\u001b[1;34m(obj, method, *args, **kwds)\u001b[0m\n\u001b[0;32m     54\u001b[0m \u001b[1;32mdef\u001b[0m \u001b[0m_wrapfunc\u001b[0m\u001b[1;33m(\u001b[0m\u001b[0mobj\u001b[0m\u001b[1;33m,\u001b[0m \u001b[0mmethod\u001b[0m\u001b[1;33m,\u001b[0m \u001b[1;33m*\u001b[0m\u001b[0margs\u001b[0m\u001b[1;33m,\u001b[0m \u001b[1;33m**\u001b[0m\u001b[0mkwds\u001b[0m\u001b[1;33m)\u001b[0m\u001b[1;33m:\u001b[0m\u001b[1;33m\u001b[0m\u001b[1;33m\u001b[0m\u001b[0m\n\u001b[0;32m     55\u001b[0m     \u001b[1;32mtry\u001b[0m\u001b[1;33m:\u001b[0m\u001b[1;33m\u001b[0m\u001b[1;33m\u001b[0m\u001b[0m\n\u001b[1;32m---> 56\u001b[1;33m         \u001b[1;32mreturn\u001b[0m \u001b[0mgetattr\u001b[0m\u001b[1;33m(\u001b[0m\u001b[0mobj\u001b[0m\u001b[1;33m,\u001b[0m \u001b[0mmethod\u001b[0m\u001b[1;33m)\u001b[0m\u001b[1;33m(\u001b[0m\u001b[1;33m*\u001b[0m\u001b[0margs\u001b[0m\u001b[1;33m,\u001b[0m \u001b[1;33m**\u001b[0m\u001b[0mkwds\u001b[0m\u001b[1;33m)\u001b[0m\u001b[1;33m\u001b[0m\u001b[1;33m\u001b[0m\u001b[0m\n\u001b[0m\u001b[0;32m     57\u001b[0m \u001b[1;33m\u001b[0m\u001b[0m\n\u001b[0;32m     58\u001b[0m     \u001b[1;31m# An AttributeError occurs if the object does not have\u001b[0m\u001b[1;33m\u001b[0m\u001b[1;33m\u001b[0m\u001b[1;33m\u001b[0m\u001b[0m\n",
      "\u001b[1;31mValueError\u001b[0m: cannot reshape array of size 13882 into shape (631,22,11)"
     ]
    }
   ],
   "source": [
    "X_test_in = np.reshape(X_test_stack,(X_test_stack.shape[0],X_test_stack.shape[1],11))\n",
    "\n",
    "print(X_train_in.shape)"
   ]
  },
  {
   "cell_type": "code",
   "execution_count": 130,
   "metadata": {},
   "outputs": [
    {
     "name": "stdout",
     "output_type": "stream",
     "text": [
      "_________________________________________________________________\n",
      "Layer (type)                 Output Shape              Param #   \n",
      "=================================================================\n",
      "bidirectional_14 (Bidirectio (None, 35, 100)           24800     \n",
      "_________________________________________________________________\n",
      "lstm_30 (LSTM)               (None, 50)                30200     \n",
      "_________________________________________________________________\n",
      "dense_20 (Dense)             (None, 1)                 51        \n",
      "=================================================================\n",
      "Total params: 55,051\n",
      "Trainable params: 55,051\n",
      "Non-trainable params: 0\n",
      "_________________________________________________________________\n"
     ]
    },
    {
     "data": {
      "text/plain": [
       "None"
      ]
     },
     "metadata": {},
     "output_type": "display_data"
    },
    {
     "name": "stdout",
     "output_type": "stream",
     "text": [
      "Clock started at 07/02/19 - 06:47:53 PM\n"
     ]
    },
    {
     "ename": "ValueError",
     "evalue": "Error when checking input: expected bidirectional_14_input to have shape (35, 11) but got array with shape (35, 1)",
     "output_type": "error",
     "traceback": [
      "\u001b[1;31m---------------------------------------------------------------------------\u001b[0m",
      "\u001b[1;31mValueError\u001b[0m                                Traceback (most recent call last)",
      "\u001b[1;32m<ipython-input-130-c5b13a41c088>\u001b[0m in \u001b[0;36m<module>\u001b[1;34m\u001b[0m\n\u001b[0;32m     21\u001b[0m \u001b[1;33m\u001b[0m\u001b[0m\n\u001b[0;32m     22\u001b[0m \u001b[1;31m# Fit the model\u001b[0m\u001b[1;33m\u001b[0m\u001b[1;33m\u001b[0m\u001b[1;33m\u001b[0m\u001b[0m\n\u001b[1;32m---> 23\u001b[1;33m \u001b[0mhistory\u001b[0m \u001b[1;33m=\u001b[0m \u001b[0mmodel\u001b[0m\u001b[1;33m.\u001b[0m\u001b[0mfit\u001b[0m\u001b[1;33m(\u001b[0m\u001b[0mX_train_in\u001b[0m\u001b[1;33m,\u001b[0m \u001b[0my_train\u001b[0m\u001b[1;33m,\u001b[0m \u001b[0mepochs\u001b[0m\u001b[1;33m=\u001b[0m\u001b[1;36m10\u001b[0m\u001b[1;33m,\u001b[0m \u001b[0mverbose\u001b[0m\u001b[1;33m=\u001b[0m\u001b[1;36m0\u001b[0m\u001b[1;33m,\u001b[0m \u001b[0mvalidation_split\u001b[0m\u001b[1;33m=\u001b[0m\u001b[1;33m(\u001b[0m\u001b[1;36m0.05\u001b[0m\u001b[1;33m)\u001b[0m\u001b[1;33m)\u001b[0m\u001b[1;33m\u001b[0m\u001b[1;33m\u001b[0m\u001b[0m\n\u001b[0m\u001b[0;32m     24\u001b[0m \u001b[1;33m\u001b[0m\u001b[0m\n\u001b[0;32m     25\u001b[0m \u001b[1;31m# stop clock\u001b[0m\u001b[1;33m\u001b[0m\u001b[1;33m\u001b[0m\u001b[1;33m\u001b[0m\u001b[0m\n",
      "\u001b[1;32m~\\Anaconda3\\envs\\learn-env-ext\\lib\\site-packages\\keras\\engine\\training.py\u001b[0m in \u001b[0;36mfit\u001b[1;34m(self, x, y, batch_size, epochs, verbose, callbacks, validation_split, validation_data, shuffle, class_weight, sample_weight, initial_epoch, steps_per_epoch, validation_steps, **kwargs)\u001b[0m\n\u001b[0;32m    950\u001b[0m             \u001b[0msample_weight\u001b[0m\u001b[1;33m=\u001b[0m\u001b[0msample_weight\u001b[0m\u001b[1;33m,\u001b[0m\u001b[1;33m\u001b[0m\u001b[1;33m\u001b[0m\u001b[0m\n\u001b[0;32m    951\u001b[0m             \u001b[0mclass_weight\u001b[0m\u001b[1;33m=\u001b[0m\u001b[0mclass_weight\u001b[0m\u001b[1;33m,\u001b[0m\u001b[1;33m\u001b[0m\u001b[1;33m\u001b[0m\u001b[0m\n\u001b[1;32m--> 952\u001b[1;33m             batch_size=batch_size)\n\u001b[0m\u001b[0;32m    953\u001b[0m         \u001b[1;31m# Prepare validation data.\u001b[0m\u001b[1;33m\u001b[0m\u001b[1;33m\u001b[0m\u001b[1;33m\u001b[0m\u001b[0m\n\u001b[0;32m    954\u001b[0m         \u001b[0mdo_validation\u001b[0m \u001b[1;33m=\u001b[0m \u001b[1;32mFalse\u001b[0m\u001b[1;33m\u001b[0m\u001b[1;33m\u001b[0m\u001b[0m\n",
      "\u001b[1;32m~\\Anaconda3\\envs\\learn-env-ext\\lib\\site-packages\\keras\\engine\\training.py\u001b[0m in \u001b[0;36m_standardize_user_data\u001b[1;34m(self, x, y, sample_weight, class_weight, check_array_lengths, batch_size)\u001b[0m\n\u001b[0;32m    749\u001b[0m             \u001b[0mfeed_input_shapes\u001b[0m\u001b[1;33m,\u001b[0m\u001b[1;33m\u001b[0m\u001b[1;33m\u001b[0m\u001b[0m\n\u001b[0;32m    750\u001b[0m             \u001b[0mcheck_batch_axis\u001b[0m\u001b[1;33m=\u001b[0m\u001b[1;32mFalse\u001b[0m\u001b[1;33m,\u001b[0m  \u001b[1;31m# Don't enforce the batch size.\u001b[0m\u001b[1;33m\u001b[0m\u001b[1;33m\u001b[0m\u001b[0m\n\u001b[1;32m--> 751\u001b[1;33m             exception_prefix='input')\n\u001b[0m\u001b[0;32m    752\u001b[0m \u001b[1;33m\u001b[0m\u001b[0m\n\u001b[0;32m    753\u001b[0m         \u001b[1;32mif\u001b[0m \u001b[0my\u001b[0m \u001b[1;32mis\u001b[0m \u001b[1;32mnot\u001b[0m \u001b[1;32mNone\u001b[0m\u001b[1;33m:\u001b[0m\u001b[1;33m\u001b[0m\u001b[1;33m\u001b[0m\u001b[0m\n",
      "\u001b[1;32m~\\Anaconda3\\envs\\learn-env-ext\\lib\\site-packages\\keras\\engine\\training_utils.py\u001b[0m in \u001b[0;36mstandardize_input_data\u001b[1;34m(data, names, shapes, check_batch_axis, exception_prefix)\u001b[0m\n\u001b[0;32m    136\u001b[0m                             \u001b[1;34m': expected '\u001b[0m \u001b[1;33m+\u001b[0m \u001b[0mnames\u001b[0m\u001b[1;33m[\u001b[0m\u001b[0mi\u001b[0m\u001b[1;33m]\u001b[0m \u001b[1;33m+\u001b[0m \u001b[1;34m' to have shape '\u001b[0m \u001b[1;33m+\u001b[0m\u001b[1;33m\u001b[0m\u001b[1;33m\u001b[0m\u001b[0m\n\u001b[0;32m    137\u001b[0m                             \u001b[0mstr\u001b[0m\u001b[1;33m(\u001b[0m\u001b[0mshape\u001b[0m\u001b[1;33m)\u001b[0m \u001b[1;33m+\u001b[0m \u001b[1;34m' but got array with shape '\u001b[0m \u001b[1;33m+\u001b[0m\u001b[1;33m\u001b[0m\u001b[1;33m\u001b[0m\u001b[0m\n\u001b[1;32m--> 138\u001b[1;33m                             str(data_shape))\n\u001b[0m\u001b[0;32m    139\u001b[0m     \u001b[1;32mreturn\u001b[0m \u001b[0mdata\u001b[0m\u001b[1;33m\u001b[0m\u001b[1;33m\u001b[0m\u001b[0m\n\u001b[0;32m    140\u001b[0m \u001b[1;33m\u001b[0m\u001b[0m\n",
      "\u001b[1;31mValueError\u001b[0m: Error when checking input: expected bidirectional_14_input to have shape (35, 11) but got array with shape (35, 1)"
     ]
    }
   ],
   "source": [
    "from keras.models import Sequential\n",
    "from keras.layers import Bidirectional, Dense, LSTM\n",
    "\n",
    "# Specifying input shape (size of samples, rank of samples?)\n",
    "input_shape =  (X_train_in.shape[1],11)\n",
    "\n",
    "# Create model architecture\n",
    "model = Sequential()\n",
    "\n",
    "model.add(Bidirectional(LSTM(units=50, return_sequences=True, \n",
    "                             input_shape =input_shape),input_shape=input_shape))\n",
    "model.add(LSTM(units=50))\n",
    "\n",
    "model.add(Dense(1))\n",
    "\n",
    "model.compile(loss=my_rmse, optimizer='adam', metrics=['acc'])#,my_rmse])#,metrics=['acc'])\n",
    "display(model.summary())\n",
    "\n",
    "# start the timer\n",
    "clock.tic('')\n",
    "\n",
    "# Fit the model\n",
    "history = model.fit(X_train_in, y_train, epochs=10, verbose=0, validation_split=(0.05))\n",
    "\n",
    "# stop clock\n",
    "clock.toc('')\n",
    "duration = print(clock._lap_duration_)\n",
    "\n",
    "from mod4functions_JMI import plot_keras_history\n",
    "plot_keras_history(history);"
   ]
  },
  {
   "cell_type": "code",
   "execution_count": 131,
   "metadata": {},
   "outputs": [
    {
     "ename": "ValueError",
     "evalue": "Error when checking input: expected bidirectional_14_input to have shape (35, 11) but got array with shape (35, 1)",
     "output_type": "error",
     "traceback": [
      "\u001b[1;31m---------------------------------------------------------------------------\u001b[0m",
      "\u001b[1;31mValueError\u001b[0m                                Traceback (most recent call last)",
      "\u001b[1;32m<ipython-input-131-8be962901da7>\u001b[0m in \u001b[0;36m<module>\u001b[1;34m\u001b[0m\n\u001b[0;32m      1\u001b[0m \u001b[1;31m# EVALUATE AND PLOT MODEL PREDICTIONS - TEST DATA\u001b[0m\u001b[1;33m\u001b[0m\u001b[1;33m\u001b[0m\u001b[1;33m\u001b[0m\u001b[0m\n\u001b[1;32m----> 2\u001b[1;33m \u001b[0mtest_keras_rmse\u001b[0m\u001b[1;33m,\u001b[0m \u001b[0mtest_acc\u001b[0m \u001b[1;33m=\u001b[0m \u001b[0mmodel\u001b[0m\u001b[1;33m.\u001b[0m\u001b[0mevaluate\u001b[0m\u001b[1;33m(\u001b[0m\u001b[0mX_test_in\u001b[0m\u001b[1;33m,\u001b[0m \u001b[0my_test\u001b[0m\u001b[1;33m,\u001b[0m \u001b[0mverbose\u001b[0m\u001b[1;33m=\u001b[0m\u001b[1;36m0\u001b[0m\u001b[1;33m)\u001b[0m\u001b[1;33m\u001b[0m\u001b[1;33m\u001b[0m\u001b[0m\n\u001b[0m\u001b[0;32m      3\u001b[0m \u001b[0mprint\u001b[0m\u001b[1;33m(\u001b[0m\u001b[1;34mf'Test data:\\trmse={test_keras_rmse}, acc={test_acc}'\u001b[0m\u001b[1;33m)\u001b[0m\u001b[1;33m\u001b[0m\u001b[1;33m\u001b[0m\u001b[0m\n\u001b[0;32m      4\u001b[0m \u001b[1;33m\u001b[0m\u001b[0m\n\u001b[0;32m      5\u001b[0m \u001b[1;31m# EVALUATE AND PLOT MODEL PREDICTIONS - TRAIN DATA\u001b[0m\u001b[1;33m\u001b[0m\u001b[1;33m\u001b[0m\u001b[1;33m\u001b[0m\u001b[0m\n",
      "\u001b[1;32m~\\Anaconda3\\envs\\learn-env-ext\\lib\\site-packages\\keras\\engine\\training.py\u001b[0m in \u001b[0;36mevaluate\u001b[1;34m(self, x, y, batch_size, verbose, sample_weight, steps)\u001b[0m\n\u001b[0;32m   1100\u001b[0m             \u001b[0mx\u001b[0m\u001b[1;33m,\u001b[0m \u001b[0my\u001b[0m\u001b[1;33m,\u001b[0m\u001b[1;33m\u001b[0m\u001b[1;33m\u001b[0m\u001b[0m\n\u001b[0;32m   1101\u001b[0m             \u001b[0msample_weight\u001b[0m\u001b[1;33m=\u001b[0m\u001b[0msample_weight\u001b[0m\u001b[1;33m,\u001b[0m\u001b[1;33m\u001b[0m\u001b[1;33m\u001b[0m\u001b[0m\n\u001b[1;32m-> 1102\u001b[1;33m             batch_size=batch_size)\n\u001b[0m\u001b[0;32m   1103\u001b[0m         \u001b[1;31m# Prepare inputs, delegate logic to `test_loop`.\u001b[0m\u001b[1;33m\u001b[0m\u001b[1;33m\u001b[0m\u001b[1;33m\u001b[0m\u001b[0m\n\u001b[0;32m   1104\u001b[0m         \u001b[1;32mif\u001b[0m \u001b[0mself\u001b[0m\u001b[1;33m.\u001b[0m\u001b[0m_uses_dynamic_learning_phase\u001b[0m\u001b[1;33m(\u001b[0m\u001b[1;33m)\u001b[0m\u001b[1;33m:\u001b[0m\u001b[1;33m\u001b[0m\u001b[1;33m\u001b[0m\u001b[0m\n",
      "\u001b[1;32m~\\Anaconda3\\envs\\learn-env-ext\\lib\\site-packages\\keras\\engine\\training.py\u001b[0m in \u001b[0;36m_standardize_user_data\u001b[1;34m(self, x, y, sample_weight, class_weight, check_array_lengths, batch_size)\u001b[0m\n\u001b[0;32m    749\u001b[0m             \u001b[0mfeed_input_shapes\u001b[0m\u001b[1;33m,\u001b[0m\u001b[1;33m\u001b[0m\u001b[1;33m\u001b[0m\u001b[0m\n\u001b[0;32m    750\u001b[0m             \u001b[0mcheck_batch_axis\u001b[0m\u001b[1;33m=\u001b[0m\u001b[1;32mFalse\u001b[0m\u001b[1;33m,\u001b[0m  \u001b[1;31m# Don't enforce the batch size.\u001b[0m\u001b[1;33m\u001b[0m\u001b[1;33m\u001b[0m\u001b[0m\n\u001b[1;32m--> 751\u001b[1;33m             exception_prefix='input')\n\u001b[0m\u001b[0;32m    752\u001b[0m \u001b[1;33m\u001b[0m\u001b[0m\n\u001b[0;32m    753\u001b[0m         \u001b[1;32mif\u001b[0m \u001b[0my\u001b[0m \u001b[1;32mis\u001b[0m \u001b[1;32mnot\u001b[0m \u001b[1;32mNone\u001b[0m\u001b[1;33m:\u001b[0m\u001b[1;33m\u001b[0m\u001b[1;33m\u001b[0m\u001b[0m\n",
      "\u001b[1;32m~\\Anaconda3\\envs\\learn-env-ext\\lib\\site-packages\\keras\\engine\\training_utils.py\u001b[0m in \u001b[0;36mstandardize_input_data\u001b[1;34m(data, names, shapes, check_batch_axis, exception_prefix)\u001b[0m\n\u001b[0;32m    136\u001b[0m                             \u001b[1;34m': expected '\u001b[0m \u001b[1;33m+\u001b[0m \u001b[0mnames\u001b[0m\u001b[1;33m[\u001b[0m\u001b[0mi\u001b[0m\u001b[1;33m]\u001b[0m \u001b[1;33m+\u001b[0m \u001b[1;34m' to have shape '\u001b[0m \u001b[1;33m+\u001b[0m\u001b[1;33m\u001b[0m\u001b[1;33m\u001b[0m\u001b[0m\n\u001b[0;32m    137\u001b[0m                             \u001b[0mstr\u001b[0m\u001b[1;33m(\u001b[0m\u001b[0mshape\u001b[0m\u001b[1;33m)\u001b[0m \u001b[1;33m+\u001b[0m \u001b[1;34m' but got array with shape '\u001b[0m \u001b[1;33m+\u001b[0m\u001b[1;33m\u001b[0m\u001b[1;33m\u001b[0m\u001b[0m\n\u001b[1;32m--> 138\u001b[1;33m                             str(data_shape))\n\u001b[0m\u001b[0;32m    139\u001b[0m     \u001b[1;32mreturn\u001b[0m \u001b[0mdata\u001b[0m\u001b[1;33m\u001b[0m\u001b[1;33m\u001b[0m\u001b[0m\n\u001b[0;32m    140\u001b[0m \u001b[1;33m\u001b[0m\u001b[0m\n",
      "\u001b[1;31mValueError\u001b[0m: Error when checking input: expected bidirectional_14_input to have shape (35, 11) but got array with shape (35, 1)"
     ]
    }
   ],
   "source": [
    "# EVALUATE AND PLOT MODEL PREDICTIONS - TEST DATA\n",
    "test_keras_rmse, test_acc = model.evaluate(X_test_in, y_test, verbose=0)\n",
    "print(f'Test data:\\trmse={test_keras_rmse}, acc={test_acc}')\n",
    "\n",
    "# EVALUATE AND PLOT MODEL PREDICTIONS - TRAIN DATA\n",
    "train_keras_rmse, train_acc = model.evaluate(X_train_in, y_train, verbose=0)\n",
    "print(f'Train data:\\trmse={train_keras_rmse}, acc={train_acc}')\n",
    "\n",
    "\n",
    "\n",
    "# Get dfs with prices converted back to original units\n",
    "df_train_price, df_test_price = predict_model_make_results_dict(model, X_test_in, y_test,test_index,\n",
    "                                                                X_train_in, y_train,train_index, return_as_dfs=True)\n",
    "\n",
    "display(df_train_price.head().style.set_caption('df_train_price'), df_test_price.head().style.set_caption('df_test_price'))"
   ]
  },
  {
   "cell_type": "markdown",
   "metadata": {},
   "source": [
    "\n",
    "___\n",
    "\n",
    "___"
   ]
  },
  {
   "cell_type": "markdown",
   "metadata": {
    "heading_collapsed": true
   },
   "source": [
    "## Blog Post Code\n",
    "- NEW BLOG POST - LSTM TIME SERIES FORECASTING\n",
    "    - https://machinelearningmastery.com/how-to-develop-lstm-models-for-time-series-forecasting/\n",
    "- https://www.analyticsvidhya.com/blog/2018/10/predicting-stock-price-machine-learningnd-deep-learning-techniques-python/"
   ]
  },
  {
   "cell_type": "code",
   "execution_count": null,
   "metadata": {
    "hidden": true,
    "scrolled": false
   },
   "outputs": [],
   "source": [
    "from keras.layers import TimeDistributed, Conv1D, MaxPool1D, Flatten, LSTM, Dense\n",
    "model = Sequential()\n",
    "input_shape =  (X_train_in.shape[0],X_train_in.shape[1],1)\n",
    "model.add(TimeDistributed(Conv1D(filters=64, kernel_size=1, activation='relu'), input_shape=input_shape)) #(None, n_steps, n_features)))\n",
    "model.add(TimeDistributed(MaxPooling1D(pool_size=2)))\n",
    "model.add(TimeDistributed(Flatten()))\n",
    "model.add(LSTM(50, activation='relu'))\n",
    "model.add(Dense(1))\n",
    "model.compile(optimizer='adam', loss='mse')\n",
    "# fit model\n",
    "model.fit(X_train_in, y_train, epochs=500, verbose=0)\n",
    "# demonstrate prediction\n",
    "# x_input = array([60, 70, 80, 90])\n",
    "# x_input = x_input.reshape((1, n_seq, n_steps, n_features))\n",
    "\n",
    "# yhat = model.predict(X_test_in, verbose=0)\n",
    "# print(yhat)\n",
    "\n",
    "predictions = pd.Series(predictions.ravel(),name='predicted_price',index=index_test)\n",
    "true_price =  pd.Series(y_test,name='true_price',index=index_test)\n",
    "\n",
    "df_predictions = pd.concat([predictions,true_price],axis=1)#, columns=['predicted_price','true_price'], index=index_test)\n",
    "display(df_predictions.head())\n",
    "\n",
    "# Plot outcome\n",
    "mpl.rcParams['figure.figsize']=(12,4)\n",
    "plt.plot(df_train_bins['price_labels'])\n",
    "plt.plot(df_predictions)"
   ]
  },
  {
   "cell_type": "code",
   "execution_count": null,
   "metadata": {
    "hidden": true,
    "scrolled": false
   },
   "outputs": [],
   "source": [
    "STOP\n",
    "# PREVIEW DATA CONTENTS\n",
    "# display(df_train_bins.head())\n",
    "df_train_bins['price_labels'].plot()\n",
    "df_test_bins['price_labels'].plot()\n",
    "\n",
    "\n",
    "print('Train Index: ',df_train_bins.index[[0,-1]])\n",
    "print('Test Index: ',df_test_bins.index[[0,-1]])"
   ]
  },
  {
   "cell_type": "code",
   "execution_count": null,
   "metadata": {
    "hidden": true
   },
   "outputs": [],
   "source": [
    "#importing required libraries\n",
    "\n",
    "from sklearn.preprocessing import MinMaxScaler\n",
    "from keras.models import Sequential\n",
    "from keras.layers import Dense, Dropout, LSTM\n",
    "\n",
    "time_index =stock_df.index.values\n",
    "stock_df['date'] = time_index# .astype('str')\n",
    "\n",
    "#creating dataframe\n",
    "data = stock_df[['date','price']]\n",
    "\n",
    "new_data = pd.DataFrame(index=range(0,len(stock_df)),columns=['date', 'price'])\n",
    "display(new_data.head()), display(data.head())\n",
    "\n",
    "for i in range(0,len(data)):\n",
    "    new_data['date'][i] = data['date'][i]\n",
    "    new_data['price'][i] = data['price'][i]\n",
    "\n",
    "#setting index\n",
    "new_data.index = new_data.date\n",
    "new_data.drop('date', axis=1, inplace=True)\n"
   ]
  },
  {
   "cell_type": "code",
   "execution_count": null,
   "metadata": {
    "hidden": true
   },
   "outputs": [],
   "source": [
    "new_data"
   ]
  },
  {
   "cell_type": "code",
   "execution_count": null,
   "metadata": {
    "hidden": true,
    "scrolled": false
   },
   "outputs": [],
   "source": [
    "#creating train and test sets\n",
    "dataset = new_data.values\n",
    "\n",
    "train = dataset[0:987,:]\n",
    "valid = dataset[987:,:]\n",
    "\n",
    "#converting dataset into x_train and y_train\n",
    "scaler = MinMaxScaler(feature_range=(0, 1))\n",
    "scaled_data = scaler.fit_transform(dataset)\n",
    "\n",
    "x_train, y_train = [], []\n",
    "for i in range(60,len(train)):\n",
    "    x_train.append(scaled_data[i-60:i,0])\n",
    "    y_train.append(scaled_data[i,0])\n",
    "x_train, y_train = np.array(x_train), np.array(y_train)\n",
    "print(x_train.shape, y_train.shape)\n",
    "x_train = np.reshape(x_train, (x_train.shape[0],x_train.shape[1],1))\n",
    "print(x_train.shape)"
   ]
  },
  {
   "cell_type": "code",
   "execution_count": null,
   "metadata": {
    "hidden": true
   },
   "outputs": [],
   "source": []
  },
  {
   "cell_type": "code",
   "execution_count": null,
   "metadata": {
    "hidden": true,
    "scrolled": false
   },
   "outputs": [],
   "source": [
    "# create and fit the LSTM network\n",
    "model = Sequential()\n",
    "model.add(LSTM(units=50, return_sequences=True, input_shape=(x_train.shape[1],1)))\n",
    "model.add(LSTM(units=50))\n",
    "model.add(Dense(1))\n",
    "\n",
    "model.compile(loss='mean_squared_error', optimizer='adam')\n",
    "model.fit(x_train, y_train, epochs=1, batch_size=1, verbose=2)\n",
    "\n",
    "#predicting 246 values, using past 60 from the train data\n",
    "inputs = new_data[len(new_data) - len(valid) - 60:].values\n",
    "inputs = inputs.reshape(-1,1)\n",
    "inputs  = scaler.transform(inputs)\n",
    "\n",
    "X_test = []\n",
    "for i in range(60,inputs.shape[0]):\n",
    "    X_test.append(inputs[i-60:i,0])\n",
    "X_test = np.array(X_test)\n",
    "\n",
    "X_test = np.reshape(X_test, (X_test.shape[0],X_test.shape[1],1))\n",
    "closing_price = model.predict(X_test)\n",
    "closing_price = scaler.inverse_transform(closing_price)"
   ]
  },
  {
   "cell_type": "code",
   "execution_count": null,
   "metadata": {
    "hidden": true
   },
   "outputs": [],
   "source": [
    "rms=np.sqrt(np.mean(np.power((valid-closing_price),2)))\n",
    "rms"
   ]
  },
  {
   "cell_type": "code",
   "execution_count": null,
   "metadata": {
    "hidden": true
   },
   "outputs": [],
   "source": [
    "#for plotting\n",
    "train = new_data[:987]\n",
    "valid = new_data[987:]\n",
    "valid['Predictions'] = closing_price\n",
    "plt.plot(train['price'])\n",
    "plt.plot(valid[['price','Predictions']])\n",
    "plt.show()"
   ]
  },
  {
   "cell_type": "markdown",
   "metadata": {
    "colab_type": "text",
    "id": "9Pu-SNrTHodf"
   },
   "source": [
    "# ✔ BOOKMARK - RESUMING ANALYSIS WITH NEW FUNCTIONS\n",
    "- Check Evernote log: https://www.evernote.com/l/AApgV1EaL9lEYpujWnwHq62W9QyEKkH4hwA/\n",
    "\n",
    "- **For LSTM neural network, just using stock market data itself, which would be:**\n",
    "    - **Training Data:**\n",
    "         - `X_train = df_train_bins['price_bins']`\n",
    "         - `y_train = df_train_bins['price_labels']`\n",
    "     - **Testing Data:**\n",
    "         - `X_test = df_test_bins['price_bins']`\n",
    "         - `y_test = df_test_bins['price_labels']`    "
   ]
  },
  {
   "cell_type": "markdown",
   "metadata": {},
   "source": [
    "### Hyperparameter tuning for Holt-Winters"
   ]
  },
  {
   "cell_type": "code",
   "execution_count": null,
   "metadata": {},
   "outputs": [],
   "source": [
    "PAUSEW"
   ]
  },
  {
   "cell_type": "code",
   "execution_count": null,
   "metadata": {
    "scrolled": false
   },
   "outputs": [],
   "source": [
    "# from statsmodels.tsa.holtwinters import ExponentialSmoothing\n",
    "\n",
    "# # parameter tuning for seasonal_periods\n",
    "# params={}\n",
    "# # params['seasonal_periods'] = [7]#,70,140]\n",
    "# period = 7\n",
    "\n",
    "# params['trend'] = ['mul']#,'add']\n",
    "# params['seasonal'] = ['mul','add']\n",
    "\n",
    "# results_list = ['i','seasonal_periods','MAE','MSE','RMSE']\n",
    "\n",
    "# clock.tic('Start Search')\n",
    "# for i, trend in enumerate(params['trend']):\n",
    "#     print(\"---\"*20,\"\\nTrend:\",trend)\n",
    "    \n",
    "#     for seasonal in params['seasonal']:\n",
    "#         print('Seasonal:',seasonal)\n",
    "#         fitted_model = ExponentialSmoothing(train_data['price'],trend=trend,seasonal=seasonal,seasonal_periods=period).fit()\n",
    "#         test_predictions = fitted_model.forecast(35).rename('HW Forecast')\n",
    "\n",
    "#         report = evaluation_report(test_data.iloc[:35], test_predictions)\n",
    "\n",
    "#         results = i,period,report['mae'],report['mse'],report['rmse']\n",
    "#         clock.lap('')\n",
    "#         results_list.append([results])\n",
    "\n",
    "#         ax = plot_holt_winters(train_data, test_data, test_predictions)\n",
    "#         ax.set_title(f'Holt-Winters Forecast: seasonal: {seasonal}, trend:{trend}')\n",
    "#         ax.text\n",
    "#         plt.show()\n",
    "#         [print(k,v) for k,v in report.items()]\n",
    "# clock.toc('')"
   ]
  },
  {
   "cell_type": "code",
   "execution_count": null,
   "metadata": {},
   "outputs": [],
   "source": []
  },
  {
   "cell_type": "markdown",
   "metadata": {
    "colab_type": "text",
    "heading_collapsed": true,
    "id": "ycaO9AYe2bwX"
   },
   "source": [
    "# Twitter Processing \n",
    "\n",
    "- NLP Pre-Processing \n",
    "    - stopword removal and regexp tokenization\n",
    "    - extraction and removal of hashtags, @'s and urls' using regex\n",
    "- Word Frequency Disributions and Bigrams\n",
    "    - Word Frequencies - tweet, #'s\n",
    "    - Bigrams - tweets\n",
    "    - WordClouds - tweet, #'s, @'s\n",
    "\n",
    "- Upper to lower case ratio"
   ]
  },
  {
   "cell_type": "markdown",
   "metadata": {
    "colab_type": "text",
    "hidden": true,
    "id": "g2NuArSq3F0C"
   },
   "source": [
    "### NLP Pre-Processing"
   ]
  },
  {
   "cell_type": "code",
   "execution_count": null,
   "metadata": {
    "colab": {},
    "colab_type": "code",
    "hidden": true,
    "id": "e1ucmouPDnjo"
   },
   "outputs": [],
   "source": []
  },
  {
   "cell_type": "code",
   "execution_count": null,
   "metadata": {
    "colab": {},
    "colab_type": "code",
    "hidden": true,
    "id": "m6Hfo5pn_rWG"
   },
   "outputs": [],
   "source": [
    "import pandas as pd\n",
    "import numpy as np\n",
    "import matplotlib.pyplot as plt\n",
    "\n",
    "folder_path = '/content/drive/My Drive/Colab Notebooks/Mod 5 Project/'\n",
    "\n",
    "file = folder_path +'data/trump_tweets_01202017_06202019.csv'\n",
    "df = pd.read_csv(file, encoding='utf-8')\n",
    "df.rename(axis=1,mapper={'text':'content','created_at':'date'},inplace=True)\n",
    "df['date']=pd.to_datetime(df['date'])\n",
    "\n",
    "display(df.head())\n",
    "print(' First tweet:',df.date.min(),'\\n','Last tweet:',df.date.max())\n",
    "print('\\nRange of Dates: ',df.date.max() - df.date.min())"
   ]
  },
  {
   "cell_type": "code",
   "execution_count": null,
   "metadata": {
    "colab": {},
    "colab_type": "code",
    "hidden": true,
    "id": "7VeZDUus2qWi"
   },
   "outputs": [],
   "source": [
    "# Generate Stopwords List from nltk + punctuation + custom list\n",
    "from nltk import regexp_tokenize\n",
    "\n",
    "pattern = \"([a-zA-Z]+(?:'[a-z]+)?)\"\n",
    "\n",
    "import nltk\n",
    "nltk.download('stopwords')\n",
    "from nltk.corpus import stopwords\n",
    "\n",
    "import string\n",
    "\n",
    "stopwords_list = stopwords.words('english')\n",
    "stopwords_list += list(string.punctuation)\n",
    "stopwords_list += ['http','https','...','…','``','co','“','’','‘','”',\"n't\",\"''\",'u','s',\"'s\",'|','\\\\|','amp',\"i'm\"]\n",
    "stopwords_list += [0,1,2,3,4,5,6,7,8,9]\n",
    "\n",
    "## Adding in stopword removal to the actual dataframe\n",
    "def apply_stopwords(stopwords_list,  text, tokenize=True, pattern = \"([a-zA-Z]+(?:'[a-z]+)?)\"):\n",
    "\n",
    "    if tokenize==True:\n",
    "        from nltk import regexp_tokenize\n",
    "        \n",
    "        text = regexp_tokenize(text,pattern)\n",
    "        \n",
    "    stopped = [x.lower() for x in text if x.lower() not in stopwords_list]\n",
    "    return ' '.join(stopped)\n",
    "\n",
    "# # Remove stopwords using function apply_stopwords)\n",
    "# df['text_stopped'] = df['content'].apply(lambda x: apply_stopwords(stopwords_list,x))\n",
    "\n",
    "# # Tokenize using regexp_tokenize from nltk\n",
    "# df['tokens_stopped'] = df['content'].apply(lambda x: regexp_tokenize(x,pattern))"
   ]
  },
  {
   "cell_type": "code",
   "execution_count": null,
   "metadata": {
    "colab": {},
    "colab_type": "code",
    "hidden": true,
    "id": "TxRjqjxF2w5c"
   },
   "outputs": [],
   "source": [
    "# Save 'hashtags' column containing all hastags\n",
    "import re\n",
    "df['content_raw'] = df['content'].copy()\n",
    "\n",
    "# Add has_RT and starts_RT columns\n",
    "# Creating columns for tweets that `has_RT` or `starts_RT`\n",
    "df['has_RT']=df['content_raw'].str.contains('RT')\n",
    "df['starts_RT']=df['content_raw'].str.contains('^RT')\n",
    "\n",
    "## FIRST REMOVE THE RT HEADERS\n",
    "\n",
    "# Remove `RT @Mentions` FIRST:\n",
    "re_RT = re.compile('RT [@]?\\w*:')\n",
    "\n",
    "raw_col =  'content_raw'\n",
    "check_content_col =raw_col\n",
    "fill_content_col = 'content'\n",
    "\n",
    "df['content_starts_RT'] = df[check_content_col].apply(lambda x: re_RT.findall(x))\n",
    "df[fill_content_col] =  df[check_content_col].apply(lambda x: re_RT.sub(' ',x))\n",
    "\n",
    "\n",
    "## SECOND REMOVE URLS\n",
    "# Remove urls with regex\n",
    "urls = re.compile(r\"(http[s]?://\\w*\\.\\w*/+\\w+)\")\n",
    "\n",
    "check_content_col = 'content'\n",
    "fill_content_col = 'content'\n",
    "\n",
    "# df_full['content_urls'] = df_full[check_content_col].apply(lambda x: urls.findall(x))\n",
    "df[fill_content_col] =  df[check_content_col].apply(lambda x: urls.sub(' ',x))\n",
    "\n",
    "## SAVE THIS MINIMALLY CLEANED CONTENT AS 'content_min_clean'\n",
    "df['content_min_clean'] =  df[fill_content_col]\n",
    "\n",
    "\n",
    "\n",
    "## REMOVE AND SAVE HASHTAGS, MENTIONS\n",
    "# Remove and save Hashtags\n",
    "hashtags = re.compile(r'\\#\\w*')\n",
    "\n",
    "check_content_col = 'content'\n",
    "fill_content_col = 'content'\n",
    "\n",
    "df['content_hashtags'] =  df[check_content_col].apply(lambda x: hashtags.findall(x))\n",
    "df[fill_content_col] =  df[check_content_col].apply(lambda x: hashtags.sub(' ',x))\n",
    "\n",
    "\n",
    "# Remove and save mentions (@)'s\n",
    "mentions = re.compile(r'\\@\\w*')\n",
    "\n",
    "check_content_col = 'content'\n",
    "fill_content_col = 'content'\n",
    "\n",
    "df['content_mentions'] =  df[check_content_col].apply(lambda x: mentions.findall(x))\n",
    "df[fill_content_col] =  df[check_content_col].apply(lambda x: mentions.sub(' ',x))\n",
    "\n",
    "\n",
    "# Creating content_stopped columns and then tokens_stopped column\n",
    "df['content_stopped'] = df['content'].apply(lambda x: apply_stopwords(stopwords_list,x))\n",
    "df['tokens_stopped'] = df['content_stopped'].apply(lambda x: regexp_tokenize(x,pattern))"
   ]
  },
  {
   "cell_type": "code",
   "execution_count": null,
   "metadata": {
    "colab": {},
    "colab_type": "code",
    "hidden": true,
    "id": "lKUUzr7b2zK7"
   },
   "outputs": [],
   "source": [
    "# Issue of empty entries for hashtags interfering with joining.\n",
    "def empty_lists_to_strings(x):\n",
    "    \"\"\"Takes a series and replaces any empty lists with an empty string instead.\"\"\"\n",
    "    if len(x)==0:\n",
    "        return ' '\n",
    "    else:\n",
    "        return ' '.join(x) #' '.join(tokens)\n",
    "    \n",
    "    \n",
    "# Apply empty_lists_to_strings to hashtags\n",
    "df['hashtag_strings'] = df['content_hashtags'].apply(lambda x: empty_lists_to_strings(x))\n",
    "\n",
    "# Apply empty_lists_to_strings to mentions\n",
    "df['mention_strings'] = df['content_mentions'].apply(lambda x: empty_lists_to_strings(x))"
   ]
  },
  {
   "cell_type": "markdown",
   "metadata": {
    "colab_type": "text",
    "hidden": true,
    "id": "5XmuzPuE3RVi"
   },
   "source": [
    "### Word Frequency Distributions & Bigrams"
   ]
  },
  {
   "cell_type": "code",
   "execution_count": null,
   "metadata": {
    "colab": {},
    "colab_type": "code",
    "hidden": true,
    "id": "nJp9qwlf3UOM"
   },
   "outputs": [],
   "source": [
    "# FOR TWEET WORD CONTENT\n",
    "column = 'content_stopped'\n",
    "pattern = \"([a-zA-Z]+(?:'[a-z]+)?)\"\n",
    "\n",
    "tweets_combined = df[column]\n",
    "tweets_combined = ' '.join(tweets_combined)\n",
    "tweets_tokenized = regexp_tokenize(tweets_combined, pattern)\n",
    "\n",
    "# CREATING TEXT DICT FOR FREQUENCY DISTRIBUTIONS\n",
    "TEXT = dict()\n",
    "TEXT['tokens'] = tweets_tokenized\n",
    "TEXT['text'] = tweets_combined\n",
    "\n",
    "# Frequency Distributions with NLTK FreqDist\n",
    "from nltk import FreqDist\n",
    "freq_tweets = FreqDist(TEXT['tokens'])\n",
    "with plt.style.context('seaborn-notebook'):\n",
    "    freq_tweets.plot(25)\n",
    "    "
   ]
  },
  {
   "cell_type": "code",
   "execution_count": null,
   "metadata": {
    "colab": {},
    "colab_type": "code",
    "hidden": true,
    "id": "V6TnSmLc5g5W"
   },
   "outputs": [],
   "source": [
    "# MAKE BIGRAMS\n",
    "from nltk.collocations import BigramAssocMeasures, BigramCollocationFinder, TrigramAssocMeasures, TrigramCollocationFinder\n",
    "import mod4functions_JMI as jmi\n",
    "\n",
    "bigram_measures =BigramAssocMeasures()\n",
    "\n",
    "tweet_finder = BigramCollocationFinder.from_words(TEXT['tokens'])\n",
    "tweets_scored = tweet_finder.score_ngrams(bigram_measures.raw_freq)\n",
    "\n",
    "df_1 = quick_table(tweets_scored[:25], col_names =['Bigram','Frequency'],\n",
    "                       caption='Tweet Bigrams', display_df=False)\n",
    "df_1['Bigram'] = df_1['Bigram'].apply(lambda x: ' '.join(x))\n",
    "df_1.set_index('Bigram',inplace=True)\n",
    "df_1.columms=['Frequency']\n",
    "df_1"
   ]
  },
  {
   "cell_type": "code",
   "execution_count": null,
   "metadata": {
    "colab": {},
    "colab_type": "code",
    "hidden": true,
    "id": "BbDVZ_p33aI3"
   },
   "outputs": [],
   "source": [
    "# CREATING HASHTAG DICT\n",
    "column = 'hashtag_strings'\n",
    "tag_pattern ='(#\\w*)'\n",
    "tags_combined = df[column]\n",
    "tags_combined = ' '.join(tags_combined)\n",
    "tags_tokenized = regexp_tokenize(tags_combined, tag_pattern)\n",
    "\n",
    "TAGS = dict()\n",
    "TAGS['tokens'] = tags_tokenized\n",
    "TAGS['text'] = tags_combined\n",
    "\n",
    "# Frequency Distributions with NLTK FreqDist\n",
    "from nltk import FreqDist\n",
    "freq_tags = FreqDist(TAGS['tokens'])\n",
    "with plt.style.context('seaborn-notebook'):\n",
    "    freq_tags.plot(25)"
   ]
  },
  {
   "cell_type": "code",
   "execution_count": null,
   "metadata": {
    "colab": {},
    "colab_type": "code",
    "hidden": true,
    "id": "MoENSWp53Zus"
   },
   "outputs": [],
   "source": [
    "# CREATING METNION DICT\n",
    "column = 'mention_strings'\n",
    "at_pattern ='(@\\w*)'\n",
    "ats_combined = df[column]\n",
    "ats_combined = ' '.join(ats_combined)\n",
    "ats_tokenized = regexp_tokenize(ats_combined, at_pattern)\n",
    "\n",
    "ATS = dict()\n",
    "ATS['tokens'] = ats_tokenized\n",
    "ATS['text'] = ats_combined\n",
    "\n",
    "# Frequency Distributions with NLTK FreqDist\n",
    "from nltk import FreqDist\n",
    "freq_ats = FreqDist(ATS['tokens'])\n",
    "with plt.style.context('seaborn-notebook'):\n",
    "    freq_ats.plot(25)"
   ]
  },
  {
   "cell_type": "markdown",
   "metadata": {
    "colab_type": "text",
    "hidden": true,
    "id": "zcT2d6BM34tw"
   },
   "source": [
    "### Word Clouds"
   ]
  },
  {
   "cell_type": "code",
   "execution_count": null,
   "metadata": {
    "colab": {},
    "colab_type": "code",
    "hidden": true,
    "id": "WBl4VbWA39QT"
   },
   "outputs": [],
   "source": [
    "# Run this cell to mount your Google Drive.\n",
    "from google.colab import drive\n",
    "drive.mount('/content/drive')"
   ]
  },
  {
   "cell_type": "code",
   "execution_count": null,
   "metadata": {
    "colab": {},
    "colab_type": "code",
    "hidden": true,
    "id": "byu_8zlD36ru"
   },
   "outputs": [],
   "source": [
    "# Import mask images for shaped wordclouds\n",
    "from PIL import Image\n",
    "import numpy as np\n",
    "\n",
    "mask_folder_path = '/content/drive/My Drive/Images/fig_masks/'\n",
    "## Twitter Bird masks\n",
    "mask_f_right = np.array(Image.open(mask_folder_path+'twitter1.png'))\n",
    "mask_f_left = np.array(Image.open(mask_folder_path+'twitter1flip.png'))\n",
    "\n",
    "# Hashtag and mentions mask \n",
    "mask_at = np.array(Image.open(mask_folder_path+'Hashtags and Ats Masks-04.jpg'))\n",
    "mask_hashtag = np.array(Image.open(mask_folder_path+'Hashtags and Ats Masks-03.jpg'))"
   ]
  },
  {
   "cell_type": "code",
   "execution_count": null,
   "metadata": {
    "colab": {},
    "colab_type": "code",
    "hidden": true,
    "id": "PrwgjEAD5CH6"
   },
   "outputs": [],
   "source": [
    "# Define wordcloud plotting function\n",
    "def plot_fit_cloud(troll_cloud,label1='Most Common Words',figsize=(4,4)):\n",
    "    fig,ax = plt.subplots(nrows=1,ncols=1,figsize=figsize)\n",
    "\n",
    "    ax.imshow(troll_cloud, interpolation='gaussian')\n",
    "    # ax[0].set_aspect(1.5)\n",
    "    ax.axis(\"off\")\n",
    "    ax.set_title(label1, fontsize=20)\n",
    "    return fig, ax"
   ]
  },
  {
   "cell_type": "markdown",
   "metadata": {
    "colab_type": "text",
    "hidden": true,
    "id": "moHVtJZE5Ud5"
   },
   "source": [
    "#### Creating multiple kinds of wordclouds\n",
    "- tweet words, tweet bigrams\n",
    "- #'s, @'s\n"
   ]
  },
  {
   "cell_type": "code",
   "execution_count": null,
   "metadata": {
    "colab": {},
    "colab_type": "code",
    "hidden": true,
    "id": "F0iWyiWb5M8L"
   },
   "outputs": [],
   "source": [
    "# Instantiazting wordcloud and defining properties\n",
    "from wordcloud import WordCloud\n",
    "\n",
    "max_font_size=100\n",
    "width=300\n",
    "height=300\n",
    "max_words=100\n",
    "background_color='white'\n",
    "cloud_stopwords=[]\n",
    "# collocations=False\n",
    "\n",
    "wordcloud = WordCloud(max_font_size=max_font_size, width=width, height=height, max_words=max_words, background_color=background_color,\n",
    "                        stopwords=cloud_stopwords,collocations=False,\n",
    "                       mask=mask_f_right, contour_color='cornflowerblue', contour_width=2)\n",
    "\n",
    "wordcloud.generate(TEXT['text'])\n",
    "fig,ax = plot_fit_cloud(wordcloud)"
   ]
  },
  {
   "cell_type": "code",
   "execution_count": null,
   "metadata": {
    "colab": {},
    "colab_type": "code",
    "hidden": true,
    "id": "xssXsAiW5ZOf"
   },
   "outputs": [],
   "source": [
    "# Plotting bigram wordcloud\n",
    "wordcloud_bigram= WordCloud(max_font_size=max_font_size, width=width, height=height, max_words=max_words,\n",
    "                            background_color=background_color, collocations=True,normalize_plurals=False,\n",
    "                            stopwords=[], mask=mask_f_left, contour_color='cornflowerblue', contour_width=2)\n",
    "wordcloud_bigram.generate(TEXT['text'])\n",
    "fig,ax = plot_fit_cloud(wordcloud_bigram, 'Most Common Bigrams')"
   ]
  },
  {
   "cell_type": "code",
   "execution_count": null,
   "metadata": {
    "colab": {},
    "colab_type": "code",
    "hidden": true,
    "id": "leIwmAXh5bpr"
   },
   "outputs": [],
   "source": [
    "# Combine and Tokenize hashtags\n",
    "tags = df['hashtag_strings']\n",
    "tags = ' '.join(tags)\n",
    "tags_tokens = regexp_tokenize(tags,'(#\\w*)')\n",
    "\n",
    "\n",
    "# WordClouds for Hashtags\n",
    "max_font_size=300\n",
    "width=300\n",
    "height=300\n",
    "max_words=100\n",
    "background_color='white'\n",
    "cloud_stopwords=[]\n",
    "collocations=False\n",
    "regexp=r'(#\\w*)'\n",
    "\n",
    "\n",
    "tag_cloud = WordCloud(max_font_size=max_font_size, width=width, height=height,\n",
    "                            max_words=max_words, background_color=background_color,\n",
    "                        stopwords=cloud_stopwords,collocations=collocations, regexp=regexp,\n",
    "                            mask=mask_hashtag, contour_color='black', contour_width=2)#, include_numbers=True)\n",
    "\n",
    "\n",
    "tag_cloud.generate(' '.join(tags_tokens))\n",
    "plot_fit_cloud(tag_cloud,'Most Common Hashtags',figsize=(5,5))"
   ]
  },
  {
   "cell_type": "code",
   "execution_count": null,
   "metadata": {
    "colab": {},
    "colab_type": "code",
    "hidden": true,
    "id": "eBzbqDQ75cy1"
   },
   "outputs": [],
   "source": [
    "# Combine and Tokenize hashtags\n",
    "mentions = df['mention_strings']\n",
    "mentions = ' '.join(mentions)\n",
    "mentions_tokens = regexp_tokenize(mentions,'(@\\w*)')\n",
    "\n",
    "\n",
    "# WordClouds for Mentions\n",
    "max_font_size=300\n",
    "width=500\n",
    "height=500\n",
    "max_words=200\n",
    "background_color='white'\n",
    "cloud_stopwords=[]\n",
    "collocations=False\n",
    "regexp=r'(@\\w*)'\n",
    "\n",
    "mentions_cloud = WordCloud(\n",
    "    \n",
    "    max_font_size=max_font_size, width=width, height=height,\n",
    "    \n",
    "    max_words=max_words, background_color=background_color,\n",
    "    \n",
    "    stopwords=cloud_stopwords,collocations=collocations, regexp=regexp,\n",
    "    \n",
    "    mask=mask_at, contour_color='black', contour_width=2\n",
    ")#, include_numbers=True)\n",
    "\n",
    "\n",
    "mentions_cloud.generate(' '.join(mentions_tokens))\n",
    "\n",
    "plot_fit_cloud(mentions_cloud,\"Most Common @'s\",figsize=(3,3))"
   ]
  },
  {
   "cell_type": "markdown",
   "metadata": {
    "colab_type": "text",
    "hidden": true,
    "id": "Tnj6xKrr3ffM"
   },
   "source": [
    "### Additional Tweet Processing and Feature Extraction"
   ]
  },
  {
   "cell_type": "code",
   "execution_count": null,
   "metadata": {
    "colab": {},
    "colab_type": "code",
    "hidden": true,
    "id": "XVSPinbb2fBg"
   },
   "outputs": [],
   "source": [
    "def case_ratio(msg):\n",
    "    \"\"\"Accepts a twitter message (or used with .apply(lambda x:)).\n",
    "    Returns the ratio of capitalized characters out of the total number of characters.\"\"\"\n",
    "    import numpy as np\n",
    "    msg_length = len(msg)\n",
    "    test_upper = [1 for x in msg if x.isupper()]\n",
    "    test_lower = [1 for x in msg if x.islower()]\n",
    "    test_ratio = np.round(sum(test_upper)/msg_length,5)\n",
    "    return test_ratio\n",
    "\n",
    "# df['case_ratio'] = df['content'].apply(lambda x: case_ratio(x))\n",
    "# df.sort_values('case_ratio',ascending=False).head()"
   ]
  },
  {
   "cell_type": "markdown",
   "metadata": {
    "colab_type": "text",
    "hidden": true,
    "id": "-IvNp_Ov3mla"
   },
   "source": [
    "### Sentiment Analysis"
   ]
  },
  {
   "cell_type": "code",
   "execution_count": null,
   "metadata": {
    "colab": {},
    "colab_type": "code",
    "hidden": true,
    "id": "wkngD0CD51i_"
   },
   "outputs": [],
   "source": [
    "# Write a function to extract the group scores from the dataframe\n",
    "def get_group_sentiment_scores(df, score_col='sentiment_scores'):\n",
    "    import pandas as pd\n",
    "    series_df = df[score_col]\n",
    "    series_neg = series_df.apply(lambda x: x['neg'])\n",
    "    series_pos = series_df.apply(lambda x: x['pos'])\n",
    "    series_neu = series_df.apply(lambda x: x['neu'])\n",
    "    \n",
    "    series_neg.name='neg'\n",
    "    series_pos.name='pos'\n",
    "    series_neu.name='neu'\n",
    "    \n",
    "    df = pd.concat([df,series_neg,series_neu,series_pos],axis=1)\n",
    "    return df"
   ]
  },
  {
   "cell_type": "code",
   "execution_count": null,
   "metadata": {
    "colab": {},
    "colab_type": "code",
    "hidden": true,
    "id": "9_usSqQn3pVw"
   },
   "outputs": [],
   "source": [
    "import bs_ds as bs\n",
    "import mod4functions_JMI as jmi\n",
    "# from bs_ds.imports import *\n",
    "\n",
    "from nltk.sentiment.vader import SentimentIntensityAnalyzer\n",
    "sid = SentimentIntensityAnalyzer()\n",
    "\n",
    "source_column='content_min_clean'\n",
    "df['sentiment_scores'] = df[source_column].apply(lambda x: sid.polarity_scores(x))\n",
    "df['compound_score'] = df['sentiment_scores'].apply(lambda dict: dict['compound'])\n",
    "df['sentiment_class'] = df['compound_score'].apply(lambda score: 'pos' if score >=0 else 'neg')\n",
    "\n",
    "\n",
    "# Separate Scores into separate columns in df\n",
    "df = get_group_sentiment_scores(df)"
   ]
  },
  {
   "cell_type": "code",
   "execution_count": null,
   "metadata": {
    "colab": {},
    "colab_type": "code",
    "hidden": true,
    "id": "uNFTfMnI6Fy4"
   },
   "outputs": [],
   "source": [
    "\n",
    "print(\"RESULTS OF SENTIMENT ANALYSIS BINARY CLASSIFICATION:\\n\",'-'*60)\n",
    "# Normalized % of troll sentiment classes\n",
    "plot_sent_class = df['sentiment_class'].value_counts()\n",
    "plot_sent_class_norm = plot_sent_class/(sum(plot_sent_class))\n",
    "print('\\tNormalized Troll Classes:\\n',plot_sent_class_norm)\n",
    "\n",
    "\n",
    "with plt.style.context('seaborn-notebook'):\n",
    "    boxplot = df_sents.boxplot(column=['neg','neu','pos'],notch=True,figsize=(6,4))\n",
    "    boxplot.set_xticklabels(['Negative','Neutral','Positive']);\n",
    "    boxplot.set_title('Sentiment Scores By Word Type')\n",
    "    boxplot.set_ylabel('Sentiment Score')"
   ]
  },
  {
   "cell_type": "markdown",
   "metadata": {
    "colab_type": "text",
    "id": "3JKCfxH48q6E"
   },
   "source": [
    "# COMBINING TWITTER AMD STOCK MARKET DATAFRAMES"
   ]
  },
  {
   "cell_type": "code",
   "execution_count": null,
   "metadata": {
    "colab": {},
    "colab_type": "code",
    "id": "HNGo3NiA9Lvt"
   },
   "outputs": [],
   "source": [
    "try: twitter_df\n",
    "except NameError: twitter_df = None\n",
    "    \n",
    "if twitter_df is None:\n",
    "    print('loading twitter_df')\n",
    "    twitter_df = pd.read_csv('data/trump_twitter_archive_df.csv', encoding='utf-8',index_col='date',parse_dates=True)\n",
    "    twitter_df.drop('Unnamed: 0',axis=1,inplace=True)\n",
    "\n",
    "    # Fill in missing values before merging with stock data\n",
    "    twitter_df.fillna('', inplace=True)\n",
    "    twitter_df.sort_index(ascending=True, inplace=True)\n",
    "\n",
    "    # Check header and daterange of index\n",
    "    display(twitter_df.head(2))\n",
    "    twitter_df.index[[0,-1]]\n",
    "else:\n",
    "    print('twitter_df already exists.')"
   ]
  },
  {
   "cell_type": "markdown",
   "metadata": {},
   "source": [
    "### WRITING FUNCTION TO BIN TWEETS BY HOUR PRE-NLP (and add Freq column)"
   ]
  },
  {
   "cell_type": "code",
   "execution_count": null,
   "metadata": {},
   "outputs": [],
   "source": [
    "CBH = custom_BH_freq()\n",
    "CBH"
   ]
  },
  {
   "cell_type": "code",
   "execution_count": null,
   "metadata": {},
   "outputs": [],
   "source": [
    "twitter_df.index"
   ]
  },
  {
   "cell_type": "code",
   "execution_count": null,
   "metadata": {},
   "outputs": [],
   "source": [
    "test_twitter_df = twitter_df['2019-05-01':'2019-06-01']\n",
    "test_twitter_df.index"
   ]
  },
  {
   "cell_type": "code",
   "execution_count": null,
   "metadata": {},
   "outputs": [],
   "source": [
    "# thoughts on how to bin twitter data\n",
    "\n",
    "df=pd.DataFrame()\n",
    "df['time_index'] = test_twitter_df.index.to_list()\n",
    "df.reset_index(inplace=True)\n",
    "\n",
    "content = test_twitter_df['content_stopped'].values\n",
    "df['content_stopped'] = content#twitter_df['content_stopped']\n",
    "\n",
    "df.reset_index(inplace=True)\n",
    "df.drop(['level_0','index'], inplace=True, axis=1)\n",
    "df.head()\n",
    "print(df.dtypes)\n",
    "\n",
    "# df.reindex('time_index')\n",
    "# df=df.asfreq('S')\n",
    "# df.head()"
   ]
  },
  {
   "cell_type": "code",
   "execution_count": null,
   "metadata": {},
   "outputs": [],
   "source": [
    "df['time_index'] = pd.to_datetime(test_twitter_df.index,unit='S')#freq='S')\n",
    "df['time_index']"
   ]
  },
  {
   "cell_type": "code",
   "execution_count": null,
   "metadata": {},
   "outputs": [],
   "source": [
    "df_sec = set_timeindex_freq(test_twitter_df,freq='S')"
   ]
  },
  {
   "cell_type": "code",
   "execution_count": null,
   "metadata": {},
   "outputs": [],
   "source": [
    "# index_to_bin = df.index\n",
    "# index_to_bin"
   ]
  },
  {
   "cell_type": "code",
   "execution_count": null,
   "metadata": {},
   "outputs": [],
   "source": [
    "df.head()"
   ]
  },
  {
   "cell_type": "markdown",
   "metadata": {},
   "source": [
    "### USING ROLLBACK - PANDAS GUIDE\n",
    "- from the https://pandas.pydata.org/pandas-docs/stable/user_guide/timeseries.html#dateoffset-objects\n",
    "\n",
    "```python\n",
    "In [148]: ts = pd.Timestamp('2018-01-06 00:00:00')\n",
    "\n",
    "In [149]: ts.day_name()\n",
    "Out[149]: 'Saturday'\n",
    "\n",
    "# BusinessHour's valid offset dates are Monday through Friday\n",
    "In [150]: offset = pd.offsets.BusinessHour(start='09:00')\n",
    "\n",
    "# Bring the date to the closest offset date (Monday)\n",
    "In [151]: offset.rollforward(ts)\n",
    "Out[151]: Timestamp('2018-01-08 09:00:00')\n",
    "\n",
    "# Date is brought to the closest offset date first and then the hour is added\n",
    "In [152]: ts + offset\n",
    "Out[152]: Timestamp('2018-01-08 10:00:00')\n",
    "```"
   ]
  },
  {
   "cell_type": "code",
   "execution_count": null,
   "metadata": {},
   "outputs": [],
   "source": [
    "CBH_off = pd.offsets.CustomBusinessHour(start='9:30', end='4:30')\n",
    "CBH_off"
   ]
  },
  {
   "cell_type": "code",
   "execution_count": null,
   "metadata": {},
   "outputs": [],
   "source": [
    "df.loc[df.index.duplicated()]\n",
    "df.index"
   ]
  },
  {
   "cell_type": "code",
   "execution_count": null,
   "metadata": {},
   "outputs": [],
   "source": [
    "# index_to_bin = df.index #.round('T')\n",
    "\n",
    "df_sec = df.asfreq('S')\n",
    "index_to_bin = df_sec.index\n",
    "index_to_bin"
   ]
  },
  {
   "cell_type": "code",
   "execution_count": null,
   "metadata": {},
   "outputs": [],
   "source": [
    "CBH_off.rollforward(index_to_bin)"
   ]
  },
  {
   "cell_type": "code",
   "execution_count": null,
   "metadata": {},
   "outputs": [],
   "source": []
  },
  {
   "cell_type": "code",
   "execution_count": null,
   "metadata": {},
   "outputs": [],
   "source": [
    "index_to_bin = df.index #.round('T')\n",
    "df['index_to_bin'] = index_to_bin #.index.round('T')\n",
    "\n",
    "CBH_index = index_to_bin.as\n",
    "print(df['index_to_bin'].dtypes)\n",
    "# CBH_index = df['index_to_bin'].asfreq(CBH)\n",
    "df.head()"
   ]
  },
  {
   "cell_type": "code",
   "execution_count": null,
   "metadata": {},
   "outputs": [],
   "source": [
    "display(df.head())\n",
    "df\n"
   ]
  },
  {
   "cell_type": "code",
   "execution_count": null,
   "metadata": {},
   "outputs": [],
   "source": [
    "# twitter_df['group_bin']  = twitter_df.index_to_bin.round('H')\n",
    "# groups = twitter_df['group_bin'].unique().sort_values()"
   ]
  },
  {
   "cell_type": "code",
   "execution_count": null,
   "metadata": {},
   "outputs": [],
   "source": [
    "# twitter_df['index_to_bin'] = twitter_df.asfreq(CBH).index\n",
    "# twitter_df['group_bin']  = twitter_df.index_to_bin.round('H')\n",
    "# groups = twitter_df['group_bin'].unique().sort_values()"
   ]
  },
  {
   "cell_type": "code",
   "execution_count": null,
   "metadata": {},
   "outputs": [],
   "source": [
    "# Make a new_df for resulting output\n",
    "new_df = pd.DataFrame()\n",
    "new_df['timebins'] = groups #or make a set\n",
    "\n",
    "for group in groups:"
   ]
  },
  {
   "cell_type": "code",
   "execution_count": null,
   "metadata": {
    "colab": {},
    "colab_type": "code",
    "id": "5PTj-HIz8i1t"
   },
   "outputs": [],
   "source": [
    "# Round inde to the nearest minute\n",
    "twitter_df.index = twitter_df.index.round('T')\n",
    "\n",
    "# Make datetime index a periodindex\n",
    "twitter_df = twitter_df.to_period('T')\n",
    "\n",
    "display(twitter_df.head(2))\n",
    "twitter_df.index[[0,-1]]\n",
    "\n",
    "\n",
    "# Select only the stock periods that have corresponding tweets (post-inaugauration)\n",
    "stock_periods=stock_periods['2017-01-20':]\n",
    "\n",
    "# Confirm the endpoints of the stocks and tweets before combining\n",
    "stock_periods.index[[0,-1]], twitter_df.index[[0,-1]]\n",
    "\n",
    "# Make stock_periods a dataframe with 'price' column title\n",
    "stock_periods_df = pd.DataFrame(stock_periods,columns=['price'], copy=True)\n",
    "\n",
    "display(stock_periods_df.head(2))\n",
    "display(twitter_df.head(2))"
   ]
  },
  {
   "cell_type": "code",
   "execution_count": null,
   "metadata": {
    "colab": {},
    "colab_type": "code",
    "id": "WPwGiw2m8w5t"
   },
   "outputs": [],
   "source": [
    "df = twitter_df.merge(stock_periods_df, how='outer', on='date', sort=True)\n",
    "df[['content','price']].isna().sum()"
   ]
  },
  {
   "cell_type": "code",
   "execution_count": null,
   "metadata": {
    "colab": {},
    "colab_type": "code",
    "id": "k8EWRd5O8-kh"
   },
   "outputs": [],
   "source": [
    "# Apply forward filling for price column to give all tweets a S&P price value\n",
    "df['price'] = df['price'].fillna(method='ffill',axis=0)\n",
    "df.head()"
   ]
  },
  {
   "cell_type": "markdown",
   "metadata": {
    "colab_type": "text",
    "id": "6Z5Ac2I58QXe"
   },
   "source": [
    "# Processed Twitter Data "
   ]
  },
  {
   "cell_type": "code",
   "execution_count": null,
   "metadata": {
    "colab": {},
    "colab_type": "code",
    "id": "ltdTPiv18UiQ"
   },
   "outputs": [],
   "source": [
    "twitter_df = pd.read_csv(folder_path+'data/trump_twitter_archive_df.csv', encoding='utf-8',index_col='date',parse_dates=True)\n",
    "twitter_df.drop('Unnamed: 0',axis=1,inplace=True)\n",
    "\n",
    "# Fill in missing values before merging with stock data\n",
    "twitter_df.fillna('', inplace=True)\n",
    "twitter_df.sort_index(ascending=True, inplace=True)\n",
    "\n",
    "# Check header and daterange of index\n",
    "display(twitter_df.head(2))\n",
    "twitter_df.index[[0,-1]]"
   ]
  }
 ],
 "metadata": {
  "colab": {
   "collapsed_sections": [
    "xNf73gC9daS-",
    "eE3D-Avztybj"
   ],
   "name": "Capstone Project Outline + Analysis.ipynb",
   "provenance": [],
   "toc_visible": true,
   "version": "0.3.2"
  },
  "kernelspec": {
   "display_name": "learn-env-ext",
   "language": "python",
   "name": "learn-env-ext"
  },
  "language_info": {
   "codemirror_mode": {
    "name": "ipython",
    "version": 3
   },
   "file_extension": ".py",
   "mimetype": "text/x-python",
   "name": "python",
   "nbconvert_exporter": "python",
   "pygments_lexer": "ipython3",
   "version": "3.6.8"
  },
  "toc": {
   "base_numbering": 1,
   "nav_menu": {},
   "number_sections": false,
   "sideBar": true,
   "skip_h1_title": false,
   "title_cell": "Table of Contents",
   "title_sidebar": "Contents",
   "toc_cell": false,
   "toc_position": {
    "height": "calc(100% - 180px)",
    "left": "10px",
    "top": "150px",
    "width": "373.6px"
   },
   "toc_section_display": true,
   "toc_window_display": true
  },
  "varInspector": {
   "cols": {
    "lenName": 16,
    "lenType": 16,
    "lenVar": "25"
   },
   "kernels_config": {
    "python": {
     "delete_cmd_postfix": "",
     "delete_cmd_prefix": "del ",
     "library": "var_list.py",
     "varRefreshCmd": "print(var_dic_list())"
    },
    "r": {
     "delete_cmd_postfix": ") ",
     "delete_cmd_prefix": "rm(",
     "library": "var_list.r",
     "varRefreshCmd": "cat(var_dic_list()) "
    }
   },
   "oldHeight": 265.340454,
   "position": {
    "height": "40px",
    "left": "751.591px",
    "right": "20px",
    "top": "49px",
    "width": "607.773px"
   },
   "types_to_exclude": [
    "module",
    "function",
    "builtin_function_or_method",
    "instance",
    "_Feature"
   ],
   "varInspector_section_display": "none",
   "window_display": true
  }
 },
 "nbformat": 4,
 "nbformat_minor": 1
}
