{
 "cells": [
  {
   "cell_type": "markdown",
   "metadata": {
    "colab_type": "text",
    "id": "mHDiTjr5lm_U"
   },
   "source": [
    "# Project Overview"
   ]
  },
  {
   "cell_type": "markdown",
   "metadata": {
    "colab_type": "text",
    "id": "wofiIIk6hQtc"
   },
   "source": [
    "## PROJECT GOAL:\n",
    "\n",
    "* **Use President Trump's tweets (NLP and other features) to predict fluctuations in the stock market (using S&P 500 as index).**\n",
    "\n",
    "    \n",
    "### Data to Use:\n",
    "\n",
    "* All Donald Trump tweets from inaugaration day 2017 to today (for now) - 06/20/19\n",
    "\n",
    "    *          Extracted from http://www.trumptwitterarchive.com/\n",
    "*     Minute-resolution data for the S&P500 covering the same time period.\n",
    "\n",
    "    *         IVE S&P500 Index from - http://www.kibot.com/free_historical_data.aspx\n",
    "    \n",
    "## MAJOR REFERENCES / INSPIRATION / PRIOR WORK IN FIELD:\n",
    "\n",
    "1. **Stanford Scientific Poster Using NLP ALONE to predict if stock prices increase or decrease 5 mins after Trump tweets.**  [Poster PDF LINK](http://cs229.stanford.edu/proj2017/final-posters/5140843.pdf)\n",
    "    - [Evernote Summary Notes Link](https://www.evernote.com/l/AAoL1CyhPV1GoIzSgq59GO10x6xfEeVDo5s/)\n",
    "\n",
    "2. **TowardsDataScience Blog Plost on \"Using the latest advancements in deep learning to predict stock price movements.\"** [Blog Post link](https://towardsdatascience.com/aifortrading-2edd6fac689d)\n",
    "    - [Evernote Summary](https://www.evernote.com/l/AApvQ8Xh8b9GBLhrD0m8w4H1ih1oVM8wkEw/)\n",
    "\n",
    "\n",
    "## OUTLINE FOR DATA TO PRODUCE & MODEL FOR FINAL PROJECT:\n",
    "\n",
    "### TWITTER DATA:\n",
    "\n",
    "* [ENGINEER FEATURES] **Extract features from Trump's tweets: perform the NLP analysis to generate the features about his tweets to use in final model**\n",
    "\n",
    "    * [x] Tweet sentiment score\n",
    "    * [ ] Tweet frequency per timebin\n",
    "    * [x] upper-to-lowercase-ratio\n",
    "    * [x] retweet-count\n",
    "    * [x] favorite-count\n",
    "    \n",
    "* [PREDICTIVE MODEL] **Generate Binary Stock Market Predictions based on Trump's Tweets.**\n",
    "\n",
    "    * [ ] Create a neural network model like the Stanford guys, where my model JUST uses the content of trump's tweets with word embeddings and a binary label (-1, 0,1) for direction of stock market change at a fixed time delta (they did 5 mins, I will do 1 hour) [ See reference #1 - stanford poster]\n",
    "  \n",
    "\n",
    "\n",
    "\n",
    "### STOCK MARKET DATA (S&P 500):\n",
    "\n",
    "* [ENGINEER FEATURES] **Extract features about the stock data -calculate the technical indices for the S&P 500 discussed in his article.**  [ see reference #2 - blog post ]\n",
    "\n",
    "    * [x] 7 days moving average \n",
    "    * [x]  21 days moving average\n",
    "    * [x] exponential moving average\n",
    "    * [x] momentum\n",
    "    * [x] Bollinger bands\n",
    "    * [x] MACD\n",
    "    * (Maybe) FFT / time series decomp for trend lines\n",
    "    \n",
    "* [PREDICTIVE MODEL] **Generate stock price predictions based only historical data using....**\n",
    "\n",
    "    * [ ] an ARIMA model[?]\n",
    "    * [ ] a FB Prophet model[?] \n",
    "    * [ ] an LSTM neural network like other blog post?  [!!!] [Predicting the Stock Market Using Machine Learning and Deep Learning](https://www.evernote.com/l/AAq1azRmt2dANq_Oye-MBZQr-OU5lA5APl8/)\n",
    "    \n",
    "### FINAL MODEL - FEED ALL ABOVE FEATURES INTO:\n",
    "\n",
    "- **Plan A: NEURAL NETWORK *REGRESSION* MODEL TO PREDICT *ACTUAL S&P 500 PRICE* AT 1 HOUR-1 DAY FOLLOWING TWEETS**\n",
    "    - Final Model Target is based more on blog post's construction (ref#2), but takes output of model like ref#1\n",
    "    \n",
    "    <img src=\"https://raw.githubusercontent.com/jirvingphd/dsc-5-capstone-project-online-ds-ft-021119/master/figures/annotated_GAN_for_stock_market.jpeg\" width=1000>\n",
    "    \n",
    "- **PLAN B: NEURAL NETWORK *BINARY CLASSIFICATION*  MODEL TO PREDICT THE *DIRECTION OF CHANGE FOR S&P 500 PRICE* AT 1 HOUR - 1 DAY FOLLOWING TWEETS**\n",
    "    - Final Model Target is based on stanford poster's methods/goal. (ref #1)\n",
    "\n",
    "\n"
   ]
  },
  {
   "cell_type": "markdown",
   "metadata": {
    "colab_type": "text",
    "id": "FXUD8NkFm5r8"
   },
   "source": [
    "## DATA ANALYSIS DETAILS AND Equations/Code "
   ]
  },
  {
   "cell_type": "markdown",
   "metadata": {
    "colab_type": "text",
    "id": "s_ogprIz6TZ-"
   },
   "source": [
    "### Technical Indicators - Explanation & Equations\n"
   ]
  },
  {
   "cell_type": "markdown",
   "metadata": {
    "colab_type": "text",
    "id": "0B4Jeml3m8zQ"
   },
   "source": [
    "\n",
    "\n",
    "\n",
    "\n",
    "* 7 and 21 day moving averages \n",
    "```python\n",
    "df['ma7'] df['price'].rolling(window = 7 ).mean() #window of 7 if daily data\n",
    "df['ma21'] df['price'].rolling(window = 21).mean() #window of 21 if daily data\n",
    "```    \n",
    "* MACD(Moving Average Convergence Divergence)\n",
    "\n",
    "> Moving Average Convergence Divergence (MACD) is a trend-following momentumindicator that shows the relationship between two moving averages of a security’s price. The MACD is calculated by subtracting the 26-period Exponential Moving Average (EMA) from the 12-period EMA.\n",
    "\n",
    ">The result of that calculation is the MACD line. A nine-day EMA of the MACD, called the \"signal line,\" is then plotted on top of the MACD line, which can function as a trigger for buy and sell signals. \n",
    "\n",
    "> Traders may buy the security when the MACD crosses above its signal line and sell - or short - the security when the MACD crosses below the signal line. Moving Average Convergence Divergence (MACD) indicators can be interpreted in several ways, but the more common methods are crossovers, divergences, and rapid rises/falls.  - _[from Investopedia](https://www.investopedia.com/terms/m/macd.asp)_\n",
    "\n",
    "```python\n",
    "df['ewma26'] = pd.ewma(df['price'], span=26)\n",
    "df['ewma12'] = pd.ewma(df['price'], span=12)\n",
    "df['MACD'] = (df['12ema']-df['26ema'])\n",
    "```\n",
    "- **Exponentially weighted moving average**\n",
    "```python\n",
    "dataset['ema'] = dataset['price'].ewm(com=0.5).mean()\n",
    "```\n",
    "\n",
    "- **Bollinger bands**\n",
    "    > \"Bollinger Bands® are a popular technical indicators used by traders in all markets, including stocks, futures and currencies. There are a number of uses for Bollinger Bands®, including determining overbought and oversold levels, as a trend following tool, and monitoring for breakouts. There are also some pitfalls of the indicators. In this article, we will address all these areas.\"\n",
    "> Bollinger bands are composed of three lines. One of the more common calculations of Bollinger Bands uses a 20-day simple moving average (SMA) for the middle band. The upper band is calculated by taking the middle band and adding twice the daily standard deviation, the lower band is the same but subtracts twice the daily std. - _[from Investopedia](https://www.investopedia.com/trading/using-bollinger-bands-to-gauge-trends/)_\n",
    "\n",
    "    - Boilinger Upper Band:<br>\n",
    "    $BOLU = MA(TP, n) + m * \\sigma[TP, n ]$<br><br>\n",
    "    - Boilinger Lower Band<br>\n",
    "    $ BOLD = MA(TP,n) - m * \\sigma[TP, n ]$\n",
    "    - Where:\n",
    "        - $MA$  = moving average\n",
    "        - $TP$ (typical price) = $(High + Low+Close)/ 3$\n",
    "        - $n$ is number of days in smoothing period\n",
    "        - $m$ is the number of standard deviations\n",
    "        - $\\sigma[TP, n]$ = Standard Deviations over last $n$ periods of $TP$\n",
    "\n",
    "```python\n",
    "# Create Bollinger Bands\n",
    "dataset['20sd'] = pd.stats.moments.rolling_std(dataset['price'],20)\n",
    "dataset['upper_band'] = dataset['ma21'] + (dataset['20sd']*2)\n",
    "dataset['lower_band'] = dataset['ma21'] - (dataset['20sd']*2)\n",
    "```\n",
    "\n",
    "\n",
    "- **Momentum**\n",
    "> \"Momentum is the rate of acceleration of a security's price or volume – that is, the speed at which the price is changing. Simply put, it refers to the rate of change on price movements for a particular asset and is usually defined as a rate. In technical analysis, momentum is considered an oscillator and is used to help identify trend lines.\" - _[from Investopedia](https://www.investopedia.com/articles/technical/081501.asp)_\n",
    "\n",
    "    - $ Momentum = V - V_x$\n",
    "    - Where:\n",
    "        - $V$ = Latest Price\n",
    "        - $V_x$ = Closing Price\n",
    "        - $x$ = number of days ago\n",
    "\n",
    "```python\n",
    "# Create Momentum\n",
    "dataset['momentum'] = dataset['price']-1\n",
    "```\n",
    "\n"
   ]
  },
  {
   "cell_type": "markdown",
   "metadata": {
    "colab_type": "text",
    "id": "u5DvoInw7Pha"
   },
   "source": [
    "###  STOCK DATA INFO - S&P500"
   ]
  },
  {
   "cell_type": "markdown",
   "metadata": {
    "colab_type": "text",
    "id": "ZlLWKYf9oDOf"
   },
   "source": [
    "- Q: What is the format of your aggregate bid/ask data?\n",
    "    - **The order of the fields in our aggregate bid/ask files is: <br>Date, Time, BidOpen, BidHigh, BidLow, BidClose, AskOpen, AskHigh, AskLow, AskClose**\n",
    "\n",
    "    - The format is very similar to our standard one minute and higher interval files which are constructed by aggregating the execution price and volume. The difference here is that instead of using execution price we use \"national best bid and offer\" (NBBO) prices to get their open, high, low and close prices for any given time interval. Bids and asks in our files are from multiple markets and they represent the best prices or the highest bid and the lowest ask.\n",
    "\n",
    "    - We record best bid/ask values whenever there is trade activity. Like with our regular tick data, current best bid/ask values are recorded for every trade.\n",
    "\n",
    "    - A potential usage scenario may include using this data in your analysis to try to simulate the execution price for market orders and to estimate the potential slippage that may occur.\n",
    "\n",
    "You can download sample aggregate bid/ask data for free from the free historical data section on our Buy web page."
   ]
  },
  {
   "cell_type": "markdown",
   "metadata": {
    "colab_type": "text",
    "id": "GIu3htoroCi1"
   },
   "source": [
    "**HELPFUL RESOURCES**\n",
    "- **Dateime Guide Article:**\n",
    "    - https://medium.com/jbennetcodes/dealing-with-datetimes-like-a-pro-in-pandas-b80d3d808a7f\n",
    "- **Getting business day MINUTE resolution**\n",
    "    - Create minute index, then limit it to business times\n",
    "        - https://stackoverflow.com/questions/19373759/python-pandas-business-day-range-bdate-range-doesnt-take-1min-freq\n",
    "    - Try !pip install pandas_market_calendars too"
   ]
  },
  {
   "cell_type": "markdown",
   "metadata": {
    "colab_type": "text",
    "id": "7kjKQFXdZfYx"
   },
   "source": [
    "# DEF FUNCTIONS"
   ]
  },
  {
   "cell_type": "code",
   "execution_count": 1,
   "metadata": {},
   "outputs": [],
   "source": [
    "import pandas as pd \n",
    "import numpy as np\n",
    "import matplotlib.pyplot as plt\n",
    "\n",
    "import warnings\n",
    "warnings.filterwarnings('ignore')"
   ]
  },
  {
   "cell_type": "markdown",
   "metadata": {
    "colab_type": "text",
    "id": "BLuuWg7nE7aE"
   },
   "source": [
    "### DEF PRIOR FUNCTIONS"
   ]
  },
  {
   "cell_type": "code",
   "execution_count": 2,
   "metadata": {
    "colab": {},
    "colab_type": "code",
    "id": "cSusLRSFE6oL"
   },
   "outputs": [],
   "source": [
    "def quick_table(tuples, col_names=None, caption =None,display_df=True):\n",
    "    \"\"\"Accepts a bigram output tuple of tuples and makes captioned table.\"\"\"\n",
    "    import pandas as pd\n",
    "    from IPython.display import display\n",
    "    if col_names == None:\n",
    "    \n",
    "        df = pd.DataFrame.from_records(tuples)\n",
    "        \n",
    "    else:\n",
    "        \n",
    "        df = pd.DataFrame.from_records(tuples,columns=col_names)\n",
    "        dfs = df.style.set_caption(caption)\n",
    "        \n",
    "        if display_df == True:\n",
    "            display(dfs)\n",
    "            \n",
    "    return df\n",
    "\n",
    "def compare_word_cloud(text1,label1,text2,label2):\n",
    "    \"\"\"Compares the wordclouds from 2 sets of texts\"\"\"\n",
    "    from wordcloud import WordCloud\n",
    "    import matplotlib.pyplot as plt\n",
    "\n",
    "    wordcloud1 = WordCloud(max_font_size=80, max_words=200, background_color='white').generate(' '.join(text1))\n",
    "    wordcloud2 = WordCloud(max_font_size=80, max_words=200, background_color='white').generate(' '.join(text2))\n",
    "\n",
    "\n",
    "    fig,ax = plt.subplots(nrows=1,ncols=2,figsize=(20,15))\n",
    "    ax[0].imshow(wordcloud1, interpolation='bilinear')\n",
    "    ax[0].set_aspect(1.5)\n",
    "    ax[0].axis(\"off\")\n",
    "    ax[0].set_title(label1, fontsize=20)\n",
    "\n",
    "    ax[1].imshow(wordcloud2, interpolation='bilinear')\n",
    "    ax[1].set_aspect(1.5)\n",
    "    ax[1].axis(\"off\")\n",
    "    ax[1].set_title(label2, fontsize=20)\n",
    "\n",
    "    fig.tight_layout()\n",
    "    return fig,ax\n",
    "\n",
    "# Define get_tags_ats to accept a list of text entries and return all found tags and ats as 2 series/lists\n",
    "def get_tags_ats(text_to_search,exp_tag = r'(#\\w*)',exp_at = r'(@\\w*)', output='series',show_counts=False):\n",
    "    \"\"\"Accepts a list of text entries to search, and a regex for tags, and a regex for @'s.\n",
    "    Joins all entries in the list of text and then re.findsall() for both expressions.\n",
    "    Returns a series of found_tags and a series of found_ats.'\"\"\"\n",
    "    import re\n",
    "    import pandas as pd\n",
    "    # Create a single long joined-list of strings\n",
    "    text_to_search_combined = ' '.join(text_to_search)\n",
    "        \n",
    "    # print(len(text_to_search_combined), len(text_to_search_list))\n",
    "    found_tags = re.findall(exp_tag, text_to_search_combined)\n",
    "    found_ats = re.findall(exp_at, text_to_search_combined)\n",
    "    \n",
    "    if output.lower() == 'series':\n",
    "        found_tags = pd.Series(found_tags, name='tags')\n",
    "        found_ats = pd.Series(found_ats, name='ats')\n",
    "        \n",
    "        if show_counts==True:\n",
    "            print(f'\\t{found_tags.name}:\\n{found_tags.value_counts()} \\n\\n\\t{found_ats.name}:\\n{found_ats.value_counts()}')\n",
    "                \n",
    "    if (output.lower() != 'series') & (show_counts==True):\n",
    "        raise Exception('output must be set to \"series\" in order to show_counts')\n",
    "                       \n",
    "    return found_tags, found_ats\n",
    "\n",
    "\n",
    "def clean_text(series,is_tokens=False,return_tokens=False, urls=True, hashtags=True, mentions=True, remove_stopwords=True, verbose=False):\n",
    "    \"\"\"Accepts a series/df['column'] and tokenizes, removes urls, hasthtags, and @s using regex before tokenizing and removing stopwrods\"\"\"\n",
    "    import pandas as pd\n",
    "    import re, nltk\n",
    "    from nltk.corpus import stopwords\n",
    "    \n",
    "    series_cleaned=series.copy()\n",
    "    \n",
    "    # Remove URLS\n",
    "    if urls==True:\n",
    "        urls = re.compile(r\"(http[s]?://\\w*\\.\\w*/+\\w+)\")\n",
    "        series_cleaned = series_cleaned.apply(lambda x: urls.sub(' ', x))\n",
    "            \n",
    "        if verbose==True:\n",
    "            print('URLs removed...')\n",
    "            \n",
    "    # Remove hashtags\n",
    "    if hashtags==True:\n",
    "        hashtags = re.compile(r'(\\#\\w*)')\n",
    "        series_cleaned = series_cleaned.apply(lambda x: hashtags.sub(' ', x))\n",
    "        \n",
    "        if verbose==True:\n",
    "            print('Hashtags removed...')\n",
    "    \n",
    "    # Remove mentions\n",
    "    if mentions==True:\n",
    "        mentions = re.compile(r'(\\@\\w*)')\n",
    "        series_cleaned = series_cleaned.apply(lambda x: mentions.sub(' ',x))\n",
    "\n",
    "        if verbose==True:\n",
    "            print('Mentions removed...')\n",
    "    \n",
    "    \n",
    "    # Regexp_tokenize stopped words (to keep contractions)\n",
    "    if is_tokens==False:\n",
    "        pattern = \"([a-zA-Z]+(?:'[a-z]+)?)\"\n",
    "        series_cleaned = series_cleaned.apply(lambda x: nltk.regexp_tokenize(x,pattern))\n",
    "        if verbose==True:\n",
    "            print('Text regexp_tokenized...\\n')\n",
    "    \n",
    "    \n",
    "    # Filter Out Stopwords\n",
    "    stopwords_list = []\n",
    "    from nltk.corpus import stopwords\n",
    "    import string\n",
    "    \n",
    "    # Generate Stopwords List\n",
    "    stopwords_list = stopwords.words('english')\n",
    "    stopwords_list += list(string.punctuation)\n",
    "    stopwords_list += ['http','https','...','``','co','“','’','‘','”',\n",
    "                       'rt',\"n't\",\"''\",\"RT\",'u','s',\"'s\",'?']#,'@','#']\n",
    "    stopwords_list += [0,1,2,3,4,5,6,7,8,9]\n",
    "    stopwords_list +=['RT','rt',';']\n",
    "     \n",
    "    if remove_stopwords==True:\n",
    "        series_cleaned = series_cleaned.apply(lambda x: [w.lower() for w in x if w.lower() not in stopwords_list])\n",
    "        # for s in range(len(series_cleaned)):\n",
    "        #     text =[]\n",
    "        #     text_stopped = []\n",
    "        #     text = series_cleaned[s]\n",
    "        #     text_stopped = [x.lower() for x in text if x.lower() not in stopwords_list]\n",
    "        #     series_cleaned[s]= text_stopped\n",
    "        \n",
    "        if verbose==True:\n",
    "            print('Stopwords removed...')\n",
    "       \n",
    "    if return_tokens==False:\n",
    "        series_cleaned = series_cleaned.apply(lambda x: ' '.join(x))\n",
    "    \n",
    "    print('\\n')\n",
    "    return series_cleaned\n",
    "\n",
    "def train_test_val_split(X,y,test_size=0.20,val_size=0.1):\n",
    "    \"\"\"Performs 2 successive train_test_splits to produce a training, testing, and validation dataset\"\"\"\n",
    "    from sklearn.model_selection import train_test_split\n",
    "\n",
    "    first_split_size = test_size + val_size\n",
    "    second_split_size = val_size/(test_size + val_size)\n",
    "\n",
    "    X_train, X_test_val, y_train, y_test_val = train_test_split(X, y, test_size=first_split_size)\n",
    "\n",
    "    X_test, X_val, y_test, y_val = train_test_split(X_test_val, y_test_val, test_size=second_split_size)\n",
    "\n",
    "    return X_train, X_test, X_val, y_train, y_test, y_val\n",
    "\n",
    "\n",
    "def plot_keras_history(history):\n",
    "    \"\"\"Plots the history['acc','val','val_acc','val_loss']\"\"\"\n",
    "    import matplotlib.pyplot as plt\n",
    "    acc = history.history['acc']\n",
    "    loss = history.history['loss']\n",
    "    val_acc = history.history['val_acc']\n",
    "    val_loss = history.history['val_loss']\n",
    "    x = range(1,len(acc)+1)\n",
    "    \n",
    "    fig,ax = plt.subplots(nrows=2, ncols=1, figsize=(6,8))\n",
    "    ax[0].plot(x, acc,'b',label='Training Acc')\n",
    "    ax[0].plot(x, val_acc,'r',label='Validation Acc')\n",
    "    ax[0].legend()\n",
    "    ax[1].plot(x, loss,'b',label='Training Loss')\n",
    "    ax[1].plot(x, val_loss, 'r', label='Validation Loss')\n",
    "    ax[1].legend()\n",
    "    plt.show()\n",
    "    return fig, ax\n",
    "\n",
    "\n",
    "def plot_auc_roc_curve(y_test, y_test_pred):\n",
    "    \"\"\" Takes y_test and y_test_pred from a ML model and plots the AUC-ROC curve.\"\"\"\n",
    "    from sklearn.metrics import confusion_matrix\n",
    "    from sklearn.metrics import roc_auc_score, roc_curve\n",
    "    import matplotlib.pyplot as plt\n",
    "    auc = roc_auc_score(y_test, y_test_pred[:,1])\n",
    "\n",
    "    FPr, TPr, _  = roc_curve(y_test, y_test_pred[:,1])\n",
    "    plt.plot(FPr, TPr,label=f\"AUC for CatboostClassifier:\\n{round(auc,2)}\" )\n",
    "\n",
    "    plt.plot([0, 1], [0, 1],  lw=2,linestyle='--')\n",
    "    plt.xlim([-0.01, 1.0])\n",
    "    plt.ylim([0.0, 1.05])\n",
    "\n",
    "    plt.xlabel('False Positive Rate')\n",
    "    plt.ylabel('True Positive Rate')\n",
    "    plt.title('Receiver operating characteristic (ROC) Curve')\n",
    "    plt.legend(loc=\"lower right\")\n",
    "    plt.show()\n",
    "\n",
    "\n",
    "\n",
    "def display_random_tweets(df_tokenize,n=5 ,display_cols=['content','text_for_vectors','tokens'], group_labels=[],verbose=True):\n",
    "    \"\"\"Takes df_tokenize['text_for_vectors']\"\"\"\n",
    "    import numpy as np\n",
    "    import pandas as pd \n",
    "    from IPython.display import display\n",
    "    if len(group_labels)==0:\n",
    "\n",
    "        group_labels = display_cols\n",
    "\n",
    "    \n",
    "    random_tweets={}\n",
    "    # Randomly pick n indices to display from specified col\n",
    "    idx = np.random.choice(range(len(df_tokenize)), n)\n",
    "    \n",
    "    for i in range(len(display_cols)):\n",
    "        \n",
    "        group_name = str(group_labels[i])\n",
    "        random_tweets[group_name] ={}\n",
    "\n",
    "        # Select column data\n",
    "        df_col = df_tokenize[display_cols[i]]\n",
    "        \n",
    "\n",
    "        tweet_group = {}\n",
    "        tweet_group['index'] = idx\n",
    "        \n",
    "        chosen_tweets = df_col[idx]\n",
    "        tweet_group['text'] = chosen_tweets\n",
    "\n",
    "        # print(chosen_tweets)\n",
    "        if verbose>0:\n",
    "            with pd.option_context('max_colwidth',300):\n",
    "                df_display = pd.DataFrame.from_dict(tweet_group)\n",
    "                display(df_display.style.set_caption(f'Group: {group_name}'))\n",
    "\n",
    "\n",
    "        random_tweets[group_name] = tweet_group\n",
    "        \n",
    "        # if verbose>0:\n",
    "              \n",
    "        #     for group,data in random_tweets.items():\n",
    "        #         print(f'\\n\\nRandom Tweet for {group:>.{300}}:\\n{\"---\"*20}')\n",
    "\n",
    "        #         df = random_tweets[group]\n",
    "        #         display(df)\n",
    "    if verbose==0:\n",
    "        return random_tweets\n",
    "    else:\n",
    "        return\n",
    "\n",
    "\n",
    "def reload(mod):\n",
    "    \"\"\"Reloads the module from file.\"\"\"\n",
    "    from importlib import reload\n",
    "    import sys\n",
    "    print(f'Reloading...')\n",
    "    return  reload(mod)\n",
    "\n",
    "\n",
    "def process_df_full(df_full, raw_col='content_raw', fill_content_col='content',force=False):\n",
    "    \"\"\"Accepts df_full, which contains the raw tweets to process, the raw_col name, the column to fill.\n",
    "    If force=False, returns error if the fill_content_col already exists.\n",
    "    Processing Workflow:1) Create has_RT, starts_RT columns. 2) Creates [fill_content_col,`content_min_clean`] cols after removing 'RT @mention:' and urls.\n",
    "    3) Removes hashtags from fill_content_col and saves hashtags in new col. 4) Removes mentions from fill_content_col and saves to new column.\"\"\"\n",
    "    import re\n",
    "    import pandas as pd\n",
    "    \n",
    "    if force==False:\n",
    "        if fill_content_col in df_full.columns:\n",
    "            raise Exception(f'{fill_content_col} already exists. To overwrite, set force=True.')\n",
    "\n",
    "\n",
    "    # # create 'content_raw' column from 'content'\n",
    "    # df_full[fill_content_col] = df_full['content'].copy()\n",
    "\n",
    "\n",
    "    # Add has_RT and starts_RT columns\n",
    "    # Creating columns for tweets that `has_RT` or `starts_RT`\n",
    "    df_full['has_RT']=df_full[raw_col].str.contains('RT')\n",
    "    df_full['starts_RT']=df_full[raw_col].str.contains('^RT')\n",
    "\n",
    "\n",
    "    ## FIRST REMOVE THE RT HEADERS\n",
    "\n",
    "    # Remove `RT @Mentions` FIRST:\n",
    "    re_RT = re.compile(r'RT [@]?\\w*:')\n",
    "\n",
    "    # raw_col =  'content_raw'\n",
    "    check_content_col =raw_col\n",
    "    fill_content_col = fill_content_col\n",
    "\n",
    "    df_full['content_starts_RT'] = df_full[check_content_col].apply(lambda x: re_RT.findall(x))\n",
    "    df_full[fill_content_col] =  df_full[check_content_col].apply(lambda x: re_RT.sub(' ',x))\n",
    "\n",
    "\n",
    "    ## SECOND REMOVE URLS\n",
    "    # Remove urls with regex\n",
    "    urls = re.compile(r\"(http[s]?://\\w*\\.\\w*/+\\w+)\")\n",
    "\n",
    "    check_content_col = fill_content_col\n",
    "    fill_content_col = fill_content_col\n",
    "\n",
    "    # df_full['content_urls'] = df_full[check_content_col].apply(lambda x: urls.findall(x))\n",
    "    df_full[fill_content_col] =  df_full[check_content_col].apply(lambda x: urls.sub(' ',x))\n",
    "\n",
    "    ## SAVE THIS MINIMALLY CLEANED CONTENT AS 'content_min_clean'\n",
    "    df_full['content_min_clean'] =  df_full[fill_content_col]\n",
    "\n",
    "\n",
    "\n",
    "\n",
    "    ## REMOVE AND SAVE HASHTAGS, MENTIONS\n",
    "    # Remove and save Hashtags\n",
    "    hashtags = re.compile(r'\\#\\w*')\n",
    "\n",
    "    check_content_col = fill_content_col\n",
    "    fill_content_col = fill_content_col\n",
    "\n",
    "    df_full['content_hashtags'] =  df_full[check_content_col].apply(lambda x: hashtags.findall(x))\n",
    "    df_full[fill_content_col] =  df_full[check_content_col].apply(lambda x: hashtags.sub(' ',x))\n",
    "\n",
    "\n",
    "    # Remove and save mentions (@)'s\n",
    "    mentions = re.compile(r'\\@\\w*')\n",
    "\n",
    "    check_content_col = fill_content_col\n",
    "    fill_content_col = fill_content_col\n",
    "\n",
    "    df_full['content_mentions'] =  df_full[check_content_col].apply(lambda x: mentions.findall(x))\n",
    "    df_full[fill_content_col] =  df_full[check_content_col].apply(lambda x: mentions.sub(' ',x))\n",
    "\n",
    "    return df_full\n",
    "\n",
    "\n",
    "\n",
    "def load_orig_dataset(root_dir = 'russian-troll-tweets/', ext='.csv'):\n",
    "    \"\"\"Accepts a root_dir, finds all files that end with ext and loads into a dataframe.\"\"\"\n",
    "    import os\n",
    "    import pandas as pd\n",
    "    # root_dir = 'russian-troll-tweets/'\n",
    "    # os.listdir('russian-troll-tweets/')\n",
    "    filelist = [os.path.join(root_dir,file) for file in os.listdir(root_dir) if file.endswith(ext)]\n",
    "    print(f'Loading {len(filelist)} files into dataframe...')\n",
    "        # Vertically concatenate \n",
    "    df = pd.DataFrame()\n",
    "    for file in filelist:\n",
    "        df_new = pd.read_csv(file)\n",
    "        df = pd.concat([df,df_new], axis=0)\n",
    "    # df.info()\n",
    "\n",
    "    return df\n",
    "\n",
    "def ask_user_to_save(df, filename=None,encoding=None, ask=True, skip_saving=False, overwrite=False):\n",
    "    \"\"\"Asks user to save df as filename. If no filename specified: filename ='saved_df.csv'\n",
    "    Set ask=False to save without asking.\"\"\"\n",
    "    import os, warnings\n",
    "\n",
    "    if type(df)=='string':\n",
    "        raise Exception('First input must be the dataframe to be saved.')\n",
    "    if skip_saving==True:\n",
    "        return print(f'Since skip_loading=True, no file was save.')\n",
    "\n",
    "    if filename==None:\n",
    "        filename='saved_df.csv'\n",
    "    \n",
    "    if ask==True:\n",
    "        ans = input('Would you like to save the df to a .csv?(y/n):')\n",
    "    else:\n",
    "        ans = 'y'\n",
    "    \n",
    "    # If ans to save =='y'\n",
    "    if ans.lower()=='y':\n",
    "\n",
    "        # Check if the file already exists\n",
    "        if filename in os.listdir():\n",
    "        \n",
    "            if overwrite==False:\n",
    "                # raise Exception(f\"{filename} already exists.\")\n",
    "                return warnings.warn(f\"{filename} already exists.\")\n",
    "\n",
    "            if overwrite==True:\n",
    "                warnings.warn(f\"Overwriting {filename}.\")\n",
    "\n",
    "        df.to_csv(filename)\n",
    "        print(f'{filename} successfully saved.')\n",
    "    else:\n",
    "        print('Ok. No file was saved. ')\n",
    "        \n",
    "\n",
    "def ask_user_to_load(filename, load_as_global = True ,ask=True, skip_loading=False, index_col=0, encoding=None):\n",
    "    \"\"\"Asks user to save df as filename. If no filename specified: filename ='saved_df.csv'\n",
    "    Set ask=False to save without asking.\"\"\"\n",
    "    import os\n",
    "    import pandas as pd\n",
    "\n",
    "    \n",
    "    if skip_loading==True:\n",
    "        return print(f'Since skip_loading=True, no file was loaded.')\n",
    "        \n",
    "\n",
    "    if ask==True:\n",
    "        ans = input('Would you like to load {filename} to a datafrane?(y/n):')\n",
    "\n",
    "    else:\n",
    "        ans = 'y'\n",
    "        \n",
    "\n",
    "    # If ans to load =='y'\n",
    "    if ans.lower()=='y':\n",
    "        \n",
    "        if load_as_global == True:\n",
    "            global df_\n",
    "            df_ = pd.read_csv(filename, encoding=encoding,index_col=index_col) \n",
    "            print(f'{filename} loaded as global variable: \"df_\"')\n",
    "            pass\n",
    "        else:\n",
    "            df_ = pd.read_csv(filename, encoding=encoding,index_col=index_col) \n",
    "            return df_\n",
    "    else:\n",
    "        return print('Ok. No file was loaded.')\n",
    "        \n",
    "\n",
    "def run_all_checkpoint(skip=False):\n",
    "    ans = input('Continue running all?(y/n):')\n",
    "    if ans.lower()=='y':\n",
    "        return print('OK. Continuing to run...')\n",
    "    else:\n",
    "        raise Exception('User requested to stop running.')\n",
    "\n",
    "\n",
    "## TO CHECK FOR STRINGS IN BOTH DATASETS:\n",
    "def check_dfs_for_exp_list(df_controls, df_trolls, list_of_exp_to_check):\n",
    "    df_resample = df_trolls\n",
    "    for exp in list_of_exp_to_check:\n",
    "    #     exp = '[Pp]eggy'\n",
    "        print(f'For {exp}:')\n",
    "        print(f\"\\tControl tweets: {len(df_controls.loc[df_controls['content_min_clean'].str.contains(exp)])}\")\n",
    "        print(f\"\\tTroll tweets: {len(df_resample.loc[df_resample['content_min_clean'].str.contains(exp)])}\\n\")\n",
    "              \n",
    "# list_of_exp_to_check = ['[Pp]eggy','[Mm]exico','nasty','impeachment','[mM]ueller']\n",
    "# check_dfs_for_exp_list(df_controls, df_resample, list_of_exp_to_check=list_of_exp_to_check)\n",
    "\n",
    "\n",
    "def get_group_texts_tokens(df_small, groupby_col='troll_tweet', group_dict={0:'controls',1:'trolls'}, column='content_stopped'):\n",
    "    from nltk import regexp_tokenize\n",
    "    pattern = \"([a-zA-Z]+(?:'[a-z]+)?)\"\n",
    "    text_dict = {}\n",
    "    for k,v in group_dict.items():\n",
    "        group_text_temp = df_small.groupby(groupby_col).get_group(k)[column]\n",
    "        group_text_temp = ' '.join(group_text_temp)\n",
    "        group_tokens = regexp_tokenize(group_text_temp, pattern)\n",
    "        text_dict[v] = {}\n",
    "        text_dict[v]['tokens'] = group_tokens\n",
    "        text_dict[v]['text'] =  ' '.join(group_tokens)\n",
    "            \n",
    "    print(f\"{text_dict.keys()}:['tokens']|['text']\")\n",
    "    return text_dict\n",
    "\n",
    "\n",
    "\n",
    "def check_df_groups_for_exp(df_full, list_of_exp_to_check, check_col='content_min_clean', groupby_col='troll_tweet', group_dict={0:'Control',1:'Troll'}):      \n",
    "    \"\"\"Checks `check_col` column of input dataframe for expressions in list_of_exp_to_check and \n",
    "    counts the # present for each group, defined by the groupby_col and groupdict. \n",
    "    Returns a dataframe of counts.\"\"\"\n",
    "    \n",
    "    list_of_results = []      \n",
    "\n",
    "    header_list= ['Term']\n",
    "    [header_list.append(x) for x in group_dict.values()]\n",
    "    list_of_results.append(header_list)\n",
    "    \n",
    "    for exp in list_of_exp_to_check:\n",
    "        curr_exp_list = [exp]\n",
    "        \n",
    "        for k,v in group_dict.items():\n",
    "            df_group = df_full.groupby(groupby_col).get_group(k)\n",
    "            curr_group_count = len(df_group.loc[df_group[check_col].str.contains(exp)])\n",
    "            curr_exp_list.append(curr_group_count)\n",
    "        \n",
    "        list_of_results.append(curr_exp_list)\n",
    "        \n",
    "    df_results = bs.list2df(list_of_results, index_col='Term')\n",
    "    return df_results\n",
    "\n",
    "\n",
    "###########################################################################\n",
    "\n",
    "def plot_fit_cloud(troll_cloud,contr_cloud,label1='Troll',label2='Control'):\n",
    "    import matplotlib.pyplot as plt\n",
    "    fig,ax = plt.subplots(nrows=1,ncols=2,figsize=(18,18))\n",
    "\n",
    "    ax[0].imshow(troll_cloud, interpolation='gaussian')\n",
    "    # ax[0].set_aspect(1.5)\n",
    "    ax[0].axis(\"off\")\n",
    "    ax[0].set_title(label1, fontsize=40)\n",
    "\n",
    "    ax[1].imshow(contr_cloud, interpolation='bilinear',)\n",
    "    # ax[1].set_aspect(1.5)\n",
    "    ax[1].axis(\"off\")\n",
    "    ax[1].set_title(label2, fontsize=40)\n",
    "    plt.tight_layout()\n",
    "    return fig, ax"
   ]
  },
  {
   "cell_type": "code",
   "execution_count": 3,
   "metadata": {
    "colab": {},
    "colab_type": "code",
    "id": "C1nT-GyA9K7k"
   },
   "outputs": [],
   "source": [
    "# !pip install pandas_market_calendars\n",
    "# # Install GraphViz with apt\n",
    "# !apt-get install graphviz -y\n",
    "\n",
    "# import pandas_market_calendars as pmc"
   ]
  },
  {
   "cell_type": "markdown",
   "metadata": {
    "colab_type": "text",
    "id": "N-OwQ7yVcssI"
   },
   "source": [
    "### DEF - FILE & VAR MANAGEMENT FUNCTIONS\n"
   ]
  },
  {
   "cell_type": "code",
   "execution_count": 4,
   "metadata": {
    "colab": {},
    "colab_type": "code",
    "id": "7DermDXOhSkh"
   },
   "outputs": [],
   "source": [
    "##################### FILE & VAR MANAGEMENT FUNCTIONS #####################\n",
    "\n",
    "# def mount_google_drive(force_remount=True):\n",
    "#     from google.colab import drive\n",
    "#     print('drive_filepath=\"drive/My Drive/\"')\n",
    "#     return drive.mount('/content/drive', force_remount=force_remount)\n",
    "\n",
    "\n",
    "# def check_for_google_drive(mount_if_not=True):\n",
    "#     import os\n",
    "#     # Check if google drive is already mounted\n",
    "#     x=[]\n",
    "#     try: os.listdir('drive/My Drive/')\n",
    "#     except FileNotFoundError: x=None\n",
    "\n",
    "#     # if GDrive not mounted, mount it\n",
    "#     if x==None:\n",
    "#         print('Drive not mounted.')\n",
    "#         if mount_if_not==False:\n",
    "#             return False\n",
    "#         else:\n",
    "#             print('Mounting google drive...')\n",
    "#             return mount_google_drive()\n",
    "#     else:\n",
    "#         return True\n",
    "\n",
    "# def cd_project_folder(folder_path ='/content/drive/My Drive/Colab Notebooks/Mod 5 Project/data/'):\n",
    "#     import os\n",
    "#     return os.chdir(folder_path),print('Cur Dir:', os.getcwd())\n",
    "#     # print('Dir Contents:\\n',os.listdir())\n",
    "    \n",
    "    \n",
    "#################### GENERAL HELPER FUNCTIONS #####################\n",
    "def is_var(name):\n",
    "    x=[]\n",
    "    try: eval(name)\n",
    "    except NameError: x = None\n",
    "        \n",
    "    if x is None:\n",
    "        return False\n",
    "    else:\n",
    "        return True    "
   ]
  },
  {
   "cell_type": "code",
   "execution_count": 5,
   "metadata": {
    "colab": {
     "base_uri": "https://localhost:8080/",
     "height": 50
    },
    "colab_type": "code",
    "id": "Ytha_MADqMm0",
    "outputId": "1110a1fa-a814-4488-edd1-e5edd775d06b"
   },
   "outputs": [],
   "source": [
    "## SAVE AND LOAD STOCK MARKET MINUTE DATA\n",
    "import pandas as pd\n",
    "import numpy as np\n",
    "import matplotlib.pyplot as plt\n",
    "import matplotlib as mpl\n",
    "\n",
    "# mount_google_drive()\n",
    "\n",
    "# cd_project_folder()\n",
    "# import os \n",
    "# os.getcwd()"
   ]
  },
  {
   "cell_type": "markdown",
   "metadata": {
    "colab_type": "text",
    "id": "dKz4bVhpdPFd"
   },
   "source": [
    "### DEF TIMESERIES TESTS AND VISUALS"
   ]
  },
  {
   "cell_type": "code",
   "execution_count": 6,
   "metadata": {
    "colab": {},
    "colab_type": "code",
    "id": "W8xmTbaXt-Dj"
   },
   "outputs": [],
   "source": [
    "\n",
    "############### TIMESERIES TESTS AND VISUALS ###############\n",
    "\n",
    "def plot_time_series(stocks_df, freq=None, fill_method='ffill',figsize=(12,4)):\n",
    "    \n",
    "    df = stocks_df.copy()\n",
    "    df.fillna(method=fill_method, inplace=True)\n",
    "    df.dropna(inplace=True)\n",
    "    \n",
    "    if (df.index.freq==None) & (freq == None):\n",
    "        xlabels=f'Time'\n",
    "    \n",
    "    elif (df.index.freq==None) & (freq != None):\n",
    "        df = df.asfreq(freq)\n",
    "        df.fillna(method=fill_method, inplace=True)\n",
    "        df.dropna(inplace=True)\n",
    "        xlabels=f'Time - Frequency = {freq}'\n",
    "\n",
    "    else:\n",
    "        xlabels=f'Time - Frequency = {df.index.freq}'\n",
    "        \n",
    "    ylabels=\"Price\"\n",
    "\n",
    "    raw_plot = df.plot(figsize=figsize)\n",
    "    raw_plot.set_title('Stock Bid Closing Price ')\n",
    "    raw_plot.set_ylabel(ylabels)\n",
    "    raw_plot.set_xlabel(xlabels)\n",
    "    \n",
    "    \n"
   ]
  },
  {
   "cell_type": "markdown",
   "metadata": {
    "colab_type": "text",
    "id": "ydfKaYnic8u2"
   },
   "source": [
    "### DEF TIMEINDEX FUNCTIONS"
   ]
  },
  {
   "cell_type": "code",
   "execution_count": 7,
   "metadata": {
    "colab": {},
    "colab_type": "code",
    "id": "OD2xRcdx7Rdh"
   },
   "outputs": [],
   "source": [
    "#################### TIMEINDEX FUNCTIONS #####################\n",
    "def get_day_window_size_from_freq(dataset):#, freq='CBH'):\n",
    "    \n",
    "    if dataset.index.freq == custom_BH_freq():\n",
    "        return 7\n",
    "    \n",
    "    if dataset.index.freq=='T':\n",
    "        day_window_size = 1440\n",
    "    elif dataset.index.freq=='BH':\n",
    "        day_window_size = 8\n",
    "    elif dataset.index.freq=='CBH':\n",
    "        day_window_size = 7\n",
    "    elif dataset.index.freq=='B':\n",
    "        day_window_size=1\n",
    "    elif dataset.index.freq=='D':\n",
    "        day_window_size=1\n",
    "        \n",
    "    else:\n",
    "        raise Exception('dataset freq=None')\n",
    "        \n",
    "    return day_window_size\n",
    "    \n",
    "\n",
    "def custom_BH_freq():\n",
    "    import pandas as pd\n",
    "    CBH = pd.tseries.offsets.CustomBusinessHour(start='09:30',end='16:30')\n",
    "    return CBH\n",
    "    \n",
    "    \n",
    "def  set_timeindex_freq(ive_df, col_to_fill=None, freq='CBH',fill_method='ffill',\n",
    "                        verbose=3): #set_tz=True,\n",
    "    \n",
    "    import pandas as pd\n",
    "    import numpy as np\n",
    "    \n",
    "    \n",
    "    if verbose>1:\n",
    "        # print(f\"{'Index When:':>{10}}\\t{'Freq:':>{20}}\\t{'Index Start:':>{40}}\\t{'Index End:':>{40}}\")\n",
    "        print(f\"{'Index When:'}\\t{'Freq:'}\\t{'Index Start'}\\t\\t{'Index End:'}\")\n",
    "        print(f\"Pre-Change\\t{ive_df.index.freq}\\t{ive_df.index[0]}\\t{ive_df.index[-1]}\")\n",
    "        \n",
    "    \n",
    "    if freq=='CBH':\n",
    "        freq=custom_BH_freq()\n",
    "#         start_idx = \n",
    "        \n",
    "    # Change frequency to freq\n",
    "    ive_df = ive_df.asfreq(freq,)#'min')\n",
    "    \n",
    "    #     # Set timezone\n",
    "    #     if set_tz==True:\n",
    "    #         ive_df.tz_localize()\n",
    "    #         ive_df.index = ive_df.index.tz_convert('America/New_York')\n",
    "    \n",
    "    # Report Success / Details\n",
    "    if verbose>1:\n",
    "        print(f\"Post-Change\\t{ive_df.index.freq}\\t{ive_df.index[0]}\\t{ive_df.index[-1]}\")\n",
    "\n",
    "\n",
    "    ## FILL AND TRACK TIMEPOINTS WITH MISSING DATA    \n",
    "    \n",
    "    # Helper Function for adding column to track the datapoints that were filled\n",
    "    def check_null_times(x):\n",
    "        import numpy as np\n",
    "        if np.isnan(x):\n",
    "            return True\n",
    "        else:\n",
    "            return False\n",
    "\n",
    "    ## CREATE A COLUMN TO TRACK ROWS TO BE FILLED\n",
    "    # If col_to_fill provided, use that column to create/judge ive_df['filled_timebin'] \n",
    "    if col_to_fill!=None:\n",
    "        ive_df['filled_timebin'] = ive_df[col_to_fill].apply(lambda x: check_null_times(x))#True if ive_df.isna().any()\n",
    "        \n",
    "    # if not provided, use all columns and sum results\n",
    "    elif col_to_fill == None:\n",
    "        # Prefill fol with 0's\n",
    "        ive_df['filled_timebin']=0\n",
    "        \n",
    "        # loop through all columns and add results of check_null_times from each loop\n",
    "    for col in ive_df.columns:\n",
    "        if ive_df[col].dtypes=='float64':\n",
    "            #ive_df['filled_timebin'] = ive_df[target_col].apply(lambda x: check_null_times(x))#True if ive_df.isna().any()\n",
    "            curr_filled_timebin_col = ive_df[col].apply(lambda x: check_null_times(x))#True if ive_df.isna().any() \n",
    "\n",
    "            # add results\n",
    "            ive_df['filled_timebin'] +=  curr_filled_timebin_col\n",
    "            \n",
    "    ive_df['filled_timebin'] = ive_df['filled_timebin'] >0\n",
    "            \n",
    "    ## FILL IN NULL VALUES\n",
    "    ive_df.fillna(method=fill_method, inplace=True)\n",
    "\n",
    "    # Report # filled\n",
    "    if verbose>0:\n",
    "        check_fill = ive_df.loc[ive_df['filled_timebin']>0]\n",
    "        print(f'\\nFilled {len(check_fill==True)}# of rows using method {fill_method}')\n",
    "    \n",
    "    # Report any remaning null values\n",
    "    if verbose>0:\n",
    "        res = ive_df.isna().sum()\n",
    "        if res.any():\n",
    "            print(f'Cols with Nulls:')\n",
    "            print(res[res>0])\n",
    "        else:\n",
    "            print('No Remaining Null Values')   \n",
    "            \n",
    "    # display header\n",
    "    if verbose>2:\n",
    "        display(ive_df.head())\n",
    "    \n",
    "    return ive_df\n",
    "\n",
    "\n",
    "# Helper Function for adding column to track the datapoints that were filled\n",
    "def check_null_times(x):\n",
    "    import numpy as np\n",
    "    if np.isnan(x):\n",
    "        return True\n",
    "    else:\n",
    "        return False"
   ]
  },
  {
   "cell_type": "markdown",
   "metadata": {
    "colab_type": "text",
    "id": "xNf73gC9daS-"
   },
   "source": [
    "### DEF SEASONAL DECOMPOSITION"
   ]
  },
  {
   "cell_type": "code",
   "execution_count": 8,
   "metadata": {
    "code_folding": [],
    "colab": {},
    "colab_type": "code",
    "id": "8uj8wd7Y5CJG"
   },
   "outputs": [],
   "source": [
    "######## SEASONAL DECOMPOSITION    \n",
    "def plot_decomposition(TS, decomposition, figsize=(12,8),window_used=None):\n",
    "    \"\"\" Plot the original data and output decomposed components\"\"\"\n",
    "    \n",
    "    # Gather the trend, seasonality and noise of decomposed object\n",
    "    trend = decomposition.trend\n",
    "    seasonal = decomposition.seasonal\n",
    "    residual = decomposition.resid\n",
    "\n",
    "    fontdict_axlabels = {'fontsize':12}#,'fontweight':'bold'}\n",
    "    \n",
    "    # Plot gathered statistics\n",
    "    fig, ax = plt.subplots(nrows=4, ncols=1,figsize=figsize)\n",
    "    \n",
    "    ylabel = 'Original'\n",
    "    ax[0].plot(np.log(TS), color=\"blue\")\n",
    "    ax[0].set_ylabel(ylabel, fontdict=fontdict_axlabels)\n",
    "    \n",
    "    ylabel = label='Trend'\n",
    "    ax[1].plot(trend, color=\"blue\")\n",
    "    ax[1].set_ylabel(ylabel, fontdict=fontdict_axlabels)\n",
    "    \n",
    "    ylabel='Seasonality'\n",
    "    ax[2].plot(seasonal, color=\"blue\")\n",
    "    ax[2].set_ylabel(ylabel, fontdict=fontdict_axlabels)\n",
    "    \n",
    "    ylabel='Residuals'\n",
    "    ax[3].plot(residual, color=\"blue\")\n",
    "    ax[3].set_ylabel(ylabel, fontdict=fontdict_axlabels)\n",
    "    ax[3].set_xlabel('Time', fontdict=fontdict_axlabels)\n",
    "    \n",
    "    # Add title with window \n",
    "    if window_used == None:\n",
    "        plt.suptitle('Seasonal Decomposition', y=1.02)\n",
    "    else:\n",
    "        plt.suptitle(f'Seasonal Decomposition - Window={window_used}', y=1.02)\n",
    "    \n",
    "    # Adjust aesthetics\n",
    "    plt.tight_layout()\n",
    "    \n",
    "    return ax\n",
    "    \n",
    "    \n",
    "def seasonal_decompose_and_plot(ive_df,col='BidClose',freq='H',\n",
    "                          fill_method='ffill',window=144,\n",
    "                         model='multiplicative', two_sided=False,\n",
    "                               plot_components=True):##WIP:\n",
    "    \"\"\"Perform seasonal_decompose from statsmodels.tsa.seasonal.\n",
    "    Plot Output Decomposed Components\"\"\"\n",
    "    import pandas as pd\n",
    "    import numpy as np\n",
    "    from statsmodels.tsa.seasonal import seasonal_decompose\n",
    "\n",
    "\n",
    "    # TS = ive_df['BidClose'].asfreq('BH')\n",
    "    TS = pd.DataFrame(ive_df[col])\n",
    "    TS = TS.asfreq(freq)\n",
    "    TS[TS==0]=np.nan\n",
    "    TS.fillna(method='ffill',inplace=True)\n",
    "\n",
    "    # Perform decomposition\n",
    "    decomposition = seasonal_decompose(np.log(TS),freq=window, model=model, two_sided=two_sided)\n",
    "    \n",
    "    if plot_components==True:\n",
    "        ax = plot_decomposition(TS, decomposition, window_used=window)\n",
    "    \n",
    "    return decomposition\n",
    "\n",
    "\n",
    "\n",
    "def stationarity_check(df, col='BidClose',freq=None, day_window_size='infer',\n",
    "                       days_in_rolling_window=5):\n",
    "    \"\"\"From learn.co lesson: use ADFuller Test for Stationary and Plot\"\"\"\n",
    "    \n",
    "    import matplotlib.pyplot as plt\n",
    "    TS = df[col].copy()\n",
    "    \n",
    "    if freq==None:\n",
    "        freq=df.index.freq\n",
    "        \n",
    "    else:        \n",
    "        TS = TS.asfreq(freq)\n",
    "        TS.fillna(method='ffill',inplace=True)\n",
    "        TS.dropna(inplace=True)\n",
    "    \n",
    "    \n",
    "    # Import adfuller\n",
    "    from statsmodels.tsa.stattools import adfuller\n",
    "    import pandas as pd\n",
    "    import numpy as np\n",
    "    \n",
    "    # Calculate rolling statistics\n",
    "    if day_window_size=='infer':\n",
    "        day_window_size = get_day_window_size_from_freq(TS)\n",
    "        \n",
    "    window = day_window_size*days_in_rolling_window\n",
    "    rolmean = TS.rolling(window = window, center = False).mean()\n",
    "    rolstd = TS.rolling(window = window, center = False).std()\n",
    "    \n",
    "    # Perform the Dickey Fuller Test\n",
    "    dftest = adfuller(TS) # change the passengers column as required \n",
    "    \n",
    "    #Plot rolling statistics:\n",
    "    fig, ax = plt.subplots(nrows=2, ncols=1, figsize=(8,4))\n",
    "    ax[0].set_title('Rolling Mean & Standard Deviation')\n",
    "\n",
    "    ax[0].plot(TS, color='blue',label='Original')\n",
    "    ax[0].plot(rolmean, color='red', label='Rolling Mean',alpha =0.6)\n",
    "    ax[1].plot(rolstd, color='black', label = 'Rolling Std')\n",
    "    ax[0].legend()\n",
    "    ax[1].legend()\n",
    "#     plt.show(block=False)\n",
    "    plt.tight_layout()\n",
    "    \n",
    "    # Print Dickey-Fuller test results\n",
    "    print ('Results of Dickey-Fuller Test:')\n",
    "    print('\\tIf p<.05 then timeseries IS stationary.')\n",
    "\n",
    "    dfoutput = pd.Series(dftest[0:4], index=['Test Statistic','p-value','#Lags Used','Number of Observations Used'])\n",
    "    for key,value in dftest[4].items():\n",
    "        dfoutput['Critical Value (%s)'%key] = value\n",
    "    print (dfoutput)\n",
    "    \n",
    "    return None"
   ]
  },
  {
   "cell_type": "markdown",
   "metadata": {
    "colab_type": "text",
    "id": "2KxjZKQSOdsV"
   },
   "source": [
    "### def get_technical_indicators & plot_technical_indicators"
   ]
  },
  {
   "cell_type": "code",
   "execution_count": 9,
   "metadata": {
    "colab": {},
    "colab_type": "code",
    "id": "al9rjon-SWFg"
   },
   "outputs": [],
   "source": [
    "def get_technical_indicators(dataset,make_price_from='BidClose'):\n",
    "    \n",
    "\n",
    "    dataset['price'] = dataset[make_price_from].copy()\n",
    "    if dataset.index.freq == custom_BH_freq():\n",
    "        days = get_day_window_size_from_freq(dataset)#,freq='CBH')\n",
    "    else:\n",
    "        days = get_day_window_size_from_freq(dataset)\n",
    "        \n",
    "    # Create 7 and 21 days Moving Average\n",
    "    dataset['ma7'] = dataset['price'].rolling(window=7*days).mean()\n",
    "    dataset['ma21'] = dataset['price'].rolling(window=21*days).mean()\n",
    "    \n",
    "    # Create MACD\n",
    "    dataset['26ema'] = dataset['price'].ewm(span=26*days).mean()\n",
    "#     dataset['12ema'] = pd.ewma(dataset['price'], span=12)\n",
    "    dataset['12ema'] = dataset['price'].ewm(span=12*days).mean()\n",
    "\n",
    "    dataset['MACD'] = (dataset['12ema']-dataset['26ema'])\n",
    "\n",
    "    # Create Bollinger Bands\n",
    "#     dataset['20sd'] = pd.stats.moments.rolling_std(dataset['price'],20)\n",
    "    dataset['20sd'] = dataset['price'].rolling(20*days).std()\n",
    "    dataset['upper_band'] = dataset['ma21'] + (dataset['20sd']*2)\n",
    "    dataset['lower_band'] = dataset['ma21'] - (dataset['20sd']*2)\n",
    "    \n",
    "    # Create Exponential moving average\n",
    "    dataset['ema'] = dataset['price'].ewm(com=0.5).mean()\n",
    "    \n",
    "    # Create Momentum\n",
    "    dataset['momentum'] = dataset['price']-days*1\n",
    "    \n",
    "    return dataset\n"
   ]
  },
  {
   "cell_type": "code",
   "execution_count": 10,
   "metadata": {
    "colab": {
     "base_uri": "https://localhost:8080/",
     "height": 491
    },
    "colab_type": "code",
    "id": "hdp5MwIrSnnn",
    "outputId": "e54172ff-dc34-447b-d766-7990cb35f2bf",
    "scrolled": false
   },
   "outputs": [],
   "source": [
    "def plot_technical_indicators(dataset, last_days=90):\n",
    "   \n",
    "    days = get_day_window_size_from_freq(dataset)\n",
    "    \n",
    "    fig, ax = plt.subplots(nrows=2, ncols=1,figsize=(10, 6), dpi=100)\n",
    "#     shape_0 = dataset.shape[0]\n",
    "#     xmacd_ = shape_0-(days*last_days)\n",
    "    \n",
    "    dataset = dataset.iloc[-(days*last_days):, :]\n",
    "    x_ = range(3, dataset.shape[0])\n",
    "    x_ =list(dataset.index)\n",
    "    \n",
    "    # Plot first subplot\n",
    "    ax[0].plot(dataset['ma7'],label='MA 7', color='g',linestyle='--')\n",
    "    ax[0].plot(dataset['price'],label='Closing Price', color='b')\n",
    "    ax[0].plot(dataset['ma21'],label='MA 21', color='r',linestyle='--')\n",
    "    ax[0].plot(dataset['upper_band'],label='Upper Band', color='c')\n",
    "    ax[0].plot(dataset['lower_band'],label='Lower Band', color='c')\n",
    "    ax[0].fill_between(x_, dataset['lower_band'], dataset['upper_band'], alpha=0.35)\n",
    "    ax[0].set_title('Technical indicators for Goldman Sachs - last {} days.'.format(last_days))\n",
    "    ax[0].set_ylabel('USD')\n",
    "    ax[0].legend()\n",
    "\n",
    "#     shape_0 = dataset.shape[0]\n",
    "#     xmacd_ = shape_0-(days*last_days)\n",
    "#     # Plot second subplot\n",
    "#     ax[1].set_title('MACD')\n",
    "#     ax[1].plot(dataset['MACD'],label='MACD', linestyle='-.')\n",
    "#     ax[1].hlines(15, xmacd_, shape_0, colors='g', linestyles='--')\n",
    "#     ax[1].hlines(-15, xmacd_, shape_0, colors='g', linestyles='--')\n",
    "#     ax[1].plot(dataset['momentum'],label='Momentum', color='b',linestyle='-')\n",
    "\n",
    "#     ax[1].legend()\n",
    "    plt.delaxes(ax[1])\n",
    "    plt.show()\n",
    "    \n",
    "# plot_technical_indicators(stock_df)#.filter(regex='Bid'))  \n"
   ]
  },
  {
   "cell_type": "markdown",
   "metadata": {},
   "source": [
    "### def train_test_split_by_last_days"
   ]
  },
  {
   "cell_type": "code",
   "execution_count": 11,
   "metadata": {},
   "outputs": [],
   "source": [
    "def train_test_split_by_last_days(stock_df, periods_per_day=7,num_test_days = 90, num_train_days=180,verbose=1, plot=True):\n",
    "    \"\"\"Takes the last num_test_days of the time index to use as testing data, and take shte num_Trian_days prior to that date\n",
    "    as the training data.\"\"\"\n",
    "    \n",
    "    # DETERMINING DAY TO USE TO SPLIT DATA INTO TRAIN AND TEST\n",
    "    day_freq = periods_per_day\n",
    "    start_train_day = stock_df.index[-1] - num_train_days*day_freq\n",
    "    last_day = stock_df.index[-1] - num_test_days*day_freq\n",
    "    \n",
    "    train_data = stock_df.loc[start_train_day:last_day]#,'price']\n",
    "    test_data = stock_df.loc[last_day:]#,'price']\n",
    "    \n",
    "    if verbose>0:\n",
    "        print(f'Data split on index:\\t{last_day}.')\n",
    "\n",
    "    if verbose>1:\n",
    "        print(f'Train Data Date Range:\\t{start_train_day} \\t {last_day}.')\n",
    "        print(f'Test Data Date Range:\\t{last_day} \\t {stock_df.index[-1]}.')\n",
    "        print(f'\\ttrain_data.shape:\\t{train_data.shape}, test_data.shape:{test_data.shape}')\n",
    "        \n",
    "    if verbose>1:\n",
    "        display(train_data.head(3).style.set_caption('Training Data'))\n",
    "        display(test_data.head(3).style.set_caption('Test Data'))\n",
    "\n",
    "                \n",
    "    if plot==True:\n",
    "        if 'price' in stock_df.columns:\n",
    "            plot_col ='price'\n",
    "        elif 'price_labels' in stock_df.columns:\n",
    "            plot_col = 'price_labels'\n",
    "        \n",
    "        train_data[plot_col].plot(label='Training')\n",
    "        test_data[plot_col].plot(label='Test')\n",
    "        plt.title('Training and Test Data for S&P500')\n",
    "        plt.ylabel('Price')\n",
    "        plt.xlabel('Trading Date/Hour')\n",
    "        plt.legend();\n",
    "    \n",
    "    return train_data, test_data\n",
    "\n",
    "# train_data, test_data = train_test_split_by_last_days(stock_df)"
   ]
  },
  {
   "cell_type": "markdown",
   "metadata": {
    "colab_type": "text",
    "id": "I8bJUtYqaCh_"
   },
   "source": [
    "# LOAD RAW DATASET"
   ]
  },
  {
   "cell_type": "code",
   "execution_count": 12,
   "metadata": {},
   "outputs": [],
   "source": [
    "# pause"
   ]
  },
  {
   "cell_type": "markdown",
   "metadata": {
    "colab_type": "text",
    "id": "HfbLM0yXdU1Q"
   },
   "source": [
    "## def load_raw_stock_data_from_txt"
   ]
  },
  {
   "cell_type": "code",
   "execution_count": 13,
   "metadata": {
    "code_folding": [],
    "colab": {},
    "colab_type": "code",
    "id": "Jt3Guu3KuEq7"
   },
   "outputs": [],
   "source": [
    "##################### DATASET LOADING FUNCTIONS #####################   \n",
    "def load_raw_stock_data_from_txt(filename='IVE_bidask1min.txt', \n",
    "                               folderpath='data/',\n",
    "                               start_index = '2017-01-23',\n",
    "                                 clean=False,fill_or_drop_null='drop',fill_method='ffill',\n",
    "                                 freq='CBH',verbose=2):\n",
    "    import pandas as pd\n",
    "    \n",
    "    # Load in the text file and set headers\n",
    "    fullfilename= folderpath+filename\n",
    "    headers = ['Date','Time','BidOpen','BidHigh','BidLow','BidClose','AskOpen','AskHigh','AskLow','AskClose']\n",
    "    stock_df = pd.read_csv(fullfilename, names=headers,parse_dates=True)\n",
    "    \n",
    "    # Create datetime index\n",
    "    date_time_index = stock_df['Date']+' '+stock_df['Time']\n",
    "    date_time_index = pd.to_datetime(date_time_index)\n",
    "    stock_df.index=date_time_index\n",
    "    \n",
    "    # Select only the days after start_index\n",
    "    stock_df = stock_df[start_index:]\n",
    "    \n",
    "    # Remove 0's from BidClose\n",
    "    if clean==True:\n",
    "        \n",
    "        stock_df.loc[stock_df['BidClose']==0] = np.nan\n",
    "        num_null = stock_df['BidClose'].isna().sum()\n",
    "        print(f'{num_null} null values to address.')\n",
    "        \n",
    "        if fill_or_drop_null=='drop':\n",
    "            print(\"Since fill_or_drop_null=drop, dropping null values.\")\n",
    "            stock_df.dropna(subset=['BidClose'],axis=0, inplace=True)\n",
    "        elif fill_or_drop_null=='fill':\n",
    "            print(f\"Since fill_or_drop_null=fill, using fill_method={fill_method} to fill.\")\n",
    "\n",
    "            stock_df['BidClose'].fillna(method=fill_method, inplace=True)\n",
    "        \n",
    "        if verbose>0:\n",
    "            print(f\"Number of 0 values:\\n{len(stock_df.loc[stock_df['BidClose']==0])}\")\n",
    "            print(f\"Filling 0 values using method = {fill_method}\")\n",
    "            \n",
    "\n",
    "\n",
    "                  \n",
    "    # call set_timeindex_freq to specify proper frequency\n",
    "    if freq!=None:\n",
    "        # Set the time index .\n",
    "        stock_df = set_timeindex_freq(stock_df, freq=freq, fill_method = fill_method, verbose=verbose)\n",
    "                  \n",
    "    # Display feedback\n",
    "    if verbose>0:\n",
    "        display(stock_df.head())\n",
    "    if verbose>1:\n",
    "        print(stock_df.index)\n",
    "\n",
    "    return stock_df\n",
    "\n",
    "\n",
    "\n",
    "# def load_stock_df_from_csv(filename='ive_sp500_min_data_match_twitter_ts.csv',\n",
    "    #                            folderpath='data/',\n",
    "    #                           start_index = '2017-01-23', clean=False,freq='CBH',\n",
    "    #                            fill_method='ffill',verbose=2):\n",
    "    #     import os\n",
    "    #     import pandas as pd\n",
    "\n",
    "    #     #         check_for_google_drive()\n",
    "\n",
    "    #     # Check if user provided folderpath to append to filename\n",
    "    #     if len(folderpath)>0:\n",
    "    #         fullfilename = folderpath+filename\n",
    "    #     else:\n",
    "    #         fullfilename=filename\n",
    "\n",
    "    #     # load in csv by fullfilename\n",
    "    #     stock_df = pd.read_csv(fullfilename,index_col=0, parse_dates=True)\n",
    "    #     stock_df = stock_df[start_index:]\n",
    "    # #     stock_df = set_timeindex_freq(stock_df,['BidClose'],freq=freq, fill_method=fill_method)\n",
    "\n",
    "    #     if clean==True:\n",
    "\n",
    "    #         if verbose>0:\n",
    "    #             print(f\"Number of 0 values:\\n{len(stock_df.loc[stock_df['BidClose']==0])}\")\n",
    "    #             print(f\"Filling 0 values using method = {fill_method}\")\n",
    "\n",
    "    #         stock_df.loc[stock_df['BidClose']==0] = np.nan\n",
    "    #         stock_df['BidClose'].fillna(method=fill_method, inplace=True)\n",
    "\n",
    "    #     if freq!=None:\n",
    "    #         # Set the time index .\n",
    "    #         stock_df = set_timeindex_freq(stock_df, freq=freq, fill_method = fill_method, verbose=verbose)\n",
    "\n",
    "\n",
    "    #     # Display info depending on verbose level\n",
    "    #     if verbose>0:\n",
    "    #         display(stock_df.head())\n",
    "\n",
    "    #     if verbose>1:\n",
    "    #         print(stock_df.index)\n",
    "\n",
    "    #     return stock_df   "
   ]
  },
  {
   "cell_type": "code",
   "execution_count": 14,
   "metadata": {},
   "outputs": [],
   "source": [
    "# pause"
   ]
  },
  {
   "cell_type": "code",
   "execution_count": 15,
   "metadata": {},
   "outputs": [
    {
     "name": "stdout",
     "output_type": "stream",
     "text": [
      "10 null values to address.\n",
      "Since fill_or_drop_null=drop, dropping null values.\n",
      "Number of 0 values:\n",
      "0\n",
      "Filling 0 values using method = ffill\n",
      "\n",
      "Filled 520# of rows using method ffill\n",
      "No Remaining Null Values\n"
     ]
    },
    {
     "data": {
      "text/html": [
       "<div>\n",
       "<style scoped>\n",
       "    .dataframe tbody tr th:only-of-type {\n",
       "        vertical-align: middle;\n",
       "    }\n",
       "\n",
       "    .dataframe tbody tr th {\n",
       "        vertical-align: top;\n",
       "    }\n",
       "\n",
       "    .dataframe thead th {\n",
       "        text-align: right;\n",
       "    }\n",
       "</style>\n",
       "<table border=\"1\" class=\"dataframe\">\n",
       "  <thead>\n",
       "    <tr style=\"text-align: right;\">\n",
       "      <th></th>\n",
       "      <th>Date</th>\n",
       "      <th>Time</th>\n",
       "      <th>BidOpen</th>\n",
       "      <th>BidHigh</th>\n",
       "      <th>BidLow</th>\n",
       "      <th>BidClose</th>\n",
       "      <th>AskOpen</th>\n",
       "      <th>AskHigh</th>\n",
       "      <th>AskLow</th>\n",
       "      <th>AskClose</th>\n",
       "      <th>filled_timebin</th>\n",
       "    </tr>\n",
       "  </thead>\n",
       "  <tbody>\n",
       "    <tr>\n",
       "      <th>2017-01-23 09:30:00</th>\n",
       "      <td>01/23/2017</td>\n",
       "      <td>09:30</td>\n",
       "      <td>96.15</td>\n",
       "      <td>96.23</td>\n",
       "      <td>96.15</td>\n",
       "      <td>96.23</td>\n",
       "      <td>96.36</td>\n",
       "      <td>96.36</td>\n",
       "      <td>96.30</td>\n",
       "      <td>96.30</td>\n",
       "      <td>False</td>\n",
       "    </tr>\n",
       "    <tr>\n",
       "      <th>2017-01-23 10:30:00</th>\n",
       "      <td>01/23/2017</td>\n",
       "      <td>10:30</td>\n",
       "      <td>95.98</td>\n",
       "      <td>96.00</td>\n",
       "      <td>95.98</td>\n",
       "      <td>96.00</td>\n",
       "      <td>95.99</td>\n",
       "      <td>96.01</td>\n",
       "      <td>95.99</td>\n",
       "      <td>96.01</td>\n",
       "      <td>False</td>\n",
       "    </tr>\n",
       "    <tr>\n",
       "      <th>2017-01-23 11:30:00</th>\n",
       "      <td>01/23/2017</td>\n",
       "      <td>11:30</td>\n",
       "      <td>95.91</td>\n",
       "      <td>95.95</td>\n",
       "      <td>95.91</td>\n",
       "      <td>95.94</td>\n",
       "      <td>95.92</td>\n",
       "      <td>95.96</td>\n",
       "      <td>95.92</td>\n",
       "      <td>95.95</td>\n",
       "      <td>False</td>\n",
       "    </tr>\n",
       "    <tr>\n",
       "      <th>2017-01-23 12:30:00</th>\n",
       "      <td>01/23/2017</td>\n",
       "      <td>12:30</td>\n",
       "      <td>95.84</td>\n",
       "      <td>95.84</td>\n",
       "      <td>95.84</td>\n",
       "      <td>95.84</td>\n",
       "      <td>95.85</td>\n",
       "      <td>95.85</td>\n",
       "      <td>95.85</td>\n",
       "      <td>95.85</td>\n",
       "      <td>False</td>\n",
       "    </tr>\n",
       "    <tr>\n",
       "      <th>2017-01-23 13:30:00</th>\n",
       "      <td>01/23/2017</td>\n",
       "      <td>13:30</td>\n",
       "      <td>95.88</td>\n",
       "      <td>95.88</td>\n",
       "      <td>95.88</td>\n",
       "      <td>95.88</td>\n",
       "      <td>95.89</td>\n",
       "      <td>95.89</td>\n",
       "      <td>95.89</td>\n",
       "      <td>95.89</td>\n",
       "      <td>False</td>\n",
       "    </tr>\n",
       "  </tbody>\n",
       "</table>\n",
       "</div>"
      ],
      "text/plain": [
       "                           Date   Time  BidOpen  BidHigh  BidLow  BidClose  \\\n",
       "2017-01-23 09:30:00  01/23/2017  09:30    96.15    96.23   96.15     96.23   \n",
       "2017-01-23 10:30:00  01/23/2017  10:30    95.98    96.00   95.98     96.00   \n",
       "2017-01-23 11:30:00  01/23/2017  11:30    95.91    95.95   95.91     95.94   \n",
       "2017-01-23 12:30:00  01/23/2017  12:30    95.84    95.84   95.84     95.84   \n",
       "2017-01-23 13:30:00  01/23/2017  13:30    95.88    95.88   95.88     95.88   \n",
       "\n",
       "                     AskOpen  AskHigh  AskLow  AskClose  filled_timebin  \n",
       "2017-01-23 09:30:00    96.36    96.36   96.30     96.30           False  \n",
       "2017-01-23 10:30:00    95.99    96.01   95.99     96.01           False  \n",
       "2017-01-23 11:30:00    95.92    95.96   95.92     95.95           False  \n",
       "2017-01-23 12:30:00    95.85    95.85   95.85     95.85           False  \n",
       "2017-01-23 13:30:00    95.89    95.89   95.89     95.89           False  "
      ]
     },
     "metadata": {},
     "output_type": "display_data"
    },
    {
     "data": {
      "image/png": "[encoded data removed]",
      "text/plain": [
       "<Figure size 864x288 with 1 Axes>"
      ]
     },
     "metadata": {
      "needs_background": "light"
     },
     "output_type": "display_data"
    }
   ],
   "source": [
    "stock_df = load_raw_stock_data_from_txt(filename=\"IVE_bidask1min.txt\", start_index='2017-01-23',\n",
    "                                        clean=True,fill_or_drop_null='drop', freq='CBH',verbose=1)\n",
    "plot_time_series(stock_df['BidClose'])"
   ]
  },
  {
   "cell_type": "code",
   "execution_count": 16,
   "metadata": {},
   "outputs": [
    {
     "name": "stdout",
     "output_type": "stream",
     "text": [
      "Index(['Date', 'Time', 'BidOpen', 'BidHigh', 'BidLow', 'BidClose', 'AskOpen',\n",
      "       'AskHigh', 'AskLow', 'AskClose', 'filled_timebin', 'price', 'ma7',\n",
      "       'ma21', '26ema', '12ema', 'MACD', '20sd', 'upper_band', 'lower_band',\n",
      "       'ema', 'momentum'],\n",
      "      dtype='object')\n",
      "Date                0\n",
      "Time                0\n",
      "BidOpen             0\n",
      "BidHigh             0\n",
      "BidLow              0\n",
      "BidClose            0\n",
      "AskOpen             0\n",
      "AskHigh             0\n",
      "AskLow              0\n",
      "AskClose            0\n",
      "filled_timebin      0\n",
      "price               0\n",
      "ma7                48\n",
      "ma21              146\n",
      "26ema               0\n",
      "12ema               0\n",
      "MACD                0\n",
      "20sd              139\n",
      "upper_band        146\n",
      "lower_band        146\n",
      "ema                 0\n",
      "momentum            0\n",
      "dtype: int64\n"
     ]
    },
    {
     "data": {
      "text/html": [
       "<div>\n",
       "<style scoped>\n",
       "    .dataframe tbody tr th:only-of-type {\n",
       "        vertical-align: middle;\n",
       "    }\n",
       "\n",
       "    .dataframe tbody tr th {\n",
       "        vertical-align: top;\n",
       "    }\n",
       "\n",
       "    .dataframe thead th {\n",
       "        text-align: right;\n",
       "    }\n",
       "</style>\n",
       "<table border=\"1\" class=\"dataframe\">\n",
       "  <thead>\n",
       "    <tr style=\"text-align: right;\">\n",
       "      <th></th>\n",
       "      <th>Date</th>\n",
       "      <th>Time</th>\n",
       "      <th>BidOpen</th>\n",
       "      <th>BidHigh</th>\n",
       "      <th>BidLow</th>\n",
       "      <th>BidClose</th>\n",
       "      <th>AskOpen</th>\n",
       "      <th>AskHigh</th>\n",
       "      <th>AskLow</th>\n",
       "      <th>AskClose</th>\n",
       "      <th>...</th>\n",
       "      <th>ma7</th>\n",
       "      <th>ma21</th>\n",
       "      <th>26ema</th>\n",
       "      <th>12ema</th>\n",
       "      <th>MACD</th>\n",
       "      <th>20sd</th>\n",
       "      <th>upper_band</th>\n",
       "      <th>lower_band</th>\n",
       "      <th>ema</th>\n",
       "      <th>momentum</th>\n",
       "    </tr>\n",
       "  </thead>\n",
       "  <tbody>\n",
       "    <tr>\n",
       "      <th>2017-01-23 09:30:00</th>\n",
       "      <td>01/23/2017</td>\n",
       "      <td>09:30</td>\n",
       "      <td>96.15</td>\n",
       "      <td>96.23</td>\n",
       "      <td>96.15</td>\n",
       "      <td>96.23</td>\n",
       "      <td>96.36</td>\n",
       "      <td>96.36</td>\n",
       "      <td>96.30</td>\n",
       "      <td>96.30</td>\n",
       "      <td>...</td>\n",
       "      <td>NaN</td>\n",
       "      <td>NaN</td>\n",
       "      <td>96.230000</td>\n",
       "      <td>96.230000</td>\n",
       "      <td>0.000000</td>\n",
       "      <td>NaN</td>\n",
       "      <td>NaN</td>\n",
       "      <td>NaN</td>\n",
       "      <td>96.230000</td>\n",
       "      <td>89.23</td>\n",
       "    </tr>\n",
       "    <tr>\n",
       "      <th>2017-01-23 10:30:00</th>\n",
       "      <td>01/23/2017</td>\n",
       "      <td>10:30</td>\n",
       "      <td>95.98</td>\n",
       "      <td>96.00</td>\n",
       "      <td>95.98</td>\n",
       "      <td>96.00</td>\n",
       "      <td>95.99</td>\n",
       "      <td>96.01</td>\n",
       "      <td>95.99</td>\n",
       "      <td>96.01</td>\n",
       "      <td>...</td>\n",
       "      <td>NaN</td>\n",
       "      <td>NaN</td>\n",
       "      <td>96.114368</td>\n",
       "      <td>96.113631</td>\n",
       "      <td>-0.000737</td>\n",
       "      <td>NaN</td>\n",
       "      <td>NaN</td>\n",
       "      <td>NaN</td>\n",
       "      <td>96.057500</td>\n",
       "      <td>89.00</td>\n",
       "    </tr>\n",
       "    <tr>\n",
       "      <th>2017-01-23 11:30:00</th>\n",
       "      <td>01/23/2017</td>\n",
       "      <td>11:30</td>\n",
       "      <td>95.91</td>\n",
       "      <td>95.95</td>\n",
       "      <td>95.91</td>\n",
       "      <td>95.94</td>\n",
       "      <td>95.92</td>\n",
       "      <td>95.96</td>\n",
       "      <td>95.92</td>\n",
       "      <td>95.95</td>\n",
       "      <td>...</td>\n",
       "      <td>NaN</td>\n",
       "      <td>NaN</td>\n",
       "      <td>96.055606</td>\n",
       "      <td>96.054371</td>\n",
       "      <td>-0.001235</td>\n",
       "      <td>NaN</td>\n",
       "      <td>NaN</td>\n",
       "      <td>NaN</td>\n",
       "      <td>95.976154</td>\n",
       "      <td>88.94</td>\n",
       "    </tr>\n",
       "    <tr>\n",
       "      <th>2017-01-23 12:30:00</th>\n",
       "      <td>01/23/2017</td>\n",
       "      <td>12:30</td>\n",
       "      <td>95.84</td>\n",
       "      <td>95.84</td>\n",
       "      <td>95.84</td>\n",
       "      <td>95.84</td>\n",
       "      <td>95.85</td>\n",
       "      <td>95.85</td>\n",
       "      <td>95.85</td>\n",
       "      <td>95.85</td>\n",
       "      <td>...</td>\n",
       "      <td>NaN</td>\n",
       "      <td>NaN</td>\n",
       "      <td>96.000812</td>\n",
       "      <td>95.998849</td>\n",
       "      <td>-0.001964</td>\n",
       "      <td>NaN</td>\n",
       "      <td>NaN</td>\n",
       "      <td>NaN</td>\n",
       "      <td>95.884250</td>\n",
       "      <td>88.84</td>\n",
       "    </tr>\n",
       "    <tr>\n",
       "      <th>2017-01-23 13:30:00</th>\n",
       "      <td>01/23/2017</td>\n",
       "      <td>13:30</td>\n",
       "      <td>95.88</td>\n",
       "      <td>95.88</td>\n",
       "      <td>95.88</td>\n",
       "      <td>95.88</td>\n",
       "      <td>95.89</td>\n",
       "      <td>95.89</td>\n",
       "      <td>95.89</td>\n",
       "      <td>95.89</td>\n",
       "      <td>...</td>\n",
       "      <td>NaN</td>\n",
       "      <td>NaN</td>\n",
       "      <td>95.976116</td>\n",
       "      <td>95.973934</td>\n",
       "      <td>-0.002182</td>\n",
       "      <td>NaN</td>\n",
       "      <td>NaN</td>\n",
       "      <td>NaN</td>\n",
       "      <td>95.881405</td>\n",
       "      <td>88.88</td>\n",
       "    </tr>\n",
       "  </tbody>\n",
       "</table>\n",
       "<p>5 rows × 22 columns</p>\n",
       "</div>"
      ],
      "text/plain": [
       "                           Date   Time  BidOpen  BidHigh  BidLow  BidClose  \\\n",
       "2017-01-23 09:30:00  01/23/2017  09:30    96.15    96.23   96.15     96.23   \n",
       "2017-01-23 10:30:00  01/23/2017  10:30    95.98    96.00   95.98     96.00   \n",
       "2017-01-23 11:30:00  01/23/2017  11:30    95.91    95.95   95.91     95.94   \n",
       "2017-01-23 12:30:00  01/23/2017  12:30    95.84    95.84   95.84     95.84   \n",
       "2017-01-23 13:30:00  01/23/2017  13:30    95.88    95.88   95.88     95.88   \n",
       "\n",
       "                     AskOpen  AskHigh  AskLow  AskClose  ...  ma7  ma21  \\\n",
       "2017-01-23 09:30:00    96.36    96.36   96.30     96.30  ...  NaN   NaN   \n",
       "2017-01-23 10:30:00    95.99    96.01   95.99     96.01  ...  NaN   NaN   \n",
       "2017-01-23 11:30:00    95.92    95.96   95.92     95.95  ...  NaN   NaN   \n",
       "2017-01-23 12:30:00    95.85    95.85   95.85     95.85  ...  NaN   NaN   \n",
       "2017-01-23 13:30:00    95.89    95.89   95.89     95.89  ...  NaN   NaN   \n",
       "\n",
       "                         26ema      12ema      MACD  20sd  upper_band  \\\n",
       "2017-01-23 09:30:00  96.230000  96.230000  0.000000   NaN         NaN   \n",
       "2017-01-23 10:30:00  96.114368  96.113631 -0.000737   NaN         NaN   \n",
       "2017-01-23 11:30:00  96.055606  96.054371 -0.001235   NaN         NaN   \n",
       "2017-01-23 12:30:00  96.000812  95.998849 -0.001964   NaN         NaN   \n",
       "2017-01-23 13:30:00  95.976116  95.973934 -0.002182   NaN         NaN   \n",
       "\n",
       "                     lower_band        ema  momentum  \n",
       "2017-01-23 09:30:00         NaN  96.230000     89.23  \n",
       "2017-01-23 10:30:00         NaN  96.057500     89.00  \n",
       "2017-01-23 11:30:00         NaN  95.976154     88.94  \n",
       "2017-01-23 12:30:00         NaN  95.884250     88.84  \n",
       "2017-01-23 13:30:00         NaN  95.881405     88.88  \n",
       "\n",
       "[5 rows x 22 columns]"
      ]
     },
     "execution_count": 16,
     "metadata": {},
     "output_type": "execute_result"
    }
   ],
   "source": [
    "stock_df = get_technical_indicators(stock_df)\n",
    "print(stock_df.columns)\n",
    "print(stock_df.isna().sum())\n",
    "stock_df.head()"
   ]
  },
  {
   "cell_type": "code",
   "execution_count": 17,
   "metadata": {},
   "outputs": [
    {
     "name": "stdout",
     "output_type": "stream",
     "text": [
      "DatetimeIndex(['2017-02-20 15:30:00', '2019-06-21 15:30:00'], dtype='datetime64[ns]', freq=None)\n"
     ]
    },
    {
     "data": {
      "text/plain": [
       "Series([], dtype: int64)"
      ]
     },
     "execution_count": 17,
     "metadata": {},
     "output_type": "execute_result"
    }
   ],
   "source": [
    "# Remove timepoints without enough time periods for all indicators\n",
    "na_idx = stock_df.loc[stock_df['upper_band'].isna() == True].index\n",
    "stock_df = stock_df.loc[na_idx[-1]+1*na_idx.freq:]\n",
    "\n",
    "print(stock_df.index[[0,-1]])\n",
    "\n",
    "# Check for null values\n",
    "res = stock_df.isna().sum()\n",
    "res[res>0]"
   ]
  },
  {
   "cell_type": "code",
   "execution_count": 18,
   "metadata": {},
   "outputs": [],
   "source": [
    "save=True\n",
    "if save==True:\n",
    "    stock_df.to_csv('data/stock_df_with_tech_indicators_CBH_index.csv')"
   ]
  },
  {
   "cell_type": "markdown",
   "metadata": {
    "colab_type": "text",
    "id": "eE3D-Avztybj"
   },
   "source": [
    "## Checking for Stationarity and Trends"
   ]
  },
  {
   "cell_type": "code",
   "execution_count": 19,
   "metadata": {
    "colab": {
     "base_uri": "https://localhost:8080/",
     "height": 465
    },
    "colab_type": "code",
    "id": "mVw0kD3VpbiD",
    "outputId": "4301830b-220e-4829-952a-fdbec70bbfd0"
   },
   "outputs": [
    {
     "name": "stdout",
     "output_type": "stream",
     "text": [
      "Results of Dickey-Fuller Test:\n",
      "\tIf p<.05 then timeseries IS stationary.\n",
      "Test Statistic                   -1.689761\n",
      "p-value                           0.436395\n",
      "#Lags Used                        0.000000\n",
      "Number of Observations Used    4263.000000\n",
      "Critical Value (1%)              -3.431885\n",
      "Critical Value (5%)              -2.862218\n",
      "Critical Value (10%)             -2.567131\n",
      "dtype: float64\n"
     ]
    },
    {
     "data": {
      "image/png": "[encoded data removed]",
      "text/plain": [
       "<Figure size 576x288 with 2 Axes>"
      ]
     },
     "metadata": {
      "needs_background": "light"
     },
     "output_type": "display_data"
    }
   ],
   "source": [
    "# Check if stationary\n",
    "stationarity_check(stock_df, freq=custom_BH_freq())"
   ]
  },
  {
   "cell_type": "code",
   "execution_count": 20,
   "metadata": {
    "code_folding": [
     0
    ]
   },
   "outputs": [],
   "source": [
    "# UDEMY COURSE ALTERNATIVE TO STATIONARITY CHECK\n",
    "def adf_test(series,title=''):\n",
    "    \"\"\"\n",
    "    Pass in a time series and an optional title, returns an ADF report\n",
    "    \"\"\"\n",
    "    from statsmodels.tsa.stattools import adfuller\n",
    "    import pandas as pd \n",
    "    print(f'Augmented Dickey-Fuller Test: {title}')\n",
    "    result = adfuller(series.dropna(),autolag='AIC') # .dropna() handles differenced data\n",
    "    \n",
    "    labels = ['ADF test statistic','p-value','# lags used','# observations']\n",
    "    out = pd.Series(result[0:4],index=labels)\n",
    "\n",
    "    for key,val in result[4].items():\n",
    "        out[f'critical value ({key})']=val\n",
    "        \n",
    "    print(out.to_string())          # .to_string() removes the line \"dtype: float64\"\n",
    "    \n",
    "    if result[1] <= 0.05:\n",
    "        print(\"Strong evidence against the null hypothesis\")\n",
    "        print(\"Reject the null hypothesis\")\n",
    "        print(\"Data has no unit root and is stationary\")\n",
    "    else:\n",
    "        print(\"Weak evidence against the null hypothesis\")\n",
    "        print(\"Fail to reject the null hypothesis\")\n",
    "        print(\"Data has a unit root and is non-stationary\")"
   ]
  },
  {
   "cell_type": "code",
   "execution_count": 21,
   "metadata": {},
   "outputs": [
    {
     "name": "stdout",
     "output_type": "stream",
     "text": [
      "Augmented Dickey-Fuller Test: Price\n",
      "ADF test statistic        -1.689761\n",
      "p-value                    0.436395\n",
      "# lags used                0.000000\n",
      "# observations          4263.000000\n",
      "critical value (1%)       -3.431885\n",
      "critical value (5%)       -2.862218\n",
      "critical value (10%)      -2.567131\n",
      "Weak evidence against the null hypothesis\n",
      "Fail to reject the null hypothesis\n",
      "Data has a unit root and is non-stationary\n"
     ]
    }
   ],
   "source": [
    "adf_test(stock_df['price'], title='Price')"
   ]
  },
  {
   "cell_type": "code",
   "execution_count": 22,
   "metadata": {
    "code_folding": [
     0
    ]
   },
   "outputs": [
    {
     "data": {
      "image/png": "[encoded data removed]",
      "text/plain": [
       "<Figure size 720x432 with 4 Axes>"
      ]
     },
     "metadata": {
      "needs_background": "light"
     },
     "output_type": "display_data"
    }
   ],
   "source": [
    "# Adding a seasonal decomposition\n",
    "from statsmodels.tsa.seasonal import seasonal_decompose\n",
    "result = seasonal_decompose(stock_df['price'], freq=35)#, freq=custom_BH_freq())\n",
    "\n",
    "mpl.rcParams['figure.figsize'] = (10,6)\n",
    "result.plot();"
   ]
  },
  {
   "cell_type": "code",
   "execution_count": 23,
   "metadata": {
    "scrolled": false
   },
   "outputs": [
    {
     "data": {
      "image/png": "[encoded data removed]",
      "text/plain": [
       "<Figure size 720x432 with 3 Axes>"
      ]
     },
     "metadata": {
      "needs_background": "light"
     },
     "output_type": "display_data"
    }
   ],
   "source": [
    "from statsmodels.graphics.tsaplots import plot_acf,plot_pacf\n",
    "test_df = stock_df['price']\n",
    "\n",
    "fig,ax = plt.subplots(nrows=3,ncols=1,figsize=(10,6))\n",
    "\n",
    "test_df.plot(ax=ax[0])\n",
    "# df2.plot(ax=ax[0,1])\n",
    "\n",
    "num_lags = 70\n",
    "plot_acf(test_df,ax=ax[1] , lags=num_lags);\n",
    "# plot_acf(df2,ax=ax[1,1],lags=40);\n",
    "\n",
    "plot_pacf(test_df,ax=ax[2],lags=num_lags);\n",
    "# plot_pacf(df2,ax=ax[2,1],lags=40);\n",
    "\n",
    "plt.tight_layout()"
   ]
  },
  {
   "cell_type": "markdown",
   "metadata": {},
   "source": [
    "# Initial Model - GridSearch Using Pyramind ARIMA"
   ]
  },
  {
   "cell_type": "markdown",
   "metadata": {},
   "source": [
    "## **Using `pmdarima` to grid search for best ARIMA model type and orders**\n",
    "\n",
    "- Using `auto_arima` from `pmdarima`\n",
    "\n",
    "- SARIMA involves multiple sets of hyperparameters:\n",
    "    - For base model: a set of p,d,q parameters\n",
    "    - For seasonal model:a set of P,D,Q for the seasonal components.\n",
    "    - m = the number of time periods to include in the season \n",
    "    \n",
    "- Set start and max values for each parameter\n",
    "    - i.e. `start_p=0, max_p = 10`\n",
    "- For seasonal data, setting `m` indicates how many periods should be considered part of the season.\n",
    "\n",
    "\n",
    "- **Below is from [\"Predicitng the Sotck Market Using Machine Learning and Deep Learning.\"](https://www.analyticsvidhya.com/blog/2018/10/predicting-stock-price-machine-learningnd-deep-learning-techniques-python/):**\n",
    "> Below are the steps you should follow for implementing auto ARIMA:\n",
    "    1. Load the data: This step will be the same. Load the data into your notebook\n",
    "    2. Preprocessing data: The input should be univariate, hence drop the other columns\n",
    "    3. Fit Auto ARIMA: Fit the model on the univariate series\n",
    "    4. Predict values on validation set: Make predictions on the validation set\n",
    "    5. Calculate RMSE: Check the performance of the model using the predicted values against the actual values"
   ]
  },
  {
   "cell_type": "code",
   "execution_count": 24,
   "metadata": {},
   "outputs": [],
   "source": [
    "import warnings\n",
    "warnings.filterwarnings('ignore')"
   ]
  },
  {
   "cell_type": "code",
   "execution_count": 25,
   "metadata": {
    "code_folding": [
     0
    ],
    "scrolled": false
   },
   "outputs": [],
   "source": [
    "# # DETERMINING DAY TO USE TO SPLIT DATA INTO TRAIN AND TEST\n",
    "# day_freq = 7\n",
    "# start_train_day = stock_df.index[-1] - 180*day_freq\n",
    "# last_day = stock_df.index[-1] - 90*day_freq\n",
    "# print(f'Data split on index:{last_day}.')\n",
    "\n",
    "\n",
    "# train_data = stock_df.loc[start_train_day:last_day]#,'price']\n",
    "# test_data = stock_df.loc[last_day:]#,'price']\n",
    "\n",
    "# train_data['price'].plot(label='Training')\n",
    "# test_data['price'].plot(label='Test')\n",
    "# plt.title('Training and Test Data for S&P500')\n",
    "# plt.ylabel('Price')\n",
    "# plt.xlabel('Trading Date/Hour')\n",
    "# plt.legend();"
   ]
  },
  {
   "cell_type": "code",
   "execution_count": 26,
   "metadata": {
    "scrolled": false
   },
   "outputs": [],
   "source": [
    "skip=True\n",
    "if skip==False:\n",
    "    from pmdarima.arima import auto_arima\n",
    "\n",
    "    model = auto_arima(train_data['price'], start_p=1, start_q=1, D=1, max_p=4,max_q=4,trace=True,seasonal=True,m=35)\n",
    "    model.summary()"
   ]
  },
  {
   "cell_type": "markdown",
   "metadata": {},
   "source": [
    "___\n",
    "**Results of the Auto-Arima searching with training data set:**\n",
    "- Training Set= all data less the last 90 days:\n",
    "\n",
    "`Model:\t\tSARIMAX(0, 1, 0)x(1, 0, 1, 35)\t`\n",
    "- So what is this really saying?\n",
    "    - p,d,q = (0,1,0)\n",
    "        - AR (p) = 0\n",
    "        - Difference=1\n",
    "        - MA order(q)=0 \n",
    "        \n",
    "    - P,D,Q,m = (1,0,1,35)\n",
    "        - Seasonal AR(P) = 1\n",
    "        - Seasonal Differencing =0\n",
    "        - Seasonal MA(Q)\n",
    "        - Steps per season (m) = 35 (set by user)\n",
    "\n",
    "`statsmodels` version of SARIMA called SARIMAX adds an eXogenous variable to the regression.\n",
    "- Read this: https://www.analyticsvidhya.com/blog/2018/08/auto-arima-time-series-modeling-python-r/\n",
    "\n",
    "\n",
    "- WHEN I SWITCH TO DAILY DATA:\n",
    "`Model:\tSARIMAX(1, 1, 1)x(1, 0, 1, 5)`\n",
    "\n",
    "#### First try a SARIMA model before SARIMAX\n",
    "\n",
    "-"
   ]
  },
  {
   "cell_type": "code",
   "execution_count": 27,
   "metadata": {},
   "outputs": [],
   "source": [
    "# from statsmodels.tsa.arima_model import ARIMA\n",
    "# model = ARIMA(train_data['price'], order=(1,1,1),freq='B')\n",
    "# results = model.fit()\n",
    "# results.summary()"
   ]
  },
  {
   "cell_type": "code",
   "execution_count": 28,
   "metadata": {},
   "outputs": [],
   "source": [
    "# # evaluate model\n",
    "# start = len(train_data)\n",
    "# end = len(train_data) + len(test_data) - 1\n",
    "# predictions = results.predict(start=start,end=end).rename('ARIMA Model')\n",
    "\n",
    "# train_data['price'].iloc[-120*day_freq:].plot()\n",
    "# test_data['price'].plot()\n",
    "# predictions.plot()"
   ]
  },
  {
   "cell_type": "code",
   "execution_count": 29,
   "metadata": {},
   "outputs": [],
   "source": [
    "skip=True\n",
    "if skip==False:\n",
    "    from statsmodels.tsa.statespace.sarimax import SARIMAX\n",
    "    # SARIMAX(0, 1, 0)x(1, 0, 1, 35)\t\n",
    "    # Fit ARIMA: order=(1, 0, 0) seasonal_order=(1, 1, 0, 35); AIC=2881.238, BIC=2905.991, Fit time=52.449 seconds\n",
    "    model = SARIMAX(train_data['price'], order= (1,1,0),seasonal_order=(0,1,1,35), enforce_invertibility=False ) \n",
    "    results=model.fit()\n",
    "    results.summary()"
   ]
  },
  {
   "cell_type": "code",
   "execution_count": 30,
   "metadata": {},
   "outputs": [],
   "source": [
    "skip=True\n",
    "if skip==False:\n",
    "    # evaluate model\n",
    "    from sklearn.metrics import mean_absolute_error, mean_squared_error\n",
    "    start = len(train_data)\n",
    "    end = len(train_data) + len(test_data) - 1\n",
    "    predictions = results.predict(start=start,end=end).rename('SARIMA Model')\n",
    "    days_per_period=7\n",
    "\n",
    "    # Combine preds and true into one df\n",
    "    df_predictions_sarima = pd.concat([test_data['price'],pd.Series(predictions, index=test_data.index,name='predicted_price')],axis=1)\n",
    "    df_predictions_sarima.dropna(inplace=True)\n",
    "    display(df_predictions_sarima.head())\n",
    "\n",
    "    # calculate rmse\n",
    "    rmse_sarima = np.sqrt(mean_squared_error(df_predictions_sarima['price'],df_predictions_sarima['predicted_price']))\n",
    "    print(f\"RMSE: {rmse_sarima.round(3)}\")\n",
    "\n",
    "    # Plot results\n",
    "    plt.plot(train_data['price'].iloc[-120*days_per_period:], label='Training Price')#.plot(label='price - train')\n",
    "    plt.plot(df_predictions_sarima['price'], label='True Price')\n",
    "    plt.plot(df_predictions_sarima['predicted_price'], label='Predicted Price')\n",
    "    plt.ylabel('Stock Price')\n",
    "    plt.xlabel('Business Day - Hour Resolution')\n",
    "    plt.title('SARIMA Model')\n",
    "    plt.legend()\n",
    "    plt.tight_layout()\n",
    "    plt.text('2018-10-01',113,f\"RMSE: {rmse_sarima.round(3)}\", fontdict={'fontsize':10, 'fontweight':'medium'})"
   ]
  },
  {
   "cell_type": "markdown",
   "metadata": {
    "colab_type": "text",
    "id": "Ksn-EM_wDxIl"
   },
   "source": [
    "# Data Prep/Split Forecasting Stock Market Data\n",
    "- https://www.evernote.com/l/AApgV1EaL9lEYpujWnwHq62W9QyEKkH4hwA/"
   ]
  },
  {
   "cell_type": "markdown",
   "metadata": {},
   "source": [
    "### def make_scaler_library, transform_cols_from_library, inverse_transform_series"
   ]
  },
  {
   "cell_type": "code",
   "execution_count": 31,
   "metadata": {},
   "outputs": [],
   "source": [
    "def make_scaler_library(df,transform=False,columns=[]):\n",
    "    \"\"\"Takes a df and fits a MinMax scaler to the columns specified (default is to use all columns).\n",
    "    Returns a dictionary (scaler_library) with keys = columns, and values = its corresponding fit's MinMax Scaler\n",
    "    \n",
    "    Example Usage: \n",
    "    scale_lib, df_scaled = make_scaler_library(df, transform=True)\n",
    "    \n",
    "    # to get the inverse_transform of a column with a different name:\n",
    "    # use `inverse_transform_series`\n",
    "    scaler = scale_lib['price'] # get scaler fit to original column  of interest\n",
    "    price_column =  inverse_transform_series(df['price_labels'], scaler) #get the inverse_transformed series back\n",
    "    \"\"\"\n",
    "    from sklearn.preprocessing import MinMaxScaler\n",
    "    scaler_dict = {}\n",
    "    scaler_dict['index'] = df.index\n",
    "    if len(columns)==0:\n",
    "        user_cols = []\n",
    "        columns = df.columns\n",
    "    for col in columns:\n",
    "        user_cols=columns\n",
    "        scaler = MinMaxScaler()\n",
    "        scaler.fit(df[col].values.reshape(-1,1))\n",
    "        scaler_dict[col] = scaler \n",
    "        \n",
    "    if transform==False:\n",
    "        return scaler_dict\n",
    "    \n",
    "    elif transform==True:\n",
    "        df_out = transform_cols_from_library(df, scaler_dict,columns=user_cols)\n",
    "        return scaler_dict, df_out\n",
    "\n",
    "    \n",
    "def transform_cols_from_library(df,scaler_library,inverse=False,columns=[]):\n",
    "    \"\"\"Accepts a df and a scaler_library that was transformed using make_scaler_library.\n",
    "    Inverse tansforms listed columns (if columns =[] then all columns)\n",
    "    Returns a dataframe with all columns of original df.\"\"\"\n",
    "    df_out = df.copy()\n",
    "    \n",
    "    if len(columns)==0:\n",
    "        columns = df.columns\n",
    "        \n",
    "    for col in columns:\n",
    "        \n",
    "        scaler = scaler_library[col]\n",
    "        if hasattr(scaler, 'data_range_')==False:\n",
    "            raise Exception(f'The scaler for {col} is not fitted.')\n",
    "            \n",
    "            \n",
    "        if inverse==False:\n",
    "            scaled_col = scaler.transform(df[col].values.reshape(-1,1))\n",
    "        elif inverse==True:\n",
    "            scaled_col = scaler.inverse_transform(df[col].values.reshape(-1,1))\n",
    "        df_out[col] = scaled_col.ravel()\n",
    "    return df_out\n",
    "\n",
    "def inverse_transform_series(series, scaler):\n",
    "    \"\"\"Takes a series of df column and a fit scaler. Intended for use with make_scaler_library's dictionary\n",
    "    Example Usage:\n",
    "    scaler_lib, df_scaled = make_scaler_library(df, transform = True)\n",
    "    series_inverse_transformed = inverse_transform_series(df['price_data'],scaler_lib['price'])\n",
    "    \"\"\"\n",
    "    series_tf = scaler.inverse_transform(series.values.reshape(-1,1))\n",
    "    series_tf = pd.Series(series_tf.ravel(), index = series.index, name=series.name)\n",
    "    return series_tf"
   ]
  },
  {
   "cell_type": "code",
   "execution_count": 32,
   "metadata": {
    "code_folding": [
     0
    ],
    "colab": {},
    "colab_type": "code",
    "id": "yoNjM_2MjD21"
   },
   "outputs": [],
   "source": [
    "# def scale_timeseries_data(data, as_series=True, return_scaler = True, verbose=2):\n",
    "    \n",
    "#     from sklearn.preprocessing import MinMaxScaler\n",
    "#     scaler = MinMaxScaler(feature_range=(0,1))\n",
    "    \n",
    "#     if verbose>0:\n",
    "#         print(f'Input Range: {np.min(data)} - {np.max(data)}')\n",
    "#         print(f'Input Shape: {np.shape(data)}')\n",
    "\n",
    "#     index = data.index\n",
    "#     data = scaler.fit_transform(data.values.reshape(-1,1))\n",
    "#     if verbose>0:\n",
    "#         print(f'Shape of Transformed Data = {data.shape}')\n",
    "\n",
    "#     data = data.flatten() #.reshape(-1,1)\n",
    "    \n",
    "#     if as_series==True:\n",
    "#         data = pd.Series(data)\n",
    "#         data.index = index\n",
    "\n",
    "#     if verbose>0:\n",
    "#         print(f'\\nOutput Range: {np.min(data)} - {np.max(data)}')\n",
    "#         print(f'Output Shape: {np.shape(data)}')\n",
    "    \n",
    "#     if return_scaler==True:\n",
    "#         return data, scaler\n",
    "#     else:\n",
    "#         return data\n",
    "    \n",
    "    \n",
    "# def inverse_transform_timeseries_data(data, scaler, as_series=True,verbose=2):\n",
    "    \n",
    "#     if verbose>0:\n",
    "#         print(f'Input Range: {np.min(data)} - {np.max(data)}')\n",
    "#         print(f'Input Shape: {np.shape(data)}')\n",
    "    \n",
    "#     data_back = scaler.inverse_transform(data.values.reshape(-1,1))\n",
    "    \n",
    "#     if as_series==True:\n",
    "#         index = data.index\n",
    "#         data_back = pd.Series(data_back.flatten())\n",
    "#         data_back.index=index\n",
    "#         if verbose>0:\n",
    "#             print(f'Output Index: {index[0]} - {index[-1]}')\n",
    "\n",
    "#     if verbose>0:\n",
    "#         print(f'\\nOutput Range: {np.min(data_back)} - {np.max(data_back)}')\n",
    "#         print(f'Output Shape: {np.shape(data_back)}')\n",
    "        \n",
    "#     return data_back"
   ]
  },
  {
   "cell_type": "markdown",
   "metadata": {},
   "source": [
    "### def make_X_y_timeseries_data, make_df_timeseries_bins_by_column"
   ]
  },
  {
   "cell_type": "code",
   "execution_count": 33,
   "metadata": {
    "code_folding": []
   },
   "outputs": [],
   "source": [
    "def make_X_y_timeseries_data(data,x_window = 35, verbose=2,as_array=True):\n",
    "    \"\"\"Creates an X and Y time sequence trianing set from a pandas Series.\n",
    "    - X_train is a an array with x_window # of samples for each row in X_train\n",
    "    - y_train is one value per X_train window: the next time point after the X_window.\n",
    "    Verbose determines details printed about the contents and shapes of the data.\n",
    "    \n",
    "    # Example Usage:\n",
    "    X_train, y_train = make_X_y_timeseries(df['price'], x_window= 35)\n",
    "    print( X_train[0]]):\n",
    "    # returns: arr[X1,X2...X35]\n",
    "    print(y_train[0])\n",
    "    # returns  X36\n",
    "    \"\"\"\n",
    "    \n",
    "    import numpy as np\n",
    "    import pandas as pd\n",
    "                          \n",
    "    # Raise warning if null valoues\n",
    "    if any(data.isna()):\n",
    "        raise Exception('Function does not accept null values')\n",
    "        \n",
    "    # Optional display of input data shape and range\n",
    "    if verbose>0:\n",
    "        print(f'Input Range: {np.min(data)} - {np.max(data)}')\n",
    "        print(f'Input Shape: {np.shape(data)}\\n')\n",
    "\n",
    "        \n",
    "    # Save the index from the input data\n",
    "    time_index_in = data.index\n",
    "    time_index = data.index[x_window:]\n",
    "    \n",
    "    \n",
    "    # Create Empty lists to receive binned X_train and y_train data\n",
    "    X_train, y_train = [], []\n",
    "    check_time_index = []\n",
    "\n",
    "    # For every possible bin of x_window # of samples\n",
    "    # create an X_train row with the X_window # of previous samples \n",
    "    # create a y-train row with just one values - the next sample after the X_train window\n",
    "    for i in range(x_window, data.shape[0]):\n",
    "        check_time_index.append([data.index[i-x_window], data.index[i]])\n",
    "        # Append a list of the past x_window # of timepoints\n",
    "        X_train.append(data.iloc[i-x_window:i])#.values)\n",
    "        \n",
    "        # Append the next single timepoint's data\n",
    "        y_train.append(data.iloc[i])#.values)\n",
    "    \n",
    "    if as_array == True:\n",
    "        # Make X_train, y_train into arrays\n",
    "        X_train, y_train = np.array(X_train), np.array(y_train)\n",
    "    \n",
    "\n",
    "    if verbose>0:\n",
    "        print(f'\\nOutput Shape - X: {X_train.shape}')\n",
    "        print(f'Output Shape - y: {y_train.shape}')\n",
    "        print(f'\\nTimeindex Shape: {np.shape(time_index)}\\n\\tRange: {time_index[0]}-{time_index[-1]}')\n",
    "        print(f'\\tFrequency:',time_index.freq)\n",
    "#     print(time_index)\n",
    "#     print(check_time_index)\n",
    "    return X_train, y_train, time_index\n",
    "\n",
    "\n",
    "def make_df_timeseries_bins_by_column(df, x_window = 35, verbose=2,one_or_two_dfs = 1): #target_col='price',\n",
    "    \"\"\" Function will take each column from the dataframe and create a train_data dataset  (with X and Y data), with\n",
    "    each row in X containing x_window number of observations and y containing the next following observation\"\"\"\n",
    "\n",
    "    col_data  = {}\n",
    "    time_index_for_df = []\n",
    "    for col in df.columns:\n",
    "        \n",
    "        col_data[col] = {}\n",
    "        col_bins, col_labels, col_idx =  make_X_y_timeseries_data(df[col], verbose=0, as_array=True)#,axis=0)\n",
    "#         print(f'col_bins dtype={type(col_bins)}')\n",
    "#         print(f'col_labels dtype={type(col_labels)}')\n",
    "        \n",
    "        ## ALTERNATIVE IS TO PLACE DF COLUMNS CREATION ABOVE HERE\n",
    "        col_data[col]['bins']=col_bins\n",
    "        col_data[col]['labels'] = col_labels\n",
    "#         col_data[col]['index'] = col_idx\n",
    "        time_index_for_df = col_idx\n",
    "    \n",
    "    # Convert the dictionaries into a dataframe\n",
    "    df_timeseries_bins = pd.DataFrame(index=time_index_for_df)\n",
    "#     df_timeseries_bins.index=time_index_for_df\n",
    "#     print(time_index_for_df)\n",
    "    # for each original column\n",
    "    for colname,data_dict in col_data.items():\n",
    "        \n",
    "        #for column's new data bins,labels\n",
    "        for data_col, X in col_data[colname].items():\n",
    "            \n",
    "            # new column title\n",
    "            new_colname = colname+'_'+data_col\n",
    "#             print(new_colname)\n",
    "            make_col = []\n",
    "            if data_col=='labels':\n",
    "                df_timeseries_bins[new_colname] = col_data[colname][data_col]\n",
    "            else:\n",
    "                # turn array of lists into list of arrays\n",
    "                for x in range(X.shape[0]):\n",
    "                    x_data = np.array(X[x])\n",
    "#                     x_data = X[x]\n",
    "                    make_col.append(x_data)\n",
    "                # fill in column's data\n",
    "                df_timeseries_bins[new_colname] = make_col\n",
    "                \n",
    "#     print(df_timeseries_bins.index)\n",
    "#     print(time_index_for_df)\n",
    "        \n",
    "    \n",
    "    if one_or_two_dfs==1:\n",
    "        return df_timeseries_bins\n",
    "    \n",
    "    elif one_or_two_dfs==2:\n",
    "        df_bins = df_timeseries_bins.filter(regex=('bins'))\n",
    "        df_labels = df_timeseries_bins.filter(regex=('labels'))\n",
    "        \n",
    "    return df_bins, df_labels"
   ]
  },
  {
   "cell_type": "markdown",
   "metadata": {},
   "source": [
    "### def predict_model_make_results_dict"
   ]
  },
  {
   "cell_type": "code",
   "execution_count": 34,
   "metadata": {
    "code_folding": [
     102
    ]
   },
   "outputs": [],
   "source": [
    "def predict_model_make_results_dict(model,scaler, X_test_in, y_test,test_index, \n",
    "                                    X_train_in, y_train,train_index,\n",
    "                                   return_as_dfs = False):# Get predictions and combine with true price\n",
    "    \n",
    "    \"\"\"Accepts a fit keras model, X_test, y_test, and y_train data. Uses provided fit-scaler that transformed\n",
    "    original data. \n",
    "    By default (return_as_dfs=False): returns the results as a panel (dictioanry of dataframes), with panel['train'],panl['test']\n",
    "    Setting return_as_dfs=True will return df_train, df_test\"\"\"\n",
    "    \n",
    "    # Get predictions from model\n",
    "    predictions = model.predict(X_test_in)\n",
    "    \n",
    "    # Get predicted price series (scaled and inverse_transformed)\n",
    "    pred_price_scaled = pd.Series(predictions.ravel(),name='scaled_pred_price',index=test_index)\n",
    "    pred_price = inverse_transform_series(pred_price_scaled, scaler).rename('pred_price')\n",
    "\n",
    "    # Get true price series (scaled and inverse_transformed)\n",
    "    true_price_scaled =  pd.Series(y_test,name='scaled_test_price',index=test_index)\n",
    "    true_price = inverse_transform_series(true_price_scaled,scaler).rename('test_price')\n",
    "\n",
    "    # combine all test data series into 1 dataframe\n",
    "    df_test_data = pd.concat([true_price, pred_price,  true_price_scaled, pred_price_scaled],axis=1)#, columns=['predicted_price','true_price'], index=index_test)\n",
    "    \n",
    "    \n",
    "    \n",
    "    # Get predictions from model\n",
    "    train_predictions = model.predict(X_train_in)\n",
    "\n",
    "    # Get predicted price series (scaled and inverse_transformed)\n",
    "    train_pred_price_scaled = pd.Series(train_predictions.ravel(),name='scaled_pred_train_price',index=train_index)\n",
    "    train_pred_price = inverse_transform_series(train_pred_price_scaled, scaler).rename('pred_train_price')\n",
    "        \n",
    "    # Get training data scaled and inverse transformed into its own dataframe \n",
    "    train_price_scaled = pd.Series(y_train,name='scaled_train_price',index= train_index) \n",
    "    train_price =inverse_transform_series(train_price_scaled,scaler).rename('train_price')\n",
    "    \n",
    "    df_train_data = pd.concat([train_price, train_pred_price, train_price_scaled, train_pred_price_scaled],axis=1)\n",
    "    \n",
    "    \n",
    "    # Return results as Panel or 2 dataframes\n",
    "    if return_as_dfs==False:\n",
    "        results = {'train':df_train_data,'test':df_test_data}\n",
    "        return results\n",
    "   \n",
    "    else:\n",
    "\n",
    "        return df_train_data, df_test_data\n",
    "\n",
    "    \n",
    "    \n",
    "def plot_true_vs_preds_subplots(train_price, test_price, pred_price, subplots=False, figsize=(14,5)):\n",
    "    \n",
    "    from sklearn.metrics import mean_squared_error\n",
    "\n",
    "    # Check for null values\n",
    "    train_null = train_price.isna().sum()\n",
    "    test_null = test_price.isna().sum()\n",
    "    pred_null = pred_price.isna().sum()\n",
    "    null_test = train_null + test_null+pred_null\n",
    "    if null_test>0:\n",
    "        print(f'Dropping {null_test} null values.')\n",
    "        train_price.dropna(inplace=True)\n",
    "        test_price.dropna(inplace=True)\n",
    "        pred_price.dropna(inplace=True)\n",
    "\n",
    "    ## CREATE FIGURE AND AX(ES)\n",
    "    if subplots==True:\n",
    "        fig = plt.figure(figsize=figsize)#, constrained_layout=True)\n",
    "        ax1 = plt.subplot2grid((2, 9), (0, 0), rowspan=2, colspan=5)\n",
    "        ax2 = plt.subplot2grid((2, 9),(0,5), rowspan=2, colspan=4)\n",
    "#         plt.tight_layout()\n",
    "    else:\n",
    "        fig, ax1 = plt.subplots(figsize=figsize)\n",
    "\n",
    "        \n",
    "    ## Define plot styles by train/test/pred data type\n",
    "    style_dict = {'train':{},'test':{},'pred':{}}\n",
    "    style_dict['train']={'lw':2,'color':'blue','ls':'-', 'alpha':1}\n",
    "    style_dict['test']={'lw':1,'color':'orange','ls':'-', 'alpha':1}\n",
    "    style_dict['pred']={'lw':2,'color':'green','ls':'-', 'alpha':0.7}\n",
    "    \n",
    "    \n",
    "    # Plot train_price if it is not empty.\n",
    "    if len(train_price)>0:\n",
    "        \n",
    "        ax1.plot(train_price, label='price-training',**style_dict['train'])\n",
    "        \n",
    "        \n",
    "    # Plot test and predicted price\n",
    "    ax1.plot(test_price, label='true test price',**style_dict['test'])\n",
    "    ax1.plot(pred_price, label='predicted price', **style_dict['pred'])#, label=['true_price','predicted_price'])#, label='price-predictions')\n",
    "    ax1.legend()\n",
    "    ax1.set_title('S&P500 Price: Forecast by LSTM-Neural-Network')\n",
    "    ax1.set_xlabel('Business Day-Hour')\n",
    "    ax1.set_ylabel('Stock Price')\n",
    "    \n",
    "    # Plot a subplot with JUST the test and predicted prices\n",
    "    if subplots==True:\n",
    "        \n",
    "        ax2.plot(test_price, label='true test price',**style_dict['test'])\n",
    "        ax2.plot(pred_price, label='predicted price', **style_dict['pred'])#, label=['true_price','predicted_price'])#, label='price-predictions')\n",
    "        ax2.legend()\n",
    "        plt.title('Predicted vs. Actual Price - Test Data')\n",
    "        ax2.set_xlabel('Business Day-Hour')\n",
    "        ax2.set_ylabel('Stock Price')\n",
    "        plt.subplots_adjust(wspace=1)#, hspace=None)[source]¶\n",
    "\n",
    "    \n",
    "    \n",
    "    # ANNOTATING RMSE\n",
    "    RMSE = np.sqrt(mean_squared_error(test_price,pred_price))\n",
    "    bbox_props = dict(boxstyle=\"square,pad=0.5\", fc=\"white\", ec=\"k\", lw=0.5)\n",
    "    \n",
    "    plt.annotate(f\"RMSE: {RMSE.round(3)}\",xycoords='figure fraction', xy=(0.085,0.85),bbox=bbox_props)\n",
    "    plt.tight_layout()\n",
    "    return fig, ax\n",
    "\n",
    "# fig, ax = plot_price_vs_preds(df_train_price['train_price'],df_test_price['test_price'],df_test_price['pred_price'])\n",
    "\n",
    "def print_array_inf(arr, name='Array'):\n",
    "    \"\"\"Test function for verifying shapes and data ranges of input arrays\"\"\"\n",
    "    shape = np.shape(arr)\n",
    "    arr_min = np.min(arr).round(3)\n",
    "    arr_max = np.max(arr).round(3)\n",
    "    print(f\"For {name}:\\t\\tShape: {str(shape):15} \\tMin, Max: ({arr_min}, {arr_max})\")    \n",
    "\n",
    "    \n",
    "# plot_price_vs_preds(df_train_price['train_price'],df_test_price['test_price'],df_test_price['pred_price'],subplots=True)"
   ]
  },
  {
   "cell_type": "code",
   "execution_count": 35,
   "metadata": {},
   "outputs": [],
   "source": [
    "# pause"
   ]
  },
  {
   "cell_type": "markdown",
   "metadata": {},
   "source": [
    "### def save_model"
   ]
  },
  {
   "cell_type": "markdown",
   "metadata": {},
   "source": [
    "https://machinelearningmastery.com/save-load-keras-deep-learning-models/\n",
    "```python\n",
    "# serialize model to JSON\n",
    "model_json = model.to_json()\n",
    "with open(\"model.json\", \"w\") as json_file:\n",
    "    json_file.write(model_json)\n",
    "# serialize weights to HDF5\n",
    "model.save_weights(\"model.h5\")\n",
    "print(\"Saved model to disk\")\n",
    " \n",
    "# later...\n",
    " \n",
    "# load json and create model\n",
    "json_file = open('model.json', 'r')\n",
    "loaded_model_json = json_file.read()\n",
    "json_file.close()\n",
    "loaded_model = model_from_json(loaded_model_json)\n",
    "# load weights into new model\n",
    "loaded_model.load_weights(\"model.h5\")\n",
    "print(\"Loaded model from disk\")\n",
    " \n",
    "# evaluate loaded model on test data\n",
    "loaded_model.compile(loss='binary_crossentropy', optimizer='rmsprop', metrics=['accuracy'])\n",
    "score = loaded_model.evaluate(X, Y, verbose=0)\n",
    "print(\"%s: %.2f%%\" % (loaded_model.metrics_names[1], score[1]*100))\n",
    "```"
   ]
  },
  {
   "cell_type": "code",
   "execution_count": 36,
   "metadata": {},
   "outputs": [],
   "source": [
    "def save_model(s, auto_filename=True):#, filename=[],*args):\n",
    "    \n",
    "    if auto_filename == True:\n",
    "        from my_functions import Clock2\n",
    "        clock = Clock2(verbose=0)\n",
    "        filename=[]\n",
    "        file_ending  = clock.get_time().strftime('%m-%d-%Y_%I%M%p')\n",
    "        filename = f'modelsummary_{file_ending}.txt'\n",
    "#         print(filename)\n",
    "    else:\n",
    "        filename = filename\n",
    "    with open(filename,'w+') as f:\n",
    "        print(s, file=f)\n",
    "#         for arg in args:\n",
    "#             print(arg)#, file=f)\n",
    "# #         f.close()\n",
    "#     return filename\n",
    "#     return print(filename,' saved...')\n",
    "# model.summary(print_fn=myprint)\n"
   ]
  },
  {
   "cell_type": "markdown",
   "metadata": {},
   "source": [
    "### LOAD DATA\n",
    "- use prior split `train_data` and `test_data`\n",
    "- use `make_X_y_timeseries_data` to format data for LSTM"
   ]
  },
  {
   "cell_type": "code",
   "execution_count": 37,
   "metadata": {},
   "outputs": [],
   "source": [
    "import pandas as pd\n",
    "import numpy as np\n",
    "import matplotlib.pyplot as plt\n",
    "import matplotlib as mpl\n",
    "\n",
    "\n",
    "try: stock_df\n",
    "except NameError: stock_df = None\n",
    "    \n",
    "if stock_df is None:\n",
    "    \n",
    "    stock_df = pd.read_csv('data/stock_df_with_tech_indicators_CBH_index.csv', index_col=0, parse_dates=True)\n",
    "    stock_df = set_timeindex_freq(stock_df,verbose=0)\n",
    "    stock_df = stock_df.iloc[:,11:]\n",
    "\n",
    "    # DIsply input stock data\n",
    "    display(stock_df.head().style.set_caption('Raw Data'))\n",
    "    plot_time_series(stock_df['price'])"
   ]
  },
  {
   "cell_type": "markdown",
   "metadata": {},
   "source": [
    "# Train Test Split Data By Date,MinMaxScale\n",
    "### EDIT HERE TO CHANGE WINDOWS AND DAYS"
   ]
  },
  {
   "cell_type": "markdown",
   "metadata": {},
   "source": [
    "### CHANGING ORDER OF PROCESSING PER UDEMY COURSE RECOMMENDATION\n",
    "- Fit the MinMaxScaler on the TRAINING data\n",
    "    - `train_test_split_by_last_days`\n",
    "- THEN use that fit scaler to transform the test data\n",
    "    - `make_scaler_library`,`transform_cols_from_library`"
   ]
  },
  {
   "cell_type": "code",
   "execution_count": 38,
   "metadata": {},
   "outputs": [
    {
     "data": {
      "text/plain": [
       "<CustomBusinessHour: CBH=09:30-16:30>"
      ]
     },
     "execution_count": 38,
     "metadata": {},
     "output_type": "execute_result"
    }
   ],
   "source": [
    "# ADD REASAMPLE FREQ HERE:\n",
    "# stock_df = stock_df.asfreq('T')\n",
    "stock_df.index.freq"
   ]
  },
  {
   "cell_type": "code",
   "execution_count": 39,
   "metadata": {},
   "outputs": [
    {
     "data": {
      "text/html": [
       "<div>\n",
       "<style scoped>\n",
       "    .dataframe tbody tr th:only-of-type {\n",
       "        vertical-align: middle;\n",
       "    }\n",
       "\n",
       "    .dataframe tbody tr th {\n",
       "        vertical-align: top;\n",
       "    }\n",
       "\n",
       "    .dataframe thead th {\n",
       "        text-align: right;\n",
       "    }\n",
       "</style>\n",
       "<table border=\"1\" class=\"dataframe\">\n",
       "  <thead>\n",
       "    <tr style=\"text-align: right;\">\n",
       "      <th></th>\n",
       "      <th>filled_timebin</th>\n",
       "      <th>price</th>\n",
       "      <th>ma7</th>\n",
       "      <th>ma21</th>\n",
       "      <th>26ema</th>\n",
       "      <th>12ema</th>\n",
       "      <th>MACD</th>\n",
       "      <th>20sd</th>\n",
       "      <th>upper_band</th>\n",
       "      <th>lower_band</th>\n",
       "      <th>ema</th>\n",
       "      <th>momentum</th>\n",
       "    </tr>\n",
       "  </thead>\n",
       "  <tbody>\n",
       "    <tr>\n",
       "      <th>2017-02-20 15:30:00</th>\n",
       "      <td>True</td>\n",
       "      <td>99.64</td>\n",
       "      <td>99.080816</td>\n",
       "      <td>97.630272</td>\n",
       "      <td>98.104742</td>\n",
       "      <td>98.601714</td>\n",
       "      <td>0.496972</td>\n",
       "      <td>1.132580</td>\n",
       "      <td>99.895431</td>\n",
       "      <td>95.365113</td>\n",
       "      <td>99.639971</td>\n",
       "      <td>92.64</td>\n",
       "    </tr>\n",
       "    <tr>\n",
       "      <th>2017-02-21 09:30:00</th>\n",
       "      <td>False</td>\n",
       "      <td>99.88</td>\n",
       "      <td>99.121837</td>\n",
       "      <td>97.655102</td>\n",
       "      <td>98.128893</td>\n",
       "      <td>98.632705</td>\n",
       "      <td>0.503812</td>\n",
       "      <td>1.140074</td>\n",
       "      <td>99.935250</td>\n",
       "      <td>95.374954</td>\n",
       "      <td>99.799990</td>\n",
       "      <td>92.88</td>\n",
       "    </tr>\n",
       "    <tr>\n",
       "      <th>2017-02-21 10:30:00</th>\n",
       "      <td>False</td>\n",
       "      <td>100.37</td>\n",
       "      <td>99.172041</td>\n",
       "      <td>97.684830</td>\n",
       "      <td>98.159300</td>\n",
       "      <td>98.674795</td>\n",
       "      <td>0.515495</td>\n",
       "      <td>1.155433</td>\n",
       "      <td>99.995695</td>\n",
       "      <td>95.373965</td>\n",
       "      <td>100.179997</td>\n",
       "      <td>93.37</td>\n",
       "    </tr>\n",
       "    <tr>\n",
       "      <th>2017-02-21 11:30:00</th>\n",
       "      <td>False</td>\n",
       "      <td>100.15</td>\n",
       "      <td>99.217143</td>\n",
       "      <td>97.713469</td>\n",
       "      <td>98.186238</td>\n",
       "      <td>98.710509</td>\n",
       "      <td>0.524271</td>\n",
       "      <td>1.167723</td>\n",
       "      <td>100.048916</td>\n",
       "      <td>95.378023</td>\n",
       "      <td>100.159999</td>\n",
       "      <td>93.15</td>\n",
       "    </tr>\n",
       "    <tr>\n",
       "      <th>2017-02-21 12:30:00</th>\n",
       "      <td>False</td>\n",
       "      <td>100.30</td>\n",
       "      <td>99.262653</td>\n",
       "      <td>97.743810</td>\n",
       "      <td>98.214767</td>\n",
       "      <td>98.748965</td>\n",
       "      <td>0.534197</td>\n",
       "      <td>1.181503</td>\n",
       "      <td>100.106816</td>\n",
       "      <td>95.380803</td>\n",
       "      <td>100.253333</td>\n",
       "      <td>93.30</td>\n",
       "    </tr>\n",
       "  </tbody>\n",
       "</table>\n",
       "</div>"
      ],
      "text/plain": [
       "                     filled_timebin   price        ma7       ma21      26ema  \\\n",
       "2017-02-20 15:30:00            True   99.64  99.080816  97.630272  98.104742   \n",
       "2017-02-21 09:30:00           False   99.88  99.121837  97.655102  98.128893   \n",
       "2017-02-21 10:30:00           False  100.37  99.172041  97.684830  98.159300   \n",
       "2017-02-21 11:30:00           False  100.15  99.217143  97.713469  98.186238   \n",
       "2017-02-21 12:30:00           False  100.30  99.262653  97.743810  98.214767   \n",
       "\n",
       "                         12ema      MACD      20sd  upper_band  lower_band  \\\n",
       "2017-02-20 15:30:00  98.601714  0.496972  1.132580   99.895431   95.365113   \n",
       "2017-02-21 09:30:00  98.632705  0.503812  1.140074   99.935250   95.374954   \n",
       "2017-02-21 10:30:00  98.674795  0.515495  1.155433   99.995695   95.373965   \n",
       "2017-02-21 11:30:00  98.710509  0.524271  1.167723  100.048916   95.378023   \n",
       "2017-02-21 12:30:00  98.748965  0.534197  1.181503  100.106816   95.380803   \n",
       "\n",
       "                            ema  momentum  \n",
       "2017-02-20 15:30:00   99.639971     92.64  \n",
       "2017-02-21 09:30:00   99.799990     92.88  \n",
       "2017-02-21 10:30:00  100.179997     93.37  \n",
       "2017-02-21 11:30:00  100.159999     93.15  \n",
       "2017-02-21 12:30:00  100.253333     93.30  "
      ]
     },
     "execution_count": 39,
     "metadata": {},
     "output_type": "execute_result"
    }
   ],
   "source": [
    "stock_df = stock_df.iloc[:,10:]\n",
    "stock_df.head()"
   ]
  },
  {
   "cell_type": "code",
   "execution_count": 86,
   "metadata": {},
   "outputs": [
    {
     "data": {
      "text/plain": [
       "4264"
      ]
     },
     "execution_count": 86,
     "metadata": {},
     "output_type": "execute_result"
    }
   ],
   "source": [
    "len(stock_df)"
   ]
  },
  {
   "cell_type": "code",
   "execution_count": 40,
   "metadata": {},
   "outputs": [
    {
     "name": "stdout",
     "output_type": "stream",
     "text": [
      "Using x_window=210, periods_per_day=7\n",
      "\n",
      "Data split on index:\t2019-04-19 15:30:00.\n"
     ]
    },
    {
     "data": {
      "image/png": "[encoded data removed]",
      "text/plain": [
       "<Figure size 720x432 with 1 Axes>"
      ]
     },
     "metadata": {
      "needs_background": "light"
     },
     "output_type": "display_data"
    }
   ],
   "source": [
    "# SET DATA BINNING AND DATE RANGE\n",
    "num_test_days=45\n",
    "num_train_days=365\n",
    "days_for_x_window = 30\n",
    "\n",
    "# SET THE WINDOW SIZE AND PERIODS_PER_DAY BASED ON InDEX\n",
    "if stock_df.index.freq == custom_BH_freq():\n",
    "#     x_window=35\n",
    "    periods_per_day=7\n",
    "    x_window = periods_per_day*days_for_x_window\n",
    "    \n",
    "elif (stock_df.index.freq == 'B') | (stock_df.index.freq == 'H') :\n",
    "    periods_per_day=1\n",
    "    x_window=periods_per_day*days_for_x_window #28\n",
    "\n",
    "else:\n",
    "    x_window=30\n",
    "    periods_per_day=24\n",
    "print(f'Using x_window={x_window}, periods_per_day={periods_per_day}\\n')\n",
    "\n",
    "\n",
    "# scale the data using MinMaxScaler\n",
    "if is_var('stock_df_orig')==False:\n",
    "    stock_df_orig = stock_df.copy()\n",
    "    \n",
    "    \n",
    "    \n",
    "# TRAIN TEST SPLIT BY DATE\n",
    "df_train, df_test = train_test_split_by_last_days(stock_df, \n",
    "                                                  periods_per_day=periods_per_day, num_test_days=num_test_days,\n",
    "                                                  num_train_days=num_train_days,verbose=1, plot=True)\n"
   ]
  },
  {
   "cell_type": "code",
   "execution_count": 41,
   "metadata": {},
   "outputs": [
    {
     "data": {
      "text/html": [
       "<div>\n",
       "<style scoped>\n",
       "    .dataframe tbody tr th:only-of-type {\n",
       "        vertical-align: middle;\n",
       "    }\n",
       "\n",
       "    .dataframe tbody tr th {\n",
       "        vertical-align: top;\n",
       "    }\n",
       "\n",
       "    .dataframe thead th {\n",
       "        text-align: right;\n",
       "    }\n",
       "</style>\n",
       "<table border=\"1\" class=\"dataframe\">\n",
       "  <thead>\n",
       "    <tr style=\"text-align: right;\">\n",
       "      <th></th>\n",
       "      <th>filled_timebin</th>\n",
       "      <th>price</th>\n",
       "      <th>ma7</th>\n",
       "      <th>ma21</th>\n",
       "      <th>26ema</th>\n",
       "      <th>12ema</th>\n",
       "      <th>MACD</th>\n",
       "      <th>20sd</th>\n",
       "      <th>upper_band</th>\n",
       "      <th>lower_band</th>\n",
       "      <th>ema</th>\n",
       "      <th>momentum</th>\n",
       "    </tr>\n",
       "  </thead>\n",
       "  <tbody>\n",
       "    <tr>\n",
       "      <th>2019-04-19 15:30:00</th>\n",
       "      <td>1.0</td>\n",
       "      <td>0.969751</td>\n",
       "      <td>0.992575</td>\n",
       "      <td>0.957766</td>\n",
       "      <td>0.979789</td>\n",
       "      <td>1.000000</td>\n",
       "      <td>0.890786</td>\n",
       "      <td>0.296301</td>\n",
       "      <td>0.814578</td>\n",
       "      <td>0.849936</td>\n",
       "      <td>0.970747</td>\n",
       "      <td>0.969751</td>\n",
       "    </tr>\n",
       "    <tr>\n",
       "      <th>2019-04-22 09:30:00</th>\n",
       "      <td>0.0</td>\n",
       "      <td>0.952402</td>\n",
       "      <td>0.993266</td>\n",
       "      <td>0.959176</td>\n",
       "      <td>0.981279</td>\n",
       "      <td>1.000773</td>\n",
       "      <td>0.889491</td>\n",
       "      <td>0.292961</td>\n",
       "      <td>0.813876</td>\n",
       "      <td>0.852496</td>\n",
       "      <td>0.959020</td>\n",
       "      <td>0.952402</td>\n",
       "    </tr>\n",
       "    <tr>\n",
       "      <th>2019-04-22 10:30:00</th>\n",
       "      <td>0.0</td>\n",
       "      <td>0.956851</td>\n",
       "      <td>0.993880</td>\n",
       "      <td>0.960895</td>\n",
       "      <td>0.982839</td>\n",
       "      <td>1.001678</td>\n",
       "      <td>0.888431</td>\n",
       "      <td>0.288378</td>\n",
       "      <td>0.812701</td>\n",
       "      <td>0.855852</td>\n",
       "      <td>0.958118</td>\n",
       "      <td>0.956851</td>\n",
       "    </tr>\n",
       "    <tr>\n",
       "      <th>2019-04-22 11:30:00</th>\n",
       "      <td>0.0</td>\n",
       "      <td>0.960854</td>\n",
       "      <td>0.994758</td>\n",
       "      <td>0.962845</td>\n",
       "      <td>0.984461</td>\n",
       "      <td>1.002698</td>\n",
       "      <td>0.887571</td>\n",
       "      <td>0.285817</td>\n",
       "      <td>0.813010</td>\n",
       "      <td>0.858443</td>\n",
       "      <td>0.960523</td>\n",
       "      <td>0.960854</td>\n",
       "    </tr>\n",
       "    <tr>\n",
       "      <th>2019-04-22 12:30:00</th>\n",
       "      <td>0.0</td>\n",
       "      <td>0.963523</td>\n",
       "      <td>0.995701</td>\n",
       "      <td>0.965083</td>\n",
       "      <td>0.986119</td>\n",
       "      <td>1.003785</td>\n",
       "      <td>0.886831</td>\n",
       "      <td>0.282076</td>\n",
       "      <td>0.812866</td>\n",
       "      <td>0.861786</td>\n",
       "      <td>0.963129</td>\n",
       "      <td>0.963523</td>\n",
       "    </tr>\n",
       "  </tbody>\n",
       "</table>\n",
       "</div>"
      ],
      "text/plain": [
       "                     filled_timebin     price       ma7      ma21     26ema  \\\n",
       "2019-04-19 15:30:00             1.0  0.969751  0.992575  0.957766  0.979789   \n",
       "2019-04-22 09:30:00             0.0  0.952402  0.993266  0.959176  0.981279   \n",
       "2019-04-22 10:30:00             0.0  0.956851  0.993880  0.960895  0.982839   \n",
       "2019-04-22 11:30:00             0.0  0.960854  0.994758  0.962845  0.984461   \n",
       "2019-04-22 12:30:00             0.0  0.963523  0.995701  0.965083  0.986119   \n",
       "\n",
       "                        12ema      MACD      20sd  upper_band  lower_band  \\\n",
       "2019-04-19 15:30:00  1.000000  0.890786  0.296301    0.814578    0.849936   \n",
       "2019-04-22 09:30:00  1.000773  0.889491  0.292961    0.813876    0.852496   \n",
       "2019-04-22 10:30:00  1.001678  0.888431  0.288378    0.812701    0.855852   \n",
       "2019-04-22 11:30:00  1.002698  0.887571  0.285817    0.813010    0.858443   \n",
       "2019-04-22 12:30:00  1.003785  0.886831  0.282076    0.812866    0.861786   \n",
       "\n",
       "                          ema  momentum  \n",
       "2019-04-19 15:30:00  0.970747  0.969751  \n",
       "2019-04-22 09:30:00  0.959020  0.952402  \n",
       "2019-04-22 10:30:00  0.958118  0.956851  \n",
       "2019-04-22 11:30:00  0.960523  0.960854  \n",
       "2019-04-22 12:30:00  0.963129  0.963523  "
      ]
     },
     "execution_count": 41,
     "metadata": {},
     "output_type": "execute_result"
    }
   ],
   "source": [
    "# RESCALE DATAFRAME USING MINMAXSCALER, RETURN SCALER_LIBRARY FOR LATER    \n",
    "scaler_library , df_train = make_scaler_library(df_train,transform=True)\n",
    "# Transform test data with train data's scaler_library\n",
    "df_test = transform_cols_from_library(df_test,scaler_library)\n",
    "df_test.head()"
   ]
  },
  {
   "cell_type": "markdown",
   "metadata": {},
   "source": [
    "## REPLACE MADE_DF_TIMESERIES_BINS_BY_COLUMN with Kera's TimeseriesGenerator"
   ]
  },
  {
   "cell_type": "code",
   "execution_count": 56,
   "metadata": {},
   "outputs": [
    {
     "name": "stdout",
     "output_type": "stream",
     "text": [
      "Given the Array: \t(with shape=(1, 35, 1)) \n",
      "[0.99688612 0.99688612 1.         0.99154804 0.99154804 0.99154804\n",
      " 0.99688612 0.98843416 0.94483986 0.93772242 0.9274911  0.92348754\n",
      " 0.91770463 0.9274911  0.92615658 0.9230427  0.92482206 0.90969751\n",
      " 0.91459075 0.91770463 0.90480427 0.90613879 0.89279359 0.90258007\n",
      " 0.90258007 0.92482206 0.92704626 0.91236655 0.90480427 0.87855872\n",
      " 0.863879   0.8616548  0.85542705 0.84475089 0.81761566]\n",
      "\n",
      "Predict this y: \n",
      " [[0.80782918]]\n"
     ]
    }
   ],
   "source": [
    "from keras.preprocessing.sequence import TimeseriesGenerator\n",
    "\n",
    "# Define shape of data by specifing these vars:\n",
    "n_input = 35 # Number of timebins to analyze at once. Note: try to choose # greater than length of seasonal cycles\n",
    "n_features= 1 # Number of columns\n",
    "batch_size = 1 # Generally 1 for sequence data\n",
    "\n",
    "# RESHAPING TRAINING AND TEST DATA \n",
    "train_data = df_train['price'].values.reshape(-1,1)\n",
    "test_data = df_test['price'].values.reshape(-1,1)\n",
    "train_data_index =  df_train['price'].index\n",
    "test_data_index = df_test['price'].index\n",
    "\n",
    "\n",
    "## Create Generator for Training Data\n",
    "train_generator = TimeseriesGenerator(data=train_data, targets=train_data,length=n_input, batch_size=batch_size )\n",
    "test_generator = TimeseriesGenerator(data=test_data, targets=test_data,length=n_input, batch_size=batch_size )\n",
    "\n",
    "\n",
    "# What does the first batch look like?\n",
    "X,y = train_generator[0]\n",
    "print(f'Given the Array: \\t(with shape={X.shape}) \\n{X.flatten()}')\n",
    "print(f'\\nPredict this y: \\n {y}')"
   ]
  },
  {
   "cell_type": "code",
   "execution_count": null,
   "metadata": {},
   "outputs": [],
   "source": []
  },
  {
   "cell_type": "markdown",
   "metadata": {},
   "source": [
    "## TO DO:\n",
    "### add AIC and BIC\n",
    "\n",
    "#### NOTES ON Evaluating Forecast Accuracy\n",
    "- **Mean Absolute Error, Mean Squared Error, Root Mean Squared Error**\n",
    "    - A forecast method that minimizes the **MAE** will lead to **forecasts of the median*\n",
    "    - while minimizing the **RMSE will lead to forecasts of the mean.**\n",
    "    \n",
    "- **AIC / BIC**\n",
    "    - Akaike Information Criterion (AIC)\n",
    "    - Bayesian Information Criterion (BIC)\n",
    "    \n",
    "The AIC evaluates a collection of models and estimates the quality of each model relative to the others. Penalties are provided for the number of parameters used in an effort to thwart overfitting. The lower the AIC and BIC, the better the model should be at forecasting.\n",
    "\n",
    "These functions are available as\n",
    "\n",
    "    from from statsmodels.tools.eval_measures import aic, bic\n",
    "    \n"
   ]
  },
  {
   "cell_type": "code",
   "execution_count": null,
   "metadata": {},
   "outputs": [],
   "source": []
  },
  {
   "cell_type": "markdown",
   "metadata": {},
   "source": [
    "## Predicting Price with Keras LSTM - Using ONLY Price\n",
    "### def predict_model_make_results_dict & def plot_price_vs_preds"
   ]
  },
  {
   "cell_type": "markdown",
   "metadata": {},
   "source": [
    "## KERAS MODEL 1"
   ]
  },
  {
   "cell_type": "code",
   "execution_count": 58,
   "metadata": {},
   "outputs": [],
   "source": [
    "# Instantiating clock timer\n",
    "import bs_ds as bs\n",
    "clock = bs.Clock(verbose=0)"
   ]
  },
  {
   "cell_type": "code",
   "execution_count": 59,
   "metadata": {},
   "outputs": [],
   "source": [
    "# defining loss function to use\n",
    "def my_rmse(y_true,y_pred):\n",
    "    \"\"\"RMSE calculation using keras.backend\"\"\"\n",
    "    from keras import backend as kb\n",
    "    sq_err = kb.square(y_pred - y_true)\n",
    "    mse = kb.mean(sq_err,axis=-1)\n",
    "    rmse =kb.sqrt(mse)\n",
    "    return rmse\n",
    "\n",
    "# CREATING CALLBACKS\n",
    "from keras import callbacks\n",
    "filepath = 'models/model1_weights.{epoch:02d}-{my_rmse:.2f}.hdf5'\n",
    "checkpoint = callbacks.ModelCheckpoint(filepath=filepath, monitor=my_rmse,mode='min',\n",
    "                                       save_best_only=True, verbose=1)\n",
    "early_stop = callbacks.EarlyStopping(monitor=my_rmse,mode='min',patience=1,min_delta=.001,verbose=1)\n",
    "callbacks = [checkpoint,early_stop]\n",
    "\n",
    "\n",
    "# creating LOG list for forthcoming results\n",
    "LOG = [['Test #','Defining difference','RunTime','Test_RMSE_keras','Test_RMSE_price','acc','Train_RMSE_keras','Train_RMSE_price']]"
   ]
  },
  {
   "cell_type": "code",
   "execution_count": 81,
   "metadata": {},
   "outputs": [
    {
     "name": "stdout",
     "output_type": "stream",
     "text": [
      "_________________________________________________________________\n",
      "Layer (type)                 Output Shape              Param #   \n",
      "=================================================================\n",
      "lstm_17 (LSTM)               (None, 35, 50)            10400     \n",
      "_________________________________________________________________\n",
      "lstm_18 (LSTM)               (None, 50)                20200     \n",
      "_________________________________________________________________\n",
      "dense_8 (Dense)              (None, 1)                 51        \n",
      "=================================================================\n",
      "Total params: 30,651\n",
      "Trainable params: 30,651\n",
      "Non-trainable params: 0\n",
      "_________________________________________________________________\n"
     ]
    },
    {
     "data": {
      "text/plain": [
       "None"
      ]
     },
     "metadata": {},
     "output_type": "display_data"
    },
    {
     "name": "stdout",
     "output_type": "stream",
     "text": [
      "Clock started at 07/04/19 - 08:58:25 PM\n",
      "Epoch 1/4\n",
      " - 88s - loss: 0.0370 - acc: 4.5331e-04 - my_rmse: 0.0370\n",
      "Epoch 2/4\n",
      " - 87s - loss: 0.0210 - acc: 4.5331e-04 - my_rmse: 0.0210\n",
      "Epoch 3/4\n",
      " - 80s - loss: 0.0174 - acc: 4.5331e-04 - my_rmse: 0.0174\n",
      "Epoch 4/4\n",
      " - 82s - loss: 0.0161 - acc: 4.5331e-04 - my_rmse: 0.0161\n",
      "loss=[0.037  0.021  0.0174 0.0161]\n",
      "acc=[0.0005 0.0005 0.0005 0.0005]\n",
      "my_rmse=[0.037  0.021  0.0174 0.0161]\n",
      "\tLap #1 done @ 07/04/19 - 09:04:03 PM\tlabel:                     \tduration: 338.02797 sec)\n",
      "Total Time: 0:05:38.027970.\n",
      "0:05:38.027970\n"
     ]
    }
   ],
   "source": [
    "from keras.models import Sequential\n",
    "from keras.layers import Bidirectional, Dense, LSTM, Dropout\n",
    "from keras import optimizers\n",
    "\n",
    "# Specifying input shape (size of samples, rank of samples?)\n",
    "input_shape=(n_input, n_features)\n",
    "\n",
    "# Create model architecture\n",
    "model = Sequential()\n",
    "\n",
    "model.add(LSTM(units=50, return_sequences=True, input_shape =input_shape))\n",
    "model.add(LSTM(units=50, activation='relu'))\n",
    "model.add(Dense(1))\n",
    "\n",
    "# nadam = optimizers.Nadam(lr=0.002,)\n",
    "\n",
    "model.compile(loss=my_rmse, optimizer=optimizers.Nadam(), metrics=['acc', my_rmse])#,my_rmse])#,my_rmse])#,metrics=['acc'])optimizer='adam',\n",
    "display(model.summary())\n",
    "\n",
    "# start the timer\n",
    "clock.tic('')\n",
    "\n",
    "# Fit the model\n",
    "history = model.fit_generator(train_generator,epochs=4,verbose=2,callbacks=callbacks)\n",
    "\n",
    "model_results = model.history.history\n",
    "[print(f'{k}={np.round(v,4)}') for k,v in model_results.items()];\n",
    "# print('Loss per epoch: ',loss_per_epoch)\n",
    "# stop clock\n",
    "clock.toc('')\n",
    "duration = print(clock._lap_duration_)\n",
    "\n",
    "# from mod4functions_JMI import plot_keras_history_custom\n",
    "# plot_keras_history_custom(history);"
   ]
  },
  {
   "cell_type": "code",
   "execution_count": 82,
   "metadata": {},
   "outputs": [
    {
     "name": "stdout",
     "output_type": "stream",
     "text": [
      "Training Data:\n",
      "\t loss :  0.0111\n",
      "\t acc :  0.0005\n",
      "\t my_rmse :  0.0111\n",
      "Test Data:\n",
      "\t loss :  0.0122\n",
      "\t acc :  0.0\n",
      "\t my_rmse :  0.0122\n"
     ]
    },
    {
     "data": {
      "image/png": "[encoded data removed]",
      "text/plain": [
       "<Figure size 720x432 with 1 Axes>"
      ]
     },
     "metadata": {
      "needs_background": "light"
     },
     "output_type": "display_data"
    }
   ],
   "source": [
    "for k,v in model_results.items():\n",
    "    plt.plot(range(len(v)),v, label=k);\n",
    "plt.legend()\n",
    "\n",
    "\n",
    "# # EVALUATE MODEL PREDICTIONS FROM GENERATOR \n",
    "model_metrics = model.evaluate_generator(train_generator)\n",
    "print('Training Data:')\n",
    "[print('\\t',model.metrics_names[i],': ',np.round(model_metrics[i],4)) for i in range(len(model_metrics)) ];\n",
    "\n",
    "print('Test Data:')\n",
    "model_metrics = model.evaluate_generator(test_generator)\n",
    "[print('\\t',model.metrics_names[i],': ',np.round(model_metrics[i],4)) for i in range(len(model_metrics)) ];"
   ]
  },
  {
   "cell_type": "markdown",
   "metadata": {},
   "source": [
    "### def get_true_vs_model_pred_df"
   ]
  },
  {
   "cell_type": "code",
   "execution_count": 83,
   "metadata": {
    "code_folding": []
   },
   "outputs": [
    {
     "name": "stdout",
     "output_type": "stream",
     "text": [
      "Dropping 4693 null values.\n"
     ]
    },
    {
     "data": {
      "image/png": "[encoded data removed]",
      "text/plain": [
       "<Figure size 1008x360 with 2 Axes>"
      ]
     },
     "metadata": {
      "needs_background": "light"
     },
     "output_type": "display_data"
    }
   ],
   "source": [
    "def get_true_vs_model_pred_df(model, test_generator, test_index, train_generator, train_index, scaler=None,\n",
    "                              inverse_tf=True, plot=True, verbose=2):\n",
    "    \"\"\"Accepts a model, the training and testing data TimeseriesGenerators, the test_index and train_index.\n",
    "    Returns a dataframe with True and Predicted Values for Both the Training and Test Datasets.\"\"\"\n",
    "    \n",
    "    ## GET PREDICTIONS FROM MODEL\n",
    "    test_predictions = pd.Series(model.predict_generator(test_generator).ravel(), \n",
    "                                 index=test_data_index[n_input:], name='Predicted Test Price')\n",
    "\n",
    "    train_predictions = pd.Series(model.predict_generator(train_generator).ravel(), \n",
    "                                  index=train_data_index[n_input:], name='Predicted Training Price')\n",
    "\n",
    "    # Make a series for true price to plot\n",
    "    test_true_price = pd.Series( df_test['price'].rename('True Test Price').iloc[n_input:],\n",
    "                                index= test_data_index[n_input:], name='True Test Price')\n",
    "\n",
    "    train_true_price = pd.Series(df_train['price'].rename('True Training Price').iloc[n_input:],\n",
    "                                 index = train_data_index[n_input:], name='True Train Price')\n",
    "    \n",
    "    # Combine all 4 into one dataframe\n",
    "    df_show = pd.concat([train_true_price,train_predictions,test_true_price,test_predictions], axis=1)\n",
    "    \n",
    "    \n",
    "    # CONVERT BACK TO ORIGINAL UNIT SCALE \n",
    "    if inverse_tf==True:\n",
    "        \n",
    "        if scaler:\n",
    "            for col in df_show.columns:\n",
    "                df_show[col] = inverse_transform_series(df_show[col],scaler)\n",
    "            \n",
    "        else:\n",
    "            raise Exception('Must pass a fit scaler to inverse_tf the units.')\n",
    "            \n",
    "\n",
    "    # PREVIEW DATA\n",
    "    if verbose>1:\n",
    "        df_show.head()\n",
    "        \n",
    "    if plot==True:\n",
    "        plot_true_vs_preds_subplots(df_show['True Train Price'],df_show['True Test Price'], \n",
    "                                    df_show['Predicted Test Price'], subplots=True)\n",
    "        \n",
    "    return df_show\n",
    "df_model = get_true_vs_model_pred_df(model, test_generator,test_data_index, train_generator,train_data_index,\n",
    "                                    scaler_library['price'],inverse_tf=True, plot=True)"
   ]
  },
  {
   "cell_type": "markdown",
   "metadata": {},
   "source": [
    "### Adding Forecasting Quality Statistic - Thiel's U\n",
    "- https://docs.oracle.com/cd/E57185_01/CBREG/ch06s02s03s04.html\n",
    "\n",
    "|Thiel's U Value | Interpretation |\n",
    "| --- | --- |\n",
    "| <1 | Forecasting is better than guessing|\n",
    "| 1 | Forecasting is about as good as guessing|\n",
    "|>1 | Forecasting is worse than guessing|\n",
    "\n",
    "$$U = \\sqrt{\\frac{ \\sum_{t=1 }^{n-1}\\left(\\frac{\\bar{Y}_{t+1} - Y_{t+1}}{Y_t}\\right)^2}{\\sum_{t=1 }^{n-1}\\left(\\frac{Y_{t+1} - Y_{t}}{Y_t}\\right)^2}}$$\n",
    "### ALSO EXAMINE RECOMMENDATIONS FROM THIS FORUM\n",
    "https://stats.stackexchange.com/questions/351808/lstm-time-series-forecasting-accuracy"
   ]
  },
  {
   "cell_type": "code",
   "execution_count": 84,
   "metadata": {
    "code_folding": []
   },
   "outputs": [],
   "source": [
    "def thiels_U(ys_true, ys_pred):\n",
    "    sum_list = []\n",
    "    num_list=[]\n",
    "    denom_list=[]\n",
    "    for t in range(len(ys_true)-1):\n",
    "        num_exp = (ys_pred[t+1] - ys_true[t+1])/ys_true[t]\n",
    "        num_list.append([num_exp**2])\n",
    "        denom_exp = (ys_true[t+1] - ys_true[t])/ys_true[t]\n",
    "        denom_list.append([denom_exp**2])\n",
    "    U = np.sqrt( np.sum(num_list) / np.sum(denom_list))\n",
    "    return U        "
   ]
  },
  {
   "cell_type": "code",
   "execution_count": 85,
   "metadata": {},
   "outputs": [
    {
     "name": "stdout",
     "output_type": "stream",
     "text": [
      "Thiel's U =  1.0329957299604846\n"
     ]
    },
    {
     "data": {
      "image/png": "[encoded data removed]",
      "text/plain": [
       "<Figure size 720x432 with 1 Axes>"
      ]
     },
     "metadata": {
      "needs_background": "light"
     },
     "output_type": "display_data"
    }
   ],
   "source": [
    "# REVERTING BACK TO ORIGINAL METHOD NOW THAT I UNDERSTAND I NEED TO SHIFT TRUE VALUES -1\n",
    "# plot_preds_with_thiels_u(mode, test_generator,)\n",
    "# GET PREDICTIONS FROM TEST_GENERATOR\n",
    "preds_from_gen = pd.Series(model.predict_generator(test_generator).ravel(), \n",
    "                             index=test_data_index[n_input:], name='preds_from_gen')\n",
    "\n",
    "# EXTRACT TARGET DATA (TRUE VALUES USED))\n",
    "true_data = [ i[1][0].tolist()[0] for i in test_generator]\n",
    "true_from_gen = pd.Series(data=true_data,index=test_data_index[n_input:], name='true_from_gen') # get the target values\n",
    "\n",
    "df_U = pd.concat([true_from_gen,preds_from_gen],axis=1)\n",
    "\n",
    "df_U.head()\n",
    "df_U.plot()\n",
    "plt.legend()\n",
    "\n",
    "U =thiels_U(df_U['true_from_gen'].values,df_U['preds_from_gen'].values)\n",
    "plt.title('True Price vs Predicted Price')\n",
    "print(\"Thiel's U = \",U)"
   ]
  },
  {
   "cell_type": "markdown",
   "metadata": {},
   "source": [
    "#### Attempting to see if keras predicitons seem shifted"
   ]
  },
  {
   "cell_type": "code",
   "execution_count": 87,
   "metadata": {
    "code_folding": []
   },
   "outputs": [
    {
     "data": {
      "text/html": [
       "<div>\n",
       "<style scoped>\n",
       "    .dataframe tbody tr th:only-of-type {\n",
       "        vertical-align: middle;\n",
       "    }\n",
       "\n",
       "    .dataframe tbody tr th {\n",
       "        vertical-align: top;\n",
       "    }\n",
       "\n",
       "    .dataframe thead th {\n",
       "        text-align: right;\n",
       "    }\n",
       "</style>\n",
       "<table border=\"1\" class=\"dataframe\">\n",
       "  <thead>\n",
       "    <tr style=\"text-align: right;\">\n",
       "      <th></th>\n",
       "      <th>U</th>\n",
       "    </tr>\n",
       "    <tr>\n",
       "      <th>true_data_shift</th>\n",
       "      <th></th>\n",
       "    </tr>\n",
       "  </thead>\n",
       "  <tbody>\n",
       "    <tr>\n",
       "      <th>-2</th>\n",
       "      <td>1.722427</td>\n",
       "    </tr>\n",
       "    <tr>\n",
       "      <th>-1</th>\n",
       "      <td>1.416817</td>\n",
       "    </tr>\n",
       "    <tr>\n",
       "      <th>0</th>\n",
       "      <td>1.032996</td>\n",
       "    </tr>\n",
       "    <tr>\n",
       "      <th>1</th>\n",
       "      <td>0.213281</td>\n",
       "    </tr>\n",
       "    <tr>\n",
       "      <th>2</th>\n",
       "      <td>1.149624</td>\n",
       "    </tr>\n",
       "  </tbody>\n",
       "</table>\n",
       "</div>"
      ],
      "text/plain": [
       "                        U\n",
       "true_data_shift          \n",
       "-2               1.722427\n",
       "-1               1.416817\n",
       " 0               1.032996\n",
       " 1               0.213281\n",
       " 2               1.149624"
      ]
     },
     "execution_count": 87,
     "metadata": {},
     "output_type": "execute_result"
    },
    {
     "data": {
      "image/png": "[encoded data removed]",
      "text/plain": [
       "<Figure size 720x432 with 1 Axes>"
      ]
     },
     "metadata": {
      "needs_background": "light"
     },
     "output_type": "display_data"
    }
   ],
   "source": [
    "## SHIFT THE TRUE VALUES, PLOT, AND CALC THIEL's U\n",
    "shift_list = [-2,-1,0,1,2]\n",
    "\n",
    "def get_u_for_shifts(shift_list,plot_all=False,plot_best=True):\n",
    "    results=[['true_data_shift','U']]\n",
    "    \n",
    "    if plot_all==True:\n",
    "        df_U['preds_from_gen'].plot(label = 'Prediction')\n",
    "        plt.legend()\n",
    "        plt.title('Shifted Time Series vs Predicted')\n",
    "        \n",
    "        \n",
    "    for i,shift in enumerate(shift_list):\n",
    "        if plot_all==True:\n",
    "            df_U['true_from_gen'].shift(shift).plot(label = f'True + Shift({shift})')\n",
    "\n",
    "        df_shift=pd.DataFrame()\n",
    "        df_shift['true'] = df_U['true_from_gen'].shift(shift)\n",
    "        df_shift['pred'] =df_U['preds_from_gen']\n",
    "        df_shift.dropna(inplace=True)\n",
    "\n",
    "        U =thiels_U(df_shift['true'], df_shift['pred'])\n",
    "        results.append([shift,U])\n",
    "    \n",
    "    \n",
    "    df_results = bs.list2df(results, index_col='true_data_shift')\n",
    "    if plot_best==True:\n",
    "        shift = df_results.idxmin()[0]\n",
    "        df_U['preds_from_gen'].plot(label = 'Prediction')\n",
    "        df_U['true_from_gen'].shift(shift).plot(ls='--',label = f'True + Shift({shift})')\n",
    "        plt.legend()\n",
    "        plt.title(\"Best Thiel's U for Shifted Time Series\")\n",
    "#         plt.show()\n",
    "    return df_results\n",
    "\n",
    "get_u_for_shifts(shift_list, plot_all=False)"
   ]
  },
  {
   "cell_type": "code",
   "execution_count": 2,
   "metadata": {},
   "outputs": [
    {
     "ename": "NameError",
     "evalue": "name 'shift_list' is not defined",
     "output_type": "error",
     "traceback": [
      "\u001b[1;31m---------------------------------------------------------------------------\u001b[0m",
      "\u001b[1;31mNameError\u001b[0m                                 Traceback (most recent call last)",
      "\u001b[1;32m<ipython-input-2-7c2804845767>\u001b[0m in \u001b[0;36m<module>\u001b[1;34m\u001b[0m\n\u001b[1;32m----> 1\u001b[1;33m \u001b[0mdf_U\u001b[0m\u001b[1;33m=\u001b[0m\u001b[0mshift_list\u001b[0m\u001b[1;33m\u001b[0m\u001b[1;33m\u001b[0m\u001b[0m\n\u001b[0m\u001b[0;32m      2\u001b[0m \u001b[0mdf_U\u001b[0m\u001b[1;33m[\u001b[0m\u001b[1;34m'preds_from_gen'\u001b[0m\u001b[1;33m]\u001b[0m\u001b[1;33m.\u001b[0m\u001b[0mplot\u001b[0m\u001b[1;33m(\u001b[0m\u001b[0mlabel\u001b[0m \u001b[1;33m=\u001b[0m \u001b[1;34m'Prediction'\u001b[0m\u001b[1;33m)\u001b[0m\u001b[1;33m\u001b[0m\u001b[1;33m\u001b[0m\u001b[0m\n\u001b[0;32m      3\u001b[0m \u001b[0mdf_U\u001b[0m\u001b[1;33m[\u001b[0m\u001b[1;34m'true_from_gen'\u001b[0m\u001b[1;33m]\u001b[0m\u001b[1;33m.\u001b[0m\u001b[0mshift\u001b[0m\u001b[1;33m(\u001b[0m\u001b[0mshift\u001b[0m\u001b[1;33m)\u001b[0m\u001b[1;33m.\u001b[0m\u001b[0mplot\u001b[0m\u001b[1;33m(\u001b[0m\u001b[0mls\u001b[0m\u001b[1;33m=\u001b[0m\u001b[1;34m'--'\u001b[0m\u001b[1;33m,\u001b[0m\u001b[0mlabel\u001b[0m \u001b[1;33m=\u001b[0m \u001b[1;34mf'True + Shift({shift})'\u001b[0m\u001b[1;33m)\u001b[0m\u001b[1;33m\u001b[0m\u001b[1;33m\u001b[0m\u001b[0m\n\u001b[0;32m      4\u001b[0m \u001b[0mplt\u001b[0m\u001b[1;33m.\u001b[0m\u001b[0mlegend\u001b[0m\u001b[1;33m(\u001b[0m\u001b[1;33m)\u001b[0m\u001b[1;33m\u001b[0m\u001b[1;33m\u001b[0m\u001b[0m\n\u001b[0;32m      5\u001b[0m \u001b[0mplt\u001b[0m\u001b[1;33m.\u001b[0m\u001b[0mxlim\u001b[0m\u001b[1;33m(\u001b[0m\u001b[1;33m[\u001b[0m\u001b[1;34m'05-29-2019'\u001b[0m\u001b[1;33m]\u001b[0m\u001b[1;33m)\u001b[0m\u001b[1;33m\u001b[0m\u001b[1;33m\u001b[0m\u001b[0m\n",
      "\u001b[1;31mNameError\u001b[0m: name 'shift_list' is not defined"
     ]
    }
   ],
   "source": [
    "df_U=shift_list\n",
    "df_U['preds_from_gen'].plot(label = 'Prediction')\n",
    "df_U['true_from_gen'].shift(shift).plot(ls='--',label = f'True + Shift({shift})')\n",
    "plt.legend()\n",
    "plt.xlim(['05-29-2019'])\n",
    "plt.title(\"Best Thiel's U for Shifted Time Series\")"
   ]
  },
  {
   "cell_type": "code",
   "execution_count": null,
   "metadata": {
    "code_folding": [
     0
    ]
   },
   "outputs": [],
   "source": [
    "# # cross correlation \n",
    "# from scipy.signal import correlate\n",
    "# xcorr = correlate(df_U['preds_from_gen'], df_U['true_from_gen'], mode='same')\n",
    "# x = df_U['true_from_gen']\n",
    "# y = df_U['preds_from_gen']\n",
    "# plt.plot(x)\n",
    "# plt.plot(y)\n",
    "# plt.figure()\n",
    "# plt.xcorr(x,y,normed=False)\n",
    "# # plt.xticks()"
   ]
  },
  {
   "cell_type": "code",
   "execution_count": null,
   "metadata": {
    "code_folding": []
   },
   "outputs": [],
   "source": [
    "# shift = df_results.idxmin()[0]\n",
    "# df_U['preds_from_gen'].plot(label = 'Prediction')\n",
    "# df_U['true_from_gen'].shift(shift).plot(ls='--',label = f'True + Shift({shift})')\n",
    "# plt.legend()\n",
    "# plt.title(\"Best Thiel's U for Shifted Time Series\")"
   ]
  },
  {
   "cell_type": "code",
   "execution_count": null,
   "metadata": {
    "code_folding": []
   },
   "outputs": [],
   "source": [
    "# ## SHIFT THE TRUE VALUES, PLOT, AND CALC THIEL's U\n",
    "# shift_list = [-2,-1,0,1,2]\n",
    "\n",
    "# results=[['true_data_shift','U']]\n",
    "\n",
    "# df_U['preds_from_gen'].plot(ls='--',label = 'Prediction')\n",
    "# for i,shift in enumerate(shift_list):\n",
    "# #     df_U['true_from_gen'].shift(shift).plot(label = f'True + Shift({shift})')\n",
    "\n",
    "#     df_shift=pd.DataFrame()\n",
    "#     df_shift['true'] = df_U['true_from_gen'].shift(shift)\n",
    "#     df_shift['pred'] =df_U['preds_from_gen']\n",
    "#     df_shift.dropna(inplace=True)\n",
    "\n",
    "#     U =thiels_U(df_shift['true'], df_shift['pred'])\n",
    "#     if i>0:\n",
    "#         prior_U = results[-1][1]\n",
    "#         if prior_U>U:\n",
    "#             df_shift['true'].plot(alpha=0.6,label = f'True + Shift({shift}): U={U.round(3)}')\n",
    "\n",
    "#     results.append([shift,U])\n",
    "# plt.legend()\n",
    "# bs.list2df(results)"
   ]
  },
  {
   "cell_type": "code",
   "execution_count": null,
   "metadata": {
    "code_folding": [
     0
    ]
   },
   "outputs": [],
   "source": [
    "#  Get test sequence 1\n",
    "\n",
    "time = 10 # which index in generated data to use\n",
    "gen_test_x = test_generator[time][0]\n",
    "gen_test_y = test_generator[time][1]\n",
    "\n",
    "test_data_match_gen = df_test['price'].values\n",
    "\n",
    "ix = -5 # how many values in the X sequence to display\n",
    "show_x = gen_test_x[0].ravel()[ix:]\n",
    "\n",
    "print(f'For index[{time}]:')\n",
    "print(f'Last {ix} x in sequence:\\n\\t',show_x)\n",
    "print('Y-value from gen: ',gen_test_y)\n",
    "\n",
    "id_offset = 35\n",
    "idx_df = time+id_offset\n",
    "\n",
    "print(f'\\nPrior {ix} values from df_test:\\n\\t', test_data_match_gen[idx_df-5:idx_df])\n",
    "print('Y-values from df_test: ',test_data_match_gen[idx_df])#34:37])\n"
   ]
  },
  {
   "cell_type": "code",
   "execution_count": null,
   "metadata": {
    "code_folding": [
     0
    ]
   },
   "outputs": [],
   "source": [
    "## NEW EVAL METHOD USING PREDICTIONS AS PART OF SLIDING WINDOW\n",
    "    # # GETTING THE FIRST EVAL PATCH AND RESHAPING TO MATCH INPUT\n",
    "    # first_eval_batch = train_data[-n_input:]\n",
    "    # current_batch = first_eval_batch.reshape((1, n_input, n_features))\n",
    "    # test_predictions=[]\n",
    "    # # LOOP THROUGH ALL TEST DATA\n",
    "    # for i in range(len(test_data)):\n",
    "\n",
    "    #     # get prediction 1 time stamp ahead ([0] is for grabbing just the number instead of [array])\n",
    "    #     current_pred = model.predict(current_batch)[0] \n",
    "\n",
    "    #     # store prediction\n",
    "    #     test_predictions.append(current_pred) \n",
    "\n",
    "    #     # UPDATE BATCH TO INCLUDE CURRENT PREDICTION AND DROP OLDEST VALUE FROM ARRAY\n",
    "    #     current_batch = np.append(current_batch[:,1:,:],[[current_pred]],axis=1) # axis===ndim"
   ]
  },
  {
   "cell_type": "markdown",
   "metadata": {},
   "source": [
    "## KERAS MODEL 2\n"
   ]
  },
  {
   "cell_type": "code",
   "execution_count": null,
   "metadata": {},
   "outputs": [],
   "source": [
    "from keras.models import Sequential\n",
    "from keras.layers import Bidirectional, Dense, LSTM\n",
    "\n",
    "log_message = 'Document changes here'\n",
    "# Specifying input shape (size of samples, rank of samples?)\n",
    "input_shape =  (X_train_in.shape[1],1)\n",
    "\n",
    "# Create model architecture\n",
    "model = Sequential()\n",
    "\n",
    "\n",
    "model.add(Bidirectional(LSTM(units=50, return_sequences=True, input_shape =input_shape), input_shape = input_shape))\n",
    "model.add(LSTM(units=50))\n",
    "# model.add(Dense(50))\n",
    "model.add(Dense(1))\n",
    "\n",
    "model.compile(loss=my_rmse, optimizer='adam', metrics=['acc'])#,my_rmse])#,metrics=['acc'])\n",
    "display(model.summary())\n",
    "\n",
    "# start the timer\n",
    "clock.tic('')\n",
    "\n",
    "# Fit the model\n",
    "history = model.fit(X_train_in, y_train, epochs=5, verbose=0, validation_split=(0.25))\n",
    "\n",
    "# stop clock\n",
    "clock.toc('')\n",
    "duration = print(clock._lap_duration_)\n",
    "\n",
    "# from mod4functions_JMI import plot_keras_history\n",
    "# plot_keras_history(history);\n",
    "\n",
    "\n",
    "# EVALUATE AND PLOT MODEL PREDICTIONS - TEST DATA\n",
    "test_keras_rmse, test_acc = model.evaluate(X_test_in, y_test, verbose=0)\n",
    "print(f'Test data:\\trmse={test_keras_rmse}, acc={test_acc}')\n",
    "\n",
    "# EVALUATE AND PLOT MODEL PREDICTIONS - TRAIN DATA\n",
    "train_keras_rmse, train_acc = model.evaluate(X_train_in, y_train, verbose=0)\n",
    "print(f'Train data:\\trmse={train_keras_rmse}, acc={train_acc}')\n",
    "\n",
    "\n",
    "\n",
    "# Get dfs with prices converted back to original units\n",
    "df_train_price, df_test_price = predict_model_make_results_dict(model, X_test_in, y_test,test_index,\n",
    "                                                                X_train_in, y_train,train_index, return_as_dfs=True)\n",
    "\n",
    "# display(df_train_price.head().style.set_caption('df_train_price'), df_test_price.head().style.set_caption('df_test_price'))\n",
    "\n",
    "# Calculate RMSE using actual prics\n",
    "test_price_rmse = np.sqrt(mean_squared_error(df_test_price['test_price'],df_test_price['pred_price']))\n",
    "train_price_rmse = np.sqrt(mean_squared_error(df_train_price['train_price'],df_train_price['pred_train_price']))\n",
    "\n",
    "\n",
    "# Append log\n",
    "LOG.append([1,'Initial Model- Using my RMSE with val_split',duration, \n",
    "            test_keras_rmse, test_price_rmse, test_acc, train_keras_rmse,train_price_rmse ])\n",
    "\n",
    "display(bs.list2df(LOG, index_col='Test #'))\n",
    "\n",
    "df_train_price, df_test_price = predict_model_make_results_dict(model, X_test_in, y_test,test_index,\n",
    "                                                                X_train_in, y_train, train_index, return_as_dfs=True)\n",
    "plot_price_vs_preds(df_train_price['train_price'],df_test_price['test_price'],df_test_price['pred_price'])"
   ]
  },
  {
   "cell_type": "markdown",
   "metadata": {},
   "source": [
    "## BOOKMARK- KERAS MODEL 3 -  WHAT SHOULD TARGETS BE??\n",
    "ADDING IN OTHER X_DATA\n",
    "- Evernote clip on input sized https://www.evernote.com/l/AApaMa9-oNtNbJieNggbfNdEsyrKRx1FV8o/\n",
    "\n",
    "- **USING TIME GENERATOR**\n",
    "    - https://www.dlology.com/blog/how-to-use-keras-timeseriesgenerator-for-time-series-data/"
   ]
  },
  {
   "cell_type": "code",
   "execution_count": null,
   "metadata": {},
   "outputs": [],
   "source": [
    "[np.shape(x) for x in [train_data,train_target]], [np.shape(x) for x in [test_data,test_target]]"
   ]
  },
  {
   "cell_type": "code",
   "execution_count": null,
   "metadata": {},
   "outputs": [],
   "source": [
    "train_data = np.hstack(df_train.values)#.reshape(-1,1)\n",
    "\n",
    "df_train.shape, train_data.shape"
   ]
  },
  {
   "cell_type": "code",
   "execution_count": null,
   "metadata": {},
   "outputs": [],
   "source": [
    "# Define shape of data by specifing these vars:\n",
    "n_input = 35 # Number of timebins to analyze at once. Note: try to choose # greater than length of seasonal cycles\n",
    "n_features = df_train.shape[1] # Number of columns\n",
    "batch_size = 1 # Generally 1 for sequence data\n",
    "\n",
    "# RESHAPING TRAINING AND TEST DATA \n",
    "train_data_index =  df_train['price'].index\n",
    "train_data = df_train.values#.reshape(-1,1)\n",
    "train_target = df_train['price'].values.reshape((len(df_train['price']), 1))\n",
    "# n_seq2 = in_seq2\n",
    "\n",
    "test_data_index = df_test['price'].index\n",
    "test_data = df_test.values\n",
    "test_target = df_test['price'].values.reshape(-1,1)\n",
    "\n",
    "\n",
    "## BOOKMARK- WHAT SHOULD TARGETS BE??\n",
    "\n",
    "## Create Generator for Training Data\n",
    "train_generator = TimeseriesGenerator(data=train_data, targets=train_target, \n",
    "                                      length=n_input, batch_size=batch_size )\n",
    "\n",
    "test_generator = TimeseriesGenerator(data=test_data, targets=test_target, \n",
    "                                     length=n_input, batch_size=batch_size )"
   ]
  },
  {
   "cell_type": "code",
   "execution_count": null,
   "metadata": {},
   "outputs": [],
   "source": [
    "from keras.models import Sequential\n",
    "from keras.layers import Bidirectional, Dense, LSTM, Dropout\n",
    "\n",
    "# Specifying input shape (size of samples, rank of samples?)\n",
    "input_shape=(n_input, n_features)\n",
    "\n",
    "# Create model architecture\n",
    "model3 = Sequential()\n",
    "\n",
    "model3.add(LSTM(units=50, return_sequences=True, input_shape =input_shape))\n",
    "# model.add(Dropout(0.1))\n",
    "model3.add(LSTM(units=50))\n",
    "# model.add(Dense(10))\n",
    "model3.add(Dense(1))\n",
    "\n",
    "model3.compile(loss=my_rmse, optimizer='adam', metrics=['acc'])#,my_rmse])#,my_rmse])#,metrics=['acc'])optimizer='adam',\n",
    "display(model3.summary())\n",
    "\n",
    "# start the timer\n",
    "clock.tic('')\n",
    "\n",
    "# Fit the model\n",
    "history = model3.fit_generator(train_generator,epochs=5,verbose=2)\n",
    "\n",
    "# stop clock\n",
    "clock.toc('')\n",
    "duration = print(clock._lap_duration_)\n",
    "\n",
    "# from mod4functions_JMI import plot_keras_history_custom\n",
    "# plot_keras_history_custom(history);"
   ]
  },
  {
   "cell_type": "code",
   "execution_count": null,
   "metadata": {},
   "outputs": [],
   "source": [
    "model_results = model3.history.history\n",
    "# [print(f'{k}={np.round(v,4)}') for k,v in model_results.items()];\n",
    "# print('Loss per epoch: ',loss_per_epoch)\n",
    "for k,v in model_results.items():\n",
    "    plt.plot(range(len(v)),v, label=k);\n",
    "plt.legend()\n",
    "\n",
    "\n",
    "# # EVALUATE MODEL PREDICTIONS FROM GENERATOR \n",
    "model_metrics = model3.evaluate_generator(train_generator)\n",
    "print('Training Data:')\n",
    "[print('\\t',model3.metrics_names[i],': ',np.round(model_metrics[i],4)) for i in range(len(model_metrics)) ];\n",
    "\n",
    "print('Test Data:')\n",
    "model_metrics = model3.evaluate_generator(test_generator)\n",
    "[print('\\t',model.metrics_names[i],': ',np.round(model_metrics[i],4)) for i in range(len(model_metrics)) ];"
   ]
  },
  {
   "cell_type": "code",
   "execution_count": null,
   "metadata": {},
   "outputs": [],
   "source": [
    "df_model3=get_true_vs_model_pred_df(model3,test_generator, test_data_index,train_generator,train_data_index,scaler_library['price'])"
   ]
  },
  {
   "cell_type": "code",
   "execution_count": null,
   "metadata": {},
   "outputs": [],
   "source": [
    "# # # Creating X,y and index for training data and test data\n",
    "# train_index =df_train_bins.index\n",
    "# test_index = df_test_bins.index\n",
    "\n",
    "# # X_train = df_train_bins['price_bins'].values\n",
    "# # y_train = df_train_bins['price_labels'].values\n",
    "\n",
    "# # X_test = df_test_bins['price_bins'].values\n",
    "# # y_test = df_test_bins['price_labels'].values\n",
    "\n",
    "# train_generator = TimeseriesGenerator()"
   ]
  },
  {
   "cell_type": "code",
   "execution_count": null,
   "metadata": {},
   "outputs": [],
   "source": [
    "# X1= df_train_bins['price_bins'].values.reshape(-1,1)\n",
    "# X2 = df_train_bins['ma7_bins'].values.reshape(-1,1)\n",
    "\n",
    "# print(np.shape(X1), np.shape(X2))\n",
    "# X12 = np.hstack((X1,X2))\n",
    "# print(X12.shape)\n",
    "\n",
    "# X_12_in = np.reshape(X12,(X12.shape[0],X12.shape[1],1))\n",
    "# print(X_12_in.shape)"
   ]
  },
  {
   "cell_type": "code",
   "execution_count": null,
   "metadata": {
    "scrolled": false
   },
   "outputs": [],
   "source": [
    "## BOOKMARK TROUBLESHOOTING X MATRIX SHAPE\n",
    "Xt = df_train_bins['price_bins'].values\n",
    "\n",
    "def print_array_info(X):\n",
    "    Xt=X\n",
    "    print('X type:',type(Xt))\n",
    "    print(f'X.shape = {Xt.shape}')\n",
    "    print(f'\\nX[0].shape = {Xt[0].shape}')\n",
    "    print(f'X[0] contains:\\n\\t',Xt[0])\n",
    "# print(Xt[0])\n",
    "# print(Xt[:3])\n",
    "print_array_info(Xt)"
   ]
  },
  {
   "cell_type": "code",
   "execution_count": null,
   "metadata": {},
   "outputs": [],
   "source": [
    "# # # Converting all X into a 3d  arrays\n",
    "# columns = df_train_bins.filter(regex=('bins')).columns\n",
    "# X_train_stack=np.ndarray(shape=(len(df_train_bins),1))\n",
    "\n",
    "# X_col_stack = []\n",
    "# print(X_train_stack.shape)\n",
    "\n",
    "# for col in columns:\n",
    "    \n",
    "#     X_train_col = df_train_bins[col].values#.reshape(-1,1)\n",
    "#     X_train_col = np.vstack(X_train_col)\n",
    "    \n",
    "#     X_train_stack =  np.hstack((X_train_stack, X_train_col))\n",
    "# X_train_in = np.reshape(X_train_stack,(X_train_stack.shape[0],X_train_stack.shape[1],1))\n",
    "    \n",
    "# print(X_train_in.shape)"
   ]
  },
  {
   "cell_type": "code",
   "execution_count": null,
   "metadata": {},
   "outputs": [],
   "source": [
    "# columns = df_test_bins.filter(regex=('bins')).columns\n",
    "# X_test_stack=np.ndarray(shape=(len(df_test_bins),1))\n",
    "\n",
    "# X_col_stack = []\n",
    "# print(X_train_stack.shape)\n",
    "\n",
    "# for col in columns:\n",
    "    \n",
    "#     X_test_col = df_test_bins[col].values#.reshape(-1,1)\n",
    "#     X_test_col = np.vstack(X_test_col)\n",
    "    \n",
    "#     X_test_stack =  np.hstack((X_test_stack, X_test_col))\n",
    "# X_test_in = np.reshape(X_test_stack,(X_test_stack.shape[0],X_test_stack.shape[1],1))\n",
    "    \n",
    "# print(X_train_in.shape)"
   ]
  },
  {
   "cell_type": "code",
   "execution_count": null,
   "metadata": {},
   "outputs": [],
   "source": [
    "# X_train_stack.shape"
   ]
  },
  {
   "cell_type": "code",
   "execution_count": null,
   "metadata": {
    "scrolled": true
   },
   "outputs": [],
   "source": [
    "# # Converting all X and y into 2D arrays\n",
    "# X_train_stack =  np.vstack(X_train)\n",
    "# X_train_in = np.reshape(X_train_stack,(X_train_stack.shape[0],X_train_stack.shape[1],1))\n",
    "\n",
    "# X_test_stack =  np.vstack(X_test)\n",
    "# X_test_in = np.reshape(X_test_stack,(X_test_stack.shape[0],X_test_stack.shape[1],1))\n",
    "# X_train_in\n",
    "\n",
    "# Set True to display array details\n",
    "# show_array_details = True\n",
    "\n",
    "# Display details of array data, if desired\n",
    "# if show_array_details==True:\n",
    "#     var_dict = {'X_train':X_train_in, 'y_train':y_train,'X_test':X_test_in,'y_test':y_test}\n",
    "#     for name, arr in var_dict.items():\n",
    "#         print_array_inf(arr,name)"
   ]
  },
  {
   "cell_type": "code",
   "execution_count": null,
   "metadata": {},
   "outputs": [],
   "source": [
    "from keras.models import Sequential\n",
    "from keras.layers import Bidirectional, Dense, LSTM\n",
    "\n",
    "# Specifying input shape (size of samples, rank of samples?)\n",
    "input_shape =  (X_train_in.shape[1],1)\n",
    "\n",
    "# Create model architecture\n",
    "model = Sequential()\n",
    "\n",
    "model.add(LSTM(units=50, return_sequences=True, \n",
    "                             input_shape =input_shape))#,input_shape=input_shape))\n",
    "model.add(LSTM(units=50))\n",
    "model.add(Dense(units=25))\n",
    "model.add(Dense(1))\n",
    "\n",
    "model.compile(loss=my_rmse, optimizer='adam', metrics=['acc'])#,my_rmse])#,metrics=['acc'])\n",
    "display(model.summary())\n",
    "\n",
    "# start the timer\n",
    "clock.tic('')\n",
    "\n",
    "# Fit the model\n",
    "history = model.fit(X_train_in, y_train, epochs=5, verbose=1, validation_split=(0.05))\n",
    "\n",
    "# stop clock\n",
    "clock.toc('')\n",
    "duration = print(clock._lap_duration_)\n",
    "\n",
    "from mod4functions_JMI import plot_keras_history\n",
    "plot_keras_history(history);"
   ]
  },
  {
   "cell_type": "code",
   "execution_count": null,
   "metadata": {},
   "outputs": [],
   "source": [
    "# EVALUATE AND PLOT MODEL PREDICTIONS - TEST DATA\n",
    "test_keras_rmse, test_acc = model.evaluate(X_test_in, y_test, verbose=1)\n",
    "print(f'Test data:\\trmse={test_keras_rmse}, acc={test_acc}')\n",
    "\n",
    "# EVALUATE AND PLOT MODEL PREDICTIONS - TRAIN DATA\n",
    "train_keras_rmse, train_acc = model.evaluate(X_train_in, y_train, verbose=0)\n",
    "print(f'Train data:\\trmse={train_keras_rmse}, acc={train_acc}')\n",
    "\n",
    "\n",
    "\n",
    "# Get dfs with prices converted back to original units\n",
    "df_train_price, df_test_price = predict_model_make_results_dict(model, X_test_in, y_test,test_index,\n",
    "                                                                X_train_in, y_train,train_index, return_as_dfs=True)\n",
    "\n",
    "display(df_train_price.head().style.set_caption('df_train_price'), df_test_price.head().style.set_caption('df_test_price'))"
   ]
  },
  {
   "cell_type": "code",
   "execution_count": null,
   "metadata": {},
   "outputs": [],
   "source": [
    "df_train_price, df_test_price = predict_model_make_results_dict(model, X_test_in, y_test,test_index,\n",
    "                                                                X_train_in, y_train, train_index, return_as_dfs=True)\n",
    "print('Train :',df_train_price.isna().sum())\n",
    "print('Test :',df_test_price.isna().sum())\n",
    "\n",
    "df_train_price.dropna(inplace=True)\n",
    "df_test_price.dropna(inplace=True)\n",
    "\n",
    "plot_price_vs_preds(df_train_price['train_price'],df_test_price['test_price'],df_test_price['pred_price'],subplots=True)"
   ]
  },
  {
   "cell_type": "markdown",
   "metadata": {},
   "source": [
    "\n",
    "___\n",
    "\n",
    "___"
   ]
  },
  {
   "cell_type": "markdown",
   "metadata": {
    "heading_collapsed": true
   },
   "source": [
    "## Blog Post Code\n",
    "- NEW BLOG POST - LSTM TIME SERIES FORECASTING\n",
    "    - https://machinelearningmastery.com/how-to-develop-lstm-models-for-time-series-forecasting/\n",
    "- https://www.analyticsvidhya.com/blog/2018/10/predicting-stock-price-machine-learningnd-deep-learning-techniques-python/"
   ]
  },
  {
   "cell_type": "code",
   "execution_count": null,
   "metadata": {
    "hidden": true,
    "scrolled": false
   },
   "outputs": [],
   "source": [
    "from keras.layers import TimeDistributed, Conv1D, MaxPool1D, Flatten, LSTM, Dense\n",
    "model = Sequential()\n",
    "input_shape =  (X_train_in.shape[0],X_train_in.shape[1],1)\n",
    "model.add(TimeDistributed(Conv1D(filters=64, kernel_size=1, activation='relu'), input_shape=input_shape)) #(None, n_steps, n_features)))\n",
    "model.add(TimeDistributed(MaxPooling1D(pool_size=2)))\n",
    "model.add(TimeDistributed(Flatten()))\n",
    "model.add(LSTM(50, activation='relu'))\n",
    "model.add(Dense(1))\n",
    "model.compile(optimizer='adam', loss='mse')\n",
    "# fit model\n",
    "model.fit(X_train_in, y_train, epochs=500, verbose=0)\n",
    "# demonstrate prediction\n",
    "# x_input = array([60, 70, 80, 90])\n",
    "# x_input = x_input.reshape((1, n_seq, n_steps, n_features))\n",
    "\n",
    "# yhat = model.predict(X_test_in, verbose=0)\n",
    "# print(yhat)\n",
    "\n",
    "predictions = pd.Series(predictions.ravel(),name='predicted_price',index=index_test)\n",
    "true_price =  pd.Series(y_test,name='true_price',index=index_test)\n",
    "\n",
    "df_predictions = pd.concat([predictions,true_price],axis=1)#, columns=['predicted_price','true_price'], index=index_test)\n",
    "display(df_predictions.head())\n",
    "\n",
    "# Plot outcome\n",
    "mpl.rcParams['figure.figsize']=(12,4)\n",
    "plt.plot(df_train_bins['price_labels'])\n",
    "plt.plot(df_predictions)"
   ]
  },
  {
   "cell_type": "code",
   "execution_count": null,
   "metadata": {
    "hidden": true,
    "scrolled": false
   },
   "outputs": [],
   "source": [
    "STOP\n",
    "# PREVIEW DATA CONTENTS\n",
    "# display(df_train_bins.head())\n",
    "df_train_bins['price_labels'].plot()\n",
    "df_test_bins['price_labels'].plot()\n",
    "\n",
    "\n",
    "print('Train Index: ',df_train_bins.index[[0,-1]])\n",
    "print('Test Index: ',df_test_bins.index[[0,-1]])"
   ]
  },
  {
   "cell_type": "code",
   "execution_count": null,
   "metadata": {
    "hidden": true
   },
   "outputs": [],
   "source": [
    "#importing required libraries\n",
    "\n",
    "from sklearn.preprocessing import MinMaxScaler\n",
    "from keras.models import Sequential\n",
    "from keras.layers import Dense, Dropout, LSTM\n",
    "\n",
    "time_index =stock_df.index.values\n",
    "stock_df['date'] = time_index# .astype('str')\n",
    "\n",
    "#creating dataframe\n",
    "data = stock_df[['date','price']]\n",
    "\n",
    "new_data = pd.DataFrame(index=range(0,len(stock_df)),columns=['date', 'price'])\n",
    "display(new_data.head()), display(data.head())\n",
    "\n",
    "for i in range(0,len(data)):\n",
    "    new_data['date'][i] = data['date'][i]\n",
    "    new_data['price'][i] = data['price'][i]\n",
    "\n",
    "#setting index\n",
    "new_data.index = new_data.date\n",
    "new_data.drop('date', axis=1, inplace=True)\n"
   ]
  },
  {
   "cell_type": "code",
   "execution_count": null,
   "metadata": {
    "hidden": true
   },
   "outputs": [],
   "source": [
    "new_data"
   ]
  },
  {
   "cell_type": "code",
   "execution_count": null,
   "metadata": {
    "hidden": true,
    "scrolled": false
   },
   "outputs": [],
   "source": [
    "#creating train and test sets\n",
    "dataset = new_data.values\n",
    "\n",
    "train = dataset[0:987,:]\n",
    "valid = dataset[987:,:]\n",
    "\n",
    "#converting dataset into x_train and y_train\n",
    "scaler = MinMaxScaler(feature_range=(0, 1))\n",
    "scaled_data = scaler.fit_transform(dataset)\n",
    "\n",
    "x_train, y_train = [], []\n",
    "for i in range(60,len(train)):\n",
    "    x_train.append(scaled_data[i-60:i,0])\n",
    "    y_train.append(scaled_data[i,0])\n",
    "x_train, y_train = np.array(x_train), np.array(y_train)\n",
    "print(x_train.shape, y_train.shape)\n",
    "x_train = np.reshape(x_train, (x_train.shape[0],x_train.shape[1],1))\n",
    "print(x_train.shape)"
   ]
  },
  {
   "cell_type": "code",
   "execution_count": null,
   "metadata": {
    "hidden": true
   },
   "outputs": [],
   "source": []
  },
  {
   "cell_type": "code",
   "execution_count": null,
   "metadata": {
    "hidden": true,
    "scrolled": false
   },
   "outputs": [],
   "source": [
    "# create and fit the LSTM network\n",
    "model = Sequential()\n",
    "model.add(LSTM(units=50, return_sequences=True, input_shape=(x_train.shape[1],1)))\n",
    "model.add(LSTM(units=50))\n",
    "model.add(Dense(1))\n",
    "\n",
    "model.compile(loss='mean_squared_error', optimizer='adam')\n",
    "model.fit(x_train, y_train, epochs=1, batch_size=1, verbose=2)\n",
    "\n",
    "#predicting 246 values, using past 60 from the train data\n",
    "inputs = new_data[len(new_data) - len(valid) - 60:].values\n",
    "inputs = inputs.reshape(-1,1)\n",
    "inputs  = scaler.transform(inputs)\n",
    "\n",
    "X_test = []\n",
    "for i in range(60,inputs.shape[0]):\n",
    "    X_test.append(inputs[i-60:i,0])\n",
    "X_test = np.array(X_test)\n",
    "\n",
    "X_test = np.reshape(X_test, (X_test.shape[0],X_test.shape[1],1))\n",
    "closing_price = model.predict(X_test)\n",
    "closing_price = scaler.inverse_transform(closing_price)"
   ]
  },
  {
   "cell_type": "code",
   "execution_count": null,
   "metadata": {
    "hidden": true
   },
   "outputs": [],
   "source": [
    "rms=np.sqrt(np.mean(np.power((valid-closing_price),2)))\n",
    "rms"
   ]
  },
  {
   "cell_type": "code",
   "execution_count": null,
   "metadata": {
    "hidden": true
   },
   "outputs": [],
   "source": [
    "#for plotting\n",
    "train = new_data[:987]\n",
    "valid = new_data[987:]\n",
    "valid['Predictions'] = closing_price\n",
    "plt.plot(train['price'])\n",
    "plt.plot(valid[['price','Predictions']])\n",
    "plt.show()"
   ]
  },
  {
   "cell_type": "markdown",
   "metadata": {
    "colab_type": "text",
    "id": "9Pu-SNrTHodf"
   },
   "source": [
    "# ✔ BOOKMARK - RESUMING ANALYSIS WITH NEW FUNCTIONS\n",
    "- Check Evernote log: https://www.evernote.com/l/AApgV1EaL9lEYpujWnwHq62W9QyEKkH4hwA/\n",
    "\n",
    "- **For LSTM neural network, just using stock market data itself, which would be:**\n",
    "    - **Training Data:**\n",
    "         - `X_train = df_train_bins['price_bins']`\n",
    "         - `y_train = df_train_bins['price_labels']`\n",
    "     - **Testing Data:**\n",
    "         - `X_test = df_test_bins['price_bins']`\n",
    "         - `y_test = df_test_bins['price_labels']`    "
   ]
  },
  {
   "cell_type": "markdown",
   "metadata": {},
   "source": [
    "### Hyperparameter tuning for Holt-Winters"
   ]
  },
  {
   "cell_type": "code",
   "execution_count": null,
   "metadata": {},
   "outputs": [],
   "source": [
    "PAUSEW"
   ]
  },
  {
   "cell_type": "code",
   "execution_count": null,
   "metadata": {
    "scrolled": false
   },
   "outputs": [],
   "source": [
    "# from statsmodels.tsa.holtwinters import ExponentialSmoothing\n",
    "\n",
    "# # parameter tuning for seasonal_periods\n",
    "# params={}\n",
    "# # params['seasonal_periods'] = [7]#,70,140]\n",
    "# period = 7\n",
    "\n",
    "# params['trend'] = ['mul']#,'add']\n",
    "# params['seasonal'] = ['mul','add']\n",
    "\n",
    "# results_list = ['i','seasonal_periods','MAE','MSE','RMSE']\n",
    "\n",
    "# clock.tic('Start Search')\n",
    "# for i, trend in enumerate(params['trend']):\n",
    "#     print(\"---\"*20,\"\\nTrend:\",trend)\n",
    "    \n",
    "#     for seasonal in params['seasonal']:\n",
    "#         print('Seasonal:',seasonal)\n",
    "#         fitted_model = ExponentialSmoothing(train_data['price'],trend=trend,seasonal=seasonal,seasonal_periods=period).fit()\n",
    "#         test_predictions = fitted_model.forecast(35).rename('HW Forecast')\n",
    "\n",
    "#         report = evaluation_report(test_data.iloc[:35], test_predictions)\n",
    "\n",
    "#         results = i,period,report['mae'],report['mse'],report['rmse']\n",
    "#         clock.lap('')\n",
    "#         results_list.append([results])\n",
    "\n",
    "#         ax = plot_holt_winters(train_data, test_data, test_predictions)\n",
    "#         ax.set_title(f'Holt-Winters Forecast: seasonal: {seasonal}, trend:{trend}')\n",
    "#         ax.text\n",
    "#         plt.show()\n",
    "#         [print(k,v) for k,v in report.items()]\n",
    "# clock.toc('')"
   ]
  },
  {
   "cell_type": "code",
   "execution_count": null,
   "metadata": {},
   "outputs": [],
   "source": []
  },
  {
   "cell_type": "markdown",
   "metadata": {
    "colab_type": "text",
    "heading_collapsed": true,
    "id": "ycaO9AYe2bwX"
   },
   "source": [
    "# Twitter Processing \n",
    "\n",
    "- NLP Pre-Processing \n",
    "    - stopword removal and regexp tokenization\n",
    "    - extraction and removal of hashtags, @'s and urls' using regex\n",
    "- Word Frequency Disributions and Bigrams\n",
    "    - Word Frequencies - tweet, #'s\n",
    "    - Bigrams - tweets\n",
    "    - WordClouds - tweet, #'s, @'s\n",
    "\n",
    "- Upper to lower case ratio"
   ]
  },
  {
   "cell_type": "markdown",
   "metadata": {
    "colab_type": "text",
    "hidden": true,
    "id": "g2NuArSq3F0C"
   },
   "source": [
    "### NLP Pre-Processing"
   ]
  },
  {
   "cell_type": "code",
   "execution_count": null,
   "metadata": {
    "colab": {},
    "colab_type": "code",
    "hidden": true,
    "id": "e1ucmouPDnjo"
   },
   "outputs": [],
   "source": []
  },
  {
   "cell_type": "code",
   "execution_count": null,
   "metadata": {
    "colab": {},
    "colab_type": "code",
    "hidden": true,
    "id": "m6Hfo5pn_rWG"
   },
   "outputs": [],
   "source": [
    "import pandas as pd\n",
    "import numpy as np\n",
    "import matplotlib.pyplot as plt\n",
    "\n",
    "folder_path = '/content/drive/My Drive/Colab Notebooks/Mod 5 Project/'\n",
    "\n",
    "file = folder_path +'data/trump_tweets_01202017_06202019.csv'\n",
    "df = pd.read_csv(file, encoding='utf-8')\n",
    "df.rename(axis=1,mapper={'text':'content','created_at':'date'},inplace=True)\n",
    "df['date']=pd.to_datetime(df['date'])\n",
    "\n",
    "display(df.head())\n",
    "print(' First tweet:',df.date.min(),'\\n','Last tweet:',df.date.max())\n",
    "print('\\nRange of Dates: ',df.date.max() - df.date.min())"
   ]
  },
  {
   "cell_type": "code",
   "execution_count": null,
   "metadata": {
    "colab": {},
    "colab_type": "code",
    "hidden": true,
    "id": "7VeZDUus2qWi"
   },
   "outputs": [],
   "source": [
    "# Generate Stopwords List from nltk + punctuation + custom list\n",
    "from nltk import regexp_tokenize\n",
    "\n",
    "pattern = \"([a-zA-Z]+(?:'[a-z]+)?)\"\n",
    "\n",
    "import nltk\n",
    "nltk.download('stopwords')\n",
    "from nltk.corpus import stopwords\n",
    "\n",
    "import string\n",
    "\n",
    "stopwords_list = stopwords.words('english')\n",
    "stopwords_list += list(string.punctuation)\n",
    "stopwords_list += ['http','https','...','…','``','co','“','’','‘','”',\"n't\",\"''\",'u','s',\"'s\",'|','\\\\|','amp',\"i'm\"]\n",
    "stopwords_list += [0,1,2,3,4,5,6,7,8,9]\n",
    "\n",
    "## Adding in stopword removal to the actual dataframe\n",
    "def apply_stopwords(stopwords_list,  text, tokenize=True, pattern = \"([a-zA-Z]+(?:'[a-z]+)?)\"):\n",
    "\n",
    "    if tokenize==True:\n",
    "        from nltk import regexp_tokenize\n",
    "        \n",
    "        text = regexp_tokenize(text,pattern)\n",
    "        \n",
    "    stopped = [x.lower() for x in text if x.lower() not in stopwords_list]\n",
    "    return ' '.join(stopped)\n",
    "\n",
    "# # Remove stopwords using function apply_stopwords)\n",
    "# df['text_stopped'] = df['content'].apply(lambda x: apply_stopwords(stopwords_list,x))\n",
    "\n",
    "# # Tokenize using regexp_tokenize from nltk\n",
    "# df['tokens_stopped'] = df['content'].apply(lambda x: regexp_tokenize(x,pattern))"
   ]
  },
  {
   "cell_type": "code",
   "execution_count": null,
   "metadata": {
    "colab": {},
    "colab_type": "code",
    "hidden": true,
    "id": "TxRjqjxF2w5c"
   },
   "outputs": [],
   "source": [
    "# Save 'hashtags' column containing all hastags\n",
    "import re\n",
    "df['content_raw'] = df['content'].copy()\n",
    "\n",
    "# Add has_RT and starts_RT columns\n",
    "# Creating columns for tweets that `has_RT` or `starts_RT`\n",
    "df['has_RT']=df['content_raw'].str.contains('RT')\n",
    "df['starts_RT']=df['content_raw'].str.contains('^RT')\n",
    "\n",
    "## FIRST REMOVE THE RT HEADERS\n",
    "\n",
    "# Remove `RT @Mentions` FIRST:\n",
    "re_RT = re.compile('RT [@]?\\w*:')\n",
    "\n",
    "raw_col =  'content_raw'\n",
    "check_content_col =raw_col\n",
    "fill_content_col = 'content'\n",
    "\n",
    "df['content_starts_RT'] = df[check_content_col].apply(lambda x: re_RT.findall(x))\n",
    "df[fill_content_col] =  df[check_content_col].apply(lambda x: re_RT.sub(' ',x))\n",
    "\n",
    "\n",
    "## SECOND REMOVE URLS\n",
    "# Remove urls with regex\n",
    "urls = re.compile(r\"(http[s]?://\\w*\\.\\w*/+\\w+)\")\n",
    "\n",
    "check_content_col = 'content'\n",
    "fill_content_col = 'content'\n",
    "\n",
    "# df_full['content_urls'] = df_full[check_content_col].apply(lambda x: urls.findall(x))\n",
    "df[fill_content_col] =  df[check_content_col].apply(lambda x: urls.sub(' ',x))\n",
    "\n",
    "## SAVE THIS MINIMALLY CLEANED CONTENT AS 'content_min_clean'\n",
    "df['content_min_clean'] =  df[fill_content_col]\n",
    "\n",
    "\n",
    "\n",
    "## REMOVE AND SAVE HASHTAGS, MENTIONS\n",
    "# Remove and save Hashtags\n",
    "hashtags = re.compile(r'\\#\\w*')\n",
    "\n",
    "check_content_col = 'content'\n",
    "fill_content_col = 'content'\n",
    "\n",
    "df['content_hashtags'] =  df[check_content_col].apply(lambda x: hashtags.findall(x))\n",
    "df[fill_content_col] =  df[check_content_col].apply(lambda x: hashtags.sub(' ',x))\n",
    "\n",
    "\n",
    "# Remove and save mentions (@)'s\n",
    "mentions = re.compile(r'\\@\\w*')\n",
    "\n",
    "check_content_col = 'content'\n",
    "fill_content_col = 'content'\n",
    "\n",
    "df['content_mentions'] =  df[check_content_col].apply(lambda x: mentions.findall(x))\n",
    "df[fill_content_col] =  df[check_content_col].apply(lambda x: mentions.sub(' ',x))\n",
    "\n",
    "\n",
    "# Creating content_stopped columns and then tokens_stopped column\n",
    "df['content_stopped'] = df['content'].apply(lambda x: apply_stopwords(stopwords_list,x))\n",
    "df['tokens_stopped'] = df['content_stopped'].apply(lambda x: regexp_tokenize(x,pattern))"
   ]
  },
  {
   "cell_type": "code",
   "execution_count": null,
   "metadata": {
    "colab": {},
    "colab_type": "code",
    "hidden": true,
    "id": "lKUUzr7b2zK7"
   },
   "outputs": [],
   "source": [
    "# Issue of empty entries for hashtags interfering with joining.\n",
    "def empty_lists_to_strings(x):\n",
    "    \"\"\"Takes a series and replaces any empty lists with an empty string instead.\"\"\"\n",
    "    if len(x)==0:\n",
    "        return ' '\n",
    "    else:\n",
    "        return ' '.join(x) #' '.join(tokens)\n",
    "    \n",
    "    \n",
    "# Apply empty_lists_to_strings to hashtags\n",
    "df['hashtag_strings'] = df['content_hashtags'].apply(lambda x: empty_lists_to_strings(x))\n",
    "\n",
    "# Apply empty_lists_to_strings to mentions\n",
    "df['mention_strings'] = df['content_mentions'].apply(lambda x: empty_lists_to_strings(x))"
   ]
  },
  {
   "cell_type": "markdown",
   "metadata": {
    "colab_type": "text",
    "hidden": true,
    "id": "5XmuzPuE3RVi"
   },
   "source": [
    "### Word Frequency Distributions & Bigrams"
   ]
  },
  {
   "cell_type": "code",
   "execution_count": null,
   "metadata": {
    "colab": {},
    "colab_type": "code",
    "hidden": true,
    "id": "nJp9qwlf3UOM"
   },
   "outputs": [],
   "source": [
    "# FOR TWEET WORD CONTENT\n",
    "column = 'content_stopped'\n",
    "pattern = \"([a-zA-Z]+(?:'[a-z]+)?)\"\n",
    "\n",
    "tweets_combined = df[column]\n",
    "tweets_combined = ' '.join(tweets_combined)\n",
    "tweets_tokenized = regexp_tokenize(tweets_combined, pattern)\n",
    "\n",
    "# CREATING TEXT DICT FOR FREQUENCY DISTRIBUTIONS\n",
    "TEXT = dict()\n",
    "TEXT['tokens'] = tweets_tokenized\n",
    "TEXT['text'] = tweets_combined\n",
    "\n",
    "# Frequency Distributions with NLTK FreqDist\n",
    "from nltk import FreqDist\n",
    "freq_tweets = FreqDist(TEXT['tokens'])\n",
    "with plt.style.context('seaborn-notebook'):\n",
    "    freq_tweets.plot(25)\n",
    "    "
   ]
  },
  {
   "cell_type": "code",
   "execution_count": null,
   "metadata": {
    "colab": {},
    "colab_type": "code",
    "hidden": true,
    "id": "V6TnSmLc5g5W"
   },
   "outputs": [],
   "source": [
    "# MAKE BIGRAMS\n",
    "from nltk.collocations import BigramAssocMeasures, BigramCollocationFinder, TrigramAssocMeasures, TrigramCollocationFinder\n",
    "import mod4functions_JMI as jmi\n",
    "\n",
    "bigram_measures =BigramAssocMeasures()\n",
    "\n",
    "tweet_finder = BigramCollocationFinder.from_words(TEXT['tokens'])\n",
    "tweets_scored = tweet_finder.score_ngrams(bigram_measures.raw_freq)\n",
    "\n",
    "df_1 = quick_table(tweets_scored[:25], col_names =['Bigram','Frequency'],\n",
    "                       caption='Tweet Bigrams', display_df=False)\n",
    "df_1['Bigram'] = df_1['Bigram'].apply(lambda x: ' '.join(x))\n",
    "df_1.set_index('Bigram',inplace=True)\n",
    "df_1.columms=['Frequency']\n",
    "df_1"
   ]
  },
  {
   "cell_type": "code",
   "execution_count": null,
   "metadata": {
    "colab": {},
    "colab_type": "code",
    "hidden": true,
    "id": "BbDVZ_p33aI3"
   },
   "outputs": [],
   "source": [
    "# CREATING HASHTAG DICT\n",
    "column = 'hashtag_strings'\n",
    "tag_pattern ='(#\\w*)'\n",
    "tags_combined = df[column]\n",
    "tags_combined = ' '.join(tags_combined)\n",
    "tags_tokenized = regexp_tokenize(tags_combined, tag_pattern)\n",
    "\n",
    "TAGS = dict()\n",
    "TAGS['tokens'] = tags_tokenized\n",
    "TAGS['text'] = tags_combined\n",
    "\n",
    "# Frequency Distributions with NLTK FreqDist\n",
    "from nltk import FreqDist\n",
    "freq_tags = FreqDist(TAGS['tokens'])\n",
    "with plt.style.context('seaborn-notebook'):\n",
    "    freq_tags.plot(25)"
   ]
  },
  {
   "cell_type": "code",
   "execution_count": null,
   "metadata": {
    "colab": {},
    "colab_type": "code",
    "hidden": true,
    "id": "MoENSWp53Zus"
   },
   "outputs": [],
   "source": [
    "# CREATING METNION DICT\n",
    "column = 'mention_strings'\n",
    "at_pattern ='(@\\w*)'\n",
    "ats_combined = df[column]\n",
    "ats_combined = ' '.join(ats_combined)\n",
    "ats_tokenized = regexp_tokenize(ats_combined, at_pattern)\n",
    "\n",
    "ATS = dict()\n",
    "ATS['tokens'] = ats_tokenized\n",
    "ATS['text'] = ats_combined\n",
    "\n",
    "# Frequency Distributions with NLTK FreqDist\n",
    "from nltk import FreqDist\n",
    "freq_ats = FreqDist(ATS['tokens'])\n",
    "with plt.style.context('seaborn-notebook'):\n",
    "    freq_ats.plot(25)"
   ]
  },
  {
   "cell_type": "markdown",
   "metadata": {
    "colab_type": "text",
    "hidden": true,
    "id": "zcT2d6BM34tw"
   },
   "source": [
    "### Word Clouds"
   ]
  },
  {
   "cell_type": "code",
   "execution_count": null,
   "metadata": {
    "colab": {},
    "colab_type": "code",
    "hidden": true,
    "id": "WBl4VbWA39QT"
   },
   "outputs": [],
   "source": [
    "# Run this cell to mount your Google Drive.\n",
    "from google.colab import drive\n",
    "drive.mount('/content/drive')"
   ]
  },
  {
   "cell_type": "code",
   "execution_count": null,
   "metadata": {
    "colab": {},
    "colab_type": "code",
    "hidden": true,
    "id": "byu_8zlD36ru"
   },
   "outputs": [],
   "source": [
    "# Import mask images for shaped wordclouds\n",
    "from PIL import Image\n",
    "import numpy as np\n",
    "\n",
    "mask_folder_path = '/content/drive/My Drive/Images/fig_masks/'\n",
    "## Twitter Bird masks\n",
    "mask_f_right = np.array(Image.open(mask_folder_path+'twitter1.png'))\n",
    "mask_f_left = np.array(Image.open(mask_folder_path+'twitter1flip.png'))\n",
    "\n",
    "# Hashtag and mentions mask \n",
    "mask_at = np.array(Image.open(mask_folder_path+'Hashtags and Ats Masks-04.jpg'))\n",
    "mask_hashtag = np.array(Image.open(mask_folder_path+'Hashtags and Ats Masks-03.jpg'))"
   ]
  },
  {
   "cell_type": "code",
   "execution_count": null,
   "metadata": {
    "colab": {},
    "colab_type": "code",
    "hidden": true,
    "id": "PrwgjEAD5CH6"
   },
   "outputs": [],
   "source": [
    "# Define wordcloud plotting function\n",
    "def plot_fit_cloud(troll_cloud,label1='Most Common Words',figsize=(4,4)):\n",
    "    fig,ax = plt.subplots(nrows=1,ncols=1,figsize=figsize)\n",
    "\n",
    "    ax.imshow(troll_cloud, interpolation='gaussian')\n",
    "    # ax[0].set_aspect(1.5)\n",
    "    ax.axis(\"off\")\n",
    "    ax.set_title(label1, fontsize=20)\n",
    "    return fig, ax"
   ]
  },
  {
   "cell_type": "markdown",
   "metadata": {
    "colab_type": "text",
    "hidden": true,
    "id": "moHVtJZE5Ud5"
   },
   "source": [
    "#### Creating multiple kinds of wordclouds\n",
    "- tweet words, tweet bigrams\n",
    "- #'s, @'s\n"
   ]
  },
  {
   "cell_type": "code",
   "execution_count": null,
   "metadata": {
    "colab": {},
    "colab_type": "code",
    "hidden": true,
    "id": "F0iWyiWb5M8L"
   },
   "outputs": [],
   "source": [
    "# Instantiazting wordcloud and defining properties\n",
    "from wordcloud import WordCloud\n",
    "\n",
    "max_font_size=100\n",
    "width=300\n",
    "height=300\n",
    "max_words=100\n",
    "background_color='white'\n",
    "cloud_stopwords=[]\n",
    "# collocations=False\n",
    "\n",
    "wordcloud = WordCloud(max_font_size=max_font_size, width=width, height=height, max_words=max_words, background_color=background_color,\n",
    "                        stopwords=cloud_stopwords,collocations=False,\n",
    "                       mask=mask_f_right, contour_color='cornflowerblue', contour_width=2)\n",
    "\n",
    "wordcloud.generate(TEXT['text'])\n",
    "fig,ax = plot_fit_cloud(wordcloud)"
   ]
  },
  {
   "cell_type": "code",
   "execution_count": null,
   "metadata": {
    "colab": {},
    "colab_type": "code",
    "hidden": true,
    "id": "xssXsAiW5ZOf"
   },
   "outputs": [],
   "source": [
    "# Plotting bigram wordcloud\n",
    "wordcloud_bigram= WordCloud(max_font_size=max_font_size, width=width, height=height, max_words=max_words,\n",
    "                            background_color=background_color, collocations=True,normalize_plurals=False,\n",
    "                            stopwords=[], mask=mask_f_left, contour_color='cornflowerblue', contour_width=2)\n",
    "wordcloud_bigram.generate(TEXT['text'])\n",
    "fig,ax = plot_fit_cloud(wordcloud_bigram, 'Most Common Bigrams')"
   ]
  },
  {
   "cell_type": "code",
   "execution_count": null,
   "metadata": {
    "colab": {},
    "colab_type": "code",
    "hidden": true,
    "id": "leIwmAXh5bpr"
   },
   "outputs": [],
   "source": [
    "# Combine and Tokenize hashtags\n",
    "tags = df['hashtag_strings']\n",
    "tags = ' '.join(tags)\n",
    "tags_tokens = regexp_tokenize(tags,'(#\\w*)')\n",
    "\n",
    "\n",
    "# WordClouds for Hashtags\n",
    "max_font_size=300\n",
    "width=300\n",
    "height=300\n",
    "max_words=100\n",
    "background_color='white'\n",
    "cloud_stopwords=[]\n",
    "collocations=False\n",
    "regexp=r'(#\\w*)'\n",
    "\n",
    "\n",
    "tag_cloud = WordCloud(max_font_size=max_font_size, width=width, height=height,\n",
    "                            max_words=max_words, background_color=background_color,\n",
    "                        stopwords=cloud_stopwords,collocations=collocations, regexp=regexp,\n",
    "                            mask=mask_hashtag, contour_color='black', contour_width=2)#, include_numbers=True)\n",
    "\n",
    "\n",
    "tag_cloud.generate(' '.join(tags_tokens))\n",
    "plot_fit_cloud(tag_cloud,'Most Common Hashtags',figsize=(5,5))"
   ]
  },
  {
   "cell_type": "code",
   "execution_count": null,
   "metadata": {
    "colab": {},
    "colab_type": "code",
    "hidden": true,
    "id": "eBzbqDQ75cy1"
   },
   "outputs": [],
   "source": [
    "# Combine and Tokenize hashtags\n",
    "mentions = df['mention_strings']\n",
    "mentions = ' '.join(mentions)\n",
    "mentions_tokens = regexp_tokenize(mentions,'(@\\w*)')\n",
    "\n",
    "\n",
    "# WordClouds for Mentions\n",
    "max_font_size=300\n",
    "width=500\n",
    "height=500\n",
    "max_words=200\n",
    "background_color='white'\n",
    "cloud_stopwords=[]\n",
    "collocations=False\n",
    "regexp=r'(@\\w*)'\n",
    "\n",
    "mentions_cloud = WordCloud(\n",
    "    \n",
    "    max_font_size=max_font_size, width=width, height=height,\n",
    "    \n",
    "    max_words=max_words, background_color=background_color,\n",
    "    \n",
    "    stopwords=cloud_stopwords,collocations=collocations, regexp=regexp,\n",
    "    \n",
    "    mask=mask_at, contour_color='black', contour_width=2\n",
    ")#, include_numbers=True)\n",
    "\n",
    "\n",
    "mentions_cloud.generate(' '.join(mentions_tokens))\n",
    "\n",
    "plot_fit_cloud(mentions_cloud,\"Most Common @'s\",figsize=(3,3))"
   ]
  },
  {
   "cell_type": "markdown",
   "metadata": {
    "colab_type": "text",
    "hidden": true,
    "id": "Tnj6xKrr3ffM"
   },
   "source": [
    "### Additional Tweet Processing and Feature Extraction"
   ]
  },
  {
   "cell_type": "code",
   "execution_count": null,
   "metadata": {
    "colab": {},
    "colab_type": "code",
    "hidden": true,
    "id": "XVSPinbb2fBg"
   },
   "outputs": [],
   "source": [
    "def case_ratio(msg):\n",
    "    \"\"\"Accepts a twitter message (or used with .apply(lambda x:)).\n",
    "    Returns the ratio of capitalized characters out of the total number of characters.\"\"\"\n",
    "    import numpy as np\n",
    "    msg_length = len(msg)\n",
    "    test_upper = [1 for x in msg if x.isupper()]\n",
    "    test_lower = [1 for x in msg if x.islower()]\n",
    "    test_ratio = np.round(sum(test_upper)/msg_length,5)\n",
    "    return test_ratio\n",
    "\n",
    "# df['case_ratio'] = df['content'].apply(lambda x: case_ratio(x))\n",
    "# df.sort_values('case_ratio',ascending=False).head()"
   ]
  },
  {
   "cell_type": "markdown",
   "metadata": {
    "colab_type": "text",
    "hidden": true,
    "id": "-IvNp_Ov3mla"
   },
   "source": [
    "### Sentiment Analysis"
   ]
  },
  {
   "cell_type": "code",
   "execution_count": null,
   "metadata": {
    "colab": {},
    "colab_type": "code",
    "hidden": true,
    "id": "wkngD0CD51i_"
   },
   "outputs": [],
   "source": [
    "# Write a function to extract the group scores from the dataframe\n",
    "def get_group_sentiment_scores(df, score_col='sentiment_scores'):\n",
    "    import pandas as pd\n",
    "    series_df = df[score_col]\n",
    "    series_neg = series_df.apply(lambda x: x['neg'])\n",
    "    series_pos = series_df.apply(lambda x: x['pos'])\n",
    "    series_neu = series_df.apply(lambda x: x['neu'])\n",
    "    \n",
    "    series_neg.name='neg'\n",
    "    series_pos.name='pos'\n",
    "    series_neu.name='neu'\n",
    "    \n",
    "    df = pd.concat([df,series_neg,series_neu,series_pos],axis=1)\n",
    "    return df"
   ]
  },
  {
   "cell_type": "code",
   "execution_count": null,
   "metadata": {
    "colab": {},
    "colab_type": "code",
    "hidden": true,
    "id": "9_usSqQn3pVw"
   },
   "outputs": [],
   "source": [
    "import bs_ds as bs\n",
    "import mod4functions_JMI as jmi\n",
    "# from bs_ds.imports import *\n",
    "\n",
    "from nltk.sentiment.vader import SentimentIntensityAnalyzer\n",
    "sid = SentimentIntensityAnalyzer()\n",
    "\n",
    "source_column='content_min_clean'\n",
    "df['sentiment_scores'] = df[source_column].apply(lambda x: sid.polarity_scores(x))\n",
    "df['compound_score'] = df['sentiment_scores'].apply(lambda dict: dict['compound'])\n",
    "df['sentiment_class'] = df['compound_score'].apply(lambda score: 'pos' if score >=0 else 'neg')\n",
    "\n",
    "\n",
    "# Separate Scores into separate columns in df\n",
    "df = get_group_sentiment_scores(df)"
   ]
  },
  {
   "cell_type": "code",
   "execution_count": null,
   "metadata": {
    "colab": {},
    "colab_type": "code",
    "hidden": true,
    "id": "uNFTfMnI6Fy4"
   },
   "outputs": [],
   "source": [
    "\n",
    "print(\"RESULTS OF SENTIMENT ANALYSIS BINARY CLASSIFICATION:\\n\",'-'*60)\n",
    "# Normalized % of troll sentiment classes\n",
    "plot_sent_class = df['sentiment_class'].value_counts()\n",
    "plot_sent_class_norm = plot_sent_class/(sum(plot_sent_class))\n",
    "print('\\tNormalized Troll Classes:\\n',plot_sent_class_norm)\n",
    "\n",
    "\n",
    "with plt.style.context('seaborn-notebook'):\n",
    "    boxplot = df_sents.boxplot(column=['neg','neu','pos'],notch=True,figsize=(6,4))\n",
    "    boxplot.set_xticklabels(['Negative','Neutral','Positive']);\n",
    "    boxplot.set_title('Sentiment Scores By Word Type')\n",
    "    boxplot.set_ylabel('Sentiment Score')"
   ]
  },
  {
   "cell_type": "markdown",
   "metadata": {
    "colab_type": "text",
    "id": "3JKCfxH48q6E"
   },
   "source": [
    "# COMBINING TWITTER AMD STOCK MARKET DATAFRAMES"
   ]
  },
  {
   "cell_type": "code",
   "execution_count": null,
   "metadata": {
    "colab": {},
    "colab_type": "code",
    "id": "HNGo3NiA9Lvt"
   },
   "outputs": [],
   "source": [
    "try: twitter_df\n",
    "except NameError: twitter_df = None\n",
    "    \n",
    "if twitter_df is None:\n",
    "    print('loading twitter_df')\n",
    "    twitter_df = pd.read_csv('data/trump_twitter_archive_df.csv', encoding='utf-8',index_col='date',parse_dates=True)\n",
    "    twitter_df.drop('Unnamed: 0',axis=1,inplace=True)\n",
    "\n",
    "    # Fill in missing values before merging with stock data\n",
    "    twitter_df.fillna('', inplace=True)\n",
    "    twitter_df.sort_index(ascending=True, inplace=True)\n",
    "\n",
    "    # Check header and daterange of index\n",
    "    display(twitter_df.head(2))\n",
    "    twitter_df.index[[0,-1]]\n",
    "else:\n",
    "    print('twitter_df already exists.')"
   ]
  },
  {
   "cell_type": "markdown",
   "metadata": {},
   "source": [
    "### WRITING FUNCTION TO BIN TWEETS BY HOUR PRE-NLP (and add Freq column)"
   ]
  },
  {
   "cell_type": "code",
   "execution_count": null,
   "metadata": {},
   "outputs": [],
   "source": [
    "CBH = custom_BH_freq()\n",
    "CBH"
   ]
  },
  {
   "cell_type": "code",
   "execution_count": null,
   "metadata": {},
   "outputs": [],
   "source": [
    "twitter_df.index"
   ]
  },
  {
   "cell_type": "code",
   "execution_count": null,
   "metadata": {},
   "outputs": [],
   "source": [
    "test_twitter_df = twitter_df['2019-05-01':'2019-06-01']\n",
    "test_twitter_df.index"
   ]
  },
  {
   "cell_type": "code",
   "execution_count": null,
   "metadata": {},
   "outputs": [],
   "source": [
    "# thoughts on how to bin twitter data\n",
    "\n",
    "df=pd.DataFrame()\n",
    "df['time_index'] = test_twitter_df.index.to_list()\n",
    "df.reset_index(inplace=True)\n",
    "\n",
    "content = test_twitter_df['content_stopped'].values\n",
    "df['content_stopped'] = content#twitter_df['content_stopped']\n",
    "\n",
    "df.reset_index(inplace=True)\n",
    "df.drop(['level_0','index'], inplace=True, axis=1)\n",
    "df.head()\n",
    "print(df.dtypes)\n",
    "\n",
    "# df.reindex('time_index')\n",
    "# df=df.asfreq('S')\n",
    "# df.head()"
   ]
  },
  {
   "cell_type": "code",
   "execution_count": null,
   "metadata": {},
   "outputs": [],
   "source": [
    "df['time_index'] = pd.to_datetime(test_twitter_df.index,unit='S')#freq='S')\n",
    "df['time_index']"
   ]
  },
  {
   "cell_type": "code",
   "execution_count": null,
   "metadata": {},
   "outputs": [],
   "source": [
    "df_sec = set_timeindex_freq(test_twitter_df,freq='S')"
   ]
  },
  {
   "cell_type": "code",
   "execution_count": null,
   "metadata": {},
   "outputs": [],
   "source": [
    "# index_to_bin = df.index\n",
    "# index_to_bin"
   ]
  },
  {
   "cell_type": "code",
   "execution_count": null,
   "metadata": {},
   "outputs": [],
   "source": [
    "df.head()"
   ]
  },
  {
   "cell_type": "markdown",
   "metadata": {},
   "source": [
    "### USING ROLLBACK - PANDAS GUIDE\n",
    "- from the https://pandas.pydata.org/pandas-docs/stable/user_guide/timeseries.html#dateoffset-objects\n",
    "\n",
    "```python\n",
    "In [148]: ts = pd.Timestamp('2018-01-06 00:00:00')\n",
    "\n",
    "In [149]: ts.day_name()\n",
    "Out[149]: 'Saturday'\n",
    "\n",
    "# BusinessHour's valid offset dates are Monday through Friday\n",
    "In [150]: offset = pd.offsets.BusinessHour(start='09:00')\n",
    "\n",
    "# Bring the date to the closest offset date (Monday)\n",
    "In [151]: offset.rollforward(ts)\n",
    "Out[151]: Timestamp('2018-01-08 09:00:00')\n",
    "\n",
    "# Date is brought to the closest offset date first and then the hour is added\n",
    "In [152]: ts + offset\n",
    "Out[152]: Timestamp('2018-01-08 10:00:00')\n",
    "```"
   ]
  },
  {
   "cell_type": "code",
   "execution_count": null,
   "metadata": {},
   "outputs": [],
   "source": [
    "CBH_off = pd.offsets.CustomBusinessHour(start='9:30', end='4:30')\n",
    "CBH_off"
   ]
  },
  {
   "cell_type": "code",
   "execution_count": null,
   "metadata": {},
   "outputs": [],
   "source": [
    "df.loc[df.index.duplicated()]\n",
    "df.index"
   ]
  },
  {
   "cell_type": "code",
   "execution_count": null,
   "metadata": {},
   "outputs": [],
   "source": [
    "# index_to_bin = df.index #.round('T')\n",
    "\n",
    "df_sec = df.asfreq('S')\n",
    "index_to_bin = df_sec.index\n",
    "index_to_bin"
   ]
  },
  {
   "cell_type": "code",
   "execution_count": null,
   "metadata": {},
   "outputs": [],
   "source": [
    "CBH_off.rollforward(index_to_bin)"
   ]
  },
  {
   "cell_type": "code",
   "execution_count": null,
   "metadata": {},
   "outputs": [],
   "source": []
  },
  {
   "cell_type": "code",
   "execution_count": null,
   "metadata": {},
   "outputs": [],
   "source": [
    "index_to_bin = df.index #.round('T')\n",
    "df['index_to_bin'] = index_to_bin #.index.round('T')\n",
    "\n",
    "CBH_index = index_to_bin.as\n",
    "print(df['index_to_bin'].dtypes)\n",
    "# CBH_index = df['index_to_bin'].asfreq(CBH)\n",
    "df.head()"
   ]
  },
  {
   "cell_type": "code",
   "execution_count": null,
   "metadata": {},
   "outputs": [],
   "source": [
    "display(df.head())\n",
    "df\n"
   ]
  },
  {
   "cell_type": "code",
   "execution_count": null,
   "metadata": {},
   "outputs": [],
   "source": [
    "# twitter_df['group_bin']  = twitter_df.index_to_bin.round('H')\n",
    "# groups = twitter_df['group_bin'].unique().sort_values()"
   ]
  },
  {
   "cell_type": "code",
   "execution_count": null,
   "metadata": {},
   "outputs": [],
   "source": [
    "# twitter_df['index_to_bin'] = twitter_df.asfreq(CBH).index\n",
    "# twitter_df['group_bin']  = twitter_df.index_to_bin.round('H')\n",
    "# groups = twitter_df['group_bin'].unique().sort_values()"
   ]
  },
  {
   "cell_type": "code",
   "execution_count": null,
   "metadata": {},
   "outputs": [],
   "source": [
    "# Make a new_df for resulting output\n",
    "new_df = pd.DataFrame()\n",
    "new_df['timebins'] = groups #or make a set\n",
    "\n",
    "for group in groups:"
   ]
  },
  {
   "cell_type": "code",
   "execution_count": null,
   "metadata": {
    "colab": {},
    "colab_type": "code",
    "id": "5PTj-HIz8i1t"
   },
   "outputs": [],
   "source": [
    "# Round inde to the nearest minute\n",
    "twitter_df.index = twitter_df.index.round('T')\n",
    "\n",
    "# Make datetime index a periodindex\n",
    "twitter_df = twitter_df.to_period('T')\n",
    "\n",
    "display(twitter_df.head(2))\n",
    "twitter_df.index[[0,-1]]\n",
    "\n",
    "\n",
    "# Select only the stock periods that have corresponding tweets (post-inaugauration)\n",
    "stock_periods=stock_periods['2017-01-20':]\n",
    "\n",
    "# Confirm the endpoints of the stocks and tweets before combining\n",
    "stock_periods.index[[0,-1]], twitter_df.index[[0,-1]]\n",
    "\n",
    "# Make stock_periods a dataframe with 'price' column title\n",
    "stock_periods_df = pd.DataFrame(stock_periods,columns=['price'], copy=True)\n",
    "\n",
    "display(stock_periods_df.head(2))\n",
    "display(twitter_df.head(2))"
   ]
  },
  {
   "cell_type": "code",
   "execution_count": null,
   "metadata": {
    "colab": {},
    "colab_type": "code",
    "id": "WPwGiw2m8w5t"
   },
   "outputs": [],
   "source": [
    "df = twitter_df.merge(stock_periods_df, how='outer', on='date', sort=True)\n",
    "df[['content','price']].isna().sum()"
   ]
  },
  {
   "cell_type": "code",
   "execution_count": null,
   "metadata": {
    "colab": {},
    "colab_type": "code",
    "id": "k8EWRd5O8-kh"
   },
   "outputs": [],
   "source": [
    "# Apply forward filling for price column to give all tweets a S&P price value\n",
    "df['price'] = df['price'].fillna(method='ffill',axis=0)\n",
    "df.head()"
   ]
  },
  {
   "cell_type": "markdown",
   "metadata": {
    "colab_type": "text",
    "id": "6Z5Ac2I58QXe"
   },
   "source": [
    "# Processed Twitter Data "
   ]
  },
  {
   "cell_type": "code",
   "execution_count": null,
   "metadata": {
    "colab": {},
    "colab_type": "code",
    "id": "ltdTPiv18UiQ"
   },
   "outputs": [],
   "source": [
    "twitter_df = pd.read_csv(folder_path+'data/trump_twitter_archive_df.csv', encoding='utf-8',index_col='date',parse_dates=True)\n",
    "twitter_df.drop('Unnamed: 0',axis=1,inplace=True)\n",
    "\n",
    "# Fill in missing values before merging with stock data\n",
    "twitter_df.fillna('', inplace=True)\n",
    "twitter_df.sort_index(ascending=True, inplace=True)\n",
    "\n",
    "# Check header and daterange of index\n",
    "display(twitter_df.head(2))\n",
    "twitter_df.index[[0,-1]]"
   ]
  }
 ],
 "metadata": {
  "colab": {
   "collapsed_sections": [
    "xNf73gC9daS-",
    "eE3D-Avztybj"
   ],
   "name": "Capstone Project Outline + Analysis.ipynb",
   "provenance": [],
   "toc_visible": true,
   "version": "0.3.2"
  },
  "kernelspec": {
   "display_name": "learn-env-ext",
   "language": "python",
   "name": "learn-env-ext"
  },
  "language_info": {
   "codemirror_mode": {
    "name": "ipython",
    "version": 3
   },
   "file_extension": ".py",
   "mimetype": "text/x-python",
   "name": "python",
   "nbconvert_exporter": "python",
   "pygments_lexer": "ipython3",
   "version": "3.6.8"
  },
  "toc": {
   "base_numbering": 1,
   "nav_menu": {},
   "number_sections": false,
   "sideBar": true,
   "skip_h1_title": false,
   "title_cell": "Table of Contents",
   "title_sidebar": "Contents",
   "toc_cell": false,
   "toc_position": {
    "height": "calc(100% - 180px)",
    "left": "10px",
    "top": "150px",
    "width": "313.534px"
   },
   "toc_section_display": true,
   "toc_window_display": true
  },
  "varInspector": {
   "cols": {
    "lenName": 16,
    "lenType": 16,
    "lenVar": "25"
   },
   "kernels_config": {
    "python": {
     "delete_cmd_postfix": "",
     "delete_cmd_prefix": "del ",
     "library": "var_list.py",
     "varRefreshCmd": "print(var_dic_list())"
    },
    "r": {
     "delete_cmd_postfix": ") ",
     "delete_cmd_prefix": "rm(",
     "library": "var_list.r",
     "varRefreshCmd": "cat(var_dic_list()) "
    }
   },
   "oldHeight": 265.340454,
   "position": {
    "height": "40px",
    "left": "751.591px",
    "right": "20px",
    "top": "49px",
    "width": "607.773px"
   },
   "types_to_exclude": [
    "module",
    "function",
    "builtin_function_or_method",
    "instance",
    "_Feature"
   ],
   "varInspector_section_display": "none",
   "window_display": true
  }
 },
 "nbformat": 4,
 "nbformat_minor": 1
}
