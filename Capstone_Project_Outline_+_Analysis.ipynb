{
 "cells": [
  {
   "cell_type": "markdown",
   "metadata": {
    "colab_type": "text",
    "heading_collapsed": true,
    "id": "mHDiTjr5lm_U"
   },
   "source": [
    "# Project Overview"
   ]
  },
  {
   "cell_type": "markdown",
   "metadata": {
    "colab_type": "text",
    "hidden": true,
    "id": "wofiIIk6hQtc"
   },
   "source": [
    "## PROJECT GOAL:\n",
    "\n",
    "* **Use President Trump's tweets (NLP and other features) to predict fluctuations in the stock market (using S&P 500 as index).**\n",
    "\n",
    "    \n",
    "### Data to Use:\n",
    "\n",
    "* All Donald Trump tweets from inaugaration day 2017 to today (for now) - 06/20/19\n",
    "\n",
    "    *          Extracted from http://www.trumptwitterarchive.com/\n",
    "*     Minute-resolution data for the S&P500 covering the same time period.\n",
    "\n",
    "    *         IVE S&P500 Index from - http://www.kibot.com/free_historical_data.aspx\n",
    "    \n",
    "## MAJOR REFERENCES / INSPIRATION / PRIOR WORK IN FIELD:\n",
    "\n",
    "1. **Stanford Scientific Poster Using NLP ALONE to predict if stock prices increase or decrease 5 mins after Trump tweets.**  [Poster PDF LINK](http://cs229.stanford.edu/proj2017/final-posters/5140843.pdf)\n",
    "    - [Evernote Summary Notes Link](https://www.evernote.com/l/AAoL1CyhPV1GoIzSgq59GO10x6xfEeVDo5s/)\n",
    "\n",
    "2. **TowardsDataScience Blog Plost on \"Using the latest advancements in deep learning to predict stock price movements.\"** [Blog Post link](https://towardsdatascience.com/aifortrading-2edd6fac689d)\n",
    "    - [Evernote Summary](https://www.evernote.com/l/AApvQ8Xh8b9GBLhrD0m8w4H1ih1oVM8wkEw/)\n",
    "\n",
    "\n",
    "## OUTLINE FOR DATA TO PRODUCE & MODEL FOR FINAL PROJECT:\n",
    "\n",
    "### TWITTER DATA:\n",
    "\n",
    "* [ENGINEER FEATURES] **Extract features from Trump's tweets: perform the NLP analysis to generate the features about his tweets to use in final model**\n",
    "\n",
    "    * [x] Tweet sentiment score\n",
    "    * [ ] Tweet frequency per timebin\n",
    "    * [x] upper-to-lowercase-ratio\n",
    "    * [x] retweet-count\n",
    "    * [x] favorite-count\n",
    "    \n",
    "* [PREDICTIVE MODEL] **Generate Binary Stock Market Predictions based on Trump's Tweets.**\n",
    "\n",
    "    * [ ] Create a neural network model like the Stanford guys, where my model JUST uses the content of trump's tweets with word embeddings and a binary label (-1, 0,1) for direction of stock market change at a fixed time delta (they did 5 mins, I will do 1 hour) [ See reference #1 - stanford poster]\n",
    "  \n",
    "\n",
    "\n",
    "\n",
    "### STOCK MARKET DATA (S&P 500):\n",
    "\n",
    "* [ENGINEER FEATURES] **Extract features about the stock data -calculate the technical indices for the S&P 500 discussed in his article.**  [ see reference #2 - blog post ]\n",
    "\n",
    "    * [x] 7 days moving average \n",
    "    * [x]  21 days moving average\n",
    "    * [x] exponential moving average\n",
    "    * [x] momentum\n",
    "    * [x] Bollinger bands\n",
    "    * [x] MACD\n",
    "    * (Maybe) FFT / time series decomp for trend lines\n",
    "    \n",
    "* [PREDICTIVE MODEL] **Generate stock price predictions based only historical data using....**\n",
    "\n",
    "    * [ ] an ARIMA model[?]\n",
    "    * [ ] a FB Prophet model[?] \n",
    "    * [ ] an LSTM neural network like other blog post?  [!!!] [Predicting the Stock Market Using Machine Learning and Deep Learning](https://www.evernote.com/l/AAq1azRmt2dANq_Oye-MBZQr-OU5lA5APl8/)\n",
    "    \n",
    "### FINAL MODEL - FEED ALL ABOVE FEATURES INTO:\n",
    "\n",
    "- **Plan A: NEURAL NETWORK *REGRESSION* MODEL TO PREDICT *ACTUAL S&P 500 PRICE* AT 1 HOUR-1 DAY FOLLOWING TWEETS**\n",
    "    - Final Model Target is based more on blog post's construction (ref#2), but takes output of model like ref#1\n",
    "    \n",
    "    <img src=\"https://raw.githubusercontent.com/jirvingphd/dsc-5-capstone-project-online-ds-ft-021119/master/figures/annotated_GAN_for_stock_market.jpeg\" width=1000>\n",
    "    \n",
    "- **PLAN B: NEURAL NETWORK *BINARY CLASSIFICATION*  MODEL TO PREDICT THE *DIRECTION OF CHANGE FOR S&P 500 PRICE* AT 1 HOUR - 1 DAY FOLLOWING TWEETS**\n",
    "    - Final Model Target is based on stanford poster's methods/goal. (ref #1)\n",
    "\n",
    "\n"
   ]
  },
  {
   "cell_type": "markdown",
   "metadata": {
    "colab_type": "text",
    "hidden": true,
    "id": "FXUD8NkFm5r8"
   },
   "source": [
    "## DATA ANALYSIS DETAILS AND Equations/Code "
   ]
  },
  {
   "cell_type": "markdown",
   "metadata": {
    "colab_type": "text",
    "hidden": true,
    "id": "s_ogprIz6TZ-"
   },
   "source": [
    "### Technical Indicators - Explanation & Equations\n"
   ]
  },
  {
   "cell_type": "markdown",
   "metadata": {
    "colab_type": "text",
    "hidden": true,
    "id": "0B4Jeml3m8zQ"
   },
   "source": [
    "\n",
    "\n",
    "\n",
    "\n",
    "* 7 and 21 day moving averages \n",
    "```python\n",
    "df['ma7'] df['price'].rolling(window = 7 ).mean() #window of 7 if daily data\n",
    "df['ma21'] df['price'].rolling(window = 21).mean() #window of 21 if daily data\n",
    "```    \n",
    "* MACD(Moving Average Convergence Divergence)\n",
    "\n",
    "> Moving Average Convergence Divergence (MACD) is a trend-following momentumindicator that shows the relationship between two moving averages of a security’s price. The MACD is calculated by subtracting the 26-period Exponential Moving Average (EMA) from the 12-period EMA.\n",
    "\n",
    ">The result of that calculation is the MACD line. A nine-day EMA of the MACD, called the \"signal line,\" is then plotted on top of the MACD line, which can function as a trigger for buy and sell signals. \n",
    "\n",
    "> Traders may buy the security when the MACD crosses above its signal line and sell - or short - the security when the MACD crosses below the signal line. Moving Average Convergence Divergence (MACD) indicators can be interpreted in several ways, but the more common methods are crossovers, divergences, and rapid rises/falls.  - _[from Investopedia](https://www.investopedia.com/terms/m/macd.asp)_\n",
    "\n",
    "```python\n",
    "df['ewma26'] = pd.ewma(df['price'], span=26)\n",
    "df['ewma12'] = pd.ewma(df['price'], span=12)\n",
    "df['MACD'] = (df['12ema']-df['26ema'])\n",
    "```\n",
    "- **Exponentially weighted moving average**\n",
    "```python\n",
    "dataset['ema'] = dataset['price'].ewm(com=0.5).mean()\n",
    "```\n",
    "\n",
    "- **Bollinger bands**\n",
    "    > \"Bollinger Bands® are a popular technical indicators used by traders in all markets, including stocks, futures and currencies. There are a number of uses for Bollinger Bands®, including determining overbought and oversold levels, as a trend following tool, and monitoring for breakouts. There are also some pitfalls of the indicators. In this article, we will address all these areas.\"\n",
    "> Bollinger bands are composed of three lines. One of the more common calculations of Bollinger Bands uses a 20-day simple moving average (SMA) for the middle band. The upper band is calculated by taking the middle band and adding twice the daily standard deviation, the lower band is the same but subtracts twice the daily std. - _[from Investopedia](https://www.investopedia.com/trading/using-bollinger-bands-to-gauge-trends/)_\n",
    "\n",
    "    - Boilinger Upper Band:<br>\n",
    "    $BOLU = MA(TP, n) + m * \\sigma[TP, n ]$<br><br>\n",
    "    - Boilinger Lower Band<br>\n",
    "    $ BOLD = MA(TP,n) - m * \\sigma[TP, n ]$\n",
    "    - Where:\n",
    "        - $MA$  = moving average\n",
    "        - $TP$ (typical price) = $(High + Low+Close)/ 3$\n",
    "        - $n$ is number of days in smoothing period\n",
    "        - $m$ is the number of standard deviations\n",
    "        - $\\sigma[TP, n]$ = Standard Deviations over last $n$ periods of $TP$\n",
    "\n",
    "```python\n",
    "# Create Bollinger Bands\n",
    "dataset['20sd'] = pd.stats.moments.rolling_std(dataset['price'],20)\n",
    "dataset['upper_band'] = dataset['ma21'] + (dataset['20sd']*2)\n",
    "dataset['lower_band'] = dataset['ma21'] - (dataset['20sd']*2)\n",
    "```\n",
    "\n",
    "\n",
    "- **Momentum**\n",
    "> \"Momentum is the rate of acceleration of a security's price or volume – that is, the speed at which the price is changing. Simply put, it refers to the rate of change on price movements for a particular asset and is usually defined as a rate. In technical analysis, momentum is considered an oscillator and is used to help identify trend lines.\" - _[from Investopedia](https://www.investopedia.com/articles/technical/081501.asp)_\n",
    "\n",
    "    - $ Momentum = V - V_x$\n",
    "    - Where:\n",
    "        - $V$ = Latest Price\n",
    "        - $V_x$ = Closing Price\n",
    "        - $x$ = number of days ago\n",
    "\n",
    "```python\n",
    "# Create Momentum\n",
    "dataset['momentum'] = dataset['price']-1\n",
    "```\n",
    "\n"
   ]
  },
  {
   "cell_type": "markdown",
   "metadata": {
    "colab_type": "text",
    "hidden": true,
    "id": "u5DvoInw7Pha"
   },
   "source": [
    "###  STOCK DATA INFO - S&P500"
   ]
  },
  {
   "cell_type": "markdown",
   "metadata": {
    "colab_type": "text",
    "hidden": true,
    "id": "ZlLWKYf9oDOf"
   },
   "source": [
    "- Q: What is the format of your aggregate bid/ask data?\n",
    "    - **The order of the fields in our aggregate bid/ask files is: <br>Date, Time, BidOpen, BidHigh, BidLow, BidClose, AskOpen, AskHigh, AskLow, AskClose**\n",
    "\n",
    "    - The format is very similar to our standard one minute and higher interval files which are constructed by aggregating the execution price and volume. The difference here is that instead of using execution price we use \"national best bid and offer\" (NBBO) prices to get their open, high, low and close prices for any given time interval. Bids and asks in our files are from multiple markets and they represent the best prices or the highest bid and the lowest ask.\n",
    "\n",
    "    - We record best bid/ask values whenever there is trade activity. Like with our regular tick data, current best bid/ask values are recorded for every trade.\n",
    "\n",
    "    - A potential usage scenario may include using this data in your analysis to try to simulate the execution price for market orders and to estimate the potential slippage that may occur.\n",
    "\n",
    "You can download sample aggregate bid/ask data for free from the free historical data section on our Buy web page."
   ]
  },
  {
   "cell_type": "markdown",
   "metadata": {
    "colab_type": "text",
    "hidden": true,
    "id": "GIu3htoroCi1"
   },
   "source": [
    "**HELPFUL RESOURCES**\n",
    "- **Dateime Guide Article:**\n",
    "    - https://medium.com/jbennetcodes/dealing-with-datetimes-like-a-pro-in-pandas-b80d3d808a7f\n",
    "- **Getting business day MINUTE resolution**\n",
    "    - Create minute index, then limit it to business times\n",
    "        - https://stackoverflow.com/questions/19373759/python-pandas-business-day-range-bdate-range-doesnt-take-1min-freq\n",
    "    - Try !pip install pandas_market_calendars too"
   ]
  },
  {
   "cell_type": "markdown",
   "metadata": {
    "colab_type": "text",
    "id": "7kjKQFXdZfYx"
   },
   "source": [
    "# DEF FUNCTIONS"
   ]
  },
  {
   "cell_type": "code",
   "execution_count": 1,
   "metadata": {},
   "outputs": [],
   "source": [
    "import pandas as pd \n",
    "import numpy as np\n",
    "import matplotlib.pyplot as plt\n",
    "\n",
    "import warnings\n",
    "warnings.filterwarnings('ignore')"
   ]
  },
  {
   "cell_type": "markdown",
   "metadata": {
    "colab_type": "text",
    "id": "BLuuWg7nE7aE"
   },
   "source": [
    "## DEF PRIOR FUNCTIONS"
   ]
  },
  {
   "cell_type": "code",
   "execution_count": 2,
   "metadata": {
    "colab": {},
    "colab_type": "code",
    "id": "cSusLRSFE6oL"
   },
   "outputs": [],
   "source": [
    "def quick_table(tuples, col_names=None, caption =None,display_df=True):\n",
    "    \"\"\"Accepts a bigram output tuple of tuples and makes captioned table.\"\"\"\n",
    "    import pandas as pd\n",
    "    from IPython.display import display\n",
    "    if col_names == None:\n",
    "    \n",
    "        df = pd.DataFrame.from_records(tuples)\n",
    "        \n",
    "    else:\n",
    "        \n",
    "        df = pd.DataFrame.from_records(tuples,columns=col_names)\n",
    "        dfs = df.style.set_caption(caption)\n",
    "        \n",
    "        if display_df == True:\n",
    "            display(dfs)\n",
    "            \n",
    "    return df\n",
    "\n",
    "def compare_word_cloud(text1,label1,text2,label2):\n",
    "    \"\"\"Compares the wordclouds from 2 sets of texts\"\"\"\n",
    "    from wordcloud import WordCloud\n",
    "    import matplotlib.pyplot as plt\n",
    "\n",
    "    wordcloud1 = WordCloud(max_font_size=80, max_words=200, background_color='white').generate(' '.join(text1))\n",
    "    wordcloud2 = WordCloud(max_font_size=80, max_words=200, background_color='white').generate(' '.join(text2))\n",
    "\n",
    "\n",
    "    fig,ax = plt.subplots(nrows=1,ncols=2,figsize=(20,15))\n",
    "    ax[0].imshow(wordcloud1, interpolation='bilinear')\n",
    "    ax[0].set_aspect(1.5)\n",
    "    ax[0].axis(\"off\")\n",
    "    ax[0].set_title(label1, fontsize=20)\n",
    "\n",
    "    ax[1].imshow(wordcloud2, interpolation='bilinear')\n",
    "    ax[1].set_aspect(1.5)\n",
    "    ax[1].axis(\"off\")\n",
    "    ax[1].set_title(label2, fontsize=20)\n",
    "\n",
    "    fig.tight_layout()\n",
    "    return fig,ax\n",
    "\n",
    "# Define get_tags_ats to accept a list of text entries and return all found tags and ats as 2 series/lists\n",
    "def get_tags_ats(text_to_search,exp_tag = r'(#\\w*)',exp_at = r'(@\\w*)', output='series',show_counts=False):\n",
    "    \"\"\"Accepts a list of text entries to search, and a regex for tags, and a regex for @'s.\n",
    "    Joins all entries in the list of text and then re.findsall() for both expressions.\n",
    "    Returns a series of found_tags and a series of found_ats.'\"\"\"\n",
    "    import re\n",
    "    import pandas as pd\n",
    "    # Create a single long joined-list of strings\n",
    "    text_to_search_combined = ' '.join(text_to_search)\n",
    "        \n",
    "    # print(len(text_to_search_combined), len(text_to_search_list))\n",
    "    found_tags = re.findall(exp_tag, text_to_search_combined)\n",
    "    found_ats = re.findall(exp_at, text_to_search_combined)\n",
    "    \n",
    "    if output.lower() == 'series':\n",
    "        found_tags = pd.Series(found_tags, name='tags')\n",
    "        found_ats = pd.Series(found_ats, name='ats')\n",
    "        \n",
    "        if show_counts==True:\n",
    "            print(f'\\t{found_tags.name}:\\n{found_tags.value_counts()} \\n\\n\\t{found_ats.name}:\\n{found_ats.value_counts()}')\n",
    "                \n",
    "    if (output.lower() != 'series') & (show_counts==True):\n",
    "        raise Exception('output must be set to \"series\" in order to show_counts')\n",
    "                       \n",
    "    return found_tags, found_ats\n",
    "\n",
    "\n",
    "def clean_text(series,is_tokens=False,return_tokens=False, urls=True, hashtags=True, mentions=True, remove_stopwords=True, verbose=False):\n",
    "    \"\"\"Accepts a series/df['column'] and tokenizes, removes urls, hasthtags, and @s using regex before tokenizing and removing stopwrods\"\"\"\n",
    "    import pandas as pd\n",
    "    import re, nltk\n",
    "    from nltk.corpus import stopwords\n",
    "    \n",
    "    series_cleaned=series.copy()\n",
    "    \n",
    "    # Remove URLS\n",
    "    if urls==True:\n",
    "        urls = re.compile(r\"(http[s]?://\\w*\\.\\w*/+\\w+)\")\n",
    "        series_cleaned = series_cleaned.apply(lambda x: urls.sub(' ', x))\n",
    "            \n",
    "        if verbose==True:\n",
    "            print('URLs removed...')\n",
    "            \n",
    "    # Remove hashtags\n",
    "    if hashtags==True:\n",
    "        hashtags = re.compile(r'(\\#\\w*)')\n",
    "        series_cleaned = series_cleaned.apply(lambda x: hashtags.sub(' ', x))\n",
    "        \n",
    "        if verbose==True:\n",
    "            print('Hashtags removed...')\n",
    "    \n",
    "    # Remove mentions\n",
    "    if mentions==True:\n",
    "        mentions = re.compile(r'(\\@\\w*)')\n",
    "        series_cleaned = series_cleaned.apply(lambda x: mentions.sub(' ',x))\n",
    "\n",
    "        if verbose==True:\n",
    "            print('Mentions removed...')\n",
    "    \n",
    "    \n",
    "    # Regexp_tokenize stopped words (to keep contractions)\n",
    "    if is_tokens==False:\n",
    "        pattern = \"([a-zA-Z]+(?:'[a-z]+)?)\"\n",
    "        series_cleaned = series_cleaned.apply(lambda x: nltk.regexp_tokenize(x,pattern))\n",
    "        if verbose==True:\n",
    "            print('Text regexp_tokenized...\\n')\n",
    "    \n",
    "    \n",
    "    # Filter Out Stopwords\n",
    "    stopwords_list = []\n",
    "    from nltk.corpus import stopwords\n",
    "    import string\n",
    "    \n",
    "    # Generate Stopwords List\n",
    "    stopwords_list = stopwords.words('english')\n",
    "    stopwords_list += list(string.punctuation)\n",
    "    stopwords_list += ['http','https','...','``','co','“','’','‘','”',\n",
    "                       'rt',\"n't\",\"''\",\"RT\",'u','s',\"'s\",'?']#,'@','#']\n",
    "    stopwords_list += [0,1,2,3,4,5,6,7,8,9]\n",
    "    stopwords_list +=['RT','rt',';']\n",
    "     \n",
    "    if remove_stopwords==True:\n",
    "        series_cleaned = series_cleaned.apply(lambda x: [w.lower() for w in x if w.lower() not in stopwords_list])\n",
    "        # for s in range(len(series_cleaned)):\n",
    "        #     text =[]\n",
    "        #     text_stopped = []\n",
    "        #     text = series_cleaned[s]\n",
    "        #     text_stopped = [x.lower() for x in text if x.lower() not in stopwords_list]\n",
    "        #     series_cleaned[s]= text_stopped\n",
    "        \n",
    "        if verbose==True:\n",
    "            print('Stopwords removed...')\n",
    "       \n",
    "    if return_tokens==False:\n",
    "        series_cleaned = series_cleaned.apply(lambda x: ' '.join(x))\n",
    "    \n",
    "    print('\\n')\n",
    "    return series_cleaned\n",
    "\n",
    "def train_test_val_split(X,y,test_size=0.20,val_size=0.1):\n",
    "    \"\"\"Performs 2 successive train_test_splits to produce a training, testing, and validation dataset\"\"\"\n",
    "    from sklearn.model_selection import train_test_split\n",
    "\n",
    "    first_split_size = test_size + val_size\n",
    "    second_split_size = val_size/(test_size + val_size)\n",
    "\n",
    "    X_train, X_test_val, y_train, y_test_val = train_test_split(X, y, test_size=first_split_size)\n",
    "\n",
    "    X_test, X_val, y_test, y_val = train_test_split(X_test_val, y_test_val, test_size=second_split_size)\n",
    "\n",
    "    return X_train, X_test, X_val, y_train, y_test, y_val\n",
    "\n",
    "\n",
    "def plot_keras_history(history):\n",
    "    \"\"\"Plots the history['acc','val','val_acc','val_loss']\"\"\"\n",
    "    import matplotlib.pyplot as plt\n",
    "    acc = history.history['acc']\n",
    "    loss = history.history['loss']\n",
    "    val_acc = history.history['val_acc']\n",
    "    val_loss = history.history['val_loss']\n",
    "    x = range(1,len(acc)+1)\n",
    "    \n",
    "    fig,ax = plt.subplots(nrows=2, ncols=1, figsize=(6,8))\n",
    "    ax[0].plot(x, acc,'b',label='Training Acc')\n",
    "    ax[0].plot(x, val_acc,'r',label='Validation Acc')\n",
    "    ax[0].legend()\n",
    "    ax[1].plot(x, loss,'b',label='Training Loss')\n",
    "    ax[1].plot(x, val_loss, 'r', label='Validation Loss')\n",
    "    ax[1].legend()\n",
    "    plt.show()\n",
    "    return fig, ax\n",
    "\n",
    "\n",
    "def plot_auc_roc_curve(y_test, y_test_pred):\n",
    "    \"\"\" Takes y_test and y_test_pred from a ML model and plots the AUC-ROC curve.\"\"\"\n",
    "    from sklearn.metrics import confusion_matrix\n",
    "    from sklearn.metrics import roc_auc_score, roc_curve\n",
    "    import matplotlib.pyplot as plt\n",
    "    auc = roc_auc_score(y_test, y_test_pred[:,1])\n",
    "\n",
    "    FPr, TPr, _  = roc_curve(y_test, y_test_pred[:,1])\n",
    "    plt.plot(FPr, TPr,label=f\"AUC for CatboostClassifier:\\n{round(auc,2)}\" )\n",
    "\n",
    "    plt.plot([0, 1], [0, 1],  lw=2,linestyle='--')\n",
    "    plt.xlim([-0.01, 1.0])\n",
    "    plt.ylim([0.0, 1.05])\n",
    "\n",
    "    plt.xlabel('False Positive Rate')\n",
    "    plt.ylabel('True Positive Rate')\n",
    "    plt.title('Receiver operating characteristic (ROC) Curve')\n",
    "    plt.legend(loc=\"lower right\")\n",
    "    plt.show()\n",
    "\n",
    "\n",
    "\n",
    "def display_random_tweets(df_tokenize,n=5 ,display_cols=['content','text_for_vectors','tokens'], group_labels=[],verbose=True):\n",
    "    \"\"\"Takes df_tokenize['text_for_vectors']\"\"\"\n",
    "    import numpy as np\n",
    "    import pandas as pd \n",
    "    from IPython.display import display\n",
    "    if len(group_labels)==0:\n",
    "\n",
    "        group_labels = display_cols\n",
    "\n",
    "    \n",
    "    random_tweets={}\n",
    "    # Randomly pick n indices to display from specified col\n",
    "    idx = np.random.choice(range(len(df_tokenize)), n)\n",
    "    \n",
    "    for i in range(len(display_cols)):\n",
    "        \n",
    "        group_name = str(group_labels[i])\n",
    "        random_tweets[group_name] ={}\n",
    "\n",
    "        # Select column data\n",
    "        df_col = df_tokenize[display_cols[i]]\n",
    "        \n",
    "\n",
    "        tweet_group = {}\n",
    "        tweet_group['index'] = idx\n",
    "        \n",
    "        chosen_tweets = df_col[idx]\n",
    "        tweet_group['text'] = chosen_tweets\n",
    "\n",
    "        # print(chosen_tweets)\n",
    "        if verbose>0:\n",
    "            with pd.option_context('max_colwidth',300):\n",
    "                df_display = pd.DataFrame.from_dict(tweet_group)\n",
    "                display(df_display.style.set_caption(f'Group: {group_name}'))\n",
    "\n",
    "\n",
    "        random_tweets[group_name] = tweet_group\n",
    "        \n",
    "        # if verbose>0:\n",
    "              \n",
    "        #     for group,data in random_tweets.items():\n",
    "        #         print(f'\\n\\nRandom Tweet for {group:>.{300}}:\\n{\"---\"*20}')\n",
    "\n",
    "        #         df = random_tweets[group]\n",
    "        #         display(df)\n",
    "    if verbose==0:\n",
    "        return random_tweets\n",
    "    else:\n",
    "        return\n",
    "\n",
    "\n",
    "def reload(mod):\n",
    "    \"\"\"Reloads the module from file.\"\"\"\n",
    "    from importlib import reload\n",
    "    import sys\n",
    "    print(f'Reloading...')\n",
    "    return  reload(mod)\n",
    "\n",
    "\n",
    "def process_df_full(df_full, raw_col='content_raw', fill_content_col='content',force=False):\n",
    "    \"\"\"Accepts df_full, which contains the raw tweets to process, the raw_col name, the column to fill.\n",
    "    If force=False, returns error if the fill_content_col already exists.\n",
    "    Processing Workflow:1) Create has_RT, starts_RT columns. 2) Creates [fill_content_col,`content_min_clean`] cols after removing 'RT @mention:' and urls.\n",
    "    3) Removes hashtags from fill_content_col and saves hashtags in new col. 4) Removes mentions from fill_content_col and saves to new column.\"\"\"\n",
    "    import re\n",
    "    import pandas as pd\n",
    "    \n",
    "    if force==False:\n",
    "        if fill_content_col in df_full.columns:\n",
    "            raise Exception(f'{fill_content_col} already exists. To overwrite, set force=True.')\n",
    "\n",
    "\n",
    "    # # create 'content_raw' column from 'content'\n",
    "    # df_full[fill_content_col] = df_full['content'].copy()\n",
    "\n",
    "\n",
    "    # Add has_RT and starts_RT columns\n",
    "    # Creating columns for tweets that `has_RT` or `starts_RT`\n",
    "    df_full['has_RT']=df_full[raw_col].str.contains('RT')\n",
    "    df_full['starts_RT']=df_full[raw_col].str.contains('^RT')\n",
    "\n",
    "\n",
    "    ## FIRST REMOVE THE RT HEADERS\n",
    "\n",
    "    # Remove `RT @Mentions` FIRST:\n",
    "    re_RT = re.compile(r'RT [@]?\\w*:')\n",
    "\n",
    "    # raw_col =  'content_raw'\n",
    "    check_content_col =raw_col\n",
    "    fill_content_col = fill_content_col\n",
    "\n",
    "    df_full['content_starts_RT'] = df_full[check_content_col].apply(lambda x: re_RT.findall(x))\n",
    "    df_full[fill_content_col] =  df_full[check_content_col].apply(lambda x: re_RT.sub(' ',x))\n",
    "\n",
    "\n",
    "    ## SECOND REMOVE URLS\n",
    "    # Remove urls with regex\n",
    "    urls = re.compile(r\"(http[s]?://\\w*\\.\\w*/+\\w+)\")\n",
    "\n",
    "    check_content_col = fill_content_col\n",
    "    fill_content_col = fill_content_col\n",
    "\n",
    "    # df_full['content_urls'] = df_full[check_content_col].apply(lambda x: urls.findall(x))\n",
    "    df_full[fill_content_col] =  df_full[check_content_col].apply(lambda x: urls.sub(' ',x))\n",
    "\n",
    "    ## SAVE THIS MINIMALLY CLEANED CONTENT AS 'content_min_clean'\n",
    "    df_full['content_min_clean'] =  df_full[fill_content_col]\n",
    "\n",
    "\n",
    "\n",
    "\n",
    "    ## REMOVE AND SAVE HASHTAGS, MENTIONS\n",
    "    # Remove and save Hashtags\n",
    "    hashtags = re.compile(r'\\#\\w*')\n",
    "\n",
    "    check_content_col = fill_content_col\n",
    "    fill_content_col = fill_content_col\n",
    "\n",
    "    df_full['content_hashtags'] =  df_full[check_content_col].apply(lambda x: hashtags.findall(x))\n",
    "    df_full[fill_content_col] =  df_full[check_content_col].apply(lambda x: hashtags.sub(' ',x))\n",
    "\n",
    "\n",
    "    # Remove and save mentions (@)'s\n",
    "    mentions = re.compile(r'\\@\\w*')\n",
    "\n",
    "    check_content_col = fill_content_col\n",
    "    fill_content_col = fill_content_col\n",
    "\n",
    "    df_full['content_mentions'] =  df_full[check_content_col].apply(lambda x: mentions.findall(x))\n",
    "    df_full[fill_content_col] =  df_full[check_content_col].apply(lambda x: mentions.sub(' ',x))\n",
    "\n",
    "    return df_full\n",
    "\n",
    "\n",
    "\n",
    "def load_orig_dataset(root_dir = 'russian-troll-tweets/', ext='.csv'):\n",
    "    \"\"\"Accepts a root_dir, finds all files that end with ext and loads into a dataframe.\"\"\"\n",
    "    import os\n",
    "    import pandas as pd\n",
    "    # root_dir = 'russian-troll-tweets/'\n",
    "    # os.listdir('russian-troll-tweets/')\n",
    "    filelist = [os.path.join(root_dir,file) for file in os.listdir(root_dir) if file.endswith(ext)]\n",
    "    print(f'Loading {len(filelist)} files into dataframe...')\n",
    "        # Vertically concatenate \n",
    "    df = pd.DataFrame()\n",
    "    for file in filelist:\n",
    "        df_new = pd.read_csv(file)\n",
    "        df = pd.concat([df,df_new], axis=0)\n",
    "    # df.info()\n",
    "\n",
    "    return df\n",
    "\n",
    "def ask_user_to_save(df, filename=None,encoding=None, ask=True, skip_saving=False, overwrite=False):\n",
    "    \"\"\"Asks user to save df as filename. If no filename specified: filename ='saved_df.csv'\n",
    "    Set ask=False to save without asking.\"\"\"\n",
    "    import os, warnings\n",
    "\n",
    "    if type(df)=='string':\n",
    "        raise Exception('First input must be the dataframe to be saved.')\n",
    "    if skip_saving==True:\n",
    "        return print(f'Since skip_loading=True, no file was save.')\n",
    "\n",
    "    if filename==None:\n",
    "        filename='saved_df.csv'\n",
    "    \n",
    "    if ask==True:\n",
    "        ans = input('Would you like to save the df to a .csv?(y/n):')\n",
    "    else:\n",
    "        ans = 'y'\n",
    "    \n",
    "    # If ans to save =='y'\n",
    "    if ans.lower()=='y':\n",
    "\n",
    "        # Check if the file already exists\n",
    "        if filename in os.listdir():\n",
    "        \n",
    "            if overwrite==False:\n",
    "                # raise Exception(f\"{filename} already exists.\")\n",
    "                return warnings.warn(f\"{filename} already exists.\")\n",
    "\n",
    "            if overwrite==True:\n",
    "                warnings.warn(f\"Overwriting {filename}.\")\n",
    "\n",
    "        df.to_csv(filename)\n",
    "        print(f'{filename} successfully saved.')\n",
    "    else:\n",
    "        print('Ok. No file was saved. ')\n",
    "        \n",
    "\n",
    "def ask_user_to_load(filename, load_as_global = True ,ask=True, skip_loading=False, index_col=0, encoding=None):\n",
    "    \"\"\"Asks user to save df as filename. If no filename specified: filename ='saved_df.csv'\n",
    "    Set ask=False to save without asking.\"\"\"\n",
    "    import os\n",
    "    import pandas as pd\n",
    "\n",
    "    \n",
    "    if skip_loading==True:\n",
    "        return print(f'Since skip_loading=True, no file was loaded.')\n",
    "        \n",
    "\n",
    "    if ask==True:\n",
    "        ans = input('Would you like to load {filename} to a datafrane?(y/n):')\n",
    "\n",
    "    else:\n",
    "        ans = 'y'\n",
    "        \n",
    "\n",
    "    # If ans to load =='y'\n",
    "    if ans.lower()=='y':\n",
    "        \n",
    "        if load_as_global == True:\n",
    "            global df_\n",
    "            df_ = pd.read_csv(filename, encoding=encoding,index_col=index_col) \n",
    "            print(f'{filename} loaded as global variable: \"df_\"')\n",
    "            pass\n",
    "        else:\n",
    "            df_ = pd.read_csv(filename, encoding=encoding,index_col=index_col) \n",
    "            return df_\n",
    "    else:\n",
    "        return print('Ok. No file was loaded.')\n",
    "        \n",
    "\n",
    "def run_all_checkpoint(skip=False):\n",
    "    ans = input('Continue running all?(y/n):')\n",
    "    if ans.lower()=='y':\n",
    "        return print('OK. Continuing to run...')\n",
    "    else:\n",
    "        raise Exception('User requested to stop running.')\n",
    "\n",
    "\n",
    "## TO CHECK FOR STRINGS IN BOTH DATASETS:\n",
    "def check_dfs_for_exp_list(df_controls, df_trolls, list_of_exp_to_check):\n",
    "    df_resample = df_trolls\n",
    "    for exp in list_of_exp_to_check:\n",
    "    #     exp = '[Pp]eggy'\n",
    "        print(f'For {exp}:')\n",
    "        print(f\"\\tControl tweets: {len(df_controls.loc[df_controls['content_min_clean'].str.contains(exp)])}\")\n",
    "        print(f\"\\tTroll tweets: {len(df_resample.loc[df_resample['content_min_clean'].str.contains(exp)])}\\n\")\n",
    "              \n",
    "# list_of_exp_to_check = ['[Pp]eggy','[Mm]exico','nasty','impeachment','[mM]ueller']\n",
    "# check_dfs_for_exp_list(df_controls, df_resample, list_of_exp_to_check=list_of_exp_to_check)\n",
    "\n",
    "\n",
    "def get_group_texts_tokens(df_small, groupby_col='troll_tweet', group_dict={0:'controls',1:'trolls'}, column='content_stopped'):\n",
    "    from nltk import regexp_tokenize\n",
    "    pattern = \"([a-zA-Z]+(?:'[a-z]+)?)\"\n",
    "    text_dict = {}\n",
    "    for k,v in group_dict.items():\n",
    "        group_text_temp = df_small.groupby(groupby_col).get_group(k)[column]\n",
    "        group_text_temp = ' '.join(group_text_temp)\n",
    "        group_tokens = regexp_tokenize(group_text_temp, pattern)\n",
    "        text_dict[v] = {}\n",
    "        text_dict[v]['tokens'] = group_tokens\n",
    "        text_dict[v]['text'] =  ' '.join(group_tokens)\n",
    "            \n",
    "    print(f\"{text_dict.keys()}:['tokens']|['text']\")\n",
    "    return text_dict\n",
    "\n",
    "\n",
    "\n",
    "def check_df_groups_for_exp(df_full, list_of_exp_to_check, check_col='content_min_clean', groupby_col='troll_tweet', group_dict={0:'Control',1:'Troll'}):      \n",
    "    \"\"\"Checks `check_col` column of input dataframe for expressions in list_of_exp_to_check and \n",
    "    counts the # present for each group, defined by the groupby_col and groupdict. \n",
    "    Returns a dataframe of counts.\"\"\"\n",
    "    \n",
    "    list_of_results = []      \n",
    "\n",
    "    header_list= ['Term']\n",
    "    [header_list.append(x) for x in group_dict.values()]\n",
    "    list_of_results.append(header_list)\n",
    "    \n",
    "    for exp in list_of_exp_to_check:\n",
    "        curr_exp_list = [exp]\n",
    "        \n",
    "        for k,v in group_dict.items():\n",
    "            df_group = df_full.groupby(groupby_col).get_group(k)\n",
    "            curr_group_count = len(df_group.loc[df_group[check_col].str.contains(exp)])\n",
    "            curr_exp_list.append(curr_group_count)\n",
    "        \n",
    "        list_of_results.append(curr_exp_list)\n",
    "        \n",
    "    df_results = bs.list2df(list_of_results, index_col='Term')\n",
    "    return df_results\n",
    "\n",
    "\n",
    "###########################################################################\n",
    "\n",
    "def plot_fit_cloud(troll_cloud,contr_cloud,label1='Troll',label2='Control'):\n",
    "    import matplotlib.pyplot as plt\n",
    "    fig,ax = plt.subplots(nrows=1,ncols=2,figsize=(18,18))\n",
    "\n",
    "    ax[0].imshow(troll_cloud, interpolation='gaussian')\n",
    "    # ax[0].set_aspect(1.5)\n",
    "    ax[0].axis(\"off\")\n",
    "    ax[0].set_title(label1, fontsize=40)\n",
    "\n",
    "    ax[1].imshow(contr_cloud, interpolation='bilinear',)\n",
    "    # ax[1].set_aspect(1.5)\n",
    "    ax[1].axis(\"off\")\n",
    "    ax[1].set_title(label2, fontsize=40)\n",
    "    plt.tight_layout()\n",
    "    return fig, ax"
   ]
  },
  {
   "cell_type": "code",
   "execution_count": 3,
   "metadata": {
    "colab": {},
    "colab_type": "code",
    "id": "C1nT-GyA9K7k"
   },
   "outputs": [],
   "source": [
    "# !pip install pandas_market_calendars\n",
    "# # Install GraphViz with apt\n",
    "# !apt-get install graphviz -y\n",
    "\n",
    "# import pandas_market_calendars as pmc"
   ]
  },
  {
   "cell_type": "markdown",
   "metadata": {
    "colab_type": "text",
    "id": "N-OwQ7yVcssI"
   },
   "source": [
    "## DEF - FILE & VAR MANAGEMENT FUNCTIONS\n"
   ]
  },
  {
   "cell_type": "code",
   "execution_count": 4,
   "metadata": {
    "colab": {},
    "colab_type": "code",
    "id": "7DermDXOhSkh"
   },
   "outputs": [],
   "source": [
    "##################### FILE & VAR MANAGEMENT FUNCTIONS #####################\n",
    "\n",
    "# def mount_google_drive(force_remount=True):\n",
    "#     from google.colab import drive\n",
    "#     print('drive_filepath=\"drive/My Drive/\"')\n",
    "#     return drive.mount('/content/drive', force_remount=force_remount)\n",
    "\n",
    "\n",
    "# def check_for_google_drive(mount_if_not=True):\n",
    "#     import os\n",
    "#     # Check if google drive is already mounted\n",
    "#     x=[]\n",
    "#     try: os.listdir('drive/My Drive/')\n",
    "#     except FileNotFoundError: x=None\n",
    "\n",
    "#     # if GDrive not mounted, mount it\n",
    "#     if x==None:\n",
    "#         print('Drive not mounted.')\n",
    "#         if mount_if_not==False:\n",
    "#             return False\n",
    "#         else:\n",
    "#             print('Mounting google drive...')\n",
    "#             return mount_google_drive()\n",
    "#     else:\n",
    "#         return True\n",
    "\n",
    "# def cd_project_folder(folder_path ='/content/drive/My Drive/Colab Notebooks/Mod 5 Project/data/'):\n",
    "#     import os\n",
    "#     return os.chdir(folder_path),print('Cur Dir:', os.getcwd())\n",
    "#     # print('Dir Contents:\\n',os.listdir())\n",
    "    \n",
    "    \n",
    "#################### GENERAL HELPER FUNCTIONS #####################\n",
    "def is_var(name):\n",
    "    x=[]\n",
    "    try: eval(name)\n",
    "    except NameError: x = None\n",
    "        \n",
    "    if x is None:\n",
    "        return False\n",
    "    else:\n",
    "        return True    "
   ]
  },
  {
   "cell_type": "code",
   "execution_count": 5,
   "metadata": {
    "colab": {
     "base_uri": "https://localhost:8080/",
     "height": 50
    },
    "colab_type": "code",
    "id": "Ytha_MADqMm0",
    "outputId": "1110a1fa-a814-4488-edd1-e5edd775d06b"
   },
   "outputs": [],
   "source": [
    "## SAVE AND LOAD STOCK MARKET MINUTE DATA\n",
    "import pandas as pd\n",
    "import numpy as np\n",
    "import matplotlib.pyplot as plt\n",
    "import matplotlib as mpl\n",
    "\n",
    "# mount_google_drive()\n",
    "\n",
    "# cd_project_folder()\n",
    "# import os \n",
    "# os.getcwd()"
   ]
  },
  {
   "cell_type": "markdown",
   "metadata": {
    "colab_type": "text",
    "id": "dKz4bVhpdPFd"
   },
   "source": [
    "## DEF TIMESERIES TESTS AND VISUALS"
   ]
  },
  {
   "cell_type": "code",
   "execution_count": 6,
   "metadata": {
    "colab": {},
    "colab_type": "code",
    "id": "W8xmTbaXt-Dj"
   },
   "outputs": [],
   "source": [
    "\n",
    "############### TIMESERIES TESTS AND VISUALS ###############\n",
    "\n",
    "def plot_time_series(stocks_df, freq=None, fill_method='ffill',figsize=(12,4)):\n",
    "    \n",
    "    df = stocks_df.copy()\n",
    "    df.fillna(method=fill_method, inplace=True)\n",
    "    df.dropna(inplace=True)\n",
    "    \n",
    "    if (df.index.freq==None) & (freq == None):\n",
    "        xlabels=f'Time'\n",
    "    \n",
    "    elif (df.index.freq==None) & (freq != None):\n",
    "        df = df.asfreq(freq)\n",
    "        df.fillna(method=fill_method, inplace=True)\n",
    "        df.dropna(inplace=True)\n",
    "        xlabels=f'Time - Frequency = {freq}'\n",
    "\n",
    "    else:\n",
    "        xlabels=f'Time - Frequency = {df.index.freq}'\n",
    "        \n",
    "    ylabels=\"Price\"\n",
    "\n",
    "    raw_plot = df.plot(figsize=figsize)\n",
    "    raw_plot.set_title('Stock Bid Closing Price ')\n",
    "    raw_plot.set_ylabel(ylabels)\n",
    "    raw_plot.set_xlabel(xlabels)\n",
    "    \n",
    "    \n"
   ]
  },
  {
   "cell_type": "markdown",
   "metadata": {
    "colab_type": "text",
    "id": "ydfKaYnic8u2"
   },
   "source": [
    "## DEF TIMEINDEX FUNCTIONS"
   ]
  },
  {
   "cell_type": "code",
   "execution_count": 7,
   "metadata": {
    "colab": {},
    "colab_type": "code",
    "id": "OD2xRcdx7Rdh"
   },
   "outputs": [],
   "source": [
    "#################### TIMEINDEX FUNCTIONS #####################\n",
    "def get_day_window_size_from_freq(dataset):#, freq='CBH'):\n",
    "    \n",
    "    if dataset.index.freq == custom_BH_freq():\n",
    "        return 7\n",
    "    \n",
    "    if dataset.index.freq=='T':\n",
    "        day_window_size = 1440\n",
    "    elif dataset.index.freq=='BH':\n",
    "        day_window_size = 8\n",
    "    elif dataset.index.freq=='CBH':\n",
    "        day_window_size = 7\n",
    "    elif dataset.index.freq=='B':\n",
    "        day_window_size=1\n",
    "    elif dataset.index.freq=='D':\n",
    "        day_window_size=1\n",
    "        \n",
    "    else:\n",
    "        raise Exception('dataset freq=None')\n",
    "        \n",
    "    return day_window_size\n",
    "    \n",
    "\n",
    "def custom_BH_freq():\n",
    "    import pandas as pd\n",
    "    CBH = pd.tseries.offsets.CustomBusinessHour(start='09:30',end='16:30')\n",
    "    return CBH\n",
    "    \n",
    "    \n",
    "def  set_timeindex_freq(ive_df, col_to_fill=None, freq='CBH',fill_method='ffill',\n",
    "                        verbose=3): #set_tz=True,\n",
    "    \n",
    "    import pandas as pd\n",
    "    import numpy as np\n",
    "    \n",
    "    \n",
    "    if verbose>1:\n",
    "        # print(f\"{'Index When:':>{10}}\\t{'Freq:':>{20}}\\t{'Index Start:':>{40}}\\t{'Index End:':>{40}}\")\n",
    "        print(f\"{'Index When:'}\\t{'Freq:'}\\t{'Index Start'}\\t\\t{'Index End:'}\")\n",
    "        print(f\"Pre-Change\\t{ive_df.index.freq}\\t{ive_df.index[0]}\\t{ive_df.index[-1]}\")\n",
    "        \n",
    "    \n",
    "    if freq=='CBH':\n",
    "        freq=custom_BH_freq()\n",
    "#         start_idx = \n",
    "        \n",
    "    # Change frequency to freq\n",
    "    ive_df = ive_df.asfreq(freq,)#'min')\n",
    "    \n",
    "    #     # Set timezone\n",
    "    #     if set_tz==True:\n",
    "    #         ive_df.tz_localize()\n",
    "    #         ive_df.index = ive_df.index.tz_convert('America/New_York')\n",
    "    \n",
    "    # Report Success / Details\n",
    "    if verbose>1:\n",
    "        print(f\"Post-Change\\t{ive_df.index.freq}\\t{ive_df.index[0]}\\t{ive_df.index[-1]}\")\n",
    "\n",
    "\n",
    "    ## FILL AND TRACK TIMEPOINTS WITH MISSING DATA    \n",
    "    \n",
    "    # Helper Function for adding column to track the datapoints that were filled\n",
    "    def check_null_times(x):\n",
    "        import numpy as np\n",
    "        if np.isnan(x):\n",
    "            return True\n",
    "        else:\n",
    "            return False\n",
    "\n",
    "    ## CREATE A COLUMN TO TRACK ROWS TO BE FILLED\n",
    "    # If col_to_fill provided, use that column to create/judge ive_df['filled_timebin'] \n",
    "    if col_to_fill!=None:\n",
    "        ive_df['filled_timebin'] = ive_df[col_to_fill].apply(lambda x: check_null_times(x))#True if ive_df.isna().any()\n",
    "        \n",
    "    # if not provided, use all columns and sum results\n",
    "    elif col_to_fill == None:\n",
    "        # Prefill fol with 0's\n",
    "        ive_df['filled_timebin']=0\n",
    "        \n",
    "        # loop through all columns and add results of check_null_times from each loop\n",
    "    for col in ive_df.columns:\n",
    "        if ive_df[col].dtypes=='float64':\n",
    "            #ive_df['filled_timebin'] = ive_df[target_col].apply(lambda x: check_null_times(x))#True if ive_df.isna().any()\n",
    "            curr_filled_timebin_col = ive_df[col].apply(lambda x: check_null_times(x))#True if ive_df.isna().any() \n",
    "\n",
    "            # add results\n",
    "            ive_df['filled_timebin'] +=  curr_filled_timebin_col\n",
    "            \n",
    "    ive_df['filled_timebin'] = ive_df['filled_timebin'] >0\n",
    "            \n",
    "    ## FILL IN NULL VALUES\n",
    "    ive_df.fillna(method=fill_method, inplace=True)\n",
    "\n",
    "    # Report # filled\n",
    "    if verbose>0:\n",
    "        check_fill = ive_df.loc[ive_df['filled_timebin']>0]\n",
    "        print(f'\\nFilled {len(check_fill==True)}# of rows using method {fill_method}')\n",
    "    \n",
    "    # Report any remaning null values\n",
    "    if verbose>0:\n",
    "        res = ive_df.isna().sum()\n",
    "        if res.any():\n",
    "            print(f'Cols with Nulls:')\n",
    "            print(res[res>0])\n",
    "        else:\n",
    "            print('No Remaining Null Values')   \n",
    "            \n",
    "    # display header\n",
    "    if verbose>2:\n",
    "        display(ive_df.head())\n",
    "    \n",
    "    return ive_df\n",
    "\n",
    "\n",
    "# Helper Function for adding column to track the datapoints that were filled\n",
    "def check_null_times(x):\n",
    "    import numpy as np\n",
    "    if np.isnan(x):\n",
    "        return True\n",
    "    else:\n",
    "        return False"
   ]
  },
  {
   "cell_type": "markdown",
   "metadata": {
    "colab_type": "text",
    "id": "xNf73gC9daS-"
   },
   "source": [
    "## DEF SEASONAL DECOMPOSITION"
   ]
  },
  {
   "cell_type": "code",
   "execution_count": 8,
   "metadata": {
    "code_folding": [
     0
    ],
    "colab": {},
    "colab_type": "code",
    "id": "8uj8wd7Y5CJG"
   },
   "outputs": [],
   "source": [
    "######## SEASONAL DECOMPOSITION    \n",
    "def plot_decomposition(TS, decomposition, figsize=(12,8),window_used=None):\n",
    "    \"\"\" Plot the original data and output decomposed components\"\"\"\n",
    "    \n",
    "    # Gather the trend, seasonality and noise of decomposed object\n",
    "    trend = decomposition.trend\n",
    "    seasonal = decomposition.seasonal\n",
    "    residual = decomposition.resid\n",
    "\n",
    "    fontdict_axlabels = {'fontsize':12}#,'fontweight':'bold'}\n",
    "    \n",
    "    # Plot gathered statistics\n",
    "    fig, ax = plt.subplots(nrows=4, ncols=1,figsize=figsize)\n",
    "    \n",
    "    ylabel = 'Original'\n",
    "    ax[0].plot(np.log(TS), color=\"blue\")\n",
    "    ax[0].set_ylabel(ylabel, fontdict=fontdict_axlabels)\n",
    "    \n",
    "    ylabel = label='Trend'\n",
    "    ax[1].plot(trend, color=\"blue\")\n",
    "    ax[1].set_ylabel(ylabel, fontdict=fontdict_axlabels)\n",
    "    \n",
    "    ylabel='Seasonality'\n",
    "    ax[2].plot(seasonal, color=\"blue\")\n",
    "    ax[2].set_ylabel(ylabel, fontdict=fontdict_axlabels)\n",
    "    \n",
    "    ylabel='Residuals'\n",
    "    ax[3].plot(residual, color=\"blue\")\n",
    "    ax[3].set_ylabel(ylabel, fontdict=fontdict_axlabels)\n",
    "    ax[3].set_xlabel('Time', fontdict=fontdict_axlabels)\n",
    "    \n",
    "    # Add title with window \n",
    "    if window_used == None:\n",
    "        plt.suptitle('Seasonal Decomposition', y=1.02)\n",
    "    else:\n",
    "        plt.suptitle(f'Seasonal Decomposition - Window={window_used}', y=1.02)\n",
    "    \n",
    "    # Adjust aesthetics\n",
    "    plt.tight_layout()\n",
    "    \n",
    "    return ax\n",
    "    \n",
    "    \n",
    "def seasonal_decompose_and_plot(ive_df,col='BidClose',freq='H',\n",
    "                          fill_method='ffill',window=144,\n",
    "                         model='multiplicative', two_sided=False,\n",
    "                               plot_components=True):##WIP:\n",
    "    \"\"\"Perform seasonal_decompose from statsmodels.tsa.seasonal.\n",
    "    Plot Output Decomposed Components\"\"\"\n",
    "    import pandas as pd\n",
    "    import numpy as np\n",
    "    from statsmodels.tsa.seasonal import seasonal_decompose\n",
    "\n",
    "\n",
    "    # TS = ive_df['BidClose'].asfreq('BH')\n",
    "    TS = pd.DataFrame(ive_df[col])\n",
    "    TS = TS.asfreq(freq)\n",
    "    TS[TS==0]=np.nan\n",
    "    TS.fillna(method='ffill',inplace=True)\n",
    "\n",
    "    # Perform decomposition\n",
    "    decomposition = seasonal_decompose(np.log(TS),freq=window, model=model, two_sided=two_sided)\n",
    "    \n",
    "    if plot_components==True:\n",
    "        ax = plot_decomposition(TS, decomposition, window_used=window)\n",
    "    \n",
    "    return decomposition\n",
    "\n",
    "\n",
    "\n",
    "def stationarity_check(df, col='BidClose',freq=None, day_window_size='infer',\n",
    "                       days_in_rolling_window=5):\n",
    "    \"\"\"From learn.co lesson: use ADFuller Test for Stationary and Plot\"\"\"\n",
    "    \n",
    "    import matplotlib.pyplot as plt\n",
    "    TS = df[col].copy()\n",
    "    \n",
    "    if freq==None:\n",
    "        freq=df.index.freq\n",
    "        \n",
    "    else:        \n",
    "        TS = TS.asfreq(freq)\n",
    "        TS.fillna(method='ffill',inplace=True)\n",
    "        TS.dropna(inplace=True)\n",
    "    \n",
    "    \n",
    "    # Import adfuller\n",
    "    from statsmodels.tsa.stattools import adfuller\n",
    "    import pandas as pd\n",
    "    import numpy as np\n",
    "    \n",
    "    # Calculate rolling statistics\n",
    "    if day_window_size=='infer':\n",
    "        day_window_size = get_day_window_size_from_freq(TS)\n",
    "        \n",
    "    window = day_window_size*days_in_rolling_window\n",
    "    rolmean = TS.rolling(window = window, center = False).mean()\n",
    "    rolstd = TS.rolling(window = window, center = False).std()\n",
    "    \n",
    "    # Perform the Dickey Fuller Test\n",
    "    dftest = adfuller(TS) # change the passengers column as required \n",
    "    \n",
    "    #Plot rolling statistics:\n",
    "    fig, ax = plt.subplots(nrows=2, ncols=1, figsize=(8,4))\n",
    "    ax[0].set_title('Rolling Mean & Standard Deviation')\n",
    "\n",
    "    ax[0].plot(TS, color='blue',label='Original')\n",
    "    ax[0].plot(rolmean, color='red', label='Rolling Mean',alpha =0.6)\n",
    "    ax[1].plot(rolstd, color='black', label = 'Rolling Std')\n",
    "    ax[0].legend()\n",
    "    ax[1].legend()\n",
    "#     plt.show(block=False)\n",
    "    plt.tight_layout()\n",
    "    \n",
    "    # Print Dickey-Fuller test results\n",
    "    print ('Results of Dickey-Fuller Test:')\n",
    "    print('\\tIf p<.05 then timeseries IS stationary.')\n",
    "\n",
    "    dfoutput = pd.Series(dftest[0:4], index=['Test Statistic','p-value','#Lags Used','Number of Observations Used'])\n",
    "    for key,value in dftest[4].items():\n",
    "        dfoutput['Critical Value (%s)'%key] = value\n",
    "    print (dfoutput)\n",
    "    \n",
    "    return None"
   ]
  },
  {
   "cell_type": "markdown",
   "metadata": {
    "colab_type": "text",
    "id": "HfbLM0yXdU1Q"
   },
   "source": [
    "## DEF DATASET LOADING FUNCTIONS"
   ]
  },
  {
   "cell_type": "code",
   "execution_count": 9,
   "metadata": {
    "colab": {},
    "colab_type": "code",
    "id": "Jt3Guu3KuEq7"
   },
   "outputs": [],
   "source": [
    "##################### DATASET LOADING FUNCTIONS #####################   \n",
    "def load_raw_stock_data_from_txt(filename='IVE_bidask1min.txt', \n",
    "                               folderpath='data/',\n",
    "                               start_index = '2017-01-23',\n",
    "                                 clean=False,fill_method='ffill',\n",
    "                                 freq='CBH',verbose=2):\n",
    "    import pandas as pd\n",
    "    \n",
    "    # Load in the text file and set headers\n",
    "    fullfilename= folderpath+filename\n",
    "    headers = ['Date','Time','BidOpen','BidHigh','BidLow','BidClose','AskOpen','AskHigh','AskLow','AskClose']\n",
    "    stock_df = pd.read_csv(fullfilename, names=headers,parse_dates=True)\n",
    "    \n",
    "    # Create datetime index\n",
    "    date_time_index = stock_df['Date']+' '+stock_df['Time']\n",
    "    date_time_index = pd.to_datetime(date_time_index)\n",
    "    stock_df.index=date_time_index\n",
    "    \n",
    "    # Select only the days after start_index\n",
    "    stock_df = stock_df[start_index:]\n",
    "    \n",
    "    # Remove 0's from BidClose\n",
    "    if clean==True:\n",
    "        \n",
    "        stock_df.loc[stock_df['BidClose']==0] = np.nan\n",
    "        stock_df['BidClose'].fillna(method=fill_method, inplace=True)\n",
    "        \n",
    "        if verbose>0:\n",
    "            print(f\"Number of 0 values:\\n{len(stock_df.loc[stock_df['BidClose']==0])}\")\n",
    "            print(f\"Filling 0 values using method = {fill_method}\")\n",
    "            \n",
    "\n",
    "\n",
    "                  \n",
    "    # call set_timeindex_freq to specify proper frequency\n",
    "    if freq!=None:\n",
    "        # Set the time index .\n",
    "        stock_df = set_timeindex_freq(stock_df, freq=freq, fill_method = fill_method, verbose=verbose)\n",
    "                  \n",
    "    # Display feedback\n",
    "    if verbose>0:\n",
    "        display(stock_df.head())\n",
    "    if verbose>1:\n",
    "        print(stock_df.index)\n",
    "\n",
    "    return stock_df\n",
    "\n",
    "\n",
    "\n",
    "# def load_stock_df_from_csv(filename='ive_sp500_min_data_match_twitter_ts.csv',\n",
    "#                            folderpath='data/',\n",
    "#                           start_index = '2017-01-23', clean=False,freq='CBH',\n",
    "#                            fill_method='ffill',verbose=2):\n",
    "#     import os\n",
    "#     import pandas as pd\n",
    "\n",
    "#     #         check_for_google_drive()\n",
    "        \n",
    "#     # Check if user provided folderpath to append to filename\n",
    "#     if len(folderpath)>0:\n",
    "#         fullfilename = folderpath+filename\n",
    "#     else:\n",
    "#         fullfilename=filename\n",
    "        \n",
    "#     # load in csv by fullfilename\n",
    "#     stock_df = pd.read_csv(fullfilename,index_col=0, parse_dates=True)\n",
    "#     stock_df = stock_df[start_index:]\n",
    "# #     stock_df = set_timeindex_freq(stock_df,['BidClose'],freq=freq, fill_method=fill_method)\n",
    "    \n",
    "#     if clean==True:\n",
    "        \n",
    "#         if verbose>0:\n",
    "#             print(f\"Number of 0 values:\\n{len(stock_df.loc[stock_df['BidClose']==0])}\")\n",
    "#             print(f\"Filling 0 values using method = {fill_method}\")\n",
    "            \n",
    "#         stock_df.loc[stock_df['BidClose']==0] = np.nan\n",
    "#         stock_df['BidClose'].fillna(method=fill_method, inplace=True)\n",
    "        \n",
    "#     if freq!=None:\n",
    "#         # Set the time index .\n",
    "#         stock_df = set_timeindex_freq(stock_df, freq=freq, fill_method = fill_method, verbose=verbose)\n",
    "        \n",
    "\n",
    "#     # Display info depending on verbose level\n",
    "#     if verbose>0:\n",
    "#         display(stock_df.head())\n",
    "    \n",
    "#     if verbose>1:\n",
    "#         print(stock_df.index)\n",
    "        \n",
    "#     return stock_df   "
   ]
  },
  {
   "cell_type": "markdown",
   "metadata": {
    "colab_type": "text",
    "id": "2KxjZKQSOdsV"
   },
   "source": [
    "## CALCULATING TECHNICAL INDICATORS"
   ]
  },
  {
   "cell_type": "code",
   "execution_count": 10,
   "metadata": {
    "colab": {},
    "colab_type": "code",
    "id": "al9rjon-SWFg"
   },
   "outputs": [],
   "source": [
    "def get_technical_indicators(dataset,make_price_from='BidClose'):\n",
    "    \n",
    "\n",
    "    dataset['price'] = dataset[make_price_from].copy()\n",
    "    if dataset.index.freq == custom_BH_freq():\n",
    "        days = get_day_window_size_from_freq(dataset)#,freq='CBH')\n",
    "    else:\n",
    "        days = get_day_window_size_from_freq(dataset)\n",
    "        \n",
    "    # Create 7 and 21 days Moving Average\n",
    "    dataset['ma7'] = dataset['price'].rolling(window=7*days).mean()\n",
    "    dataset['ma21'] = dataset['price'].rolling(window=21*days).mean()\n",
    "    \n",
    "    # Create MACD\n",
    "    dataset['26ema'] = dataset['price'].ewm(span=26*days).mean()\n",
    "#     dataset['12ema'] = pd.ewma(dataset['price'], span=12)\n",
    "    dataset['12ema'] = dataset['price'].ewm(span=12*days).mean()\n",
    "\n",
    "    dataset['MACD'] = (dataset['12ema']-dataset['26ema'])\n",
    "\n",
    "    # Create Bollinger Bands\n",
    "#     dataset['20sd'] = pd.stats.moments.rolling_std(dataset['price'],20)\n",
    "    dataset['20sd'] = dataset['price'].rolling(20*days).std()\n",
    "    dataset['upper_band'] = dataset['ma21'] + (dataset['20sd']*2)\n",
    "    dataset['lower_band'] = dataset['ma21'] - (dataset['20sd']*2)\n",
    "    \n",
    "    # Create Exponential moving average\n",
    "    dataset['ema'] = dataset['price'].ewm(com=0.5).mean()\n",
    "    \n",
    "    # Create Momentum\n",
    "    dataset['momentum'] = dataset['price']-days*1\n",
    "    \n",
    "    return dataset\n"
   ]
  },
  {
   "cell_type": "markdown",
   "metadata": {
    "colab_type": "text",
    "id": "I8bJUtYqaCh_"
   },
   "source": [
    "# LOAD DATASET"
   ]
  },
  {
   "cell_type": "code",
   "execution_count": 11,
   "metadata": {},
   "outputs": [],
   "source": [
    "# pause"
   ]
  },
  {
   "cell_type": "code",
   "execution_count": 12,
   "metadata": {},
   "outputs": [
    {
     "name": "stdout",
     "output_type": "stream",
     "text": [
      "\n",
      "Filled 520# of rows using method ffill\n",
      "No Remaining Null Values\n"
     ]
    },
    {
     "data": {
      "text/html": [
       "<div>\n",
       "<style scoped>\n",
       "    .dataframe tbody tr th:only-of-type {\n",
       "        vertical-align: middle;\n",
       "    }\n",
       "\n",
       "    .dataframe tbody tr th {\n",
       "        vertical-align: top;\n",
       "    }\n",
       "\n",
       "    .dataframe thead th {\n",
       "        text-align: right;\n",
       "    }\n",
       "</style>\n",
       "<table border=\"1\" class=\"dataframe\">\n",
       "  <thead>\n",
       "    <tr style=\"text-align: right;\">\n",
       "      <th></th>\n",
       "      <th>Date</th>\n",
       "      <th>Time</th>\n",
       "      <th>BidOpen</th>\n",
       "      <th>BidHigh</th>\n",
       "      <th>BidLow</th>\n",
       "      <th>BidClose</th>\n",
       "      <th>AskOpen</th>\n",
       "      <th>AskHigh</th>\n",
       "      <th>AskLow</th>\n",
       "      <th>AskClose</th>\n",
       "      <th>filled_timebin</th>\n",
       "    </tr>\n",
       "  </thead>\n",
       "  <tbody>\n",
       "    <tr>\n",
       "      <th>2017-01-23 09:30:00</th>\n",
       "      <td>01/23/2017</td>\n",
       "      <td>09:30</td>\n",
       "      <td>96.15</td>\n",
       "      <td>96.23</td>\n",
       "      <td>96.15</td>\n",
       "      <td>96.23</td>\n",
       "      <td>96.36</td>\n",
       "      <td>96.36</td>\n",
       "      <td>96.30</td>\n",
       "      <td>96.30</td>\n",
       "      <td>False</td>\n",
       "    </tr>\n",
       "    <tr>\n",
       "      <th>2017-01-23 10:30:00</th>\n",
       "      <td>01/23/2017</td>\n",
       "      <td>10:30</td>\n",
       "      <td>95.98</td>\n",
       "      <td>96.00</td>\n",
       "      <td>95.98</td>\n",
       "      <td>96.00</td>\n",
       "      <td>95.99</td>\n",
       "      <td>96.01</td>\n",
       "      <td>95.99</td>\n",
       "      <td>96.01</td>\n",
       "      <td>False</td>\n",
       "    </tr>\n",
       "    <tr>\n",
       "      <th>2017-01-23 11:30:00</th>\n",
       "      <td>01/23/2017</td>\n",
       "      <td>11:30</td>\n",
       "      <td>95.91</td>\n",
       "      <td>95.95</td>\n",
       "      <td>95.91</td>\n",
       "      <td>95.94</td>\n",
       "      <td>95.92</td>\n",
       "      <td>95.96</td>\n",
       "      <td>95.92</td>\n",
       "      <td>95.95</td>\n",
       "      <td>False</td>\n",
       "    </tr>\n",
       "    <tr>\n",
       "      <th>2017-01-23 12:30:00</th>\n",
       "      <td>01/23/2017</td>\n",
       "      <td>12:30</td>\n",
       "      <td>95.84</td>\n",
       "      <td>95.84</td>\n",
       "      <td>95.84</td>\n",
       "      <td>95.84</td>\n",
       "      <td>95.85</td>\n",
       "      <td>95.85</td>\n",
       "      <td>95.85</td>\n",
       "      <td>95.85</td>\n",
       "      <td>False</td>\n",
       "    </tr>\n",
       "    <tr>\n",
       "      <th>2017-01-23 13:30:00</th>\n",
       "      <td>01/23/2017</td>\n",
       "      <td>13:30</td>\n",
       "      <td>95.88</td>\n",
       "      <td>95.88</td>\n",
       "      <td>95.88</td>\n",
       "      <td>95.88</td>\n",
       "      <td>95.89</td>\n",
       "      <td>95.89</td>\n",
       "      <td>95.89</td>\n",
       "      <td>95.89</td>\n",
       "      <td>False</td>\n",
       "    </tr>\n",
       "  </tbody>\n",
       "</table>\n",
       "</div>"
      ],
      "text/plain": [
       "                           Date   Time  BidOpen  BidHigh  BidLow  BidClose  \\\n",
       "2017-01-23 09:30:00  01/23/2017  09:30    96.15    96.23   96.15     96.23   \n",
       "2017-01-23 10:30:00  01/23/2017  10:30    95.98    96.00   95.98     96.00   \n",
       "2017-01-23 11:30:00  01/23/2017  11:30    95.91    95.95   95.91     95.94   \n",
       "2017-01-23 12:30:00  01/23/2017  12:30    95.84    95.84   95.84     95.84   \n",
       "2017-01-23 13:30:00  01/23/2017  13:30    95.88    95.88   95.88     95.88   \n",
       "\n",
       "                     AskOpen  AskHigh  AskLow  AskClose  filled_timebin  \n",
       "2017-01-23 09:30:00    96.36    96.36   96.30     96.30           False  \n",
       "2017-01-23 10:30:00    95.99    96.01   95.99     96.01           False  \n",
       "2017-01-23 11:30:00    95.92    95.96   95.92     95.95           False  \n",
       "2017-01-23 12:30:00    95.85    95.85   95.85     95.85           False  \n",
       "2017-01-23 13:30:00    95.89    95.89   95.89     95.89           False  "
      ]
     },
     "metadata": {},
     "output_type": "display_data"
    },
    {
     "data": {
      "image/png": "[encoded data removed]",
      "text/plain": [
       "<Figure size 864x288 with 1 Axes>"
      ]
     },
     "metadata": {
      "needs_background": "light"
     },
     "output_type": "display_data"
    }
   ],
   "source": [
    "stock_df = load_raw_stock_data_from_txt(verbose=1)\n",
    "plot_time_series(stock_df['BidClose'])"
   ]
  },
  {
   "cell_type": "code",
   "execution_count": 13,
   "metadata": {},
   "outputs": [
    {
     "data": {
      "text/html": [
       "<div>\n",
       "<style scoped>\n",
       "    .dataframe tbody tr th:only-of-type {\n",
       "        vertical-align: middle;\n",
       "    }\n",
       "\n",
       "    .dataframe tbody tr th {\n",
       "        vertical-align: top;\n",
       "    }\n",
       "\n",
       "    .dataframe thead th {\n",
       "        text-align: right;\n",
       "    }\n",
       "</style>\n",
       "<table border=\"1\" class=\"dataframe\">\n",
       "  <thead>\n",
       "    <tr style=\"text-align: right;\">\n",
       "      <th></th>\n",
       "      <th>Date</th>\n",
       "      <th>Time</th>\n",
       "      <th>BidOpen</th>\n",
       "      <th>BidHigh</th>\n",
       "      <th>BidLow</th>\n",
       "      <th>BidClose</th>\n",
       "      <th>AskOpen</th>\n",
       "      <th>AskHigh</th>\n",
       "      <th>AskLow</th>\n",
       "      <th>AskClose</th>\n",
       "      <th>...</th>\n",
       "      <th>ma7</th>\n",
       "      <th>ma21</th>\n",
       "      <th>26ema</th>\n",
       "      <th>12ema</th>\n",
       "      <th>MACD</th>\n",
       "      <th>20sd</th>\n",
       "      <th>upper_band</th>\n",
       "      <th>lower_band</th>\n",
       "      <th>ema</th>\n",
       "      <th>momentum</th>\n",
       "    </tr>\n",
       "  </thead>\n",
       "  <tbody>\n",
       "    <tr>\n",
       "      <th>2017-01-23 09:30:00</th>\n",
       "      <td>01/23/2017</td>\n",
       "      <td>09:30</td>\n",
       "      <td>96.15</td>\n",
       "      <td>96.23</td>\n",
       "      <td>96.15</td>\n",
       "      <td>96.23</td>\n",
       "      <td>96.36</td>\n",
       "      <td>96.36</td>\n",
       "      <td>96.30</td>\n",
       "      <td>96.30</td>\n",
       "      <td>...</td>\n",
       "      <td>NaN</td>\n",
       "      <td>NaN</td>\n",
       "      <td>96.230000</td>\n",
       "      <td>96.230000</td>\n",
       "      <td>0.000000</td>\n",
       "      <td>NaN</td>\n",
       "      <td>NaN</td>\n",
       "      <td>NaN</td>\n",
       "      <td>96.230000</td>\n",
       "      <td>89.23</td>\n",
       "    </tr>\n",
       "    <tr>\n",
       "      <th>2017-01-23 10:30:00</th>\n",
       "      <td>01/23/2017</td>\n",
       "      <td>10:30</td>\n",
       "      <td>95.98</td>\n",
       "      <td>96.00</td>\n",
       "      <td>95.98</td>\n",
       "      <td>96.00</td>\n",
       "      <td>95.99</td>\n",
       "      <td>96.01</td>\n",
       "      <td>95.99</td>\n",
       "      <td>96.01</td>\n",
       "      <td>...</td>\n",
       "      <td>NaN</td>\n",
       "      <td>NaN</td>\n",
       "      <td>96.114368</td>\n",
       "      <td>96.113631</td>\n",
       "      <td>-0.000737</td>\n",
       "      <td>NaN</td>\n",
       "      <td>NaN</td>\n",
       "      <td>NaN</td>\n",
       "      <td>96.057500</td>\n",
       "      <td>89.00</td>\n",
       "    </tr>\n",
       "    <tr>\n",
       "      <th>2017-01-23 11:30:00</th>\n",
       "      <td>01/23/2017</td>\n",
       "      <td>11:30</td>\n",
       "      <td>95.91</td>\n",
       "      <td>95.95</td>\n",
       "      <td>95.91</td>\n",
       "      <td>95.94</td>\n",
       "      <td>95.92</td>\n",
       "      <td>95.96</td>\n",
       "      <td>95.92</td>\n",
       "      <td>95.95</td>\n",
       "      <td>...</td>\n",
       "      <td>NaN</td>\n",
       "      <td>NaN</td>\n",
       "      <td>96.055606</td>\n",
       "      <td>96.054371</td>\n",
       "      <td>-0.001235</td>\n",
       "      <td>NaN</td>\n",
       "      <td>NaN</td>\n",
       "      <td>NaN</td>\n",
       "      <td>95.976154</td>\n",
       "      <td>88.94</td>\n",
       "    </tr>\n",
       "    <tr>\n",
       "      <th>2017-01-23 12:30:00</th>\n",
       "      <td>01/23/2017</td>\n",
       "      <td>12:30</td>\n",
       "      <td>95.84</td>\n",
       "      <td>95.84</td>\n",
       "      <td>95.84</td>\n",
       "      <td>95.84</td>\n",
       "      <td>95.85</td>\n",
       "      <td>95.85</td>\n",
       "      <td>95.85</td>\n",
       "      <td>95.85</td>\n",
       "      <td>...</td>\n",
       "      <td>NaN</td>\n",
       "      <td>NaN</td>\n",
       "      <td>96.000812</td>\n",
       "      <td>95.998849</td>\n",
       "      <td>-0.001964</td>\n",
       "      <td>NaN</td>\n",
       "      <td>NaN</td>\n",
       "      <td>NaN</td>\n",
       "      <td>95.884250</td>\n",
       "      <td>88.84</td>\n",
       "    </tr>\n",
       "    <tr>\n",
       "      <th>2017-01-23 13:30:00</th>\n",
       "      <td>01/23/2017</td>\n",
       "      <td>13:30</td>\n",
       "      <td>95.88</td>\n",
       "      <td>95.88</td>\n",
       "      <td>95.88</td>\n",
       "      <td>95.88</td>\n",
       "      <td>95.89</td>\n",
       "      <td>95.89</td>\n",
       "      <td>95.89</td>\n",
       "      <td>95.89</td>\n",
       "      <td>...</td>\n",
       "      <td>NaN</td>\n",
       "      <td>NaN</td>\n",
       "      <td>95.976116</td>\n",
       "      <td>95.973934</td>\n",
       "      <td>-0.002182</td>\n",
       "      <td>NaN</td>\n",
       "      <td>NaN</td>\n",
       "      <td>NaN</td>\n",
       "      <td>95.881405</td>\n",
       "      <td>88.88</td>\n",
       "    </tr>\n",
       "  </tbody>\n",
       "</table>\n",
       "<p>5 rows × 22 columns</p>\n",
       "</div>"
      ],
      "text/plain": [
       "                           Date   Time  BidOpen  BidHigh  BidLow  BidClose  \\\n",
       "2017-01-23 09:30:00  01/23/2017  09:30    96.15    96.23   96.15     96.23   \n",
       "2017-01-23 10:30:00  01/23/2017  10:30    95.98    96.00   95.98     96.00   \n",
       "2017-01-23 11:30:00  01/23/2017  11:30    95.91    95.95   95.91     95.94   \n",
       "2017-01-23 12:30:00  01/23/2017  12:30    95.84    95.84   95.84     95.84   \n",
       "2017-01-23 13:30:00  01/23/2017  13:30    95.88    95.88   95.88     95.88   \n",
       "\n",
       "                     AskOpen  AskHigh  AskLow  AskClose  ...  ma7  ma21  \\\n",
       "2017-01-23 09:30:00    96.36    96.36   96.30     96.30  ...  NaN   NaN   \n",
       "2017-01-23 10:30:00    95.99    96.01   95.99     96.01  ...  NaN   NaN   \n",
       "2017-01-23 11:30:00    95.92    95.96   95.92     95.95  ...  NaN   NaN   \n",
       "2017-01-23 12:30:00    95.85    95.85   95.85     95.85  ...  NaN   NaN   \n",
       "2017-01-23 13:30:00    95.89    95.89   95.89     95.89  ...  NaN   NaN   \n",
       "\n",
       "                         26ema      12ema      MACD  20sd  upper_band  \\\n",
       "2017-01-23 09:30:00  96.230000  96.230000  0.000000   NaN         NaN   \n",
       "2017-01-23 10:30:00  96.114368  96.113631 -0.000737   NaN         NaN   \n",
       "2017-01-23 11:30:00  96.055606  96.054371 -0.001235   NaN         NaN   \n",
       "2017-01-23 12:30:00  96.000812  95.998849 -0.001964   NaN         NaN   \n",
       "2017-01-23 13:30:00  95.976116  95.973934 -0.002182   NaN         NaN   \n",
       "\n",
       "                     lower_band        ema  momentum  \n",
       "2017-01-23 09:30:00         NaN  96.230000     89.23  \n",
       "2017-01-23 10:30:00         NaN  96.057500     89.00  \n",
       "2017-01-23 11:30:00         NaN  95.976154     88.94  \n",
       "2017-01-23 12:30:00         NaN  95.884250     88.84  \n",
       "2017-01-23 13:30:00         NaN  95.881405     88.88  \n",
       "\n",
       "[5 rows x 22 columns]"
      ]
     },
     "execution_count": 13,
     "metadata": {},
     "output_type": "execute_result"
    }
   ],
   "source": [
    "stock_df = get_technical_indicators(stock_df)\n",
    "stock_df.head()"
   ]
  },
  {
   "cell_type": "code",
   "execution_count": 14,
   "metadata": {},
   "outputs": [
    {
     "name": "stdout",
     "output_type": "stream",
     "text": [
      "DatetimeIndex(['2017-02-20 15:30:00', '2017-02-21 09:30:00',\n",
      "               '2017-02-21 10:30:00', '2017-02-21 11:30:00',\n",
      "               '2017-02-21 12:30:00', '2017-02-21 13:30:00',\n",
      "               '2017-02-21 14:30:00', '2017-02-21 15:30:00',\n",
      "               '2017-02-22 09:30:00', '2017-02-22 10:30:00',\n",
      "               ...\n",
      "               '2019-06-20 13:30:00', '2019-06-20 14:30:00',\n",
      "               '2019-06-20 15:30:00', '2019-06-21 09:30:00',\n",
      "               '2019-06-21 10:30:00', '2019-06-21 11:30:00',\n",
      "               '2019-06-21 12:30:00', '2019-06-21 13:30:00',\n",
      "               '2019-06-21 14:30:00', '2019-06-21 15:30:00'],\n",
      "              dtype='datetime64[ns]', length=4264, freq='CBH')\n"
     ]
    },
    {
     "data": {
      "text/plain": [
       "Series([], dtype: int64)"
      ]
     },
     "execution_count": 14,
     "metadata": {},
     "output_type": "execute_result"
    }
   ],
   "source": [
    "# Remove timepoints without enough time periods for all indicators\n",
    "na_idx = stock_df.loc[stock_df['upper_band'].isna() == True].index\n",
    "stock_df = stock_df.loc[na_idx[-1]+1*na_idx.freq:]\n",
    "\n",
    "\n",
    "print(stock_df.index)\n",
    "\n",
    "# Check for null values\n",
    "res = stock_df.isna().sum()\n",
    "res[res>0]"
   ]
  },
  {
   "cell_type": "code",
   "execution_count": 15,
   "metadata": {},
   "outputs": [],
   "source": [
    "save=False\n",
    "if save==True:\n",
    "    stock_df.to_csv('data/stock_df_with_tech_indicators.csv')"
   ]
  },
  {
   "cell_type": "code",
   "execution_count": 16,
   "metadata": {
    "colab": {
     "base_uri": "https://localhost:8080/",
     "height": 673
    },
    "colab_type": "code",
    "id": "ShSNcABizv4j",
    "outputId": "f6d0e745-6db5-4f53-b8e6-52adbeda9faf"
   },
   "outputs": [],
   "source": [
    "# # LOAD IN DATASET\n",
    "# ive_df = load_stock_df_from_csv(freq='CBH',verbose=0)\n",
    "# print(ive_df.index)\n",
    "\n",
    "# # ive_df=ive_df['2019':]\n",
    "# # display(ive_df.head())\n",
    "# plot_time_series(ive_df.filter(regex='Bid'))"
   ]
  },
  {
   "cell_type": "code",
   "execution_count": 17,
   "metadata": {
    "colab": {
     "base_uri": "https://localhost:8080/",
     "height": 235
    },
    "colab_type": "code",
    "id": "GpyXxzsbhT-J",
    "outputId": "66e741fb-355d-4046-dd59-8af1fc87853b"
   },
   "outputs": [],
   "source": [
    "# # # Calculate technical indicators \n",
    "# # stock_df = get_technical_indicators(ive_df)\n",
    "\n",
    "# # Remove timepoints without enough time periods for all indicators\n",
    "# na_idx = stock_df.loc[stock_df['upper_band'].isna() == True].index\n",
    "# stock_df = stock_df.loc[na_idx[-1]+1*na_idx.freq:]\n",
    "\n",
    "# print(stock_df.index)\n",
    "\n",
    "# # Check for null values\n",
    "# res = stock_df.isna().sum()\n",
    "# res[res>0]"
   ]
  },
  {
   "cell_type": "code",
   "execution_count": 18,
   "metadata": {
    "colab": {
     "base_uri": "https://localhost:8080/",
     "height": 491
    },
    "colab_type": "code",
    "id": "hdp5MwIrSnnn",
    "outputId": "e54172ff-dc34-447b-d766-7990cb35f2bf",
    "scrolled": false
   },
   "outputs": [
    {
     "data": {
      "image/png": "[encoded data removed]",
      "text/plain": [
       "<Figure size 1000x600 with 1 Axes>"
      ]
     },
     "metadata": {
      "needs_background": "light"
     },
     "output_type": "display_data"
    }
   ],
   "source": [
    "def plot_technical_indicators(dataset, last_days=90):\n",
    "    \n",
    "\n",
    "#     dataset.dropna(inplace=True)        \n",
    "    days = get_day_window_size_from_freq(dataset)\n",
    "    \n",
    "    fig, ax = plt.subplots(nrows=2, ncols=1,figsize=(10, 6), dpi=100)\n",
    "#     shape_0 = dataset.shape[0]\n",
    "#     xmacd_ = shape_0-(days*last_days)\n",
    "    \n",
    "    dataset = dataset.iloc[-(days*last_days):, :]\n",
    "    x_ = range(3, dataset.shape[0])\n",
    "    x_ =list(dataset.index)\n",
    "    \n",
    "    # Plot first subplot\n",
    "    ax[0].plot(dataset['ma7'],label='MA 7', color='g',linestyle='--')\n",
    "    ax[0].plot(dataset['price'],label='Closing Price', color='b')\n",
    "    ax[0].plot(dataset['ma21'],label='MA 21', color='r',linestyle='--')\n",
    "    ax[0].plot(dataset['upper_band'],label='Upper Band', color='c')\n",
    "    ax[0].plot(dataset['lower_band'],label='Lower Band', color='c')\n",
    "    ax[0].fill_between(x_, dataset['lower_band'], dataset['upper_band'], alpha=0.35)\n",
    "    ax[0].set_title('Technical indicators for Goldman Sachs - last {} days.'.format(last_days))\n",
    "    ax[0].set_ylabel('USD')\n",
    "    ax[0].legend()\n",
    "\n",
    "#     shape_0 = dataset.shape[0]\n",
    "#     xmacd_ = shape_0-(days*last_days)\n",
    "#     # Plot second subplot\n",
    "#     ax[1].set_title('MACD')\n",
    "#     ax[1].plot(dataset['MACD'],label='MACD', linestyle='-.')\n",
    "#     ax[1].hlines(15, xmacd_, shape_0, colors='g', linestyles='--')\n",
    "#     ax[1].hlines(-15, xmacd_, shape_0, colors='g', linestyles='--')\n",
    "#     ax[1].plot(dataset['momentum'],label='Momentum', color='b',linestyle='-')\n",
    "\n",
    "#     ax[1].legend()\n",
    "    plt.delaxes(ax[1])\n",
    "    plt.show()\n",
    "    \n",
    "plot_technical_indicators(stock_df)#.filter(regex='Bid'))  \n"
   ]
  },
  {
   "cell_type": "markdown",
   "metadata": {
    "colab_type": "text",
    "id": "eE3D-Avztybj"
   },
   "source": [
    "## Checking for Stationarity and Trends"
   ]
  },
  {
   "cell_type": "code",
   "execution_count": 19,
   "metadata": {
    "colab": {
     "base_uri": "https://localhost:8080/",
     "height": 465
    },
    "colab_type": "code",
    "id": "mVw0kD3VpbiD",
    "outputId": "4301830b-220e-4829-952a-fdbec70bbfd0"
   },
   "outputs": [
    {
     "name": "stdout",
     "output_type": "stream",
     "text": [
      "Results of Dickey-Fuller Test:\n",
      "\tIf p<.05 then timeseries IS stationary.\n",
      "Test Statistic                   -1.689761\n",
      "p-value                           0.436395\n",
      "#Lags Used                        0.000000\n",
      "Number of Observations Used    4263.000000\n",
      "Critical Value (1%)              -3.431885\n",
      "Critical Value (5%)              -2.862218\n",
      "Critical Value (10%)             -2.567131\n",
      "dtype: float64\n"
     ]
    },
    {
     "data": {
      "image/png": "[encoded data removed]",
      "text/plain": [
       "<Figure size 576x288 with 2 Axes>"
      ]
     },
     "metadata": {
      "needs_background": "light"
     },
     "output_type": "display_data"
    }
   ],
   "source": [
    "# Check if stationary\n",
    "stationarity_check(stock_df, freq=custom_BH_freq())\n",
    "# pause"
   ]
  },
  {
   "cell_type": "code",
   "execution_count": 20,
   "metadata": {
    "code_folding": [
     0
    ]
   },
   "outputs": [],
   "source": [
    "# UDEMY COURSE ALTERNATIVE TO STATIONARITY CHECK\n",
    "def adf_test(series,title=''):\n",
    "    \"\"\"\n",
    "    Pass in a time series and an optional title, returns an ADF report\n",
    "    \"\"\"\n",
    "    from statsmodels.tsa.stattools import adfuller\n",
    "    import pandas as pd \n",
    "    print(f'Augmented Dickey-Fuller Test: {title}')\n",
    "    result = adfuller(series.dropna(),autolag='AIC') # .dropna() handles differenced data\n",
    "    \n",
    "    labels = ['ADF test statistic','p-value','# lags used','# observations']\n",
    "    out = pd.Series(result[0:4],index=labels)\n",
    "\n",
    "    for key,val in result[4].items():\n",
    "        out[f'critical value ({key})']=val\n",
    "        \n",
    "    print(out.to_string())          # .to_string() removes the line \"dtype: float64\"\n",
    "    \n",
    "    if result[1] <= 0.05:\n",
    "        print(\"Strong evidence against the null hypothesis\")\n",
    "        print(\"Reject the null hypothesis\")\n",
    "        print(\"Data has no unit root and is stationary\")\n",
    "    else:\n",
    "        print(\"Weak evidence against the null hypothesis\")\n",
    "        print(\"Fail to reject the null hypothesis\")\n",
    "        print(\"Data has a unit root and is non-stationary\")"
   ]
  },
  {
   "cell_type": "code",
   "execution_count": 21,
   "metadata": {},
   "outputs": [
    {
     "name": "stdout",
     "output_type": "stream",
     "text": [
      "Augmented Dickey-Fuller Test: Price\n",
      "ADF test statistic        -1.689761\n",
      "p-value                    0.436395\n",
      "# lags used                0.000000\n",
      "# observations          4263.000000\n",
      "critical value (1%)       -3.431885\n",
      "critical value (5%)       -2.862218\n",
      "critical value (10%)      -2.567131\n",
      "Weak evidence against the null hypothesis\n",
      "Fail to reject the null hypothesis\n",
      "Data has a unit root and is non-stationary\n"
     ]
    }
   ],
   "source": [
    "adf_test(stock_df['price'], title='Price')"
   ]
  },
  {
   "cell_type": "code",
   "execution_count": 22,
   "metadata": {
    "code_folding": [
     0
    ]
   },
   "outputs": [
    {
     "data": {
      "image/png": "[encoded data removed]",
      "text/plain": [
       "<Figure size 720x432 with 4 Axes>"
      ]
     },
     "metadata": {
      "needs_background": "light"
     },
     "output_type": "display_data"
    }
   ],
   "source": [
    "# Adding a seasonal decomposition\n",
    "from statsmodels.tsa.seasonal import seasonal_decompose\n",
    "result = seasonal_decompose(stock_df['price'], freq=35)#, freq=custom_BH_freq())\n",
    "\n",
    "mpl.rcParams['figure.figsize'] = (10,6)\n",
    "result.plot();"
   ]
  },
  {
   "cell_type": "code",
   "execution_count": 23,
   "metadata": {},
   "outputs": [],
   "source": [
    "# fig = result.seasonal.plot()\n",
    "# curr_lim = plt.xlim()\n",
    "# plt.xlim(curr_lim[0],curr_lim[1]*.75)"
   ]
  },
  {
   "cell_type": "code",
   "execution_count": 24,
   "metadata": {
    "scrolled": false
   },
   "outputs": [
    {
     "data": {
      "image/png": "[encoded data removed]",
      "text/plain": [
       "<Figure size 720x432 with 3 Axes>"
      ]
     },
     "metadata": {
      "needs_background": "light"
     },
     "output_type": "display_data"
    }
   ],
   "source": [
    "from statsmodels.graphics.tsaplots import plot_acf,plot_pacf\n",
    "test_df = stock_df['price']\n",
    "\n",
    "fig,ax = plt.subplots(nrows=3,ncols=1,figsize=(10,6))\n",
    "\n",
    "test_df.plot(ax=ax[0])\n",
    "# df2.plot(ax=ax[0,1])\n",
    "\n",
    "num_lags = 70\n",
    "plot_acf(test_df,ax=ax[1] , lags=num_lags);\n",
    "# plot_acf(df2,ax=ax[1,1],lags=40);\n",
    "\n",
    "plot_pacf(test_df,ax=ax[2],lags=num_lags);\n",
    "# plot_pacf(df2,ax=ax[2,1],lags=40);\n",
    "\n",
    "plt.tight_layout()"
   ]
  },
  {
   "cell_type": "markdown",
   "metadata": {},
   "source": [
    "### Trying Pyramind ARIMA"
   ]
  },
  {
   "cell_type": "markdown",
   "metadata": {},
   "source": [
    "## **Using `pmdarima` to grid search for best ARIMA model type and orders**\n",
    "\n",
    "- Using `auto_arima` from `pmdarima`\n",
    "\n",
    "- SARIMA involves multiple sets of hyperparameters:\n",
    "    - For base model: a set of p,d,q parameters\n",
    "    - For seasonal model:a set of P,D,Q for the seasonal components.\n",
    "    - m = the number of time periods to include in the season \n",
    "    \n",
    "- Set start and max values for each parameter\n",
    "    - i.e. `start_p=0, max_p = 10`\n",
    "- For seasonal data, setting `m` indicates how many periods should be considered part of the season.\n",
    "\n",
    "\n",
    "- **Below is from [\"Predicitng the Sotck Market Using Machine Learning and Deep Learning.\"](https://www.analyticsvidhya.com/blog/2018/10/predicting-stock-price-machine-learningnd-deep-learning-techniques-python/):**\n",
    "> Below are the steps you should follow for implementing auto ARIMA:\n",
    "    1. Load the data: This step will be the same. Load the data into your notebook\n",
    "    2. Preprocessing data: The input should be univariate, hence drop the other columns\n",
    "    3. Fit Auto ARIMA: Fit the model on the univariate series\n",
    "    4. Predict values on validation set: Make predictions on the validation set\n",
    "    5. Calculate RMSE: Check the performance of the model using the predicted values against the actual values"
   ]
  },
  {
   "cell_type": "code",
   "execution_count": 25,
   "metadata": {},
   "outputs": [],
   "source": [
    "import warnings\n",
    "warnings.filterwarnings('ignore')"
   ]
  },
  {
   "cell_type": "code",
   "execution_count": 26,
   "metadata": {},
   "outputs": [],
   "source": [
    "# stock_df = stock_df.asfreq('B')"
   ]
  },
  {
   "cell_type": "code",
   "execution_count": 113,
   "metadata": {},
   "outputs": [
    {
     "name": "stdout",
     "output_type": "stream",
     "text": [
      "Dates for Train Data:2018-10-12 15:30:00 : 2019-02-15 15:30:00.\n",
      "Dates for Test Data:2019-02-15 15:30:00 : 2019-06-21 15:30:00.\n",
      "Data split on index:2019-02-15 15:30:00.\n",
      "train_data.shape:(631, 22)\n",
      "test_data.shape:(631, 22)\n"
     ]
    },
    {
     "data": {
      "image/png": "[encoded data removed]",
      "text/plain": [
       "<Figure size 720x432 with 1 Axes>"
      ]
     },
     "metadata": {
      "needs_background": "light"
     },
     "output_type": "display_data"
    }
   ],
   "source": [
    "def train_test_split_by_last_days(stock_df, periods_per_day=7,num_test_days = 90, num_train_days=180, plot=True):\n",
    "    \"\"\"Takes the last num_test_days of the time index to use as testing data, and take shte num_Trian_days prior to that date\n",
    "    as the training data.\"\"\"\n",
    "    # DETERMINING DAY TO USE TO SPLIT DATA INTO TRAIN AND TEST\n",
    "    day_freq = periods_per_day\n",
    "    start_train_day = stock_df.index[-1] - num_train_days*day_freq\n",
    "    last_day = stock_df.index[-1] - num_test_days*day_freq\n",
    "    print(f'Dates for Train Data:{start_train_day} : {last_day}.')\n",
    "    print(f'Dates for Test Data:{last_day} : {stock_df.index[-1]}.')\n",
    "    train_data = stock_df.loc[start_train_day:last_day]#,'price']\n",
    "    test_data = stock_df.loc[last_day:]#,'price']\n",
    "    print(f'Data split on index:{last_day}.')\n",
    "    print(f'train_data.shape:{train_data.shape}')\n",
    "    print(f'test_data.shape:{test_data.shape}')\n",
    "\n",
    "\n",
    "    if plot==True:\n",
    "        train_data['price'].plot(label='Training')\n",
    "        test_data['price'].plot(label='Test')\n",
    "        plt.title('Training and Test Data for S&P500')\n",
    "        plt.ylabel('Price')\n",
    "        plt.xlabel('Trading Date/Hour')\n",
    "        plt.legend();\n",
    "    \n",
    "    return train_data, test_data\n",
    "\n",
    "train_data, test_data = train_test_split_by_last_days(stock_df)"
   ]
  },
  {
   "cell_type": "code",
   "execution_count": 28,
   "metadata": {
    "code_folding": [
     0
    ],
    "scrolled": false
   },
   "outputs": [],
   "source": [
    "# # DETERMINING DAY TO USE TO SPLIT DATA INTO TRAIN AND TEST\n",
    "# day_freq = 7\n",
    "# start_train_day = stock_df.index[-1] - 180*day_freq\n",
    "# last_day = stock_df.index[-1] - 90*day_freq\n",
    "# print(f'Data split on index:{last_day}.')\n",
    "\n",
    "\n",
    "# train_data = stock_df.loc[start_train_day:last_day]#,'price']\n",
    "# test_data = stock_df.loc[last_day:]#,'price']\n",
    "\n",
    "# train_data['price'].plot(label='Training')\n",
    "# test_data['price'].plot(label='Test')\n",
    "# plt.title('Training and Test Data for S&P500')\n",
    "# plt.ylabel('Price')\n",
    "# plt.xlabel('Trading Date/Hour')\n",
    "# plt.legend();"
   ]
  },
  {
   "cell_type": "code",
   "execution_count": 29,
   "metadata": {
    "scrolled": false
   },
   "outputs": [],
   "source": [
    "skip=True\n",
    "if skip==False:\n",
    "    from pmdarima.arima import auto_arima\n",
    "\n",
    "    model = auto_arima(train_data['price'], start_p=1, start_q=1, D=1, max_p=4,max_q=4,trace=True,seasonal=True,m=35)\n",
    "    model.summary()"
   ]
  },
  {
   "cell_type": "markdown",
   "metadata": {},
   "source": [
    "___\n",
    "**Results of the Auto-Arima searching with training data set:**\n",
    "- Training Set= all data less the last 90 days:\n",
    "\n",
    "`Model:\t\tSARIMAX(0, 1, 0)x(1, 0, 1, 35)\t`\n",
    "- So what is this really saying?\n",
    "    - p,d,q = (0,1,0)\n",
    "        - AR (p) = 0\n",
    "        - Difference=1\n",
    "        - MA order(q)=0 \n",
    "        \n",
    "    - P,D,Q,m = (1,0,1,35)\n",
    "        - Seasonal AR(P) = 1\n",
    "        - Seasonal Differencing =0\n",
    "        - Seasonal MA(Q)\n",
    "        - Steps per season (m) = 35 (set by user)\n",
    "\n",
    "`statsmodels` version of SARIMA called SARIMAX adds an eXogenous variable to the regression.\n",
    "- Read this: https://www.analyticsvidhya.com/blog/2018/08/auto-arima-time-series-modeling-python-r/\n",
    "\n",
    "\n",
    "- WHEN I SWITCH TO DAILY DATA:\n",
    "`Model:\tSARIMAX(1, 1, 1)x(1, 0, 1, 5)`\n",
    "\n",
    "#### First try a SARIMA model before SARIMAX\n",
    "\n",
    "-"
   ]
  },
  {
   "cell_type": "code",
   "execution_count": 30,
   "metadata": {},
   "outputs": [],
   "source": [
    "# from statsmodels.tsa.arima_model import ARIMA\n",
    "# model = ARIMA(train_data['price'], order=(1,1,1),freq='B')\n",
    "# results = model.fit()\n",
    "# results.summary()"
   ]
  },
  {
   "cell_type": "code",
   "execution_count": 31,
   "metadata": {},
   "outputs": [],
   "source": [
    "# # evaluate model\n",
    "# start = len(train_data)\n",
    "# end = len(train_data) + len(test_data) - 1\n",
    "# predictions = results.predict(start=start,end=end).rename('ARIMA Model')\n",
    "\n",
    "# train_data['price'].iloc[-120*day_freq:].plot()\n",
    "# test_data['price'].plot()\n",
    "# predictions.plot()"
   ]
  },
  {
   "cell_type": "code",
   "execution_count": 32,
   "metadata": {},
   "outputs": [
    {
     "data": {
      "text/html": [
       "<table class=\"simpletable\">\n",
       "<caption>Statespace Model Results</caption>\n",
       "<tr>\n",
       "  <th>Dep. Variable:</th>                <td>price</td>             <th>  No. Observations:  </th>    <td>631</td>  \n",
       "</tr>\n",
       "<tr>\n",
       "  <th>Model:</th>           <td>SARIMAX(1, 1, 0)x(0, 1, 1, 35)</td> <th>  Log Likelihood     </th> <td>-393.024</td>\n",
       "</tr>\n",
       "<tr>\n",
       "  <th>Date:</th>                   <td>Mon, 01 Jul 2019</td>        <th>  AIC                </th>  <td>792.049</td>\n",
       "</tr>\n",
       "<tr>\n",
       "  <th>Time:</th>                       <td>18:46:14</td>            <th>  BIC                </th>  <td>805.215</td>\n",
       "</tr>\n",
       "<tr>\n",
       "  <th>Sample:</th>                    <td>10-12-2018</td>           <th>  HQIC               </th>  <td>797.176</td>\n",
       "</tr>\n",
       "<tr>\n",
       "  <th></th>                          <td>- 02-15-2019</td>          <th>                     </th>     <td> </td>   \n",
       "</tr>\n",
       "<tr>\n",
       "  <th>Covariance Type:</th>               <td>opg</td>              <th>                     </th>     <td> </td>   \n",
       "</tr>\n",
       "</table>\n",
       "<table class=\"simpletable\">\n",
       "<tr>\n",
       "      <td></td>        <th>coef</th>     <th>std err</th>      <th>z</th>      <th>P>|z|</th>  <th>[0.025</th>    <th>0.975]</th>  \n",
       "</tr>\n",
       "<tr>\n",
       "  <th>ar.L1</th>    <td>    0.0348</td> <td>    0.029</td> <td>    1.205</td> <td> 0.228</td> <td>   -0.022</td> <td>    0.091</td>\n",
       "</tr>\n",
       "<tr>\n",
       "  <th>ma.S.L35</th> <td>   -0.9999</td> <td>   61.734</td> <td>   -0.016</td> <td> 0.987</td> <td> -121.997</td> <td>  119.997</td>\n",
       "</tr>\n",
       "<tr>\n",
       "  <th>sigma2</th>   <td>    0.1851</td> <td>   11.424</td> <td>    0.016</td> <td> 0.987</td> <td>  -22.206</td> <td>   22.577</td>\n",
       "</tr>\n",
       "</table>\n",
       "<table class=\"simpletable\">\n",
       "<tr>\n",
       "  <th>Ljung-Box (Q):</th>          <td>53.93</td> <th>  Jarque-Bera (JB):  </th> <td>122.65</td>\n",
       "</tr>\n",
       "<tr>\n",
       "  <th>Prob(Q):</th>                <td>0.07</td>  <th>  Prob(JB):          </th>  <td>0.00</td> \n",
       "</tr>\n",
       "<tr>\n",
       "  <th>Heteroskedasticity (H):</th> <td>0.50</td>  <th>  Skew:              </th>  <td>0.07</td> \n",
       "</tr>\n",
       "<tr>\n",
       "  <th>Prob(H) (two-sided):</th>    <td>0.00</td>  <th>  Kurtosis:          </th>  <td>5.22</td> \n",
       "</tr>\n",
       "</table><br/><br/>Warnings:<br/>[1] Covariance matrix calculated using the outer product of gradients (complex-step)."
      ],
      "text/plain": [
       "<class 'statsmodels.iolib.summary.Summary'>\n",
       "\"\"\"\n",
       "                                 Statespace Model Results                                 \n",
       "==========================================================================================\n",
       "Dep. Variable:                              price   No. Observations:                  631\n",
       "Model:             SARIMAX(1, 1, 0)x(0, 1, 1, 35)   Log Likelihood                -393.024\n",
       "Date:                            Mon, 01 Jul 2019   AIC                            792.049\n",
       "Time:                                    18:46:14   BIC                            805.215\n",
       "Sample:                                10-12-2018   HQIC                           797.176\n",
       "                                     - 02-15-2019                                         \n",
       "Covariance Type:                              opg                                         \n",
       "==============================================================================\n",
       "                 coef    std err          z      P>|z|      [0.025      0.975]\n",
       "------------------------------------------------------------------------------\n",
       "ar.L1          0.0348      0.029      1.205      0.228      -0.022       0.091\n",
       "ma.S.L35      -0.9999     61.734     -0.016      0.987    -121.997     119.997\n",
       "sigma2         0.1851     11.424      0.016      0.987     -22.206      22.577\n",
       "===================================================================================\n",
       "Ljung-Box (Q):                       53.93   Jarque-Bera (JB):               122.65\n",
       "Prob(Q):                              0.07   Prob(JB):                         0.00\n",
       "Heteroskedasticity (H):               0.50   Skew:                             0.07\n",
       "Prob(H) (two-sided):                  0.00   Kurtosis:                         5.22\n",
       "===================================================================================\n",
       "\n",
       "Warnings:\n",
       "[1] Covariance matrix calculated using the outer product of gradients (complex-step).\n",
       "\"\"\""
      ]
     },
     "execution_count": 32,
     "metadata": {},
     "output_type": "execute_result"
    }
   ],
   "source": [
    "from statsmodels.tsa.statespace.sarimax import SARIMAX\n",
    "# SARIMAX(0, 1, 0)x(1, 0, 1, 35)\t\n",
    "# Fit ARIMA: order=(1, 0, 0) seasonal_order=(1, 1, 0, 35); AIC=2881.238, BIC=2905.991, Fit time=52.449 seconds\n",
    "model = SARIMAX(train_data['price'], order= (1,1,0),seasonal_order=(0,1,1,35), enforce_invertibility=False ) \n",
    "results=model.fit()\n",
    "results.summary()"
   ]
  },
  {
   "cell_type": "code",
   "execution_count": 33,
   "metadata": {},
   "outputs": [
    {
     "data": {
      "text/plain": [
       "<matplotlib.axes._subplots.AxesSubplot at 0x1ffd0e53278>"
      ]
     },
     "execution_count": 33,
     "metadata": {},
     "output_type": "execute_result"
    },
    {
     "data": {
      "image/png": "[encoded data removed]",
      "text/plain": [
       "<Figure size 720x432 with 1 Axes>"
      ]
     },
     "metadata": {
      "needs_background": "light"
     },
     "output_type": "display_data"
    }
   ],
   "source": [
    "# evaluate model\n",
    "start = len(train_data)\n",
    "end = len(train_data) + len(test_data) - 1\n",
    "predictions = results.predict(start=start,end=end).rename('SARIMA Model')\n",
    "days_per_period=7\n",
    "\n",
    "train_data['price'].iloc[-120*days_per_period:].plot()\n",
    "test_data['price'].plot()\n",
    "predictions.plot()"
   ]
  },
  {
   "cell_type": "code",
   "execution_count": 34,
   "metadata": {},
   "outputs": [],
   "source": [
    "# Examine Decomposition to see if can choose better period"
   ]
  },
  {
   "cell_type": "code",
   "execution_count": 35,
   "metadata": {},
   "outputs": [],
   "source": [
    "# # seasonal_decompose_and_plot(train_data, col='price',freq=custom_BH_freq())\n",
    "# from statsmodels.tsa.seasonal import seasonal_decompose\n",
    "# decomposition = seasonal_decompose(train_data['price'] )\n",
    "# decomposition.plot();"
   ]
  },
  {
   "cell_type": "code",
   "execution_count": 36,
   "metadata": {},
   "outputs": [],
   "source": [
    "# def plot_holt_winters(train_data, test_data, test_predictions):\n",
    "#     fig, ax = plt.subplots(figsize=(10,6))\n",
    "#     train_data['price'].plot(label='Train',ax=ax)\n",
    "#     test_data['price'].plot(label='Test', ax=ax)\n",
    "#     plt.xlim()\n",
    "#     test_predictions.plot(label='HW Forecast', ax=ax)\n",
    "#     ax.set_xlim(['2019-03-01'],['2019-06-17'])\n",
    "#     return ax\n",
    "\n",
    "# def evaluation_report(test_data,test_predictions,verbose=0):    \n",
    "#     from sklearn.metrics import mean_squared_error,mean_absolute_error\n",
    "    \n",
    "#     mae = mean_absolute_error(test_data['price'],test_predictions)\n",
    "#     mse = mean_squared_error(test_data['price'], test_predictions)\n",
    "#     rmse = np.sqrt(mean_squared_error(test_data['price'], test_predictions))\n",
    "#     report={}\n",
    "#     report['mae'] = mae\n",
    "#     report['mse'] = mse\n",
    "#     report['rmse'] = rmse\n",
    "    \n",
    "    \n",
    "#     if verbose>0:\n",
    "#         [print(f\"{str(k)} = {v}\") for k,v in report.items()]\n",
    "#     return report\n",
    "# #         print(f\"mae = {mae}, mse = {mse}, rmse = {rmse}.\")\n"
   ]
  },
  {
   "cell_type": "code",
   "execution_count": 37,
   "metadata": {},
   "outputs": [],
   "source": [
    "# # Trying holt winters decomposition\n",
    "\n",
    "# from statsmodels.tsa.holtwinters import ExponentialSmoothing\n",
    "# trend = 'mul'\n",
    "# seasonal = 'mul'\n",
    "# seasonal_period=35\n",
    "# forecast_periods= 35\n",
    "    \n",
    "# fitted_model = ExponentialSmoothing(train_data['price'],trend=trend,seasonal=seasonal,seasonal_periods=seasonal_period).fit()\n",
    "\n",
    "\n",
    "# test_predictions = fitted_model.forecast(seasonal_period).rename('HW Forecast')\n",
    "\n",
    "# report = evaluation_report(test_data.iloc[:seasonal_period], test_predictions)\n",
    "\n",
    "# print(report['mae'],report['mse'],report['rmse'])\n",
    "\n",
    "# ax = plot_holt_winters(train_data, test_data, test_predictions)\n",
    "# ax.set_title(f'Holt-Winters Forecast: seasonal: {seasonal}, trend:{trend}')\n",
    "# ax.text\n",
    "# plt.show()\n"
   ]
  },
  {
   "cell_type": "markdown",
   "metadata": {
    "colab_type": "text",
    "id": "Ksn-EM_wDxIl"
   },
   "source": [
    "# Data Prep/Split Forecasting Stock Market Data\n",
    "- https://www.evernote.com/l/AApgV1EaL9lEYpujWnwHq62W9QyEKkH4hwA/"
   ]
  },
  {
   "cell_type": "code",
   "execution_count": 38,
   "metadata": {
    "code_folding": [
     0,
     30
    ],
    "colab": {},
    "colab_type": "code",
    "id": "yoNjM_2MjD21"
   },
   "outputs": [],
   "source": [
    "# def scale_timeseries_data(data, as_series=True, return_scaler = True, verbose=2):\n",
    "    \n",
    "#     from sklearn.preprocessing import MinMaxScaler\n",
    "#     scaler = MinMaxScaler(feature_range=(0,1))\n",
    "    \n",
    "#     if verbose>0:\n",
    "#         print(f'Input Range: {np.min(data)} - {np.max(data)}')\n",
    "#         print(f'Input Shape: {np.shape(data)}')\n",
    "\n",
    "#     index = data.index\n",
    "#     data = scaler.fit_transform(data.values.reshape(-1,1))\n",
    "#     if verbose>0:\n",
    "#         print(f'Shape of Transformed Data = {data.shape}')\n",
    "\n",
    "#     data = data.flatten() #.reshape(-1,1)\n",
    "    \n",
    "#     if as_series==True:\n",
    "#         data = pd.Series(data)\n",
    "#         data.index = index\n",
    "\n",
    "#     if verbose>0:\n",
    "#         print(f'\\nOutput Range: {np.min(data)} - {np.max(data)}')\n",
    "#         print(f'Output Shape: {np.shape(data)}')\n",
    "    \n",
    "#     if return_scaler==True:\n",
    "#         return data, scaler\n",
    "#     else:\n",
    "#         return data\n",
    "    \n",
    "    \n",
    "# def inverse_transform_timeseries_data(data, scaler, as_series=True,verbose=2):\n",
    "    \n",
    "#     if verbose>0:\n",
    "#         print(f'Input Range: {np.min(data)} - {np.max(data)}')\n",
    "#         print(f'Input Shape: {np.shape(data)}')\n",
    "    \n",
    "#     data_back = scaler.inverse_transform(data.values.reshape(-1,1))\n",
    "    \n",
    "#     if as_series==True:\n",
    "#         index = data.index\n",
    "#         data_back = pd.Series(data_back.flatten())\n",
    "#         data_back.index=index\n",
    "#         if verbose>0:\n",
    "#             print(f'Output Index: {index[0]} - {index[-1]}')\n",
    "\n",
    "#     if verbose>0:\n",
    "#         print(f'\\nOutput Range: {np.min(data_back)} - {np.max(data_back)}')\n",
    "#         print(f'Output Shape: {np.shape(data_back)}')\n",
    "        \n",
    "#     return data_back"
   ]
  },
  {
   "cell_type": "code",
   "execution_count": 39,
   "metadata": {},
   "outputs": [
    {
     "data": {
      "text/plain": [
       "datetime.datetime(2019, 7, 1, 18, 46, 14, 841059)"
      ]
     },
     "execution_count": 39,
     "metadata": {},
     "output_type": "execute_result"
    }
   ],
   "source": [
    "from datetime import datetime\n",
    "datetime.now()"
   ]
  },
  {
   "cell_type": "code",
   "execution_count": 102,
   "metadata": {
    "code_folding": []
   },
   "outputs": [],
   "source": [
    "def make_X_y_timeseries_data(data,x_window = 35, verbose=2):\n",
    "    \"\"\"Takes a Series and creates X_train, y_train where each element of X contains x_window # of timepoints\n",
    "    and y_train contains one single timepoint following X_train's timepoint\"\"\"\n",
    "    import numpy as np\n",
    "    import pandas as pd\n",
    "                          \n",
    "#     data = data_series\n",
    "    time_index_in = data.index[x_window:]\n",
    "    \n",
    "    if any(data.isna()):\n",
    "        raise Exception('Function does not accept null values')\n",
    "        \n",
    "    # Display info on data\n",
    "    if verbose>0:\n",
    "        print(f'Input Range: {np.min(data)} - {np.max(data)}')\n",
    "        print(f'Input Shape: {np.shape(data)}\\n')\n",
    "    \n",
    "    time_index = data[x_window:].index\n",
    "    \n",
    "    X_train, y_train = [], []\n",
    "#     headers = data.columns\n",
    "    # for every possible x_window:\n",
    "    for i in range(x_window, data.shape[0]):\n",
    "       \n",
    "        # Append a list of the past x_window # of timepoints\n",
    "        X_train.append(data.iloc[i-x_window:i])#.values)\n",
    "        \n",
    "        # Append the next single timepoint's data\n",
    "        y_train.append(data.iloc[i])#.values)\n",
    "    \n",
    "    # Make X_train, y_train into arrays\n",
    "    X_train, y_train = np.array(X_train), np.array(y_train)\n",
    "    \n",
    "    # Add a 3rd dimension (1) to X_train data\n",
    "#     X_train = np.reshape(X_train, (X_train.shape[0],X_train.shape[1],1))\n",
    "    \n",
    "    if verbose>0:\n",
    "        print(f'\\nOutput Shape - X: {X_train.shape}')\n",
    "        print(f'Output Shape - y: {y_train.shape}')\n",
    "        print(f'\\nTimeindex Shape: {np.shape(time_index)}\\n\\tRange: {time_index[0]}-{time_index[-1]}')\n",
    "        print(f'\\tFrequency:',time_index.freq)\n",
    "    \n",
    "    return X_train, y_train, time_index\n",
    "\n",
    "\n",
    "def make_df_timeseries_bins_by_column(df, x_window = 35, verbose=2,one_or_two_dfs = 1): #target_col='price',\n",
    "    \"\"\" Function will take each column from the dataframe and create a train_data dataset  (with X and Y data), with\n",
    "    each row in X containing x_window number of observations and y containing the next following observation\"\"\"\n",
    "\n",
    "    col_data  = {}\n",
    "    for col in df.columns:\n",
    "        \n",
    "        col_data[col] = {}\n",
    "        col_bins, col_labels, col_idx =  make_X_y_timeseries_data(df[col], verbose=0)#,axis=0)\n",
    "#         print(f'col_bins dtype={type(col_bins)}')\n",
    "#         print(f'col_labels dtype={type(col_labels)}')\n",
    "        \n",
    "        ## ALTERNATIVE IS TO PLACE DF COLUMNS CREATION ABOVE HERE\n",
    "        col_data[col]['bins']=col_bins\n",
    "        col_data[col]['labels'] = col_labels\n",
    "        time_index_for_df = col_idx\n",
    "    \n",
    "    # Convert the dictionaries into a dataframe\n",
    "    df_timeseries_bins = pd.DataFrame()\n",
    "    \n",
    "    # for each original column\n",
    "    for colname,data_dict in col_data.items():\n",
    "        \n",
    "        #for column's new data bins,labels\n",
    "        for data_col, X in col_data[colname].items():\n",
    "            \n",
    "            # new column title\n",
    "            new_colname = colname+'_'+data_col\n",
    "#             print(new_colname)\n",
    "            make_col = []\n",
    "            if data_col=='labels':\n",
    "                df_timeseries_bins[new_colname] = col_data[colname][data_col]\n",
    "            else:\n",
    "                # turn array of lists into list of arrays\n",
    "                for x in range(X.shape[0]):\n",
    "                    make_col.append(np.array(X[x]))\n",
    "                # fill in column's data\n",
    "                df_timeseries_bins[new_colname] = make_col\n",
    "                \n",
    "    df_timeseries_bins.index=time_index_for_df\n",
    "        \n",
    "    \n",
    "    if one_or_two_dfs==1:\n",
    "        return df_timeseries_bins\n",
    "    \n",
    "    elif one_or_two_dfs==2:\n",
    "        df_bins = df_timeseries_bins.filter(regex=('bins'))\n",
    "        df_labels = df_timeseries_bins.filter(regex=('labels'))\n",
    "        \n",
    "    return df_bins, df_labels"
   ]
  },
  {
   "cell_type": "code",
   "execution_count": 103,
   "metadata": {},
   "outputs": [],
   "source": [
    "#  x_window = 35\n",
    "# verbose=2\n",
    "# one_or_two_dfs = 1 \n",
    "# \"\"\" Function will take each column from the dataframe and create a train_data dataset  (with X and Y data), with\n",
    "# each row in X containing x_window number of observations and y containing the next following observation\"\"\"\n",
    "\n",
    "# col_data  = {}\n",
    "# for col in df.columns:\n",
    "\n",
    "#     col_data[col] = {}\n",
    "#     col_bins, col_labels, col_idx =  make_X_y_timeseries_data(df[col], verbose=0)#,axis=0)\n",
    "#     print(f'col_bins dtype={type(col_bins)}')\n",
    "#     print(f'col_labels dtype={type(col_labels)}')\n",
    "\n",
    "#     ## ALTERNATIVE IS TO PLACE DF COLUMNS CREATION ABOVE HERE\n",
    "#     col_data[col]['bins']=col_bins\n",
    "#     col_data[col]['labels'] = col_labels\n",
    "#     time_index_for_df = col_idx\n",
    "\n",
    "# # Convert the dictionaries into a dataframe\n",
    "# df_timeseries_bins = pd.DataFrame()"
   ]
  },
  {
   "cell_type": "code",
   "execution_count": 104,
   "metadata": {},
   "outputs": [],
   "source": [
    "#  x_window = 35\n",
    "# verbose=2\n",
    "# one_or_two_dfs = 1 \n",
    "# df = stock_df.iloc[:,11:]\n",
    "# \"\"\" Function will take each column from the dataframe and create a train_data dataset  (with X and Y data), with\n",
    "# each row in X containing x_window number of observations and y containing the next following observation\"\"\"\n",
    "\n",
    "# col_data  = {}\n",
    "# for col in df.columns:\n",
    "\n",
    "#     col_data[col] = {}\n",
    "#     col_bins, col_labels, col_idx =  make_X_y_timeseries_data(df[col], verbose=0)#,axis=0)\n",
    "#     print(f'col_bins dtype={type(col_bins)}')\n",
    "#     print(f'col_labels dtype={type(col_labels)}')\n",
    "\n",
    "#     ## ALTERNATIVE IS TO PLACE DF COLUMNS CREATION ABOVE HERE\n",
    "#     col_data[col]['bins']=col_bins\n",
    "#     col_data[col]['labels'] = col_labels\n",
    "#     time_index_for_df = col_idx"
   ]
  },
  {
   "cell_type": "code",
   "execution_count": 105,
   "metadata": {},
   "outputs": [],
   "source": [
    "# for k,v in col_data.items():\n",
    "#     print(f'\\nK:{k}')\n",
    "#     for k2, v2 in col_data[k].items():\n",
    "#         print(k2)\n",
    "#         if k2=='bins':\n",
    "#             print(type(v2[0][0]))\n",
    "#         else:\n",
    "#             print(type(v2[0]))"
   ]
  },
  {
   "cell_type": "code",
   "execution_count": 106,
   "metadata": {},
   "outputs": [],
   "source": [
    "# # Convert the dictionaries into a dataframe\n",
    "# df_timeseries_bins = pd.DataFrame()\n",
    "\n",
    "# # for each original column\n",
    "# for colname,data_dict in col_data.items():\n",
    "\n",
    "#     #for column's new data bins,labels\n",
    "#     for data_col, X in col_data[colname].items():\n",
    "\n",
    "#         # new column title\n",
    "#         new_colname = colname+'_'+data_col\n",
    "# #             print(new_colname)\n",
    "#         make_col = []\n",
    "#         if data_col=='labels':\n",
    "#             df_timeseries_bins[new_colname] = col_data[colname][data_col]\n",
    "#         else:\n",
    "#             # turn array of lists into list of arrays\n",
    "#             for x in range(X.shape[0]):\n",
    "#                 make_col.append(np.array(X[x]))\n",
    "#             # fill in column's data\n",
    "#             df_timeseries_bins[new_colname] = make_col\n",
    "#     #             df_timeseries_bins[new_colname] = df_timeseries_bins[new_colname]#.astype('float')\n",
    "\n",
    "# df_timeseries_bins.index=time_index_for_df\n",
    "# df_timeseries_bins.dtypes"
   ]
  },
  {
   "cell_type": "code",
   "execution_count": 107,
   "metadata": {},
   "outputs": [],
   "source": [
    "# type(df_timeseries_bins['price_bins'].iloc[0][0])"
   ]
  },
  {
   "cell_type": "code",
   "execution_count": 108,
   "metadata": {},
   "outputs": [],
   "source": [
    "# if one_or_two_dfs==1:\n",
    "# #     return df_timeseries_bins\n",
    "\n",
    "# elif one_or_two_dfs==2:\n",
    "#     df_bins = df_timeseries_bins.filter(regex=('bins'))\n",
    "#     df_labels = df_timeseries_bins.filter(regex=('labels'))\n",
    "\n",
    "# # return df_bins, df_labels"
   ]
  },
  {
   "cell_type": "code",
   "execution_count": 109,
   "metadata": {},
   "outputs": [],
   "source": [
    "# # col_data = make_df_timeseries_bins_by_column(stock_df)\n",
    "# k1='price'\n",
    "# k2='bins'\n",
    "# test_df=pd.DataFrame()\n",
    "# array_of_lists = col_data[k1][k2]\n",
    "# test_df[k1+'_'+k2] = \n",
    "# test_df"
   ]
  },
  {
   "cell_type": "markdown",
   "metadata": {},
   "source": [
    "### TRAIN TEST SPLIT\n",
    "- use prior split `train_data` and `test_data`\n",
    "- use `make_X_y_timeseries_data` to format data for LSTM"
   ]
  },
  {
   "cell_type": "code",
   "execution_count": 110,
   "metadata": {},
   "outputs": [],
   "source": [
    "# test_data.columns"
   ]
  },
  {
   "cell_type": "code",
   "execution_count": 111,
   "metadata": {},
   "outputs": [
    {
     "name": "stdout",
     "output_type": "stream",
     "text": [
      "price_bins            object\n",
      "price_labels         float64\n",
      "ma7_bins              object\n",
      "ma7_labels           float64\n",
      "ma21_bins             object\n",
      "ma21_labels          float64\n",
      "26ema_bins            object\n",
      "26ema_labels         float64\n",
      "12ema_bins            object\n",
      "12ema_labels         float64\n",
      "MACD_bins             object\n",
      "MACD_labels          float64\n",
      "20sd_bins             object\n",
      "20sd_labels          float64\n",
      "upper_band_bins       object\n",
      "upper_band_labels    float64\n",
      "lower_band_bins       object\n",
      "lower_band_labels    float64\n",
      "ema_bins              object\n",
      "ema_labels           float64\n",
      "momentum_bins         object\n",
      "momentum_labels      float64\n",
      "dtype: object\n",
      "price_bins            object\n",
      "price_labels         float64\n",
      "ma7_bins              object\n",
      "ma7_labels           float64\n",
      "ma21_bins             object\n",
      "ma21_labels          float64\n",
      "26ema_bins            object\n",
      "26ema_labels         float64\n",
      "12ema_bins            object\n",
      "12ema_labels         float64\n",
      "MACD_bins             object\n",
      "MACD_labels          float64\n",
      "20sd_bins             object\n",
      "20sd_labels          float64\n",
      "upper_band_bins       object\n",
      "upper_band_labels    float64\n",
      "lower_band_bins       object\n",
      "lower_band_labels    float64\n",
      "ema_bins              object\n",
      "ema_labels           float64\n",
      "momentum_bins         object\n",
      "momentum_labels      float64\n",
      "dtype: object\n"
     ]
    }
   ],
   "source": [
    "# GET A DATAFRAME WITH BINNED TIME SERIES AS X_DATA AND NEXT SINGLE TIME STEP AS Y\n",
    "df_train_bins = make_df_timeseries_bins_by_column(train_data.iloc[:,11:])\n",
    "df_test_bins = make_df_timeseries_bins_by_column(test_data.iloc[:,11:])\n",
    "# display(df_train_bins.head(2))\n",
    "print(df_train_bins.dtypes)\n",
    "print(df_test_bins.dtypes)\n",
    "# display(df_test_bins.head(2))"
   ]
  },
  {
   "cell_type": "code",
   "execution_count": 112,
   "metadata": {
    "scrolled": false
   },
   "outputs": [
    {
     "data": {
      "text/plain": [
       "<matplotlib.axes._subplots.AxesSubplot at 0x1ffe52c0240>"
      ]
     },
     "execution_count": 112,
     "metadata": {},
     "output_type": "execute_result"
    },
    {
     "data": {
      "image/png": "[encoded data removed]",
      "text/plain": [
       "<Figure size 720x432 with 1 Axes>"
      ]
     },
     "metadata": {
      "needs_background": "light"
     },
     "output_type": "display_data"
    }
   ],
   "source": [
    "# PREVIEW DATA CONTENTS\n",
    "# display(df_train_bins.head())\n",
    "df_train_bins['price_labels'].plot()\n",
    "df_test_bins['price_labels'].plot()"
   ]
  },
  {
   "cell_type": "code",
   "execution_count": null,
   "metadata": {},
   "outputs": [],
   "source": [
    "# df_train_bins.columns\n",
    "df_test_bins.columns"
   ]
  },
  {
   "cell_type": "code",
   "execution_count": null,
   "metadata": {},
   "outputs": [],
   "source": [
    "# # DETERMINING DAY TO USE TO SPLIT DATA INTO TRAIN AND TEST\n",
    "\n",
    "# day_freq = 7\n",
    "# start_train_day = data_to_split.index[-1] - 360*day_freq\n",
    "# last_day = data_to_split.index[-1] - 90*day_freq\n",
    "# print(f'Data split on index:{last_day}.')\n",
    "\n",
    "\n",
    "# train_data = data_to_split.loc[start_train_day:last_day]#,'price']\n",
    "# test_data = data_to_split.loc[last_day:]#,'price']\n",
    "\n",
    "\n",
    "# train_data['price'].plot(label='Training')\n",
    "# test_data['price'].plot(label='Test')\n",
    "# plt.title('Training and Test Data for S&P500')\n",
    "# plt.ylabel('Price')\n",
    "# plt.xlabel('Trading Date/Hour')\n",
    "# plt.legend();"
   ]
  },
  {
   "cell_type": "markdown",
   "metadata": {
    "colab_type": "text",
    "id": "9Pu-SNrTHodf"
   },
   "source": [
    "# ✔ BOOKMARK - RESUMING ANALYSIS WITH NEW FUNCTIONS\n",
    "- Check Evernote log: https://www.evernote.com/l/AApgV1EaL9lEYpujWnwHq62W9QyEKkH4hwA/\n",
    "\n",
    "- **For LSTM neural network, just using stock market data itself, which would be:**\n",
    "    - **Training Data:**\n",
    "         - `X_train = df_train_bins['price_bins']`\n",
    "         - `y_train = df_train_bins['price_labels']`\n",
    "     - **Testing Data:**\n",
    "         - `X_test = df_test_bins['price_bins']`\n",
    "         - `y_test = df_test_bins['price_labels']`    "
   ]
  },
  {
   "cell_type": "code",
   "execution_count": null,
   "metadata": {
    "code_folding": [
     0
    ]
   },
   "outputs": [],
   "source": [
    "# print(list(zip(train_data.columns, range(len(train_data.columns)))))\n",
    "# # train_data.columns"
   ]
  },
  {
   "cell_type": "code",
   "execution_count": null,
   "metadata": {
    "code_folding": [
     0
    ],
    "scrolled": false
   },
   "outputs": [],
   "source": [
    "# ## CREATING X AND Y BINNED DATA FOR EACH FEATURE TO USE FOR MODELING\n",
    "# # Get price and technical indicators (the last 11-end columns)\n",
    "# # data_to_split = stock_df.iloc[:,11:]\n",
    "# # data_to_split.head()\n",
    "\n",
    "# # y = data_to_split.pop('price')\n",
    "# # X = data_to_split\n",
    "\n",
    "# # X_train, X_test,y_train, y_test, idx_train, idx_test = train_test_time_split(X,y ,days_to_predict=7, \n",
    "# #                                                                              return_indices=True)\n",
    "\n",
    "# ## GET\n",
    "\n",
    "# train_data_bins, train_data_labels, train_idx = make_df_timeseries_bins_by_column(train_data, verbose=0)\n",
    "# test_data_bins, test_data_labels, test_idx = make_df_timeseries_bins_by_column(test_data, verbose=0)"
   ]
  },
  {
   "cell_type": "code",
   "execution_count": null,
   "metadata": {},
   "outputs": [],
   "source": [
    "X_train = df_train_bins['price_bins']\n",
    "y_train = df_train_bins['price_labels']\n",
    "\n",
    "X_test = df_test_bins['price_bins']\n",
    "y_test = df_test_bins['price_labels']"
   ]
  },
  {
   "cell_type": "code",
   "execution_count": null,
   "metadata": {},
   "outputs": [],
   "source": [
    "X_train"
   ]
  },
  {
   "cell_type": "code",
   "execution_count": null,
   "metadata": {
    "code_folding": [],
    "scrolled": false
   },
   "outputs": [],
   "source": [
    "CURRENT ISSUE IS HERE. NEEED TO RE=PRODUCE WHAT I DO INSIDE THE FUNCTION, BUT WITH THE NEW df_t\n",
    "def train_test_time_split(X, y,split_index=None, days_to_predict=None, return_indices=False, verbose=2):\n",
    "    \n",
    "    \n",
    "#     if (split_index != None ) & (days_to_predict!=None):\n",
    "#         raise Exception('You can only specify 1 of: split_index, days_to_predict.')\n",
    "        \n",
    "#     # what to assume if user doesn't specify?\n",
    "#     if (split_index == None ) & (days_to_predict==None):\n",
    "#         raise Exception('You must specify split_index OR days_to_predict.')\n",
    "                          \n",
    "#     elif  (split_index == None ) & (days_to_predict!=None):\n",
    "#         split_index = X.index[-days_to_predict]\n",
    "    \n",
    "#     elif(split_index!=None) & (days_to_predict==None):\n",
    "#         split_index=split_index\n",
    "                  \n",
    "\n",
    "    \n",
    "#     idx_train = X.loc[:split_index].index\n",
    "#     idx_test = X.loc[split_index:].index\n",
    "\n",
    "    \n",
    "#     X_train = X.loc[:split_index]\n",
    "#     X_test = X.loc[split_index:]\n",
    "    \n",
    "\n",
    "#     y_train = y.loc[:split_index]\n",
    "#     y_test = y.loc[split_index:]\n",
    "    \n",
    "#     if verbose>0:\n",
    "        \n",
    "#         print(f'Training dates:\\t{idx_train[0]}\\t-\\t{idx_train[-1]}.')\n",
    "#         print(f'Test dates:\\t{idx_test[0]}\\t-\\t{idx_test[-1]}.')\n",
    "    \n",
    "#     if verbose>1:\n",
    "#         print(f\"\\nX dtype = {type(X_train)}\")\n",
    "#         print(f'Output Shape - X: {X_train.shape}')\n",
    "        \n",
    "#         print(f\"\\ny dtype = {type(y_train)}\")\n",
    "#         print(f'Output Shape - y: {y_train.shape}')\n",
    "    \n",
    "# #         print(f'\\nTimeindex Shape: {np.shape(time_index)}\\n\\tRange: {time_index[0]}-{time_index[-1]}')\n",
    "# #         print(f'\\tFrequency:',time_index.freq)\n",
    "    \n",
    "#     if return_indices==True:\n",
    "#         return  X_train, X_test, y_train,y_test, idx_train, idx_test\n",
    "    \n",
    "#     else:\n",
    "#         return  X_train, X_test, y_train,y_test        "
   ]
  },
  {
   "cell_type": "code",
   "execution_count": null,
   "metadata": {},
   "outputs": [],
   "source": [
    "X_train.values"
   ]
  },
  {
   "cell_type": "code",
   "execution_count": null,
   "metadata": {},
   "outputs": [],
   "source": [
    "print('\\n\\n')\n",
    "# Fit a minmax scaler to the training dataset\n",
    "from sklearn.preprocessing import MinMaxScaler\n",
    "scaler = MinMaxScaler()\n",
    "\n",
    "# headers = {'X':X_train.columns, 'y':y_train.name}\n",
    "scaler.fit(X_train.to_list(), y_train)\n",
    "\n",
    "X_train = scaler.transform(X_train)\n",
    "X_test = scaler.transform(X_test)"
   ]
  },
  {
   "cell_type": "code",
   "execution_count": null,
   "metadata": {},
   "outputs": [],
   "source": [
    "print(headers, X_train.shape)\n",
    "# print(idx_train)\n",
    "y_series = pd.Series(data=y_train, index=idx_train)\n",
    "y_series.index"
   ]
  },
  {
   "cell_type": "code",
   "execution_count": null,
   "metadata": {},
   "outputs": [],
   "source": [
    "plot_time_series(y_series)"
   ]
  },
  {
   "cell_type": "markdown",
   "metadata": {},
   "source": [
    "### LSTM"
   ]
  },
  {
   "cell_type": "code",
   "execution_count": null,
   "metadata": {},
   "outputs": [],
   "source": [
    "from keras import Models, Layers\n",
    "model = Models.Sequential()\n",
    "model.add(layers.LSTM(units=50, return_sequences=True, input_shape = (X_train.shape[1],1)))\n",
    "model.add(layers.LSTM(units=50))\n",
    "model.add(layers.Dense(1))\n",
    "\n",
    "model.compile(loss='mean_squared_error', optimizer='adam')\n",
    "model.summary()"
   ]
  },
  {
   "cell_type": "code",
   "execution_count": null,
   "metadata": {},
   "outputs": [],
   "source": [
    "## NEXT FROM BLOG POST\n",
    "# model.fit(x_train, y_train, epochs=1, batch_size=1, verbose=2)\n",
    "\n",
    "# #predicting 246 values, using past 60 from the train data\n",
    "# inputs = new_data[len(new_data) - len(valid) - 60:].values\n",
    "# inputs = inputs.reshape(-1,1)\n",
    "# inputs  = scaler.transform(inputs)\n",
    "\n",
    "# X_test = []\n",
    "# for i in range(60,inputs.shape[0]):\n",
    "#     X_test.append(inputs[i-60:i,0])\n",
    "# X_test = np.array(X_test)\n",
    "\n",
    "# X_test = np.reshape(X_test, (X_test.shape[0],X_test.shape[1],1))\n",
    "# closing_price = model.predict(X_test)\n",
    "# closing_price = scaler.inverse_transform(closing_price)"
   ]
  },
  {
   "cell_type": "code",
   "execution_count": null,
   "metadata": {},
   "outputs": [],
   "source": [
    "# holt winters model\n",
    "data_to_split = stock_df.iloc[:,11:]\n",
    "display(data_to_split.head())\n",
    "print(len(data_to_split)/35)\n",
    "test_data = data_to_split.iloc[-2*35:,:]\n",
    "train_data = data_to_split.iloc[:-2*35]"
   ]
  },
  {
   "cell_type": "markdown",
   "metadata": {},
   "source": [
    "### Hyperparameter tuning for Holt-Winters"
   ]
  },
  {
   "cell_type": "code",
   "execution_count": null,
   "metadata": {},
   "outputs": [],
   "source": [
    "PAUSEW"
   ]
  },
  {
   "cell_type": "code",
   "execution_count": null,
   "metadata": {
    "scrolled": false
   },
   "outputs": [],
   "source": [
    "# from statsmodels.tsa.holtwinters import ExponentialSmoothing\n",
    "\n",
    "# # parameter tuning for seasonal_periods\n",
    "# params={}\n",
    "# # params['seasonal_periods'] = [7]#,70,140]\n",
    "# period = 7\n",
    "\n",
    "# params['trend'] = ['mul']#,'add']\n",
    "# params['seasonal'] = ['mul','add']\n",
    "\n",
    "# results_list = ['i','seasonal_periods','MAE','MSE','RMSE']\n",
    "\n",
    "# clock.tic('Start Search')\n",
    "# for i, trend in enumerate(params['trend']):\n",
    "#     print(\"---\"*20,\"\\nTrend:\",trend)\n",
    "    \n",
    "#     for seasonal in params['seasonal']:\n",
    "#         print('Seasonal:',seasonal)\n",
    "#         fitted_model = ExponentialSmoothing(train_data['price'],trend=trend,seasonal=seasonal,seasonal_periods=period).fit()\n",
    "#         test_predictions = fitted_model.forecast(35).rename('HW Forecast')\n",
    "\n",
    "#         report = evaluation_report(test_data.iloc[:35], test_predictions)\n",
    "\n",
    "#         results = i,period,report['mae'],report['mse'],report['rmse']\n",
    "#         clock.lap('')\n",
    "#         results_list.append([results])\n",
    "\n",
    "#         ax = plot_holt_winters(train_data, test_data, test_predictions)\n",
    "#         ax.set_title(f'Holt-Winters Forecast: seasonal: {seasonal}, trend:{trend}')\n",
    "#         ax.text\n",
    "#         plt.show()\n",
    "#         [print(k,v) for k,v in report.items()]\n",
    "# clock.toc('')"
   ]
  },
  {
   "cell_type": "code",
   "execution_count": null,
   "metadata": {},
   "outputs": [],
   "source": []
  },
  {
   "cell_type": "markdown",
   "metadata": {},
   "source": [
    "### TROUBLESHOOTING"
   ]
  },
  {
   "cell_type": "code",
   "execution_count": null,
   "metadata": {},
   "outputs": [],
   "source": [
    "period=14\n",
    "fitted_model = ExponentialSmoothing(train_data['price'],trend='mul',seasonal='mul',seasonal_periods=period).fit()\n",
    "test_predictions = fitted_model.forecast(period).rename('HW Forecast')\n",
    "\n",
    "# report = evaluation_report(test_data.iloc[:35,:], test_predictions)#\n",
    "# results_list.append([i,period,report['mae'],report['mse'],report['rmse']])\n",
    "\n",
    "mae = mean_absolute_error(test_data['price'].iloc[:len(test_predictions),:])#,test_predictions)\n",
    "mse = mean_squared_error(test_data['price'], test_predictions)\n",
    "rmse = np.sqrt(mean_squared_error(test_data['price'], test_predictions))\n",
    "\n",
    "\n",
    "\n",
    "ax = plot_holt_winters(train_data, test_data, test_predictions)\n",
    "ax.set_title(f'Holt-Winters Forecast using {period} periods')\n",
    "ax.text\n",
    "plt.show()\n",
    "[print(k,v) for k,v in report.items()]"
   ]
  },
  {
   "cell_type": "code",
   "execution_count": null,
   "metadata": {},
   "outputs": [],
   "source": [
    "from sklearn.metrics import mean_squared_error,mean_absolute_error\n",
    "\n",
    "mae = mean_absolute_error(test_data['price'],test_predictions)\n",
    "mse = mean_squared_error(test_data['price'], test_predictions)\n",
    "rmse = np.sqrt(mean_squared_error(test_data['price'], test_predictions))\n",
    "report={}\n",
    "report['mae'] = mae\n",
    "report['mse'] = mse\n",
    "report['rmse'] = rmse\n"
   ]
  },
  {
   "cell_type": "code",
   "execution_count": null,
   "metadata": {},
   "outputs": [],
   "source": [
    "print(test_predictions.isna().sum())\n",
    "fitted_model.summary()"
   ]
  },
  {
   "cell_type": "code",
   "execution_count": null,
   "metadata": {},
   "outputs": [],
   "source": [
    "# test_data['price'].plot()\n",
    "# test_predictions.plot()"
   ]
  },
  {
   "cell_type": "code",
   "execution_count": null,
   "metadata": {},
   "outputs": [],
   "source": [
    "final_model = ExponentialSmoothing(train_data['price'],trend='mul',seasonal='mul',seasonal_periods=35).fit()\n",
    "forecast_predictions = final_model.forecast(len(test_data))\n",
    "plot"
   ]
  },
  {
   "cell_type": "code",
   "execution_count": null,
   "metadata": {},
   "outputs": [],
   "source": [
    "# # # Get price and technical indicators (the last 11-end columns)\n",
    "# # data_to_split = stock_df.iloc[:,11:]\n",
    "# # data_to_split.head()\n",
    "\n",
    "# # y = data_to_split.pop('price')\n",
    "# # X = data_to_split\n",
    "\n",
    "# # plot_time_series(y)\n",
    "# # print(X.columns)\n",
    "\n",
    "\n",
    "# data=data_to_split\n",
    "# # for every possible x_window:\n",
    "# X_train=[] \n",
    "# y_train=[]\n",
    "\n",
    "# day_window_size = 7\n",
    "# num_days_for_window = 5\n",
    "\n",
    "# x_window = day_window_size * num_days_for_window\n",
    "\n",
    "# for i in range(x_window, data.shape[0]):\n",
    "\n",
    "#     # Append a list of the past x_window # of timepoints\n",
    "#     X_train.append(data.iloc[i-x_window:i].values)\n",
    "\n",
    "#     # Append the next single timepoint's data\n",
    "#     y_train.append(data.iloc[i].values)\n",
    "\n",
    "# # Make X_train, y_train into arrays\n",
    "# X_train, y_train = np.array(X_train), np.array(y_train)\n",
    "\n",
    "# # print(y_train[0],'\\n\\n',X_train[0])"
   ]
  },
  {
   "cell_type": "code",
   "execution_count": null,
   "metadata": {
    "scrolled": false
   },
   "outputs": [],
   "source": [
    "\n",
    "plot_time_series(y)\n",
    "\n",
    "\n",
    "split_dict = {}\n",
    "verbose = 2\n",
    "\n",
    "for column in data_to_split.columns:\n",
    "    \n",
    "    data = data_to_split[column]\n",
    "              \n",
    "    X_train, y_train, idx = make_X_y_timeseries_data(data,verbose=verbose)\n",
    "          \n",
    "    split_dict[column] = {'X':X_train,'y':y_train,'index':idx}\n",
    "\n",
    "    if verbose>0:\n",
    "        \n",
    "        print(f\"\\n---------\\nColumn = {column}:\\n\")\n",
    "        print('')"
   ]
  },
  {
   "cell_type": "code",
   "execution_count": null,
   "metadata": {},
   "outputs": [],
   "source": [
    "print('split_keys.keys:')\n",
    "ks = list(split_dict.keys())\n",
    "print('\\t',ks)\n",
    "print('Each key has:')\n",
    "print('\\t',split_dict[ks[0]].keys())\n",
    "print(\"\\n\\nEx: X_price = split_dict['price']['X']\")"
   ]
  },
  {
   "cell_type": "code",
   "execution_count": null,
   "metadata": {},
   "outputs": [],
   "source": [
    "\n",
    "print(split_dict['price']['X'][0],'\\n\\n', split_dict['price']['y'][0])"
   ]
  },
  {
   "cell_type": "code",
   "execution_count": null,
   "metadata": {},
   "outputs": [],
   "source": [
    "data_to_split.iloc[]"
   ]
  },
  {
   "cell_type": "markdown",
   "metadata": {
    "colab_type": "text",
    "id": "u8JCIZwI-WUw"
   },
   "source": [
    "# MODELING STOCK MARKET DATA"
   ]
  },
  {
   "cell_type": "markdown",
   "metadata": {},
   "source": [
    "### https://www.analyticsvidhya.com/blog/2018/10/predicting-stock-price-machine-learningnd-deep-learning-techniques-python/"
   ]
  },
  {
   "cell_type": "code",
   "execution_count": null,
   "metadata": {},
   "outputs": [],
   "source": [
    "# #importing librariesfrom sklearn import neighborsfrom sklearn.model_selection import GridSearchCVfrom sklearn.preprocessing import MinMaxScalerscaler = MinMaxScaler(feature_range=(0, 1))\n",
    "# # Using the same train and validation set from the last section:\n",
    "\n",
    "# #scaling data\n",
    "# x_train_scaled = scaler.fit_transform(x_train)\n",
    "# x_train = pd.DataFrame(x_train_scaled)\n",
    "# x_valid_scaled = scaler.fit_transform(x_valid)\n",
    "# x_valid = pd.DataFrame(x_valid_scaled)\n",
    "\n",
    "# #using gridsearch to find the best parameter\n",
    "# params = {'n_neighbors':[2,3,4,5,6,7,8,9]}\n",
    "# knn = neighbors.KNeighborsRegressor()\n",
    "# model = GridSearchCV(knn, params, cv=5)\n",
    "\n",
    "# #fit the model and make predictions\n",
    "# model.fit(x_train,y_train)\n",
    "# preds = model.predict(x_valid)Results\n",
    "\n",
    "# #rmse\n",
    "# rms=np.sqrt(np.mean(np.power((np.array(y_valid)-np.array(preds)),2)))\n",
    "# rms"
   ]
  },
  {
   "cell_type": "markdown",
   "metadata": {
    "colab_type": "text",
    "id": "mrtX98vb_QtX"
   },
   "source": [
    "### Forecasting"
   ]
  },
  {
   "cell_type": "code",
   "execution_count": null,
   "metadata": {
    "colab": {},
    "colab_type": "code",
    "id": "XeVBsUi8_P-o"
   },
   "outputs": [],
   "source": [
    "# from math import floor\n",
    "# train_size = floor(len(TS)*0.9)\n",
    "# print(train_size)\n",
    "\n",
    "# # from sklearn.model_selection import train_test_split\n",
    "# train_data = TS[:train_size]\n",
    "# test_data = TS[train_size:]\n",
    "# train_data.plot()\n",
    "# test_data.plot()"
   ]
  },
  {
   "cell_type": "code",
   "execution_count": null,
   "metadata": {
    "colab": {},
    "colab_type": "code",
    "id": "rgteGrmM_UgW"
   },
   "outputs": [],
   "source": [
    "# from statsmodels.tsa.holtwinters import ExponentialSmoothing\n",
    "\n",
    "# fitted_model = ExponentialSmoothing(train_data, trend='add', seasonal='mul',seasonal_periods=5).fit();\n",
    "# test_predictions = fitted_model.forecast(9).rename('Two Day Forecast');\n",
    "# match_idx = test_predictions.index\n",
    "\n",
    "\n",
    "# fig, ax = plt.subplots(figsize=(10,6))\n",
    "# ax.plot(train_data[-10:], label= 'Training Data')\n",
    "# ax.plot(test_predictions,color='r', label='Predicted Data')\n",
    "# ax.plot(test_data, label='True Data')\n",
    "# ax.legend()"
   ]
  },
  {
   "cell_type": "code",
   "execution_count": null,
   "metadata": {
    "colab": {},
    "colab_type": "code",
    "id": "2dE1dv73_ZKR"
   },
   "outputs": [],
   "source": [
    "# # Evaluation metrics for regression\n",
    "# # Mean Abs Error, Mean Squared Error, Room Mean Square Error\n",
    "# from sklearn.metrics import mean_absolute_error, mean_squared_error\n",
    "# match_idx = test_predictions.indexmatch_idx = test_predictions.index\n",
    "\n",
    "# mae = mean_absolute_error(test_data[match_idx], test_predictions)\n",
    "\n",
    "# mse = mean_squared_error(test_data[match_idx], test_predictions)\n",
    "# rmse = np.sqrt(mse)\n",
    "\n",
    "# print(f\"MAE = {mae}\\nMSE = {mse}\\nRMSE = {rmse}\")"
   ]
  },
  {
   "cell_type": "code",
   "execution_count": null,
   "metadata": {
    "colab": {},
    "colab_type": "code",
    "id": "_3GKPbwY_awR"
   },
   "outputs": [],
   "source": [
    "# import statsmodels.api as sm\n",
    "# from statsmodels.tsa.stattools import acovf, acf, pacf, pacf_yw, pacf_ols\n",
    "# from statsmodels.graphics.tsaplots import plot_pacf, plot_acf\n",
    "# acf(TS)\n",
    "\n",
    "# ts_pacf = pacf(TS, nlags=80)#, method='unbiased')\n",
    "# ts_acf = acf(TS)\n",
    "# # plt.plot(ts_pacf)\n",
    "# plot_pacf(TS);\n",
    "# plot_acf(TS);"
   ]
  },
  {
   "cell_type": "markdown",
   "metadata": {
    "colab_type": "text",
    "heading_collapsed": true,
    "id": "ycaO9AYe2bwX"
   },
   "source": [
    "# Twitter Processing \n",
    "\n",
    "- NLP Pre-Processing \n",
    "    - stopword removal and regexp tokenization\n",
    "    - extraction and removal of hashtags, @'s and urls' using regex\n",
    "- Word Frequency Disributions and Bigrams\n",
    "    - Word Frequencies - tweet, #'s\n",
    "    - Bigrams - tweets\n",
    "    - WordClouds - tweet, #'s, @'s\n",
    "\n",
    "- Upper to lower case ratio"
   ]
  },
  {
   "cell_type": "markdown",
   "metadata": {
    "colab_type": "text",
    "hidden": true,
    "id": "g2NuArSq3F0C"
   },
   "source": [
    "### NLP Pre-Processing"
   ]
  },
  {
   "cell_type": "code",
   "execution_count": null,
   "metadata": {
    "colab": {},
    "colab_type": "code",
    "hidden": true,
    "id": "e1ucmouPDnjo"
   },
   "outputs": [],
   "source": []
  },
  {
   "cell_type": "code",
   "execution_count": null,
   "metadata": {
    "colab": {},
    "colab_type": "code",
    "hidden": true,
    "id": "m6Hfo5pn_rWG"
   },
   "outputs": [],
   "source": [
    "import pandas as pd\n",
    "import numpy as np\n",
    "import matplotlib.pyplot as plt\n",
    "\n",
    "folder_path = '/content/drive/My Drive/Colab Notebooks/Mod 5 Project/'\n",
    "\n",
    "file = folder_path +'data/trump_tweets_01202017_06202019.csv'\n",
    "df = pd.read_csv(file, encoding='utf-8')\n",
    "df.rename(axis=1,mapper={'text':'content','created_at':'date'},inplace=True)\n",
    "df['date']=pd.to_datetime(df['date'])\n",
    "\n",
    "display(df.head())\n",
    "print(' First tweet:',df.date.min(),'\\n','Last tweet:',df.date.max())\n",
    "print('\\nRange of Dates: ',df.date.max() - df.date.min())"
   ]
  },
  {
   "cell_type": "code",
   "execution_count": null,
   "metadata": {
    "colab": {},
    "colab_type": "code",
    "hidden": true,
    "id": "7VeZDUus2qWi"
   },
   "outputs": [],
   "source": [
    "# Generate Stopwords List from nltk + punctuation + custom list\n",
    "from nltk import regexp_tokenize\n",
    "\n",
    "pattern = \"([a-zA-Z]+(?:'[a-z]+)?)\"\n",
    "\n",
    "import nltk\n",
    "nltk.download('stopwords')\n",
    "from nltk.corpus import stopwords\n",
    "\n",
    "import string\n",
    "\n",
    "stopwords_list = stopwords.words('english')\n",
    "stopwords_list += list(string.punctuation)\n",
    "stopwords_list += ['http','https','...','…','``','co','“','’','‘','”',\"n't\",\"''\",'u','s',\"'s\",'|','\\\\|','amp',\"i'm\"]\n",
    "stopwords_list += [0,1,2,3,4,5,6,7,8,9]\n",
    "\n",
    "## Adding in stopword removal to the actual dataframe\n",
    "def apply_stopwords(stopwords_list,  text, tokenize=True, pattern = \"([a-zA-Z]+(?:'[a-z]+)?)\"):\n",
    "\n",
    "    if tokenize==True:\n",
    "        from nltk import regexp_tokenize\n",
    "        \n",
    "        text = regexp_tokenize(text,pattern)\n",
    "        \n",
    "    stopped = [x.lower() for x in text if x.lower() not in stopwords_list]\n",
    "    return ' '.join(stopped)\n",
    "\n",
    "# # Remove stopwords using function apply_stopwords)\n",
    "# df['text_stopped'] = df['content'].apply(lambda x: apply_stopwords(stopwords_list,x))\n",
    "\n",
    "# # Tokenize using regexp_tokenize from nltk\n",
    "# df['tokens_stopped'] = df['content'].apply(lambda x: regexp_tokenize(x,pattern))"
   ]
  },
  {
   "cell_type": "code",
   "execution_count": null,
   "metadata": {
    "colab": {},
    "colab_type": "code",
    "hidden": true,
    "id": "TxRjqjxF2w5c"
   },
   "outputs": [],
   "source": [
    "# Save 'hashtags' column containing all hastags\n",
    "import re\n",
    "df['content_raw'] = df['content'].copy()\n",
    "\n",
    "# Add has_RT and starts_RT columns\n",
    "# Creating columns for tweets that `has_RT` or `starts_RT`\n",
    "df['has_RT']=df['content_raw'].str.contains('RT')\n",
    "df['starts_RT']=df['content_raw'].str.contains('^RT')\n",
    "\n",
    "## FIRST REMOVE THE RT HEADERS\n",
    "\n",
    "# Remove `RT @Mentions` FIRST:\n",
    "re_RT = re.compile('RT [@]?\\w*:')\n",
    "\n",
    "raw_col =  'content_raw'\n",
    "check_content_col =raw_col\n",
    "fill_content_col = 'content'\n",
    "\n",
    "df['content_starts_RT'] = df[check_content_col].apply(lambda x: re_RT.findall(x))\n",
    "df[fill_content_col] =  df[check_content_col].apply(lambda x: re_RT.sub(' ',x))\n",
    "\n",
    "\n",
    "## SECOND REMOVE URLS\n",
    "# Remove urls with regex\n",
    "urls = re.compile(r\"(http[s]?://\\w*\\.\\w*/+\\w+)\")\n",
    "\n",
    "check_content_col = 'content'\n",
    "fill_content_col = 'content'\n",
    "\n",
    "# df_full['content_urls'] = df_full[check_content_col].apply(lambda x: urls.findall(x))\n",
    "df[fill_content_col] =  df[check_content_col].apply(lambda x: urls.sub(' ',x))\n",
    "\n",
    "## SAVE THIS MINIMALLY CLEANED CONTENT AS 'content_min_clean'\n",
    "df['content_min_clean'] =  df[fill_content_col]\n",
    "\n",
    "\n",
    "\n",
    "## REMOVE AND SAVE HASHTAGS, MENTIONS\n",
    "# Remove and save Hashtags\n",
    "hashtags = re.compile(r'\\#\\w*')\n",
    "\n",
    "check_content_col = 'content'\n",
    "fill_content_col = 'content'\n",
    "\n",
    "df['content_hashtags'] =  df[check_content_col].apply(lambda x: hashtags.findall(x))\n",
    "df[fill_content_col] =  df[check_content_col].apply(lambda x: hashtags.sub(' ',x))\n",
    "\n",
    "\n",
    "# Remove and save mentions (@)'s\n",
    "mentions = re.compile(r'\\@\\w*')\n",
    "\n",
    "check_content_col = 'content'\n",
    "fill_content_col = 'content'\n",
    "\n",
    "df['content_mentions'] =  df[check_content_col].apply(lambda x: mentions.findall(x))\n",
    "df[fill_content_col] =  df[check_content_col].apply(lambda x: mentions.sub(' ',x))\n",
    "\n",
    "\n",
    "# Creating content_stopped columns and then tokens_stopped column\n",
    "df['content_stopped'] = df['content'].apply(lambda x: apply_stopwords(stopwords_list,x))\n",
    "df['tokens_stopped'] = df['content_stopped'].apply(lambda x: regexp_tokenize(x,pattern))"
   ]
  },
  {
   "cell_type": "code",
   "execution_count": null,
   "metadata": {
    "colab": {},
    "colab_type": "code",
    "hidden": true,
    "id": "lKUUzr7b2zK7"
   },
   "outputs": [],
   "source": [
    "# Issue of empty entries for hashtags interfering with joining.\n",
    "def empty_lists_to_strings(x):\n",
    "    \"\"\"Takes a series and replaces any empty lists with an empty string instead.\"\"\"\n",
    "    if len(x)==0:\n",
    "        return ' '\n",
    "    else:\n",
    "        return ' '.join(x) #' '.join(tokens)\n",
    "    \n",
    "    \n",
    "# Apply empty_lists_to_strings to hashtags\n",
    "df['hashtag_strings'] = df['content_hashtags'].apply(lambda x: empty_lists_to_strings(x))\n",
    "\n",
    "# Apply empty_lists_to_strings to mentions\n",
    "df['mention_strings'] = df['content_mentions'].apply(lambda x: empty_lists_to_strings(x))"
   ]
  },
  {
   "cell_type": "markdown",
   "metadata": {
    "colab_type": "text",
    "hidden": true,
    "id": "5XmuzPuE3RVi"
   },
   "source": [
    "### Word Frequency Distributions & Bigrams"
   ]
  },
  {
   "cell_type": "code",
   "execution_count": null,
   "metadata": {
    "colab": {},
    "colab_type": "code",
    "hidden": true,
    "id": "nJp9qwlf3UOM"
   },
   "outputs": [],
   "source": [
    "# FOR TWEET WORD CONTENT\n",
    "column = 'content_stopped'\n",
    "pattern = \"([a-zA-Z]+(?:'[a-z]+)?)\"\n",
    "\n",
    "tweets_combined = df[column]\n",
    "tweets_combined = ' '.join(tweets_combined)\n",
    "tweets_tokenized = regexp_tokenize(tweets_combined, pattern)\n",
    "\n",
    "# CREATING TEXT DICT FOR FREQUENCY DISTRIBUTIONS\n",
    "TEXT = dict()\n",
    "TEXT['tokens'] = tweets_tokenized\n",
    "TEXT['text'] = tweets_combined\n",
    "\n",
    "# Frequency Distributions with NLTK FreqDist\n",
    "from nltk import FreqDist\n",
    "freq_tweets = FreqDist(TEXT['tokens'])\n",
    "with plt.style.context('seaborn-notebook'):\n",
    "    freq_tweets.plot(25)\n",
    "    "
   ]
  },
  {
   "cell_type": "code",
   "execution_count": null,
   "metadata": {
    "colab": {},
    "colab_type": "code",
    "hidden": true,
    "id": "V6TnSmLc5g5W"
   },
   "outputs": [],
   "source": [
    "# MAKE BIGRAMS\n",
    "from nltk.collocations import BigramAssocMeasures, BigramCollocationFinder, TrigramAssocMeasures, TrigramCollocationFinder\n",
    "import mod4functions_JMI as jmi\n",
    "\n",
    "bigram_measures =BigramAssocMeasures()\n",
    "\n",
    "tweet_finder = BigramCollocationFinder.from_words(TEXT['tokens'])\n",
    "tweets_scored = tweet_finder.score_ngrams(bigram_measures.raw_freq)\n",
    "\n",
    "df_1 = quick_table(tweets_scored[:25], col_names =['Bigram','Frequency'],\n",
    "                       caption='Tweet Bigrams', display_df=False)\n",
    "df_1['Bigram'] = df_1['Bigram'].apply(lambda x: ' '.join(x))\n",
    "df_1.set_index('Bigram',inplace=True)\n",
    "df_1.columms=['Frequency']\n",
    "df_1"
   ]
  },
  {
   "cell_type": "code",
   "execution_count": null,
   "metadata": {
    "colab": {},
    "colab_type": "code",
    "hidden": true,
    "id": "BbDVZ_p33aI3"
   },
   "outputs": [],
   "source": [
    "# CREATING HASHTAG DICT\n",
    "column = 'hashtag_strings'\n",
    "tag_pattern ='(#\\w*)'\n",
    "tags_combined = df[column]\n",
    "tags_combined = ' '.join(tags_combined)\n",
    "tags_tokenized = regexp_tokenize(tags_combined, tag_pattern)\n",
    "\n",
    "TAGS = dict()\n",
    "TAGS['tokens'] = tags_tokenized\n",
    "TAGS['text'] = tags_combined\n",
    "\n",
    "# Frequency Distributions with NLTK FreqDist\n",
    "from nltk import FreqDist\n",
    "freq_tags = FreqDist(TAGS['tokens'])\n",
    "with plt.style.context('seaborn-notebook'):\n",
    "    freq_tags.plot(25)"
   ]
  },
  {
   "cell_type": "code",
   "execution_count": null,
   "metadata": {
    "colab": {},
    "colab_type": "code",
    "hidden": true,
    "id": "MoENSWp53Zus"
   },
   "outputs": [],
   "source": [
    "# CREATING METNION DICT\n",
    "column = 'mention_strings'\n",
    "at_pattern ='(@\\w*)'\n",
    "ats_combined = df[column]\n",
    "ats_combined = ' '.join(ats_combined)\n",
    "ats_tokenized = regexp_tokenize(ats_combined, at_pattern)\n",
    "\n",
    "ATS = dict()\n",
    "ATS['tokens'] = ats_tokenized\n",
    "ATS['text'] = ats_combined\n",
    "\n",
    "# Frequency Distributions with NLTK FreqDist\n",
    "from nltk import FreqDist\n",
    "freq_ats = FreqDist(ATS['tokens'])\n",
    "with plt.style.context('seaborn-notebook'):\n",
    "    freq_ats.plot(25)"
   ]
  },
  {
   "cell_type": "markdown",
   "metadata": {
    "colab_type": "text",
    "hidden": true,
    "id": "zcT2d6BM34tw"
   },
   "source": [
    "### Word Clouds"
   ]
  },
  {
   "cell_type": "code",
   "execution_count": null,
   "metadata": {
    "colab": {},
    "colab_type": "code",
    "hidden": true,
    "id": "WBl4VbWA39QT"
   },
   "outputs": [],
   "source": [
    "# Run this cell to mount your Google Drive.\n",
    "from google.colab import drive\n",
    "drive.mount('/content/drive')"
   ]
  },
  {
   "cell_type": "code",
   "execution_count": null,
   "metadata": {
    "colab": {},
    "colab_type": "code",
    "hidden": true,
    "id": "byu_8zlD36ru"
   },
   "outputs": [],
   "source": [
    "# Import mask images for shaped wordclouds\n",
    "from PIL import Image\n",
    "import numpy as np\n",
    "\n",
    "mask_folder_path = '/content/drive/My Drive/Images/fig_masks/'\n",
    "## Twitter Bird masks\n",
    "mask_f_right = np.array(Image.open(mask_folder_path+'twitter1.png'))\n",
    "mask_f_left = np.array(Image.open(mask_folder_path+'twitter1flip.png'))\n",
    "\n",
    "# Hashtag and mentions mask \n",
    "mask_at = np.array(Image.open(mask_folder_path+'Hashtags and Ats Masks-04.jpg'))\n",
    "mask_hashtag = np.array(Image.open(mask_folder_path+'Hashtags and Ats Masks-03.jpg'))"
   ]
  },
  {
   "cell_type": "code",
   "execution_count": null,
   "metadata": {
    "colab": {},
    "colab_type": "code",
    "hidden": true,
    "id": "PrwgjEAD5CH6"
   },
   "outputs": [],
   "source": [
    "# Define wordcloud plotting function\n",
    "def plot_fit_cloud(troll_cloud,label1='Most Common Words',figsize=(4,4)):\n",
    "    fig,ax = plt.subplots(nrows=1,ncols=1,figsize=figsize)\n",
    "\n",
    "    ax.imshow(troll_cloud, interpolation='gaussian')\n",
    "    # ax[0].set_aspect(1.5)\n",
    "    ax.axis(\"off\")\n",
    "    ax.set_title(label1, fontsize=20)\n",
    "    return fig, ax"
   ]
  },
  {
   "cell_type": "markdown",
   "metadata": {
    "colab_type": "text",
    "hidden": true,
    "id": "moHVtJZE5Ud5"
   },
   "source": [
    "#### Creating multiple kinds of wordclouds\n",
    "- tweet words, tweet bigrams\n",
    "- #'s, @'s\n"
   ]
  },
  {
   "cell_type": "code",
   "execution_count": null,
   "metadata": {
    "colab": {},
    "colab_type": "code",
    "hidden": true,
    "id": "F0iWyiWb5M8L"
   },
   "outputs": [],
   "source": [
    "# Instantiazting wordcloud and defining properties\n",
    "from wordcloud import WordCloud\n",
    "\n",
    "max_font_size=100\n",
    "width=300\n",
    "height=300\n",
    "max_words=100\n",
    "background_color='white'\n",
    "cloud_stopwords=[]\n",
    "# collocations=False\n",
    "\n",
    "wordcloud = WordCloud(max_font_size=max_font_size, width=width, height=height, max_words=max_words, background_color=background_color,\n",
    "                        stopwords=cloud_stopwords,collocations=False,\n",
    "                       mask=mask_f_right, contour_color='cornflowerblue', contour_width=2)\n",
    "\n",
    "wordcloud.generate(TEXT['text'])\n",
    "fig,ax = plot_fit_cloud(wordcloud)"
   ]
  },
  {
   "cell_type": "code",
   "execution_count": null,
   "metadata": {
    "colab": {},
    "colab_type": "code",
    "hidden": true,
    "id": "xssXsAiW5ZOf"
   },
   "outputs": [],
   "source": [
    "# Plotting bigram wordcloud\n",
    "wordcloud_bigram= WordCloud(max_font_size=max_font_size, width=width, height=height, max_words=max_words,\n",
    "                            background_color=background_color, collocations=True,normalize_plurals=False,\n",
    "                            stopwords=[], mask=mask_f_left, contour_color='cornflowerblue', contour_width=2)\n",
    "wordcloud_bigram.generate(TEXT['text'])\n",
    "fig,ax = plot_fit_cloud(wordcloud_bigram, 'Most Common Bigrams')"
   ]
  },
  {
   "cell_type": "code",
   "execution_count": null,
   "metadata": {
    "colab": {},
    "colab_type": "code",
    "hidden": true,
    "id": "leIwmAXh5bpr"
   },
   "outputs": [],
   "source": [
    "# Combine and Tokenize hashtags\n",
    "tags = df['hashtag_strings']\n",
    "tags = ' '.join(tags)\n",
    "tags_tokens = regexp_tokenize(tags,'(#\\w*)')\n",
    "\n",
    "\n",
    "# WordClouds for Hashtags\n",
    "max_font_size=300\n",
    "width=300\n",
    "height=300\n",
    "max_words=100\n",
    "background_color='white'\n",
    "cloud_stopwords=[]\n",
    "collocations=False\n",
    "regexp=r'(#\\w*)'\n",
    "\n",
    "\n",
    "tag_cloud = WordCloud(max_font_size=max_font_size, width=width, height=height,\n",
    "                            max_words=max_words, background_color=background_color,\n",
    "                        stopwords=cloud_stopwords,collocations=collocations, regexp=regexp,\n",
    "                            mask=mask_hashtag, contour_color='black', contour_width=2)#, include_numbers=True)\n",
    "\n",
    "\n",
    "tag_cloud.generate(' '.join(tags_tokens))\n",
    "plot_fit_cloud(tag_cloud,'Most Common Hashtags',figsize=(5,5))"
   ]
  },
  {
   "cell_type": "code",
   "execution_count": null,
   "metadata": {
    "colab": {},
    "colab_type": "code",
    "hidden": true,
    "id": "eBzbqDQ75cy1"
   },
   "outputs": [],
   "source": [
    "# Combine and Tokenize hashtags\n",
    "mentions = df['mention_strings']\n",
    "mentions = ' '.join(mentions)\n",
    "mentions_tokens = regexp_tokenize(mentions,'(@\\w*)')\n",
    "\n",
    "\n",
    "# WordClouds for Mentions\n",
    "max_font_size=300\n",
    "width=500\n",
    "height=500\n",
    "max_words=200\n",
    "background_color='white'\n",
    "cloud_stopwords=[]\n",
    "collocations=False\n",
    "regexp=r'(@\\w*)'\n",
    "\n",
    "mentions_cloud = WordCloud(\n",
    "    \n",
    "    max_font_size=max_font_size, width=width, height=height,\n",
    "    \n",
    "    max_words=max_words, background_color=background_color,\n",
    "    \n",
    "    stopwords=cloud_stopwords,collocations=collocations, regexp=regexp,\n",
    "    \n",
    "    mask=mask_at, contour_color='black', contour_width=2\n",
    ")#, include_numbers=True)\n",
    "\n",
    "\n",
    "mentions_cloud.generate(' '.join(mentions_tokens))\n",
    "\n",
    "plot_fit_cloud(mentions_cloud,\"Most Common @'s\",figsize=(3,3))"
   ]
  },
  {
   "cell_type": "markdown",
   "metadata": {
    "colab_type": "text",
    "hidden": true,
    "id": "Tnj6xKrr3ffM"
   },
   "source": [
    "### Additional Tweet Processing and Feature Extraction"
   ]
  },
  {
   "cell_type": "code",
   "execution_count": null,
   "metadata": {
    "colab": {},
    "colab_type": "code",
    "hidden": true,
    "id": "XVSPinbb2fBg"
   },
   "outputs": [],
   "source": [
    "def case_ratio(msg):\n",
    "    \"\"\"Accepts a twitter message (or used with .apply(lambda x:)).\n",
    "    Returns the ratio of capitalized characters out of the total number of characters.\"\"\"\n",
    "    import numpy as np\n",
    "    msg_length = len(msg)\n",
    "    test_upper = [1 for x in msg if x.isupper()]\n",
    "    test_lower = [1 for x in msg if x.islower()]\n",
    "    test_ratio = np.round(sum(test_upper)/msg_length,5)\n",
    "    return test_ratio\n",
    "\n",
    "# df['case_ratio'] = df['content'].apply(lambda x: case_ratio(x))\n",
    "# df.sort_values('case_ratio',ascending=False).head()"
   ]
  },
  {
   "cell_type": "markdown",
   "metadata": {
    "colab_type": "text",
    "hidden": true,
    "id": "-IvNp_Ov3mla"
   },
   "source": [
    "### Sentiment Analysis"
   ]
  },
  {
   "cell_type": "code",
   "execution_count": null,
   "metadata": {
    "colab": {},
    "colab_type": "code",
    "hidden": true,
    "id": "wkngD0CD51i_"
   },
   "outputs": [],
   "source": [
    "# Write a function to extract the group scores from the dataframe\n",
    "def get_group_sentiment_scores(df, score_col='sentiment_scores'):\n",
    "    import pandas as pd\n",
    "    series_df = df[score_col]\n",
    "    series_neg = series_df.apply(lambda x: x['neg'])\n",
    "    series_pos = series_df.apply(lambda x: x['pos'])\n",
    "    series_neu = series_df.apply(lambda x: x['neu'])\n",
    "    \n",
    "    series_neg.name='neg'\n",
    "    series_pos.name='pos'\n",
    "    series_neu.name='neu'\n",
    "    \n",
    "    df = pd.concat([df,series_neg,series_neu,series_pos],axis=1)\n",
    "    return df"
   ]
  },
  {
   "cell_type": "code",
   "execution_count": null,
   "metadata": {
    "colab": {},
    "colab_type": "code",
    "hidden": true,
    "id": "9_usSqQn3pVw"
   },
   "outputs": [],
   "source": [
    "import bs_ds as bs\n",
    "import mod4functions_JMI as jmi\n",
    "# from bs_ds.imports import *\n",
    "\n",
    "from nltk.sentiment.vader import SentimentIntensityAnalyzer\n",
    "sid = SentimentIntensityAnalyzer()\n",
    "\n",
    "source_column='content_min_clean'\n",
    "df['sentiment_scores'] = df[source_column].apply(lambda x: sid.polarity_scores(x))\n",
    "df['compound_score'] = df['sentiment_scores'].apply(lambda dict: dict['compound'])\n",
    "df['sentiment_class'] = df['compound_score'].apply(lambda score: 'pos' if score >=0 else 'neg')\n",
    "\n",
    "\n",
    "# Separate Scores into separate columns in df\n",
    "df = get_group_sentiment_scores(df)"
   ]
  },
  {
   "cell_type": "code",
   "execution_count": null,
   "metadata": {
    "colab": {},
    "colab_type": "code",
    "hidden": true,
    "id": "uNFTfMnI6Fy4"
   },
   "outputs": [],
   "source": [
    "\n",
    "print(\"RESULTS OF SENTIMENT ANALYSIS BINARY CLASSIFICATION:\\n\",'-'*60)\n",
    "# Normalized % of troll sentiment classes\n",
    "plot_sent_class = df['sentiment_class'].value_counts()\n",
    "plot_sent_class_norm = plot_sent_class/(sum(plot_sent_class))\n",
    "print('\\tNormalized Troll Classes:\\n',plot_sent_class_norm)\n",
    "\n",
    "\n",
    "with plt.style.context('seaborn-notebook'):\n",
    "    boxplot = df_sents.boxplot(column=['neg','neu','pos'],notch=True,figsize=(6,4))\n",
    "    boxplot.set_xticklabels(['Negative','Neutral','Positive']);\n",
    "    boxplot.set_title('Sentiment Scores By Word Type')\n",
    "    boxplot.set_ylabel('Sentiment Score')"
   ]
  },
  {
   "cell_type": "markdown",
   "metadata": {
    "colab_type": "text",
    "id": "3JKCfxH48q6E"
   },
   "source": [
    "# COMBINING TWITTER AMD STOCK MARKET DATAFRAMES"
   ]
  },
  {
   "cell_type": "code",
   "execution_count": null,
   "metadata": {
    "colab": {},
    "colab_type": "code",
    "id": "HNGo3NiA9Lvt"
   },
   "outputs": [],
   "source": [
    "try: twitter_df\n",
    "except NameError: twitter_df = None\n",
    "    \n",
    "if twitter_df is None:\n",
    "    print('loading twitter_df')\n",
    "    twitter_df = pd.read_csv('data/trump_twitter_archive_df.csv', encoding='utf-8',index_col='date',parse_dates=True)\n",
    "    twitter_df.drop('Unnamed: 0',axis=1,inplace=True)\n",
    "\n",
    "    # Fill in missing values before merging with stock data\n",
    "    twitter_df.fillna('', inplace=True)\n",
    "    twitter_df.sort_index(ascending=True, inplace=True)\n",
    "\n",
    "    # Check header and daterange of index\n",
    "    display(twitter_df.head(2))\n",
    "    twitter_df.index[[0,-1]]\n",
    "else:\n",
    "    print('twitter_df already exists.')"
   ]
  },
  {
   "cell_type": "markdown",
   "metadata": {},
   "source": [
    "### WRITING FUNCTION TO BIN TWEETS BY HOUR PRE-NLP (and add Freq column)"
   ]
  },
  {
   "cell_type": "code",
   "execution_count": null,
   "metadata": {},
   "outputs": [],
   "source": [
    "CBH = custom_BH_freq()\n",
    "CBH"
   ]
  },
  {
   "cell_type": "code",
   "execution_count": null,
   "metadata": {},
   "outputs": [],
   "source": [
    "twitter_df.index"
   ]
  },
  {
   "cell_type": "code",
   "execution_count": null,
   "metadata": {},
   "outputs": [],
   "source": [
    "test_twitter_df = twitter_df['2019-05-01':'2019-06-01']\n",
    "test_twitter_df.index"
   ]
  },
  {
   "cell_type": "code",
   "execution_count": null,
   "metadata": {},
   "outputs": [],
   "source": [
    "# thoughts on how to bin twitter data\n",
    "\n",
    "df=pd.DataFrame()\n",
    "df['time_index'] = test_twitter_df.index.to_list()\n",
    "df.reset_index(inplace=True)\n",
    "\n",
    "content = test_twitter_df['content_stopped'].values\n",
    "df['content_stopped'] = content#twitter_df['content_stopped']\n",
    "\n",
    "df.reset_index(inplace=True)\n",
    "df.drop(['level_0','index'], inplace=True, axis=1)\n",
    "df.head()\n",
    "print(df.dtypes)\n",
    "\n",
    "# df.reindex('time_index')\n",
    "# df=df.asfreq('S')\n",
    "# df.head()"
   ]
  },
  {
   "cell_type": "code",
   "execution_count": null,
   "metadata": {},
   "outputs": [],
   "source": [
    "df['time_index'] = pd.to_datetime(test_twitter_df.index,unit='S')#freq='S')\n",
    "df['time_index']"
   ]
  },
  {
   "cell_type": "code",
   "execution_count": null,
   "metadata": {},
   "outputs": [],
   "source": [
    "df_sec = set_timeindex_freq(test_twitter_df,freq='S')"
   ]
  },
  {
   "cell_type": "code",
   "execution_count": null,
   "metadata": {},
   "outputs": [],
   "source": [
    "# index_to_bin = df.index\n",
    "# index_to_bin"
   ]
  },
  {
   "cell_type": "code",
   "execution_count": null,
   "metadata": {},
   "outputs": [],
   "source": [
    "df.head()"
   ]
  },
  {
   "cell_type": "markdown",
   "metadata": {},
   "source": [
    "### USING ROLLBACK - PANDAS GUIDE\n",
    "- from the https://pandas.pydata.org/pandas-docs/stable/user_guide/timeseries.html#dateoffset-objects\n",
    "\n",
    "```python\n",
    "In [148]: ts = pd.Timestamp('2018-01-06 00:00:00')\n",
    "\n",
    "In [149]: ts.day_name()\n",
    "Out[149]: 'Saturday'\n",
    "\n",
    "# BusinessHour's valid offset dates are Monday through Friday\n",
    "In [150]: offset = pd.offsets.BusinessHour(start='09:00')\n",
    "\n",
    "# Bring the date to the closest offset date (Monday)\n",
    "In [151]: offset.rollforward(ts)\n",
    "Out[151]: Timestamp('2018-01-08 09:00:00')\n",
    "\n",
    "# Date is brought to the closest offset date first and then the hour is added\n",
    "In [152]: ts + offset\n",
    "Out[152]: Timestamp('2018-01-08 10:00:00')\n",
    "```"
   ]
  },
  {
   "cell_type": "code",
   "execution_count": null,
   "metadata": {},
   "outputs": [],
   "source": [
    "CBH_off = pd.offsets.CustomBusinessHour(start='9:30', end='4:30')\n",
    "CBH_off"
   ]
  },
  {
   "cell_type": "code",
   "execution_count": null,
   "metadata": {},
   "outputs": [],
   "source": [
    "df.loc[df.index.duplicated()]\n",
    "df.index"
   ]
  },
  {
   "cell_type": "code",
   "execution_count": null,
   "metadata": {},
   "outputs": [],
   "source": [
    "# index_to_bin = df.index #.round('T')\n",
    "\n",
    "df_sec = df.asfreq('S')\n",
    "index_to_bin = df_sec.index\n",
    "index_to_bin"
   ]
  },
  {
   "cell_type": "code",
   "execution_count": null,
   "metadata": {},
   "outputs": [],
   "source": [
    "CBH_off.rollforward(index_to_bin)"
   ]
  },
  {
   "cell_type": "code",
   "execution_count": null,
   "metadata": {},
   "outputs": [],
   "source": []
  },
  {
   "cell_type": "code",
   "execution_count": null,
   "metadata": {},
   "outputs": [],
   "source": [
    "index_to_bin = df.index #.round('T')\n",
    "df['index_to_bin'] = index_to_bin #.index.round('T')\n",
    "\n",
    "CBH_index = index_to_bin.as\n",
    "print(df['index_to_bin'].dtypes)\n",
    "# CBH_index = df['index_to_bin'].asfreq(CBH)\n",
    "df.head()"
   ]
  },
  {
   "cell_type": "code",
   "execution_count": null,
   "metadata": {},
   "outputs": [],
   "source": [
    "display(df.head())\n",
    "df\n"
   ]
  },
  {
   "cell_type": "code",
   "execution_count": null,
   "metadata": {},
   "outputs": [],
   "source": [
    "# twitter_df['group_bin']  = twitter_df.index_to_bin.round('H')\n",
    "# groups = twitter_df['group_bin'].unique().sort_values()"
   ]
  },
  {
   "cell_type": "code",
   "execution_count": null,
   "metadata": {},
   "outputs": [],
   "source": [
    "# twitter_df['index_to_bin'] = twitter_df.asfreq(CBH).index\n",
    "# twitter_df['group_bin']  = twitter_df.index_to_bin.round('H')\n",
    "# groups = twitter_df['group_bin'].unique().sort_values()"
   ]
  },
  {
   "cell_type": "code",
   "execution_count": null,
   "metadata": {},
   "outputs": [],
   "source": [
    "# Make a new_df for resulting output\n",
    "new_df = pd.DataFrame()\n",
    "new_df['timebins'] = groups #or make a set\n",
    "\n",
    "for group in groups:"
   ]
  },
  {
   "cell_type": "code",
   "execution_count": null,
   "metadata": {
    "colab": {},
    "colab_type": "code",
    "id": "5PTj-HIz8i1t"
   },
   "outputs": [],
   "source": [
    "# Round inde to the nearest minute\n",
    "twitter_df.index = twitter_df.index.round('T')\n",
    "\n",
    "# Make datetime index a periodindex\n",
    "twitter_df = twitter_df.to_period('T')\n",
    "\n",
    "display(twitter_df.head(2))\n",
    "twitter_df.index[[0,-1]]\n",
    "\n",
    "\n",
    "# Select only the stock periods that have corresponding tweets (post-inaugauration)\n",
    "stock_periods=stock_periods['2017-01-20':]\n",
    "\n",
    "# Confirm the endpoints of the stocks and tweets before combining\n",
    "stock_periods.index[[0,-1]], twitter_df.index[[0,-1]]\n",
    "\n",
    "# Make stock_periods a dataframe with 'price' column title\n",
    "stock_periods_df = pd.DataFrame(stock_periods,columns=['price'], copy=True)\n",
    "\n",
    "display(stock_periods_df.head(2))\n",
    "display(twitter_df.head(2))"
   ]
  },
  {
   "cell_type": "code",
   "execution_count": null,
   "metadata": {
    "colab": {},
    "colab_type": "code",
    "id": "WPwGiw2m8w5t"
   },
   "outputs": [],
   "source": [
    "df = twitter_df.merge(stock_periods_df, how='outer', on='date', sort=True)\n",
    "df[['content','price']].isna().sum()"
   ]
  },
  {
   "cell_type": "code",
   "execution_count": null,
   "metadata": {
    "colab": {},
    "colab_type": "code",
    "id": "k8EWRd5O8-kh"
   },
   "outputs": [],
   "source": [
    "# Apply forward filling for price column to give all tweets a S&P price value\n",
    "df['price'] = df['price'].fillna(method='ffill',axis=0)\n",
    "df.head()"
   ]
  },
  {
   "cell_type": "markdown",
   "metadata": {
    "colab_type": "text",
    "id": "6Z5Ac2I58QXe"
   },
   "source": [
    "# Processed Twitter Data "
   ]
  },
  {
   "cell_type": "code",
   "execution_count": null,
   "metadata": {
    "colab": {},
    "colab_type": "code",
    "id": "ltdTPiv18UiQ"
   },
   "outputs": [],
   "source": [
    "twitter_df = pd.read_csv(folder_path+'data/trump_twitter_archive_df.csv', encoding='utf-8',index_col='date',parse_dates=True)\n",
    "twitter_df.drop('Unnamed: 0',axis=1,inplace=True)\n",
    "\n",
    "# Fill in missing values before merging with stock data\n",
    "twitter_df.fillna('', inplace=True)\n",
    "twitter_df.sort_index(ascending=True, inplace=True)\n",
    "\n",
    "# Check header and daterange of index\n",
    "display(twitter_df.head(2))\n",
    "twitter_df.index[[0,-1]]"
   ]
  }
 ],
 "metadata": {
  "colab": {
   "collapsed_sections": [
    "xNf73gC9daS-",
    "eE3D-Avztybj"
   ],
   "name": "Capstone Project Outline + Analysis.ipynb",
   "provenance": [],
   "toc_visible": true,
   "version": "0.3.2"
  },
  "kernelspec": {
   "display_name": "learn-env-ext",
   "language": "python",
   "name": "learn-env-ext"
  },
  "language_info": {
   "codemirror_mode": {
    "name": "ipython",
    "version": 3
   },
   "file_extension": ".py",
   "mimetype": "text/x-python",
   "name": "python",
   "nbconvert_exporter": "python",
   "pygments_lexer": "ipython3",
   "version": "3.6.8"
  },
  "toc": {
   "base_numbering": 1,
   "nav_menu": {},
   "number_sections": false,
   "sideBar": true,
   "skip_h1_title": false,
   "title_cell": "Table of Contents",
   "title_sidebar": "Contents",
   "toc_cell": false,
   "toc_position": {
    "height": "calc(100% - 180px)",
    "left": "10px",
    "top": "150px",
    "width": "307.2px"
   },
   "toc_section_display": true,
   "toc_window_display": true
  }
 },
 "nbformat": 4,
 "nbformat_minor": 1
}
